{
 "metadata": {
  "name": "makePreprocMakefile"
 },
 "nbformat": 3,
 "nbformat_minor": 0,
 "worksheets": [
  {
   "cells": [
    {
     "cell_type": "heading",
     "level": 1,
     "metadata": {},
     "source": [
      "Lamprey mRNAseq Preprocessing: Makefile and PBS script generation"
     ]
    },
    {
     "cell_type": "code",
     "collapsed": false,
     "input": [
      "import os"
     ],
     "language": "python",
     "metadata": {},
     "outputs": [],
     "prompt_number": 13
    },
    {
     "cell_type": "code",
     "collapsed": false,
     "input": [
      "reads = ['/w/hpcc/lamprey/reads/all/614GMAAXX_1_1_pf.qc.fq.gz', '/w/hpcc/lamprey/reads/all/614GMAAXX_2_1_pf.qc.fq.gz', '/w/hpcc/lamprey/reads/all/614GMAAXX_3_1_pf.qc.fq.gz', '/w/hpcc/lamprey/reads/all/614GMAAXX_4_1_pf.qc.fq.gz', '/w/hpcc/lamprey/reads/all/614GMAAXX_6_1_pf.qc.fq.gz', '/w/hpcc/lamprey/reads/all/614GMAAXX_7_1_pf.qc.fq.gz', '/w/hpcc/lamprey/reads/all/614GMAAXX_8_1_pf.qc.fq.gz', '/w/hpcc/lamprey/reads/all/AB057JABXX_s_7_pe.trim.fq.gz', '/w/hpcc/lamprey/reads/all/AI.fq.gz', '/w/hpcc/lamprey/reads/all/AK.fq.gz', '/w/hpcc/lamprey/reads/all/BB0582ABXX_s_3_pe.trim.fq.gz', '/w/hpcc/lamprey/reads/all/BB0582ABXX_s_4_pe.trim.fq.gz', '/w/hpcc/lamprey/reads/all/BB0582ABXX_s_5_pe.trim.fq.gz', '/w/hpcc/lamprey/reads/all/BB0582ABXX_s_6_pe.trim.fq.gz', '/w/hpcc/lamprey/reads/all/BB0582ABXX_s_7_pe.trim.fq.gz', '/w/hpcc/lamprey/reads/all/BB0582ABXX_s_8_pe.trim.fq.gz', '/w/hpcc/lamprey/reads/all/brain_paired.qc.fq.gz', '/w/hpcc/lamprey/reads/all/FW1-Gill.fq.gz', '/w/hpcc/lamprey/reads/all/FW1-Intestine.fq.gz', '/w/hpcc/lamprey/reads/all/FW1-Kidney.fq.gz', '/w/hpcc/lamprey/reads/all/G81-a.fq.gz', '/w/hpcc/lamprey/reads/all/G81-b.fq.gz', '/w/hpcc/lamprey/reads/all/G82-a.fq.gz', '/w/hpcc/lamprey/reads/all/G82-b.fq.gz', '/w/hpcc/lamprey/reads/all/G83-a.fq.gz', '/w/hpcc/lamprey/reads/all/G83-b.fq.gz', '/w/hpcc/lamprey/reads/all/Gill.fq.gz', '/w/hpcc/lamprey/reads/all/JV1_liver.fq.gz', '/w/hpcc/lamprey/reads/all/JVa_liver.fq.gz', '/w/hpcc/lamprey/reads/all/JVb_liver.fq.gz', '/w/hpcc/lamprey/reads/all/JV_intest.fq.gz', '/w/hpcc/lamprey/reads/all/Kidney.fq.gz', '/w/hpcc/lamprey/reads/all/L81-a.fq.gz', '/w/hpcc/lamprey/reads/all/L81-b.fq.gz', '/w/hpcc/lamprey/reads/all/L82-a.fq.gz', '/w/hpcc/lamprey/reads/all/L82-b.fq.gz', '/w/hpcc/lamprey/reads/all/L83-1-a.fq.gz', '/w/hpcc/lamprey/reads/all/L83-1-b.fq.gz', '/w/hpcc/lamprey/reads/all/L83-a.fq.gz', '/w/hpcc/lamprey/reads/all/L83-b.fq.gz', '/w/hpcc/lamprey/reads/all/LI.fq.gz', '/w/hpcc/lamprey/reads/all/Lips.fq.gz', '/w/hpcc/lamprey/reads/all/LK.fq.gz', '/w/hpcc/lamprey/reads/all/M0_liver.fq.gz', '/w/hpcc/lamprey/reads/all/M2_liver.fq.gz', '/w/hpcc/lamprey/reads/all/M5_liver.fq.gz', '/w/hpcc/lamprey/reads/all/Monocytes.fq.gz', '/w/hpcc/lamprey/reads/all/mssm_single_s1.trim.fq.gz', '/w/hpcc/lamprey/reads/all/mssm_single_s2.trim.fq.gz', '/w/hpcc/lamprey/reads/all/mssm_single_s3.trim.fq.gz', '/w/hpcc/lamprey/reads/all/mssm_single_s5.trim.fq.gz', '/w/hpcc/lamprey/reads/all/mssm_single_s6.trim.fq.gz', '/w/hpcc/lamprey/reads/all/mssm_single_s7.trim.fq.gz', '/w/hpcc/lamprey/reads/all/Muscle.fq.gz', '/w/hpcc/lamprey/reads/all/Neutrophils.fq.gz', '/w/hpcc/lamprey/reads/all/OFHS.fq.gz', '/w/hpcc/lamprey/reads/all/POF-eye.fq.gz', '/w/hpcc/lamprey/reads/all/POF-ts.fq.gz', '/w/hpcc/lamprey/reads/all/PSMGill.fq.gz', '/w/hpcc/lamprey/reads/all/Rope.fq.gz', '/w/hpcc/lamprey/reads/all/SMGill.fq.gz', '/w/hpcc/lamprey/reads/all/SMHS.fq.gz', '/w/hpcc/lamprey/reads/all/SN.fq.gz', '/w/hpcc/lamprey/reads/all/SPDI.fq.gz', '/w/hpcc/lamprey/reads/all/spinal_cord_paired.qc.fq.gz', '/w/hpcc/lamprey/reads/all/SPK.fq.gz', '/w/hpcc/lamprey/reads/all/SPPI.fq.gz', '/w/hpcc/lamprey/reads/all/Stg-1-Intestine.fq.gz', '/w/hpcc/lamprey/reads/all/Stg-1-Kidney.fq.gz', '/w/hpcc/lamprey/reads/all/Stg-2-Intestine.fq.gz', '/w/hpcc/lamprey/reads/all/Stg-2-Kidney.fq.gz', '/w/hpcc/lamprey/reads/all/Stg-3-Intestine.fq.gz', '/w/hpcc/lamprey/reads/all/Stg-3-Kidney.fq.gz', '/w/hpcc/lamprey/reads/all/Stg-4-Intestine.fq.gz', '/w/hpcc/lamprey/reads/all/Stg-4-Kidney.fq.gz', '/w/hpcc/lamprey/reads/all/Stg-5-Intestine.fq.gz', '/w/hpcc/lamprey/reads/all/Stg-5-Kidney.fq.gz', '/w/hpcc/lamprey/reads/all/Stg-6-Intestine.fq.gz', '/w/hpcc/lamprey/reads/all/Stg-6-Kidney.fq.gz', '/w/hpcc/lamprey/reads/all/Stg-7-Intestine.fq.gz', '/w/hpcc/lamprey/reads/all/Stg-7-Kidney.fq.gz', '/w/hpcc/lamprey/reads/all/SW2-Gill.fq.gz', '/w/hpcc/lamprey/reads/all/SW2-Intestine-a.fq.gz', '/w/hpcc/lamprey/reads/all/SW2-Intestine-b.fq.gz', '/w/hpcc/lamprey/reads/all/SW2-Kidney.fq.gz']"
     ],
     "language": "python",
     "metadata": {},
     "outputs": [],
     "prompt_number": 14
    },
    {
     "cell_type": "raw",
     "metadata": {},
     "source": [
      "for readfile in reads:\n",
      "    here = os.path.basename(readfile)\n",
      "    ! gunzip -c {readfile} | head -n 1000 | gzip > {here}"
     ]
    },
    {
     "cell_type": "code",
     "collapsed": false,
     "input": [
      "#reads = !ls *.head.gz"
     ],
     "language": "python",
     "metadata": {},
     "outputs": [],
     "prompt_number": 15
    },
    {
     "cell_type": "code",
     "collapsed": false,
     "input": [
      "src_dir = '/mnt/scratch/welcherc/lamprey/dnaseq'"
     ],
     "language": "python",
     "metadata": {},
     "outputs": [],
     "prompt_number": 16
    },
    {
     "cell_type": "code",
     "collapsed": false,
     "input": [
      "print reads"
     ],
     "language": "python",
     "metadata": {},
     "outputs": [
      {
       "output_type": "stream",
       "stream": "stdout",
       "text": [
        "['/w/hpcc/lamprey/reads/all/614GMAAXX_1_1_pf.qc.fq.gz', '/w/hpcc/lamprey/reads/all/614GMAAXX_2_1_pf.qc.fq.gz', '/w/hpcc/lamprey/reads/all/614GMAAXX_3_1_pf.qc.fq.gz', '/w/hpcc/lamprey/reads/all/614GMAAXX_4_1_pf.qc.fq.gz', '/w/hpcc/lamprey/reads/all/614GMAAXX_6_1_pf.qc.fq.gz', '/w/hpcc/lamprey/reads/all/614GMAAXX_7_1_pf.qc.fq.gz', '/w/hpcc/lamprey/reads/all/614GMAAXX_8_1_pf.qc.fq.gz', '/w/hpcc/lamprey/reads/all/AB057JABXX_s_7_pe.trim.fq.gz', '/w/hpcc/lamprey/reads/all/AI.fq.gz', '/w/hpcc/lamprey/reads/all/AK.fq.gz', '/w/hpcc/lamprey/reads/all/BB0582ABXX_s_3_pe.trim.fq.gz', '/w/hpcc/lamprey/reads/all/BB0582ABXX_s_4_pe.trim.fq.gz', '/w/hpcc/lamprey/reads/all/BB0582ABXX_s_5_pe.trim.fq.gz', '/w/hpcc/lamprey/reads/all/BB0582ABXX_s_6_pe.trim.fq.gz', '/w/hpcc/lamprey/reads/all/BB0582ABXX_s_7_pe.trim.fq.gz', '/w/hpcc/lamprey/reads/all/BB0582ABXX_s_8_pe.trim.fq.gz', '/w/hpcc/lamprey/reads/all/brain_paired.qc.fq.gz', '/w/hpcc/lamprey/reads/all/FW1-Gill.fq.gz', '/w/hpcc/lamprey/reads/all/FW1-Intestine.fq.gz', '/w/hpcc/lamprey/reads/all/FW1-Kidney.fq.gz', '/w/hpcc/lamprey/reads/all/G81-a.fq.gz', '/w/hpcc/lamprey/reads/all/G81-b.fq.gz', '/w/hpcc/lamprey/reads/all/G82-a.fq.gz', '/w/hpcc/lamprey/reads/all/G82-b.fq.gz', '/w/hpcc/lamprey/reads/all/G83-a.fq.gz', '/w/hpcc/lamprey/reads/all/G83-b.fq.gz', '/w/hpcc/lamprey/reads/all/Gill.fq.gz', '/w/hpcc/lamprey/reads/all/JV1_liver.fq.gz', '/w/hpcc/lamprey/reads/all/JVa_liver.fq.gz', '/w/hpcc/lamprey/reads/all/JVb_liver.fq.gz', '/w/hpcc/lamprey/reads/all/JV_intest.fq.gz', '/w/hpcc/lamprey/reads/all/Kidney.fq.gz', '/w/hpcc/lamprey/reads/all/L81-a.fq.gz', '/w/hpcc/lamprey/reads/all/L81-b.fq.gz', '/w/hpcc/lamprey/reads/all/L82-a.fq.gz', '/w/hpcc/lamprey/reads/all/L82-b.fq.gz', '/w/hpcc/lamprey/reads/all/L83-1-a.fq.gz', '/w/hpcc/lamprey/reads/all/L83-1-b.fq.gz', '/w/hpcc/lamprey/reads/all/L83-a.fq.gz', '/w/hpcc/lamprey/reads/all/L83-b.fq.gz', '/w/hpcc/lamprey/reads/all/LI.fq.gz', '/w/hpcc/lamprey/reads/all/Lips.fq.gz', '/w/hpcc/lamprey/reads/all/LK.fq.gz', '/w/hpcc/lamprey/reads/all/M0_liver.fq.gz', '/w/hpcc/lamprey/reads/all/M2_liver.fq.gz', '/w/hpcc/lamprey/reads/all/M5_liver.fq.gz', '/w/hpcc/lamprey/reads/all/Monocytes.fq.gz', '/w/hpcc/lamprey/reads/all/mssm_single_s1.trim.fq.gz', '/w/hpcc/lamprey/reads/all/mssm_single_s2.trim.fq.gz', '/w/hpcc/lamprey/reads/all/mssm_single_s3.trim.fq.gz', '/w/hpcc/lamprey/reads/all/mssm_single_s5.trim.fq.gz', '/w/hpcc/lamprey/reads/all/mssm_single_s6.trim.fq.gz', '/w/hpcc/lamprey/reads/all/mssm_single_s7.trim.fq.gz', '/w/hpcc/lamprey/reads/all/Muscle.fq.gz', '/w/hpcc/lamprey/reads/all/Neutrophils.fq.gz', '/w/hpcc/lamprey/reads/all/OFHS.fq.gz', '/w/hpcc/lamprey/reads/all/POF-eye.fq.gz', '/w/hpcc/lamprey/reads/all/POF-ts.fq.gz', '/w/hpcc/lamprey/reads/all/PSMGill.fq.gz', '/w/hpcc/lamprey/reads/all/Rope.fq.gz', '/w/hpcc/lamprey/reads/all/SMGill.fq.gz', '/w/hpcc/lamprey/reads/all/SMHS.fq.gz', '/w/hpcc/lamprey/reads/all/SN.fq.gz', '/w/hpcc/lamprey/reads/all/SPDI.fq.gz', '/w/hpcc/lamprey/reads/all/spinal_cord_paired.qc.fq.gz', '/w/hpcc/lamprey/reads/all/SPK.fq.gz', '/w/hpcc/lamprey/reads/all/SPPI.fq.gz', '/w/hpcc/lamprey/reads/all/Stg-1-Intestine.fq.gz', '/w/hpcc/lamprey/reads/all/Stg-1-Kidney.fq.gz', '/w/hpcc/lamprey/reads/all/Stg-2-Intestine.fq.gz', '/w/hpcc/lamprey/reads/all/Stg-2-Kidney.fq.gz', '/w/hpcc/lamprey/reads/all/Stg-3-Intestine.fq.gz', '/w/hpcc/lamprey/reads/all/Stg-3-Kidney.fq.gz', '/w/hpcc/lamprey/reads/all/Stg-4-Intestine.fq.gz', '/w/hpcc/lamprey/reads/all/Stg-4-Kidney.fq.gz', '/w/hpcc/lamprey/reads/all/Stg-5-Intestine.fq.gz', '/w/hpcc/lamprey/reads/all/Stg-5-Kidney.fq.gz', '/w/hpcc/lamprey/reads/all/Stg-6-Intestine.fq.gz', '/w/hpcc/lamprey/reads/all/Stg-6-Kidney.fq.gz', '/w/hpcc/lamprey/reads/all/Stg-7-Intestine.fq.gz', '/w/hpcc/lamprey/reads/all/Stg-7-Kidney.fq.gz', '/w/hpcc/lamprey/reads/all/SW2-Gill.fq.gz', '/w/hpcc/lamprey/reads/all/SW2-Intestine-a.fq.gz', '/w/hpcc/lamprey/reads/all/SW2-Intestine-b.fq.gz', '/w/hpcc/lamprey/reads/all/SW2-Kidney.fq.gz']\n"
       ]
      }
     ],
     "prompt_number": 17
    },
    {
     "cell_type": "code",
     "collapsed": false,
     "input": [
      "khmerpath='/w/khmer'\n",
      "prj='lamp4'\n",
      "\n",
      "includes = '''\n",
      "KHMER={khmerpath}\n",
      "SEQCLEAN=seqclean\n",
      "TRIM=~/bin/Trimmomatic-0.25/trimmomatic-0.25.jar\n",
      "TIME=/usr/bin/time -f \"\\\\n%E elapsed\\\\n%U user cpu seconds\\\\n%K average total memory\\\\n%W times swapped out of main mem\\\\n%w total waits\\\\n%I filesystem inputs\\\\n%O filesystem outputs\\\\n\"\n",
      "KMERGENIE=~/bin/kmergenie-1.5397/kmergenie\n",
      "\n",
      "KMERRES=nodes=1:ppn=4,walltime=72:00:00,mem=32gb\n",
      "TRIMRES=nodes=1:ppn=4,walltime=18:00:00,mem=4gb\n",
      "QCRES=nodes=1:ppn=1,walltime=2:00:00,mem=4gb\n",
      "DGRES=nodes=1:ppn=1,walltime=72:00:00,mem=42gb\n",
      "PAR_DGRES=nodes=1:ppn=1,walltime=6:00:00,mem=5gb\n",
      "CLEANRES=nodes=1:ppn=8,walltime=12:00:00,mem=8gb\n",
      "'''.format(khmerpath=khmerpath)\n",
      "\n",
      "makefile = '''\n",
      "include Makefile.inc\n",
      "'''"
     ],
     "language": "python",
     "metadata": {},
     "outputs": [],
     "prompt_number": 18
    },
    {
     "cell_type": "code",
     "collapsed": false,
     "input": [
      "fqc1 = []\n",
      "\n",
      "# Fun tricks!\n",
      "# First, write out a template for the job submission script which loads modules\n",
      "# and changes directory\n",
      "\n",
      "\n",
      "with open('fastqc.inc.sub', 'wb') as pbsfp:\n",
      "    sub = '''\n",
      "#!/bin/bash -login\n",
      "cd $PBS_O_WORKDIR\n",
      "module load FastQC\n",
      "'''\n",
      "    pbsfp.write(sub)\n",
      "\n",
      "\n",
      "for f in reads:\n",
      "    name = os.path.basename(f)\n",
      "    bname, _, _ = name.partition('.')  \n",
      "        \n",
      "    rule = '''\n",
      "{bname}.fq_fastqc.zip: {name}\n",
      "\\tfastqc --noextract {name}\n",
      "'''.format(bname=bname, name=name)\n",
      "    \n",
      "    # Now for the fun part:\n",
      "    # The pbs rule echos the make command for this file and cats the template file with standard in\n",
      "    # We then pipe that into qsub, avoiding all the issues with line breaks etc in Makefiles and preventing\n",
      "    # the need for hundreds of job submission scripts.\n",
      "    \n",
      "    pbsrule = '''\n",
      "{bname}.fq_fastqc.zip-pbs:\n",
      "\\techo make {bname}.fq_fastqc.zip | cat fastqc.inc.sub - | qsub -l $(QCRES) -N fqc-{bname}\n",
      "'''.format(bname=bname)\n",
      "        \n",
      "    includes += rule\n",
      "    includes += pbsrule\n",
      "        \n",
      "    fqc1.append('{bname}.fq_fastqc.zip'.format(bname=bname))\n",
      "\n",
      "makefile += '''\n",
      "\n",
      "#\n",
      "# First we run FastQC on all the raw files for baseline quality infos\n",
      "# Keep the general rules out here, with all the invidual rules in the Makefile.inc\n",
      "#\n",
      "\n",
      "'''\n",
      "\n",
      "makefile += '\\n\\nfastqc1: {}'.format(' \\\\\\n\\t'.join(fqc1))\n",
      "makefile += '\\n\\nfastqc1-pbs: {}'.format(' \\\\\\n\\t'.join(map(lambda x: x + '-pbs', fqc1)))\n",
      "print fqc1\n",
      "#print makefile\n",
      "#print includes"
     ],
     "language": "python",
     "metadata": {},
     "outputs": [
      {
       "output_type": "stream",
       "stream": "stdout",
       "text": [
        "['614GMAAXX_1_1_pf.fq_fastqc.zip', '614GMAAXX_2_1_pf.fq_fastqc.zip', '614GMAAXX_3_1_pf.fq_fastqc.zip', '614GMAAXX_4_1_pf.fq_fastqc.zip', '614GMAAXX_6_1_pf.fq_fastqc.zip', '614GMAAXX_7_1_pf.fq_fastqc.zip', '614GMAAXX_8_1_pf.fq_fastqc.zip', 'AB057JABXX_s_7_pe.fq_fastqc.zip', 'AI.fq_fastqc.zip', 'AK.fq_fastqc.zip', 'BB0582ABXX_s_3_pe.fq_fastqc.zip', 'BB0582ABXX_s_4_pe.fq_fastqc.zip', 'BB0582ABXX_s_5_pe.fq_fastqc.zip', 'BB0582ABXX_s_6_pe.fq_fastqc.zip', 'BB0582ABXX_s_7_pe.fq_fastqc.zip', 'BB0582ABXX_s_8_pe.fq_fastqc.zip', 'brain_paired.fq_fastqc.zip', 'FW1-Gill.fq_fastqc.zip', 'FW1-Intestine.fq_fastqc.zip', 'FW1-Kidney.fq_fastqc.zip', 'G81-a.fq_fastqc.zip', 'G81-b.fq_fastqc.zip', 'G82-a.fq_fastqc.zip', 'G82-b.fq_fastqc.zip', 'G83-a.fq_fastqc.zip', 'G83-b.fq_fastqc.zip', 'Gill.fq_fastqc.zip', 'JV1_liver.fq_fastqc.zip', 'JVa_liver.fq_fastqc.zip', 'JVb_liver.fq_fastqc.zip', 'JV_intest.fq_fastqc.zip', 'Kidney.fq_fastqc.zip', 'L81-a.fq_fastqc.zip', 'L81-b.fq_fastqc.zip', 'L82-a.fq_fastqc.zip', 'L82-b.fq_fastqc.zip', 'L83-1-a.fq_fastqc.zip', 'L83-1-b.fq_fastqc.zip', 'L83-a.fq_fastqc.zip', 'L83-b.fq_fastqc.zip', 'LI.fq_fastqc.zip', 'Lips.fq_fastqc.zip', 'LK.fq_fastqc.zip', 'M0_liver.fq_fastqc.zip', 'M2_liver.fq_fastqc.zip', 'M5_liver.fq_fastqc.zip', 'Monocytes.fq_fastqc.zip', 'mssm_single_s1.fq_fastqc.zip', 'mssm_single_s2.fq_fastqc.zip', 'mssm_single_s3.fq_fastqc.zip', 'mssm_single_s5.fq_fastqc.zip', 'mssm_single_s6.fq_fastqc.zip', 'mssm_single_s7.fq_fastqc.zip', 'Muscle.fq_fastqc.zip', 'Neutrophils.fq_fastqc.zip', 'OFHS.fq_fastqc.zip', 'POF-eye.fq_fastqc.zip', 'POF-ts.fq_fastqc.zip', 'PSMGill.fq_fastqc.zip', 'Rope.fq_fastqc.zip', 'SMGill.fq_fastqc.zip', 'SMHS.fq_fastqc.zip', 'SN.fq_fastqc.zip', 'SPDI.fq_fastqc.zip', 'spinal_cord_paired.fq_fastqc.zip', 'SPK.fq_fastqc.zip', 'SPPI.fq_fastqc.zip', 'Stg-1-Intestine.fq_fastqc.zip', 'Stg-1-Kidney.fq_fastqc.zip', 'Stg-2-Intestine.fq_fastqc.zip', 'Stg-2-Kidney.fq_fastqc.zip', 'Stg-3-Intestine.fq_fastqc.zip', 'Stg-3-Kidney.fq_fastqc.zip', 'Stg-4-Intestine.fq_fastqc.zip', 'Stg-4-Kidney.fq_fastqc.zip', 'Stg-5-Intestine.fq_fastqc.zip', 'Stg-5-Kidney.fq_fastqc.zip', 'Stg-6-Intestine.fq_fastqc.zip', 'Stg-6-Kidney.fq_fastqc.zip', 'Stg-7-Intestine.fq_fastqc.zip', 'Stg-7-Kidney.fq_fastqc.zip', 'SW2-Gill.fq_fastqc.zip', 'SW2-Intestine-a.fq_fastqc.zip', 'SW2-Intestine-b.fq_fastqc.zip', 'SW2-Kidney.fq_fastqc.zip']\n"
       ]
      }
     ],
     "prompt_number": 19
    },
    {
     "cell_type": "code",
     "collapsed": true,
     "input": [
      "# even though no modules are required, we'll still make a template for future-proofing and constistency\n",
      "\n",
      "with open('trim.inc.sub', 'wb') as pbsfp:\n",
      "    sub = '''\n",
      "#!/bin/bash -login\n",
      "cd $PBS_O_WORKDIR\n",
      "'''\n",
      "    pbsfp.write(sub)\n",
      "\n",
      "\n",
      "trimmed = []\n",
      "for f in reads:\n",
      "    name = os.path.basename(f)\n",
      "    bname, _, _ = name.partition('.')\n",
      "        \n",
      "    rule = '''\n",
      "{bname}.trim.fq: {name}\n",
      "\\t\\t$(TIME) -o {bname}.trim.time java -classpath $(TRIM) org.usadellab.trimmomatic.TrimmomaticSE -phred33 -trimlog {bname}.trimlog -threads 4 {name} {bname}.trim.fq ILLUMINACLIP:adapters.fa:2:40:15 SLIDINGWINDOW:4:15 MINLEN:31\n",
      "'''.format(bname=bname, name=name)\n",
      "        \n",
      "    pbsrule = '''\n",
      "{bname}.trim.fq-pbs:\n",
      "\\techo make {bname}.trim.fq | cat trim.inc.sub - | qsub -l $(TRIMRES) -N trim-{bname}\n",
      "'''.format(bname=bname)\n",
      "        \n",
      "    includes += rule\n",
      "    includes += pbsrule\n",
      "        \n",
      "    trimmed.append('{bname}.trim.fq'.format(bname=bname))\n",
      "\n",
      "makefile += '''\n",
      "\n",
      "# Run Trimmomatic on all the raw files\n",
      "\n",
      "'''\n",
      "    \n",
      "makefile += '\\n\\ntrim: {}'.format(' \\\\\\n\\t'.join(trimmed))\n",
      "makefile += '\\n\\ntrim-pbs: {}'.format(' \\\\\\n\\t'.join(map(lambda x: x + '-pbs', trimmed)))\n",
      "#print makefile"
     ],
     "language": "python",
     "metadata": {},
     "outputs": [],
     "prompt_number": 20
    },
    {
     "cell_type": "code",
     "collapsed": false,
     "input": [
      "# we already have a fastqc template, so use it\n",
      "fqc2 = []\n",
      "for f in trimmed:\n",
      "    name = os.path.basename(f)\n",
      "    bname, _, _ = name.partition('.')\n",
      "        \n",
      "    rule = '''\n",
      "{name}.fq_fastqc.zip: {name}\n",
      "\\tfastqc --noextract {name}\n",
      "'''.format(name=name)\n",
      "        \n",
      "    pbsrule = '''\n",
      "{name}.fq_fastqc-pbs:\n",
      "\\techo make {name}.fq_fastqc.zip | cat fastqc.inc.sub - | qsub -l $(QCRES) -N fqc2-{bname}\n",
      "'''.format(name=name, bname=bname)\n",
      "        \n",
      "    includes += rule\n",
      "    includes += pbsrule\n",
      "        \n",
      "    fqc2.append('{name}.fastqc2'.format(name=name))\n",
      "\n",
      "makefile += '\\n\\nfastqc2: {}'.format(' \\\\\\n\\t'.join(fqc2))\n",
      "makefile += '\\n\\nfastqc2-pbs: {}'.format(' \\\\\\n\\t'.join(map(lambda x: x + '-pbs', fqc2)))\n",
      "#print makefile\n",
      "#print fqc2"
     ],
     "language": "python",
     "metadata": {},
     "outputs": [],
     "prompt_number": 21
    },
    {
     "cell_type": "code",
     "collapsed": false,
     "input": [],
     "language": "python",
     "metadata": {},
     "outputs": [],
     "prompt_number": 21
    },
    {
     "cell_type": "code",
     "collapsed": false,
     "input": [
      "C = 50\n",
      "X = 4e9\n",
      "K = 20\n",
      "\n",
      "dg = [L + '.keep' for L in trimmed]\n",
      "\n",
      "with open('diginorm.inc.sub', 'wb') as pbsfp:\n",
      "    sub = '''\n",
      "#!/bin/bash -login\n",
      "cd $PBS_O_WORKDIR\n",
      "module load screed\n",
      "export PYTHONPATH=$PYTHONPATH:/mnt/home/welcherc/bin/khmer/python\n",
      "'''\n",
      "    pbsfp.write(sub)\n",
      "\n",
      "\n",
      "for trimfile in trimmed:\n",
      "    outfile = trimfile + '.keep'\n",
      "    includes += '''\n",
      "{outfile}: {trimfile}\n",
      "\\t$(TIME) -o {outfile}.c50.time $(KHMER)/scripts/normalize-by-median.py -x {X} -N 4 -k {K} -C {C} -R {outfile}.c50.report {trimfile}\n",
      "\n",
      "{outfile}-pbs: {trimfile}\n",
      "\\techo make {outfile} | cat diginorm.inc.sub - | qsub -l $(PAR_DGRES) -N dg50-{outfile}\n",
      "'''.format(outfile=outfile, trimfile=trimfile, X='1e9', K=K, C=C)\n",
      "\n",
      "    \n",
      "makefile += '''\n",
      "parallel-dg50-pbs: {par_dg_out}\n",
      "'''.format(par_dg_out=' \\\\\\n\\t\\t\\t'.join(map(lambda x: x + '-pbs', dg)))\n",
      "\n",
      "makefile += '''\n",
      "parallel-dg50: {dg}\n",
      "'''.format(dg=' \\\\\\n\\t\\t\\t'.join(dg))\n",
      "    \n",
      "makefile += '''\n",
      "diginorm.c50.ht-pbs:\n",
      "\\techo make diginorm.c50.ht | cat diginorm.inc.sub - | qsub -l $(DGRES) -N {prj}-diginorm.c50\n",
      "'''.format(prj=prj)\n",
      "\n",
      "includes += '''\n",
      "TRIMMED={trimmed}\n",
      "'''.format(trimmed=' \\\\\\n\\t\\t\\t'.join(trimmed))\n",
      "\n",
      "deprule = '''\n",
      "\\ndiginorm.c50.ht: $(TRIMMED)\n",
      "\\t$(TIME) -o diginorm.c50.time $(KHMER)/scripts/normalize-by-median.py -x {X} -N 4 -k {K} -C {C} -s diginorm.c50.ht -R diginorm.c50.report \\\\\n",
      "{trimmed}\n",
      "'''.format(X=X, C=C, K=K, trimmed=' \\\\\\n\\t\\t\\t'.join(trimmed))\n",
      "    \n",
      "makefile += deprule\n",
      "\n",
      "#print makefile\n",
      "#print includes"
     ],
     "language": "python",
     "metadata": {},
     "outputs": [],
     "prompt_number": 22
    },
    {
     "cell_type": "code",
     "collapsed": false,
     "input": [
      "includes += '''\n",
      "DG50={dg}\n",
      "'''.format(dg=' \\\\\\n\\t\\t\\t'.join(dg))\n",
      "\n",
      "makefile += '''\n",
      "parallel.c50.ht: $(DG50)\n",
      "\\t$(TIME) -o parallel.c50.ht.time $(KHMER)/scripts/load-into-counting.py -x {X} -N 4 -k {K} parallel.c50.ht {dg}\n",
      "'''.format(dg=' \\\\\\n\\t\\t\\t'.join(dg), X='1e10', K=20)\n",
      "\n",
      "makefile += '''\n",
      "parallel.c50.ht-pbs: $(DG50)\n",
      "\\techo make parallel.c50.ht | cat diginorm.inc.sub - | qsub -l $(DGRES) -N load-parallel.c50.ht\n",
      "'''"
     ],
     "language": "python",
     "metadata": {},
     "outputs": [
      {
       "ename": "KeyError",
       "evalue": "'dg'",
       "output_type": "pyerr",
       "traceback": [
        "\u001b[0;31m---------------------------------------------------------------------------\u001b[0m\n\u001b[0;31mKeyError\u001b[0m                                  Traceback (most recent call last)",
        "\u001b[0;32m<ipython-input-23-1aa607ae79ae>\u001b[0m in \u001b[0;36m<module>\u001b[0;34m()\u001b[0m\n\u001b[1;32m      6\u001b[0m \u001b[0mparallel\u001b[0m\u001b[0;34m.\u001b[0m\u001b[0mc50\u001b[0m\u001b[0;34m.\u001b[0m\u001b[0mht\u001b[0m\u001b[0;34m:\u001b[0m\u001b[0;31m \u001b[0m\u001b[0;31m$\u001b[0m\u001b[0;34m(\u001b[0m\u001b[0mDG50\u001b[0m\u001b[0;34m)\u001b[0m\u001b[0;34m\u001b[0m\u001b[0m\n\u001b[1;32m      7\u001b[0m \u001b[0;31m\\\u001b[0m\u001b[0mt\u001b[0m\u001b[0;31m$\u001b[0m\u001b[0;34m(\u001b[0m\u001b[0mTIME\u001b[0m\u001b[0;34m)\u001b[0m \u001b[0;34m-\u001b[0m\u001b[0mo\u001b[0m \u001b[0mparallel\u001b[0m\u001b[0;34m.\u001b[0m\u001b[0mc50\u001b[0m\u001b[0;34m.\u001b[0m\u001b[0mht\u001b[0m\u001b[0;34m.\u001b[0m\u001b[0mtime\u001b[0m\u001b[0;31m \u001b[0m\u001b[0;31m$\u001b[0m\u001b[0;34m(\u001b[0m\u001b[0mKHMER\u001b[0m\u001b[0;34m)\u001b[0m\u001b[0;34m/\u001b[0m\u001b[0mscripts\u001b[0m\u001b[0;34m/\u001b[0m\u001b[0mload\u001b[0m\u001b[0;34m-\u001b[0m\u001b[0minto\u001b[0m\u001b[0;34m-\u001b[0m\u001b[0mcounting\u001b[0m\u001b[0;34m.\u001b[0m\u001b[0mpy\u001b[0m \u001b[0;34m-\u001b[0m\u001b[0mx\u001b[0m \u001b[0;34m{\u001b[0m\u001b[0mX\u001b[0m\u001b[0;34m}\u001b[0m \u001b[0;34m-\u001b[0m\u001b[0mN\u001b[0m \u001b[0;36m4\u001b[0m \u001b[0;34m-\u001b[0m\u001b[0mk\u001b[0m \u001b[0;34m{\u001b[0m\u001b[0mK\u001b[0m\u001b[0;34m}\u001b[0m \u001b[0mparallel\u001b[0m\u001b[0;34m.\u001b[0m\u001b[0mc50\u001b[0m\u001b[0;34m.\u001b[0m\u001b[0mht\u001b[0m \u001b[0;34m{\u001b[0m\u001b[0mdg\u001b[0m\u001b[0;34m}\u001b[0m\u001b[0;34m\u001b[0m\u001b[0m\n\u001b[0;32m----> 8\u001b[0;31m '''.format(' \\\\\\n\\t\\t\\t'.join(dg), X='1e10', K=20)\n\u001b[0m\u001b[1;32m      9\u001b[0m \u001b[0;34m\u001b[0m\u001b[0m\n\u001b[1;32m     10\u001b[0m makefile += '''\n",
        "\u001b[0;31mKeyError\u001b[0m: 'dg'"
       ]
      }
     ],
     "prompt_number": 23
    },
    {
     "cell_type": "code",
     "collapsed": false,
     "input": [
      "cutoff=2\n",
      "Z=20\n",
      "X=1e10\n",
      "K=20\n",
      "\n",
      "abund = [R + '.abundfilt' for R in dg]\n",
      "\n",
      "makefile += '''\n",
      "abundfilt: abundfilt.time\n",
      "'''\n",
      "\n",
      "# has same dependencies as diginorm, so use that template\n",
      "makefile += '''\n",
      "abundfilt-pbs:\n",
      "\\techo make abundfilt.time | cat diginorm.inc.sub - | qsub -l $(DGRES) -N {prj}-abundfilt\n",
      "'''.format(prj=prj)\n",
      "\n",
      "deprule = '''\n",
      "\\nabundfilt.time: parallel.c50.ht\n",
      "\\t$(TIME) -o abundfilt.time python $(KHMER)/scripts/filter-abund.py -V -Z {Z} parallel.c50.ht \\\\\n",
      "{dg}\n",
      "'''.format(Z=Z, dg=' \\\\\\n\\t\\t\\t'.join(dg))\n",
      "    \n",
      "includes += deprule\n",
      "\n",
      "\n",
      "#for dgfile in dg:\n",
      "#    outfile = dgfile + '.abundfilt'\n",
      "#    \n",
      "#    includes += '''\n",
      "#{outfile}: {dgfile}\n",
      "#\\t$(TIME) -o {outfile}.time python $(KHMER)/scripts/filter-abund.py -V -Z {Z} \n",
      "#'''"
     ],
     "language": "python",
     "metadata": {},
     "outputs": []
    },
    {
     "cell_type": "code",
     "collapsed": true,
     "input": [
      "C = 20\n",
      "X = 1e7\n",
      "K = 20\n",
      "print abund\n",
      "dg2 = [L + '.keep' for L in abund]\n",
      "\n",
      "rule='''\n",
      "\\ndiginorm.c20.ht: abundfilt.time\n",
      "\\t$(TIME) -o diginorm.c20.time $(KHMER)/scripts/normalize-by-median.py -C {C} -x {X} -k {K} -s diginorm.c20.ht -R diginorm.c20.report {abund}\n",
      "'''.format(X=X, C=C, K=K, abund=' \\\\\\n\\t\\t\\t'.join(abund))\n",
      "makefile += rule\n",
      "    \n",
      "makefile += '''\n",
      "diginorm.c20.ht-pbs:\n",
      "\\techo make diginorm.c20.ht | cat diginorm.inc.sub - | qsub -l $(DGRES) -N {prj}-diginorm.c20\n",
      "'''"
     ],
     "language": "python",
     "metadata": {},
     "outputs": []
    },
    {
     "cell_type": "raw",
     "metadata": {},
     "source": [
      "with open('seqclean.sub', 'wb') as pbsfp:\n",
      "    rule = '''\n",
      "all.c20.fa.clean: all.c20.fa\n",
      "\\t$(TIME) -o all.c20.clean.time $(SEQCLEAN) all.c20.fa -c 8 -v ../db/univec_core.fa -s adapters.fa -l 31'''\n",
      "    makefile += rule\n",
      "    \n",
      "    sub = '''\n",
      "#!/bin/bash -login\n",
      "cd $PBS_O_WORKDIR\n",
      "export PYTHONPATH=$PYTHONPATH:~/bin/khmer/python\n",
      "make all.c20.fa.clean\n",
      "'''\n",
      "    pbsfp.write(sub)\n",
      "    \n",
      "    pbsrule = '''\n",
      "all.c20.fa.clean-pbs: all.c20.fa\n",
      "\\tqsub -l $(CLEANRES) seqclean.sub'''\n",
      "    \n",
      "    makefile += pbsrule"
     ]
    },
    {
     "cell_type": "code",
     "collapsed": false,
     "input": [],
     "language": "python",
     "metadata": {},
     "outputs": []
    },
    {
     "cell_type": "code",
     "collapsed": false,
     "input": [
      "clean = '''\n",
      "clean:\n",
      "\\trm -rf *.time *.clean *.keep *.trim.fq *.report *.log *.trimlog *.ht cleaning_*/ *.cidx *.cln all.c20.fa all.c20.fq *.sort *.abundfilt\n",
      "'''\n",
      "makefile += clean"
     ],
     "language": "python",
     "metadata": {},
     "outputs": []
    },
    {
     "cell_type": "code",
     "collapsed": false,
     "input": [
      "#print makefile"
     ],
     "language": "python",
     "metadata": {},
     "outputs": []
    },
    {
     "cell_type": "code",
     "collapsed": false,
     "input": [
      "with open('Makefile', 'wb') as mfp:\n",
      "    for line in makefile:\n",
      "        mfp.write(line)\n",
      "\n",
      "with open('Makefile.inc', 'wb') as ifp:\n",
      "    for line in includes:\n",
      "        ifp.write(line)"
     ],
     "language": "python",
     "metadata": {},
     "outputs": []
    },
    {
     "cell_type": "code",
     "collapsed": false,
     "input": [],
     "language": "python",
     "metadata": {},
     "outputs": []
    }
   ],
   "metadata": {}
  }
 ]
}