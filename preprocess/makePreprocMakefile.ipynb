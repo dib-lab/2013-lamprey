{
 "metadata": {
  "name": "makePreprocMakefile"
 },
 "nbformat": 3,
 "nbformat_minor": 0,
 "worksheets": [
  {
   "cells": [
    {
     "cell_type": "heading",
     "level": 1,
     "metadata": {},
     "source": [
      "Lamprey mRNAseq Preprocessing: Makefile and PBS script generation"
     ]
    },
    {
     "cell_type": "code",
     "collapsed": false,
     "input": [
      "import os"
     ],
     "language": "python",
     "metadata": {},
     "outputs": [],
     "prompt_number": 49
    },
    {
     "cell_type": "code",
     "collapsed": false,
     "input": [
      "#reads = ['/w/hpcc/lamprey/reads/all/614GMAAXX_1_1_pf.qc.fq.gz', '/w/hpcc/lamprey/reads/all/614GMAAXX_2_1_pf.qc.fq.gz', '/w/hpcc/lamprey/reads/all/614GMAAXX_3_1_pf.qc.fq.gz', '/w/hpcc/lamprey/reads/all/614GMAAXX_4_1_pf.qc.fq.gz', '/w/hpcc/lamprey/reads/all/614GMAAXX_6_1_pf.qc.fq.gz', '/w/hpcc/lamprey/reads/all/614GMAAXX_7_1_pf.qc.fq.gz', '/w/hpcc/lamprey/reads/all/614GMAAXX_8_1_pf.qc.fq.gz', '/w/hpcc/lamprey/reads/all/AB057JABXX_s_7_pe.trim.fq.gz', '/w/hpcc/lamprey/reads/all/AI.fq.gz', '/w/hpcc/lamprey/reads/all/AK.fq.gz', '/w/hpcc/lamprey/reads/all/BB0582ABXX_s_3_pe.trim.fq.gz', '/w/hpcc/lamprey/reads/all/BB0582ABXX_s_4_pe.trim.fq.gz', '/w/hpcc/lamprey/reads/all/BB0582ABXX_s_5_pe.trim.fq.gz', '/w/hpcc/lamprey/reads/all/BB0582ABXX_s_6_pe.trim.fq.gz', '/w/hpcc/lamprey/reads/all/BB0582ABXX_s_7_pe.trim.fq.gz', '/w/hpcc/lamprey/reads/all/BB0582ABXX_s_8_pe.trim.fq.gz', '/w/hpcc/lamprey/reads/all/brain_paired.qc.fq.gz', '/w/hpcc/lamprey/reads/all/FW1-Gill.fq.gz', '/w/hpcc/lamprey/reads/all/FW1-Intestine.fq.gz', '/w/hpcc/lamprey/reads/all/FW1-Kidney.fq.gz', '/w/hpcc/lamprey/reads/all/G81-a.fq.gz', '/w/hpcc/lamprey/reads/all/G81-b.fq.gz', '/w/hpcc/lamprey/reads/all/G82-a.fq.gz', '/w/hpcc/lamprey/reads/all/G82-b.fq.gz', '/w/hpcc/lamprey/reads/all/G83-a.fq.gz', '/w/hpcc/lamprey/reads/all/G83-b.fq.gz', '/w/hpcc/lamprey/reads/all/Gill.fq.gz', '/w/hpcc/lamprey/reads/all/JV1_liver.fq.gz', '/w/hpcc/lamprey/reads/all/JVa_liver.fq.gz', '/w/hpcc/lamprey/reads/all/JVb_liver.fq.gz', '/w/hpcc/lamprey/reads/all/JV_intest.fq.gz', '/w/hpcc/lamprey/reads/all/Kidney.fq.gz', '/w/hpcc/lamprey/reads/all/L81-a.fq.gz', '/w/hpcc/lamprey/reads/all/L81-b.fq.gz', '/w/hpcc/lamprey/reads/all/L82-a.fq.gz', '/w/hpcc/lamprey/reads/all/L82-b.fq.gz', '/w/hpcc/lamprey/reads/all/L83-1-a.fq.gz', '/w/hpcc/lamprey/reads/all/L83-1-b.fq.gz', '/w/hpcc/lamprey/reads/all/L83-a.fq.gz', '/w/hpcc/lamprey/reads/all/L83-b.fq.gz', '/w/hpcc/lamprey/reads/all/LI.fq.gz', '/w/hpcc/lamprey/reads/all/Lips.fq.gz', '/w/hpcc/lamprey/reads/all/LK.fq.gz', '/w/hpcc/lamprey/reads/all/M0_liver.fq.gz', '/w/hpcc/lamprey/reads/all/M2_liver.fq.gz', '/w/hpcc/lamprey/reads/all/M5_liver.fq.gz', '/w/hpcc/lamprey/reads/all/Monocytes.fq.gz', '/w/hpcc/lamprey/reads/all/mssm_single_s1.trim.fq.gz', '/w/hpcc/lamprey/reads/all/mssm_single_s2.trim.fq.gz', '/w/hpcc/lamprey/reads/all/mssm_single_s3.trim.fq.gz', '/w/hpcc/lamprey/reads/all/mssm_single_s5.trim.fq.gz', '/w/hpcc/lamprey/reads/all/mssm_single_s6.trim.fq.gz', '/w/hpcc/lamprey/reads/all/mssm_single_s7.trim.fq.gz', '/w/hpcc/lamprey/reads/all/Muscle.fq.gz', '/w/hpcc/lamprey/reads/all/Neutrophils.fq.gz', '/w/hpcc/lamprey/reads/all/OFHS.fq.gz', '/w/hpcc/lamprey/reads/all/POF-eye.fq.gz', '/w/hpcc/lamprey/reads/all/POF-ts.fq.gz', '/w/hpcc/lamprey/reads/all/PSMGill.fq.gz', '/w/hpcc/lamprey/reads/all/Rope.fq.gz', '/w/hpcc/lamprey/reads/all/SMGill.fq.gz', '/w/hpcc/lamprey/reads/all/SMHS.fq.gz', '/w/hpcc/lamprey/reads/all/SN.fq.gz', '/w/hpcc/lamprey/reads/all/SPDI.fq.gz', '/w/hpcc/lamprey/reads/all/spinal_cord_paired.qc.fq.gz', '/w/hpcc/lamprey/reads/all/SPK.fq.gz', '/w/hpcc/lamprey/reads/all/SPPI.fq.gz', '/w/hpcc/lamprey/reads/all/Stg-1-Intestine.fq.gz', '/w/hpcc/lamprey/reads/all/Stg-1-Kidney.fq.gz', '/w/hpcc/lamprey/reads/all/Stg-2-Intestine.fq.gz', '/w/hpcc/lamprey/reads/all/Stg-2-Kidney.fq.gz', '/w/hpcc/lamprey/reads/all/Stg-3-Intestine.fq.gz', '/w/hpcc/lamprey/reads/all/Stg-3-Kidney.fq.gz', '/w/hpcc/lamprey/reads/all/Stg-4-Intestine.fq.gz', '/w/hpcc/lamprey/reads/all/Stg-4-Kidney.fq.gz', '/w/hpcc/lamprey/reads/all/Stg-5-Intestine.fq.gz', '/w/hpcc/lamprey/reads/all/Stg-5-Kidney.fq.gz', '/w/hpcc/lamprey/reads/all/Stg-6-Intestine.fq.gz', '/w/hpcc/lamprey/reads/all/Stg-6-Kidney.fq.gz', '/w/hpcc/lamprey/reads/all/Stg-7-Intestine.fq.gz', '/w/hpcc/lamprey/reads/all/Stg-7-Kidney.fq.gz', '/w/hpcc/lamprey/reads/all/SW2-Gill.fq.gz', '/w/hpcc/lamprey/reads/all/SW2-Intestine-a.fq.gz', '/w/hpcc/lamprey/reads/all/SW2-Intestine-b.fq.gz', '/w/hpcc/lamprey/reads/all/SW2-Kidney.fq.gz']"
     ],
     "language": "python",
     "metadata": {},
     "outputs": []
    },
    {
     "cell_type": "code",
     "collapsed": false,
     "input": [],
     "language": "python",
     "metadata": {},
     "outputs": []
    },
    {
     "cell_type": "code",
     "collapsed": false,
     "input": [
      "src_dir = '/mnt/scratch/welcherc/lamprey/dnaseq'"
     ],
     "language": "python",
     "metadata": {},
     "outputs": [],
     "prompt_number": 51
    },
    {
     "cell_type": "code",
     "collapsed": false,
     "input": [
      "print reads"
     ],
     "language": "python",
     "metadata": {},
     "outputs": [
      {
       "output_type": "stream",
       "stream": "stdout",
       "text": [
        "['/w/hpcc/lamprey/reads/all/614GMAAXX_1_1_pf.qc.fq.gz', '/w/hpcc/lamprey/reads/all/614GMAAXX_2_1_pf.qc.fq.gz', '/w/hpcc/lamprey/reads/all/614GMAAXX_3_1_pf.qc.fq.gz', '/w/hpcc/lamprey/reads/all/614GMAAXX_4_1_pf.qc.fq.gz', '/w/hpcc/lamprey/reads/all/614GMAAXX_6_1_pf.qc.fq.gz', '/w/hpcc/lamprey/reads/all/614GMAAXX_7_1_pf.qc.fq.gz', '/w/hpcc/lamprey/reads/all/614GMAAXX_8_1_pf.qc.fq.gz', '/w/hpcc/lamprey/reads/all/AB057JABXX_s_7_pe.trim.fq.gz', '/w/hpcc/lamprey/reads/all/AI.fq.gz', '/w/hpcc/lamprey/reads/all/AK.fq.gz', '/w/hpcc/lamprey/reads/all/BB0582ABXX_s_3_pe.trim.fq.gz', '/w/hpcc/lamprey/reads/all/BB0582ABXX_s_4_pe.trim.fq.gz', '/w/hpcc/lamprey/reads/all/BB0582ABXX_s_5_pe.trim.fq.gz', '/w/hpcc/lamprey/reads/all/BB0582ABXX_s_6_pe.trim.fq.gz', '/w/hpcc/lamprey/reads/all/BB0582ABXX_s_7_pe.trim.fq.gz', '/w/hpcc/lamprey/reads/all/BB0582ABXX_s_8_pe.trim.fq.gz', '/w/hpcc/lamprey/reads/all/brain_paired.qc.fq.gz', '/w/hpcc/lamprey/reads/all/FW1-Gill.fq.gz', '/w/hpcc/lamprey/reads/all/FW1-Intestine.fq.gz', '/w/hpcc/lamprey/reads/all/FW1-Kidney.fq.gz', '/w/hpcc/lamprey/reads/all/G81-a.fq.gz', '/w/hpcc/lamprey/reads/all/G81-b.fq.gz', '/w/hpcc/lamprey/reads/all/G82-a.fq.gz', '/w/hpcc/lamprey/reads/all/G82-b.fq.gz', '/w/hpcc/lamprey/reads/all/G83-a.fq.gz', '/w/hpcc/lamprey/reads/all/G83-b.fq.gz', '/w/hpcc/lamprey/reads/all/Gill.fq.gz', '/w/hpcc/lamprey/reads/all/JV1_liver.fq.gz', '/w/hpcc/lamprey/reads/all/JVa_liver.fq.gz', '/w/hpcc/lamprey/reads/all/JVb_liver.fq.gz', '/w/hpcc/lamprey/reads/all/JV_intest.fq.gz', '/w/hpcc/lamprey/reads/all/Kidney.fq.gz', '/w/hpcc/lamprey/reads/all/L81-a.fq.gz', '/w/hpcc/lamprey/reads/all/L81-b.fq.gz', '/w/hpcc/lamprey/reads/all/L82-a.fq.gz', '/w/hpcc/lamprey/reads/all/L82-b.fq.gz', '/w/hpcc/lamprey/reads/all/L83-1-a.fq.gz', '/w/hpcc/lamprey/reads/all/L83-1-b.fq.gz', '/w/hpcc/lamprey/reads/all/L83-a.fq.gz', '/w/hpcc/lamprey/reads/all/L83-b.fq.gz', '/w/hpcc/lamprey/reads/all/LI.fq.gz', '/w/hpcc/lamprey/reads/all/Lips.fq.gz', '/w/hpcc/lamprey/reads/all/LK.fq.gz', '/w/hpcc/lamprey/reads/all/M0_liver.fq.gz', '/w/hpcc/lamprey/reads/all/M2_liver.fq.gz', '/w/hpcc/lamprey/reads/all/M5_liver.fq.gz', '/w/hpcc/lamprey/reads/all/Monocytes.fq.gz', '/w/hpcc/lamprey/reads/all/mssm_single_s1.trim.fq.gz', '/w/hpcc/lamprey/reads/all/mssm_single_s2.trim.fq.gz', '/w/hpcc/lamprey/reads/all/mssm_single_s3.trim.fq.gz', '/w/hpcc/lamprey/reads/all/mssm_single_s5.trim.fq.gz', '/w/hpcc/lamprey/reads/all/mssm_single_s6.trim.fq.gz', '/w/hpcc/lamprey/reads/all/mssm_single_s7.trim.fq.gz', '/w/hpcc/lamprey/reads/all/Muscle.fq.gz', '/w/hpcc/lamprey/reads/all/Neutrophils.fq.gz', '/w/hpcc/lamprey/reads/all/OFHS.fq.gz', '/w/hpcc/lamprey/reads/all/POF-eye.fq.gz', '/w/hpcc/lamprey/reads/all/POF-ts.fq.gz', '/w/hpcc/lamprey/reads/all/PSMGill.fq.gz', '/w/hpcc/lamprey/reads/all/Rope.fq.gz', '/w/hpcc/lamprey/reads/all/SMGill.fq.gz', '/w/hpcc/lamprey/reads/all/SMHS.fq.gz', '/w/hpcc/lamprey/reads/all/SN.fq.gz', '/w/hpcc/lamprey/reads/all/SPDI.fq.gz', '/w/hpcc/lamprey/reads/all/spinal_cord_paired.qc.fq.gz', '/w/hpcc/lamprey/reads/all/SPK.fq.gz', '/w/hpcc/lamprey/reads/all/SPPI.fq.gz', '/w/hpcc/lamprey/reads/all/Stg-1-Intestine.fq.gz', '/w/hpcc/lamprey/reads/all/Stg-1-Kidney.fq.gz', '/w/hpcc/lamprey/reads/all/Stg-2-Intestine.fq.gz', '/w/hpcc/lamprey/reads/all/Stg-2-Kidney.fq.gz', '/w/hpcc/lamprey/reads/all/Stg-3-Intestine.fq.gz', '/w/hpcc/lamprey/reads/all/Stg-3-Kidney.fq.gz', '/w/hpcc/lamprey/reads/all/Stg-4-Intestine.fq.gz', '/w/hpcc/lamprey/reads/all/Stg-4-Kidney.fq.gz', '/w/hpcc/lamprey/reads/all/Stg-5-Intestine.fq.gz', '/w/hpcc/lamprey/reads/all/Stg-5-Kidney.fq.gz', '/w/hpcc/lamprey/reads/all/Stg-6-Intestine.fq.gz', '/w/hpcc/lamprey/reads/all/Stg-6-Kidney.fq.gz', '/w/hpcc/lamprey/reads/all/Stg-7-Intestine.fq.gz', '/w/hpcc/lamprey/reads/all/Stg-7-Kidney.fq.gz', '/w/hpcc/lamprey/reads/all/SW2-Gill.fq.gz', '/w/hpcc/lamprey/reads/all/SW2-Intestine-a.fq.gz', '/w/hpcc/lamprey/reads/all/SW2-Intestine-b.fq.gz', '/w/hpcc/lamprey/reads/all/SW2-Kidney.fq.gz']\n"
       ]
      }
     ],
     "prompt_number": 52
    },
    {
     "cell_type": "code",
     "collapsed": false,
     "input": [
      "makefile = '''\n",
      "KHMER=~/bin/khmer\n",
      "SEQCLEAN=seqclean\n",
      "TRIM=~/bin/Trimmomatic-0.25/trimmomatic-0.25.jar\n",
      "TIME=/usr/bin/time -f \"\\\\n%E elapsed\\\\n%U user cpu seconds\\\\n%K average total memory\\\\n%W times swapped out of main mem\\\\n%w total waits\\\\n%I filesystem inputs\\\\n%O filesystem outputs\\\\n\"\n",
      "KMERGENIE=~/bin/kmergenie-1.5397/kmergenie\n",
      "\n",
      "KMERRES=nodes=1:ppn=4,walltime=72:00:00,mem=32gb\n",
      "TRIMRES=nodes=1:ppn=4,walltime=18:00:00,mem=4gb\n",
      "QCRES=nodes=1:ppn=1,walltime=2:00:00,mem=4gb\n",
      "DGRES=nodes=1:ppn=1,walltime=72:00:00,mem=42gb\n",
      "CLEANRES=nodes=1:ppn=8,walltime=12:00:00,mem=8gb\n",
      "'''"
     ],
     "language": "python",
     "metadata": {},
     "outputs": [],
     "prompt_number": 53
    },
    {
     "cell_type": "code",
     "collapsed": false,
     "input": [
      "fqc1 = []\n",
      "for f in reads:\n",
      "    name = os.path.basename(f)\n",
      "    bname, _, _ = name.partition('.')  \n",
      "    with open('{}.fastqc1.sub'.format(bname), 'wb') as pbsfp:\n",
      "        sub = '''\n",
      "#!/bin/bash -login\n",
      "cd $PBS_O_WORKDIR\n",
      "module load FastQC\n",
      "make {}.fastqc1'''.format(bname)\n",
      "        \n",
      "        pbsfp.write(sub)\n",
      "        \n",
      "        rule = '''\n",
      "{bname}.fastqc1:\n",
      "\\tfastqc --noextract {name}\n",
      "'''.format(bname=bname, name=name)\n",
      "        \n",
      "        pbsrule = '''\n",
      "{bname}.fastqc1-pbs:\n",
      "\\tqsub -l $(QCRES) {bname}.fastqc1.sub\n",
      "'''.format(bname=bname)\n",
      "        \n",
      "        makefile += rule\n",
      "        makefile += pbsrule\n",
      "        \n",
      "        fqc1.append('{bname}.fastqc1-pbs'.format(bname=bname))\n",
      "\n",
      "makefile += '\\nfastqc1-pbs: {}'.format(' '.join(fqc1))\n",
      "print fqc1"
     ],
     "language": "python",
     "metadata": {},
     "outputs": [
      {
       "output_type": "stream",
       "stream": "stdout",
       "text": [
        "['614GMAAXX_1_1_pf.fastqc1-pbs', '614GMAAXX_2_1_pf.fastqc1-pbs', '614GMAAXX_3_1_pf.fastqc1-pbs', '614GMAAXX_4_1_pf.fastqc1-pbs', '614GMAAXX_6_1_pf.fastqc1-pbs', '614GMAAXX_7_1_pf.fastqc1-pbs', '614GMAAXX_8_1_pf.fastqc1-pbs', 'AB057JABXX_s_7_pe.fastqc1-pbs', 'AI.fastqc1-pbs', 'AK.fastqc1-pbs', 'BB0582ABXX_s_3_pe.fastqc1-pbs', 'BB0582ABXX_s_4_pe.fastqc1-pbs', 'BB0582ABXX_s_5_pe.fastqc1-pbs', 'BB0582ABXX_s_6_pe.fastqc1-pbs', 'BB0582ABXX_s_7_pe.fastqc1-pbs', 'BB0582ABXX_s_8_pe.fastqc1-pbs', 'brain_paired.fastqc1-pbs', 'FW1-Gill.fastqc1-pbs', 'FW1-Intestine.fastqc1-pbs', 'FW1-Kidney.fastqc1-pbs', 'G81-a.fastqc1-pbs', 'G81-b.fastqc1-pbs', 'G82-a.fastqc1-pbs', 'G82-b.fastqc1-pbs', 'G83-a.fastqc1-pbs', 'G83-b.fastqc1-pbs', 'Gill.fastqc1-pbs', 'JV1_liver.fastqc1-pbs', 'JVa_liver.fastqc1-pbs', 'JVb_liver.fastqc1-pbs', 'JV_intest.fastqc1-pbs', 'Kidney.fastqc1-pbs', 'L81-a.fastqc1-pbs', 'L81-b.fastqc1-pbs', 'L82-a.fastqc1-pbs', 'L82-b.fastqc1-pbs', 'L83-1-a.fastqc1-pbs', 'L83-1-b.fastqc1-pbs', 'L83-a.fastqc1-pbs', 'L83-b.fastqc1-pbs', 'LI.fastqc1-pbs', 'Lips.fastqc1-pbs', 'LK.fastqc1-pbs', 'M0_liver.fastqc1-pbs', 'M2_liver.fastqc1-pbs', 'M5_liver.fastqc1-pbs', 'Monocytes.fastqc1-pbs', 'mssm_single_s1.fastqc1-pbs', 'mssm_single_s2.fastqc1-pbs', 'mssm_single_s3.fastqc1-pbs', 'mssm_single_s5.fastqc1-pbs', 'mssm_single_s6.fastqc1-pbs', 'mssm_single_s7.fastqc1-pbs', 'Muscle.fastqc1-pbs', 'Neutrophils.fastqc1-pbs', 'OFHS.fastqc1-pbs', 'POF-eye.fastqc1-pbs', 'POF-ts.fastqc1-pbs', 'PSMGill.fastqc1-pbs', 'Rope.fastqc1-pbs', 'SMGill.fastqc1-pbs', 'SMHS.fastqc1-pbs', 'SN.fastqc1-pbs', 'SPDI.fastqc1-pbs', 'spinal_cord_paired.fastqc1-pbs', 'SPK.fastqc1-pbs', 'SPPI.fastqc1-pbs', 'Stg-1-Intestine.fastqc1-pbs', 'Stg-1-Kidney.fastqc1-pbs', 'Stg-2-Intestine.fastqc1-pbs', 'Stg-2-Kidney.fastqc1-pbs', 'Stg-3-Intestine.fastqc1-pbs', 'Stg-3-Kidney.fastqc1-pbs', 'Stg-4-Intestine.fastqc1-pbs', 'Stg-4-Kidney.fastqc1-pbs', 'Stg-5-Intestine.fastqc1-pbs', 'Stg-5-Kidney.fastqc1-pbs', 'Stg-6-Intestine.fastqc1-pbs', 'Stg-6-Kidney.fastqc1-pbs', 'Stg-7-Intestine.fastqc1-pbs', 'Stg-7-Kidney.fastqc1-pbs', 'SW2-Gill.fastqc1-pbs', 'SW2-Intestine-a.fastqc1-pbs', 'SW2-Intestine-b.fastqc1-pbs', 'SW2-Kidney.fastqc1-pbs']\n"
       ]
      }
     ],
     "prompt_number": 54
    },
    {
     "cell_type": "code",
     "collapsed": false,
     "input": [
      "t = ['SN.fastqc1-pbs', 'SPDI.fastqc1-pbs', 'spinal_cord_paired.fastqc1-pbs', 'SPK.fastqc1-pbs', 'SPPI.fastqc1-pbs', 'Stg-1-Intestine.fastqc1-pbs', 'Stg-1-Kidney.fastqc1-pbs', 'Stg-2-Intestine.fastqc1-pbs', 'Stg-2-Kidney.fastqc1-pbs', 'Stg-3-Intestine.fastqc1-pbs', 'Stg-3-Kidney.fastqc1-pbs', 'Stg-4-Intestine.fastqc1-pbs', 'Stg-4-Kidney.fastqc1-pbs', 'Stg-5-Intestine.fastqc1-pbs', 'Stg-5-Kidney.fastqc1-pbs', 'Stg-6-Intestine.fastqc1-pbs', 'Stg-6-Kidney.fastqc1-pbs', 'Stg-7-Intestine.fastqc1-pbs', 'Stg-7-Kidney.fastqc1-pbs', 'SW2-Gill.fastqc1-pbs', 'SW2-Intestine-a.fastqc1-pbs', 'SW2-Intestine-b.fastqc1-pbs', 'SW2-Kidney.fastqc1-pbs']"
     ],
     "language": "python",
     "metadata": {},
     "outputs": [],
     "prompt_number": 55
    },
    {
     "cell_type": "code",
     "collapsed": false,
     "input": [
      "print ' '.join(t)"
     ],
     "language": "python",
     "metadata": {},
     "outputs": [
      {
       "output_type": "stream",
       "stream": "stdout",
       "text": [
        "SN.fastqc1-pbs SPDI.fastqc1-pbs spinal_cord_paired.fastqc1-pbs SPK.fastqc1-pbs SPPI.fastqc1-pbs Stg-1-Intestine.fastqc1-pbs Stg-1-Kidney.fastqc1-pbs Stg-2-Intestine.fastqc1-pbs Stg-2-Kidney.fastqc1-pbs Stg-3-Intestine.fastqc1-pbs Stg-3-Kidney.fastqc1-pbs Stg-4-Intestine.fastqc1-pbs Stg-4-Kidney.fastqc1-pbs Stg-5-Intestine.fastqc1-pbs Stg-5-Kidney.fastqc1-pbs Stg-6-Intestine.fastqc1-pbs Stg-6-Kidney.fastqc1-pbs Stg-7-Intestine.fastqc1-pbs Stg-7-Kidney.fastqc1-pbs SW2-Gill.fastqc1-pbs SW2-Intestine-a.fastqc1-pbs SW2-Intestine-b.fastqc1-pbs SW2-Kidney.fastqc1-pbs\n"
       ]
      }
     ],
     "prompt_number": 56
    },
    {
     "cell_type": "code",
     "collapsed": false,
     "input": [
      "trimmed = []\n",
      "for f in reads:\n",
      "    name = os.path.basename(f)\n",
      "    bname, _, _ = name.partition('.')\n",
      "    with open('{}.trim.sub'.format(bname), 'wb') as pbsfp:\n",
      "        sub = '''\n",
      "#!/bin/bash -login\n",
      "cd $PBS_O_WORKDIR\n",
      "make {}.trim.fq'''.format(bname)\n",
      "        \n",
      "        pbsfp.write(sub)\n",
      "        \n",
      "        rule = '''\n",
      "{bname}.trim.fq: {name}\n",
      "\\t\\t$(TIME) -o {bname}.trim.time java -classpath $(TRIM) org.usadellab.trimmomatic.TrimmomaticSE -phred33 -trimlog {bname}.trimlog -threads 4 {name} {bname}.trim.fq ILLUMINACLIP:adapters.fa:2:40:15 SLIDINGWINDOW:4:15 MINLEN:31\n",
      "'''.format(bname=bname, name=name)\n",
      "        \n",
      "        pbsrule = '''\n",
      "{bname}.trim.fq-pbs:\n",
      "\\tqsub -l $(TRIMRES) {bname}.trim.sub\n",
      "'''.format(bname=bname)\n",
      "        \n",
      "        makefile += rule\n",
      "        makefile += pbsrule\n",
      "        \n",
      "        trimmed.append('{bname}.trim.fq-pbs'.format(bname=bname))\n",
      "\n",
      "makefile += '\\ntrim-pbs: {}'.format(' '.join(trimmed))\n",
      "print trimmed"
     ],
     "language": "python",
     "metadata": {},
     "outputs": [
      {
       "output_type": "stream",
       "stream": "stdout",
       "text": [
        "['614GMAAXX_1_1_pf.trim.fq-pbs', '614GMAAXX_2_1_pf.trim.fq-pbs', '614GMAAXX_3_1_pf.trim.fq-pbs', '614GMAAXX_4_1_pf.trim.fq-pbs', '614GMAAXX_6_1_pf.trim.fq-pbs', '614GMAAXX_7_1_pf.trim.fq-pbs', '614GMAAXX_8_1_pf.trim.fq-pbs', 'AB057JABXX_s_7_pe.trim.fq-pbs', 'AI.trim.fq-pbs', 'AK.trim.fq-pbs', 'BB0582ABXX_s_3_pe.trim.fq-pbs', 'BB0582ABXX_s_4_pe.trim.fq-pbs', 'BB0582ABXX_s_5_pe.trim.fq-pbs', 'BB0582ABXX_s_6_pe.trim.fq-pbs', 'BB0582ABXX_s_7_pe.trim.fq-pbs', 'BB0582ABXX_s_8_pe.trim.fq-pbs', 'brain_paired.trim.fq-pbs', 'FW1-Gill.trim.fq-pbs', 'FW1-Intestine.trim.fq-pbs', 'FW1-Kidney.trim.fq-pbs', 'G81-a.trim.fq-pbs', 'G81-b.trim.fq-pbs', 'G82-a.trim.fq-pbs', 'G82-b.trim.fq-pbs', 'G83-a.trim.fq-pbs', 'G83-b.trim.fq-pbs', 'Gill.trim.fq-pbs', 'JV1_liver.trim.fq-pbs', 'JVa_liver.trim.fq-pbs', 'JVb_liver.trim.fq-pbs', 'JV_intest.trim.fq-pbs', 'Kidney.trim.fq-pbs', 'L81-a.trim.fq-pbs', 'L81-b.trim.fq-pbs', 'L82-a.trim.fq-pbs', 'L82-b.trim.fq-pbs', 'L83-1-a.trim.fq-pbs', 'L83-1-b.trim.fq-pbs', 'L83-a.trim.fq-pbs', 'L83-b.trim.fq-pbs', 'LI.trim.fq-pbs', 'Lips.trim.fq-pbs', 'LK.trim.fq-pbs', 'M0_liver.trim.fq-pbs', 'M2_liver.trim.fq-pbs', 'M5_liver.trim.fq-pbs', 'Monocytes.trim.fq-pbs', 'mssm_single_s1.trim.fq-pbs', 'mssm_single_s2.trim.fq-pbs', 'mssm_single_s3.trim.fq-pbs', 'mssm_single_s5.trim.fq-pbs', 'mssm_single_s6.trim.fq-pbs', 'mssm_single_s7.trim.fq-pbs', 'Muscle.trim.fq-pbs', 'Neutrophils.trim.fq-pbs', 'OFHS.trim.fq-pbs', 'POF-eye.trim.fq-pbs', 'POF-ts.trim.fq-pbs', 'PSMGill.trim.fq-pbs', 'Rope.trim.fq-pbs', 'SMGill.trim.fq-pbs', 'SMHS.trim.fq-pbs', 'SN.trim.fq-pbs', 'SPDI.trim.fq-pbs', 'spinal_cord_paired.trim.fq-pbs', 'SPK.trim.fq-pbs', 'SPPI.trim.fq-pbs', 'Stg-1-Intestine.trim.fq-pbs', 'Stg-1-Kidney.trim.fq-pbs', 'Stg-2-Intestine.trim.fq-pbs', 'Stg-2-Kidney.trim.fq-pbs', 'Stg-3-Intestine.trim.fq-pbs', 'Stg-3-Kidney.trim.fq-pbs', 'Stg-4-Intestine.trim.fq-pbs', 'Stg-4-Kidney.trim.fq-pbs', 'Stg-5-Intestine.trim.fq-pbs', 'Stg-5-Kidney.trim.fq-pbs', 'Stg-6-Intestine.trim.fq-pbs', 'Stg-6-Kidney.trim.fq-pbs', 'Stg-7-Intestine.trim.fq-pbs', 'Stg-7-Kidney.trim.fq-pbs', 'SW2-Gill.trim.fq-pbs', 'SW2-Intestine-a.trim.fq-pbs', 'SW2-Intestine-b.trim.fq-pbs', 'SW2-Kidney.trim.fq-pbs']\n"
       ]
      }
     ],
     "prompt_number": 57
    },
    {
     "cell_type": "code",
     "collapsed": true,
     "input": [
      "fqc2 = []\n",
      "for f in trimmed:\n",
      "    name = os.path.basename(f)\n",
      "    name = name[:-4]  \n",
      "    with open('{}.fastqc2.sub'.format(name), 'wb') as pbsfp:\n",
      "        sub = '''\n",
      "#!/bin/bash -login\n",
      "cd $PBS_O_WORKDIR\n",
      "module load FastQC\n",
      "make {}.fastqc2'''.format(name)\n",
      "        \n",
      "        pbsfp.write(sub)\n",
      "        \n",
      "        rule = '''\n",
      "{name}.fastqc2: {name}\n",
      "\\tfastqc --noextract {name}\n",
      "'''.format(name=name)\n",
      "        \n",
      "        pbsrule = '''\n",
      "{name}.fastqc2-pbs:\n",
      "\\tqsub -l $(QCRES) {name}.fastqc2.sub\n",
      "'''.format(name=name)\n",
      "        \n",
      "        makefile += rule\n",
      "        makefile += pbsrule\n",
      "        \n",
      "        fqc2.append('{name}.fastqc2-pbs'.format(name=name))\n",
      "\n",
      "makefile += '\\nfastqc2-pbs: {}'.format(' '.join(fqc2))\n",
      "print fqc2"
     ],
     "language": "python",
     "metadata": {},
     "outputs": [
      {
       "output_type": "stream",
       "stream": "stdout",
       "text": [
        "['614GMAAXX_1_1_pf.trim.fq.fastqc2-pbs', '614GMAAXX_2_1_pf.trim.fq.fastqc2-pbs', '614GMAAXX_3_1_pf.trim.fq.fastqc2-pbs', '614GMAAXX_4_1_pf.trim.fq.fastqc2-pbs', '614GMAAXX_6_1_pf.trim.fq.fastqc2-pbs', '614GMAAXX_7_1_pf.trim.fq.fastqc2-pbs', '614GMAAXX_8_1_pf.trim.fq.fastqc2-pbs', 'AB057JABXX_s_7_pe.trim.fq.fastqc2-pbs', 'AI.trim.fq.fastqc2-pbs', 'AK.trim.fq.fastqc2-pbs', 'BB0582ABXX_s_3_pe.trim.fq.fastqc2-pbs', 'BB0582ABXX_s_4_pe.trim.fq.fastqc2-pbs', 'BB0582ABXX_s_5_pe.trim.fq.fastqc2-pbs', 'BB0582ABXX_s_6_pe.trim.fq.fastqc2-pbs', 'BB0582ABXX_s_7_pe.trim.fq.fastqc2-pbs', 'BB0582ABXX_s_8_pe.trim.fq.fastqc2-pbs', 'brain_paired.trim.fq.fastqc2-pbs', 'FW1-Gill.trim.fq.fastqc2-pbs', 'FW1-Intestine.trim.fq.fastqc2-pbs', 'FW1-Kidney.trim.fq.fastqc2-pbs', 'G81-a.trim.fq.fastqc2-pbs', 'G81-b.trim.fq.fastqc2-pbs', 'G82-a.trim.fq.fastqc2-pbs', 'G82-b.trim.fq.fastqc2-pbs', 'G83-a.trim.fq.fastqc2-pbs', 'G83-b.trim.fq.fastqc2-pbs', 'Gill.trim.fq.fastqc2-pbs', 'JV1_liver.trim.fq.fastqc2-pbs', 'JVa_liver.trim.fq.fastqc2-pbs', 'JVb_liver.trim.fq.fastqc2-pbs', 'JV_intest.trim.fq.fastqc2-pbs', 'Kidney.trim.fq.fastqc2-pbs', 'L81-a.trim.fq.fastqc2-pbs', 'L81-b.trim.fq.fastqc2-pbs', 'L82-a.trim.fq.fastqc2-pbs', 'L82-b.trim.fq.fastqc2-pbs', 'L83-1-a.trim.fq.fastqc2-pbs', 'L83-1-b.trim.fq.fastqc2-pbs', 'L83-a.trim.fq.fastqc2-pbs', 'L83-b.trim.fq.fastqc2-pbs', 'LI.trim.fq.fastqc2-pbs', 'Lips.trim.fq.fastqc2-pbs', 'LK.trim.fq.fastqc2-pbs', 'M0_liver.trim.fq.fastqc2-pbs', 'M2_liver.trim.fq.fastqc2-pbs', 'M5_liver.trim.fq.fastqc2-pbs', 'Monocytes.trim.fq.fastqc2-pbs', 'mssm_single_s1.trim.fq.fastqc2-pbs', 'mssm_single_s2.trim.fq.fastqc2-pbs', 'mssm_single_s3.trim.fq.fastqc2-pbs', 'mssm_single_s5.trim.fq.fastqc2-pbs', 'mssm_single_s6.trim.fq.fastqc2-pbs', 'mssm_single_s7.trim.fq.fastqc2-pbs', 'Muscle.trim.fq.fastqc2-pbs', 'Neutrophils.trim.fq.fastqc2-pbs', 'OFHS.trim.fq.fastqc2-pbs', 'POF-eye.trim.fq.fastqc2-pbs', 'POF-ts.trim.fq.fastqc2-pbs', 'PSMGill.trim.fq.fastqc2-pbs', 'Rope.trim.fq.fastqc2-pbs', 'SMGill.trim.fq.fastqc2-pbs', 'SMHS.trim.fq.fastqc2-pbs', 'SN.trim.fq.fastqc2-pbs', 'SPDI.trim.fq.fastqc2-pbs', 'spinal_cord_paired.trim.fq.fastqc2-pbs', 'SPK.trim.fq.fastqc2-pbs', 'SPPI.trim.fq.fastqc2-pbs', 'Stg-1-Intestine.trim.fq.fastqc2-pbs', 'Stg-1-Kidney.trim.fq.fastqc2-pbs', 'Stg-2-Intestine.trim.fq.fastqc2-pbs', 'Stg-2-Kidney.trim.fq.fastqc2-pbs', 'Stg-3-Intestine.trim.fq.fastqc2-pbs', 'Stg-3-Kidney.trim.fq.fastqc2-pbs', 'Stg-4-Intestine.trim.fq.fastqc2-pbs', 'Stg-4-Kidney.trim.fq.fastqc2-pbs', 'Stg-5-Intestine.trim.fq.fastqc2-pbs', 'Stg-5-Kidney.trim.fq.fastqc2-pbs', 'Stg-6-Intestine.trim.fq.fastqc2-pbs', 'Stg-6-Kidney.trim.fq.fastqc2-pbs', 'Stg-7-Intestine.trim.fq.fastqc2-pbs', 'Stg-7-Kidney.trim.fq.fastqc2-pbs', 'SW2-Gill.trim.fq.fastqc2-pbs', 'SW2-Intestine-a.trim.fq.fastqc2-pbs', 'SW2-Intestine-b.trim.fq.fastqc2-pbs', 'SW2-Kidney.trim.fq.fastqc2-pbs']\n"
       ]
      }
     ],
     "prompt_number": 58
    },
    {
     "cell_type": "code",
     "collapsed": false,
     "input": [],
     "language": "python",
     "metadata": {},
     "outputs": [],
     "prompt_number": 58
    },
    {
     "cell_type": "code",
     "collapsed": false,
     "input": [
      "C = 50\n",
      "X = 1e10\n",
      "K = 20\n",
      "\n",
      "allreads = [L[:-4] for L in trimmed]\n",
      "print allreads\n",
      "dg = [L + '.keep' for L in allreads]\n",
      "\n",
      "rule = '''\n",
      "\n",
      "# PREPARE FOR HEAD EXPLOSION\n",
      "# but really, this is better than it used to be. who needs wildcards?\n",
      "\n",
      "TRIMMED_OUT={allreads}\n",
      "\n",
      "DG50_OUT={dg}\n",
      "'''.format(allreads=' '.join(allreads), dg=' '.join(dg))\n",
      "\n",
      "makefile += rule\n",
      "\n",
      "with open('diginorm.c50.sub', 'wb') as pbsfp:\n",
      "    rule='''\n",
      "\\ndiginorm.c50: $(DG50_OUT)\n",
      "\\n$(DG50_OUT): $(TRIMMED_OUT)\n",
      "\\t$(TIME) -o diginorm.c50.time $(KHMER)/scripts/normalize-by-median.py -x {X} -N 4 -k {K} -C {C} -s diginorm.c50.ht -R diginorm.c50.report $(TRIMMED_OUT)\n",
      "'''.format(X=X, C=C, K=K)\n",
      "    makefile += rule\n",
      "    \n",
      "    sub = '''\n",
      "#!/bin/bash -login\n",
      "cd $PBS_O_WORKDIR\n",
      "module load screed\n",
      "export PYTHONPATH=$PYTHONPATH:~/bin/khmer/python\n",
      "make diginorm.c50\n",
      "'''\n",
      "    pbsfp.write(sub)\n",
      "    \n",
      "    pbsrule = '''\n",
      "diginorm.c50-pbs:\n",
      "\\tqsub -l $(DGRES) diginorm.c50.sub\n",
      "'''\n",
      "    makefile += pbsrule"
     ],
     "language": "python",
     "metadata": {},
     "outputs": [
      {
       "output_type": "stream",
       "stream": "stdout",
       "text": [
        "['614GMAAXX_1_1_pf.trim.fq', '614GMAAXX_2_1_pf.trim.fq', '614GMAAXX_3_1_pf.trim.fq', '614GMAAXX_4_1_pf.trim.fq', '614GMAAXX_6_1_pf.trim.fq', '614GMAAXX_7_1_pf.trim.fq', '614GMAAXX_8_1_pf.trim.fq', 'AB057JABXX_s_7_pe.trim.fq', 'AI.trim.fq', 'AK.trim.fq', 'BB0582ABXX_s_3_pe.trim.fq', 'BB0582ABXX_s_4_pe.trim.fq', 'BB0582ABXX_s_5_pe.trim.fq', 'BB0582ABXX_s_6_pe.trim.fq', 'BB0582ABXX_s_7_pe.trim.fq', 'BB0582ABXX_s_8_pe.trim.fq', 'brain_paired.trim.fq', 'FW1-Gill.trim.fq', 'FW1-Intestine.trim.fq', 'FW1-Kidney.trim.fq', 'G81-a.trim.fq', 'G81-b.trim.fq', 'G82-a.trim.fq', 'G82-b.trim.fq', 'G83-a.trim.fq', 'G83-b.trim.fq', 'Gill.trim.fq', 'JV1_liver.trim.fq', 'JVa_liver.trim.fq', 'JVb_liver.trim.fq', 'JV_intest.trim.fq', 'Kidney.trim.fq', 'L81-a.trim.fq', 'L81-b.trim.fq', 'L82-a.trim.fq', 'L82-b.trim.fq', 'L83-1-a.trim.fq', 'L83-1-b.trim.fq', 'L83-a.trim.fq', 'L83-b.trim.fq', 'LI.trim.fq', 'Lips.trim.fq', 'LK.trim.fq', 'M0_liver.trim.fq', 'M2_liver.trim.fq', 'M5_liver.trim.fq', 'Monocytes.trim.fq', 'mssm_single_s1.trim.fq', 'mssm_single_s2.trim.fq', 'mssm_single_s3.trim.fq', 'mssm_single_s5.trim.fq', 'mssm_single_s6.trim.fq', 'mssm_single_s7.trim.fq', 'Muscle.trim.fq', 'Neutrophils.trim.fq', 'OFHS.trim.fq', 'POF-eye.trim.fq', 'POF-ts.trim.fq', 'PSMGill.trim.fq', 'Rope.trim.fq', 'SMGill.trim.fq', 'SMHS.trim.fq', 'SN.trim.fq', 'SPDI.trim.fq', 'spinal_cord_paired.trim.fq', 'SPK.trim.fq', 'SPPI.trim.fq', 'Stg-1-Intestine.trim.fq', 'Stg-1-Kidney.trim.fq', 'Stg-2-Intestine.trim.fq', 'Stg-2-Kidney.trim.fq', 'Stg-3-Intestine.trim.fq', 'Stg-3-Kidney.trim.fq', 'Stg-4-Intestine.trim.fq', 'Stg-4-Kidney.trim.fq', 'Stg-5-Intestine.trim.fq', 'Stg-5-Kidney.trim.fq', 'Stg-6-Intestine.trim.fq', 'Stg-6-Kidney.trim.fq', 'Stg-7-Intestine.trim.fq', 'Stg-7-Kidney.trim.fq', 'SW2-Gill.trim.fq', 'SW2-Intestine-a.trim.fq', 'SW2-Intestine-b.trim.fq', 'SW2-Kidney.trim.fq']\n"
       ]
      }
     ],
     "prompt_number": 59
    },
    {
     "cell_type": "code",
     "collapsed": false,
     "input": [],
     "language": "python",
     "metadata": {},
     "outputs": [],
     "prompt_number": 59
    },
    {
     "cell_type": "code",
     "collapsed": false,
     "input": [
      "cutoff=2\n",
      "Z=20\n",
      "X=1e10\n",
      "K=20\n",
      "print dg\n",
      "abund = [R + '.abundtrim' for R in dg]\n",
      "\n",
      "rule = '''\n",
      "ABUND_OUT={abund}\n",
      "'''.format(abund=' '.join(abund))\n",
      "\n",
      "makefile += rule\n",
      "\n",
      "with open('trimlowabund.sub', 'wb') as pbsfp:\n",
      "    rule = '''\n",
      "\\nall.abundtrim: $(ABUND_OUT)\n",
      "\\n$(ABUND_OUT): $(DG50_OUT)\n",
      "\\t$(TIME) -o abundfilt.time python $(KHMER)/sandbox/trim-low-abund.py -x {X} -k {K} -Z {Z} -C {C} $(DG50_OUT)\n",
      "'''.format(Z=Z, C=cutoff, K=K, X=X)\n",
      "    \n",
      "    makefile += rule\n",
      "    \n",
      "    sub = '''\n",
      "#!/bin/bash -login\n",
      "cd $PBS_O_WORKDIR\n",
      "module load screed\n",
      "export PYTHONPATH=$PYTHONPATH:~/bin/khmer/python\n",
      "make all.abundtrim\n",
      "'''\n",
      "    pbsfp.write(sub)\n",
      "    \n",
      "    pbsrule = '''\n",
      "all.abundtrim-pbs:\n",
      "\\tqsub -l $(ABUNDRES) trimlowabund.sub\n",
      "'''\n",
      "    makefile += pbsrule\n"
     ],
     "language": "python",
     "metadata": {},
     "outputs": [
      {
       "output_type": "stream",
       "stream": "stdout",
       "text": [
        "['614GMAAXX_1_1_pf.trim.fq.keep', '614GMAAXX_2_1_pf.trim.fq.keep', '614GMAAXX_3_1_pf.trim.fq.keep', '614GMAAXX_4_1_pf.trim.fq.keep', '614GMAAXX_6_1_pf.trim.fq.keep', '614GMAAXX_7_1_pf.trim.fq.keep', '614GMAAXX_8_1_pf.trim.fq.keep', 'AB057JABXX_s_7_pe.trim.fq.keep', 'AI.trim.fq.keep', 'AK.trim.fq.keep', 'BB0582ABXX_s_3_pe.trim.fq.keep', 'BB0582ABXX_s_4_pe.trim.fq.keep', 'BB0582ABXX_s_5_pe.trim.fq.keep', 'BB0582ABXX_s_6_pe.trim.fq.keep', 'BB0582ABXX_s_7_pe.trim.fq.keep', 'BB0582ABXX_s_8_pe.trim.fq.keep', 'brain_paired.trim.fq.keep', 'FW1-Gill.trim.fq.keep', 'FW1-Intestine.trim.fq.keep', 'FW1-Kidney.trim.fq.keep', 'G81-a.trim.fq.keep', 'G81-b.trim.fq.keep', 'G82-a.trim.fq.keep', 'G82-b.trim.fq.keep', 'G83-a.trim.fq.keep', 'G83-b.trim.fq.keep', 'Gill.trim.fq.keep', 'JV1_liver.trim.fq.keep', 'JVa_liver.trim.fq.keep', 'JVb_liver.trim.fq.keep', 'JV_intest.trim.fq.keep', 'Kidney.trim.fq.keep', 'L81-a.trim.fq.keep', 'L81-b.trim.fq.keep', 'L82-a.trim.fq.keep', 'L82-b.trim.fq.keep', 'L83-1-a.trim.fq.keep', 'L83-1-b.trim.fq.keep', 'L83-a.trim.fq.keep', 'L83-b.trim.fq.keep', 'LI.trim.fq.keep', 'Lips.trim.fq.keep', 'LK.trim.fq.keep', 'M0_liver.trim.fq.keep', 'M2_liver.trim.fq.keep', 'M5_liver.trim.fq.keep', 'Monocytes.trim.fq.keep', 'mssm_single_s1.trim.fq.keep', 'mssm_single_s2.trim.fq.keep', 'mssm_single_s3.trim.fq.keep', 'mssm_single_s5.trim.fq.keep', 'mssm_single_s6.trim.fq.keep', 'mssm_single_s7.trim.fq.keep', 'Muscle.trim.fq.keep', 'Neutrophils.trim.fq.keep', 'OFHS.trim.fq.keep', 'POF-eye.trim.fq.keep', 'POF-ts.trim.fq.keep', 'PSMGill.trim.fq.keep', 'Rope.trim.fq.keep', 'SMGill.trim.fq.keep', 'SMHS.trim.fq.keep', 'SN.trim.fq.keep', 'SPDI.trim.fq.keep', 'spinal_cord_paired.trim.fq.keep', 'SPK.trim.fq.keep', 'SPPI.trim.fq.keep', 'Stg-1-Intestine.trim.fq.keep', 'Stg-1-Kidney.trim.fq.keep', 'Stg-2-Intestine.trim.fq.keep', 'Stg-2-Kidney.trim.fq.keep', 'Stg-3-Intestine.trim.fq.keep', 'Stg-3-Kidney.trim.fq.keep', 'Stg-4-Intestine.trim.fq.keep', 'Stg-4-Kidney.trim.fq.keep', 'Stg-5-Intestine.trim.fq.keep', 'Stg-5-Kidney.trim.fq.keep', 'Stg-6-Intestine.trim.fq.keep', 'Stg-6-Kidney.trim.fq.keep', 'Stg-7-Intestine.trim.fq.keep', 'Stg-7-Kidney.trim.fq.keep', 'SW2-Gill.trim.fq.keep', 'SW2-Intestine-a.trim.fq.keep', 'SW2-Intestine-b.trim.fq.keep', 'SW2-Kidney.trim.fq.keep']\n"
       ]
      }
     ],
     "prompt_number": 60
    },
    {
     "cell_type": "code",
     "collapsed": true,
     "input": [
      "C = 20\n",
      "X = 1e10\n",
      "K = 20\n",
      "print abund\n",
      "dg2 = [L + '.keep' for L in dg]\n",
      "\n",
      "rule = '''\n",
      "DG20_OUT={dg2}\n",
      "'''.format(dg2=' '.join(dg2))\n",
      "\n",
      "with open('diginorm.c20.sub', 'wb') as pbsfp:\n",
      "    rule='''\n",
      "\\ndiginorm.c20: $(DG20_OUT)\n",
      "\\n$(DG20_OUT): $(ABUND_OUT)\n",
      "\\t$(TIME) -o diginorm.c20.time $(KHMER)/scripts/normalize-by-median.py -x {X} -N 4 -k {K} -C {C} -s diginorm.c20.ht -R diginorm.c20.report $(ABUND_OUT)\n",
      "\\tcat $(DG20_OUT) > all.c20.fq\n",
      "\\tpython $(KHMER)/sandbox/fastq-to-fasta.py all.c20.fq\n",
      "'''.format(X=X, C=C, K=K)\n",
      "    makefile += rule\n",
      "    \n",
      "    sub = '''\n",
      "#!/bin/bash -login\n",
      "cd $PBS_O_WORKDIR\n",
      "module load screed\n",
      "export PYTHONPATH=$PYTHONPATH:~/bin/khmer/python\n",
      "make diginorm.c20\n",
      "'''\n",
      "    pbsfp.write(sub)\n",
      "    \n",
      "    pbsrule = '''\n",
      "diginorm.c20-pbs:\n",
      "\\tqsub -l $(DGRES) diginorm.c20.sub\n",
      "'''\n",
      "    makefile += pbsrule"
     ],
     "language": "python",
     "metadata": {},
     "outputs": [
      {
       "output_type": "stream",
       "stream": "stdout",
       "text": [
        "['614GMAAXX_1_1_pf.trim.fq.keep.abundtrim', '614GMAAXX_2_1_pf.trim.fq.keep.abundtrim', '614GMAAXX_3_1_pf.trim.fq.keep.abundtrim', '614GMAAXX_4_1_pf.trim.fq.keep.abundtrim', '614GMAAXX_6_1_pf.trim.fq.keep.abundtrim', '614GMAAXX_7_1_pf.trim.fq.keep.abundtrim', '614GMAAXX_8_1_pf.trim.fq.keep.abundtrim', 'AB057JABXX_s_7_pe.trim.fq.keep.abundtrim', 'AI.trim.fq.keep.abundtrim', 'AK.trim.fq.keep.abundtrim', 'BB0582ABXX_s_3_pe.trim.fq.keep.abundtrim', 'BB0582ABXX_s_4_pe.trim.fq.keep.abundtrim', 'BB0582ABXX_s_5_pe.trim.fq.keep.abundtrim', 'BB0582ABXX_s_6_pe.trim.fq.keep.abundtrim', 'BB0582ABXX_s_7_pe.trim.fq.keep.abundtrim', 'BB0582ABXX_s_8_pe.trim.fq.keep.abundtrim', 'brain_paired.trim.fq.keep.abundtrim', 'FW1-Gill.trim.fq.keep.abundtrim', 'FW1-Intestine.trim.fq.keep.abundtrim', 'FW1-Kidney.trim.fq.keep.abundtrim', 'G81-a.trim.fq.keep.abundtrim', 'G81-b.trim.fq.keep.abundtrim', 'G82-a.trim.fq.keep.abundtrim', 'G82-b.trim.fq.keep.abundtrim', 'G83-a.trim.fq.keep.abundtrim', 'G83-b.trim.fq.keep.abundtrim', 'Gill.trim.fq.keep.abundtrim', 'JV1_liver.trim.fq.keep.abundtrim', 'JVa_liver.trim.fq.keep.abundtrim', 'JVb_liver.trim.fq.keep.abundtrim', 'JV_intest.trim.fq.keep.abundtrim', 'Kidney.trim.fq.keep.abundtrim', 'L81-a.trim.fq.keep.abundtrim', 'L81-b.trim.fq.keep.abundtrim', 'L82-a.trim.fq.keep.abundtrim', 'L82-b.trim.fq.keep.abundtrim', 'L83-1-a.trim.fq.keep.abundtrim', 'L83-1-b.trim.fq.keep.abundtrim', 'L83-a.trim.fq.keep.abundtrim', 'L83-b.trim.fq.keep.abundtrim', 'LI.trim.fq.keep.abundtrim', 'Lips.trim.fq.keep.abundtrim', 'LK.trim.fq.keep.abundtrim', 'M0_liver.trim.fq.keep.abundtrim', 'M2_liver.trim.fq.keep.abundtrim', 'M5_liver.trim.fq.keep.abundtrim', 'Monocytes.trim.fq.keep.abundtrim', 'mssm_single_s1.trim.fq.keep.abundtrim', 'mssm_single_s2.trim.fq.keep.abundtrim', 'mssm_single_s3.trim.fq.keep.abundtrim', 'mssm_single_s5.trim.fq.keep.abundtrim', 'mssm_single_s6.trim.fq.keep.abundtrim', 'mssm_single_s7.trim.fq.keep.abundtrim', 'Muscle.trim.fq.keep.abundtrim', 'Neutrophils.trim.fq.keep.abundtrim', 'OFHS.trim.fq.keep.abundtrim', 'POF-eye.trim.fq.keep.abundtrim', 'POF-ts.trim.fq.keep.abundtrim', 'PSMGill.trim.fq.keep.abundtrim', 'Rope.trim.fq.keep.abundtrim', 'SMGill.trim.fq.keep.abundtrim', 'SMHS.trim.fq.keep.abundtrim', 'SN.trim.fq.keep.abundtrim', 'SPDI.trim.fq.keep.abundtrim', 'spinal_cord_paired.trim.fq.keep.abundtrim', 'SPK.trim.fq.keep.abundtrim', 'SPPI.trim.fq.keep.abundtrim', 'Stg-1-Intestine.trim.fq.keep.abundtrim', 'Stg-1-Kidney.trim.fq.keep.abundtrim', 'Stg-2-Intestine.trim.fq.keep.abundtrim', 'Stg-2-Kidney.trim.fq.keep.abundtrim', 'Stg-3-Intestine.trim.fq.keep.abundtrim', 'Stg-3-Kidney.trim.fq.keep.abundtrim', 'Stg-4-Intestine.trim.fq.keep.abundtrim', 'Stg-4-Kidney.trim.fq.keep.abundtrim', 'Stg-5-Intestine.trim.fq.keep.abundtrim', 'Stg-5-Kidney.trim.fq.keep.abundtrim', 'Stg-6-Intestine.trim.fq.keep.abundtrim', 'Stg-6-Kidney.trim.fq.keep.abundtrim', 'Stg-7-Intestine.trim.fq.keep.abundtrim', 'Stg-7-Kidney.trim.fq.keep.abundtrim', 'SW2-Gill.trim.fq.keep.abundtrim', 'SW2-Intestine-a.trim.fq.keep.abundtrim', 'SW2-Intestine-b.trim.fq.keep.abundtrim', 'SW2-Kidney.trim.fq.keep.abundtrim']\n"
       ]
      }
     ],
     "prompt_number": 61
    },
    {
     "cell_type": "code",
     "collapsed": false,
     "input": [
      "with open('seqclean.sub', 'wb') as pbsfp:\n",
      "    rule = '''\n",
      "all.c20.fa.clean: all.c20.fa\n",
      "\\t$(TIME) -o all.c20.clean.time $(SEQCLEAN) all.c20.fa -c 8 -v ../db/univec_core.fa -s adapters.fa -l 31'''\n",
      "    makefile += rule\n",
      "    \n",
      "    sub = '''\n",
      "#!/bin/bash -login\n",
      "cd $PBS_O_WORKDIR\n",
      "export PYTHONPATH=$PYTHONPATH:~/bin/khmer/python\n",
      "make all.c20.fa.clean\n",
      "'''\n",
      "    pbsfp.write(sub)\n",
      "    \n",
      "    pbsrule = '''\n",
      "all.c20.fa.clean-pbs: all.c20.fa\n",
      "\\tqsub -l $(CLEANRES) seqclean.sub'''\n",
      "    \n",
      "    makefile += pbsrule"
     ],
     "language": "python",
     "metadata": {},
     "outputs": [],
     "prompt_number": 62
    },
    {
     "cell_type": "code",
     "collapsed": false,
     "input": [],
     "language": "python",
     "metadata": {},
     "outputs": [],
     "prompt_number": 62
    },
    {
     "cell_type": "code",
     "collapsed": false,
     "input": [
      "clean = '''\n",
      "clean:\n",
      "\\trm -rf *.time *.clean *.keep *.trim.fq *.report *.log *.trimlog *.ht cleaning_*/ *.cidx *.cln all.c20.fa all.c20.fq *.sort\n",
      "'''\n",
      "makefile += clean"
     ],
     "language": "python",
     "metadata": {},
     "outputs": [],
     "prompt_number": 63
    },
    {
     "cell_type": "code",
     "collapsed": false,
     "input": [
      "#print makefile"
     ],
     "language": "python",
     "metadata": {},
     "outputs": [],
     "prompt_number": 64
    },
    {
     "cell_type": "code",
     "collapsed": false,
     "input": [
      "with open('Makefile', 'wb') as mfp:\n",
      "    for line in makefile:\n",
      "        mfp.write(line)"
     ],
     "language": "python",
     "metadata": {},
     "outputs": [],
     "prompt_number": 65
    },
    {
     "cell_type": "code",
     "collapsed": false,
     "input": [],
     "language": "python",
     "metadata": {},
     "outputs": [],
     "prompt_number": 65
    }
   ],
   "metadata": {}
  }
 ]
}