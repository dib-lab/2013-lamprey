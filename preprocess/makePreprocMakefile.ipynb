{
 "metadata": {
  "name": "makePreprocMakefile"
 },
 "nbformat": 3,
 "nbformat_minor": 0,
 "worksheets": [
  {
   "cells": [
    {
     "cell_type": "heading",
     "level": 1,
     "metadata": {},
     "source": [
      "Lamprey mRNAseq Preprocessing: Makefile and PBS script generation"
     ]
    },
    {
     "cell_type": "code",
     "collapsed": false,
     "input": [
      "import os"
     ],
     "language": "python",
     "metadata": {},
     "outputs": [],
     "prompt_number": 140
    },
    {
     "cell_type": "code",
     "collapsed": false,
     "input": [
      "reads = ['/w/hpcc/lamprey/reads/all/614GMAAXX_1_1_pf.qc.fq.gz', '/w/hpcc/lamprey/reads/all/614GMAAXX_2_1_pf.qc.fq.gz', '/w/hpcc/lamprey/reads/all/614GMAAXX_3_1_pf.qc.fq.gz', '/w/hpcc/lamprey/reads/all/614GMAAXX_4_1_pf.qc.fq.gz', '/w/hpcc/lamprey/reads/all/614GMAAXX_6_1_pf.qc.fq.gz', '/w/hpcc/lamprey/reads/all/614GMAAXX_7_1_pf.qc.fq.gz', '/w/hpcc/lamprey/reads/all/614GMAAXX_8_1_pf.qc.fq.gz', '/w/hpcc/lamprey/reads/all/AB057JABXX_s_7_pe.trim.fq.gz', '/w/hpcc/lamprey/reads/all/AI.fq.gz', '/w/hpcc/lamprey/reads/all/AK.fq.gz', '/w/hpcc/lamprey/reads/all/BB0582ABXX_s_3_pe.trim.fq.gz', '/w/hpcc/lamprey/reads/all/BB0582ABXX_s_4_pe.trim.fq.gz', '/w/hpcc/lamprey/reads/all/BB0582ABXX_s_5_pe.trim.fq.gz', '/w/hpcc/lamprey/reads/all/BB0582ABXX_s_6_pe.trim.fq.gz', '/w/hpcc/lamprey/reads/all/BB0582ABXX_s_7_pe.trim.fq.gz', '/w/hpcc/lamprey/reads/all/BB0582ABXX_s_8_pe.trim.fq.gz', '/w/hpcc/lamprey/reads/all/brain_paired.qc.fq.gz', '/w/hpcc/lamprey/reads/all/FW1-Gill.fq.gz', '/w/hpcc/lamprey/reads/all/FW1-Intestine.fq.gz', '/w/hpcc/lamprey/reads/all/FW1-Kidney.fq.gz', '/w/hpcc/lamprey/reads/all/G81-a.fq.gz', '/w/hpcc/lamprey/reads/all/G81-b.fq.gz', '/w/hpcc/lamprey/reads/all/G82-a.fq.gz', '/w/hpcc/lamprey/reads/all/G82-b.fq.gz', '/w/hpcc/lamprey/reads/all/G83-a.fq.gz', '/w/hpcc/lamprey/reads/all/G83-b.fq.gz', '/w/hpcc/lamprey/reads/all/Gill.fq.gz', '/w/hpcc/lamprey/reads/all/JV1_liver.fq.gz', '/w/hpcc/lamprey/reads/all/JVa_liver.fq.gz', '/w/hpcc/lamprey/reads/all/JVb_liver.fq.gz', '/w/hpcc/lamprey/reads/all/JV_intest.fq.gz', '/w/hpcc/lamprey/reads/all/Kidney.fq.gz', '/w/hpcc/lamprey/reads/all/L81-a.fq.gz', '/w/hpcc/lamprey/reads/all/L81-b.fq.gz', '/w/hpcc/lamprey/reads/all/L82-a.fq.gz', '/w/hpcc/lamprey/reads/all/L82-b.fq.gz', '/w/hpcc/lamprey/reads/all/L83-1-a.fq.gz', '/w/hpcc/lamprey/reads/all/L83-1-b.fq.gz', '/w/hpcc/lamprey/reads/all/L83-a.fq.gz', '/w/hpcc/lamprey/reads/all/L83-b.fq.gz', '/w/hpcc/lamprey/reads/all/LI.fq.gz', '/w/hpcc/lamprey/reads/all/Lips.fq.gz', '/w/hpcc/lamprey/reads/all/LK.fq.gz', '/w/hpcc/lamprey/reads/all/M0_liver.fq.gz', '/w/hpcc/lamprey/reads/all/M2_liver.fq.gz', '/w/hpcc/lamprey/reads/all/M5_liver.fq.gz', '/w/hpcc/lamprey/reads/all/Monocytes.fq.gz', '/w/hpcc/lamprey/reads/all/mssm_single_s1.trim.fq.gz', '/w/hpcc/lamprey/reads/all/mssm_single_s2.trim.fq.gz', '/w/hpcc/lamprey/reads/all/mssm_single_s3.trim.fq.gz', '/w/hpcc/lamprey/reads/all/mssm_single_s5.trim.fq.gz', '/w/hpcc/lamprey/reads/all/mssm_single_s6.trim.fq.gz', '/w/hpcc/lamprey/reads/all/mssm_single_s7.trim.fq.gz', '/w/hpcc/lamprey/reads/all/Muscle.fq.gz', '/w/hpcc/lamprey/reads/all/Neutrophils.fq.gz', '/w/hpcc/lamprey/reads/all/OFHS.fq.gz', '/w/hpcc/lamprey/reads/all/POF-eye.fq.gz', '/w/hpcc/lamprey/reads/all/POF-ts.fq.gz', '/w/hpcc/lamprey/reads/all/PSMGill.fq.gz', '/w/hpcc/lamprey/reads/all/Rope.fq.gz', '/w/hpcc/lamprey/reads/all/SMGill.fq.gz', '/w/hpcc/lamprey/reads/all/SMHS.fq.gz', '/w/hpcc/lamprey/reads/all/SN.fq.gz', '/w/hpcc/lamprey/reads/all/SPDI.fq.gz', '/w/hpcc/lamprey/reads/all/spinal_cord_paired.qc.fq.gz', '/w/hpcc/lamprey/reads/all/SPK.fq.gz', '/w/hpcc/lamprey/reads/all/SPPI.fq.gz', '/w/hpcc/lamprey/reads/all/Stg-1-Intestine.fq.gz', '/w/hpcc/lamprey/reads/all/Stg-1-Kidney.fq.gz', '/w/hpcc/lamprey/reads/all/Stg-2-Intestine.fq.gz', '/w/hpcc/lamprey/reads/all/Stg-2-Kidney.fq.gz', '/w/hpcc/lamprey/reads/all/Stg-3-Intestine.fq.gz', '/w/hpcc/lamprey/reads/all/Stg-3-Kidney.fq.gz', '/w/hpcc/lamprey/reads/all/Stg-4-Intestine.fq.gz', '/w/hpcc/lamprey/reads/all/Stg-4-Kidney.fq.gz', '/w/hpcc/lamprey/reads/all/Stg-5-Intestine.fq.gz', '/w/hpcc/lamprey/reads/all/Stg-5-Kidney.fq.gz', '/w/hpcc/lamprey/reads/all/Stg-6-Intestine.fq.gz', '/w/hpcc/lamprey/reads/all/Stg-6-Kidney.fq.gz', '/w/hpcc/lamprey/reads/all/Stg-7-Intestine.fq.gz', '/w/hpcc/lamprey/reads/all/Stg-7-Kidney.fq.gz', '/w/hpcc/lamprey/reads/all/SW2-Gill.fq.gz', '/w/hpcc/lamprey/reads/all/SW2-Intestine-a.fq.gz', '/w/hpcc/lamprey/reads/all/SW2-Intestine-b.fq.gz', '/w/hpcc/lamprey/reads/all/SW2-Kidney.fq.gz']"
     ],
     "language": "python",
     "metadata": {},
     "outputs": [],
     "prompt_number": 141
    },
    {
     "cell_type": "code",
     "collapsed": false,
     "input": [
      "#reads = !ls *.head.gz"
     ],
     "language": "python",
     "metadata": {},
     "outputs": [],
     "prompt_number": 142
    },
    {
     "cell_type": "code",
     "collapsed": false,
     "input": [
      "src_dir = '/mnt/scratch/welcherc/lamprey/dnaseq'"
     ],
     "language": "python",
     "metadata": {},
     "outputs": [],
     "prompt_number": 143
    },
    {
     "cell_type": "code",
     "collapsed": false,
     "input": [
      "print reads"
     ],
     "language": "python",
     "metadata": {},
     "outputs": [
      {
       "output_type": "stream",
       "stream": "stdout",
       "text": [
        "['AB057JABXX_s_7_pe.trim.fq.gz.head.gz', 'brain_paired.qc.fq.gz.head.gz', 'Gill.fq.gz.head.gz', 'Kidney.fq.gz.head.gz', 'mssm_single_s1.trim.fq.gz.head.gz', 'Muscle.fq.gz.head.gz', 'SN.fq.gz.head.gz', 'SPK.fq.gz.head.gz', 'SW2-Kidney.fq.gz.head.gz']\n"
       ]
      }
     ],
     "prompt_number": 144
    },
    {
     "cell_type": "code",
     "collapsed": false,
     "input": [
      "makefile = '''\n",
      "KHMER=~/tools/khmer\n",
      "SEQCLEAN=seqclean\n",
      "TRIM=~/bin/Trimmomatic-0.25/trimmomatic-0.25.jar\n",
      "TIME=/usr/bin/time -f \"\\\\n%E elapsed\\\\n%U user cpu seconds\\\\n%K average total memory\\\\n%W times swapped out of main mem\\\\n%w total waits\\\\n%I filesystem inputs\\\\n%O filesystem outputs\\\\n\"\n",
      "KMERGENIE=~/bin/kmergenie-1.5397/kmergenie\n",
      "\n",
      "KMERRES=nodes=1:ppn=4,walltime=72:00:00,mem=32gb\n",
      "TRIMRES=nodes=1:ppn=4,walltime=18:00:00,mem=4gb\n",
      "QCRES=nodes=1:ppn=1,walltime=2:00:00,mem=4gb\n",
      "DGRES=nodes=1:ppn=1,walltime=72:00:00,mem=42gb\n",
      "CLEANRES=nodes=1:ppn=8,walltime=12:00:00,mem=8gb\n",
      "'''"
     ],
     "language": "python",
     "metadata": {},
     "outputs": [],
     "prompt_number": 145
    },
    {
     "cell_type": "code",
     "collapsed": false,
     "input": [
      "fqc1 = []\n",
      "for f in reads:\n",
      "    name = os.path.basename(f)\n",
      "    bname, _, _ = name.partition('.')  \n",
      "    with open('{}.fastqc1.sub'.format(bname), 'wb') as pbsfp:\n",
      "        sub = '''\n",
      "#!/bin/bash -login\n",
      "cd $PBS_O_WORKDIR\n",
      "module load FastQC\n",
      "make {}.fastqc1'''.format(bname)\n",
      "        \n",
      "        pbsfp.write(sub)\n",
      "        \n",
      "        rule = '''\n",
      "{bname}.fastqc1:\n",
      "\\tfastqc --noextract {name}\n",
      "'''.format(bname=bname, name=name)\n",
      "        \n",
      "        pbsrule = '''\n",
      "{bname}.fastqc1-pbs:\n",
      "\\tqsub -l $(QCRES) {bname}.fastqc1.sub\n",
      "'''.format(bname=bname)\n",
      "        \n",
      "        makefile += rule\n",
      "        makefile += pbsrule\n",
      "        \n",
      "        fqc1.append('{bname}.fastqc1-pbs'.format(bname=bname))\n",
      "\n",
      "makefile += '\\nfastqc1-pbs: {}'.format(' '.join(fqc1))\n",
      "print fqc1"
     ],
     "language": "python",
     "metadata": {},
     "outputs": [
      {
       "output_type": "stream",
       "stream": "stdout",
       "text": [
        "['AB057JABXX_s_7_pe.fastqc1-pbs', 'brain_paired.fastqc1-pbs', 'Gill.fastqc1-pbs', 'Kidney.fastqc1-pbs', 'mssm_single_s1.fastqc1-pbs', 'Muscle.fastqc1-pbs', 'SN.fastqc1-pbs', 'SPK.fastqc1-pbs', 'SW2-Kidney.fastqc1-pbs']\n"
       ]
      }
     ],
     "prompt_number": 146
    },
    {
     "cell_type": "code",
     "collapsed": false,
     "input": [
      "t = ['SN.fastqc1-pbs', 'SPDI.fastqc1-pbs', 'spinal_cord_paired.fastqc1-pbs', 'SPK.fastqc1-pbs', 'SPPI.fastqc1-pbs', 'Stg-1-Intestine.fastqc1-pbs', 'Stg-1-Kidney.fastqc1-pbs', 'Stg-2-Intestine.fastqc1-pbs', 'Stg-2-Kidney.fastqc1-pbs', 'Stg-3-Intestine.fastqc1-pbs', 'Stg-3-Kidney.fastqc1-pbs', 'Stg-4-Intestine.fastqc1-pbs', 'Stg-4-Kidney.fastqc1-pbs', 'Stg-5-Intestine.fastqc1-pbs', 'Stg-5-Kidney.fastqc1-pbs', 'Stg-6-Intestine.fastqc1-pbs', 'Stg-6-Kidney.fastqc1-pbs', 'Stg-7-Intestine.fastqc1-pbs', 'Stg-7-Kidney.fastqc1-pbs', 'SW2-Gill.fastqc1-pbs', 'SW2-Intestine-a.fastqc1-pbs', 'SW2-Intestine-b.fastqc1-pbs', 'SW2-Kidney.fastqc1-pbs']"
     ],
     "language": "python",
     "metadata": {},
     "outputs": [],
     "prompt_number": 147
    },
    {
     "cell_type": "code",
     "collapsed": false,
     "input": [
      "print ' '.join(t)"
     ],
     "language": "python",
     "metadata": {},
     "outputs": [
      {
       "output_type": "stream",
       "stream": "stdout",
       "text": [
        "SN.fastqc1-pbs SPDI.fastqc1-pbs spinal_cord_paired.fastqc1-pbs SPK.fastqc1-pbs SPPI.fastqc1-pbs Stg-1-Intestine.fastqc1-pbs Stg-1-Kidney.fastqc1-pbs Stg-2-Intestine.fastqc1-pbs Stg-2-Kidney.fastqc1-pbs Stg-3-Intestine.fastqc1-pbs Stg-3-Kidney.fastqc1-pbs Stg-4-Intestine.fastqc1-pbs Stg-4-Kidney.fastqc1-pbs Stg-5-Intestine.fastqc1-pbs Stg-5-Kidney.fastqc1-pbs Stg-6-Intestine.fastqc1-pbs Stg-6-Kidney.fastqc1-pbs Stg-7-Intestine.fastqc1-pbs Stg-7-Kidney.fastqc1-pbs SW2-Gill.fastqc1-pbs SW2-Intestine-a.fastqc1-pbs SW2-Intestine-b.fastqc1-pbs SW2-Kidney.fastqc1-pbs\n"
       ]
      }
     ],
     "prompt_number": 148
    },
    {
     "cell_type": "code",
     "collapsed": false,
     "input": [
      "trimmed = []\n",
      "for f in reads:\n",
      "    name = os.path.basename(f)\n",
      "    bname, _, _ = name.partition('.')\n",
      "    with open('{}.trim.sub'.format(bname), 'wb') as pbsfp:\n",
      "        sub = '''\n",
      "#!/bin/bash -login\n",
      "cd $PBS_O_WORKDIR\n",
      "make {}.trim.fq'''.format(bname)\n",
      "        \n",
      "        pbsfp.write(sub)\n",
      "        \n",
      "        rule = '''\n",
      "{bname}.trim.fq: {name}\n",
      "\\t\\t$(TIME) -o {bname}.trim.time java -classpath $(TRIM) org.usadellab.trimmomatic.TrimmomaticSE -phred33 -trimlog {bname}.trimlog -threads 4 {name} {bname}.trim.fq ILLUMINACLIP:adapters.fa:2:40:15 SLIDINGWINDOW:4:15 MINLEN:31\n",
      "'''.format(bname=bname, name=name)\n",
      "        \n",
      "        pbsrule = '''\n",
      "{bname}.trim.fq-pbs:\n",
      "\\tqsub -l $(TRIMRES) {bname}.trim.sub\n",
      "'''.format(bname=bname)\n",
      "        \n",
      "        makefile += rule\n",
      "        makefile += pbsrule\n",
      "        \n",
      "        trimmed.append('{bname}.trim.fq-pbs'.format(bname=bname))\n",
      "\n",
      "makefile += '\\ntrim-pbs: {}'.format(' '.join(trimmed))\n",
      "print trimmed"
     ],
     "language": "python",
     "metadata": {},
     "outputs": [
      {
       "output_type": "stream",
       "stream": "stdout",
       "text": [
        "['AB057JABXX_s_7_pe.trim.fq-pbs', 'brain_paired.trim.fq-pbs', 'Gill.trim.fq-pbs', 'Kidney.trim.fq-pbs', 'mssm_single_s1.trim.fq-pbs', 'Muscle.trim.fq-pbs', 'SN.trim.fq-pbs', 'SPK.trim.fq-pbs', 'SW2-Kidney.trim.fq-pbs']\n"
       ]
      }
     ],
     "prompt_number": 149
    },
    {
     "cell_type": "code",
     "collapsed": true,
     "input": [
      "fqc2 = []\n",
      "for f in trimmed:\n",
      "    name = os.path.basename(f)\n",
      "    name = name[:-4]  \n",
      "    with open('{}.fastqc2.sub'.format(name), 'wb') as pbsfp:\n",
      "        sub = '''\n",
      "#!/bin/bash -login\n",
      "cd $PBS_O_WORKDIR\n",
      "module load FastQC\n",
      "make {}.fastqc2'''.format(name)\n",
      "        \n",
      "        pbsfp.write(sub)\n",
      "        \n",
      "        rule = '''\n",
      "{name}.fastqc2: {name}\n",
      "\\tfastqc --noextract {name}\n",
      "'''.format(name=name)\n",
      "        \n",
      "        pbsrule = '''\n",
      "{name}.fastqc2-pbs:\n",
      "\\tqsub -l $(QCRES) {name}.fastqc2.sub\n",
      "'''.format(name=name)\n",
      "        \n",
      "        makefile += rule\n",
      "        makefile += pbsrule\n",
      "        \n",
      "        fqc2.append('{name}.fastqc2-pbs'.format(name=name))\n",
      "\n",
      "makefile += '\\nfastqc2-pbs: {}'.format(' '.join(fqc2))\n",
      "print fqc2"
     ],
     "language": "python",
     "metadata": {},
     "outputs": [
      {
       "output_type": "stream",
       "stream": "stdout",
       "text": [
        "['AB057JABXX_s_7_pe.trim.fq.fastqc2-pbs', 'brain_paired.trim.fq.fastqc2-pbs', 'Gill.trim.fq.fastqc2-pbs', 'Kidney.trim.fq.fastqc2-pbs', 'mssm_single_s1.trim.fq.fastqc2-pbs', 'Muscle.trim.fq.fastqc2-pbs', 'SN.trim.fq.fastqc2-pbs', 'SPK.trim.fq.fastqc2-pbs', 'SW2-Kidney.trim.fq.fastqc2-pbs']\n"
       ]
      }
     ],
     "prompt_number": 150
    },
    {
     "cell_type": "code",
     "collapsed": false,
     "input": [],
     "language": "python",
     "metadata": {},
     "outputs": [],
     "prompt_number": 150
    },
    {
     "cell_type": "code",
     "collapsed": false,
     "input": [
      "C = 50\n",
      "X = 1e7\n",
      "K = 20\n",
      "\n",
      "allreads = [L[:-4] for L in trimmed]\n",
      "print allreads\n",
      "dg = [L + '.keep' for L in allreads]\n",
      "\n",
      "rule = '''\n",
      "\n",
      "# PREPARE FOR HEAD EXPLOSION\n",
      "# but really, this is better than it used to be. who needs wildcards?\n",
      "\n",
      "TRIMMED_OUT={allreads}\n",
      "\n",
      "DG50_OUT={dg}\n",
      "'''.format(allreads=' '.join(allreads), dg=' '.join(dg))\n",
      "\n",
      "makefile += rule\n",
      "\n",
      "with open('diginorm.c50.sub', 'wb') as pbsfp:\n",
      "    rule='''\n",
      "\\ndiginorm.c50: $(DG50_OUT)\n",
      "\\n$(DG50_OUT): $(TRIMMED_OUT)\n",
      "\\t$(TIME) -o diginorm.c50.time $(KHMER)/scripts/normalize-by-median.py -x {X} -N 4 -k {K} -C {C} -s diginorm.c50.ht -R diginorm.c50.report $(TRIMMED_OUT)\n",
      "'''.format(X=X, C=C, K=K)\n",
      "    makefile += rule\n",
      "    \n",
      "    sub = '''\n",
      "#!/bin/bash -login\n",
      "cd $PBS_O_WORKDIR\n",
      "module load screed\n",
      "export PYTHONPATH=$PYTHONPATH:~/bin/khmer/python\n",
      "make diginorm.c50\n",
      "'''\n",
      "    pbsfp.write(sub)\n",
      "    \n",
      "    pbsrule = '''\n",
      "diginorm.c50-pbs:\n",
      "\\tqsub -l $(DGRES) diginorm.c50.sub\n",
      "'''\n",
      "    makefile += pbsrule"
     ],
     "language": "python",
     "metadata": {},
     "outputs": [
      {
       "output_type": "stream",
       "stream": "stdout",
       "text": [
        "['AB057JABXX_s_7_pe.trim.fq', 'brain_paired.trim.fq', 'Gill.trim.fq', 'Kidney.trim.fq', 'mssm_single_s1.trim.fq', 'Muscle.trim.fq', 'SN.trim.fq', 'SPK.trim.fq', 'SW2-Kidney.trim.fq']\n"
       ]
      }
     ],
     "prompt_number": 151
    },
    {
     "cell_type": "code",
     "collapsed": false,
     "input": [],
     "language": "python",
     "metadata": {},
     "outputs": [],
     "prompt_number": 151
    },
    {
     "cell_type": "code",
     "collapsed": false,
     "input": [
      "cutoff=2\n",
      "Z=20\n",
      "X=1e7\n",
      "K=20\n",
      "print dg\n",
      "abund = [R + '.abundtrim' for R in dg]\n",
      "\n",
      "rule = '''\n",
      "ABUND_OUT={abund}\n",
      "'''.format(abund=' '.join(abund))\n",
      "\n",
      "makefile += rule\n",
      "\n",
      "with open('trimlowabund.sub', 'wb') as pbsfp:\n",
      "    rule = '''\n",
      "\\nall.abundtrim: $(ABUND_OUT)\n",
      "\\n$(ABUND_OUT): $(DG50_OUT)\n",
      "\\t$(TIME) -o abundfilt.time python $(KHMER)/sandbox/trim-low-abund.py -x {X} -k {K} -Z {Z} -C {C} $(DG50_OUT)\n",
      "'''.format(Z=Z, C=cutoff, K=K, X=X)\n",
      "    \n",
      "    makefile += rule\n",
      "    \n",
      "    sub = '''\n",
      "#!/bin/bash -login\n",
      "cd $PBS_O_WORKDIR\n",
      "module load screed\n",
      "export PYTHONPATH=$PYTHONPATH:~/bin/khmer/python\n",
      "make all.abundtrim\n",
      "'''\n",
      "    pbsfp.write(sub)\n",
      "    \n",
      "    pbsrule = '''\n",
      "all.abundtrim-pbs:\n",
      "\\tqsub -l $(ABUNDRES) trimlowabund.sub\n",
      "'''\n",
      "    makefile += pbsrule\n"
     ],
     "language": "python",
     "metadata": {},
     "outputs": [
      {
       "output_type": "stream",
       "stream": "stdout",
       "text": [
        "['AB057JABXX_s_7_pe.trim.fq.keep', 'brain_paired.trim.fq.keep', 'Gill.trim.fq.keep', 'Kidney.trim.fq.keep', 'mssm_single_s1.trim.fq.keep', 'Muscle.trim.fq.keep', 'SN.trim.fq.keep', 'SPK.trim.fq.keep', 'SW2-Kidney.trim.fq.keep']\n"
       ]
      }
     ],
     "prompt_number": 152
    },
    {
     "cell_type": "code",
     "collapsed": true,
     "input": [
      "C = 20\n",
      "X = 1e7\n",
      "K = 20\n",
      "print abund\n",
      "dg2 = [L + '.keep' for L in abund]\n",
      "\n",
      "rule = '''\n",
      "DG20_OUT={dg2}\n",
      "'''.format(dg2=' '.join(dg2))\n",
      "makefile += rule\n",
      "\n",
      "with open('diginorm.c20.sub', 'wb') as pbsfp:\n",
      "    rule='''\n",
      "\\ndiginorm.c20: $(DG20_OUT)\n",
      "\\n$(DG20_OUT): $(ABUND_OUT)\n",
      "\\t$(TIME) -o diginorm.c20.time $(KHMER)/scripts/normalize-by-median.py -x {X} -N 4 -k {K} -C {C} -s diginorm.c20.ht -R diginorm.c20.report $(ABUND_OUT)\n",
      "\\tcat $(DG20_OUT) > all.c20.fq\n",
      "\\tpython $(KHMER)/sandbox/fastq-to-fasta.py all.c20.fq\n",
      "'''.format(X=X, C=C, K=K)\n",
      "    makefile += rule\n",
      "    \n",
      "    sub = '''\n",
      "#!/bin/bash -login\n",
      "cd $PBS_O_WORKDIR\n",
      "module load screed\n",
      "export PYTHONPATH=$PYTHONPATH:~/bin/khmer/python\n",
      "make diginorm.c20\n",
      "'''\n",
      "    pbsfp.write(sub)\n",
      "    \n",
      "    pbsrule = '''\n",
      "diginorm.c20-pbs:\n",
      "\\tqsub -l $(DGRES) diginorm.c20.sub\n",
      "'''\n",
      "    makefile += pbsrule"
     ],
     "language": "python",
     "metadata": {},
     "outputs": [
      {
       "output_type": "stream",
       "stream": "stdout",
       "text": [
        "['AB057JABXX_s_7_pe.trim.fq.keep.abundtrim', 'brain_paired.trim.fq.keep.abundtrim', 'Gill.trim.fq.keep.abundtrim', 'Kidney.trim.fq.keep.abundtrim', 'mssm_single_s1.trim.fq.keep.abundtrim', 'Muscle.trim.fq.keep.abundtrim', 'SN.trim.fq.keep.abundtrim', 'SPK.trim.fq.keep.abundtrim', 'SW2-Kidney.trim.fq.keep.abundtrim']\n"
       ]
      }
     ],
     "prompt_number": 153
    },
    {
     "cell_type": "code",
     "collapsed": false,
     "input": [
      "with open('seqclean.sub', 'wb') as pbsfp:\n",
      "    rule = '''\n",
      "all.c20.fa.clean: all.c20.fa\n",
      "\\t$(TIME) -o all.c20.clean.time $(SEQCLEAN) all.c20.fa -c 8 -v ../db/univec_core.fa -s adapters.fa -l 31'''\n",
      "    makefile += rule\n",
      "    \n",
      "    sub = '''\n",
      "#!/bin/bash -login\n",
      "cd $PBS_O_WORKDIR\n",
      "export PYTHONPATH=$PYTHONPATH:~/bin/khmer/python\n",
      "make all.c20.fa.clean\n",
      "'''\n",
      "    pbsfp.write(sub)\n",
      "    \n",
      "    pbsrule = '''\n",
      "all.c20.fa.clean-pbs: all.c20.fa\n",
      "\\tqsub -l $(CLEANRES) seqclean.sub'''\n",
      "    \n",
      "    makefile += pbsrule"
     ],
     "language": "python",
     "metadata": {},
     "outputs": [],
     "prompt_number": 154
    },
    {
     "cell_type": "code",
     "collapsed": false,
     "input": [],
     "language": "python",
     "metadata": {},
     "outputs": [],
     "prompt_number": 154
    },
    {
     "cell_type": "code",
     "collapsed": false,
     "input": [
      "clean = '''\n",
      "clean:\n",
      "\\trm -rf *.time *.clean *.keep *.trim.fq *.report *.log *.trimlog *.ht cleaning_*/ *.cidx *.cln all.c20.fa all.c20.fq *.sort\n",
      "'''\n",
      "makefile += clean"
     ],
     "language": "python",
     "metadata": {},
     "outputs": [],
     "prompt_number": 155
    },
    {
     "cell_type": "code",
     "collapsed": false,
     "input": [
      "#print makefile"
     ],
     "language": "python",
     "metadata": {},
     "outputs": [],
     "prompt_number": 156
    },
    {
     "cell_type": "code",
     "collapsed": false,
     "input": [
      "with open('Makefile', 'wb') as mfp:\n",
      "    for line in makefile:\n",
      "        mfp.write(line)"
     ],
     "language": "python",
     "metadata": {},
     "outputs": [],
     "prompt_number": 157
    },
    {
     "cell_type": "code",
     "collapsed": false,
     "input": [],
     "language": "python",
     "metadata": {},
     "outputs": [],
     "prompt_number": 157
    }
   ],
   "metadata": {}
  }
 ]
}