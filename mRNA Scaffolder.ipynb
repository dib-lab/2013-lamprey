{
 "metadata": {
  "name": "mRNA Scaffolder"
 },
 "nbformat": 3,
 "nbformat_minor": 0,
 "worksheets": [
  {
   "cells": [
    {
     "cell_type": "code",
     "collapsed": false,
     "input": [
      "import sys\n",
      "sys.path.append('/w/peasoup/scripts')\n",
      "import hambone as hb\n",
      "import argparse\n",
      "import networkx as nx"
     ],
     "language": "python",
     "metadata": {},
     "outputs": [],
     "prompt_number": 1
    },
    {
     "cell_type": "code",
     "collapsed": false,
     "input": [
      "def sumHits(H):\n",
      "    if H:\n",
      "        s = 0\n",
      "        for hit in H:\n",
      "            s += hit.length\n",
      "        return s\n",
      "    return 0\n",
      "\n",
      "def RO(i, j, H, X, mat):\n",
      "    if X[i] >= X[j]:\n",
      "        return 0\n",
      "    if mat[i][j] != -1:\n",
      "        return mat[i][j]\n",
      "    \n",
      "    for s in range(i,len(X)):\n",
      "        for t in range(0, j):\n",
      "            pref = RO(i,s)\n",
      "            w = mat[s][t]\n",
      "            post = RO(t,j)\n",
      "            mat[i][j] = max(mat[i][j], pref+w+post)\n",
      "    \n",
      "\n",
      "def getBounds(H):\n",
      "    X = [-1, 100000]\n",
      "    for h in H:\n",
      "        X.extend([h.qstart, h.qend])\n",
      "    X = list(set(X))\n",
      "    X.sort()\n",
      "    return X\n",
      "\n",
      "# TODO: finish weighted interval scheduling\n",
      "'''\n",
      "def removeOverlaps(hits, max_overlap):\n",
      "    H = sorted(hits, key=lambda hit: hit.qend)\n",
      "    X = getBounds(H)\n",
      "    \n",
      "    mat = [[-1] * len(X)] * len(X)\n",
      "    \n",
      "    for i in range(0,len(H)):\n",
      "        H[i].qend\n",
      "    \n",
      "    maxHits = RO(hits, max_overlap)\n",
      "    return maxHits\n",
      "'''\n",
      "\n",
      "# Returns true if the hits overlap with the margin,\n",
      "# false if not\n",
      "def overLap(hita, hitb, max_overlap):\n",
      "    if hitb.qstart - hita.qend > -max_overlap:\n",
      "        return False\n",
      "    elif hita.qstart - hitb.qend > -max_overlap:\n",
      "        return False\n",
      "    return True\n",
      "\n",
      "# Remove overlapping query ranges, maximizing number of queries\n",
      "# TODO: finish DP for maximizing number of bases and hits\n",
      "def simpleOverlap(hits, max_overlap):\n",
      "    if hits and len(hits) > 1:\n",
      "        H = sorted(hits, key=lambda hit:hit.qend)\n",
      "        H_new = [H[0]]\n",
      "        for i in range(1, len(H)):\n",
      "            if not overLap(H[i], H_new[len(H_new)-1], max_overlap):\n",
      "                H_new.append(H[i])\n",
      "        return H_new\n",
      "    return []\n",
      "\n",
      "# utility function for hit comparison\n",
      "def compHits(hita, hitb):\n",
      "    if hita > hitb:\n",
      "        return hita\n",
      "    elif hita < hitb:\n",
      "        return hitb\n",
      "    # if they're equal, just use a\n",
      "    return hita\n",
      "\n",
      "'''\n",
      "Remove hits with the same subject (assuming all are same query),\n",
      "preferring the hit with the better score\n",
      "'''\n",
      "def removeSubjectDupes(hits):\n",
      "\n",
      "    hits.sort(key=lambda hit: hit.subject)\n",
      "    newHits = []\n",
      "    cur_hit = hits[0]\n",
      "    tmp = [cur_hit]\n",
      "    \n",
      "    for hit in hits[1:]:\n",
      "        # first build clusters by subject\n",
      "        if hit.subject == cur_hit.subject:\n",
      "            tmp.append(hit)\n",
      "            cur_hit = hit\n",
      "        # reduce clusters to best hit\n",
      "        else:\n",
      "            best = reduce(compHits, tmp)\n",
      "            newHits.append(best)\n",
      "            tmp = [hit]\n",
      "            cur_hit = hit\n",
      "    best = reduce(compHits, tmp)\n",
      "    newHits.append(best)\n",
      "    return newHits\n",
      "\n",
      "def statsFunc(L):\n",
      "    return float(L[2]) / float(L[0])\n",
      "'''\n",
      "def mrnaScaffolder():\n",
      "    blast_file = ''\n",
      "    fastp_file = ''\n",
      "    min_exon = 50\n",
      "    max_overlap = 10\n",
      "    \n",
      "    pSet = hb.PartitionSet.associateHits(fastp_file, blast_file)\n",
      "    scaffolds = []\n",
      "    for p in pSet:\n",
      "        scaffoldGraph = nx.DiGraph(pid=p.pid)\n",
      "        for seq in pSet:\n",
      "            addEdges(scaffoldGraph, seq)\n",
      "        if not checkIntegrity(scaffoldGraph):\n",
      "            fixGraph(scaffoldGraph)\n",
      "'''"
     ],
     "language": "python",
     "metadata": {},
     "outputs": [
      {
       "output_type": "pyout",
       "prompt_number": 2,
       "text": [
        "\"\\ndef mrnaScaffolder():\\n    blast_file = ''\\n    fastp_file = ''\\n    min_exon = 50\\n    max_overlap = 10\\n    \\n    pSet = hb.PartitionSet.associateHits(fastp_file, blast_file)\\n    scaffolds = []\\n    for p in pSet:\\n        scaffoldGraph = nx.DiGraph(pid=p.pid)\\n        for seq in pSet:\\n            addEdges(scaffoldGraph, seq)\\n        if not checkIntegrity(scaffoldGraph):\\n            fixGraph(scaffoldGraph)\\n\""
       ]
      }
     ],
     "prompt_number": 2
    },
    {
     "cell_type": "code",
     "collapsed": false,
     "input": [
      "def testScaffolder():\n",
      "    '''\n",
      "    parser = argparse.ArgumentParser()\n",
      "    parser.add_argument('-i', '--blast_file', dest='blast_file')\n",
      "    parser.add_argument('-m', '--min_length', dest='min_length', type=int)\n",
      "    parser.add_argument('-n', '--max_overlap', dest='max_overlap', type=int)\n",
      "    parser.add_argument('-o', '--output', dest='output')\n",
      "    parser.add_argument('-v', '--verbose', action='store_true', default=False)\n",
      "    args = parser.parse_args()\n",
      "    '''\n",
      "    blast_file = 'data/lamp3.x.genome.2.csv'\n",
      "    min_length = 50\n",
      "    max_overlap = 10\n",
      "    output = 'scaffold/lamp3.scaffold.test'\n",
      "    verbose = False\n",
      "\n",
      "    hits = hb.BlastDB(blast_file)\n",
      "    hits.filterByLength(min_length)\n",
      "    byQuery = hits.partitionByQuery(min_size=2)\n",
      "    \n",
      "    clusters = []\n",
      "    dedupestats = []\n",
      "    print \"Running through aggregated queries...\"\n",
      "    for n, key in enumerate(byQuery.keys()):\n",
      "        if n % 10000 == 0:\n",
      "            print \"Processed {} query groups...\".format(n)\n",
      "        # removes duplicate subjects by choosing the highest scoring hit\n",
      "        qset = byQuery[key]\n",
      "        rawSize = len(qset)\n",
      "        #print qset\n",
      "        nr = removeSubjectDupes(qset)\n",
      "        subdedupeSize = len(nr)\n",
      "        #print nr\n",
      "        # checks query ranges and finds the set allowing\n",
      "        # the highest number of hits\n",
      "        maxNr = simpleOverlap(nr, max_overlap)\n",
      "        maxnrSize = len(maxNr)\n",
      "        # we only care if the query has > 1 hit\n",
      "        if maxNr and len(maxNr) > 1:\n",
      "            maxNr.sort(key=lambda hit: hit.qstart)\n",
      "            clusters.append(maxNr)\n",
      "            stats = [rawSize, subdedupeSize, maxnrSize]\n",
      "            dedupestats.append(stats)\n",
      "    \n",
      "    endDedupe = map(statsFunc, dedupestats)\n",
      "    avgDedupe = math.fsum(endDedupe) / float(len(endDedupe))\n",
      "    print \"Cluster size reduced to {} on average\\n\".format(avgDedupe)\n",
      "    \n",
      "    # remove duplicate clusters\n",
      "    # for now just ignore duplicated contigs; in the future,\n",
      "    # use information to reconcile and form larger scaffolds\n",
      "    n = 0\n",
      "    for c in clusters:\n",
      "        n += len(c)\n",
      "    \n",
      "    print \"Number of clusters: \", len(clusters)\n",
      "    print \"...comprising {} contigs\".format(n)\n",
      "    print \"### Writing output to {} ###\".format(output)\n",
      "    with open(output, 'wb') as ofp:\n",
      "        for cluster in clusters:\n",
      "            if verbose:\n",
      "                print '*' * 40\n",
      "                for h in cluster:\n",
      "                    print h.query, h.subject, h.bitscore, h.evalue\n",
      "                print '*' * 40\n",
      "            query = cluster[0].query\n",
      "            subs = []\n",
      "            for h in cluster:\n",
      "                subs.append(h.subject)\n",
      "                subs.extend([str(h.qstart), str(h.qend), str(h.sstart), str(h.send)])\n",
      "            row = query + ':' + ','.join(subs)\n",
      "            ofp.write(row + '\\n')\n",
      "    print \"Done!\"\n",
      "\n",
      "    return clusters"
     ],
     "language": "python",
     "metadata": {},
     "outputs": [],
     "prompt_number": 3
    },
    {
     "cell_type": "code",
     "collapsed": false,
     "input": [
      "def validateTranscripts(blast_file):\n",
      "    hits = hb.BlastDB(blast_file)\n",
      "    hits_byQuery = hits.partitionByQuery(min_size=2)\n",
      "    \n",
      "    for qSet in hits_byQuery:\n",
      "        qSet.sort(key=lambda hit: "
     ],
     "language": "python",
     "metadata": {},
     "outputs": []
    },
    {
     "cell_type": "code",
     "collapsed": false,
     "input": [
      "!head data/lamp3.x.genome.2.csv"
     ],
     "language": "python",
     "metadata": {},
     "outputs": [
      {
       "output_type": "stream",
       "stream": "stdout",
       "text": [
        "comp56_c0_seq1,GL478987,571,566,54,623,26837,26267,1026,0.0,1,1\r\n",
        "comp56_c0_seq1,GL478987,57,57,3,59,47274,47218, 106,5e-21,1,1\r\n",
        "comp103_c1_seq1,GL478819,365,364,16,380,26655,27019, 669,0.0,1,1\r\n",
        "comp123_c0_seq1,GL476732,348,346,14,361,777551,777898, 632,1e-179,1,1\r\n",
        "comp160_c0_seq1,GL478668,366,366,1,366,29408,29043, 676,0.0,1,1\r\n",
        "comp338_c1_seq1,GL478983,319,317,1,319,13526,13208, 579,1e-163,1,1\r\n",
        "comp398_c0_seq1,GL479304,375,372,1,375,19385,19011, 676,0.0,1,1\r\n",
        "comp407_c0_seq1,GL480593,422,420,1,422,495245,495665, 767,0.0,1,1\r\n",
        "comp420_c0_seq1,GL479035,47,47,272,318,178317,178271,87.9,9e-16,1,1\r\n",
        "comp430_c0_seq1,GL478829,120,116,224,343,224660,224541, 200,1e-49,1,1\r\n"
       ]
      }
     ],
     "prompt_number": 12
    },
    {
     "cell_type": "code",
     "collapsed": false,
     "input": [
      "clusters = testScaffolder();"
     ],
     "language": "python",
     "metadata": {},
     "outputs": [
      {
       "output_type": "stream",
       "stream": "stdout",
       "text": [
        "Parsing hits...\n",
        "Parsed 0 rows...\n",
        "comp56_c0_seq1,GL478987,571,0.0,54,623\n",
        "Parsed"
       ]
      },
      {
       "output_type": "stream",
       "stream": "stdout",
       "text": [
        " 10000 rows...\n",
        "comp154650_c0_seq1,GL476561,403,0.0,1,403\n",
        "Parsed"
       ]
      },
      {
       "output_type": "stream",
       "stream": "stdout",
       "text": [
        " 20000 rows...\n",
        "comp260413_c0_seq1,GL476334,38,1e-06,414,450\n",
        "Parsed"
       ]
      },
      {
       "output_type": "stream",
       "stream": "stdout",
       "text": [
        " 30000 rows...\n",
        "comp302816_c0_seq1,GL481517,407,0.0,1,403\n",
        "Parsed"
       ]
      },
      {
       "output_type": "stream",
       "stream": "stdout",
       "text": [
        " 40000 rows...\n",
        "comp374304_c0_seq1,GL481625,42,3e-07,438,478\n",
        "Parsed"
       ]
      },
      {
       "output_type": "stream",
       "stream": "stdout",
       "text": [
        " 50000 rows...\n",
        "comp400396_c0_seq3,GL493801,372,0.0,19,390\n",
        "Parsed"
       ]
      },
      {
       "output_type": "stream",
       "stream": "stdout",
       "text": [
        " 60000 rows...\n",
        "comp420818_c0_seq1,GL477372,55,3e-15,103,157\n",
        "Parsed"
       ]
      },
      {
       "output_type": "stream",
       "stream": "stdout",
       "text": [
        " 70000 rows...\n",
        "comp443781_c0_seq1,GL479098,37,5e-10,1,37\n",
        "Parsed"
       ]
      },
      {
       "output_type": "stream",
       "stream": "stdout",
       "text": [
        " 80000 rows...\n",
        "comp470392_c0_seq1,GL492312,287,8e-146,32,318\n",
        "Parsed"
       ]
      },
      {
       "output_type": "stream",
       "stream": "stdout",
       "text": [
        " 90000 rows...\n",
        "comp493002_c0_seq2,GL476697,955,0.0,4,958\n",
        "Parsed"
       ]
      },
      {
       "output_type": "stream",
       "stream": "stdout",
       "text": [
        " 100000 rows...\n",
        "comp511855_c0_seq1,GL481270,52,2e-13,351,402\n",
        "Parsed"
       ]
      },
      {
       "output_type": "stream",
       "stream": "stdout",
       "text": [
        " 110000 rows...\n",
        "comp516295_c0_seq1,GL477332,319,1e-98,1,311\n",
        "Parsed"
       ]
      },
      {
       "output_type": "stream",
       "stream": "stdout",
       "text": [
        " 120000 rows...\n",
        "comp523131_c0_seq1,GL482499,84,1e-24,236,319\n",
        "Parsed"
       ]
      },
      {
       "output_type": "stream",
       "stream": "stdout",
       "text": [
        " 130000 rows...\n",
        "comp532822_c0_seq1,GL476401,76,3e-16,51,125\n",
        "Parsed"
       ]
      },
      {
       "output_type": "stream",
       "stream": "stdout",
       "text": [
        " 140000 rows...\n",
        "comp544383_c0_seq3,GL486349,49,7e-12,2,50\n",
        "Parsed"
       ]
      },
      {
       "output_type": "stream",
       "stream": "stdout",
       "text": [
        " 150000 rows...\n",
        "comp554515_c0_seq1,GL476440,61,7e-10,80,140\n",
        "Parsed"
       ]
      },
      {
       "output_type": "stream",
       "stream": "stdout",
       "text": [
        " 160000 rows...\n",
        "comp560597_c0_seq1,GL485730,491,0.0,1,480\n",
        "Parsed"
       ]
      },
      {
       "output_type": "stream",
       "stream": "stdout",
       "text": [
        " 170000 rows...\n",
        "comp563859_c0_seq2,GL486505,60,3e-12,3,61\n",
        "Parsed"
       ]
      },
      {
       "output_type": "stream",
       "stream": "stdout",
       "text": [
        " 180000 rows...\n",
        "comp568917_c0_seq1,GL476335,59,5e-15,1,57\n",
        "Parsed"
       ]
      },
      {
       "output_type": "stream",
       "stream": "stdout",
       "text": [
        " 190000 rows...\n",
        "comp574376_c0_seq2,GL478531,221,6e-53,169,386\n",
        "Parsed"
       ]
      },
      {
       "output_type": "stream",
       "stream": "stdout",
       "text": [
        " 200000 rows...\n",
        "comp580127_c0_seq2,GL476408,674,0.0,1,674\n",
        "Parsed"
       ]
      },
      {
       "output_type": "stream",
       "stream": "stdout",
       "text": [
        " 210000 rows...\n",
        "comp584216_c0_seq1,GL476696,99,6e-15,410,507\n",
        "Parsed"
       ]
      },
      {
       "output_type": "stream",
       "stream": "stdout",
       "text": [
        " 220000 rows...\n",
        "comp587872_c1_seq1,GL476533,50,8e-12,130,178\n",
        "Parsed"
       ]
      },
      {
       "output_type": "stream",
       "stream": "stdout",
       "text": [
        " 230000 rows...\n",
        "comp591006_c1_seq2,GL501236,137,1e-28,452,585\n",
        "Parsed"
       ]
      },
      {
       "output_type": "stream",
       "stream": "stdout",
       "text": [
        " 240000 rows...\n",
        "comp594053_c0_seq1,GL478430,63,4e-14,259,321\n",
        "Parsed"
       ]
      },
      {
       "output_type": "stream",
       "stream": "stdout",
       "text": [
        " 250000 rows...\n",
        "comp596634_c1_seq1,GL480221,98,3e-26,273,368\n",
        "Parsed"
       ]
      },
      {
       "output_type": "stream",
       "stream": "stdout",
       "text": [
        " 260000 rows...\n",
        "comp598642_c0_seq3,GL497466,206,1e-100,19,224\n",
        "Parsed"
       ]
      },
      {
       "output_type": "stream",
       "stream": "stdout",
       "text": [
        " 270000 rows...\n",
        "comp601412_c0_seq3,GL479202,49,9e-10,698,746\n",
        "Parsed"
       ]
      },
      {
       "output_type": "stream",
       "stream": "stdout",
       "text": [
        " 280000 rows...\n",
        "comp603325_c0_seq1,GL491271,44,2e-10,682,725\n",
        "Parsed"
       ]
      },
      {
       "output_type": "stream",
       "stream": "stdout",
       "text": [
        " 290000 rows...\n",
        "comp605486_c4_seq1,GL478344,276,1e-137,354,629\n",
        "Parsed"
       ]
      },
      {
       "output_type": "stream",
       "stream": "stdout",
       "text": [
        " 300000 rows...\n",
        "comp607551_c0_seq1,GL476727,884,0.0,6,889\n",
        "Parsed"
       ]
      },
      {
       "output_type": "stream",
       "stream": "stdout",
       "text": [
        " 310000 rows...\n",
        "comp608757_c0_seq1,GL476469,193,1e-74,155,347\n",
        "Parsed"
       ]
      },
      {
       "output_type": "stream",
       "stream": "stdout",
       "text": [
        " 320000 rows...\n",
        "comp610527_c1_seq1,GL496944,357,0.0,1,357\n",
        "Parsed"
       ]
      },
      {
       "output_type": "stream",
       "stream": "stdout",
       "text": [
        " 330000 rows...\n",
        "comp612300_c0_seq6,GL477881,98,2e-21,168,265\n",
        "Parsed"
       ]
      },
      {
       "output_type": "stream",
       "stream": "stdout",
       "text": [
        " 340000 rows...\n",
        "comp613852_c0_seq1,GL477283,125,3e-13,1,125\n",
        "Parsed"
       ]
      },
      {
       "output_type": "stream",
       "stream": "stdout",
       "text": [
        " 350000 rows...\n",
        "comp615248_c0_seq5,GL477427,121,8e-55,160,280\n",
        "Parsed"
       ]
      },
      {
       "output_type": "stream",
       "stream": "stdout",
       "text": [
        " 360000 rows...\n",
        "comp616505_c1_seq4,GL478035,181,5e-22,20,180\n",
        "Parsed"
       ]
      },
      {
       "output_type": "stream",
       "stream": "stdout",
       "text": [
        " 370000 rows...\n",
        "comp618006_c0_seq3,GL476516,208,7e-102,162,369\n",
        "Parsed"
       ]
      },
      {
       "output_type": "stream",
       "stream": "stdout",
       "text": [
        " 380000 rows...\n",
        "comp619032_c0_seq2,GL476635,371,1e-141,1,370\n",
        "Parsed"
       ]
      },
      {
       "output_type": "stream",
       "stream": "stdout",
       "text": [
        " 390000 rows...\n",
        "comp620027_c0_seq1,GL478369,341,2e-166,18,354\n",
        "Parsed"
       ]
      },
      {
       "output_type": "stream",
       "stream": "stdout",
       "text": [
        " 400000 rows...\n",
        "comp620861_c0_seq2,GL478050,260,2e-81,1,255\n",
        "Parsed"
       ]
      },
      {
       "output_type": "stream",
       "stream": "stdout",
       "text": [
        " 410000 rows...\n",
        "comp621349_c0_seq1,GL478502,50,9e-11,242,291\n",
        "Parsed"
       ]
      },
      {
       "output_type": "stream",
       "stream": "stdout",
       "text": [
        " 420000 rows...\n",
        "comp622052_c0_seq1,GL482751,60,1e-18,590,649\n",
        "Parsed"
       ]
      },
      {
       "output_type": "stream",
       "stream": "stdout",
       "text": [
        " 430000 rows...\n",
        "comp622573_c2_seq1,GL478244,60,3e-10,456,514\n",
        "Parsed"
       ]
      },
      {
       "output_type": "stream",
       "stream": "stdout",
       "text": [
        " 440000 rows...\n",
        "comp623301_c5_seq3,GL478668,87,9e-14,4,86\n",
        "Parsed"
       ]
      },
      {
       "output_type": "stream",
       "stream": "stdout",
       "text": [
        " 450000 rows...\n",
        "comp624108_c0_seq2,GL479383,220,1e-46,538,752\n",
        "Parsed"
       ]
      },
      {
       "output_type": "stream",
       "stream": "stdout",
       "text": [
        " 460000 rows...\n",
        "comp624605_c2_seq6,GL476593,77,2e-22,931,1004\n",
        "Parsed"
       ]
      },
      {
       "output_type": "stream",
       "stream": "stdout",
       "text": [
        " 470000 rows...\n",
        "comp624909_c4_seq7,GL476370,179,5e-60,1,179\n",
        "Parsed"
       ]
      },
      {
       "output_type": "stream",
       "stream": "stdout",
       "text": [
        " 480000 rows...\n",
        "comp625727_c0_seq6,GL478104,158,1e-76,105,262\n",
        "Parsed"
       ]
      },
      {
       "output_type": "stream",
       "stream": "stdout",
       "text": [
        " 490000 rows...\n",
        "comp626340_c3_seq1,GL477881,40,1e-06,10,49\n",
        "Parsed"
       ]
      },
      {
       "output_type": "stream",
       "stream": "stdout",
       "text": [
        " 500000 rows...\n",
        "comp626828_c0_seq8,GL478756,42,2e-09,349,390\n",
        "Parsed"
       ]
      },
      {
       "output_type": "stream",
       "stream": "stdout",
       "text": [
        " 510000 rows...\n",
        "comp627285_c0_seq11,GL477197,50,6e-14,49,98\n",
        "Parsed"
       ]
      },
      {
       "output_type": "stream",
       "stream": "stdout",
       "text": [
        " 520000 rows...\n",
        "comp627625_c1_seq1,GL477057,343,2e-156,19,360\n",
        "Parsed"
       ]
      },
      {
       "output_type": "stream",
       "stream": "stdout",
       "text": [
        " 530000 rows...\n",
        "comp628204_c2_seq1,GL476372,111,5e-07,348,458\n",
        "Parsed"
       ]
      },
      {
       "output_type": "stream",
       "stream": "stdout",
       "text": [
        " 540000 rows...\n",
        "comp628409_c0_seq1,GL482601,118,6e-29,1516,1627\n",
        "Parsed"
       ]
      },
      {
       "output_type": "stream",
       "stream": "stdout",
       "text": [
        " 550000 rows...\n",
        "comp628805_c3_seq4,GL488385,51,3e-14,780,830\n",
        "Parsed"
       ]
      },
      {
       "output_type": "stream",
       "stream": "stdout",
       "text": [
        " 560000 rows...\n",
        "comp629140_c0_seq3,GL487882,290,6e-106,227,516\n",
        "Parsed"
       ]
      },
      {
       "output_type": "stream",
       "stream": "stdout",
       "text": [
        " 570000 rows...\n",
        "comp629474_c6_seq11,GL477110,206,4e-104,1,206\n",
        "Parsed"
       ]
      },
      {
       "output_type": "stream",
       "stream": "stdout",
       "text": [
        " 580000 rows...\n",
        "comp629744_c4_seq1,GL477360,46,2e-09,451,496\n",
        "Parsed"
       ]
      },
      {
       "output_type": "stream",
       "stream": "stdout",
       "text": [
        " 590000 rows...\n",
        "comp630018_c1_seq3,GL476375,911,0.0,1,911\n",
        "Parsed"
       ]
      },
      {
       "output_type": "stream",
       "stream": "stdout",
       "text": [
        " 600000 rows...\n",
        "comp630288_c0_seq3,GL482375,117,5e-21,561,674\n",
        "Parsed"
       ]
      },
      {
       "output_type": "stream",
       "stream": "stdout",
       "text": [
        " 610000 rows...\n",
        "comp630645_c2_seq2,GL484039,94,8e-26,1,92\n",
        "Parsed"
       ]
      },
      {
       "output_type": "stream",
       "stream": "stdout",
       "text": [
        " 620000 rows...\n",
        "comp630809_c0_seq4,GL479830,181,6e-66,613,793\n",
        "Parsed"
       ]
      },
      {
       "output_type": "stream",
       "stream": "stdout",
       "text": [
        " 630000 rows...\n",
        "comp631077_c1_seq3,GL485606,203,4e-45,204,402\n",
        "Parsed"
       ]
      },
      {
       "output_type": "stream",
       "stream": "stdout",
       "text": [
        " 640000 rows...\n",
        "comp631207_c4_seq2,GL479948,144,7e-26,115,255\n",
        "Parsed"
       ]
      },
      {
       "output_type": "stream",
       "stream": "stdout",
       "text": [
        " 650000 rows...\n",
        "comp631289_c2_seq2,GL486064,389,5e-128,1,377\n",
        "Parsed"
       ]
      },
      {
       "output_type": "stream",
       "stream": "stdout",
       "text": [
        " 660000 rows...\n",
        "comp631391_c1_seq5,GL476468,61,4e-18,173,233\n",
        "Parsed"
       ]
      },
      {
       "output_type": "stream",
       "stream": "stdout",
       "text": [
        " 670000 rows...\n",
        "comp631561_c1_seq3,GL501190,58,6e-09,1475,1532\n",
        "Parsed"
       ]
      },
      {
       "output_type": "stream",
       "stream": "stdout",
       "text": [
        " 680000 rows...\n",
        "comp631713_c0_seq4,GL494112,64,5e-15,3,66\n",
        "Parsed"
       ]
      },
      {
       "output_type": "stream",
       "stream": "stdout",
       "text": [
        " 690000 rows...\n",
        "comp631972_c1_seq2,GL490118,76,3e-26,469,544\n",
        "Parsed"
       ]
      },
      {
       "output_type": "stream",
       "stream": "stdout",
       "text": [
        " 700000 rows...\n",
        "comp632199_c0_seq4,GL476802,354,0.0,19,372\n",
        "Parsed"
       ]
      },
      {
       "output_type": "stream",
       "stream": "stdout",
       "text": [
        " 710000 rows...\n",
        "comp632394_c3_seq19,GL479708,127,2e-18,648,774\n",
        "Parsed"
       ]
      },
      {
       "output_type": "stream",
       "stream": "stdout",
       "text": [
        " 720000 rows...\n",
        "comp632643_c1_seq2,GL493251,276,7e-91,1,271\n",
        "Parsed"
       ]
      },
      {
       "output_type": "stream",
       "stream": "stdout",
       "text": [
        " 730000 rows...\n",
        "comp632904_c4_seq5,GL476550,165,4e-32,39,195\n",
        "Parsed"
       ]
      },
      {
       "output_type": "stream",
       "stream": "stdout",
       "text": [
        " 740000 rows...\n",
        "comp633103_c1_seq3,GL497820,54,1e-12,686,739\n",
        "Parsed"
       ]
      },
      {
       "output_type": "stream",
       "stream": "stdout",
       "text": [
        " 750000 rows...\n",
        "comp633354_c1_seq1,GL480860,333,5e-171,1,333\n",
        "Parsed"
       ]
      },
      {
       "output_type": "stream",
       "stream": "stdout",
       "text": [
        " 760000 rows...\n",
        "comp633623_c0_seq1,GL479556,263,1e-59,83,342\n",
        "Parsed"
       ]
      },
      {
       "output_type": "stream",
       "stream": "stdout",
       "text": [
        " 770000 rows...\n",
        "comp633785_c7_seq2,GL477522,149,7e-27,753,899\n",
        "Parsed"
       ]
      },
      {
       "output_type": "stream",
       "stream": "stdout",
       "text": [
        " 780000 rows...\n",
        "comp633947_c0_seq6,GL480700,58,2e-11,18,75\n",
        "Parsed"
       ]
      },
      {
       "output_type": "stream",
       "stream": "stdout",
       "text": [
        " 790000 rows...\n",
        "comp634005_c2_seq11,GL477410,212,7e-77,1,211\n",
        "Parsed"
       ]
      },
      {
       "output_type": "stream",
       "stream": "stdout",
       "text": [
        " 800000 rows...\n",
        "comp634127_c3_seq1,GL476329,54,6e-18,20,73\n",
        "Parsed"
       ]
      },
      {
       "output_type": "stream",
       "stream": "stdout",
       "text": [
        " 810000 rows...\n",
        "comp634193_c1_seq9,GL479660,102,1e-25,331,430\n",
        "Parsed"
       ]
      },
      {
       "output_type": "stream",
       "stream": "stdout",
       "text": [
        " 820000 rows...\n",
        "comp634344_c1_seq11,GL476598,353,1e-94,2,352\n",
        "Parsed"
       ]
      },
      {
       "output_type": "stream",
       "stream": "stdout",
       "text": [
        " 830000 rows...\n",
        "comp634449_c3_seq5,GL481497,100,2e-25,25,121\n",
        "Parsed"
       ]
      },
      {
       "output_type": "stream",
       "stream": "stdout",
       "text": [
        " 840000 rows...\n",
        "comp634545_c1_seq7,GL477988,564,0.0,7,570\n",
        "Parsed"
       ]
      },
      {
       "output_type": "stream",
       "stream": "stdout",
       "text": [
        " 850000 rows...\n",
        "comp634682_c9_seq14,GL479280,94,2e-24,141,234\n",
        "Parsed"
       ]
      },
      {
       "output_type": "stream",
       "stream": "stdout",
       "text": [
        " 860000 rows...\n",
        "comp634880_c3_seq2,GL476394,295,3e-71,70,359\n",
        "Parsed"
       ]
      },
      {
       "output_type": "stream",
       "stream": "stdout",
       "text": [
        " 870000 rows...\n",
        "comp634946_c0_seq7,GL497877,118,8e-55,24,141\n",
        "Parsed"
       ]
      },
      {
       "output_type": "stream",
       "stream": "stdout",
       "text": [
        " 880000 rows...\n",
        "comp635045_c3_seq20,GL476367,173,1e-44,194,362\n",
        "Parsed"
       ]
      },
      {
       "output_type": "stream",
       "stream": "stdout",
       "text": [
        " 890000 rows...\n",
        "comp635126_c6_seq6,GL476329,62,6e-22,864,925\n",
        "Parsed"
       ]
      },
      {
       "output_type": "stream",
       "stream": "stdout",
       "text": [
        " 900000 rows...\n",
        "comp635287_c0_seq7,GL476352,91,7e-27,247,337\n",
        "Parsed"
       ]
      },
      {
       "output_type": "stream",
       "stream": "stdout",
       "text": [
        " 910000 rows...\n",
        "comp635446_c2_seq1,GL476968,91,3e-36,583,673\n",
        "Parsed"
       ]
      },
      {
       "output_type": "stream",
       "stream": "stdout",
       "text": [
        " 920000 rows...\n",
        "comp635621_c2_seq2,GL484581,201,8e-28,274,463\n",
        "Parsed"
       ]
      },
      {
       "output_type": "stream",
       "stream": "stdout",
       "text": [
        " 930000 rows...\n",
        "comp635786_c1_seq24,GL477318,61,8e-09,1764,1823\n",
        "Parsed"
       ]
      },
      {
       "output_type": "stream",
       "stream": "stdout",
       "text": [
        " 940000 rows...\n",
        "comp636016_c1_seq4,GL480582,128,1e-41,1781,1908\n",
        "Parsed"
       ]
      },
      {
       "output_type": "stream",
       "stream": "stdout",
       "text": [
        " 950000 rows...\n",
        "comp636165_c0_seq1,GL479420,88,2e-22,1,84\n",
        "Parsed"
       ]
      },
      {
       "output_type": "stream",
       "stream": "stdout",
       "text": [
        " 960000 rows...\n",
        "comp636276_c4_seq6,GL476664,142,5e-20,88,219\n",
        "Parsed"
       ]
      },
      {
       "output_type": "stream",
       "stream": "stdout",
       "text": [
        " 970000 rows...\n",
        "comp636443_c0_seq2,GL483418,38,4e-10,1203,1240\n",
        "Parsed"
       ]
      },
      {
       "output_type": "stream",
       "stream": "stdout",
       "text": [
        " 980000 rows...\n",
        "comp636615_c0_seq1,GL487751,53,6e-06,190,239\n",
        "Parsed"
       ]
      },
      {
       "output_type": "stream",
       "stream": "stdout",
       "text": [
        " 990000 rows...\n",
        "comp636718_c1_seq15,GL480419,178,2e-42,113,289\n",
        "Parsed"
       ]
      },
      {
       "output_type": "stream",
       "stream": "stdout",
       "text": [
        " 1000000 rows...\n",
        "comp636808_c1_seq8,GL477135,52,7e-13,226,277\n",
        "Parsed"
       ]
      },
      {
       "output_type": "stream",
       "stream": "stdout",
       "text": [
        " 1010000 rows...\n",
        "comp636886_c2_seq7,GL493619,196,4e-46,89,280\n",
        "Parsed"
       ]
      },
      {
       "output_type": "stream",
       "stream": "stdout",
       "text": [
        " 1020000 rows...\n",
        "comp636951_c2_seq10,GL477412,76,1e-18,473,544\n",
        "Parsed"
       ]
      },
      {
       "output_type": "stream",
       "stream": "stdout",
       "text": [
        " 1030000 rows...\n",
        "comp637074_c4_seq2,GL493883,42,3e-09,237,278\n",
        "Parsed"
       ]
      },
      {
       "output_type": "stream",
       "stream": "stdout",
       "text": [
        " 1040000 rows...\n",
        "comp637274_c0_seq33,GL478480,78,4e-32,1572,1649\n",
        "Parsed"
       ]
      },
      {
       "output_type": "stream",
       "stream": "stdout",
       "text": [
        " 1050000 rows...\n",
        "comp637372_c0_seq1,GL480041,73,2e-14,527,599\n",
        "Parsed"
       ]
      },
      {
       "output_type": "stream",
       "stream": "stdout",
       "text": [
        " 1060000 rows...\n",
        "comp637458_c3_seq1,GL484015,79,6e-14,1436,1514\n",
        "Parsed"
       ]
      },
      {
       "output_type": "stream",
       "stream": "stdout",
       "text": [
        " 1070000 rows...\n",
        "comp637598_c6_seq5,GL478228,100,1e-24,219,318\n",
        "Parsed"
       ]
      },
      {
       "output_type": "stream",
       "stream": "stdout",
       "text": [
        " 1080000 rows...\n",
        "comp637679_c3_seq7,GL477638,158,3e-40,24,180\n",
        "Parsed"
       ]
      },
      {
       "output_type": "stream",
       "stream": "stdout",
       "text": [
        " 1090000 rows...\n",
        "comp637796_c2_seq1,GL476494,64,1e-16,592,655\n",
        "Parsed"
       ]
      },
      {
       "output_type": "stream",
       "stream": "stdout",
       "text": [
        " 1100000 rows...\n",
        "comp637846_c1_seq3,GL477214,72,1e-20,398,469\n",
        "Parsed"
       ]
      },
      {
       "output_type": "stream",
       "stream": "stdout",
       "text": [
        " 1110000 rows...\n",
        "comp637941_c7_seq3,GL477405,195,2e-54,316,508\n",
        "Parsed"
       ]
      },
      {
       "output_type": "stream",
       "stream": "stdout",
       "text": [
        " 1120000 rows...\n",
        "comp638083_c2_seq8,GL482241,308,4e-75,1,307\n",
        "Parsed"
       ]
      },
      {
       "output_type": "stream",
       "stream": "stdout",
       "text": [
        " 1130000 rows...\n",
        "comp638278_c3_seq3,GL477638,108,7e-17,85,192\n",
        "Parsed"
       ]
      },
      {
       "output_type": "stream",
       "stream": "stdout",
       "text": [
        " 1140000 rows...\n",
        "comp638383_c5_seq10,GL491001,56,3e-15,1052,1107\n",
        "Parsed"
       ]
      },
      {
       "output_type": "stream",
       "stream": "stdout",
       "text": [
        " 1150000 rows...\n",
        "comp638476_c1_seq7,GL479107,471,0.0,1,471\n",
        "Parsed"
       ]
      },
      {
       "output_type": "stream",
       "stream": "stdout",
       "text": [
        " 1160000 rows...\n",
        "comp638591_c0_seq6,GL483005,187,2e-25,1899,2073\n",
        "Parsed"
       ]
      },
      {
       "output_type": "stream",
       "stream": "stdout",
       "text": [
        " 1170000 rows...\n",
        "comp638668_c0_seq10,GL483619,163,6e-80,134,296\n",
        "Parsed"
       ]
      },
      {
       "output_type": "stream",
       "stream": "stdout",
       "text": [
        " 1180000 rows...\n",
        "comp638798_c5_seq4,GL476428,105,1e-44,16,120\n",
        "Parsed"
       ]
      },
      {
       "output_type": "stream",
       "stream": "stdout",
       "text": [
        " 1190000 rows...\n",
        "comp638804_c3_seq23,GL482603,147,8e-29,255,392\n",
        "Parsed"
       ]
      },
      {
       "output_type": "stream",
       "stream": "stdout",
       "text": [
        " 1200000 rows...\n",
        "comp638945_c1_seq2,GL476486,1942,0.0,23,1964\n",
        "Parsed"
       ]
      },
      {
       "output_type": "stream",
       "stream": "stdout",
       "text": [
        " 1210000 rows...\n",
        "comp639038_c2_seq1,GL484120,48,3e-09,448,495\n",
        "Parsed"
       ]
      },
      {
       "output_type": "stream",
       "stream": "stdout",
       "text": [
        " 1220000 rows...\n",
        "comp639178_c0_seq2,GL478867,670,0.0,13,681\n",
        "Parsed"
       ]
      },
      {
       "output_type": "stream",
       "stream": "stdout",
       "text": [
        " 1230000 rows...\n",
        "comp639264_c0_seq30,GL476350,351,0.0,1950,2300\n",
        "Parsed"
       ]
      },
      {
       "output_type": "stream",
       "stream": "stdout",
       "text": [
        " 1240000 rows...\n",
        "comp639429_c5_seq3,GL482970,107,8e-28,337,440\n",
        "Parsed"
       ]
      },
      {
       "output_type": "stream",
       "stream": "stdout",
       "text": [
        " 1250000 rows...\n",
        "comp639533_c0_seq3,GL477455,41,8e-09,487,527\n",
        "Parsed"
       ]
      },
      {
       "output_type": "stream",
       "stream": "stdout",
       "text": [
        " 1260000 rows...\n",
        "comp639643_c4_seq26,GL476362,325,8e-45,2387,2708\n",
        "Parsed"
       ]
      },
      {
       "output_type": "stream",
       "stream": "stdout",
       "text": [
        " 1270000 rows...\n",
        "comp639742_c1_seq10,GL481169,147,2e-70,1182,1328\n",
        "Parsed"
       ]
      },
      {
       "output_type": "stream",
       "stream": "stdout",
       "text": [
        " 1280000 rows...\n",
        "comp639870_c3_seq31,GL476545,104,3e-14,860,962\n",
        "Parsed"
       ]
      },
      {
       "output_type": "stream",
       "stream": "stdout",
       "text": [
        " 1290000 rows...\n",
        "comp639939_c0_seq3,GL484037,141,4e-25,175,315\n",
        "Parsed"
       ]
      },
      {
       "output_type": "stream",
       "stream": "stdout",
       "text": [
        " 1300000 rows...\n",
        "comp640060_c0_seq1,GL479485,134,4e-63,2185,2318\n",
        "Parsed"
       ]
      },
      {
       "output_type": "stream",
       "stream": "stdout",
       "text": [
        " 1310000 rows...\n",
        "comp640155_c0_seq1,GL477548,242,2e-50,1,233\n",
        "Parsed"
       ]
      },
      {
       "output_type": "stream",
       "stream": "stdout",
       "text": [
        " 1320000 rows...\n",
        "comp640241_c2_seq2,GL481136,343,4e-110,1,339\n",
        "Parsed"
       ]
      },
      {
       "output_type": "stream",
       "stream": "stdout",
       "text": [
        " 1330000 rows...\n",
        "comp640316_c1_seq15,GL477575,258,9e-51,885,1142\n",
        "Parsed"
       ]
      },
      {
       "output_type": "stream",
       "stream": "stdout",
       "text": [
        " 1340000 rows...\n",
        "comp640401_c1_seq9,GL476445,74,8e-20,38,110\n",
        "Parsed"
       ]
      },
      {
       "output_type": "stream",
       "stream": "stdout",
       "text": [
        " 1350000 rows...\n",
        "comp640494_c2_seq5,GL477925,60,2e-13,344,402\n",
        "Parsed"
       ]
      },
      {
       "output_type": "stream",
       "stream": "stdout",
       "text": [
        " 1360000 rows...\n",
        "comp640564_c4_seq4,GL501037,188,9e-43,333,518\n",
        "Parsed"
       ]
      },
      {
       "output_type": "stream",
       "stream": "stdout",
       "text": [
        " 1370000 rows...\n",
        "comp640671_c4_seq13,GL478958,105,1e-43,513,617\n",
        "Parsed"
       ]
      },
      {
       "output_type": "stream",
       "stream": "stdout",
       "text": [
        " 1380000 rows...\n",
        "comp640779_c2_seq6,GL494962,71,7e-11,87,154\n",
        "Parsed"
       ]
      },
      {
       "output_type": "stream",
       "stream": "stdout",
       "text": [
        " 1390000 rows...\n",
        "comp640938_c1_seq8,GL477432,3102,0.0,1,3102\n",
        "Parsed"
       ]
      },
      {
       "output_type": "stream",
       "stream": "stdout",
       "text": [
        " 1400000 rows...\n",
        "comp641041_c1_seq19,GL477439,101,2e-45,297,397\n",
        "Parsed"
       ]
      },
      {
       "output_type": "stream",
       "stream": "stdout",
       "text": [
        " 1410000 rows...\n",
        "comp641162_c3_seq1,GL477490,175,2e-53,74,243\n",
        "Parsed"
       ]
      },
      {
       "output_type": "stream",
       "stream": "stdout",
       "text": [
        " 1420000 rows...\n",
        "comp641239_c6_seq3,GL476607,125,2e-33,314,438\n",
        "Parsed"
       ]
      },
      {
       "output_type": "stream",
       "stream": "stdout",
       "text": [
        " 1430000 rows...\n",
        "comp641400_c0_seq2,GL476404,117,9e-33,329,441\n",
        "Parsed"
       ]
      },
      {
       "output_type": "stream",
       "stream": "stdout",
       "text": [
        " 1440000 rows...\n",
        "comp641400_c0_seq11,GL485536,347,5e-109,25,362\n",
        "Parsed"
       ]
      },
      {
       "output_type": "stream",
       "stream": "stdout",
       "text": [
        " 1450000 rows...\n",
        "comp641466_c0_seq2,GL486002,155,1e-53,602,756\n",
        "Parsed"
       ]
      },
      {
       "output_type": "stream",
       "stream": "stdout",
       "text": [
        " 1460000 rows...\n",
        "comp641559_c3_seq6,GL482006,83,4e-19,15,97\n",
        "Parsed"
       ]
      },
      {
       "output_type": "stream",
       "stream": "stdout",
       "text": [
        " 1470000 rows...\n",
        "comp641690_c5_seq5,GL481538,96,1e-17,2830,2924\n",
        "Parsed"
       ]
      },
      {
       "output_type": "stream",
       "stream": "stdout",
       "text": [
        " 1480000 rows...\n",
        "comp641790_c2_seq23,GL476358,163,4e-79,3410,3572\n",
        "Parsed"
       ]
      },
      {
       "output_type": "stream",
       "stream": "stdout",
       "text": [
        " 1490000 rows...\n",
        "comp641945_c3_seq14,GL484319,196,8e-55,6,197\n",
        "Parsed"
       ]
      },
      {
       "output_type": "stream",
       "stream": "stdout",
       "text": [
        " 1500000 rows...\n",
        "comp642055_c0_seq4,GL476842,58,2e-17,857,913\n",
        "Parsed"
       ]
      },
      {
       "output_type": "stream",
       "stream": "stdout",
       "text": [
        " 1510000 rows...\n",
        "comp642160_c1_seq3,GL477138,43,2e-09,931,973\n",
        "Parsed"
       ]
      },
      {
       "output_type": "stream",
       "stream": "stdout",
       "text": [
        " 1520000 rows...\n",
        "comp642183_c0_seq4,GL476869,177,3e-17,100,268\n",
        "Parsed"
       ]
      },
      {
       "output_type": "stream",
       "stream": "stdout",
       "text": [
        " 1530000 rows...\n",
        "comp642234_c7_seq2,GL482698,68,3e-14,1250,1317\n",
        "Parsed"
       ]
      },
      {
       "output_type": "stream",
       "stream": "stdout",
       "text": [
        " 1540000 rows...\n",
        "comp642273_c1_seq4,GL482042,77,8e-24,532,608\n",
        "Parsed"
       ]
      },
      {
       "output_type": "stream",
       "stream": "stdout",
       "text": [
        " 1550000 rows...\n",
        "comp642328_c2_seq2,GL489932,71,2e-27,1,71\n",
        "Parsed"
       ]
      },
      {
       "output_type": "stream",
       "stream": "stdout",
       "text": [
        " 1560000 rows...\n",
        "comp642441_c6_seq6,GL479261,41,8e-09,537,577\n",
        "Parsed"
       ]
      },
      {
       "output_type": "stream",
       "stream": "stdout",
       "text": [
        " 1570000 rows...\n",
        "comp642494_c4_seq3,GL479539,39,1e-07,380,418\n",
        "Parsed"
       ]
      },
      {
       "output_type": "stream",
       "stream": "stdout",
       "text": [
        " 1580000 rows...\n",
        "comp642611_c3_seq14,GL501251,63,8e-16,94,156\n",
        "Parsed"
       ]
      },
      {
       "output_type": "stream",
       "stream": "stdout",
       "text": [
        " 1590000 rows...\n",
        "comp642712_c4_seq5,GL484623,41,1e-11,1799,1839\n",
        "Parsed"
       ]
      },
      {
       "output_type": "stream",
       "stream": "stdout",
       "text": [
        " 1600000 rows...\n",
        "comp642819_c0_seq3,GL476595,202,2e-45,84,283\n",
        "Parsed"
       ]
      },
      {
       "output_type": "stream",
       "stream": "stdout",
       "text": [
        " 1610000 rows...\n",
        "comp642936_c0_seq2,GL492541,120,5e-20,1,120\n",
        "Parsed"
       ]
      },
      {
       "output_type": "stream",
       "stream": "stdout",
       "text": [
        " 1620000 rows...\n",
        "comp643028_c1_seq5,GL487383,134,7e-25,572,705\n",
        "Parsed"
       ]
      },
      {
       "output_type": "stream",
       "stream": "stdout",
       "text": [
        " 1630000 rows...\n",
        "comp643134_c1_seq3,GL477448,39,6e-06,685,723\n",
        "Parsed"
       ]
      },
      {
       "output_type": "stream",
       "stream": "stdout",
       "text": [
        " 1640000 rows...\n",
        "comp643178_c0_seq6,GL480070,109,4e-37,1409,1516\n",
        "Parsed"
       ]
      },
      {
       "output_type": "stream",
       "stream": "stdout",
       "text": [
        " 1650000 rows...\n",
        "comp643314_c0_seq4,GL476395,63,1e-24,1,63\n",
        "Parsed"
       ]
      },
      {
       "output_type": "stream",
       "stream": "stdout",
       "text": [
        " 1660000 rows...\n",
        "comp643432_c3_seq16,GL482122,85,6e-36,2146,2230\n",
        "Parsed"
       ]
      },
      {
       "output_type": "stream",
       "stream": "stdout",
       "text": [
        " 1670000 rows...\n",
        "comp643583_c3_seq1,GL477279,40,1e-07,200,239\n",
        "Parsed"
       ]
      },
      {
       "output_type": "stream",
       "stream": "stdout",
       "text": [
        " 1680000 rows...\n",
        "comp643665_c8_seq10,GL477330,47,8e-12,213,258\n",
        "Parsed"
       ]
      },
      {
       "output_type": "stream",
       "stream": "stdout",
       "text": [
        " 1690000 rows...\n",
        "comp643696_c2_seq1,GL482175,128,4e-40,63,190\n",
        "Parsed"
       ]
      },
      {
       "output_type": "stream",
       "stream": "stdout",
       "text": [
        " 1700000 rows...\n",
        "comp643826_c1_seq8,GL480469,188,1e-71,1757,1944\n",
        "Parsed"
       ]
      },
      {
       "output_type": "stream",
       "stream": "stdout",
       "text": [
        " 1710000 rows...\n",
        "comp643908_c9_seq1,GL477799,82,7e-32,1,82\n",
        "Parsed"
       ]
      },
      {
       "output_type": "stream",
       "stream": "stdout",
       "text": [
        " 1720000 rows...\n",
        "comp644067_c1_seq2,GL477503,69,4e-21,1,69\n",
        "Parsed"
       ]
      },
      {
       "output_type": "stream",
       "stream": "stdout",
       "text": [
        " 1730000 rows...\n",
        "comp644119_c1_seq6,GL476367,138,1e-42,145,282\n",
        "Parsed"
       ]
      },
      {
       "output_type": "stream",
       "stream": "stdout",
       "text": [
        " 1740000 rows...\n",
        "comp644226_c1_seq1,GL476540,61,6e-14,485,544\n",
        "Parsed"
       ]
      },
      {
       "output_type": "stream",
       "stream": "stdout",
       "text": [
        " 1750000 rows...\n",
        "comp644346_c0_seq5,GL476755,165,7e-48,161,325\n",
        "Parsed"
       ]
      },
      {
       "output_type": "stream",
       "stream": "stdout",
       "text": [
        " 1760000 rows...\n",
        "comp644418_c3_seq2,GL476488,61,6e-18,22,82\n",
        "Parsed"
       ]
      },
      {
       "output_type": "stream",
       "stream": "stdout",
       "text": [
        " 1770000 rows...\n",
        "comp644534_c4_seq1,GL476823,47,5e-12,808,854\n",
        "Parsed"
       ]
      },
      {
       "output_type": "stream",
       "stream": "stdout",
       "text": [
        " 1780000 rows...\n",
        "comp644579_c6_seq3,GL479301,154,3e-39,392,545\n",
        "Parsed"
       ]
      },
      {
       "output_type": "stream",
       "stream": "stdout",
       "text": [
        " 1790000 rows...\n",
        "comp644684_c12_seq20,GL477328,167,2e-79,389,555\n",
        "Parsed"
       ]
      },
      {
       "output_type": "stream",
       "stream": "stdout",
       "text": [
        " 1800000 rows...\n",
        "comp644772_c0_seq32,GL495536,34,8e-06,135,168\n",
        "Parsed"
       ]
      },
      {
       "output_type": "stream",
       "stream": "stdout",
       "text": [
        " 1810000 rows...\n",
        "comp644864_c2_seq5,GL484233,268,2e-51,1,266\n",
        "Parsed"
       ]
      },
      {
       "output_type": "stream",
       "stream": "stdout",
       "text": [
        " 1820000 rows...\n",
        "comp644924_c2_seq4,GL482263,67,1e-14,345,411\n",
        "Parsed"
       ]
      },
      {
       "output_type": "stream",
       "stream": "stdout",
       "text": [
        " 1830000 rows...\n",
        "comp644972_c0_seq3,GL476721,103,4e-21,72,169\n",
        "Parsed"
       ]
      },
      {
       "output_type": "stream",
       "stream": "stdout",
       "text": [
        " 1840000 rows...\n",
        "comp645046_c2_seq2,GL482046,95,2e-38,1079,1173\n",
        "Parsed"
       ]
      },
      {
       "output_type": "stream",
       "stream": "stdout",
       "text": [
        " 1850000 rows...\n",
        "comp645065_c6_seq5,GL476341,171,3e-29,162,315\n",
        "Parsed"
       ]
      },
      {
       "output_type": "stream",
       "stream": "stdout",
       "text": [
        " 1860000 rows...\n",
        "comp645163_c1_seq4,GL477804,86,2e-22,1118,1203\n",
        "Parsed"
       ]
      },
      {
       "output_type": "stream",
       "stream": "stdout",
       "text": [
        " 1870000 rows...\n",
        "comp645258_c1_seq12,GL476588,181,2e-63,239,419\n",
        "Parsed"
       ]
      },
      {
       "output_type": "stream",
       "stream": "stdout",
       "text": [
        " 1880000 rows...\n",
        "comp645353_c0_seq19,GL476685,37,7e-10,3,39\n",
        "Parsed"
       ]
      },
      {
       "output_type": "stream",
       "stream": "stdout",
       "text": [
        " 1890000 rows...\n",
        "comp645461_c0_seq3,GL479932,71,4e-28,2128,2198\n",
        "Parsed"
       ]
      },
      {
       "output_type": "stream",
       "stream": "stdout",
       "text": [
        " 1900000 rows...\n",
        "comp645563_c1_seq2,GL479514,86,7e-19,391,476\n",
        "Parsed"
       ]
      },
      {
       "output_type": "stream",
       "stream": "stdout",
       "text": [
        " 1910000 rows...\n",
        "comp645646_c1_seq47,GL476331,110,4e-50,565,674\n",
        "Parsed"
       ]
      },
      {
       "output_type": "stream",
       "stream": "stdout",
       "text": [
        " 1920000 rows...\n",
        "comp645725_c5_seq1,GL478774,119,2e-53,248,365\n",
        "Parsed"
       ]
      },
      {
       "output_type": "stream",
       "stream": "stdout",
       "text": [
        " 1930000 rows...\n",
        "comp645832_c1_seq3,GL476399,630,0.0,1,628\n",
        "Parsed"
       ]
      },
      {
       "output_type": "stream",
       "stream": "stdout",
       "text": [
        " 1940000 rows...\n",
        "comp645902_c6_seq2,GL478988,36,1e-07,549,584\n",
        "Parsed"
       ]
      },
      {
       "output_type": "stream",
       "stream": "stdout",
       "text": [
        " 1950000 rows...\n",
        "comp645951_c2_seq3,GL477031,63,6e-13,90,149\n",
        "Parsed"
       ]
      },
      {
       "output_type": "stream",
       "stream": "stdout",
       "text": [
        " 1960000 rows...\n",
        "comp646024_c3_seq18,GL476343,190,9e-31,178,363\n",
        "Parsed"
       ]
      },
      {
       "output_type": "stream",
       "stream": "stdout",
       "text": [
        " 1970000 rows...\n",
        "comp646119_c4_seq7,GL476461,904,0.0,1631,2534\n",
        "Parsed"
       ]
      },
      {
       "output_type": "stream",
       "stream": "stdout",
       "text": [
        " 1980000 rows...\n",
        "comp646129_c0_seq23,GL477033,657,0.0,44,681\n",
        "Parsed"
       ]
      },
      {
       "output_type": "stream",
       "stream": "stdout",
       "text": [
        " 1990000 rows...\n",
        "comp646260_c1_seq11,GL476905,139,1e-27,535,673\n",
        "Parsed"
       ]
      },
      {
       "output_type": "stream",
       "stream": "stdout",
       "text": [
        " 2000000 rows...\n",
        "comp646293_c0_seq51,GL477397,98,1e-24,1,98\n",
        "Parsed"
       ]
      },
      {
       "output_type": "stream",
       "stream": "stdout",
       "text": [
        " 2010000 rows...\n",
        "comp646377_c2_seq1,GL479631,128,8e-27,20,146\n",
        "Parsed"
       ]
      },
      {
       "output_type": "stream",
       "stream": "stdout",
       "text": [
        " 2020000 rows...\n",
        "comp646471_c2_seq8,GL492834,163,2e-31,327,488\n",
        "Parsed"
       ]
      },
      {
       "output_type": "stream",
       "stream": "stdout",
       "text": [
        " 2030000 rows...\n",
        "comp646566_c7_seq11,GL476875,58,3e-14,14,69\n",
        "Parsed"
       ]
      },
      {
       "output_type": "stream",
       "stream": "stdout",
       "text": [
        " 2040000 rows...\n",
        "comp646655_c2_seq17,GL477647,154,4e-74,1599,1752\n",
        "Parsed"
       ]
      },
      {
       "output_type": "stream",
       "stream": "stdout",
       "text": [
        " 2050000 rows...\n",
        "comp646747_c0_seq7,GL490407,151,5e-42,2,149\n",
        "Parsed"
       ]
      },
      {
       "output_type": "stream",
       "stream": "stdout",
       "text": [
        " 2060000 rows...\n",
        "comp646850_c1_seq3,GL476710,72,2e-13,13,82\n",
        "Parsed"
       ]
      },
      {
       "output_type": "stream",
       "stream": "stdout",
       "text": [
        " 2070000 rows...\n",
        "comp646949_c2_seq4,GL477397,198,1e-42,422,617\n",
        "Parsed"
       ]
      },
      {
       "output_type": "stream",
       "stream": "stdout",
       "text": [
        " 2080000 rows...\n",
        "comp647013_c0_seq11,GL476422,90,3e-23,2187,2275\n",
        "Parsed"
       ]
      },
      {
       "output_type": "stream",
       "stream": "stdout",
       "text": [
        " 2090000 rows...\n",
        "comp647086_c3_seq1,GL477145,64,1e-14,254,317\n",
        "Parsed"
       ]
      },
      {
       "output_type": "stream",
       "stream": "stdout",
       "text": [
        " 2100000 rows...\n",
        "comp647180_c3_seq5,GL476514,56,7e-13,217,272\n",
        "Parsed"
       ]
      },
      {
       "output_type": "stream",
       "stream": "stdout",
       "text": [
        " 2110000 rows...\n",
        "comp647267_c1_seq15,GL479323,54,9e-18,436,489\n",
        "Parsed"
       ]
      },
      {
       "output_type": "stream",
       "stream": "stdout",
       "text": [
        " 2120000 rows...\n",
        "comp647349_c0_seq1,GL481236,302,2e-75,234,531\n",
        "Parsed"
       ]
      },
      {
       "output_type": "stream",
       "stream": "stdout",
       "text": [
        " 2130000 rows...\n",
        "comp647408_c1_seq4,GL501202,72,2e-17,1265,1336\n",
        "Parsed"
       ]
      },
      {
       "output_type": "stream",
       "stream": "stdout",
       "text": [
        " 2140000 rows...\n",
        "comp647495_c1_seq9,GL479351,130,3e-61,642,771\n",
        "Parsed"
       ]
      },
      {
       "output_type": "stream",
       "stream": "stdout",
       "text": [
        " 2150000 rows...\n",
        "comp647565_c4_seq13,GL480844,248,7e-101,1,242\n",
        "Parsed"
       ]
      },
      {
       "output_type": "stream",
       "stream": "stdout",
       "text": [
        " 2160000 rows...\n",
        "comp647648_c2_seq2,GL476470,59,3e-08,1368,1426\n",
        "Parsed"
       ]
      },
      {
       "output_type": "stream",
       "stream": "stdout",
       "text": [
        " 2170000 rows...\n",
        "comp647684_c2_seq4,GL481279,30,6e-06,623,652\n",
        "Parsed"
       ]
      },
      {
       "output_type": "stream",
       "stream": "stdout",
       "text": [
        " 2180000 rows...\n",
        "comp647758_c1_seq1,GL477041,142,2e-28,1122,1262\n",
        "Parsed"
       ]
      },
      {
       "output_type": "stream",
       "stream": "stdout",
       "text": [
        " 2190000 rows...\n",
        "comp647868_c2_seq5,GL478536,157,2e-74,299,455\n",
        "Parsed"
       ]
      },
      {
       "output_type": "stream",
       "stream": "stdout",
       "text": [
        " 2200000 rows...\n",
        "comp647960_c0_seq6,GL476858,195,3e-26,151,342\n",
        "Parsed"
       ]
      },
      {
       "output_type": "stream",
       "stream": "stdout",
       "text": [
        " 2210000 rows...\n",
        "comp648008_c4_seq4,GL480211,83,5e-27,3,85\n",
        "Parsed"
       ]
      },
      {
       "output_type": "stream",
       "stream": "stdout",
       "text": [
        " 2220000 rows...\n",
        "comp648090_c0_seq3,GL479621,169,6e-81,2171,2339\n",
        "Parsed"
       ]
      },
      {
       "output_type": "stream",
       "stream": "stdout",
       "text": [
        " 2230000 rows...\n",
        "comp648149_c1_seq3,GL481329,134,7e-37,131,259\n",
        "Parsed"
       ]
      },
      {
       "output_type": "stream",
       "stream": "stdout",
       "text": [
        " 2240000 rows...\n",
        "comp648149_c3_seq12,GL476359,117,5e-37,230,345\n",
        "Parsed"
       ]
      },
      {
       "output_type": "stream",
       "stream": "stdout",
       "text": [
        " 2250000 rows...\n",
        "comp648228_c1_seq9,GL476511,44,3e-12,1,44\n",
        "Parsed"
       ]
      },
      {
       "output_type": "stream",
       "stream": "stdout",
       "text": [
        " 2260000 rows...\n",
        "comp648284_c2_seq3,GL483427,56,6e-08,146,200\n",
        "Parsed"
       ]
      },
      {
       "output_type": "stream",
       "stream": "stdout",
       "text": [
        " 2270000 rows...\n",
        "comp648322_c1_seq3,GL476399,45,1e-10,324,368\n",
        "Parsed"
       ]
      },
      {
       "output_type": "stream",
       "stream": "stdout",
       "text": [
        " 2280000 rows...\n",
        "comp648421_c0_seq5,GL490376,411,1e-55,9,388\n",
        "Parsed"
       ]
      },
      {
       "output_type": "stream",
       "stream": "stdout",
       "text": [
        " 2290000 rows...\n",
        "comp648502_c1_seq14,GL476906,77,2e-31,557,633\n",
        "Parsed"
       ]
      },
      {
       "output_type": "stream",
       "stream": "stdout",
       "text": [
        " 2300000 rows...\n",
        "comp648554_c0_seq14,GL480844,122,2e-48,1113,1234\n",
        "Parsed"
       ]
      },
      {
       "output_type": "stream",
       "stream": "stdout",
       "text": [
        " 2310000 rows...\n",
        "comp648623_c0_seq1,GL476892,80,3e-20,90,169\n",
        "Parsed"
       ]
      },
      {
       "output_type": "stream",
       "stream": "stdout",
       "text": [
        " 2320000 rows...\n",
        "comp648678_c2_seq2,GL476500,316,2e-59,26,331\n",
        "Parsed"
       ]
      },
      {
       "output_type": "stream",
       "stream": "stdout",
       "text": [
        " 2330000 rows...\n",
        "comp648728_c4_seq8,GL477514,350,3e-36,686,1015\n",
        "Parsed"
       ]
      },
      {
       "output_type": "stream",
       "stream": "stdout",
       "text": [
        " 2340000 rows...\n",
        "comp648766_c1_seq1,GL476460,38,8e-09,1,38\n",
        "Parsed"
       ]
      },
      {
       "output_type": "stream",
       "stream": "stdout",
       "text": [
        " 2350000 rows...\n",
        "comp648861_c9_seq8,GL476374,47,2e-08,550,596\n",
        "Parsed"
       ]
      },
      {
       "output_type": "stream",
       "stream": "stdout",
       "text": [
        " 2360000 rows...\n",
        "comp648939_c0_seq1,GL476364,42,1e-07,1,42\n",
        "Parsed"
       ]
      },
      {
       "output_type": "stream",
       "stream": "stdout",
       "text": [
        " 2370000 rows...\n",
        "comp649022_c5_seq1,GL476582,63,9e-17,1380,1441\n",
        "Parsed"
       ]
      },
      {
       "output_type": "stream",
       "stream": "stdout",
       "text": [
        " 2380000 rows...\n",
        "comp649075_c0_seq1,GL485709,53,2e-06,80,130\n",
        "Parsed"
       ]
      },
      {
       "output_type": "stream",
       "stream": "stdout",
       "text": [
        " 2390000 rows...\n",
        "comp649138_c1_seq4,GL498176,70,3e-11,147,215\n",
        "Parsed"
       ]
      },
      {
       "output_type": "stream",
       "stream": "stdout",
       "text": [
        " 2400000 rows...\n",
        "comp649212_c2_seq34,GL476448,1165,0.0,1,1165\n",
        "Parsed"
       ]
      },
      {
       "output_type": "stream",
       "stream": "stdout",
       "text": [
        " 2410000 rows...\n",
        "comp649248_c2_seq2,GL487586,33,1e-07,452,484\n",
        "Parsed"
       ]
      },
      {
       "output_type": "stream",
       "stream": "stdout",
       "text": [
        " 2420000 rows...\n",
        "comp649297_c1_seq25,GL476401,143,3e-32,4,142\n",
        "Parsed"
       ]
      },
      {
       "output_type": "stream",
       "stream": "stdout",
       "text": [
        " 2430000 rows...\n",
        "comp649375_c2_seq2,GL477040,50,2e-06,375,422\n",
        "Parsed"
       ]
      },
      {
       "output_type": "stream",
       "stream": "stdout",
       "text": [
        " 2440000 rows...\n",
        "comp649448_c2_seq4,GL484033,161,7e-79,1,161\n",
        "Parsed"
       ]
      },
      {
       "output_type": "stream",
       "stream": "stdout",
       "text": [
        " 2450000 rows...\n",
        "comp649528_c1_seq3,GL480446,199,2e-59,444,642\n",
        "Parsed"
       ]
      },
      {
       "output_type": "stream",
       "stream": "stdout",
       "text": [
        " 2460000 rows...\n",
        "comp649560_c3_seq2,GL482569,186,2e-22,8,188\n",
        "Parsed"
       ]
      },
      {
       "output_type": "stream",
       "stream": "stdout",
       "text": [
        " 2470000 rows...\n",
        "comp649606_c5_seq17,GL483547,96,1e-15,1031,1122\n",
        "Parsed"
       ]
      },
      {
       "output_type": "stream",
       "stream": "stdout",
       "text": [
        " 2480000 rows...\n",
        "comp649659_c1_seq5,GL476409,77,5e-18,119,195\n",
        "Parsed"
       ]
      },
      {
       "output_type": "stream",
       "stream": "stdout",
       "text": [
        " 2490000 rows...\n",
        "comp649740_c2_seq5,GL478375,173,1e-84,1756,1928\n",
        "Parsed"
       ]
      },
      {
       "output_type": "stream",
       "stream": "stdout",
       "text": [
        " 2500000 rows...\n",
        "comp649823_c4_seq9,GL477274,91,1e-19,44,133\n",
        "Parsed"
       ]
      },
      {
       "output_type": "stream",
       "stream": "stdout",
       "text": [
        " 2510000 rows...\n",
        "comp649887_c0_seq7,GL479429,264,1e-135,880,1143\n",
        "Parsed"
       ]
      },
      {
       "output_type": "stream",
       "stream": "stdout",
       "text": [
        " 2520000 rows...\n",
        "comp649967_c0_seq15,GL476931,61,7e-11,1,55\n",
        "Parsed"
       ]
      },
      {
       "output_type": "stream",
       "stream": "stdout",
       "text": [
        " 2530000 rows...\n",
        "comp649986_c0_seq30,GL480987,56,6e-20,18,73\n",
        "Parsed"
       ]
      },
      {
       "output_type": "stream",
       "stream": "stdout",
       "text": [
        " 2540000 rows...\n",
        "comp650023_c1_seq33,GL476333,37,8e-08,1,37\n",
        "Parsed"
       ]
      },
      {
       "output_type": "stream",
       "stream": "stdout",
       "text": [
        " 2550000 rows...\n",
        "comp650117_c0_seq16,GL480310,93,3e-26,581,671\n",
        "Parsed"
       ]
      },
      {
       "output_type": "stream",
       "stream": "stdout",
       "text": [
        " 2560000 rows...\n",
        "comp650186_c1_seq6,GL478353,163,1e-76,64,226\n",
        "Parsed"
       ]
      },
      {
       "output_type": "stream",
       "stream": "stdout",
       "text": [
        " 2570000 rows...\n",
        "comp650288_c6_seq4,GL476592,114,3e-22,1434,1547\n",
        "Parsed"
       ]
      },
      {
       "output_type": "stream",
       "stream": "stdout",
       "text": [
        " 2580000 rows...\n",
        "comp650370_c3_seq3,GL490344,121,3e-23,2092,2202\n",
        "Parsed"
       ]
      },
      {
       "output_type": "stream",
       "stream": "stdout",
       "text": [
        " 2590000 rows...\n",
        "comp650402_c0_seq17,GL476534,628,6e-160,16,632\n",
        "Parsed"
       ]
      },
      {
       "output_type": "stream",
       "stream": "stdout",
       "text": [
        " 2600000 rows...\n",
        "comp650488_c0_seq20,GL478852,94,3e-35,2485,2577\n",
        "Parsed"
       ]
      },
      {
       "output_type": "stream",
       "stream": "stdout",
       "text": [
        " 2610000 rows...\n",
        "comp650556_c2_seq13,GL481046,63,3e-12,593,655\n",
        "Parsed"
       ]
      },
      {
       "output_type": "stream",
       "stream": "stdout",
       "text": [
        " 2620000 rows...\n",
        "comp650607_c1_seq11,GL476636,195,4e-59,150,340\n",
        "Parsed"
       ]
      },
      {
       "output_type": "stream",
       "stream": "stdout",
       "text": [
        " 2630000 rows...\n",
        "comp650668_c0_seq26,GL477332,135,3e-26,1784,1917\n",
        "Parsed"
       ]
      },
      {
       "output_type": "stream",
       "stream": "stdout",
       "text": [
        " 2640000 rows...\n",
        "comp650712_c2_seq21,GL477555,131,6e-40,1113,1243\n",
        "Parsed"
       ]
      },
      {
       "output_type": "stream",
       "stream": "stdout",
       "text": [
        " 2650000 rows...\n",
        "comp650786_c1_seq9,GL480176,188,1e-93,556,743\n",
        "Parsed"
       ]
      },
      {
       "output_type": "stream",
       "stream": "stdout",
       "text": [
        " 2660000 rows...\n",
        "comp650856_c3_seq9,GL477154,132,3e-62,567,698\n",
        "Parsed"
       ]
      },
      {
       "output_type": "stream",
       "stream": "stdout",
       "text": [
        " 2670000 rows...\n",
        "comp650888_c0_seq47,GL478636,138,2e-65,1792,1929\n",
        "Parsed"
       ]
      },
      {
       "output_type": "stream",
       "stream": "stdout",
       "text": [
        " 2680000 rows...\n",
        "comp650977_c2_seq1,GL479735,43,2e-09,528,570\n",
        "Parsed"
       ]
      },
      {
       "output_type": "stream",
       "stream": "stdout",
       "text": [
        " 2690000 rows...\n",
        "comp651040_c0_seq2,GL476358,53,1e-06,1445,1497\n",
        "Parsed"
       ]
      },
      {
       "output_type": "stream",
       "stream": "stdout",
       "text": [
        " 2700000 rows...\n",
        "comp651097_c0_seq5,GL477076,102,6e-41,381,482\n",
        "Parsed"
       ]
      },
      {
       "output_type": "stream",
       "stream": "stdout",
       "text": [
        " 2710000 rows...\n",
        "comp651144_c0_seq4,GL479197,76,5e-16,440,515\n",
        "Parsed"
       ]
      },
      {
       "output_type": "stream",
       "stream": "stdout",
       "text": [
        " 2720000 rows...\n",
        "comp651210_c1_seq12,GL486678,182,2e-57,207,388\n",
        "Parsed"
       ]
      },
      {
       "output_type": "stream",
       "stream": "stdout",
       "text": [
        " 2730000 rows...\n",
        "comp651235_c6_seq7,GL480088,85,5e-29,1297,1381\n",
        "Parsed"
       ]
      },
      {
       "output_type": "stream",
       "stream": "stdout",
       "text": [
        " 2740000 rows...\n",
        "comp651257_c4_seq1,GL477222,37,4e-06,1,37\n",
        "Parsed"
       ]
      },
      {
       "output_type": "stream",
       "stream": "stdout",
       "text": [
        " 2750000 rows...\n",
        "comp651280_c2_seq4,GL484701,197,8e-94,258,454\n",
        "Parsed"
       ]
      },
      {
       "output_type": "stream",
       "stream": "stdout",
       "text": [
        " 2760000 rows...\n",
        "comp651349_c0_seq5,GL476399,48,3e-14,300,347\n",
        "Parsed"
       ]
      },
      {
       "output_type": "stream",
       "stream": "stdout",
       "text": [
        " 2770000 rows...\n",
        "comp651404_c0_seq5,GL480148,154,4e-31,353,504\n",
        "Parsed"
       ]
      },
      {
       "output_type": "stream",
       "stream": "stdout",
       "text": [
        " 2780000 rows...\n",
        "comp651465_c1_seq1,GL476732,838,0.0,16,849\n",
        "Parsed"
       ]
      },
      {
       "output_type": "stream",
       "stream": "stdout",
       "text": [
        " 2790000 rows...\n",
        "comp651492_c6_seq3,GL479053,73,3e-19,59,130\n",
        "Parsed"
       ]
      },
      {
       "output_type": "stream",
       "stream": "stdout",
       "text": [
        " 2800000 rows...\n",
        "comp651541_c3_seq11,GL486553,186,2e-47,185,362\n",
        "Parsed"
       ]
      },
      {
       "output_type": "stream",
       "stream": "stdout",
       "text": [
        " 2810000 rows...\n",
        "comp651607_c5_seq3,GL489130,75,8e-19,4,78\n",
        "Parsed"
       ]
      },
      {
       "output_type": "stream",
       "stream": "stdout",
       "text": [
        " 2820000 rows...\n",
        "comp651703_c7_seq15,GL488420,341,8e-61,26,353\n",
        "Parsed"
       ]
      },
      {
       "output_type": "stream",
       "stream": "stdout",
       "text": [
        " 2830000 rows...\n",
        "comp651723_c3_seq12,GL477154,261,4e-106,154,414\n",
        "Parsed"
       ]
      },
      {
       "output_type": "stream",
       "stream": "stdout",
       "text": [
        " 2840000 rows...\n",
        "comp651734_c0_seq23,GL478852,220,1e-27,433,633\n",
        "Parsed"
       ]
      },
      {
       "output_type": "stream",
       "stream": "stdout",
       "text": [
        " 2850000 rows...\n",
        "comp651774_c0_seq20,GL476418,81,6e-32,18,98\n",
        "Parsed"
       ]
      },
      {
       "output_type": "stream",
       "stream": "stdout",
       "text": [
        " 2860000 rows...\n",
        "comp651822_c0_seq13,GL479474,61,3e-11,677,737\n",
        "Parsed"
       ]
      },
      {
       "output_type": "stream",
       "stream": "stdout",
       "text": [
        " 2870000 rows...\n",
        "comp651884_c1_seq15,GL476737,157,1e-48,179,335\n",
        "Parsed"
       ]
      },
      {
       "output_type": "stream",
       "stream": "stdout",
       "text": [
        " 2880000 rows...\n",
        "comp651929_c2_seq21,GL476587,55,5e-07,797,849\n",
        "Parsed"
       ]
      },
      {
       "output_type": "stream",
       "stream": "stdout",
       "text": [
        " 2890000 rows...\n",
        "comp651981_c0_seq8,GL477167,51,2e-10,283,332\n",
        "Parsed"
       ]
      },
      {
       "output_type": "stream",
       "stream": "stdout",
       "text": [
        " 2900000 rows...\n",
        "comp652003_c0_seq21,GL476630,1510,0.0,1,1507\n",
        "Parsed"
       ]
      },
      {
       "output_type": "stream",
       "stream": "stdout",
       "text": [
        " 2910000 rows...\n",
        "comp652031_c2_seq6,GL476409,63,3e-14,1,60\n",
        "Parsed"
       ]
      },
      {
       "output_type": "stream",
       "stream": "stdout",
       "text": [
        " 2920000 rows...\n",
        "comp652087_c1_seq3,GL479830,197,1e-36,333,520\n",
        "Parsed"
       ]
      },
      {
       "output_type": "stream",
       "stream": "stdout",
       "text": [
        " 2930000 rows...\n",
        "comp652149_c5_seq5,GL481145,380,0.0,355,734\n",
        "Parsed"
       ]
      },
      {
       "output_type": "stream",
       "stream": "stdout",
       "text": [
        " 2940000 rows...\n",
        "comp652196_c0_seq2,GL483149,55,6e-13,1,55\n",
        "Parsed"
       ]
      },
      {
       "output_type": "stream",
       "stream": "stdout",
       "text": [
        " 2950000 rows...\n",
        "comp652250_c4_seq4,GL476872,30,2e-06,287,316\n",
        "Parsed"
       ]
      },
      {
       "output_type": "stream",
       "stream": "stdout",
       "text": [
        " 2960000 rows...\n",
        "comp652310_c4_seq7,GL476533,53,4e-09,3,55\n",
        "Parsed"
       ]
      },
      {
       "output_type": "stream",
       "stream": "stdout",
       "text": [
        " 2970000 rows...\n",
        "comp652354_c0_seq7,GL476448,58,2e-18,2,59\n",
        "Parsed"
       ]
      },
      {
       "output_type": "stream",
       "stream": "stdout",
       "text": [
        " 2980000 rows...\n",
        "comp652402_c5_seq9,GL476350,106,9e-48,333,438\n",
        "Parsed"
       ]
      },
      {
       "output_type": "stream",
       "stream": "stdout",
       "text": [
        " 2990000 rows...\n",
        "comp652452_c4_seq7,GL478417,159,3e-45,21,179\n",
        "Parsed"
       ]
      },
      {
       "output_type": "stream",
       "stream": "stdout",
       "text": [
        " 3000000 rows...\n",
        "comp652531_c3_seq15,GL481799,188,2e-47,635,820\n",
        "Parsed"
       ]
      },
      {
       "output_type": "stream",
       "stream": "stdout",
       "text": [
        " 3010000 rows...\n",
        "comp652600_c4_seq4,GL478133,645,0.0,16,660\n",
        "Parsed"
       ]
      },
      {
       "output_type": "stream",
       "stream": "stdout",
       "text": [
        " 3020000 rows...\n",
        "comp652617_c0_seq19,GL478928,65,6e-25,1274,1338\n",
        "Parsed"
       ]
      },
      {
       "output_type": "stream",
       "stream": "stdout",
       "text": [
        " 3030000 rows...\n",
        "comp652674_c0_seq56,GL477662,516,0.0,1139,1654\n",
        "Parsed"
       ]
      },
      {
       "output_type": "stream",
       "stream": "stdout",
       "text": [
        " 3040000 rows...\n",
        "comp652724_c0_seq17,GL491854,58,2e-07,931,987\n",
        "Parsed"
       ]
      },
      {
       "output_type": "stream",
       "stream": "stdout",
       "text": [
        " 3050000 rows...\n",
        "comp652726_c2_seq18,GL480979,68,2e-14,185,252\n",
        "Parsed"
       ]
      },
      {
       "output_type": "stream",
       "stream": "stdout",
       "text": [
        " 3060000 rows...\n",
        "comp652778_c1_seq11,GL477625,434,0.0,110,543\n",
        "Parsed"
       ]
      },
      {
       "output_type": "stream",
       "stream": "stdout",
       "text": [
        " 3070000 rows...\n",
        "comp652781_c0_seq2,GL476656,143,2e-56,633,774\n",
        "Parsed"
       ]
      },
      {
       "output_type": "stream",
       "stream": "stdout",
       "text": [
        " 3080000 rows...\n",
        "comp652781_c0_seq4,GL476571,1072,0.0,332,1390\n",
        "Parsed"
       ]
      },
      {
       "output_type": "stream",
       "stream": "stdout",
       "text": [
        " 3090000 rows...\n",
        "comp652781_c0_seq6,GL476369,124,4e-47,332,455\n",
        "Parsed"
       ]
      },
      {
       "output_type": "stream",
       "stream": "stdout",
       "text": [
        " 3100000 rows...\n",
        "comp652781_c0_seq9,GL476371,1020,0.0,574,1592\n",
        "Parsed"
       ]
      },
      {
       "output_type": "stream",
       "stream": "stdout",
       "text": [
        " 3110000 rows...\n",
        "comp652803_c0_seq44,GL476935,163,3e-79,2211,2373\n",
        "Parsed"
       ]
      },
      {
       "output_type": "stream",
       "stream": "stdout",
       "text": [
        " 3120000 rows...\n",
        "comp652858_c0_seq14,GL477898,128,6e-36,690,817\n",
        "Parsed"
       ]
      },
      {
       "output_type": "stream",
       "stream": "stdout",
       "text": [
        " 3130000 rows...\n",
        "comp652918_c0_seq1,GL476479,112,4e-51,670,781\n",
        "Parsed"
       ]
      },
      {
       "output_type": "stream",
       "stream": "stdout",
       "text": [
        " 3140000 rows...\n",
        "comp652971_c3_seq2,GL485525,31,7e-06,2989,3019\n",
        "Parsed"
       ]
      },
      {
       "output_type": "stream",
       "stream": "stdout",
       "text": [
        " 3150000 rows...\n",
        "comp653063_c1_seq1,GL476399,101,1e-10,316,415\n",
        "Parsed"
       ]
      },
      {
       "output_type": "stream",
       "stream": "stdout",
       "text": [
        " 3160000 rows...\n",
        "comp653115_c4_seq2,GL476359,37,4e-10,274,310\n",
        "Parsed"
       ]
      },
      {
       "output_type": "stream",
       "stream": "stdout",
       "text": [
        " 3170000 rows...\n",
        "comp653115_c4_seq14,GL476436,69,1e-25,1570,1638\n",
        "Parsed"
       ]
      },
      {
       "output_type": "stream",
       "stream": "stdout",
       "text": [
        " 3180000 rows...\n",
        "comp653135_c3_seq5,GL476839,84,3e-20,461,543\n",
        "Parsed"
       ]
      },
      {
       "output_type": "stream",
       "stream": "stdout",
       "text": [
        " 3190000 rows...\n",
        "comp653177_c2_seq1,GL479209,120,3e-39,398,515\n",
        "Parsed"
       ]
      },
      {
       "output_type": "stream",
       "stream": "stdout",
       "text": [
        " 3200000 rows...\n",
        "comp653225_c0_seq1,GL477577,147,3e-71,43,189\n",
        "Parsed"
       ]
      },
      {
       "output_type": "stream",
       "stream": "stdout",
       "text": [
        " 3210000 rows...\n",
        "comp653259_c4_seq8,GL478342,43,2e-07,91,132\n",
        "Parsed"
       ]
      },
      {
       "output_type": "stream",
       "stream": "stdout",
       "text": [
        " 3220000 rows...\n",
        "comp653312_c0_seq31,GL479728,188,3e-91,455,641\n",
        "Parsed"
       ]
      },
      {
       "output_type": "stream",
       "stream": "stdout",
       "text": [
        " 3230000 rows...\n",
        "comp653346_c3_seq17,GL481763,38,1e-08,829,866\n",
        "Parsed"
       ]
      },
      {
       "output_type": "stream",
       "stream": "stdout",
       "text": [
        " 3240000 rows...\n",
        "comp653385_c1_seq2,GL476500,57,6e-11,156,212\n",
        "Parsed"
       ]
      },
      {
       "output_type": "stream",
       "stream": "stdout",
       "text": [
        " 3250000 rows...\n",
        "comp653407_c2_seq6,GL477436,43,3e-13,539,581\n",
        "Parsed"
       ]
      },
      {
       "output_type": "stream",
       "stream": "stdout",
       "text": [
        " 3260000 rows...\n",
        "comp653419_c3_seq3,GL478588,374,6e-123,29,402\n",
        "Parsed"
       ]
      },
      {
       "output_type": "stream",
       "stream": "stdout",
       "text": [
        " 3270000 rows...\n",
        "comp653450_c1_seq4,GL476962,36,3e-07,449,484\n",
        "Parsed"
       ]
      },
      {
       "output_type": "stream",
       "stream": "stdout",
       "text": [
        " 3280000 rows...\n",
        "comp653475_c2_seq5,GL476601,166,3e-78,4555,4719\n",
        "Parsed"
       ]
      },
      {
       "output_type": "stream",
       "stream": "stdout",
       "text": [
        " 3290000 rows...\n",
        "comp653531_c0_seq1,GL476498,36,5e-08,177,212\n",
        "Parsed"
       ]
      },
      {
       "output_type": "stream",
       "stream": "stdout",
       "text": [
        " 3300000 rows...\n",
        "comp653565_c1_seq3,GL476857,79,3e-17,202,280\n",
        "Parsed"
       ]
      },
      {
       "output_type": "stream",
       "stream": "stdout",
       "text": [
        " 3310000 rows...\n",
        "comp653604_c0_seq4,GL476595,266,4e-118,122,387\n",
        "Parsed"
       ]
      },
      {
       "output_type": "stream",
       "stream": "stdout",
       "text": [
        " 3320000 rows...\n",
        "comp653617_c2_seq8,GL476436,86,4e-16,2,85\n",
        "Parsed"
       ]
      },
      {
       "output_type": "stream",
       "stream": "stdout",
       "text": [
        " 3330000 rows...\n",
        "comp653646_c4_seq8,GL476331,93,4e-26,207,299\n",
        "Parsed"
       ]
      },
      {
       "output_type": "stream",
       "stream": "stdout",
       "text": [
        " 3340000 rows...\n",
        "comp653664_c3_seq15,GL476367,139,3e-46,1,137\n",
        "Parsed"
       ]
      },
      {
       "output_type": "stream",
       "stream": "stdout",
       "text": [
        " 3350000 rows...\n",
        "comp653701_c0_seq10,GL480291,257,2e-53,84,336\n",
        "Parsed"
       ]
      },
      {
       "output_type": "stream",
       "stream": "stdout",
       "text": [
        " 3360000 rows...\n",
        "comp653739_c0_seq8,GL496851,107,7e-40,315,420\n",
        "Parsed"
       ]
      },
      {
       "output_type": "stream",
       "stream": "stdout",
       "text": [
        " 3370000 rows...\n",
        "comp653754_c2_seq12,GL476716,151,2e-72,4177,4327\n",
        "Parsed"
       ]
      },
      {
       "output_type": "stream",
       "stream": "stdout",
       "text": [
        " 3380000 rows...\n",
        "comp653818_c1_seq1,GL479690,77,2e-29,4551,4627\n",
        "Parsed"
       ]
      },
      {
       "output_type": "stream",
       "stream": "stdout",
       "text": [
        " 3390000 rows...\n",
        "comp653823_c1_seq24,GL476528,171,5e-64,199,368\n",
        "Parsed"
       ]
      },
      {
       "output_type": "stream",
       "stream": "stdout",
       "text": [
        " 3400000 rows...\n",
        "comp653839_c1_seq1,GL478120,135,4e-49,155,288\n",
        "Parsed"
       ]
      },
      {
       "output_type": "stream",
       "stream": "stdout",
       "text": [
        " 3410000 rows...\n",
        "comp653860_c1_seq8,GL480239,354,5e-103,1,348\n",
        "Parsed"
       ]
      },
      {
       "output_type": "stream",
       "stream": "stdout",
       "text": [
        " 3420000 rows...\n",
        "comp653874_c1_seq3,GL476405,153,2e-66,1911,2063\n",
        "Parsed"
       ]
      },
      {
       "output_type": "stream",
       "stream": "stdout",
       "text": [
        " 3430000 rows...\n",
        "comp653874_c1_seq5,GL478762,349,3e-163,413,761\n",
        "Parsed"
       ]
      },
      {
       "output_type": "stream",
       "stream": "stdout",
       "text": [
        " 3440000 rows...\n",
        "comp653898_c0_seq3,GL487157,61,2e-16,888,948\n",
        "Parsed"
       ]
      },
      {
       "output_type": "stream",
       "stream": "stdout",
       "text": [
        " 3450000 rows...\n",
        "comp653898_c0_seq4,GL486139,320,3e-75,905,1219\n",
        "Parsed"
       ]
      },
      {
       "output_type": "stream",
       "stream": "stdout",
       "text": [
        " 3460000 rows...\n",
        "comp653913_c0_seq1,GL478915,506,4e-85,3,503\n",
        "Parsed"
       ]
      },
      {
       "output_type": "stream",
       "stream": "stdout",
       "text": [
        " 3470000 rows...\n",
        "comp653924_c0_seq7,GL485777,454,0.0,4,452\n",
        "Parsed"
       ]
      },
      {
       "output_type": "stream",
       "stream": "stdout",
       "text": [
        " 3480000 rows...\n",
        "comp653939_c1_seq2,GL477169,101,1e-18,2743,2840\n",
        "Parsed"
       ]
      },
      {
       "output_type": "stream",
       "stream": "stdout",
       "text": [
        " 3490000 rows...\n",
        "comp653952_c1_seq8,GL494413,97,2e-33,1,97\n",
        "Parsed"
       ]
      },
      {
       "output_type": "stream",
       "stream": "stdout",
       "text": [
        " 3500000 rows...\n",
        "comp653955_c1_seq8,GL480016,694,0.0,1,694\n",
        "Parsed"
       ]
      },
      {
       "output_type": "stream",
       "stream": "stdout",
       "text": [
        " 3510000 rows...\n",
        "comp653965_c0_seq1,GL476605,282,5e-59,89,367\n",
        "Parsed"
       ]
      },
      {
       "output_type": "stream",
       "stream": "stdout",
       "text": [
        " 3520000 rows...\n",
        "comp654007_c0_seq1,GL476598,90,8e-13,1114,1195\n",
        "Parsed"
       ]
      },
      {
       "output_type": "stream",
       "stream": "stdout",
       "text": [
        " 3530000 rows...\n",
        "comp654072_c0_seq1,GL480137,314,1e-148,57,369\n",
        "Parsed"
       ]
      },
      {
       "output_type": "stream",
       "stream": "stdout",
       "text": [
        " 3540000 rows...\n",
        "comp654386_c0_seq1,GL476362,280,2e-88,3,280\n",
        "Parsed"
       ]
      },
      {
       "output_type": "stream",
       "stream": "stdout",
       "text": [
        " 3550000 rows...\n",
        "comp704590_c0_seq1,GL476816,336,8e-171,12,346\n",
        "Parsed"
       ]
      },
      {
       "output_type": "stream",
       "stream": "stdout",
       "text": [
        " 3560000 rows...\n",
        "comp1682069_c0_seq1,GL477308,578,0.0,1,578\n",
        "Parsed"
       ]
      },
      {
       "output_type": "stream",
       "stream": "stdout",
       "text": [
        " 3570000 rows...\n",
        "comp2798217_c0_seq1,GL476376,419,0.0,1,419\n",
        "Parsed"
       ]
      },
      {
       "output_type": "stream",
       "stream": "stdout",
       "text": [
        " 3580000 rows...\n",
        "comp4773415_c0_seq1,GL478201,237,1e-119,11,247\n",
        "...done parsing 3583638 hits.\n",
        "filtering out hits less than 50 bases...\n",
        "...looked through 0 hits\n",
        "comp56_c0_seq1,GL478987,571,0.0,54,623\n",
        "...looked through 10000 hits\n",
        "comp154650_c0_seq1,GL476561,403,0.0,1,403\n",
        "...looked through 20000 hits\n",
        "comp260413_c0_seq1,GL476334,38,1e-06,414,450\n",
        "...looked through"
       ]
      },
      {
       "output_type": "stream",
       "stream": "stdout",
       "text": [
        " 30000 hits\n",
        "comp302816_c0_seq1,GL481517,407,0.0,1,403\n",
        "...looked through 40000 hits\n",
        "comp374304_c0_seq1,GL481625,42,3e-07,438,478\n",
        "...looked through 50000 hits\n",
        "comp400396_c0_seq3,GL493801,372,0.0,19,390\n",
        "...looked through 60000 hits\n",
        "comp420818_c0_seq1,GL477372,55,3e-15,103,157\n",
        "...looked through 70000 hits\n",
        "comp443781_c0_seq1,GL479098,37,5e-10,1,37\n",
        "...looked through 80000 hits\n",
        "comp470392_c0_seq1,GL492312,287,8e-146,32,318\n",
        "...looked through"
       ]
      },
      {
       "output_type": "stream",
       "stream": "stdout",
       "text": [
        " 90000 hits\n",
        "comp493002_c0_seq2,GL476697,955,0.0,4,958\n",
        "...looked through 100000 hits\n",
        "comp511855_c0_seq1,GL481270,52,2e-13,351,402\n",
        "...looked through 110000 hits\n",
        "comp516295_c0_seq1,GL477332,319,1e-98,1,311\n",
        "...looked through 120000 hits\n",
        "comp523131_c0_seq1,GL482499,84,1e-24,236,319\n",
        "...looked through 130000 hits\n",
        "comp532822_c0_seq1,GL476401,76,3e-16,51,125\n",
        "...looked through 140000 hits\n",
        "comp544383_c0_seq3,GL486349,49,7e-12,2,50\n",
        "...looked through 150000 hits\n",
        "comp554515_c0_seq1,GL476440,61,7e-10,80,140\n",
        "...looked through"
       ]
      },
      {
       "output_type": "stream",
       "stream": "stdout",
       "text": [
        " 160000 hits\n",
        "comp560597_c0_seq1,GL485730,491,0.0,1,480\n",
        "...looked through 170000 hits\n",
        "comp563859_c0_seq2,GL486505,60,3e-12,3,61\n",
        "...looked through 180000 hits\n",
        "comp568917_c0_seq1,GL476335,59,5e-15,1,57\n",
        "...looked through 190000 hits\n",
        "comp574376_c0_seq2,GL478531,221,6e-53,169,386\n",
        "...looked through 200000 hits\n",
        "comp580127_c0_seq2,GL476408,674,0.0,1,674\n",
        "...looked through 210000 hits\n",
        "comp584216_c0_seq1,GL476696,99,6e-15,410,507\n",
        "...looked through 220000 hits\n",
        "comp587872_c1_seq1,GL476533,50,8e-12,130,178\n",
        "...looked through 230000 hits\n",
        "comp591006_c1_seq2,GL501236,137,1e-28,452,585\n",
        "...looked through 240000 hits\n",
        "comp594053_c0_seq1,GL478430,63,4e-14,259,321\n",
        "...looked through"
       ]
      },
      {
       "output_type": "stream",
       "stream": "stdout",
       "text": [
        " 250000 hits\n",
        "comp596634_c1_seq1,GL480221,98,3e-26,273,368\n",
        "...looked through 260000 hits\n",
        "comp598642_c0_seq3,GL497466,206,1e-100,19,224\n",
        "...looked through 270000 hits\n",
        "comp601412_c0_seq3,GL479202,49,9e-10,698,746\n",
        "...looked through 280000 hits\n",
        "comp603325_c0_seq1,GL491271,44,2e-10,682,725\n",
        "...looked through 290000 hits\n",
        "comp605486_c4_seq1,GL478344,276,1e-137,354,629\n",
        "...looked through 300000 hits\n",
        "comp607551_c0_seq1,GL476727,884,0.0,6,889\n",
        "...looked through 310000 hits\n",
        "comp608757_c0_seq1,GL476469,193,1e-74,155,347\n",
        "...looked through 320000 hits\n",
        "comp610527_c1_seq1,GL496944,357,0.0,1,357\n",
        "...looked through 330000 hits\n",
        "comp612300_c0_seq6,GL477881,98,2e-21,168,265\n",
        "...looked through"
       ]
      },
      {
       "output_type": "stream",
       "stream": "stdout",
       "text": [
        " 340000 hits\n",
        "comp613852_c0_seq1,GL477283,125,3e-13,1,125\n",
        "...looked through 350000 hits\n",
        "comp615248_c0_seq5,GL477427,121,8e-55,160,280\n",
        "...looked through 360000 hits\n",
        "comp616505_c1_seq4,GL478035,181,5e-22,20,180\n",
        "...looked through 370000 hits\n",
        "comp618006_c0_seq3,GL476516,208,7e-102,162,369\n",
        "...looked through 380000 hits\n",
        "comp619032_c0_seq2,GL476635,371,1e-141,1,370\n",
        "...looked through 390000 hits\n",
        "comp620027_c0_seq1,GL478369,341,2e-166,18,354\n",
        "...looked through 400000 hits\n",
        "comp620861_c0_seq2,GL478050,260,2e-81,1,255\n",
        "...looked through 410000 hits\n",
        "comp621349_c0_seq1,GL478502,50,9e-11,242,291\n",
        "...looked through 420000 hits\n",
        "comp622052_c0_seq1,GL482751,60,1e-18,590,649\n",
        "...looked through"
       ]
      },
      {
       "output_type": "stream",
       "stream": "stdout",
       "text": [
        " 430000 hits\n",
        "comp622573_c2_seq1,GL478244,60,3e-10,456,514\n",
        "...looked through 440000 hits\n",
        "comp623301_c5_seq3,GL478668,87,9e-14,4,86\n",
        "...looked through 450000 hits\n",
        "comp624108_c0_seq2,GL479383,220,1e-46,538,752\n",
        "...looked through 460000 hits\n",
        "comp624605_c2_seq6,GL476593,77,2e-22,931,1004\n",
        "...looked through 470000 hits\n",
        "comp624909_c4_seq7,GL476370,179,5e-60,1,179\n",
        "...looked through 480000 hits\n",
        "comp625727_c0_seq6,GL478104,158,1e-76,105,262\n",
        "...looked through 490000 hits\n",
        "comp626340_c3_seq1,GL477881,40,1e-06,10,49\n",
        "...looked through 500000 hits\n",
        "comp626828_c0_seq8,GL478756,42,2e-09,349,390\n",
        "...looked through 510000 hits\n",
        "comp627285_c0_seq11,GL477197,50,6e-14,49,98\n",
        "...looked through 520000 hits\n",
        "comp627625_c1_seq1,GL477057,343,2e-156,19,360\n",
        "...looked through"
       ]
      },
      {
       "output_type": "stream",
       "stream": "stdout",
       "text": [
        " 530000 hits\n",
        "comp628204_c2_seq1,GL476372,111,5e-07,348,458\n",
        "...looked through 540000 hits\n",
        "comp628409_c0_seq1,GL482601,118,6e-29,1516,1627\n",
        "...looked through 550000 hits\n",
        "comp628805_c3_seq4,GL488385,51,3e-14,780,830\n",
        "...looked through 560000 hits\n",
        "comp629140_c0_seq3,GL487882,290,6e-106,227,516\n",
        "...looked through 570000 hits\n",
        "comp629474_c6_seq11,GL477110,206,4e-104,1,206\n",
        "...looked through 580000 hits\n",
        "comp629744_c4_seq1,GL477360,46,2e-09,451,496\n",
        "...looked through 590000 hits\n",
        "comp630018_c1_seq3,GL476375,911,0.0,1,911\n",
        "...looked through 600000 hits\n",
        "comp630288_c0_seq3,GL482375,117,5e-21,561,674\n",
        "...looked through 610000 hits\n",
        "comp630645_c2_seq2,GL484039,94,8e-26,1,92\n",
        "...looked through 620000 hits\n",
        "comp630809_c0_seq4,GL479830,181,6e-66,613,793\n",
        "...looked through"
       ]
      },
      {
       "output_type": "stream",
       "stream": "stdout",
       "text": [
        " 630000 hits\n",
        "comp631077_c1_seq3,GL485606,203,4e-45,204,402\n",
        "...looked through 640000 hits\n",
        "comp631207_c4_seq2,GL479948,144,7e-26,115,255\n",
        "...looked through 650000 hits\n",
        "comp631289_c2_seq2,GL486064,389,5e-128,1,377\n",
        "...looked through 660000 hits\n",
        "comp631391_c1_seq5,GL476468,61,4e-18,173,233\n",
        "...looked through 670000 hits\n",
        "comp631561_c1_seq3,GL501190,58,6e-09,1475,1532\n",
        "...looked through 680000 hits\n",
        "comp631713_c0_seq4,GL494112,64,5e-15,3,66\n",
        "...looked through 690000 hits\n",
        "comp631972_c1_seq2,GL490118,76,3e-26,469,544\n",
        "...looked through 700000 hits\n",
        "comp632199_c0_seq4,GL476802,354,0.0,19,372\n",
        "...looked through 710000 hits\n",
        "comp632394_c3_seq19,GL479708,127,2e-18,648,774\n",
        "...looked through 720000 hits\n",
        "comp632643_c1_seq2,GL493251,276,7e-91,1,271\n",
        "...looked through"
       ]
      },
      {
       "output_type": "stream",
       "stream": "stdout",
       "text": [
        " 730000 hits\n",
        "comp632904_c4_seq5,GL476550,165,4e-32,39,195\n",
        "...looked through 740000 hits\n",
        "comp633103_c1_seq3,GL497820,54,1e-12,686,739\n",
        "...looked through 750000 hits\n",
        "comp633354_c1_seq1,GL480860,333,5e-171,1,333\n",
        "...looked through 760000 hits\n",
        "comp633623_c0_seq1,GL479556,263,1e-59,83,342\n",
        "...looked through 770000 hits\n",
        "comp633785_c7_seq2,GL477522,149,7e-27,753,899\n",
        "...looked through 780000 hits\n",
        "comp633947_c0_seq6,GL480700,58,2e-11,18,75\n",
        "...looked through 790000 hits\n",
        "comp634005_c2_seq11,GL477410,212,7e-77,1,211\n",
        "...looked through 800000 hits\n",
        "comp634127_c3_seq1,GL476329,54,6e-18,20,73\n",
        "...looked through 810000 hits\n",
        "comp634193_c1_seq9,GL479660,102,1e-25,331,430\n",
        "...looked through"
       ]
      },
      {
       "output_type": "stream",
       "stream": "stdout",
       "text": [
        " 820000 hits\n",
        "comp634344_c1_seq11,GL476598,353,1e-94,2,352\n",
        "...looked through 830000 hits\n",
        "comp634449_c3_seq5,GL481497,100,2e-25,25,121\n",
        "...looked through 840000 hits\n",
        "comp634545_c1_seq7,GL477988,564,0.0,7,570\n",
        "...looked through 850000 hits\n",
        "comp634682_c9_seq14,GL479280,94,2e-24,141,234\n",
        "...looked through 860000 hits\n",
        "comp634880_c3_seq2,GL476394,295,3e-71,70,359\n",
        "...looked through 870000 hits\n",
        "comp634946_c0_seq7,GL497877,118,8e-55,24,141\n",
        "...looked through 880000 hits\n",
        "comp635045_c3_seq20,GL476367,173,1e-44,194,362\n",
        "...looked through 890000 hits\n",
        "comp635126_c6_seq6,GL476329,62,6e-22,864,925\n",
        "...looked through 900000 hits\n",
        "comp635287_c0_seq7,GL476352,91,7e-27,247,337\n",
        "...looked through 910000 hits\n",
        "comp635446_c2_seq1,GL476968,91,3e-36,583,673\n",
        "...looked through"
       ]
      },
      {
       "output_type": "stream",
       "stream": "stdout",
       "text": [
        " 920000 hits\n",
        "comp635621_c2_seq2,GL484581,201,8e-28,274,463\n",
        "...looked through 930000 hits\n",
        "comp635786_c1_seq24,GL477318,61,8e-09,1764,1823\n",
        "...looked through 940000 hits\n",
        "comp636016_c1_seq4,GL480582,128,1e-41,1781,1908\n",
        "...looked through 950000 hits\n",
        "comp636165_c0_seq1,GL479420,88,2e-22,1,84\n",
        "...looked through 960000 hits\n",
        "comp636276_c4_seq6,GL476664,142,5e-20,88,219\n",
        "...looked through 970000 hits\n",
        "comp636443_c0_seq2,GL483418,38,4e-10,1203,1240\n",
        "...looked through 980000 hits\n",
        "comp636615_c0_seq1,GL487751,53,6e-06,190,239\n",
        "...looked through"
       ]
      },
      {
       "output_type": "stream",
       "stream": "stdout",
       "text": [
        " 990000 hits\n",
        "comp636718_c1_seq15,GL480419,178,2e-42,113,289\n",
        "...looked through 1000000 hits\n",
        "comp636808_c1_seq8,GL477135,52,7e-13,226,277\n",
        "...looked through 1010000 hits\n",
        "comp636886_c2_seq7,GL493619,196,4e-46,89,280\n",
        "...looked through 1020000 hits\n",
        "comp636951_c2_seq10,GL477412,76,1e-18,473,544\n",
        "...looked through 1030000 hits\n",
        "comp637074_c4_seq2,GL493883,42,3e-09,237,278\n",
        "...looked through 1040000 hits\n",
        "comp637274_c0_seq33,GL478480,78,4e-32,1572,1649\n",
        "...looked through 1050000 hits\n",
        "comp637372_c0_seq1,GL480041,73,2e-14,527,599\n",
        "...looked through 1060000 hits\n",
        "comp637458_c3_seq1,GL484015,79,6e-14,1436,1514\n",
        "...looked through 1070000 hits\n",
        "comp637598_c6_seq5,GL478228,100,1e-24,219,318\n",
        "...looked through"
       ]
      },
      {
       "output_type": "stream",
       "stream": "stdout",
       "text": [
        " 1080000 hits\n",
        "comp637679_c3_seq7,GL477638,158,3e-40,24,180\n",
        "...looked through 1090000 hits\n",
        "comp637796_c2_seq1,GL476494,64,1e-16,592,655\n",
        "...looked through 1100000 hits\n",
        "comp637846_c1_seq3,GL477214,72,1e-20,398,469\n",
        "...looked through 1110000 hits\n",
        "comp637941_c7_seq3,GL477405,195,2e-54,316,508\n",
        "...looked through 1120000 hits\n",
        "comp638083_c2_seq8,GL482241,308,4e-75,1,307\n",
        "...looked through 1130000 hits\n",
        "comp638278_c3_seq3,GL477638,108,7e-17,85,192\n",
        "...looked through 1140000 hits\n",
        "comp638383_c5_seq10,GL491001,56,3e-15,1052,1107\n",
        "...looked through"
       ]
      },
      {
       "output_type": "stream",
       "stream": "stdout",
       "text": [
        " 1150000 hits\n",
        "comp638476_c1_seq7,GL479107,471,0.0,1,471\n",
        "...looked through 1160000 hits\n",
        "comp638591_c0_seq6,GL483005,187,2e-25,1899,2073\n",
        "...looked through 1170000 hits\n",
        "comp638668_c0_seq10,GL483619,163,6e-80,134,296\n",
        "...looked through 1180000 hits\n",
        "comp638798_c5_seq4,GL476428,105,1e-44,16,120\n",
        "...looked through 1190000 hits\n",
        "comp638804_c3_seq23,GL482603,147,8e-29,255,392\n",
        "...looked through 1200000 hits\n",
        "comp638945_c1_seq2,GL476486,1942,0.0,23,1964\n",
        "...looked through 1210000 hits\n",
        "comp639038_c2_seq1,GL484120,48,3e-09,448,495\n",
        "...looked through 1220000 hits\n",
        "comp639178_c0_seq2,GL478867,670,0.0,13,681\n",
        "...looked through 1230000 hits\n",
        "comp639264_c0_seq30,GL476350,351,0.0,1950,2300\n",
        "...looked through 1240000 hits\n",
        "comp639429_c5_seq3,GL482970,107,8e-28,337,440\n",
        "...looked through"
       ]
      },
      {
       "output_type": "stream",
       "stream": "stdout",
       "text": [
        " 1250000 hits\n",
        "comp639533_c0_seq3,GL477455,41,8e-09,487,527\n",
        "...looked through 1260000 hits\n",
        "comp639643_c4_seq26,GL476362,325,8e-45,2387,2708\n",
        "...looked through 1270000 hits\n",
        "comp639742_c1_seq10,GL481169,147,2e-70,1182,1328\n",
        "...looked through 1280000 hits\n",
        "comp639870_c3_seq31,GL476545,104,3e-14,860,962\n",
        "...looked through 1290000 hits\n",
        "comp639939_c0_seq3,GL484037,141,4e-25,175,315\n",
        "...looked through 1300000 hits\n",
        "comp640060_c0_seq1,GL479485,134,4e-63,2185,2318\n",
        "...looked through 1310000 hits\n",
        "comp640155_c0_seq1,GL477548,242,2e-50,1,233\n",
        "...looked through 1320000 hits\n",
        "comp640241_c2_seq2,GL481136,343,4e-110,1,339\n",
        "...looked through 1330000 hits\n",
        "comp640316_c1_seq15,GL477575,258,9e-51,885,1142\n",
        "...looked through"
       ]
      },
      {
       "output_type": "stream",
       "stream": "stdout",
       "text": [
        " 1340000 hits\n",
        "comp640401_c1_seq9,GL476445,74,8e-20,38,110\n",
        "...looked through 1350000 hits\n",
        "comp640494_c2_seq5,GL477925,60,2e-13,344,402\n",
        "...looked through 1360000 hits\n",
        "comp640564_c4_seq4,GL501037,188,9e-43,333,518\n",
        "...looked through 1370000 hits\n",
        "comp640671_c4_seq13,GL478958,105,1e-43,513,617\n",
        "...looked through 1380000 hits\n",
        "comp640779_c2_seq6,GL494962,71,7e-11,87,154\n",
        "...looked through 1390000 hits\n",
        "comp640938_c1_seq8,GL477432,3102,0.0,1,3102\n",
        "...looked through 1400000 hits\n",
        "comp641041_c1_seq19,GL477439,101,2e-45,297,397\n",
        "...looked through 1410000 hits\n",
        "comp641162_c3_seq1,GL477490,175,2e-53,74,243\n",
        "...looked through 1420000 hits\n",
        "comp641239_c6_seq3,GL476607,125,2e-33,314,438\n",
        "...looked through"
       ]
      },
      {
       "output_type": "stream",
       "stream": "stdout",
       "text": [
        " 1430000 hits\n",
        "comp641400_c0_seq2,GL476404,117,9e-33,329,441\n",
        "...looked through 1440000 hits\n",
        "comp641400_c0_seq11,GL485536,347,5e-109,25,362\n",
        "...looked through 1450000 hits\n",
        "comp641466_c0_seq2,GL486002,155,1e-53,602,756\n",
        "...looked through 1460000 hits\n",
        "comp641559_c3_seq6,GL482006,83,4e-19,15,97\n",
        "...looked through 1470000 hits\n",
        "comp641690_c5_seq5,GL481538,96,1e-17,2830,2924\n",
        "...looked through 1480000 hits\n",
        "comp641790_c2_seq23,GL476358,163,4e-79,3410,3572\n",
        "...looked through 1490000 hits\n",
        "comp641945_c3_seq14,GL484319,196,8e-55,6,197\n",
        "...looked through 1500000 hits\n",
        "comp642055_c0_seq4,GL476842,58,2e-17,857,913\n",
        "...looked through 1510000 hits\n",
        "comp642160_c1_seq3,GL477138,43,2e-09,931,973\n",
        "...looked through 1520000 hits"
       ]
      },
      {
       "output_type": "stream",
       "stream": "stdout",
       "text": [
        "\n",
        "comp642183_c0_seq4,GL476869,177,3e-17,100,268\n",
        "...looked through 1530000 hits\n",
        "comp642234_c7_seq2,GL482698,68,3e-14,1250,1317\n",
        "...looked through 1540000 hits\n",
        "comp642273_c1_seq4,GL482042,77,8e-24,532,608\n",
        "...looked through 1550000 hits\n",
        "comp642328_c2_seq2,GL489932,71,2e-27,1,71\n",
        "...looked through 1560000 hits\n",
        "comp642441_c6_seq6,GL479261,41,8e-09,537,577\n",
        "...looked through 1570000 hits\n",
        "comp642494_c4_seq3,GL479539,39,1e-07,380,418\n",
        "...looked through 1580000 hits\n",
        "comp642611_c3_seq14,GL501251,63,8e-16,94,156\n",
        "...looked through 1590000 hits\n",
        "comp642712_c4_seq5,GL484623,41,1e-11,1799,1839\n",
        "...looked through 1600000 hits\n",
        "comp642819_c0_seq3,GL476595,202,2e-45,84,283\n",
        "...looked through 1610000 hits\n",
        "comp642936_c0_seq2,GL492541,120,5e-20,1,120\n",
        "...looked through"
       ]
      },
      {
       "output_type": "stream",
       "stream": "stdout",
       "text": [
        " 1620000 hits\n",
        "comp643028_c1_seq5,GL487383,134,7e-25,572,705\n",
        "...looked through 1630000 hits\n",
        "comp643134_c1_seq3,GL477448,39,6e-06,685,723\n",
        "...looked through 1640000 hits\n",
        "comp643178_c0_seq6,GL480070,109,4e-37,1409,1516\n",
        "...looked through 1650000 hits\n",
        "comp643314_c0_seq4,GL476395,63,1e-24,1,63\n",
        "...looked through 1660000 hits\n",
        "comp643432_c3_seq16,GL482122,85,6e-36,2146,2230\n",
        "...looked through 1670000 hits\n",
        "comp643583_c3_seq1,GL477279,40,1e-07,200,239\n",
        "...looked through 1680000 hits\n",
        "comp643665_c8_seq10,GL477330,47,8e-12,213,258\n",
        "...looked through 1690000 hits\n",
        "comp643696_c2_seq1,GL482175,128,4e-40,63,190\n",
        "...looked through 1700000 hits\n",
        "comp643826_c1_seq8,GL480469,188,1e-71,1757,1944\n",
        "...looked through 1710000 hits\n",
        "comp643908_c9_seq1,GL477799,82,7e-32,1,82\n",
        "...looked through"
       ]
      },
      {
       "output_type": "stream",
       "stream": "stdout",
       "text": [
        " 1720000 hits\n",
        "comp644067_c1_seq2,GL477503,69,4e-21,1,69\n",
        "...looked through 1730000 hits\n",
        "comp644119_c1_seq6,GL476367,138,1e-42,145,282\n",
        "...looked through 1740000 hits\n",
        "comp644226_c1_seq1,GL476540,61,6e-14,485,544\n",
        "...looked through 1750000 hits\n",
        "comp644346_c0_seq5,GL476755,165,7e-48,161,325\n",
        "...looked through 1760000 hits\n",
        "comp644418_c3_seq2,GL476488,61,6e-18,22,82\n",
        "...looked through 1770000 hits\n",
        "comp644534_c4_seq1,GL476823,47,5e-12,808,854\n",
        "...looked through 1780000 hits\n",
        "comp644579_c6_seq3,GL479301,154,3e-39,392,545\n",
        "...looked through 1790000 hits\n",
        "comp644684_c12_seq20,GL477328,167,2e-79,389,555\n",
        "...looked through 1800000 hits\n",
        "comp644772_c0_seq32,GL495536,34,8e-06,135,168\n",
        "...looked through 1810000 hits\n",
        "comp644864_c2_seq5,GL484233,268,2e-51,1,266\n",
        "...looked through"
       ]
      },
      {
       "output_type": "stream",
       "stream": "stdout",
       "text": [
        " 1820000 hits\n",
        "comp644924_c2_seq4,GL482263,67,1e-14,345,411\n",
        "...looked through 1830000 hits\n",
        "comp644972_c0_seq3,GL476721,103,4e-21,72,169\n",
        "...looked through 1840000 hits\n",
        "comp645046_c2_seq2,GL482046,95,2e-38,1079,1173\n",
        "...looked through 1850000 hits\n",
        "comp645065_c6_seq5,GL476341,171,3e-29,162,315\n",
        "...looked through 1860000 hits\n",
        "comp645163_c1_seq4,GL477804,86,2e-22,1118,1203\n",
        "...looked through 1870000 hits\n",
        "comp645258_c1_seq12,GL476588,181,2e-63,239,419\n",
        "...looked through 1880000 hits\n",
        "comp645353_c0_seq19,GL476685,37,7e-10,3,39\n",
        "...looked through 1890000 hits\n",
        "comp645461_c0_seq3,GL479932,71,4e-28,2128,2198\n",
        "...looked through 1900000 hits\n",
        "comp645563_c1_seq2,GL479514,86,7e-19,391,476\n",
        "...looked through"
       ]
      },
      {
       "output_type": "stream",
       "stream": "stdout",
       "text": [
        " 1910000 hits\n",
        "comp645646_c1_seq47,GL476331,110,4e-50,565,674\n",
        "...looked through 1920000 hits\n",
        "comp645725_c5_seq1,GL478774,119,2e-53,248,365\n",
        "...looked through 1930000 hits\n",
        "comp645832_c1_seq3,GL476399,630,0.0,1,628\n",
        "...looked through 1940000 hits\n",
        "comp645902_c6_seq2,GL478988,36,1e-07,549,584\n",
        "...looked through 1950000 hits\n",
        "comp645951_c2_seq3,GL477031,63,6e-13,90,149\n",
        "...looked through 1960000 hits\n",
        "comp646024_c3_seq18,GL476343,190,9e-31,178,363\n",
        "...looked through 1970000 hits\n",
        "comp646119_c4_seq7,GL476461,904,0.0,1631,2534\n",
        "...looked through 1980000 hits\n",
        "comp646129_c0_seq23,GL477033,657,0.0,44,681\n",
        "...looked through 1990000 hits\n",
        "comp646260_c1_seq11,GL476905,139,1e-27,535,673\n",
        "...looked through"
       ]
      },
      {
       "output_type": "stream",
       "stream": "stdout",
       "text": [
        " 2000000 hits\n",
        "comp646293_c0_seq51,GL477397,98,1e-24,1,98\n",
        "...looked through 2010000 hits\n",
        "comp646377_c2_seq1,GL479631,128,8e-27,20,146\n",
        "...looked through 2020000 hits\n",
        "comp646471_c2_seq8,GL492834,163,2e-31,327,488\n",
        "...looked through 2030000 hits\n",
        "comp646566_c7_seq11,GL476875,58,3e-14,14,69\n",
        "...looked through 2040000 hits\n",
        "comp646655_c2_seq17,GL477647,154,4e-74,1599,1752\n",
        "...looked through 2050000 hits\n",
        "comp646747_c0_seq7,GL490407,151,5e-42,2,149\n",
        "...looked through 2060000 hits\n",
        "comp646850_c1_seq3,GL476710,72,2e-13,13,82\n",
        "...looked through 2070000 hits\n",
        "comp646949_c2_seq4,GL477397,198,1e-42,422,617\n",
        "...looked through 2080000 hits\n",
        "comp647013_c0_seq11,GL476422,90,3e-23,2187,2275\n",
        "...looked through 2090000 hits\n",
        "comp647086_c3_seq1,GL477145,64,1e-14,254,317\n",
        "...looked through"
       ]
      },
      {
       "output_type": "stream",
       "stream": "stdout",
       "text": [
        " 2100000 hits\n",
        "comp647180_c3_seq5,GL476514,56,7e-13,217,272\n",
        "...looked through 2110000 hits\n",
        "comp647267_c1_seq15,GL479323,54,9e-18,436,489\n",
        "...looked through 2120000 hits\n",
        "comp647349_c0_seq1,GL481236,302,2e-75,234,531\n",
        "...looked through 2130000 hits\n",
        "comp647408_c1_seq4,GL501202,72,2e-17,1265,1336\n",
        "...looked through 2140000 hits\n",
        "comp647495_c1_seq9,GL479351,130,3e-61,642,771\n",
        "...looked through 2150000 hits\n",
        "comp647565_c4_seq13,GL480844,248,7e-101,1,242\n",
        "...looked through 2160000 hits\n",
        "comp647648_c2_seq2,GL476470,59,3e-08,1368,1426\n",
        "...looked through 2170000 hits\n",
        "comp647684_c2_seq4,GL481279,30,6e-06,623,652\n",
        "...looked through 2180000 hits\n",
        "comp647758_c1_seq1,GL477041,142,2e-28,1122,1262\n",
        "...looked through 2190000 hits\n",
        "comp647868_c2_seq5,GL478536,157,2e-74,299,455\n",
        "...looked through"
       ]
      },
      {
       "output_type": "stream",
       "stream": "stdout",
       "text": [
        " 2200000 hits\n",
        "comp647960_c0_seq6,GL476858,195,3e-26,151,342\n",
        "...looked through 2210000 hits\n",
        "comp648008_c4_seq4,GL480211,83,5e-27,3,85\n",
        "...looked through 2220000 hits\n",
        "comp648090_c0_seq3,GL479621,169,6e-81,2171,2339\n",
        "...looked through 2230000 hits\n",
        "comp648149_c1_seq3,GL481329,134,7e-37,131,259\n",
        "...looked through 2240000 hits\n",
        "comp648149_c3_seq12,GL476359,117,5e-37,230,345\n",
        "...looked through 2250000 hits\n",
        "comp648228_c1_seq9,GL476511,44,3e-12,1,44\n",
        "...looked through 2260000 hits\n",
        "comp648284_c2_seq3,GL483427,56,6e-08,146,200\n",
        "...looked through 2270000 hits\n",
        "comp648322_c1_seq3,GL476399,45,1e-10,324,368\n",
        "...looked through 2280000 hits\n",
        "comp648421_c0_seq5,GL490376,411,1e-55,9,388\n",
        "...looked through 2290000 hits\n",
        "comp648502_c1_seq14,GL476906,77,2e-31,557,633\n",
        "...looked through"
       ]
      },
      {
       "output_type": "stream",
       "stream": "stdout",
       "text": [
        " 2300000 hits\n",
        "comp648554_c0_seq14,GL480844,122,2e-48,1113,1234\n",
        "...looked through 2310000 hits\n",
        "comp648623_c0_seq1,GL476892,80,3e-20,90,169\n",
        "...looked through 2320000 hits\n",
        "comp648678_c2_seq2,GL476500,316,2e-59,26,331\n",
        "...looked through 2330000 hits\n",
        "comp648728_c4_seq8,GL477514,350,3e-36,686,1015\n",
        "...looked through 2340000 hits\n",
        "comp648766_c1_seq1,GL476460,38,8e-09,1,38\n",
        "...looked through 2350000 hits\n",
        "comp648861_c9_seq8,GL476374,47,2e-08,550,596\n",
        "...looked through 2360000 hits\n",
        "comp648939_c0_seq1,GL476364,42,1e-07,1,42\n",
        "...looked through"
       ]
      },
      {
       "output_type": "stream",
       "stream": "stdout",
       "text": [
        " 2370000 hits\n",
        "comp649022_c5_seq1,GL476582,63,9e-17,1380,1441\n",
        "...looked through 2380000 hits\n",
        "comp649075_c0_seq1,GL485709,53,2e-06,80,130\n",
        "...looked through 2390000 hits\n",
        "comp649138_c1_seq4,GL498176,70,3e-11,147,215\n",
        "...looked through 2400000 hits\n",
        "comp649212_c2_seq34,GL476448,1165,0.0,1,1165\n",
        "...looked through 2410000 hits\n",
        "comp649248_c2_seq2,GL487586,33,1e-07,452,484\n",
        "...looked through 2420000 hits\n",
        "comp649297_c1_seq25,GL476401,143,3e-32,4,142\n",
        "...looked through 2430000 hits\n",
        "comp649375_c2_seq2,GL477040,50,2e-06,375,422\n",
        "...looked through 2440000 hits\n",
        "comp649448_c2_seq4,GL484033,161,7e-79,1,161\n",
        "...looked through"
       ]
      },
      {
       "output_type": "stream",
       "stream": "stdout",
       "text": [
        " 2450000 hits\n",
        "comp649528_c1_seq3,GL480446,199,2e-59,444,642\n",
        "...looked through 2460000 hits\n",
        "comp649560_c3_seq2,GL482569,186,2e-22,8,188\n",
        "...looked through 2470000 hits\n",
        "comp649606_c5_seq17,GL483547,96,1e-15,1031,1122\n",
        "...looked through 2480000 hits\n",
        "comp649659_c1_seq5,GL476409,77,5e-18,119,195\n",
        "...looked through 2490000 hits\n",
        "comp649740_c2_seq5,GL478375,173,1e-84,1756,1928\n",
        "...looked through 2500000 hits\n",
        "comp649823_c4_seq9,GL477274,91,1e-19,44,133\n",
        "...looked through 2510000 hits\n",
        "comp649887_c0_seq7,GL479429,264,1e-135,880,1143\n",
        "...looked through 2520000 hits\n",
        "comp649967_c0_seq15,GL476931,61,7e-11,1,55\n",
        "...looked through 2530000 hits\n",
        "comp649986_c0_seq30,GL480987,56,6e-20,18,73\n",
        "...looked through"
       ]
      },
      {
       "output_type": "stream",
       "stream": "stdout",
       "text": [
        " 2540000 hits\n",
        "comp650023_c1_seq33,GL476333,37,8e-08,1,37\n",
        "...looked through 2550000 hits\n",
        "comp650117_c0_seq16,GL480310,93,3e-26,581,671\n",
        "...looked through 2560000 hits\n",
        "comp650186_c1_seq6,GL478353,163,1e-76,64,226\n",
        "...looked through 2570000 hits\n",
        "comp650288_c6_seq4,GL476592,114,3e-22,1434,1547\n",
        "...looked through 2580000 hits\n",
        "comp650370_c3_seq3,GL490344,121,3e-23,2092,2202\n",
        "...looked through 2590000 hits\n",
        "comp650402_c0_seq17,GL476534,628,6e-160,16,632\n",
        "...looked through 2600000 hits\n",
        "comp650488_c0_seq20,GL478852,94,3e-35,2485,2577\n",
        "...looked through 2610000 hits\n",
        "comp650556_c2_seq13,GL481046,63,3e-12,593,655\n",
        "...looked through 2620000 hits\n",
        "comp650607_c1_seq11,GL476636,195,4e-59,150,340\n",
        "...looked through"
       ]
      },
      {
       "output_type": "stream",
       "stream": "stdout",
       "text": [
        " 2630000 hits\n",
        "comp650668_c0_seq26,GL477332,135,3e-26,1784,1917\n",
        "...looked through 2640000 hits\n",
        "comp650712_c2_seq21,GL477555,131,6e-40,1113,1243\n",
        "...looked through 2650000 hits\n",
        "comp650786_c1_seq9,GL480176,188,1e-93,556,743\n",
        "...looked through 2660000 hits\n",
        "comp650856_c3_seq9,GL477154,132,3e-62,567,698\n",
        "...looked through 2670000 hits\n",
        "comp650888_c0_seq47,GL478636,138,2e-65,1792,1929\n",
        "...looked through 2680000 hits\n",
        "comp650977_c2_seq1,GL479735,43,2e-09,528,570\n",
        "...looked through 2690000 hits\n",
        "comp651040_c0_seq2,GL476358,53,1e-06,1445,1497\n",
        "...looked through 2700000 hits\n",
        "comp651097_c0_seq5,GL477076,102,6e-41,381,482\n",
        "...looked through 2710000 hits\n",
        "comp651144_c0_seq4,GL479197,76,5e-16,440,515\n",
        "...looked through"
       ]
      },
      {
       "output_type": "stream",
       "stream": "stdout",
       "text": [
        " 2720000 hits\n",
        "comp651210_c1_seq12,GL486678,182,2e-57,207,388\n",
        "...looked through 2730000 hits\n",
        "comp651235_c6_seq7,GL480088,85,5e-29,1297,1381\n",
        "...looked through 2740000 hits\n",
        "comp651257_c4_seq1,GL477222,37,4e-06,1,37\n",
        "...looked through 2750000 hits\n",
        "comp651280_c2_seq4,GL484701,197,8e-94,258,454\n",
        "...looked through 2760000 hits\n",
        "comp651349_c0_seq5,GL476399,48,3e-14,300,347\n",
        "...looked through 2770000 hits\n",
        "comp651404_c0_seq5,GL480148,154,4e-31,353,504\n",
        "...looked through"
       ]
      },
      {
       "output_type": "stream",
       "stream": "stdout",
       "text": [
        " 2780000 hits\n",
        "comp651465_c1_seq1,GL476732,838,0.0,16,849\n",
        "...looked through 2790000 hits\n",
        "comp651492_c6_seq3,GL479053,73,3e-19,59,130\n",
        "...looked through 2800000 hits\n",
        "comp651541_c3_seq11,GL486553,186,2e-47,185,362\n",
        "...looked through 2810000 hits\n",
        "comp651607_c5_seq3,GL489130,75,8e-19,4,78\n",
        "...looked through 2820000 hits\n",
        "comp651703_c7_seq15,GL488420,341,8e-61,26,353\n",
        "...looked through 2830000 hits\n",
        "comp651723_c3_seq12,GL477154,261,4e-106,154,414\n",
        "...looked through 2840000 hits\n",
        "comp651734_c0_seq23,GL478852,220,1e-27,433,633\n",
        "...looked through"
       ]
      },
      {
       "output_type": "stream",
       "stream": "stdout",
       "text": [
        " 2850000 hits\n",
        "comp651774_c0_seq20,GL476418,81,6e-32,18,98\n",
        "...looked through 2860000 hits\n",
        "comp651822_c0_seq13,GL479474,61,3e-11,677,737\n",
        "...looked through 2870000 hits\n",
        "comp651884_c1_seq15,GL476737,157,1e-48,179,335\n",
        "...looked through 2880000 hits\n",
        "comp651929_c2_seq21,GL476587,55,5e-07,797,849\n",
        "...looked through 2890000 hits\n",
        "comp651981_c0_seq8,GL477167,51,2e-10,283,332\n",
        "...looked through 2900000 hits\n",
        "comp652003_c0_seq21,GL476630,1510,0.0,1,1507\n",
        "...looked through 2910000 hits\n",
        "comp652031_c2_seq6,GL476409,63,3e-14,1,60\n",
        "...looked through 2920000 hits\n",
        "comp652087_c1_seq3,GL479830,197,1e-36,333,520\n",
        "...looked through 2930000 hits\n",
        "comp652149_c5_seq5,GL481145,380,0.0,355,734\n",
        "...looked through"
       ]
      },
      {
       "output_type": "stream",
       "stream": "stdout",
       "text": [
        " 2940000 hits\n",
        "comp652196_c0_seq2,GL483149,55,6e-13,1,55\n",
        "...looked through 2950000 hits\n",
        "comp652250_c4_seq4,GL476872,30,2e-06,287,316\n",
        "...looked through 2960000 hits\n",
        "comp652310_c4_seq7,GL476533,53,4e-09,3,55\n",
        "...looked through 2970000 hits\n",
        "comp652354_c0_seq7,GL476448,58,2e-18,2,59\n",
        "...looked through 2980000 hits\n",
        "comp652402_c5_seq9,GL476350,106,9e-48,333,438\n",
        "...looked through 2990000 hits\n",
        "comp652452_c4_seq7,GL478417,159,3e-45,21,179\n",
        "...looked through 3000000 hits\n",
        "comp652531_c3_seq15,GL481799,188,2e-47,635,820\n",
        "...looked through 3010000 hits\n",
        "comp652600_c4_seq4,GL478133,645,0.0,16,660\n",
        "...looked through 3020000 hits\n",
        "comp652617_c0_seq19,GL478928,65,6e-25,1274,1338\n",
        "...looked through"
       ]
      },
      {
       "output_type": "stream",
       "stream": "stdout",
       "text": [
        " 3030000 hits\n",
        "comp652674_c0_seq56,GL477662,516,0.0,1139,1654\n",
        "...looked through 3040000 hits\n",
        "comp652724_c0_seq17,GL491854,58,2e-07,931,987\n",
        "...looked through 3050000 hits\n",
        "comp652726_c2_seq18,GL480979,68,2e-14,185,252\n",
        "...looked through 3060000 hits\n",
        "comp652778_c1_seq11,GL477625,434,0.0,110,543\n",
        "...looked through 3070000 hits\n",
        "comp652781_c0_seq2,GL476656,143,2e-56,633,774\n",
        "...looked through 3080000 hits\n",
        "comp652781_c0_seq4,GL476571,1072,0.0,332,1390\n",
        "...looked through 3090000 hits\n",
        "comp652781_c0_seq6,GL476369,124,4e-47,332,455\n",
        "...looked through 3100000 hits\n",
        "comp652781_c0_seq9,GL476371,1020,0.0,574,1592\n",
        "...looked through 3110000 hits\n",
        "comp652803_c0_seq44,GL476935,163,3e-79,2211,2373\n",
        "...looked through"
       ]
      },
      {
       "output_type": "stream",
       "stream": "stdout",
       "text": [
        " 3120000 hits\n",
        "comp652858_c0_seq14,GL477898,128,6e-36,690,817\n",
        "...looked through 3130000 hits\n",
        "comp652918_c0_seq1,GL476479,112,4e-51,670,781\n",
        "...looked through 3140000 hits\n",
        "comp652971_c3_seq2,GL485525,31,7e-06,2989,3019\n",
        "...looked through 3150000 hits\n",
        "comp653063_c1_seq1,GL476399,101,1e-10,316,415\n",
        "...looked through 3160000 hits\n",
        "comp653115_c4_seq2,GL476359,37,4e-10,274,310\n",
        "...looked through 3170000 hits\n",
        "comp653115_c4_seq14,GL476436,69,1e-25,1570,1638\n",
        "...looked through 3180000 hits\n",
        "comp653135_c3_seq5,GL476839,84,3e-20,461,543\n",
        "...looked through 3190000 hits\n",
        "comp653177_c2_seq1,GL479209,120,3e-39,398,515\n",
        "...looked through 3200000 hits\n",
        "comp653225_c0_seq1,GL477577,147,3e-71,43,189\n",
        "...looked through 3210000 hits\n",
        "comp653259_c4_seq8,GL478342,43,2e-07,91,132\n",
        "...looked through"
       ]
      },
      {
       "output_type": "stream",
       "stream": "stdout",
       "text": [
        " 3220000 hits\n",
        "comp653312_c0_seq31,GL479728,188,3e-91,455,641\n",
        "...looked through 3230000 hits\n",
        "comp653346_c3_seq17,GL481763,38,1e-08,829,866\n",
        "...looked through 3240000 hits\n",
        "comp653385_c1_seq2,GL476500,57,6e-11,156,212\n",
        "...looked through 3250000 hits\n",
        "comp653407_c2_seq6,GL477436,43,3e-13,539,581\n",
        "...looked through 3260000 hits\n",
        "comp653419_c3_seq3,GL478588,374,6e-123,29,402\n",
        "...looked through 3270000 hits\n",
        "comp653450_c1_seq4,GL476962,36,3e-07,449,484\n",
        "...looked through 3280000 hits\n",
        "comp653475_c2_seq5,GL476601,166,3e-78,4555,4719\n",
        "...looked through 3290000 hits\n",
        "comp653531_c0_seq1,GL476498,36,5e-08,177,212\n",
        "...looked through 3300000 hits\n",
        "comp653565_c1_seq3,GL476857,79,3e-17,202,280\n",
        "...looked through 3310000 hits\n",
        "comp653604_c0_seq4,GL476595,266,4e-118,122,387\n",
        "...looked through"
       ]
      },
      {
       "output_type": "stream",
       "stream": "stdout",
       "text": [
        " 3320000 hits\n",
        "comp653617_c2_seq8,GL476436,86,4e-16,2,85\n",
        "...looked through 3330000 hits\n",
        "comp653646_c4_seq8,GL476331,93,4e-26,207,299\n",
        "...looked through 3340000 hits\n",
        "comp653664_c3_seq15,GL476367,139,3e-46,1,137\n",
        "...looked through 3350000 hits\n",
        "comp653701_c0_seq10,GL480291,257,2e-53,84,336\n",
        "...looked through 3360000 hits\n",
        "comp653739_c0_seq8,GL496851,107,7e-40,315,420\n",
        "...looked through 3370000 hits\n",
        "comp653754_c2_seq12,GL476716,151,2e-72,4177,4327\n",
        "...looked through 3380000 hits\n",
        "comp653818_c1_seq1,GL479690,77,2e-29,4551,4627\n",
        "...looked through 3390000 hits\n",
        "comp653823_c1_seq24,GL476528,171,5e-64,199,368\n",
        "...looked through 3400000 hits\n",
        "comp653839_c1_seq1,GL478120,135,4e-49,155,288\n",
        "...looked through"
       ]
      },
      {
       "output_type": "stream",
       "stream": "stdout",
       "text": [
        " 3410000 hits\n",
        "comp653860_c1_seq8,GL480239,354,5e-103,1,348\n",
        "...looked through 3420000 hits\n",
        "comp653874_c1_seq3,GL476405,153,2e-66,1911,2063\n",
        "...looked through 3430000 hits\n",
        "comp653874_c1_seq5,GL478762,349,3e-163,413,761\n",
        "...looked through 3440000 hits\n",
        "comp653898_c0_seq3,GL487157,61,2e-16,888,948\n",
        "...looked through 3450000 hits\n",
        "comp653898_c0_seq4,GL486139,320,3e-75,905,1219\n",
        "...looked through 3460000 hits\n",
        "comp653913_c0_seq1,GL478915,506,4e-85,3,503\n",
        "...looked through 3470000 hits\n",
        "comp653924_c0_seq7,GL485777,454,0.0,4,452\n",
        "...looked through 3480000 hits\n",
        "comp653939_c1_seq2,GL477169,101,1e-18,2743,2840\n",
        "...looked through 3490000 hits\n",
        "comp653952_c1_seq8,GL494413,97,2e-33,1,97\n",
        "...looked through"
       ]
      },
      {
       "output_type": "stream",
       "stream": "stdout",
       "text": [
        " 3500000 hits\n",
        "comp653955_c1_seq8,GL480016,694,0.0,1,694\n",
        "...looked through 3510000 hits\n",
        "comp653965_c0_seq1,GL476605,282,5e-59,89,367\n",
        "...looked through 3520000 hits\n",
        "comp654007_c0_seq1,GL476598,90,8e-13,1114,1195\n",
        "...looked through 3530000 hits\n",
        "comp654072_c0_seq1,GL480137,314,1e-148,57,369\n",
        "...looked through 3540000 hits\n",
        "comp654386_c0_seq1,GL476362,280,2e-88,3,280\n",
        "...looked through 3550000 hits\n",
        "comp704590_c0_seq1,GL476816,336,8e-171,12,346\n",
        "...looked through 3560000 hits\n",
        "comp1682069_c0_seq1,GL477308,578,0.0,1,578\n",
        "...looked through 3570000 hits\n",
        "comp2798217_c0_seq1,GL476376,419,0.0,1,419\n",
        "...looked through 3580000 hits\n",
        "comp4773415_c0_seq1,GL478201,237,1e-119,11,247\n",
        "...done filtering, 3062814 hits remaining"
       ]
      },
      {
       "output_type": "stream",
       "stream": "stdout",
       "text": [
        "\n",
        "sorting hits by query...\n",
        "sorted 3062814 hits"
       ]
      },
      {
       "output_type": "stream",
       "stream": "stdout",
       "text": [
        "\n",
        "partitioning hits by query...\n",
        "...done!"
       ]
      },
      {
       "output_type": "stream",
       "stream": "stdout",
       "text": [
        "\n",
        "188815 queries over 3062814 hits\n",
        "Running through aggregated queries...\n",
        "Processed 0 query groups...\n",
        "Processed 10000 query groups..."
       ]
      },
      {
       "output_type": "stream",
       "stream": "stdout",
       "text": [
        "\n",
        "Processed 20000 query groups..."
       ]
      },
      {
       "output_type": "stream",
       "stream": "stdout",
       "text": [
        "\n",
        "Processed 30000 query groups..."
       ]
      },
      {
       "output_type": "stream",
       "stream": "stdout",
       "text": [
        "\n",
        "Processed 40000 query groups..."
       ]
      },
      {
       "output_type": "stream",
       "stream": "stdout",
       "text": [
        "\n",
        "Processed 50000 query groups..."
       ]
      },
      {
       "output_type": "stream",
       "stream": "stdout",
       "text": [
        "\n",
        "Processed 60000 query groups..."
       ]
      },
      {
       "output_type": "stream",
       "stream": "stdout",
       "text": [
        "\n",
        "Processed 70000 query groups..."
       ]
      },
      {
       "output_type": "stream",
       "stream": "stdout",
       "text": [
        "\n",
        "Processed 80000 query groups..."
       ]
      },
      {
       "output_type": "stream",
       "stream": "stdout",
       "text": [
        "\n",
        "Processed 90000 query groups..."
       ]
      },
      {
       "output_type": "stream",
       "stream": "stdout",
       "text": [
        "\n",
        "Processed 100000 query groups..."
       ]
      },
      {
       "output_type": "stream",
       "stream": "stdout",
       "text": [
        "\n",
        "Processed 110000 query groups..."
       ]
      },
      {
       "output_type": "stream",
       "stream": "stdout",
       "text": [
        "\n",
        "Processed 120000 query groups..."
       ]
      },
      {
       "output_type": "stream",
       "stream": "stdout",
       "text": [
        "\n",
        "Processed 130000 query groups..."
       ]
      },
      {
       "output_type": "stream",
       "stream": "stdout",
       "text": [
        "\n",
        "Processed 140000 query groups..."
       ]
      },
      {
       "output_type": "stream",
       "stream": "stdout",
       "text": [
        "\n",
        "Processed 150000 query groups..."
       ]
      },
      {
       "output_type": "stream",
       "stream": "stdout",
       "text": [
        "\n",
        "Processed 160000 query groups..."
       ]
      },
      {
       "output_type": "stream",
       "stream": "stdout",
       "text": [
        "\n",
        "Processed 170000 query groups..."
       ]
      },
      {
       "output_type": "stream",
       "stream": "stdout",
       "text": [
        "\n",
        "Processed 180000 query groups..."
       ]
      },
      {
       "output_type": "stream",
       "stream": "stdout",
       "text": [
        "\n",
        "Cluster size reduced to 0.35665052646 on average\n"
       ]
      },
      {
       "output_type": "stream",
       "stream": "stdout",
       "text": [
        "\n",
        "Number of clusters:  56806\n",
        "...comprising 127204 contigs\n",
        "### Writing output to scaffold/lamp3.scaffold.test ###\n",
        "Done!"
       ]
      },
      {
       "output_type": "stream",
       "stream": "stdout",
       "text": [
        "\n"
       ]
      }
     ],
     "prompt_number": 4
    },
    {
     "cell_type": "code",
     "collapsed": false,
     "input": [
      "def clusterBySubject(clusters):\n",
      "    "
     ],
     "language": "python",
     "metadata": {},
     "outputs": []
    },
    {
     "cell_type": "code",
     "collapsed": false,
     "input": [
      "import matplotlib.pyplot as plt\n",
      "\n",
      "scaf_graph = nx.DiGraph()\n",
      "clusters.sort(key=lambda c: c[0].subject)\n",
      "traverse_limit = 2000\n",
      "edge_labels = {}\n",
      "for i in range(0,traverse_limit):\n",
      "    c = clusters[i]\n",
      "    #print c\n",
      "    \n",
      "    scaf_graph.add_node(c[0].subject)\n",
      "    for j in range(1,len(c)):\n",
      "        scaf_graph.add_edge(c[j-1].subject, c[j].subject, label=c[j].query)\n",
      "        edge_labels[(c[j-1].subject, c[j].subject)] = c[j].query\n",
      "\n",
      "print \"Pruning graph...\"\n",
      "num_pruned=0\n",
      "for n in scaf_graph.nodes():\n",
      "    if scaf_graph.out_degree(n) == 0 and scaf_graph.in_degree(n) == 1:\n",
      "        scaf_graph.remove_node(n)\n",
      "        #print \"removed node\", n\n",
      "        num_pruned += 1\n",
      "print \"...pruned\", num_pruned, \"nodes\"\n",
      "\n",
      "spos=nx.spring_layout(scaf_graph,scale=2)\n",
      "plt.figure(figsize=(20,20))        \n",
      "nx.draw(scaf_graph, pop=spos, width=1)\n",
      "#nx.draw_networkx_edge_labels(scaf_graph, pos=spos, edge_labels=edge_labels)\n",
      "\n",
      "nx.write_dot(scaf_graph, 'scaf_graph.dot')"
     ],
     "language": "python",
     "metadata": {},
     "outputs": []
    },
    {
     "cell_type": "code",
     "collapsed": false,
     "input": [
      "nx.simple_cycles(scaf_graph)\n",
      "print \"iterating through components...\"\n",
      "for comp in nx.weakly_connected_component_subgraphs(scaf_graph):\n",
      "    print nx.simple_cycles(comp)\n",
      "    print nx.is_directed_acyclic_graph(comp)\n",
      "#scaf_graph_reduced = nx.minimum_spanning_tree(scaf_graph)\n",
      "#nx.draw_spring(scaf_graph_reduced, width=1)"
     ],
     "language": "python",
     "metadata": {},
     "outputs": [
      {
       "output_type": "stream",
       "stream": "stdout",
       "text": [
        "iterating through components...\n",
        "[['GL476360', 'GL476339', 'GL476335', 'GL476336', 'GL476343', 'GL476377', 'GL476333', 'GL476334', 'GL476328', 'GL476329', 'GL476332', 'GL476340', 'GL476360'], ['GL476360', 'GL476339', 'GL476335', 'GL476336', 'GL476343', 'GL476377', 'GL476333', 'GL476334', 'GL476328', 'GL476332', 'GL476340', 'GL476360'], ['GL476360', 'GL476339', 'GL476335', 'GL476336', 'GL476343', 'GL479271', 'GL476347', 'GL476349', 'GL476344', 'GL476377', 'GL476333', 'GL476334', 'GL476328', 'GL476329', 'GL476332', 'GL476340', 'GL476360'], ['GL476360', 'GL476339', 'GL476335', 'GL476336', 'GL476343', 'GL479271', 'GL476347', 'GL476349', 'GL476344', 'GL476377', 'GL476333', 'GL476334', 'GL476328', 'GL476332', 'GL476340', 'GL476360'], ['GL476334', 'GL476328', 'GL476329', 'GL476335', 'GL476336', 'GL476343', 'GL476377', 'GL476333', 'GL476334'], ['GL476334', 'GL476328', 'GL476329', 'GL476335', 'GL476336', 'GL476343', 'GL479271', 'GL476347', 'GL476349', 'GL476344', 'GL476377', 'GL476333', 'GL476334'], ['GL476334', 'GL476328', 'GL476329', 'GL476332', 'GL476335', 'GL476336', 'GL476343', 'GL476377', 'GL476333', 'GL476334'], ['GL476334', 'GL476328', 'GL476329', 'GL476332', 'GL476335', 'GL476336', 'GL476343', 'GL479271', 'GL476347', 'GL476349', 'GL476344', 'GL476377', 'GL476333', 'GL476334'], ['GL476334', 'GL476328', 'GL476329', 'GL476332', 'GL476340', 'GL476343', 'GL476377', 'GL476333', 'GL476334'], ['GL476334', 'GL476328', 'GL476329', 'GL476332', 'GL476340', 'GL476343', 'GL479271', 'GL476347', 'GL476349', 'GL476344', 'GL476377', 'GL476333', 'GL476334'], ['GL476334', 'GL476328', 'GL476329', 'GL476332', 'GL476340', 'GL476353', 'GL476334'], ['GL476334', 'GL476328', 'GL476329', 'GL476377', 'GL476333', 'GL476334'], ['GL476334', 'GL476328', 'GL476332', 'GL476335', 'GL476336', 'GL476343', 'GL476377', 'GL476333', 'GL476334'], ['GL476334', 'GL476328', 'GL476332', 'GL476335', 'GL476336', 'GL476343', 'GL479271', 'GL476347', 'GL476349', 'GL476344', 'GL476377', 'GL476333', 'GL476334'], ['GL476334', 'GL476328', 'GL476332', 'GL476340', 'GL476343', 'GL476377', 'GL476333', 'GL476334'], ['GL476334', 'GL476328', 'GL476332', 'GL476340', 'GL476343', 'GL479271', 'GL476347', 'GL476349', 'GL476344', 'GL476377', 'GL476333', 'GL476334'], ['GL476334', 'GL476328', 'GL476332', 'GL476340', 'GL476353', 'GL476334'], ['GL476335', 'GL476336', 'GL476335'], ['GL476333', 'GL476343', 'GL476377', 'GL476333'], ['GL476333', 'GL476343', 'GL479271', 'GL476347', 'GL476349', 'GL476344', 'GL476377', 'GL476333']]"
       ]
      },
      {
       "output_type": "stream",
       "stream": "stdout",
       "text": [
        "\n",
        "False\n"
       ]
      }
     ],
     "prompt_number": 6
    },
    {
     "cell_type": "code",
     "collapsed": false,
     "input": [
      "!ls"
     ],
     "language": "python",
     "metadata": {},
     "outputs": [
      {
       "output_type": "stream",
       "stream": "stdout",
       "text": [
        "cleaning_1  data\t\t\t\t lamprey.bib\t\t     mRNA Scaffolder.ipynb\t\t\t      petMar2.fa.masked.nsq   scripts\r\n",
        "cleaning_2  db\t\t\t\t\t Lamprey mRNAseq 2013.ipynb  ngs-5x-kmer-abundance-distributions-2013.ipynb   petMar2.fa.masked.ntm   seqcl_lamp3.fasta.dedupe.fa.log\r\n",
        "cleaning_3  err_seqcl_lamp3.fasta.dedupe.fa.log  lamprey.tex\t\t     ngs-5x-kmer-abundance-distributions-2013.ipynb~  petMar_mrna_parts.hist  Untitled0.ipynb\r\n",
        "cleaning_4  formatdb.log\t\t\t lamprey.tex~\t\t     outparts_cln.sort\t\t\t\t      plos2009.bst\r\n",
        "cleaning_5  lamp3.fasta.dedupe.fa.cidx\t\t make_links.sh\t\t     petMar2.fa.masked.nhr\t\t\t      scaffold\r\n",
        "cleaning_6  lamp3.fasta.dedupe.fa.cln\t\t make_links.sh~\t\t     petMar2.fa.masked.nin\t\t\t      scaf_graph.dot\r\n"
       ]
      }
     ],
     "prompt_number": 6
    },
    {
     "cell_type": "code",
     "collapsed": false,
     "input": [
      "%run ~/tools/khmer/scripts/partition-graph.py -T 7 -s 1e7 mrna_scaffold"
     ],
     "language": "python",
     "metadata": {},
     "outputs": [
      {
       "output_type": "stream",
       "stream": "stdout",
       "text": [
        "--\n",
        "SUBSET SIZE 10000000.0\n",
        "N THREADS 7\n",
        "--\n",
        "loading ht mrna_scaffold.ht\n",
        "** Traverse all the things: stop_big_traversals is false."
       ]
      },
      {
       "output_type": "stream",
       "stream": "stdout",
       "text": [
        "\n",
        "enqueued 1 subset tasks\n",
        "starting 1 threads\n",
        "---\n",
        "done starting threads\n",
        "starting: mrna_scaffold 0\n",
        "saving:"
       ]
      },
      {
       "output_type": "stream",
       "stream": "stdout",
       "text": [
        " mrna_scaffold 0\n",
        "exiting"
       ]
      },
      {
       "output_type": "stream",
       "stream": "stdout",
       "text": [
        "\n",
        "---\n",
        "done making subsets! see mrna_scaffold.subset.*.pmap\n"
       ]
      }
     ],
     "prompt_number": 10
    },
    {
     "cell_type": "code",
     "collapsed": false,
     "input": [
      "#%run ~/tools/khmer/scripts/merge-partitions.py mrna_scaffold"
     ],
     "language": "python",
     "metadata": {},
     "outputs": []
    },
    {
     "cell_type": "code",
     "collapsed": false,
     "input": [
      "mv mrna_scaffold.subset.0.pmap mrna_scaffold.pmap.merged"
     ],
     "language": "python",
     "metadata": {},
     "outputs": [],
     "prompt_number": 2
    },
    {
     "cell_type": "code",
     "collapsed": false,
     "input": [
      "%run ~/tools/khmer/scripts/annotate-partitions.py -k 25 mrna_scaffold /w/2013-lamprey/db/petMar2.fa.masked /w/2013-lamprey/data/lamp1.fasta"
     ],
     "language": "python",
     "metadata": {},
     "outputs": [
      {
       "output_type": "stream",
       "stream": "stdout",
       "text": [
        "loading partition map from: mrna_scaffold.pmap.merged\n",
        "outputting partitions for"
       ]
      },
      {
       "output_type": "stream",
       "stream": "stdout",
       "text": [
        " /w/2013-lamprey/db/petMar2.fa.masked\n",
        "output 13 partitions for /w/2013-lamprey/db/petMar2.fa.masked"
       ]
      },
      {
       "output_type": "stream",
       "stream": "stdout",
       "text": [
        "\n",
        "partitions are in petMar2.fa.masked.part\n",
        "outputting partitions for /w/2013-lamprey/data/lamp1.fasta\n",
        "..."
       ]
      },
      {
       "output_type": "stream",
       "stream": "stdout",
       "text": [
        " output_partitions 100000 0\n",
        "..."
       ]
      },
      {
       "output_type": "stream",
       "stream": "stdout",
       "text": [
        " output_partitions 200000 0\n",
        "output 119532 partitions for /w/2013-lamprey/data/lamp1.fasta"
       ]
      },
      {
       "output_type": "stream",
       "stream": "stdout",
       "text": [
        "\n",
        "partitions are in lamp1.fasta.part\n"
       ]
      }
     ],
     "prompt_number": 3
    },
    {
     "cell_type": "code",
     "collapsed": false,
     "input": [
      "%run ~/tools/khmer/scripts/extract-partitions.py -m 1 mrna_scaffold_extract petMar2.fa.masked.part"
     ],
     "language": "python",
     "metadata": {},
     "outputs": [
      {
       "output_type": "stream",
       "stream": "stdout",
       "text": [
        "---\n",
        "reading partitioned files: ['petMar2.fa.masked.part']\n",
        "outputting to files named \"mrna_scaffold_extract.groupN.fa\"\n",
        "min reads to keep a partition: 1\n",
        "max size of a group file: 1000000\n",
        "partition size distribution will go to mrna_scaffold_extract.dist\n",
        "---\n",
        "... 0\n",
        "0 groups\n",
        "nothing to output; exiting!\n"
       ]
      }
     ],
     "prompt_number": 8
    },
    {
     "cell_type": "code",
     "collapsed": false,
     "input": [],
     "language": "python",
     "metadata": {},
     "outputs": [
      {
       "output_type": "stream",
       "stream": "stdout",
       "text": [
        "lamp1.fasta.part  mrna_scaffold_extract.dist  mrna_scaffold.ht  mrna_scaffold.info  mrna_scaffold.pmap.merged  mrna_scaffold.tagset  petMar2.fa.masked.part\r\n"
       ]
      }
     ],
     "prompt_number": 9
    },
    {
     "cell_type": "code",
     "collapsed": false,
     "input": [],
     "language": "python",
     "metadata": {},
     "outputs": []
    }
   ],
   "metadata": {}
  }
 ]
}