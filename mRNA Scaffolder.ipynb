{
 "metadata": {
  "name": "mRNA Scaffolder"
 },
 "nbformat": 3,
 "nbformat_minor": 0,
 "worksheets": [
  {
   "cells": [
    {
     "cell_type": "code",
     "collapsed": false,
     "input": [
      "%load_ext autoreload\n",
      "%autoreload 2\n",
      "import sys\n",
      "sys.path.append('/w/peasoup/scripts')\n",
      "import hambone as hb\n",
      "import argparse\n",
      "import networkx as nx"
     ],
     "language": "python",
     "metadata": {},
     "outputs": [],
     "prompt_number": 1
    },
    {
     "cell_type": "code",
     "collapsed": false,
     "input": [
      "def sumHits(H):\n",
      "    if H:\n",
      "        s = 0\n",
      "        for hit in H:\n",
      "            s += hit.length\n",
      "        return s\n",
      "    return 0\n",
      "\n",
      "def RO(i, j, H, X, mat):\n",
      "    if X[i] >= X[j]:\n",
      "        return 0\n",
      "    if mat[i][j] != -1:\n",
      "        return mat[i][j]\n",
      "    \n",
      "    for s in range(i,len(X)):\n",
      "        for t in range(0, j):\n",
      "            pref = RO(i,s)\n",
      "            w = mat[s][t]\n",
      "            post = RO(t,j)\n",
      "            mat[i][j] = max(mat[i][j], pref+w+post)\n",
      "    \n",
      "\n",
      "def getBounds(H):\n",
      "    X = [-1, 100000]\n",
      "    for h in H:\n",
      "        X.extend([h.qstart, h.qend])\n",
      "    X = list(set(X))\n",
      "    X.sort()\n",
      "    return X\n",
      "\n",
      "# TODO: finish weighted interval scheduling\n",
      "'''\n",
      "def removeOverlaps(hits, max_overlap):\n",
      "    H = sorted(hits, key=lambda hit: hit.qend)\n",
      "    X = getBounds(H)\n",
      "    \n",
      "    mat = [[-1] * len(X)] * len(X)\n",
      "    \n",
      "    for i in range(0,len(H)):\n",
      "        H[i].qend\n",
      "    \n",
      "    maxHits = RO(hits, max_overlap)\n",
      "    return maxHits\n",
      "'''\n",
      "\n",
      "# Returns true if the hits overlap with the margin,\n",
      "# false if not\n",
      "def overLap(hita, hitb, max_overlap):\n",
      "    if hitb.qstart - hita.qend > -max_overlap:\n",
      "        return False\n",
      "    elif hita.qstart - hitb.qend > -max_overlap:\n",
      "        return False\n",
      "    return True\n",
      "\n",
      "# Remove overlapping query ranges, maximizing number of queries\n",
      "# TODO: finish DP for maximizing number of bases and hits\n",
      "def simpleOverlap(hits, max_overlap):\n",
      "    if hits and len(hits) > 1:\n",
      "        H = sorted(hits, key=lambda hit:hit.qend)\n",
      "        H_new = [H[0]]\n",
      "        for i in range(1, len(H)):\n",
      "            if not overLap(H[i], H_new[len(H_new)-1], max_overlap):\n",
      "                H_new.append(H[i])\n",
      "        return H_new\n",
      "    return []\n",
      "\n",
      "# utility function for hit comparison\n",
      "def compHits(hita, hitb):\n",
      "    if hita > hitb:\n",
      "        return hita\n",
      "    elif hita < hitb:\n",
      "        return hitb\n",
      "    # if they're equal, just use a\n",
      "    return hita\n",
      "\n",
      "'''\n",
      "Remove hits with the same subject (assuming all are same query),\n",
      "preferring the hit with the better score\n",
      "'''\n",
      "def removeSubjectDupes(hits):\n",
      "\n",
      "    hits.sort(key=lambda hit: hit.subject)\n",
      "    newHits = []\n",
      "    cur_hit = hits[0]\n",
      "    tmp = [cur_hit]\n",
      "    \n",
      "    for hit in hits[1:]:\n",
      "        # first build clusters by subject\n",
      "        if hit.subject == cur_hit.subject:\n",
      "            tmp.append(hit)\n",
      "            cur_hit = hit\n",
      "        # reduce clusters to best hit\n",
      "        else:\n",
      "            best = reduce(compHits, tmp)\n",
      "            newHits.append(best)\n",
      "            tmp = [hit]\n",
      "            cur_hit = hit\n",
      "    best = reduce(compHits, tmp)\n",
      "    newHits.append(best)\n",
      "    return newHits\n",
      "\n",
      "def statsFunc(L):\n",
      "    return float(L[2]) / float(L[0])\n",
      "'''\n",
      "def mrnaScaffolder():\n",
      "    blast_file = ''\n",
      "    fastp_file = ''\n",
      "    min_exon = 50\n",
      "    max_overlap = 10\n",
      "    \n",
      "    pSet = hb.PartitionSet.associateHits(fastp_file, blast_file)\n",
      "    scaffolds = []\n",
      "    for p in pSet:\n",
      "        scaffoldGraph = nx.DiGraph(pid=p.pid)\n",
      "        for seq in pSet:\n",
      "            addEdges(scaffoldGraph, seq)\n",
      "        if not checkIntegrity(scaffoldGraph):\n",
      "            fixGraph(scaffoldGraph)\n",
      "'''"
     ],
     "language": "python",
     "metadata": {},
     "outputs": [
      {
       "output_type": "pyout",
       "prompt_number": 2,
       "text": [
        "\"\\ndef mrnaScaffolder():\\n    blast_file = ''\\n    fastp_file = ''\\n    min_exon = 50\\n    max_overlap = 10\\n    \\n    pSet = hb.PartitionSet.associateHits(fastp_file, blast_file)\\n    scaffolds = []\\n    for p in pSet:\\n        scaffoldGraph = nx.DiGraph(pid=p.pid)\\n        for seq in pSet:\\n            addEdges(scaffoldGraph, seq)\\n        if not checkIntegrity(scaffoldGraph):\\n            fixGraph(scaffoldGraph)\\n\""
       ]
      }
     ],
     "prompt_number": 2
    },
    {
     "cell_type": "code",
     "collapsed": false,
     "input": [
      "def testScaffolder():\n",
      "    '''\n",
      "    parser = argparse.ArgumentParser()\n",
      "    parser.add_argument('-i', '--blast_file', dest='blast_file')\n",
      "    parser.add_argument('-m', '--min_length', dest='min_length', type=int)\n",
      "    parser.add_argument('-n', '--max_overlap', dest='max_overlap', type=int)\n",
      "    parser.add_argument('-o', '--output', dest='output')\n",
      "    parser.add_argument('-v', '--verbose', action='store_true', default=False)\n",
      "    args = parser.parse_args()\n",
      "    '''\n",
      "    blast_file = 'data/lamp3.x.genome.2.csv'\n",
      "    min_length = 50\n",
      "    max_overlap = 10\n",
      "    output = 'scaffold/lamp3.scaffold.test'\n",
      "    verbose = False\n",
      "\n",
      "    hits = hb.BlastDB(blast_file)\n",
      "    hits.filterByLength(min_length)\n",
      "    byQuery = hits.partitionByQuery(min_size=2)\n",
      "    \n",
      "    clusters = []\n",
      "    dedupestats = []\n",
      "    print \"Running through aggregated queries...\"\n",
      "    for n, key in enumerate(byQuery.keys()):\n",
      "        if n % 10000 == 0:\n",
      "            print \"Processed {} query groups...\".format(n)\n",
      "        # removes duplicate subjects by choosing the highest scoring hit\n",
      "        qset = byQuery[key]\n",
      "        rawSize = len(qset)\n",
      "        #print qset\n",
      "        nr = removeSubjectDupes(qset)\n",
      "        del qset\n",
      "        subdedupeSize = len(nr)\n",
      "        #print nr\n",
      "        # checks query ranges and finds the set allowing\n",
      "        # the highest number of hits\n",
      "        maxNr = simpleOverlap(nr, max_overlap)\n",
      "        del nr\n",
      "        maxnrSize = len(maxNr)\n",
      "        # we only care if the query has > 1 hit\n",
      "        if maxNr and len(maxNr) > 1:\n",
      "            maxNr.sort(key=lambda hit: hit.qstart)\n",
      "            clusters.append(maxNr)\n",
      "            stats = [rawSize, subdedupeSize, maxnrSize]\n",
      "            dedupestats.append(stats)\n",
      "            del maxNr\n",
      "    \n",
      "    endDedupe = map(statsFunc, dedupestats)\n",
      "    avgDedupe = math.fsum(endDedupe) / float(len(endDedupe))\n",
      "    print \"Cluster size reduced to {} on average\\n\".format(avgDedupe)\n",
      "    \n",
      "    # remove duplicate clusters\n",
      "    # for now just ignore duplicated contigs; in the future,\n",
      "    # use information to reconcile and form larger scaffolds\n",
      "    n = 0\n",
      "    for c in clusters:\n",
      "        n += len(c)\n",
      "    \n",
      "    print \"Number of clusters: \", len(clusters)\n",
      "    print \"...comprising {} contigs\".format(n)\n",
      "    print \"### Writing output to {} ###\".format(output)\n",
      "    with open(output, 'wb') as ofp:\n",
      "        for cluster in clusters:\n",
      "            if verbose:\n",
      "                print '*' * 40\n",
      "                for h in cluster:\n",
      "                    print h.query, h.subject, h.bitscore, h.evalue\n",
      "                print '*' * 40\n",
      "            query = cluster[0].query\n",
      "            subs = []\n",
      "            for h in cluster:\n",
      "                subs.append(h.subject)\n",
      "                subs.extend([str(h.qstart), str(h.qend), str(h.sstart), str(h.send)])\n",
      "            row = query + ':' + ','.join(subs)\n",
      "            ofp.write(row + '\\n')\n",
      "    print \"Done!\"\n",
      "\n",
      "    return clusters"
     ],
     "language": "python",
     "metadata": {},
     "outputs": [],
     "prompt_number": 3
    },
    {
     "cell_type": "code",
     "collapsed": false,
     "input": [
      "from itertools import groupby\n",
      "\n",
      "def getDir(hit):\n",
      "    qdir = 0\n",
      "    sdir = 0\n",
      "    if hit.qstart > hit.qend:\n",
      "        qdir = 1\n",
      "    if hit.sstart > hit.send:\n",
      "        sdir =1\n",
      "    return (qdir, sdir)\n",
      "\n",
      "def dirVal(aSeq):\n",
      "    skey = lambda hit: hit.subject\n",
      "    hits = sorted(aSeq.hits, key=skey)\n",
      "    if len(aSeq.hits) > 1:\n",
      "        for k, g in groupby(hits, skey):\n",
      "            subHits = [s for s in g]\n",
      "            D = getDir(subHits[0])\n",
      "            for hit in subHits[1:]:\n",
      "               if getDir(hit) != D:\n",
      "                   return False\n",
      "    return True\n",
      "\n",
      "\n",
      "def validateTranscripts(blast_pSet):\n",
      "    valid = 0\n",
      "    invalid = 0\n",
      "    seqCounter = 0\n",
      "    \n",
      "    new_pSet = hb.PartitionSet()\n",
      "    \n",
      "    print \"Starting validation process: checking {} transcripts\".format(blast_pSet.numSeqs())\n",
      "    for n, partition in enumerate(blast_pSet):\n",
      "        for aSeq in partition:\n",
      "            if seqCounter % 50000 == 0:\n",
      "                print \"{} partitions, {} sequences checked...\".format(n, seqCounter)\n",
      "                print \"{} valid, {} invalid so far...\".format(str(valid), str(invalid))\n",
      "            seqCounter += 1\n",
      "            if dirVal(aSeq):\n",
      "                new_pSet.addSeq(aSeq, partition.pid)\n",
      "                valid += 1\n",
      "            else:\n",
      "                invalid += 1\n",
      "    return valid, invalid, new_pSet\n",
      "    "
     ],
     "language": "python",
     "metadata": {},
     "outputs": [],
     "prompt_number": 4
    },
    {
     "cell_type": "code",
     "collapsed": false,
     "input": [
      "pSeq = hb.PartitionSet.associateHits('data/petMar_mrna.fa.part', 'data/x.EST.csv')"
     ],
     "language": "python",
     "metadata": {},
     "outputs": [
      {
       "output_type": "stream",
       "stream": "stdout",
       "text": [
        "Parsing hits...\n",
        "Parsed 0 rows...\n",
        "comp694_c0_seq1,EE278148,392,0.0,65,456\n",
        "Parsed"
       ]
      },
      {
       "output_type": "stream",
       "stream": "stdout",
       "text": [
        " 100000 rows...\n",
        "comp635376_c0_seq1,DW019583,401,0.0,1,401\n",
        "Parsed"
       ]
      },
      {
       "output_type": "stream",
       "stream": "stdout",
       "text": [
        " 200000 rows...\n",
        "comp645377_c2_seq4,EG332060,316,9e-165,17,332\n",
        "Parsed"
       ]
      },
      {
       "output_type": "stream",
       "stream": "stdout",
       "text": [
        " 300000 rows...\n",
        "comp650968_c0_seq4,FD728077,745,0.0,1185,1928\n",
        "Parsed"
       ]
      },
      {
       "output_type": "stream",
       "stream": "stdout",
       "text": [
        " 400000 rows...\n",
        "comp653585_c1_seq3,DY800459,468,0.0,872,1339\n",
        "...done parsing 437567 hits."
       ]
      },
      {
       "output_type": "stream",
       "stream": "stdout",
       "text": [
        "\n",
        "sorting hits by query...\n",
        "sorted 437567 hits"
       ]
      },
      {
       "output_type": "stream",
       "stream": "stdout",
       "text": [
        "\n",
        "partitioning hits by query...\n",
        "...done!"
       ]
      },
      {
       "output_type": "stream",
       "stream": "stdout",
       "text": [
        "\n",
        "89685 queries over 437567 hits\n",
        "Reading sequences and associating hits...\n",
        "...done!"
       ]
      },
      {
       "output_type": "stream",
       "stream": "stdout",
       "text": [
        "\n"
       ]
      }
     ],
     "prompt_number": 8
    },
    {
     "cell_type": "code",
     "collapsed": false,
     "input": [
      "v, i, vEST_pSet = validateTranscripts(pSeq)"
     ],
     "language": "python",
     "metadata": {},
     "outputs": [
      {
       "output_type": "stream",
       "stream": "stdout",
       "text": [
        "Starting validation process: checking 672162 transcripts\n",
        "0 partitions, 0 sequences checked...\n",
        "0 valid, 0 invalid so far...\n",
        "1 partitions, 50000 sequences checked..."
       ]
      },
      {
       "output_type": "stream",
       "stream": "stdout",
       "text": [
        "\n",
        "49993 valid, 7 invalid so far...\n",
        "1 partitions, 100000 sequences checked..."
       ]
      },
      {
       "output_type": "stream",
       "stream": "stdout",
       "text": [
        "\n",
        "99975 valid, 25 invalid so far...\n",
        "1 partitions, 150000 sequences checked..."
       ]
      },
      {
       "output_type": "stream",
       "stream": "stdout",
       "text": [
        "\n",
        "149939 valid, 61 invalid so far...\n",
        "1 partitions, 200000 sequences checked..."
       ]
      },
      {
       "output_type": "stream",
       "stream": "stdout",
       "text": [
        "\n",
        "199835 valid, 165 invalid so far...\n",
        "1 partitions, 250000 sequences checked..."
       ]
      },
      {
       "output_type": "stream",
       "stream": "stdout",
       "text": [
        "\n",
        "249724 valid, 276 invalid so far...\n",
        "1 partitions, 300000 sequences checked..."
       ]
      },
      {
       "output_type": "stream",
       "stream": "stdout",
       "text": [
        "\n",
        "299562 valid, 438 invalid so far...\n",
        "1 partitions, 350000 sequences checked..."
       ]
      },
      {
       "output_type": "stream",
       "stream": "stdout",
       "text": [
        "\n",
        "349323 valid, 677 invalid so far...\n",
        "34427 partitions, 400000 sequences checked..."
       ]
      },
      {
       "output_type": "stream",
       "stream": "stdout",
       "text": [
        "\n",
        "399302 valid, 698 invalid so far...\n",
        "75693 partitions, 450000 sequences checked..."
       ]
      },
      {
       "output_type": "stream",
       "stream": "stdout",
       "text": [
        "\n",
        "449284 valid, 716 invalid so far...\n",
        "117001 partitions, 500000 sequences checked..."
       ]
      },
      {
       "output_type": "stream",
       "stream": "stdout",
       "text": [
        "\n",
        "499262 valid, 738 invalid so far...\n",
        "158950 partitions, 550000 sequences checked..."
       ]
      },
      {
       "output_type": "stream",
       "stream": "stdout",
       "text": [
        "\n",
        "549255 valid, 745 invalid so far...\n",
        "201464 partitions, 600000 sequences checked..."
       ]
      },
      {
       "output_type": "stream",
       "stream": "stdout",
       "text": [
        "\n",
        "599233 valid, 767 invalid so far...\n",
        "244713 partitions, 650000 sequences checked..."
       ]
      },
      {
       "output_type": "stream",
       "stream": "stdout",
       "text": [
        "\n",
        "649225 valid, 775 invalid so far...\n"
       ]
      }
     ],
     "prompt_number": 32
    },
    {
     "cell_type": "code",
     "collapsed": false,
     "input": [
      "genome_pSet = hb.PartitionSet.associateHits('data/petMar_mrna.fa.part', 'data/x.genome_soft.csv')"
     ],
     "language": "python",
     "metadata": {},
     "outputs": [
      {
       "output_type": "stream",
       "stream": "stdout",
       "text": [
        "Parsing hits...\n",
        "Parsed 0 rows...\n",
        "comp15_c0_seq1,GL482660,238,2e-120,1,238\n",
        "Parsed"
       ]
      },
      {
       "output_type": "stream",
       "stream": "stdout",
       "text": [
        " 100000 rows...\n",
        "comp397997_c0_seq2,GL492314,88,2e-30,1,88\n",
        "Parsed"
       ]
      },
      {
       "output_type": "stream",
       "stream": "stdout",
       "text": [
        " 200000 rows...\n",
        "comp515516_c0_seq1,GL483362,83,1e-30,384,466\n",
        "Parsed"
       ]
      },
      {
       "output_type": "stream",
       "stream": "stdout",
       "text": [
        " 300000 rows...\n",
        "comp564501_c0_seq1,GL484072,44,3e-12,1,44\n",
        "Parsed"
       ]
      },
      {
       "output_type": "stream",
       "stream": "stdout",
       "text": [
        " 400000 rows...\n",
        "comp596795_c0_seq1,GL476513,53,1e-13,1,52\n",
        "Parsed"
       ]
      },
      {
       "output_type": "stream",
       "stream": "stdout",
       "text": [
        " 500000 rows...\n",
        "comp613349_c1_seq1,GL481379,123,2e-57,852,974\n",
        "Parsed"
       ]
      },
      {
       "output_type": "stream",
       "stream": "stdout",
       "text": [
        " 600000 rows...\n",
        "comp623628_c0_seq3,GL479152,104,1e-33,1,104\n",
        "Parsed"
       ]
      },
      {
       "output_type": "stream",
       "stream": "stdout",
       "text": [
        " 700000 rows...\n",
        "comp628916_c0_seq1,GL501097,196,7e-75,1,195\n",
        "Parsed"
       ]
      },
      {
       "output_type": "stream",
       "stream": "stdout",
       "text": [
        " 800000 rows...\n",
        "comp631383_c3_seq2,GL478742,76,1e-18,31,106\n",
        "Parsed"
       ]
      },
      {
       "output_type": "stream",
       "stream": "stdout",
       "text": [
        " 900000 rows...\n",
        "comp633292_c0_seq13,GL480460,459,0.0,17,475\n",
        "Parsed"
       ]
      },
      {
       "output_type": "stream",
       "stream": "stdout",
       "text": [
        " 1000000 rows...\n",
        "comp634886_c4_seq2,GL476941,175,1e-25,1087,1257\n",
        "Parsed"
       ]
      },
      {
       "output_type": "stream",
       "stream": "stdout",
       "text": [
        " 1100000 rows...\n",
        "comp636454_c2_seq7,GL476628,148,2e-71,716,863\n",
        "Parsed"
       ]
      },
      {
       "output_type": "stream",
       "stream": "stdout",
       "text": [
        " 1200000 rows...\n",
        "comp637857_c1_seq2,GL478931,158,4e-35,244,397\n",
        "Parsed"
       ]
      },
      {
       "output_type": "stream",
       "stream": "stdout",
       "text": [
        " 1300000 rows...\n",
        "comp639188_c0_seq4,GL476592,149,1e-69,973,1121\n",
        "Parsed"
       ]
      },
      {
       "output_type": "stream",
       "stream": "stdout",
       "text": [
        " 1400000 rows...\n",
        "comp640339_c0_seq8,GL476484,80,1e-19,243,322\n",
        "Parsed"
       ]
      },
      {
       "output_type": "stream",
       "stream": "stdout",
       "text": [
        " 1500000 rows...\n",
        "comp641461_c0_seq2,GL476948,306,1e-148,17,319\n",
        "Parsed"
       ]
      },
      {
       "output_type": "stream",
       "stream": "stdout",
       "text": [
        " 1600000 rows...\n",
        "comp642589_c3_seq1,GL480253,179,9e-21,87,260\n",
        "Parsed"
       ]
      },
      {
       "output_type": "stream",
       "stream": "stdout",
       "text": [
        " 1700000 rows...\n",
        "comp643729_c7_seq4,GL477652,167,1e-56,254,419\n",
        "Parsed"
       ]
      },
      {
       "output_type": "stream",
       "stream": "stdout",
       "text": [
        " 1800000 rows...\n",
        "comp644901_c0_seq5,GL478734,532,0.0,578,1106\n",
        "Parsed"
       ]
      },
      {
       "output_type": "stream",
       "stream": "stdout",
       "text": [
        " 1900000 rows...\n",
        "comp645911_c1_seq7,GL481821,203,1e-12,31,226\n",
        "Parsed"
       ]
      },
      {
       "output_type": "stream",
       "stream": "stdout",
       "text": [
        " 2000000 rows...\n",
        "comp646963_c1_seq1,GL483349,66,4e-15,1154,1219\n",
        "Parsed"
       ]
      },
      {
       "output_type": "stream",
       "stream": "stdout",
       "text": [
        " 2100000 rows...\n",
        "comp647947_c0_seq6,GL490870,135,2e-45,69,202\n",
        "Parsed"
       ]
      },
      {
       "output_type": "stream",
       "stream": "stdout",
       "text": [
        " 2200000 rows...\n",
        "comp648704_c3_seq13,GL485999,62,1e-15,383,444\n",
        "Parsed"
       ]
      },
      {
       "output_type": "stream",
       "stream": "stdout",
       "text": [
        " 2300000 rows...\n",
        "comp649542_c0_seq20,GL478677,108,7e-49,1429,1536\n",
        "Parsed"
       ]
      },
      {
       "output_type": "stream",
       "stream": "stdout",
       "text": [
        " 2400000 rows...\n",
        "comp650443_c0_seq3,GL476896,117,5e-24,121,230\n",
        "Parsed"
       ]
      },
      {
       "output_type": "stream",
       "stream": "stdout",
       "text": [
        " 2500000 rows...\n",
        "comp651210_c1_seq21,GL478149,49,9e-14,121,169\n",
        "Parsed"
       ]
      },
      {
       "output_type": "stream",
       "stream": "stdout",
       "text": [
        " 2600000 rows...\n",
        "comp651884_c1_seq9,GL479219,206,1e-62,23,218\n",
        "Parsed"
       ]
      },
      {
       "output_type": "stream",
       "stream": "stdout",
       "text": [
        " 2700000 rows...\n",
        "comp652607_c4_seq7,GL476624,55,1e-12,2521,2575\n",
        "Parsed"
       ]
      },
      {
       "output_type": "stream",
       "stream": "stdout",
       "text": [
        " 2800000 rows...\n",
        "comp653115_c4_seq13,GL476422,80,3e-23,434,512\n",
        "Parsed"
       ]
      },
      {
       "output_type": "stream",
       "stream": "stdout",
       "text": [
        " 2900000 rows...\n",
        "comp653625_c0_seq10,GL476368,1951,0.0,1,1943\n",
        "Parsed"
       ]
      },
      {
       "output_type": "stream",
       "stream": "stdout",
       "text": [
        " 3000000 rows...\n",
        "comp653924_c0_seq15,GL477860,318,4e-134,31,348\n",
        "Parsed"
       ]
      },
      {
       "output_type": "stream",
       "stream": "stdout",
       "text": [
        " 3100000 rows...\n",
        "comp2674516_c0_seq1,GL479362,208,2e-105,1,208\n",
        "...done parsing 3161352 hits."
       ]
      },
      {
       "output_type": "stream",
       "stream": "stdout",
       "text": [
        "\n",
        "sorting hits by query...\n",
        "sorted 3161352 hits"
       ]
      },
      {
       "output_type": "stream",
       "stream": "stdout",
       "text": [
        "\n",
        "partitioning hits by query...\n",
        "...done!"
       ]
      },
      {
       "output_type": "stream",
       "stream": "stdout",
       "text": [
        "\n",
        "469919 queries over 3161352 hits\n",
        "Reading sequences and associating hits...\n",
        "...done!"
       ]
      },
      {
       "output_type": "stream",
       "stream": "stdout",
       "text": [
        "\n"
       ]
      }
     ],
     "prompt_number": 36
    },
    {
     "cell_type": "code",
     "collapsed": false,
     "input": [
      "v, i, vGenome_pSet = validateTranscripts(genome_pSet)"
     ],
     "language": "python",
     "metadata": {},
     "outputs": [
      {
       "output_type": "stream",
       "stream": "stdout",
       "text": [
        "Starting validation process: checking 672162 transcripts\n",
        "0 partitions, 0 sequences checked...\n",
        "0 valid, 0 invalid so far...\n",
        "1 partitions, 50000 sequences checked..."
       ]
      },
      {
       "output_type": "stream",
       "stream": "stdout",
       "text": [
        "\n",
        "49369 valid, 631 invalid so far...\n",
        "1 partitions, 100000 sequences checked..."
       ]
      },
      {
       "output_type": "stream",
       "stream": "stdout",
       "text": [
        "\n",
        "98380 valid, 1620 invalid so far...\n",
        "1 partitions, 150000 sequences checked..."
       ]
      },
      {
       "output_type": "stream",
       "stream": "stdout",
       "text": [
        "\n",
        "146632 valid, 3368 invalid so far...\n",
        "1 partitions, 200000 sequences checked..."
       ]
      },
      {
       "output_type": "stream",
       "stream": "stdout",
       "text": [
        "\n",
        "193873 valid, 6127 invalid so far...\n",
        "1 partitions, 250000 sequences checked..."
       ]
      },
      {
       "output_type": "stream",
       "stream": "stdout",
       "text": [
        "\n",
        "240988 valid, 9012 invalid so far...\n",
        "1 partitions, 300000 sequences checked..."
       ]
      },
      {
       "output_type": "stream",
       "stream": "stdout",
       "text": [
        "\n",
        "287765 valid, 12235 invalid so far...\n",
        "1 partitions, 350000 sequences checked..."
       ]
      },
      {
       "output_type": "stream",
       "stream": "stdout",
       "text": [
        "\n",
        "335070 valid, 14930 invalid so far...\n",
        "34427 partitions, 400000 sequences checked..."
       ]
      },
      {
       "output_type": "stream",
       "stream": "stdout",
       "text": [
        "\n",
        "384751 valid, 15249 invalid so far...\n",
        "75693 partitions, 450000 sequences checked..."
       ]
      },
      {
       "output_type": "stream",
       "stream": "stdout",
       "text": [
        "\n",
        "434428 valid, 15572 invalid so far...\n",
        "117001 partitions, 500000 sequences checked..."
       ]
      },
      {
       "output_type": "stream",
       "stream": "stdout",
       "text": [
        "\n",
        "484136 valid, 15864 invalid so far...\n",
        "158950 partitions, 550000 sequences checked..."
       ]
      },
      {
       "output_type": "stream",
       "stream": "stdout",
       "text": [
        "\n",
        "533850 valid, 16150 invalid so far...\n",
        "201464 partitions, 600000 sequences checked..."
       ]
      },
      {
       "output_type": "stream",
       "stream": "stdout",
       "text": [
        "\n",
        "583543 valid, 16457 invalid so far...\n",
        "244713 partitions, 650000 sequences checked..."
       ]
      },
      {
       "output_type": "stream",
       "stream": "stdout",
       "text": [
        "\n",
        "633203 valid, 16797 invalid so far...\n"
       ]
      }
     ],
     "prompt_number": 37
    },
    {
     "cell_type": "code",
     "collapsed": false,
     "input": [
      "print len(vEST_pSet), vEST_pSet.numSeqs(), vEST_pSet.numHits()\n",
      "print len(vGenome_pSet), vGenome_pSet.numSeqs(), vGenome_pSet.numHits()"
     ],
     "language": "python",
     "metadata": {},
     "outputs": [
      {
       "output_type": "stream",
       "stream": "stdout",
       "text": [
        "263528 "
       ]
      },
      {
       "output_type": "stream",
       "stream": "stdout",
       "text": [
        "671385 "
       ]
      },
      {
       "output_type": "stream",
       "stream": "stdout",
       "text": [
        "420783\n",
        "262614 "
       ]
      },
      {
       "output_type": "stream",
       "stream": "stdout",
       "text": [
        "655225 "
       ]
      },
      {
       "output_type": "stream",
       "stream": "stdout",
       "text": [
        "1592809\n"
       ]
      }
     ],
     "prompt_number": 38
    },
    {
     "cell_type": "code",
     "collapsed": false,
     "input": [
      "!head data/lamp3.x.genome.2.csv"
     ],
     "language": "python",
     "metadata": {},
     "outputs": [
      {
       "output_type": "stream",
       "stream": "stdout",
       "text": [
        "comp56_c0_seq1,GL478987,571,566,54,623,26837,26267,1026,0.0,1,1\r\n",
        "comp56_c0_seq1,GL478987,57,57,3,59,47274,47218, 106,5e-21,1,1\r\n",
        "comp103_c1_seq1,GL478819,365,364,16,380,26655,27019, 669,0.0,1,1\r\n",
        "comp123_c0_seq1,GL476732,348,346,14,361,777551,777898, 632,1e-179,1,1\r\n",
        "comp160_c0_seq1,GL478668,366,366,1,366,29408,29043, 676,0.0,1,1\r\n",
        "comp338_c1_seq1,GL478983,319,317,1,319,13526,13208, 579,1e-163,1,1\r\n",
        "comp398_c0_seq1,GL479304,375,372,1,375,19385,19011, 676,0.0,1,1\r\n",
        "comp407_c0_seq1,GL480593,422,420,1,422,495245,495665, 767,0.0,1,1\r\n",
        "comp420_c0_seq1,GL479035,47,47,272,318,178317,178271,87.9,9e-16,1,1\r\n",
        "comp430_c0_seq1,GL478829,120,116,224,343,224660,224541, 200,1e-49,1,1\r\n"
       ]
      }
     ],
     "prompt_number": 12
    },
    {
     "cell_type": "code",
     "collapsed": false,
     "input": [
      "clusters = testScaffolder();"
     ],
     "language": "python",
     "metadata": {},
     "outputs": [
      {
       "output_type": "stream",
       "stream": "stdout",
       "text": [
        "Parsing hits...\n",
        "Parsed 0 rows...\n",
        "comp56_c0_seq1,GL478987,571,0.0,54,623\n",
        "Parsed"
       ]
      },
      {
       "output_type": "stream",
       "stream": "stdout",
       "text": [
        " 100000 rows...\n",
        "comp511855_c0_seq1,GL481270,52,2e-13,351,402\n",
        "Parsed"
       ]
      },
      {
       "output_type": "stream",
       "stream": "stdout",
       "text": [
        " 200000 rows...\n",
        "comp580127_c0_seq2,GL476408,674,0.0,1,674\n",
        "Parsed"
       ]
      },
      {
       "output_type": "stream",
       "stream": "stdout",
       "text": [
        " 300000 rows...\n",
        "comp607551_c0_seq1,GL476727,884,0.0,6,889\n",
        "Parsed"
       ]
      },
      {
       "output_type": "stream",
       "stream": "stdout",
       "text": [
        " 400000 rows...\n",
        "comp620861_c0_seq2,GL478050,260,2e-81,1,255\n",
        "Parsed"
       ]
      },
      {
       "output_type": "stream",
       "stream": "stdout",
       "text": [
        " 500000 rows...\n",
        "comp626828_c0_seq8,GL478756,42,2e-09,349,390\n",
        "Parsed"
       ]
      },
      {
       "output_type": "stream",
       "stream": "stdout",
       "text": [
        " 600000 rows...\n",
        "comp630288_c0_seq3,GL482375,117,5e-21,561,674\n",
        "Parsed"
       ]
      },
      {
       "output_type": "stream",
       "stream": "stdout",
       "text": [
        " 700000 rows...\n",
        "comp632199_c0_seq4,GL476802,354,0.0,19,372\n",
        "Parsed"
       ]
      },
      {
       "output_type": "stream",
       "stream": "stdout",
       "text": [
        " 800000 rows...\n",
        "comp634127_c3_seq1,GL476329,54,6e-18,20,73\n",
        "Parsed"
       ]
      },
      {
       "output_type": "stream",
       "stream": "stdout",
       "text": [
        " 900000 rows...\n",
        "comp635287_c0_seq7,GL476352,91,7e-27,247,337\n",
        "Parsed"
       ]
      },
      {
       "output_type": "stream",
       "stream": "stdout",
       "text": [
        " 1000000 rows...\n",
        "comp636808_c1_seq8,GL477135,52,7e-13,226,277\n",
        "Parsed"
       ]
      },
      {
       "output_type": "stream",
       "stream": "stdout",
       "text": [
        " 1100000 rows...\n",
        "comp637846_c1_seq3,GL477214,72,1e-20,398,469\n",
        "Parsed"
       ]
      },
      {
       "output_type": "stream",
       "stream": "stdout",
       "text": [
        " 1200000 rows...\n",
        "comp638945_c1_seq2,GL476486,1942,0.0,23,1964\n",
        "Parsed"
       ]
      },
      {
       "output_type": "stream",
       "stream": "stdout",
       "text": [
        " 1300000 rows...\n",
        "comp640060_c0_seq1,GL479485,134,4e-63,2185,2318\n",
        "Parsed"
       ]
      },
      {
       "output_type": "stream",
       "stream": "stdout",
       "text": [
        " 1400000 rows...\n",
        "comp641041_c1_seq19,GL477439,101,2e-45,297,397\n",
        "Parsed"
       ]
      },
      {
       "output_type": "stream",
       "stream": "stdout",
       "text": [
        " 1500000 rows...\n",
        "comp642055_c0_seq4,GL476842,58,2e-17,857,913\n",
        "Parsed"
       ]
      },
      {
       "output_type": "stream",
       "stream": "stdout",
       "text": [
        " 1600000 rows...\n",
        "comp642819_c0_seq3,GL476595,202,2e-45,84,283\n",
        "Parsed"
       ]
      },
      {
       "output_type": "stream",
       "stream": "stdout",
       "text": [
        " 1700000 rows...\n",
        "comp643826_c1_seq8,GL480469,188,1e-71,1757,1944\n",
        "Parsed"
       ]
      },
      {
       "output_type": "stream",
       "stream": "stdout",
       "text": [
        " 1800000 rows...\n",
        "comp644772_c0_seq32,GL495536,34,8e-06,135,168\n",
        "Parsed"
       ]
      },
      {
       "output_type": "stream",
       "stream": "stdout",
       "text": [
        " 1900000 rows...\n",
        "comp645563_c1_seq2,GL479514,86,7e-19,391,476\n",
        "Parsed"
       ]
      },
      {
       "output_type": "stream",
       "stream": "stdout",
       "text": [
        " 2000000 rows...\n",
        "comp646293_c0_seq51,GL477397,98,1e-24,1,98\n",
        "Parsed"
       ]
      },
      {
       "output_type": "stream",
       "stream": "stdout",
       "text": [
        " 2100000 rows...\n",
        "comp647180_c3_seq5,GL476514,56,7e-13,217,272\n",
        "Parsed"
       ]
      },
      {
       "output_type": "stream",
       "stream": "stdout",
       "text": [
        " 2200000 rows...\n",
        "comp647960_c0_seq6,GL476858,195,3e-26,151,342\n",
        "Parsed"
       ]
      },
      {
       "output_type": "stream",
       "stream": "stdout",
       "text": [
        " 2300000 rows...\n",
        "comp648554_c0_seq14,GL480844,122,2e-48,1113,1234\n",
        "Parsed"
       ]
      },
      {
       "output_type": "stream",
       "stream": "stdout",
       "text": [
        " 2400000 rows...\n",
        "comp649212_c2_seq34,GL476448,1165,0.0,1,1165\n",
        "Parsed"
       ]
      },
      {
       "output_type": "stream",
       "stream": "stdout",
       "text": [
        " 2500000 rows...\n",
        "comp649823_c4_seq9,GL477274,91,1e-19,44,133\n",
        "Parsed"
       ]
      },
      {
       "output_type": "stream",
       "stream": "stdout",
       "text": [
        " 2600000 rows...\n",
        "comp650488_c0_seq20,GL478852,94,3e-35,2485,2577\n",
        "Parsed"
       ]
      },
      {
       "output_type": "stream",
       "stream": "stdout",
       "text": [
        " 2700000 rows...\n",
        "comp651097_c0_seq5,GL477076,102,6e-41,381,482\n",
        "Parsed"
       ]
      },
      {
       "output_type": "stream",
       "stream": "stdout",
       "text": [
        " 2800000 rows...\n",
        "comp651541_c3_seq11,GL486553,186,2e-47,185,362\n",
        "Parsed"
       ]
      },
      {
       "output_type": "stream",
       "stream": "stdout",
       "text": [
        " 2900000 rows...\n",
        "comp652003_c0_seq21,GL476630,1510,0.0,1,1507\n",
        "Parsed"
       ]
      },
      {
       "output_type": "stream",
       "stream": "stdout",
       "text": [
        " 3000000 rows...\n",
        "comp652531_c3_seq15,GL481799,188,2e-47,635,820\n",
        "Parsed"
       ]
      },
      {
       "output_type": "stream",
       "stream": "stdout",
       "text": [
        " 3100000 rows...\n",
        "comp652781_c0_seq9,GL476371,1020,0.0,574,1592\n",
        "Parsed"
       ]
      },
      {
       "output_type": "stream",
       "stream": "stdout",
       "text": [
        " 3200000 rows...\n",
        "comp653225_c0_seq1,GL477577,147,3e-71,43,189\n",
        "Parsed"
       ]
      },
      {
       "output_type": "stream",
       "stream": "stdout",
       "text": [
        " 3300000 rows...\n",
        "comp653565_c1_seq3,GL476857,79,3e-17,202,280\n",
        "Parsed"
       ]
      },
      {
       "output_type": "stream",
       "stream": "stdout",
       "text": [
        " 3400000 rows...\n",
        "comp653839_c1_seq1,GL478120,135,4e-49,155,288\n",
        "Parsed"
       ]
      },
      {
       "output_type": "stream",
       "stream": "stdout",
       "text": [
        " 3500000 rows...\n",
        "comp653955_c1_seq8,GL480016,694,0.0,1,694\n",
        "...done parsing 3583638 hits."
       ]
      },
      {
       "output_type": "stream",
       "stream": "stdout",
       "text": [
        "\n",
        "filtering out hits less than 50 bases...\n",
        "...looked through 0 hits\n",
        "comp56_c0_seq1,GL478987,571,0.0,54,623\n",
        "...looked through"
       ]
      },
      {
       "output_type": "stream",
       "stream": "stdout",
       "text": [
        " 100000 hits\n",
        "comp511855_c0_seq1,GL481270,52,2e-13,351,402\n",
        "...looked through"
       ]
      },
      {
       "output_type": "stream",
       "stream": "stdout",
       "text": [
        " 200000 hits\n",
        "comp580127_c0_seq2,GL476408,674,0.0,1,674\n",
        "...looked through"
       ]
      },
      {
       "output_type": "stream",
       "stream": "stdout",
       "text": [
        " 300000 hits\n",
        "comp607551_c0_seq1,GL476727,884,0.0,6,889\n",
        "...looked through"
       ]
      },
      {
       "output_type": "stream",
       "stream": "stdout",
       "text": [
        " 400000 hits\n",
        "comp620861_c0_seq2,GL478050,260,2e-81,1,255\n",
        "...looked through"
       ]
      },
      {
       "output_type": "stream",
       "stream": "stdout",
       "text": [
        " 500000 hits\n",
        "comp626828_c0_seq8,GL478756,42,2e-09,349,390\n",
        "...looked through"
       ]
      },
      {
       "output_type": "stream",
       "stream": "stdout",
       "text": [
        " 600000 hits\n",
        "comp630288_c0_seq3,GL482375,117,5e-21,561,674\n",
        "...looked through"
       ]
      },
      {
       "output_type": "stream",
       "stream": "stdout",
       "text": [
        " 700000 hits\n",
        "comp632199_c0_seq4,GL476802,354,0.0,19,372\n",
        "...looked through"
       ]
      },
      {
       "output_type": "stream",
       "stream": "stdout",
       "text": [
        " 800000 hits\n",
        "comp634127_c3_seq1,GL476329,54,6e-18,20,73\n",
        "...looked through"
       ]
      },
      {
       "output_type": "stream",
       "stream": "stdout",
       "text": [
        " 900000 hits\n",
        "comp635287_c0_seq7,GL476352,91,7e-27,247,337\n",
        "...looked through"
       ]
      },
      {
       "output_type": "stream",
       "stream": "stdout",
       "text": [
        " 1000000 hits\n",
        "comp636808_c1_seq8,GL477135,52,7e-13,226,277\n",
        "...looked through"
       ]
      },
      {
       "output_type": "stream",
       "stream": "stdout",
       "text": [
        " 1100000 hits\n",
        "comp637846_c1_seq3,GL477214,72,1e-20,398,469\n",
        "...looked through"
       ]
      },
      {
       "output_type": "stream",
       "stream": "stdout",
       "text": [
        " 1200000 hits\n",
        "comp638945_c1_seq2,GL476486,1942,0.0,23,1964\n",
        "...looked through"
       ]
      },
      {
       "output_type": "stream",
       "stream": "stdout",
       "text": [
        " 1300000 hits\n",
        "comp640060_c0_seq1,GL479485,134,4e-63,2185,2318\n",
        "...looked through"
       ]
      },
      {
       "output_type": "stream",
       "stream": "stdout",
       "text": [
        " 1400000 hits\n",
        "comp641041_c1_seq19,GL477439,101,2e-45,297,397\n",
        "...looked through"
       ]
      },
      {
       "output_type": "stream",
       "stream": "stdout",
       "text": [
        " 1500000 hits\n",
        "comp642055_c0_seq4,GL476842,58,2e-17,857,913\n",
        "...looked through"
       ]
      },
      {
       "output_type": "stream",
       "stream": "stdout",
       "text": [
        " 1600000 hits\n",
        "comp642819_c0_seq3,GL476595,202,2e-45,84,283\n",
        "...looked through"
       ]
      },
      {
       "output_type": "stream",
       "stream": "stdout",
       "text": [
        " 1700000 hits\n",
        "comp643826_c1_seq8,GL480469,188,1e-71,1757,1944\n",
        "...looked through"
       ]
      },
      {
       "output_type": "stream",
       "stream": "stdout",
       "text": [
        " 1800000 hits\n",
        "comp644772_c0_seq32,GL495536,34,8e-06,135,168\n",
        "...looked through"
       ]
      },
      {
       "output_type": "stream",
       "stream": "stdout",
       "text": [
        " 1900000 hits\n",
        "comp645563_c1_seq2,GL479514,86,7e-19,391,476\n",
        "...looked through"
       ]
      },
      {
       "output_type": "stream",
       "stream": "stdout",
       "text": [
        " 2000000 hits\n",
        "comp646293_c0_seq51,GL477397,98,1e-24,1,98\n",
        "...looked through"
       ]
      },
      {
       "output_type": "stream",
       "stream": "stdout",
       "text": [
        " 2100000 hits\n",
        "comp647180_c3_seq5,GL476514,56,7e-13,217,272\n",
        "...looked through"
       ]
      },
      {
       "output_type": "stream",
       "stream": "stdout",
       "text": [
        " 2200000 hits\n",
        "comp647960_c0_seq6,GL476858,195,3e-26,151,342\n",
        "...looked through"
       ]
      },
      {
       "output_type": "stream",
       "stream": "stdout",
       "text": [
        " 2300000 hits\n",
        "comp648554_c0_seq14,GL480844,122,2e-48,1113,1234\n",
        "...looked through"
       ]
      },
      {
       "output_type": "stream",
       "stream": "stdout",
       "text": [
        " 2400000 hits\n",
        "comp649212_c2_seq34,GL476448,1165,0.0,1,1165\n",
        "...looked through"
       ]
      },
      {
       "output_type": "stream",
       "stream": "stdout",
       "text": [
        " 2500000 hits\n",
        "comp649823_c4_seq9,GL477274,91,1e-19,44,133\n",
        "...looked through"
       ]
      },
      {
       "output_type": "stream",
       "stream": "stdout",
       "text": [
        " 2600000 hits\n",
        "comp650488_c0_seq20,GL478852,94,3e-35,2485,2577\n",
        "...looked through"
       ]
      },
      {
       "output_type": "stream",
       "stream": "stdout",
       "text": [
        " 2700000 hits\n",
        "comp651097_c0_seq5,GL477076,102,6e-41,381,482\n",
        "...looked through 2800000 hits"
       ]
      },
      {
       "output_type": "stream",
       "stream": "stdout",
       "text": [
        "\n",
        "comp651541_c3_seq11,GL486553,186,2e-47,185,362\n",
        "...looked through"
       ]
      },
      {
       "output_type": "stream",
       "stream": "stdout",
       "text": [
        " 2900000 hits\n",
        "comp652003_c0_seq21,GL476630,1510,0.0,1,1507\n",
        "...looked through"
       ]
      },
      {
       "output_type": "stream",
       "stream": "stdout",
       "text": [
        " 3000000 hits\n",
        "comp652531_c3_seq15,GL481799,188,2e-47,635,820\n",
        "...looked through"
       ]
      },
      {
       "output_type": "stream",
       "stream": "stdout",
       "text": [
        " 3100000 hits\n",
        "comp652781_c0_seq9,GL476371,1020,0.0,574,1592\n",
        "...looked through"
       ]
      },
      {
       "output_type": "stream",
       "stream": "stdout",
       "text": [
        " 3200000 hits\n",
        "comp653225_c0_seq1,GL477577,147,3e-71,43,189\n",
        "...looked through"
       ]
      },
      {
       "output_type": "stream",
       "stream": "stdout",
       "text": [
        " 3300000 hits\n",
        "comp653565_c1_seq3,GL476857,79,3e-17,202,280\n",
        "...looked through"
       ]
      },
      {
       "output_type": "stream",
       "stream": "stdout",
       "text": [
        " 3400000 hits\n",
        "comp653839_c1_seq1,GL478120,135,4e-49,155,288\n",
        "...looked through"
       ]
      },
      {
       "output_type": "stream",
       "stream": "stdout",
       "text": [
        " 3500000 hits\n",
        "comp653955_c1_seq8,GL480016,694,0.0,1,694\n",
        "...done filtering, 3062814 hits remaining"
       ]
      },
      {
       "output_type": "stream",
       "stream": "stdout",
       "text": [
        "\n",
        "sorting hits by query...\n",
        "sorted 3062814 hits"
       ]
      },
      {
       "output_type": "stream",
       "stream": "stdout",
       "text": [
        "\n",
        "partitioning hits by query...\n",
        "...done!"
       ]
      },
      {
       "output_type": "stream",
       "stream": "stdout",
       "text": [
        "\n",
        "188815 queries over 3062814 hits\n",
        "Running through aggregated queries...\n",
        "Processed 0 query groups...\n",
        "Processed 10000 query groups..."
       ]
      },
      {
       "output_type": "stream",
       "stream": "stdout",
       "text": [
        "\n",
        "Processed 20000 query groups..."
       ]
      },
      {
       "output_type": "stream",
       "stream": "stdout",
       "text": [
        "\n",
        "Processed 30000 query groups..."
       ]
      },
      {
       "output_type": "stream",
       "stream": "stdout",
       "text": [
        "\n",
        "Processed 40000 query groups..."
       ]
      },
      {
       "output_type": "stream",
       "stream": "stdout",
       "text": [
        "\n",
        "Processed 50000 query groups..."
       ]
      },
      {
       "output_type": "stream",
       "stream": "stdout",
       "text": [
        "\n",
        "Processed 60000 query groups..."
       ]
      },
      {
       "output_type": "stream",
       "stream": "stdout",
       "text": [
        "\n",
        "Processed 70000 query groups..."
       ]
      },
      {
       "output_type": "stream",
       "stream": "stdout",
       "text": [
        "\n",
        "Processed 80000 query groups..."
       ]
      },
      {
       "output_type": "stream",
       "stream": "stdout",
       "text": [
        "\n",
        "Processed 90000 query groups..."
       ]
      },
      {
       "output_type": "stream",
       "stream": "stdout",
       "text": [
        "\n",
        "Processed 100000 query groups..."
       ]
      },
      {
       "output_type": "stream",
       "stream": "stdout",
       "text": [
        "\n",
        "Processed 110000 query groups..."
       ]
      },
      {
       "output_type": "stream",
       "stream": "stdout",
       "text": [
        "\n",
        "Processed 120000 query groups..."
       ]
      },
      {
       "output_type": "stream",
       "stream": "stdout",
       "text": [
        "\n",
        "Processed 130000 query groups..."
       ]
      },
      {
       "output_type": "stream",
       "stream": "stdout",
       "text": [
        "\n",
        "Processed 140000 query groups..."
       ]
      },
      {
       "output_type": "stream",
       "stream": "stdout",
       "text": [
        "\n",
        "Processed 150000 query groups..."
       ]
      },
      {
       "output_type": "stream",
       "stream": "stdout",
       "text": [
        "\n",
        "Processed 160000 query groups..."
       ]
      },
      {
       "output_type": "stream",
       "stream": "stdout",
       "text": [
        "\n",
        "Processed 170000 query groups..."
       ]
      },
      {
       "output_type": "stream",
       "stream": "stdout",
       "text": [
        "\n",
        "Processed 180000 query groups..."
       ]
      },
      {
       "output_type": "stream",
       "stream": "stdout",
       "text": [
        "\n",
        "Cluster size reduced to 0.35665052646 on average\n"
       ]
      },
      {
       "output_type": "stream",
       "stream": "stdout",
       "text": [
        "\n",
        "Number of clusters:  56806\n",
        "...comprising 127204 contigs\n",
        "### Writing output to scaffold/lamp3.scaffold.test ###\n",
        "Done!"
       ]
      },
      {
       "output_type": "stream",
       "stream": "stdout",
       "text": [
        "\n"
       ]
      }
     ],
     "prompt_number": 5
    },
    {
     "cell_type": "code",
     "collapsed": false,
     "input": [
      "import matplotlib.pyplot as plt\n",
      "\n",
      "scaf_graph = nx.DiGraph()\n",
      "clusters.sort(key=lambda c: c[0].subject)\n",
      "traverse_limit = 500\n",
      "edge_labels = {}\n",
      "for i in range(0,traverse_limit):\n",
      "    c = clusters[i]\n",
      "    #print c\n",
      "    \n",
      "    scaf_graph.add_node(c[0].subject)\n",
      "    for j in range(1,len(c)):\n",
      "        scaf_graph.add_edge(c[j-1].subject, c[j].subject, label=c[j].query)\n",
      "        edge_labels[(c[j-1].subject, c[j].subject)] = c[j].query\n",
      "\n",
      "print \"Pruning graph...\"\n",
      "num_pruned=0\n",
      "for n in scaf_graph.nodes():\n",
      "    if scaf_graph.out_degree(n) == 0 and scaf_graph.in_degree(n) == 1:\n",
      "        scaf_graph.remove_node(n)\n",
      "        #print \"removed node\", n\n",
      "        num_pruned += 1\n",
      "print \"...pruned\", num_pruned, \"nodes\"\n",
      "\n",
      "spos=nx.spring_layout(scaf_graph,scale=2)\n",
      "plt.figure(figsize=(20,20))        \n",
      "nx.draw(scaf_graph, pos=spos, width=1)\n",
      "#nx.draw_networkx_edge_labels(scaf_graph, pos=spos, edge_labels=edge_labels)\n",
      "\n",
      "nx.write_dot(scaf_graph, 'scaf_graph.dot')"
     ],
     "language": "python",
     "metadata": {},
     "outputs": [
      {
       "output_type": "stream",
       "stream": "stdout",
       "text": [
        "Pruning graph...\n",
        "...pruned 250 nodes\n"
       ]
      },
      {
       "output_type": "display_data",
       "png": "[encoded data removed]"
      }
     ],
     "prompt_number": 6
    },
    {
     "cell_type": "code",
     "collapsed": false,
     "input": [
      "nx.simple_cycles(scaf_graph)\n",
      "print \"iterating through components...\"\n",
      "for comp in nx.weakly_connected_component_subgraphs(scaf_graph):\n",
      "    print nx.simple_cycles(comp)\n",
      "    print nx.is_directed_acyclic_graph(comp)\n",
      "#scaf_graph_reduced = nx.minimum_spanning_tree(scaf_graph)\n",
      "#nx.draw_spring(scaf_graph_reduced, width=1)"
     ],
     "language": "python",
     "metadata": {},
     "outputs": [
      {
       "output_type": "stream",
       "stream": "stdout",
       "text": [
        "iterating through components...\n",
        "[['GL476360', 'GL476339', 'GL476335', 'GL476336', 'GL476343', 'GL476377', 'GL476333', 'GL476334', 'GL476328', 'GL476329', 'GL476332', 'GL476340', 'GL476360'], ['GL476360', 'GL476339', 'GL476335', 'GL476336', 'GL476343', 'GL476377', 'GL476333', 'GL476334', 'GL476328', 'GL476332', 'GL476340', 'GL476360'], ['GL476360', 'GL476339', 'GL476335', 'GL476336', 'GL476343', 'GL479271', 'GL476347', 'GL476349', 'GL476344', 'GL476377', 'GL476333', 'GL476334', 'GL476328', 'GL476329', 'GL476332', 'GL476340', 'GL476360'], ['GL476360', 'GL476339', 'GL476335', 'GL476336', 'GL476343', 'GL479271', 'GL476347', 'GL476349', 'GL476344', 'GL476377', 'GL476333', 'GL476334', 'GL476328', 'GL476332', 'GL476340', 'GL476360'], ['GL476334', 'GL476328', 'GL476329', 'GL476335', 'GL476336', 'GL476343', 'GL476377', 'GL476333', 'GL476334'], ['GL476334', 'GL476328', 'GL476329', 'GL476335', 'GL476336', 'GL476343', 'GL479271', 'GL476347', 'GL476349', 'GL476344', 'GL476377', 'GL476333', 'GL476334'], ['GL476334', 'GL476328', 'GL476329', 'GL476332', 'GL476335', 'GL476336', 'GL476343', 'GL476377', 'GL476333', 'GL476334'], ['GL476334', 'GL476328', 'GL476329', 'GL476332', 'GL476335', 'GL476336', 'GL476343', 'GL479271', 'GL476347', 'GL476349', 'GL476344', 'GL476377', 'GL476333', 'GL476334'], ['GL476334', 'GL476328', 'GL476329', 'GL476332', 'GL476340', 'GL476343', 'GL476377', 'GL476333', 'GL476334'], ['GL476334', 'GL476328', 'GL476329', 'GL476332', 'GL476340', 'GL476343', 'GL479271', 'GL476347', 'GL476349', 'GL476344', 'GL476377', 'GL476333', 'GL476334'], ['GL476334', 'GL476328', 'GL476329', 'GL476332', 'GL476340', 'GL476353', 'GL476334'], ['GL476334', 'GL476328', 'GL476329', 'GL476377', 'GL476333', 'GL476334'], ['GL476334', 'GL476328', 'GL476332', 'GL476335', 'GL476336', 'GL476343', 'GL476377', 'GL476333', 'GL476334'], ['GL476334', 'GL476328', 'GL476332', 'GL476335', 'GL476336', 'GL476343', 'GL479271', 'GL476347', 'GL476349', 'GL476344', 'GL476377', 'GL476333', 'GL476334'], ['GL476334', 'GL476328', 'GL476332', 'GL476340', 'GL476343', 'GL476377', 'GL476333', 'GL476334'], ['GL476334', 'GL476328', 'GL476332', 'GL476340', 'GL476343', 'GL479271', 'GL476347', 'GL476349', 'GL476344', 'GL476377', 'GL476333', 'GL476334'], ['GL476334', 'GL476328', 'GL476332', 'GL476340', 'GL476353', 'GL476334'], ['GL476335', 'GL476336', 'GL476335'], ['GL476333', 'GL476343', 'GL476377', 'GL476333'], ['GL476333', 'GL476343', 'GL479271', 'GL476347', 'GL476349', 'GL476344', 'GL476377', 'GL476333']]"
       ]
      },
      {
       "output_type": "stream",
       "stream": "stdout",
       "text": [
        "\n",
        "False\n"
       ]
      }
     ],
     "prompt_number": 6
    },
    {
     "cell_type": "code",
     "collapsed": false,
     "input": [
      "!ls"
     ],
     "language": "python",
     "metadata": {},
     "outputs": [
      {
       "output_type": "stream",
       "stream": "stdout",
       "text": [
        "cleaning_1  data\t\t\t\t lamprey.bib\t\t     mRNA Scaffolder.ipynb\t\t\t      petMar2.fa.masked.nsq   scripts\r\n",
        "cleaning_2  db\t\t\t\t\t Lamprey mRNAseq 2013.ipynb  ngs-5x-kmer-abundance-distributions-2013.ipynb   petMar2.fa.masked.ntm   seqcl_lamp3.fasta.dedupe.fa.log\r\n",
        "cleaning_3  err_seqcl_lamp3.fasta.dedupe.fa.log  lamprey.tex\t\t     ngs-5x-kmer-abundance-distributions-2013.ipynb~  petMar_mrna_parts.hist  Untitled0.ipynb\r\n",
        "cleaning_4  formatdb.log\t\t\t lamprey.tex~\t\t     outparts_cln.sort\t\t\t\t      plos2009.bst\r\n",
        "cleaning_5  lamp3.fasta.dedupe.fa.cidx\t\t make_links.sh\t\t     petMar2.fa.masked.nhr\t\t\t      scaffold\r\n",
        "cleaning_6  lamp3.fasta.dedupe.fa.cln\t\t make_links.sh~\t\t     petMar2.fa.masked.nin\t\t\t      scaf_graph.dot\r\n"
       ]
      }
     ],
     "prompt_number": 6
    },
    {
     "cell_type": "code",
     "collapsed": false,
     "input": [
      "%run ~/tools/khmer/scripts/partition-graph.py -T 7 -s 1e7 mrna_scaffold"
     ],
     "language": "python",
     "metadata": {},
     "outputs": [
      {
       "output_type": "stream",
       "stream": "stdout",
       "text": [
        "--\n",
        "SUBSET SIZE 10000000.0\n",
        "N THREADS 7\n",
        "--\n",
        "loading ht mrna_scaffold.ht\n",
        "** Traverse all the things: stop_big_traversals is false."
       ]
      },
      {
       "output_type": "stream",
       "stream": "stdout",
       "text": [
        "\n",
        "enqueued 1 subset tasks\n",
        "starting 1 threads\n",
        "---\n",
        "done starting threads\n",
        "starting: mrna_scaffold 0\n",
        "saving:"
       ]
      },
      {
       "output_type": "stream",
       "stream": "stdout",
       "text": [
        " mrna_scaffold 0\n",
        "exiting"
       ]
      },
      {
       "output_type": "stream",
       "stream": "stdout",
       "text": [
        "\n",
        "---\n",
        "done making subsets! see mrna_scaffold.subset.*.pmap\n"
       ]
      }
     ],
     "prompt_number": 10
    },
    {
     "cell_type": "code",
     "collapsed": false,
     "input": [
      "#%run ~/tools/khmer/scripts/merge-partitions.py mrna_scaffold"
     ],
     "language": "python",
     "metadata": {},
     "outputs": []
    },
    {
     "cell_type": "code",
     "collapsed": false,
     "input": [
      "mv mrna_scaffold.subset.0.pmap mrna_scaffold.pmap.merged"
     ],
     "language": "python",
     "metadata": {},
     "outputs": [],
     "prompt_number": 2
    },
    {
     "cell_type": "code",
     "collapsed": false,
     "input": [
      "%run ~/tools/khmer/scripts/annotate-partitions.py -k 25 mrna_scaffold /w/2013-lamprey/db/petMar2.fa.masked /w/2013-lamprey/data/lamp1.fasta"
     ],
     "language": "python",
     "metadata": {},
     "outputs": [
      {
       "output_type": "stream",
       "stream": "stdout",
       "text": [
        "loading partition map from: mrna_scaffold.pmap.merged\n",
        "outputting partitions for"
       ]
      },
      {
       "output_type": "stream",
       "stream": "stdout",
       "text": [
        " /w/2013-lamprey/db/petMar2.fa.masked\n",
        "output 13 partitions for /w/2013-lamprey/db/petMar2.fa.masked"
       ]
      },
      {
       "output_type": "stream",
       "stream": "stdout",
       "text": [
        "\n",
        "partitions are in petMar2.fa.masked.part\n",
        "outputting partitions for /w/2013-lamprey/data/lamp1.fasta\n",
        "..."
       ]
      },
      {
       "output_type": "stream",
       "stream": "stdout",
       "text": [
        " output_partitions 100000 0\n",
        "..."
       ]
      },
      {
       "output_type": "stream",
       "stream": "stdout",
       "text": [
        " output_partitions 200000 0\n",
        "output 119532 partitions for /w/2013-lamprey/data/lamp1.fasta"
       ]
      },
      {
       "output_type": "stream",
       "stream": "stdout",
       "text": [
        "\n",
        "partitions are in lamp1.fasta.part\n"
       ]
      }
     ],
     "prompt_number": 3
    },
    {
     "cell_type": "code",
     "collapsed": false,
     "input": [
      "%run ~/tools/khmer/scripts/extract-partitions.py -m 1 mrna_scaffold_extract petMar2.fa.masked.part"
     ],
     "language": "python",
     "metadata": {},
     "outputs": [
      {
       "output_type": "stream",
       "stream": "stdout",
       "text": [
        "---\n",
        "reading partitioned files: ['petMar2.fa.masked.part']\n",
        "outputting to files named \"mrna_scaffold_extract.groupN.fa\"\n",
        "min reads to keep a partition: 1\n",
        "max size of a group file: 1000000\n",
        "partition size distribution will go to mrna_scaffold_extract.dist\n",
        "---\n",
        "... 0\n",
        "0 groups\n",
        "nothing to output; exiting!\n"
       ]
      }
     ],
     "prompt_number": 8
    },
    {
     "cell_type": "code",
     "collapsed": false,
     "input": [],
     "language": "python",
     "metadata": {},
     "outputs": [
      {
       "output_type": "stream",
       "stream": "stdout",
       "text": [
        "lamp1.fasta.part  mrna_scaffold_extract.dist  mrna_scaffold.ht  mrna_scaffold.info  mrna_scaffold.pmap.merged  mrna_scaffold.tagset  petMar2.fa.masked.part\r\n"
       ]
      }
     ],
     "prompt_number": 9
    },
    {
     "cell_type": "code",
     "collapsed": false,
     "input": [],
     "language": "python",
     "metadata": {},
     "outputs": []
    }
   ],
   "metadata": {}
  }
 ]
}