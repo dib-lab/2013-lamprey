{
 "metadata": {
  "name": "",
  "signature": "sha256:3f44b3fff1a3319457ba58511150d387d5dda0e8b19311f64ab44b387ff5d8be"
 },
 "nbformat": 3,
 "nbformat_minor": 0,
 "worksheets": [
  {
   "cells": [
    {
     "cell_type": "code",
     "collapsed": false,
     "input": [
      "from IPython.display import SVG"
     ],
     "language": "python",
     "metadata": {},
     "outputs": [],
     "prompt_number": 1
    },
    {
     "cell_type": "markdown",
     "metadata": {},
     "source": [
      "# Lamprey RNA-Seq 2014\n",
      "\n",
      "## Between-sample Assembly Comparison\n",
      "\n",
      "### Camille Scott (camille.scott.w@gmail.com)\n",
      "### Michigan State University\n",
      "### GED Lab\n",
      "### https://github.com/camillescott/2013-lamprey/tree/lamp3/pub"
     ]
    },
    {
     "cell_type": "markdown",
     "metadata": {},
     "source": [
      "## Overview\n",
      "\n",
      "The primary goal of this project has been to produce a scientifically usable set of transcripts from our vast collection of RNA-seq samples. Given the lack of completeness of the current lamprey genome, we chose to assemble the reads de novo, using our in-house pipeline. The basics of the assembly pipeline can be found in the _[Eel Pond protocol](https://khmer-protocols.readthedocs.org/en/v0.8.4/mrnaseq/)_.\n",
      "\n",
      "This document goes over the content of the resulting assembly with respect to each sample used to construct it. We align every sample to the assembly, and use an abundance estimation tool to get expression levels for each transcript, for each sample. This allows us to analyze the extent to which each sample contributed to the final assembly, and the relative representation of each sample within the assembly. We consider a transcript _represented_ in a sample if it has an estimated abundance greater than 1.0 from the reads in that sample.\n",
      "\n",
      "An overview of the samples can be found [here](https://docs.google.com/spreadsheet/ccc?key=0AqkPW_VPT5rAdEdmczhDeWg4UEZWdmh4dElqeXFiUlE&usp=sharing). This is what I have been able to scrape up from various collaborators and sequencing centers; some information is definitely missing, and some samples were preprocessed before being given to me. As such, any comments on this document are greatly appreciated, whether they be corrections or offers for original versions of the data. Note that the second sheet has the key between the original sample names and the id's being used in the current project.\n",
      "\n",
      "For all plots, \"filtered\" means after the removal of known contaminants."
     ]
    },
    {
     "cell_type": "markdown",
     "metadata": {},
     "source": [
      "## Validation\n",
      "\n",
      "Briefly, we can show that the assembly is both valid and contains new information with homologies to model organisms. Here, we show:\n",
      "\n",
      "1. _**Putative new:**_ Transcripts with substantial protein homology to a model species (mouse, zebrafish, or amphioxus) or substantial nucleotide homology to the lamprey genome, but no homology with the existing lamprey transcripts or ESTs.\n",
      "        \n",
      "2. _**All pututive:**_ Transcripts which have homologies in any one of the model species, the lamprey genome, lamprey transcripts, or lamprey ESTs.\n",
      "        \n",
      "This is done for the transcripts represented in each sample.\n",
      "\n",
      "![filtered_putative_transcripts](filtered_putative_transcripts.svg)"
     ]
    },
    {
     "cell_type": "code",
     "collapsed": false,
     "input": [],
     "language": "python",
     "metadata": {},
     "outputs": []
    }
   ],
   "metadata": {}
  }
 ]
}