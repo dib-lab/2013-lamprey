{
 "metadata": {
  "name": "Untitled1"
 },
 "nbformat": 3,
 "nbformat_minor": 0,
 "worksheets": [
  {
   "cells": [
    {
     "cell_type": "code",
     "collapsed": false,
     "input": [
      "ls"
     ],
     "language": "python",
     "metadata": {},
     "outputs": [
      {
       "output_type": "stream",
       "stream": "stdout",
       "text": [
        "abund_exploration.ipynb              gen Preprocess Makefile.ipynb  Lamprey mRNAseq 2013.ipynb  mRNA Scaffolder.ipynb                           prelim_partition_sweep.ipynb  Untitled0.ipynb\r\n",
        "gen Preprocess Makefile-Copy0.ipynb  germ_dnaseq_makefile.ipynb     makePreprocMakefile.ipynb   ngs-5x-kmer-abundance-distributions-2013.ipynb  reservoir_test.ipynb          Untitled1.ipynb\r\n"
       ]
      }
     ],
     "prompt_number": 1
    },
    {
     "cell_type": "code",
     "collapsed": false,
     "input": [
      "%time !/w/khmer_dev/bin/python /w/khmer/scripts/normalize-by-median.py -k 20 -x 1e8 -C 20 /w/tag_coloring/test_reads.fq"
     ],
     "language": "python",
     "metadata": {},
     "outputs": [
      {
       "output_type": "stream",
       "stream": "stdout",
       "text": [
        "/w/khmer_dev/local/lib/python2.7/site-packages/setuptools-1.1.4-py2.7.egg/pkg_resources.py:979: UserWarning: /home/chris/.python-eggs is writable by group/others and vulnerable to attack when used with get_resource_filename. Consider a more secure location (set with .set_extraction_path or the PYTHON_EGG_CACHE environment variable).\r\n",
        "  warnings.warn(msg, UserWarning)\r\n"
       ]
      },
      {
       "output_type": "stream",
       "stream": "stdout",
       "text": [
        "\r\n",
        "PARAMETERS:\r\n",
        " - kmer size =    20 \t\t(-k)\r\n",
        " - n hashes =     4 \t\t(-N)\r\n",
        " - min hashsize = 1e+08 \t(-x)\r\n",
        " - paired = False \t\t(-p)\r\n",
        "\r\n",
        "Estimated memory usage is 4e+08 bytes             (n_hashes x min_hashsize)\r\n",
        "--------\r\n",
        "making hashtable\r\n"
       ]
      },
      {
       "output_type": "stream",
       "stream": "stdout",
       "text": [
        "... kept 96565 of 100000 or 96%\r\n",
        "... in file /w/tag_coloring/test_reads.fq\r\n"
       ]
      },
      {
       "output_type": "stream",
       "stream": "stdout",
       "text": [
        "... kept 180690 of 200000 or 90%\r\n",
        "... in file /w/tag_coloring/test_reads.fq\r\n"
       ]
      },
      {
       "output_type": "stream",
       "stream": "stdout",
       "text": [
        "... kept 266901 of 300000 or 88%\r\n",
        "... in file /w/tag_coloring/test_reads.fq\r\n"
       ]
      },
      {
       "output_type": "stream",
       "stream": "stdout",
       "text": [
        "... kept 349781 of 400000 or 87%\r\n",
        "... in file /w/tag_coloring/test_reads.fq\r\n"
       ]
      },
      {
       "output_type": "stream",
       "stream": "stdout",
       "text": [
        "... kept 429680 of 500000 or 85%\r\n",
        "... in file /w/tag_coloring/test_reads.fq\r\n"
       ]
      },
      {
       "output_type": "stream",
       "stream": "stdout",
       "text": [
        "... kept 510699 of 600000 or 85%\r\n",
        "... in file /w/tag_coloring/test_reads.fq\r\n"
       ]
      },
      {
       "output_type": "stream",
       "stream": "stdout",
       "text": [
        "... kept 583216 of 700000 or 83%\r\n",
        "... in file /w/tag_coloring/test_reads.fq\r\n"
       ]
      },
      {
       "output_type": "stream",
       "stream": "stdout",
       "text": [
        "... kept 648615 of 800000 or 81%\r\n",
        "... in file /w/tag_coloring/test_reads.fq\r\n"
       ]
      },
      {
       "output_type": "stream",
       "stream": "stdout",
       "text": [
        "... kept 728076 of 900000 or 80%\r\n",
        "... in file /w/tag_coloring/test_reads.fq\r\n"
       ]
      },
      {
       "output_type": "stream",
       "stream": "stdout",
       "text": [
        "... kept 792248 of 1000000 or 79%\r\n",
        "... in file /w/tag_coloring/test_reads.fq\r\n"
       ]
      },
      {
       "output_type": "stream",
       "stream": "stdout",
       "text": [
        "... kept 868033 of 1100000 or 78%\r\n",
        "... in file /w/tag_coloring/test_reads.fq\r\n"
       ]
      },
      {
       "output_type": "stream",
       "stream": "stdout",
       "text": [
        "... kept 943899 of 1200000 or 78%\r\n",
        "... in file /w/tag_coloring/test_reads.fq\r\n"
       ]
      },
      {
       "output_type": "stream",
       "stream": "stdout",
       "text": [
        "... kept 1018798 of 1300000 or 78%\r\n",
        "... in file /w/tag_coloring/test_reads.fq\r\n"
       ]
      },
      {
       "output_type": "stream",
       "stream": "stdout",
       "text": [
        "... kept 1093432 of 1400000 or 78%\r\n",
        "... in file /w/tag_coloring/test_reads.fq\r\n"
       ]
      },
      {
       "output_type": "stream",
       "stream": "stdout",
       "text": [
        "... kept 1166864 of 1500000 or 77%\r\n",
        "... in file /w/tag_coloring/test_reads.fq\r\n"
       ]
      },
      {
       "output_type": "stream",
       "stream": "stdout",
       "text": [
        "... kept 1234692 of 1600000 or 77%\r\n",
        "... in file /w/tag_coloring/test_reads.fq\r\n"
       ]
      },
      {
       "output_type": "stream",
       "stream": "stdout",
       "text": [
        "... kept 1301234 of 1700000 or 76%\r\n",
        "... in file /w/tag_coloring/test_reads.fq\r\n"
       ]
      },
      {
       "output_type": "stream",
       "stream": "stdout",
       "text": [
        "... kept 1366055 of 1800000 or 75%\r\n",
        "... in file /w/tag_coloring/test_reads.fq\r\n"
       ]
      },
      {
       "output_type": "stream",
       "stream": "stdout",
       "text": [
        "... kept 1429882 of 1900000 or 75%\r\n",
        "... in file /w/tag_coloring/test_reads.fq\r\n"
       ]
      },
      {
       "output_type": "stream",
       "stream": "stdout",
       "text": [
        "DONE with /w/tag_coloring/test_reads.fq; kept 1445445 of 1925000 or 75%\r\n",
        "output in test_reads.fq.keep\r\n"
       ]
      },
      {
       "output_type": "stream",
       "stream": "stdout",
       "text": [
        "fp rate estimated to be 0.005\r\n"
       ]
      },
      {
       "output_type": "stream",
       "stream": "stdout",
       "text": [
        "CPU times: user 0.13 s, sys: 0.01 s, total: 0.14 s"
       ]
      },
      {
       "output_type": "stream",
       "stream": "stdout",
       "text": [
        "\n",
        "Wall time: 49.45 s\n"
       ]
      }
     ],
     "prompt_number": 3
    },
    {
     "cell_type": "code",
     "collapsed": false,
     "input": [],
     "language": "python",
     "metadata": {},
     "outputs": []
    }
   ],
   "metadata": {}
  }
 ]
}