{
 "metadata": {
  "name": "",
  "signature": "sha256:1970135f8223ccc4474b45551b84e118910d9906227f12a6ab17526a733eb348"
 },
 "nbformat": 3,
 "nbformat_minor": 0,
 "worksheets": [
  {
   "cells": [
    {
     "cell_type": "heading",
     "level": 1,
     "metadata": {},
     "source": [
      "Lamprey Transcriptome Analysis: Gene Model Overlap Notebook"
     ]
    },
    {
     "cell_type": "markdown",
     "metadata": {},
     "source": [
      "```\n",
      "Camille Scott [camille dot scott dot w @gmail.com] [@camille_codon]\n",
      "\n",
      "camillescott.github.io\n",
      "\n",
      "Lab for Genomics, Evolution, and Development\n",
      "Michigan State University\n",
      "```"
     ]
    },
    {
     "cell_type": "heading",
     "level": 2,
     "metadata": {},
     "source": [
      "About"
     ]
    },
    {
     "cell_type": "markdown",
     "metadata": {},
     "source": [
      "Explores consensus between assembled transcripts and existing lamprey gene models, using the `gtf_to_genes` library."
     ]
    },
    {
     "cell_type": "markdown",
     "metadata": {},
     "source": [
      "    assembly version: lamp03\n",
      "\n",
      "    assembly program: Trinity\n",
      "    \n",
      "    gtf model versin: 7.0.78, at ftp://ftp.ensembl.org/pub/release-78/gtf/petromyzon_marinus/Petromyzon_marinus.Pmarinus_7.0.78.gtf.gz\n",
      "    \n",
      "There is another script in this directory called `petmar-gtf-overlap.py` which loads the database and does the `apply` function to query overlaps for each hit, as those operations take a very long time (these are a definite target for optimization)."
     ]
    },
    {
     "cell_type": "code",
     "collapsed": false,
     "input": [
      "!echo $PWD"
     ],
     "language": "python",
     "metadata": {},
     "outputs": [
      {
       "output_type": "stream",
       "stream": "stdout",
       "text": [
        "/w/lamprey/lamp3/2013-lamprey/notebooks/analyses\r\n"
       ]
      }
     ],
     "prompt_number": 1
    },
    {
     "cell_type": "heading",
     "level": 2,
     "metadata": {},
     "source": [
      "Contents"
     ]
    },
    {
     "cell_type": "markdown",
     "metadata": {},
     "source": [
      "1. [Libraries](#Libraries) \n",
      "* [Metadata](#Metadata) \n",
      "     1. [Databases](#Databases)\n",
      "     * [Samples](#Samples)\n",
      "* [Data Loading](#Data-Loading)\n",
      "* [Matplotlib RC Settings](#Matplotlib-RC-Settings)"
     ]
    },
    {
     "cell_type": "heading",
     "level": 2,
     "metadata": {},
     "source": [
      "Libraries"
     ]
    },
    {
     "cell_type": "code",
     "collapsed": true,
     "input": [
      "%load_ext autoreload\n",
      "%autoreload 2\n",
      "from petmar_common import *"
     ],
     "language": "python",
     "metadata": {
      "slideshow": {
       "slide_type": "skip"
      }
     },
     "outputs": [],
     "prompt_number": 2
    },
    {
     "cell_type": "code",
     "collapsed": false,
     "input": [
      "sns.__version__"
     ],
     "language": "python",
     "metadata": {},
     "outputs": [
      {
       "metadata": {},
       "output_type": "pyout",
       "prompt_number": 3,
       "text": [
        "'0.5.1'"
       ]
      }
     ],
     "prompt_number": 3
    },
    {
     "cell_type": "code",
     "collapsed": false,
     "input": [
      "from IPython.html.widgets import interactive, RadioButtonsWidget\n",
      "from IPython.display import display\n",
      "from IPython.html import widgets"
     ],
     "language": "python",
     "metadata": {},
     "outputs": [],
     "prompt_number": 4
    },
    {
     "cell_type": "code",
     "collapsed": false,
     "input": [
      "import gffutils"
     ],
     "language": "python",
     "metadata": {},
     "outputs": [],
     "prompt_number": 5
    },
    {
     "cell_type": "code",
     "collapsed": false,
     "input": [
      "def wdir(fn):\n",
      "    return os.path.join('../../work/', fn)"
     ],
     "language": "python",
     "metadata": {},
     "outputs": [],
     "prompt_number": 6
    },
    {
     "cell_type": "code",
     "collapsed": false,
     "input": [
      "pd.set_option('display.max_rows', 200)"
     ],
     "language": "python",
     "metadata": {},
     "outputs": [],
     "prompt_number": 7
    },
    {
     "cell_type": "code",
     "collapsed": false,
     "input": [
      "store = pd.HDFStore(wdir('{}.store.h5'.format(metadata['prefix'])), complib='zlib', complevel=9)"
     ],
     "language": "python",
     "metadata": {},
     "outputs": [],
     "prompt_number": 8
    },
    {
     "cell_type": "code",
     "collapsed": false,
     "input": [
      "prefix = metadata['prefix'] + '_'"
     ],
     "language": "python",
     "metadata": {},
     "outputs": [],
     "prompt_number": 9
    },
    {
     "cell_type": "code",
     "collapsed": false,
     "input": [
      "db_metadata = store['db_metadata']"
     ],
     "language": "python",
     "metadata": {},
     "outputs": [],
     "prompt_number": 10
    },
    {
     "cell_type": "code",
     "collapsed": false,
     "input": [
      "sample_metadata = store['sample_metadata']"
     ],
     "language": "python",
     "metadata": {},
     "outputs": [],
     "prompt_number": 11
    },
    {
     "cell_type": "code",
     "collapsed": false,
     "input": [
      "gtf_file = wdir('Petromyzon_marinus.Pmarinus_7.0.78.gtf')"
     ],
     "language": "python",
     "metadata": {},
     "outputs": [],
     "prompt_number": 12
    },
    {
     "cell_type": "heading",
     "level": 2,
     "metadata": {},
     "source": [
      "Data Loading"
     ]
    },
    {
     "cell_type": "code",
     "collapsed": false,
     "input": [
      "assem_db = screed.ScreedDB(wdir(db_metadata.fn.assembly))"
     ],
     "language": "python",
     "metadata": {},
     "outputs": [],
     "prompt_number": 13
    },
    {
     "cell_type": "code",
     "collapsed": true,
     "input": [
      "iso_rsem_df = store['iso_rsem_df']\n",
      "iso_support_df = store['iso_support_df']\n",
      "labels_df = store['labels_df']"
     ],
     "language": "python",
     "metadata": {
      "slideshow": {
       "slide_type": "skip"
      }
     },
     "outputs": [],
     "prompt_number": 14
    },
    {
     "cell_type": "code",
     "collapsed": true,
     "input": [
      "blast_panel = store['blast_panel']\n",
      "blast_df = store['blast_df']"
     ],
     "language": "python",
     "metadata": {
      "slideshow": {
       "slide_type": "skip"
      }
     },
     "outputs": [],
     "prompt_number": 15
    },
    {
     "cell_type": "code",
     "collapsed": false,
     "input": [
      "ortho_panel = store['ortho_panel']\n",
      "ortho_df = store['ortho_df']"
     ],
     "language": "python",
     "metadata": {},
     "outputs": [],
     "prompt_number": 16
    },
    {
     "cell_type": "code",
     "collapsed": false,
     "input": [
      "pM_df = store['pM_df']"
     ],
     "language": "python",
     "metadata": {},
     "outputs": [],
     "prompt_number": 17
    },
    {
     "cell_type": "heading",
     "level": 2,
     "metadata": {},
     "source": [
      "Matplotlib RC Settings"
     ]
    },
    {
     "cell_type": "code",
     "collapsed": true,
     "input": [
      "from matplotlib import rc_context\n",
      "tall_size = (12,24)\n",
      "norm_size = (18,12)\n",
      "mpl_params = {'figure.autolayout': True,\n",
      "               'axes.titlesize': 24,\n",
      "               'axes.labelsize': 16,\n",
      "               'ytick.labelsize': 14,\n",
      "               'xtick.labelsize': 14\n",
      "               }\n",
      "sns.set(style=\"white\", palette=\"muted\", rc=mpl_params)\n",
      "#sns.set_palette(\"Paired\", desat=.6)\n",
      "b, g, r, p = sns.color_palette(\"muted\", 4)"
     ],
     "language": "python",
     "metadata": {},
     "outputs": [],
     "prompt_number": 27
    },
    {
     "cell_type": "code",
     "collapsed": true,
     "input": [
      "%config InlineBackend.close_figures = False"
     ],
     "language": "python",
     "metadata": {},
     "outputs": [],
     "prompt_number": 19
    },
    {
     "cell_type": "heading",
     "level": 2,
     "metadata": {},
     "source": [
      "GFF/GTF Analysis"
     ]
    },
    {
     "cell_type": "code",
     "collapsed": false,
     "input": [
      "#gtf_db = gffutils.create_db(gtf_file, dbfn=prefix+'gtf.db', force=True, keep_order=False,\n",
      "#                            merge_strategy='merge', sort_attribute_values=False)"
     ],
     "language": "python",
     "metadata": {},
     "outputs": [],
     "prompt_number": 20
    },
    {
     "cell_type": "code",
     "collapsed": false,
     "input": [
      "gtf_db = gffutils.FeatureDB(prefix+'gtf.db')"
     ],
     "language": "python",
     "metadata": {},
     "outputs": [],
     "prompt_number": 21
    },
    {
     "cell_type": "code",
     "collapsed": false,
     "input": [
      "def listcount_f(row):\n",
      "    if type(row.gff) is list:\n",
      "        return len(row.gff)\n",
      "    return np.nan"
     ],
     "language": "python",
     "metadata": {},
     "outputs": [],
     "prompt_number": 22
    },
    {
     "cell_type": "code",
     "collapsed": false,
     "input": [
      "pM_df['f_counts'] = pM_df.apply(listcount_f, axis=1)"
     ],
     "language": "python",
     "metadata": {},
     "outputs": [],
     "prompt_number": 23
    },
    {
     "cell_type": "markdown",
     "metadata": {},
     "source": [
      "Transcripts with any alignment to the genome:"
     ]
    },
    {
     "cell_type": "code",
     "collapsed": false,
     "input": [
      "n_aligned = (np.isnan(pM_df.f_counts) == False).sum()\n",
      "print n_aligned"
     ],
     "language": "python",
     "metadata": {},
     "outputs": [
      {
       "output_type": "stream",
       "stream": "stdout",
       "text": [
        "544559\n"
       ]
      }
     ],
     "prompt_number": 24
    },
    {
     "cell_type": "markdown",
     "metadata": {},
     "source": [
      "Transcript alignments overlapping with at least one feature:"
     ]
    },
    {
     "cell_type": "code",
     "collapsed": false,
     "input": [
      "n_overlapping = (pM_df.f_counts > 0).sum()\n",
      "print n_overlapping"
     ],
     "language": "python",
     "metadata": {},
     "outputs": [
      {
       "output_type": "stream",
       "stream": "stdout",
       "text": [
        "171761\n"
       ]
      }
     ],
     "prompt_number": 33
    },
    {
     "cell_type": "code",
     "collapsed": false,
     "input": [
      "print '{:.2f}% of alignments overlap a known feature'.format(float(n_overlapping) / n_aligned * 100.0)"
     ],
     "language": "python",
     "metadata": {},
     "outputs": [
      {
       "output_type": "stream",
       "stream": "stdout",
       "text": [
        "31.54% of alignments overlap a known feature\n"
       ]
      }
     ],
     "prompt_number": 26
    },
    {
     "cell_type": "markdown",
     "metadata": {},
     "source": [
      "How many total features do transcripts overlap with?"
     ]
    },
    {
     "cell_type": "code",
     "collapsed": false,
     "input": [
      "features_dict = {}\n",
      "for f in gtf_db.featuretypes():\n",
      "    features_dict[f] = set()"
     ],
     "language": "python",
     "metadata": {},
     "outputs": [],
     "prompt_number": 58
    },
    {
     "cell_type": "code",
     "collapsed": false,
     "input": [
      "def gather_overlap_features(row, f_dict):\n",
      "    if type(row.gff) is list and len(row.gff) > 0:\n",
      "        for f_tup in row.gff:\n",
      "            f_dict[f_tup[3]].add(f_tup[0])"
     ],
     "language": "python",
     "metadata": {},
     "outputs": [],
     "prompt_number": 59
    },
    {
     "cell_type": "code",
     "collapsed": false,
     "input": [
      "_ = pM_df.apply(gather_overlap_features, axis=1, args=(features_dict,))"
     ],
     "language": "python",
     "metadata": {},
     "outputs": [],
     "prompt_number": 60
    },
    {
     "cell_type": "code",
     "collapsed": false,
     "input": [
      "for feature in features_dict:\n",
      "    f_total = gtf_db.count_features_of_type(feature)\n",
      "    f_overlap = len(features_dict[feature])\n",
      "    print '{:.2f}% of {:s} features overlapped \\t\\t({} of {})'.format(\n",
      "        float(f_overlap) / f_total * 100.0, feature, f_overlap, f_total)"
     ],
     "language": "python",
     "metadata": {},
     "outputs": [
      {
       "output_type": "stream",
       "stream": "stdout",
       "text": [
        "24.07% of start_codon features overlapped \t\t(760 of 3158)\n",
        "36.78% of UTR features overlapped \t\t(1183 of 3216)\n",
        "24.84% of exon features overlapped \t\t(26205 of 105480)\n",
        "40.64% of stop_codon features overlapped \t\t(1658 of 4080)\n",
        "24.99% of CDS features overlapped \t\t(25479 of 101975)\n",
        "73.34% of gene features overlapped \t\t(9618 of 13114)\n",
        "74.72% of transcript features overlapped \t\t(10566 of 14141)\n"
       ]
      }
     ],
     "prompt_number": 70
    },
    {
     "cell_type": "code",
     "collapsed": false,
     "input": [],
     "language": "python",
     "metadata": {},
     "outputs": []
    }
   ],
   "metadata": {}
  }
 ]
}