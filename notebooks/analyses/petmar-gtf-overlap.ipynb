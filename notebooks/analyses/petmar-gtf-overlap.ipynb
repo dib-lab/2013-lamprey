{
 "metadata": {
  "name": "",
  "signature": "sha256:e3eebd7314d9e4349f0902abc26fd54452134b96a06e2364d4fd78e2d1b4358b"
 },
 "nbformat": 3,
 "nbformat_minor": 0,
 "worksheets": [
  {
   "cells": [
    {
     "cell_type": "heading",
     "level": 1,
     "metadata": {},
     "source": [
      "Lamprey Transcriptome Analysis: Gene Model Overlap Notebook"
     ]
    },
    {
     "cell_type": "markdown",
     "metadata": {},
     "source": [
      "```\n",
      "Camille Scott [camille dot scott dot w @gmail.com] [@camille_codon]\n",
      "\n",
      "camillescott.github.io\n",
      "\n",
      "Lab for Genomics, Evolution, and Development\n",
      "Michigan State University\n",
      "```"
     ]
    },
    {
     "cell_type": "heading",
     "level": 2,
     "metadata": {},
     "source": [
      "About"
     ]
    },
    {
     "cell_type": "markdown",
     "metadata": {},
     "source": [
      "Explores consensus between assembled transcripts and existing lamprey gene models, using the `gtf_to_genes` library."
     ]
    },
    {
     "cell_type": "markdown",
     "metadata": {},
     "source": [
      "    assembly version: lamp03\n",
      "\n",
      "    assembly program: Trinity\n",
      "    \n",
      "    gtf model versin: 7.0.78, at ftp://ftp.ensembl.org/pub/release-78/gtf/petromyzon_marinus/Petromyzon_marinus.Pmarinus_7.0.78.gtf.gz\n",
      "    \n",
      "There is another script in this directory called `petmar-gtf-overlap.py` which loads the database and does the `apply` function to query overlaps for each hit, as those operations take a very long time (these are a definite target for optimization)."
     ]
    },
    {
     "cell_type": "code",
     "collapsed": false,
     "input": [
      "!echo $PWD"
     ],
     "language": "python",
     "metadata": {},
     "outputs": [
      {
       "output_type": "stream",
       "stream": "stdout",
       "text": [
        "/w/lamprey/lamp3/2013-lamprey/notebooks/analyses\r\n"
       ]
      }
     ],
     "prompt_number": 1
    },
    {
     "cell_type": "heading",
     "level": 2,
     "metadata": {},
     "source": [
      "Contents"
     ]
    },
    {
     "cell_type": "markdown",
     "metadata": {},
     "source": [
      "1. [Libraries](#Libraries) \n",
      "* [Metadata](#Metadata) \n",
      "     1. [Databases](#Databases)\n",
      "     * [Samples](#Samples)\n",
      "* [Data Loading](#Data-Loading)\n",
      "* [Matplotlib RC Settings](#Matplotlib-RC-Settings)"
     ]
    },
    {
     "cell_type": "heading",
     "level": 2,
     "metadata": {},
     "source": [
      "Libraries"
     ]
    },
    {
     "cell_type": "code",
     "collapsed": true,
     "input": [
      "%load_ext autoreload\n",
      "%autoreload 2\n",
      "from petmar_common import *"
     ],
     "language": "python",
     "metadata": {
      "slideshow": {
       "slide_type": "skip"
      }
     },
     "outputs": [],
     "prompt_number": 2
    },
    {
     "cell_type": "code",
     "collapsed": false,
     "input": [
      "sns.__version__"
     ],
     "language": "python",
     "metadata": {},
     "outputs": [
      {
       "metadata": {},
       "output_type": "pyout",
       "prompt_number": 3,
       "text": [
        "'0.5.1'"
       ]
      }
     ],
     "prompt_number": 3
    },
    {
     "cell_type": "code",
     "collapsed": false,
     "input": [
      "from IPython.html.widgets import interactive, RadioButtonsWidget\n",
      "from IPython.display import display\n",
      "from IPython.html import widgets"
     ],
     "language": "python",
     "metadata": {},
     "outputs": [],
     "prompt_number": 4
    },
    {
     "cell_type": "code",
     "collapsed": false,
     "input": [
      "import gffutils"
     ],
     "language": "python",
     "metadata": {},
     "outputs": [],
     "prompt_number": 5
    },
    {
     "cell_type": "code",
     "collapsed": false,
     "input": [
      "from peasoup import blast"
     ],
     "language": "python",
     "metadata": {},
     "outputs": [],
     "prompt_number": 158
    },
    {
     "cell_type": "code",
     "collapsed": false,
     "input": [
      "import intervaltree as itree"
     ],
     "language": "python",
     "metadata": {},
     "outputs": [],
     "prompt_number": 88
    },
    {
     "cell_type": "code",
     "collapsed": false,
     "input": [
      "def wdir(fn):\n",
      "    return os.path.join('../../work/', fn)"
     ],
     "language": "python",
     "metadata": {},
     "outputs": [],
     "prompt_number": 6
    },
    {
     "cell_type": "code",
     "collapsed": false,
     "input": [
      "pd.set_option('display.max_rows', 200)"
     ],
     "language": "python",
     "metadata": {},
     "outputs": [],
     "prompt_number": 7
    },
    {
     "cell_type": "code",
     "collapsed": false,
     "input": [
      "store = pd.HDFStore(wdir('{}.store.h5'.format(metadata['prefix'])), complib='zlib', complevel=9)"
     ],
     "language": "python",
     "metadata": {},
     "outputs": [],
     "prompt_number": 8
    },
    {
     "cell_type": "code",
     "collapsed": false,
     "input": [
      "prefix = metadata['prefix'] + '_'"
     ],
     "language": "python",
     "metadata": {},
     "outputs": [],
     "prompt_number": 9
    },
    {
     "cell_type": "code",
     "collapsed": false,
     "input": [
      "db_metadata = store['db_metadata']"
     ],
     "language": "python",
     "metadata": {},
     "outputs": [],
     "prompt_number": 10
    },
    {
     "cell_type": "code",
     "collapsed": false,
     "input": [
      "sample_metadata = store['sample_metadata']"
     ],
     "language": "python",
     "metadata": {},
     "outputs": [],
     "prompt_number": 11
    },
    {
     "cell_type": "code",
     "collapsed": false,
     "input": [
      "sample_metadata.ix[0]"
     ],
     "language": "python",
     "metadata": {},
     "outputs": [
      {
       "metadata": {},
       "output_type": "pyout",
       "prompt_number": 253,
       "text": [
        "condition                        stg18\n",
        "filename     614GMAAXX_1_1_pf.qc.fq.gz\n",
        "flowcell                         614GM\n",
        "label               embryo_stg18_614GM\n",
        "paired                           False\n",
        "tissue                          embryo\n",
        "Name: 614GMAAXX_1_1_pf, dtype: object"
       ]
      }
     ],
     "prompt_number": 253
    },
    {
     "cell_type": "code",
     "collapsed": false,
     "input": [
      "gtf_file = wdir('Petromyzon_marinus.Pmarinus_7.0.78.gtf')"
     ],
     "language": "python",
     "metadata": {},
     "outputs": [],
     "prompt_number": 12
    },
    {
     "cell_type": "heading",
     "level": 2,
     "metadata": {},
     "source": [
      "Data Loading"
     ]
    },
    {
     "cell_type": "code",
     "collapsed": false,
     "input": [
      "assem_db = screed.ScreedDB(wdir(db_metadata.fn.assembly))"
     ],
     "language": "python",
     "metadata": {},
     "outputs": [],
     "prompt_number": 13
    },
    {
     "cell_type": "code",
     "collapsed": true,
     "input": [
      "iso_rsem_df = store['iso_rsem_df']\n",
      "iso_support_df = store['iso_support_df']\n",
      "labels_df = store['labels_df']"
     ],
     "language": "python",
     "metadata": {
      "slideshow": {
       "slide_type": "skip"
      }
     },
     "outputs": [],
     "prompt_number": 14
    },
    {
     "cell_type": "code",
     "collapsed": true,
     "input": [
      "blast_panel = store['blast_panel']\n",
      "blast_df = store['blast_df']"
     ],
     "language": "python",
     "metadata": {
      "slideshow": {
       "slide_type": "skip"
      }
     },
     "outputs": [],
     "prompt_number": 15
    },
    {
     "cell_type": "code",
     "collapsed": false,
     "input": [
      "ortho_panel = store['ortho_panel']\n",
      "ortho_df = store['ortho_df']"
     ],
     "language": "python",
     "metadata": {},
     "outputs": [],
     "prompt_number": 16
    },
    {
     "cell_type": "code",
     "collapsed": false,
     "input": [
      "pM_df = store['pM_df']"
     ],
     "language": "python",
     "metadata": {},
     "outputs": [],
     "prompt_number": 17
    },
    {
     "cell_type": "code",
     "collapsed": false,
     "input": [
      "pM_blast_df = blast.blast_to_df(wdir('{}.fasta.x.{}.db.tsv'.format(metadata['prefix'], 'petMar2.fa')))"
     ],
     "language": "python",
     "metadata": {},
     "outputs": [],
     "prompt_number": 235
    },
    {
     "cell_type": "code",
     "collapsed": false,
     "input": [
      "len(pM_blast_df)"
     ],
     "language": "python",
     "metadata": {},
     "outputs": [
      {
       "metadata": {},
       "output_type": "pyout",
       "prompt_number": 236,
       "text": [
        "4587792"
       ]
      }
     ],
     "prompt_number": 236
    },
    {
     "cell_type": "heading",
     "level": 2,
     "metadata": {},
     "source": [
      "Matplotlib RC Settings"
     ]
    },
    {
     "cell_type": "code",
     "collapsed": true,
     "input": [
      "from matplotlib import rc_context\n",
      "tall_size = (12,24)\n",
      "norm_size = (18,12)\n",
      "mpl_params = {'figure.autolayout': True,\n",
      "               'axes.titlesize': 24,\n",
      "               'axes.labelsize': 16,\n",
      "               'ytick.labelsize': 14,\n",
      "               'xtick.labelsize': 14\n",
      "               }\n",
      "sns.set(style=\"white\", palette=\"muted\", rc=mpl_params)\n",
      "#sns.set_palette(\"Paired\", desat=.6)\n",
      "b, g, r, p = sns.color_palette(\"muted\", 4)"
     ],
     "language": "python",
     "metadata": {},
     "outputs": [],
     "prompt_number": 27
    },
    {
     "cell_type": "code",
     "collapsed": true,
     "input": [
      "%config InlineBackend.close_figures = False"
     ],
     "language": "python",
     "metadata": {},
     "outputs": [],
     "prompt_number": 19
    },
    {
     "cell_type": "heading",
     "level": 2,
     "metadata": {},
     "source": [
      "Interval Query Initialization"
     ]
    },
    {
     "cell_type": "markdown",
     "metadata": {},
     "source": [
      "First, load the GTF file into a DataFrame. We define a custom parser for the `attributes` column to split on semicolons and load the data into a dictionary, as these fields are non-uniform within the same file.\n",
      "\n",
      "The GTF/GFF standard is defined here: http://useast.ensembl.org/info/website/upload/gff.html?redirect=no"
     ]
    },
    {
     "cell_type": "code",
     "collapsed": false,
     "input": [
      "def attr_col_func(col):\n",
      "    d = {}\n",
      "    for item in col.strip(';').split(';'):\n",
      "        pair = item.strip().split(' ')\n",
      "        #print pair\n",
      "        d[pair[0]] = pair[1].strip('\"')\n",
      "    return d"
     ],
     "language": "python",
     "metadata": {},
     "outputs": [],
     "prompt_number": 105
    },
    {
     "cell_type": "code",
     "collapsed": false,
     "input": [
      "gtf_df = pd.read_table(gtf_file, delimiter='\\t', skiprows=4, header=False, \n",
      "                       names=['seqname', 'source', 'feature', 'start', 'end', 'score', 'strand', 'frame', 'attributes'],\n",
      "                       converters={'attributes': attr_col_func})"
     ],
     "language": "python",
     "metadata": {},
     "outputs": [],
     "prompt_number": 106
    },
    {
     "cell_type": "code",
     "collapsed": false,
     "input": [
      "gtf_df.set_index('seqname', inplace=True)"
     ],
     "language": "python",
     "metadata": {},
     "outputs": [],
     "prompt_number": 120
    },
    {
     "cell_type": "markdown",
     "metadata": {},
     "source": [
      "In order to overlap analysis with the gene models, we'll create interval trees to query against the gene models. This is a dictionary of interval trees, keyed by genome contig ID.\n",
      "\n",
      "The interval tree implementation is provided by the python `intervaltree` library: https://github.com/chaimleib/intervaltree"
     ]
    },
    {
     "cell_type": "code",
     "collapsed": false,
     "input": [
      "interval_db = {}"
     ],
     "language": "python",
     "metadata": {},
     "outputs": [],
     "prompt_number": 262
    },
    {
     "cell_type": "code",
     "collapsed": false,
     "input": [
      "for n, (key, row) in enumerate(gtf_df.iterrows()):\n",
      "    if key not in interval_db:\n",
      "        interval_db[key] = itree.IntervalTree()\n",
      "    start = row.start\n",
      "    end = row.end + 1\n",
      "    interval_db[key][start:end] = n"
     ],
     "language": "python",
     "metadata": {},
     "outputs": [],
     "prompt_number": 263
    },
    {
     "cell_type": "markdown",
     "metadata": {},
     "source": [
      "Given a genome contig and a range, get the appropriate interval tree and find overlapping intervals. Return the DataFrame indices for matching features."
     ]
    },
    {
     "cell_type": "code",
     "collapsed": false,
     "input": [
      "def get_overlap_rows(seqname, start, end, db=interval_db):\n",
      "    try:\n",
      "        tree = db[seqname]\n",
      "    except Exception as e:\n",
      "        #print >>sys.stderr, 'No interval tree for sequence', seqname, e\n",
      "        return []\n",
      "    rows = [item.data for item in tree[start:end]]\n",
      "    return rows"
     ],
     "language": "python",
     "metadata": {},
     "outputs": [],
     "prompt_number": 264
    },
    {
     "cell_type": "code",
     "collapsed": false,
     "input": [
      "pM_blast_df['features'] = None"
     ],
     "language": "python",
     "metadata": {},
     "outputs": [],
     "prompt_number": 265
    },
    {
     "cell_type": "code",
     "collapsed": false,
     "input": [
      "block_size = 10000\n",
      "for block_start in range(0,len(pM_blast_df), block_size):\n",
      "    print 'row {}...'.format(block_start)\n",
      "    pM_blast_df.ix[block_start:block_start+block_size, 'features'] = \\\n",
      "        pM_blast_df.ix[block_start:block_start+block_size].apply(\n",
      "        lambda row: get_overlap_rows(row.sseqid, row.sstart, row.send), axis=1)"
     ],
     "language": "python",
     "metadata": {},
     "outputs": [
      {
       "output_type": "stream",
       "stream": "stdout",
       "text": [
        "row 0...\n",
        "row 10000..."
       ]
      },
      {
       "output_type": "stream",
       "stream": "stdout",
       "text": [
        "\n",
        "row 20000..."
       ]
      },
      {
       "output_type": "stream",
       "stream": "stdout",
       "text": [
        "\n",
        "row 30000..."
       ]
      },
      {
       "output_type": "stream",
       "stream": "stdout",
       "text": [
        "\n",
        "row 40000..."
       ]
      },
      {
       "output_type": "stream",
       "stream": "stdout",
       "text": [
        "\n",
        "row 50000..."
       ]
      },
      {
       "output_type": "stream",
       "stream": "stdout",
       "text": [
        "\n",
        "row 60000..."
       ]
      },
      {
       "output_type": "stream",
       "stream": "stdout",
       "text": [
        "\n",
        "row 70000..."
       ]
      },
      {
       "output_type": "stream",
       "stream": "stdout",
       "text": [
        "\n",
        "row 80000..."
       ]
      },
      {
       "output_type": "stream",
       "stream": "stdout",
       "text": [
        "\n",
        "row 90000..."
       ]
      },
      {
       "output_type": "stream",
       "stream": "stdout",
       "text": [
        "\n",
        "row 100000..."
       ]
      },
      {
       "output_type": "stream",
       "stream": "stdout",
       "text": [
        "\n",
        "row 110000..."
       ]
      },
      {
       "output_type": "stream",
       "stream": "stdout",
       "text": [
        "\n",
        "row 120000..."
       ]
      },
      {
       "output_type": "stream",
       "stream": "stdout",
       "text": [
        "\n",
        "row 130000..."
       ]
      },
      {
       "output_type": "stream",
       "stream": "stdout",
       "text": [
        "\n",
        "row 140000..."
       ]
      },
      {
       "output_type": "stream",
       "stream": "stdout",
       "text": [
        "\n",
        "row 150000..."
       ]
      },
      {
       "output_type": "stream",
       "stream": "stdout",
       "text": [
        "\n",
        "row 160000..."
       ]
      },
      {
       "output_type": "stream",
       "stream": "stdout",
       "text": [
        "\n",
        "row 170000..."
       ]
      },
      {
       "output_type": "stream",
       "stream": "stdout",
       "text": [
        "\n",
        "row 180000..."
       ]
      },
      {
       "output_type": "stream",
       "stream": "stdout",
       "text": [
        "\n",
        "row 190000..."
       ]
      },
      {
       "output_type": "stream",
       "stream": "stdout",
       "text": [
        "\n",
        "row 200000..."
       ]
      },
      {
       "output_type": "stream",
       "stream": "stdout",
       "text": [
        "\n",
        "row 210000..."
       ]
      },
      {
       "output_type": "stream",
       "stream": "stdout",
       "text": [
        "\n",
        "row 220000..."
       ]
      },
      {
       "output_type": "stream",
       "stream": "stdout",
       "text": [
        "\n",
        "row 230000..."
       ]
      },
      {
       "output_type": "stream",
       "stream": "stdout",
       "text": [
        "\n",
        "row 240000..."
       ]
      },
      {
       "output_type": "stream",
       "stream": "stdout",
       "text": [
        "\n",
        "row 250000..."
       ]
      },
      {
       "output_type": "stream",
       "stream": "stdout",
       "text": [
        "\n",
        "row 260000..."
       ]
      },
      {
       "output_type": "stream",
       "stream": "stdout",
       "text": [
        "\n",
        "row 270000..."
       ]
      },
      {
       "output_type": "stream",
       "stream": "stdout",
       "text": [
        "\n",
        "row 280000..."
       ]
      },
      {
       "output_type": "stream",
       "stream": "stdout",
       "text": [
        "\n",
        "row 290000..."
       ]
      },
      {
       "output_type": "stream",
       "stream": "stdout",
       "text": [
        "\n",
        "row 300000..."
       ]
      },
      {
       "output_type": "stream",
       "stream": "stdout",
       "text": [
        "\n",
        "row 310000..."
       ]
      },
      {
       "output_type": "stream",
       "stream": "stdout",
       "text": [
        "\n",
        "row 320000..."
       ]
      },
      {
       "output_type": "stream",
       "stream": "stdout",
       "text": [
        "\n",
        "row 330000..."
       ]
      },
      {
       "output_type": "stream",
       "stream": "stdout",
       "text": [
        "\n",
        "row 340000..."
       ]
      },
      {
       "output_type": "stream",
       "stream": "stdout",
       "text": [
        "\n",
        "row 350000..."
       ]
      },
      {
       "output_type": "stream",
       "stream": "stdout",
       "text": [
        "\n",
        "row 360000..."
       ]
      },
      {
       "output_type": "stream",
       "stream": "stdout",
       "text": [
        "\n",
        "row 370000..."
       ]
      },
      {
       "output_type": "stream",
       "stream": "stdout",
       "text": [
        "\n",
        "row 380000..."
       ]
      },
      {
       "output_type": "stream",
       "stream": "stdout",
       "text": [
        "\n",
        "row 390000..."
       ]
      },
      {
       "output_type": "stream",
       "stream": "stdout",
       "text": [
        "\n",
        "row 400000..."
       ]
      },
      {
       "output_type": "stream",
       "stream": "stdout",
       "text": [
        "\n",
        "row 410000..."
       ]
      },
      {
       "output_type": "stream",
       "stream": "stdout",
       "text": [
        "\n",
        "row 420000..."
       ]
      },
      {
       "output_type": "stream",
       "stream": "stdout",
       "text": [
        "\n",
        "row 430000..."
       ]
      },
      {
       "output_type": "stream",
       "stream": "stdout",
       "text": [
        "\n",
        "row 440000..."
       ]
      },
      {
       "output_type": "stream",
       "stream": "stdout",
       "text": [
        "\n",
        "row 450000..."
       ]
      },
      {
       "output_type": "stream",
       "stream": "stdout",
       "text": [
        "\n",
        "row 460000..."
       ]
      },
      {
       "output_type": "stream",
       "stream": "stdout",
       "text": [
        "\n",
        "row 470000..."
       ]
      },
      {
       "output_type": "stream",
       "stream": "stdout",
       "text": [
        "\n",
        "row 480000..."
       ]
      },
      {
       "output_type": "stream",
       "stream": "stdout",
       "text": [
        "\n",
        "row 490000..."
       ]
      },
      {
       "output_type": "stream",
       "stream": "stdout",
       "text": [
        "\n",
        "row 500000..."
       ]
      },
      {
       "output_type": "stream",
       "stream": "stdout",
       "text": [
        "\n",
        "row 510000..."
       ]
      },
      {
       "output_type": "stream",
       "stream": "stdout",
       "text": [
        "\n",
        "row 520000..."
       ]
      },
      {
       "output_type": "stream",
       "stream": "stdout",
       "text": [
        "\n",
        "row 530000..."
       ]
      },
      {
       "output_type": "stream",
       "stream": "stdout",
       "text": [
        "\n",
        "row 540000..."
       ]
      },
      {
       "output_type": "stream",
       "stream": "stdout",
       "text": [
        "\n",
        "row 550000..."
       ]
      },
      {
       "output_type": "stream",
       "stream": "stdout",
       "text": [
        "\n",
        "row 560000..."
       ]
      },
      {
       "output_type": "stream",
       "stream": "stdout",
       "text": [
        "\n",
        "row 570000..."
       ]
      },
      {
       "output_type": "stream",
       "stream": "stdout",
       "text": [
        "\n",
        "row 580000..."
       ]
      },
      {
       "output_type": "stream",
       "stream": "stdout",
       "text": [
        "\n",
        "row 590000..."
       ]
      },
      {
       "output_type": "stream",
       "stream": "stdout",
       "text": [
        "\n",
        "row 600000..."
       ]
      },
      {
       "output_type": "stream",
       "stream": "stdout",
       "text": [
        "\n",
        "row 610000..."
       ]
      },
      {
       "output_type": "stream",
       "stream": "stdout",
       "text": [
        "\n",
        "row 620000..."
       ]
      },
      {
       "output_type": "stream",
       "stream": "stdout",
       "text": [
        "\n",
        "row 630000..."
       ]
      },
      {
       "output_type": "stream",
       "stream": "stdout",
       "text": [
        "\n",
        "row 640000..."
       ]
      },
      {
       "output_type": "stream",
       "stream": "stdout",
       "text": [
        "\n",
        "row 650000..."
       ]
      },
      {
       "output_type": "stream",
       "stream": "stdout",
       "text": [
        "\n",
        "row 660000..."
       ]
      },
      {
       "output_type": "stream",
       "stream": "stdout",
       "text": [
        "\n",
        "row 670000..."
       ]
      },
      {
       "output_type": "stream",
       "stream": "stdout",
       "text": [
        "\n",
        "row 680000..."
       ]
      },
      {
       "output_type": "stream",
       "stream": "stdout",
       "text": [
        "\n",
        "row 690000..."
       ]
      },
      {
       "output_type": "stream",
       "stream": "stdout",
       "text": [
        "\n",
        "row 700000..."
       ]
      },
      {
       "output_type": "stream",
       "stream": "stdout",
       "text": [
        "\n",
        "row 710000..."
       ]
      },
      {
       "output_type": "stream",
       "stream": "stdout",
       "text": [
        "\n",
        "row 720000..."
       ]
      },
      {
       "output_type": "stream",
       "stream": "stdout",
       "text": [
        "\n",
        "row 730000..."
       ]
      },
      {
       "output_type": "stream",
       "stream": "stdout",
       "text": [
        "\n",
        "row 740000..."
       ]
      },
      {
       "output_type": "stream",
       "stream": "stdout",
       "text": [
        "\n",
        "row 750000..."
       ]
      },
      {
       "output_type": "stream",
       "stream": "stdout",
       "text": [
        "\n",
        "row 760000..."
       ]
      },
      {
       "output_type": "stream",
       "stream": "stdout",
       "text": [
        "\n",
        "row 770000..."
       ]
      },
      {
       "output_type": "stream",
       "stream": "stdout",
       "text": [
        "\n",
        "row 780000..."
       ]
      },
      {
       "output_type": "stream",
       "stream": "stdout",
       "text": [
        "\n",
        "row 790000..."
       ]
      },
      {
       "output_type": "stream",
       "stream": "stdout",
       "text": [
        "\n",
        "row 800000..."
       ]
      },
      {
       "output_type": "stream",
       "stream": "stdout",
       "text": [
        "\n",
        "row 810000..."
       ]
      },
      {
       "output_type": "stream",
       "stream": "stdout",
       "text": [
        "\n",
        "row 820000..."
       ]
      },
      {
       "output_type": "stream",
       "stream": "stdout",
       "text": [
        "\n",
        "row 830000..."
       ]
      },
      {
       "output_type": "stream",
       "stream": "stdout",
       "text": [
        "\n",
        "row 840000..."
       ]
      },
      {
       "output_type": "stream",
       "stream": "stdout",
       "text": [
        "\n",
        "row 850000..."
       ]
      },
      {
       "output_type": "stream",
       "stream": "stdout",
       "text": [
        "\n",
        "row 860000..."
       ]
      },
      {
       "output_type": "stream",
       "stream": "stdout",
       "text": [
        "\n",
        "row 870000..."
       ]
      },
      {
       "output_type": "stream",
       "stream": "stdout",
       "text": [
        "\n",
        "row 880000..."
       ]
      },
      {
       "output_type": "stream",
       "stream": "stdout",
       "text": [
        "\n",
        "row 890000..."
       ]
      },
      {
       "output_type": "stream",
       "stream": "stdout",
       "text": [
        "\n",
        "row 900000..."
       ]
      },
      {
       "output_type": "stream",
       "stream": "stdout",
       "text": [
        "\n",
        "row 910000..."
       ]
      },
      {
       "output_type": "stream",
       "stream": "stdout",
       "text": [
        "\n",
        "row 920000..."
       ]
      },
      {
       "output_type": "stream",
       "stream": "stdout",
       "text": [
        "\n",
        "row 930000..."
       ]
      },
      {
       "output_type": "stream",
       "stream": "stdout",
       "text": [
        "\n",
        "row 940000..."
       ]
      },
      {
       "output_type": "stream",
       "stream": "stdout",
       "text": [
        "\n",
        "row 950000..."
       ]
      },
      {
       "output_type": "stream",
       "stream": "stdout",
       "text": [
        "\n",
        "row 960000..."
       ]
      },
      {
       "output_type": "stream",
       "stream": "stdout",
       "text": [
        "\n",
        "row 970000..."
       ]
      },
      {
       "output_type": "stream",
       "stream": "stdout",
       "text": [
        "\n",
        "row 980000..."
       ]
      },
      {
       "output_type": "stream",
       "stream": "stdout",
       "text": [
        "\n",
        "row 990000..."
       ]
      },
      {
       "output_type": "stream",
       "stream": "stdout",
       "text": [
        "\n",
        "row 1000000..."
       ]
      },
      {
       "output_type": "stream",
       "stream": "stdout",
       "text": [
        "\n",
        "row 1010000..."
       ]
      },
      {
       "output_type": "stream",
       "stream": "stdout",
       "text": [
        "\n",
        "row 1020000..."
       ]
      },
      {
       "output_type": "stream",
       "stream": "stdout",
       "text": [
        "\n",
        "row 1030000..."
       ]
      },
      {
       "output_type": "stream",
       "stream": "stdout",
       "text": [
        "\n",
        "row 1040000..."
       ]
      },
      {
       "output_type": "stream",
       "stream": "stdout",
       "text": [
        "\n",
        "row 1050000..."
       ]
      },
      {
       "output_type": "stream",
       "stream": "stdout",
       "text": [
        "\n",
        "row 1060000..."
       ]
      },
      {
       "output_type": "stream",
       "stream": "stdout",
       "text": [
        "\n",
        "row 1070000..."
       ]
      },
      {
       "output_type": "stream",
       "stream": "stdout",
       "text": [
        "\n",
        "row 1080000..."
       ]
      },
      {
       "output_type": "stream",
       "stream": "stdout",
       "text": [
        "\n",
        "row 1090000..."
       ]
      },
      {
       "output_type": "stream",
       "stream": "stdout",
       "text": [
        "\n",
        "row 1100000..."
       ]
      },
      {
       "output_type": "stream",
       "stream": "stdout",
       "text": [
        "\n",
        "row 1110000..."
       ]
      },
      {
       "output_type": "stream",
       "stream": "stdout",
       "text": [
        "\n",
        "row 1120000..."
       ]
      },
      {
       "output_type": "stream",
       "stream": "stdout",
       "text": [
        "\n",
        "row 1130000..."
       ]
      },
      {
       "output_type": "stream",
       "stream": "stdout",
       "text": [
        "\n",
        "row 1140000..."
       ]
      },
      {
       "output_type": "stream",
       "stream": "stdout",
       "text": [
        "\n",
        "row 1150000..."
       ]
      },
      {
       "output_type": "stream",
       "stream": "stdout",
       "text": [
        "\n",
        "row 1160000..."
       ]
      },
      {
       "output_type": "stream",
       "stream": "stdout",
       "text": [
        "\n",
        "row 1170000..."
       ]
      },
      {
       "output_type": "stream",
       "stream": "stdout",
       "text": [
        "\n",
        "row 1180000..."
       ]
      },
      {
       "output_type": "stream",
       "stream": "stdout",
       "text": [
        "\n",
        "row 1190000..."
       ]
      },
      {
       "output_type": "stream",
       "stream": "stdout",
       "text": [
        "\n",
        "row 1200000..."
       ]
      },
      {
       "output_type": "stream",
       "stream": "stdout",
       "text": [
        "\n",
        "row 1210000..."
       ]
      },
      {
       "output_type": "stream",
       "stream": "stdout",
       "text": [
        "\n",
        "row 1220000..."
       ]
      },
      {
       "output_type": "stream",
       "stream": "stdout",
       "text": [
        "\n",
        "row 1230000..."
       ]
      },
      {
       "output_type": "stream",
       "stream": "stdout",
       "text": [
        "\n",
        "row 1240000..."
       ]
      },
      {
       "output_type": "stream",
       "stream": "stdout",
       "text": [
        "\n",
        "row 1250000..."
       ]
      },
      {
       "output_type": "stream",
       "stream": "stdout",
       "text": [
        "\n",
        "row 1260000..."
       ]
      },
      {
       "output_type": "stream",
       "stream": "stdout",
       "text": [
        "\n",
        "row 1270000..."
       ]
      },
      {
       "output_type": "stream",
       "stream": "stdout",
       "text": [
        "\n",
        "row 1280000..."
       ]
      },
      {
       "output_type": "stream",
       "stream": "stdout",
       "text": [
        "\n",
        "row 1290000..."
       ]
      },
      {
       "output_type": "stream",
       "stream": "stdout",
       "text": [
        "\n",
        "row 1300000..."
       ]
      },
      {
       "output_type": "stream",
       "stream": "stdout",
       "text": [
        "\n",
        "row 1310000..."
       ]
      },
      {
       "output_type": "stream",
       "stream": "stdout",
       "text": [
        "\n",
        "row 1320000..."
       ]
      },
      {
       "output_type": "stream",
       "stream": "stdout",
       "text": [
        "\n",
        "row 1330000..."
       ]
      },
      {
       "output_type": "stream",
       "stream": "stdout",
       "text": [
        "\n",
        "row 1340000..."
       ]
      },
      {
       "output_type": "stream",
       "stream": "stdout",
       "text": [
        "\n",
        "row 1350000..."
       ]
      },
      {
       "output_type": "stream",
       "stream": "stdout",
       "text": [
        "\n",
        "row 1360000..."
       ]
      },
      {
       "output_type": "stream",
       "stream": "stdout",
       "text": [
        "\n",
        "row 1370000..."
       ]
      },
      {
       "output_type": "stream",
       "stream": "stdout",
       "text": [
        "\n",
        "row 1380000..."
       ]
      },
      {
       "output_type": "stream",
       "stream": "stdout",
       "text": [
        "\n",
        "row 1390000..."
       ]
      },
      {
       "output_type": "stream",
       "stream": "stdout",
       "text": [
        "\n",
        "row 1400000..."
       ]
      },
      {
       "output_type": "stream",
       "stream": "stdout",
       "text": [
        "\n",
        "row 1410000..."
       ]
      },
      {
       "output_type": "stream",
       "stream": "stdout",
       "text": [
        "\n",
        "row 1420000..."
       ]
      },
      {
       "output_type": "stream",
       "stream": "stdout",
       "text": [
        "\n",
        "row 1430000..."
       ]
      },
      {
       "output_type": "stream",
       "stream": "stdout",
       "text": [
        "\n",
        "row 1440000..."
       ]
      },
      {
       "output_type": "stream",
       "stream": "stdout",
       "text": [
        "\n",
        "row 1450000..."
       ]
      },
      {
       "output_type": "stream",
       "stream": "stdout",
       "text": [
        "\n",
        "row 1460000..."
       ]
      },
      {
       "output_type": "stream",
       "stream": "stdout",
       "text": [
        "\n",
        "row 1470000..."
       ]
      },
      {
       "output_type": "stream",
       "stream": "stdout",
       "text": [
        "\n",
        "row 1480000..."
       ]
      },
      {
       "output_type": "stream",
       "stream": "stdout",
       "text": [
        "\n",
        "row 1490000..."
       ]
      },
      {
       "output_type": "stream",
       "stream": "stdout",
       "text": [
        "\n",
        "row 1500000..."
       ]
      },
      {
       "output_type": "stream",
       "stream": "stdout",
       "text": [
        "\n",
        "row 1510000..."
       ]
      },
      {
       "output_type": "stream",
       "stream": "stdout",
       "text": [
        "\n",
        "row 1520000..."
       ]
      },
      {
       "output_type": "stream",
       "stream": "stdout",
       "text": [
        "\n",
        "row 1530000..."
       ]
      },
      {
       "output_type": "stream",
       "stream": "stdout",
       "text": [
        "\n",
        "row 1540000..."
       ]
      },
      {
       "output_type": "stream",
       "stream": "stdout",
       "text": [
        "\n",
        "row 1550000..."
       ]
      },
      {
       "output_type": "stream",
       "stream": "stdout",
       "text": [
        "\n",
        "row 1560000..."
       ]
      },
      {
       "output_type": "stream",
       "stream": "stdout",
       "text": [
        "\n",
        "row 1570000..."
       ]
      },
      {
       "output_type": "stream",
       "stream": "stdout",
       "text": [
        "\n",
        "row 1580000..."
       ]
      },
      {
       "output_type": "stream",
       "stream": "stdout",
       "text": [
        "\n",
        "row 1590000..."
       ]
      },
      {
       "output_type": "stream",
       "stream": "stdout",
       "text": [
        "\n",
        "row 1600000..."
       ]
      },
      {
       "output_type": "stream",
       "stream": "stdout",
       "text": [
        "\n",
        "row 1610000..."
       ]
      },
      {
       "output_type": "stream",
       "stream": "stdout",
       "text": [
        "\n",
        "row 1620000..."
       ]
      },
      {
       "output_type": "stream",
       "stream": "stdout",
       "text": [
        "\n",
        "row 1630000..."
       ]
      },
      {
       "output_type": "stream",
       "stream": "stdout",
       "text": [
        "\n",
        "row 1640000..."
       ]
      },
      {
       "output_type": "stream",
       "stream": "stdout",
       "text": [
        "\n",
        "row 1650000..."
       ]
      },
      {
       "output_type": "stream",
       "stream": "stdout",
       "text": [
        "\n",
        "row 1660000..."
       ]
      },
      {
       "output_type": "stream",
       "stream": "stdout",
       "text": [
        "\n",
        "row 1670000..."
       ]
      },
      {
       "output_type": "stream",
       "stream": "stdout",
       "text": [
        "\n",
        "row 1680000..."
       ]
      },
      {
       "output_type": "stream",
       "stream": "stdout",
       "text": [
        "\n",
        "row 1690000..."
       ]
      },
      {
       "output_type": "stream",
       "stream": "stdout",
       "text": [
        "\n",
        "row 1700000..."
       ]
      },
      {
       "output_type": "stream",
       "stream": "stdout",
       "text": [
        "\n",
        "row 1710000..."
       ]
      },
      {
       "output_type": "stream",
       "stream": "stdout",
       "text": [
        "\n",
        "row 1720000..."
       ]
      },
      {
       "output_type": "stream",
       "stream": "stdout",
       "text": [
        "\n",
        "row 1730000..."
       ]
      },
      {
       "output_type": "stream",
       "stream": "stdout",
       "text": [
        "\n",
        "row 1740000..."
       ]
      },
      {
       "output_type": "stream",
       "stream": "stdout",
       "text": [
        "\n",
        "row 1750000..."
       ]
      },
      {
       "output_type": "stream",
       "stream": "stdout",
       "text": [
        "\n",
        "row 1760000..."
       ]
      },
      {
       "output_type": "stream",
       "stream": "stdout",
       "text": [
        "\n",
        "row 1770000..."
       ]
      },
      {
       "output_type": "stream",
       "stream": "stdout",
       "text": [
        "\n",
        "row 1780000..."
       ]
      },
      {
       "output_type": "stream",
       "stream": "stdout",
       "text": [
        "\n",
        "row 1790000..."
       ]
      },
      {
       "output_type": "stream",
       "stream": "stdout",
       "text": [
        "\n",
        "row 1800000..."
       ]
      },
      {
       "output_type": "stream",
       "stream": "stdout",
       "text": [
        "\n",
        "row 1810000..."
       ]
      },
      {
       "output_type": "stream",
       "stream": "stdout",
       "text": [
        "\n",
        "row 1820000..."
       ]
      },
      {
       "output_type": "stream",
       "stream": "stdout",
       "text": [
        "\n",
        "row 1830000..."
       ]
      },
      {
       "output_type": "stream",
       "stream": "stdout",
       "text": [
        "\n",
        "row 1840000..."
       ]
      },
      {
       "output_type": "stream",
       "stream": "stdout",
       "text": [
        "\n",
        "row 1850000..."
       ]
      },
      {
       "output_type": "stream",
       "stream": "stdout",
       "text": [
        "\n",
        "row 1860000..."
       ]
      },
      {
       "output_type": "stream",
       "stream": "stdout",
       "text": [
        "\n",
        "row 1870000..."
       ]
      },
      {
       "output_type": "stream",
       "stream": "stdout",
       "text": [
        "\n",
        "row 1880000..."
       ]
      },
      {
       "output_type": "stream",
       "stream": "stdout",
       "text": [
        "\n",
        "row 1890000..."
       ]
      },
      {
       "output_type": "stream",
       "stream": "stdout",
       "text": [
        "\n",
        "row 1900000..."
       ]
      },
      {
       "output_type": "stream",
       "stream": "stdout",
       "text": [
        "\n",
        "row 1910000..."
       ]
      },
      {
       "output_type": "stream",
       "stream": "stdout",
       "text": [
        "\n",
        "row 1920000..."
       ]
      },
      {
       "output_type": "stream",
       "stream": "stdout",
       "text": [
        "\n",
        "row 1930000..."
       ]
      },
      {
       "output_type": "stream",
       "stream": "stdout",
       "text": [
        "\n",
        "row 1940000..."
       ]
      },
      {
       "output_type": "stream",
       "stream": "stdout",
       "text": [
        "\n",
        "row 1950000..."
       ]
      },
      {
       "output_type": "stream",
       "stream": "stdout",
       "text": [
        "\n",
        "row 1960000..."
       ]
      },
      {
       "output_type": "stream",
       "stream": "stdout",
       "text": [
        "\n",
        "row 1970000..."
       ]
      },
      {
       "output_type": "stream",
       "stream": "stdout",
       "text": [
        "\n",
        "row 1980000..."
       ]
      },
      {
       "output_type": "stream",
       "stream": "stdout",
       "text": [
        "\n",
        "row 1990000..."
       ]
      },
      {
       "output_type": "stream",
       "stream": "stdout",
       "text": [
        "\n",
        "row 2000000..."
       ]
      },
      {
       "output_type": "stream",
       "stream": "stdout",
       "text": [
        "\n",
        "row 2010000..."
       ]
      },
      {
       "output_type": "stream",
       "stream": "stdout",
       "text": [
        "\n",
        "row 2020000..."
       ]
      },
      {
       "output_type": "stream",
       "stream": "stdout",
       "text": [
        "\n",
        "row 2030000..."
       ]
      },
      {
       "output_type": "stream",
       "stream": "stdout",
       "text": [
        "\n",
        "row 2040000..."
       ]
      },
      {
       "output_type": "stream",
       "stream": "stdout",
       "text": [
        "\n",
        "row 2050000..."
       ]
      },
      {
       "output_type": "stream",
       "stream": "stdout",
       "text": [
        "\n",
        "row 2060000..."
       ]
      },
      {
       "output_type": "stream",
       "stream": "stdout",
       "text": [
        "\n",
        "row 2070000..."
       ]
      },
      {
       "output_type": "stream",
       "stream": "stdout",
       "text": [
        "\n",
        "row 2080000..."
       ]
      },
      {
       "output_type": "stream",
       "stream": "stdout",
       "text": [
        "\n",
        "row 2090000..."
       ]
      },
      {
       "output_type": "stream",
       "stream": "stdout",
       "text": [
        "\n",
        "row 2100000..."
       ]
      },
      {
       "output_type": "stream",
       "stream": "stdout",
       "text": [
        "\n",
        "row 2110000..."
       ]
      },
      {
       "output_type": "stream",
       "stream": "stdout",
       "text": [
        "\n",
        "row 2120000..."
       ]
      },
      {
       "output_type": "stream",
       "stream": "stdout",
       "text": [
        "\n",
        "row 2130000..."
       ]
      },
      {
       "output_type": "stream",
       "stream": "stdout",
       "text": [
        "\n",
        "row 2140000..."
       ]
      },
      {
       "output_type": "stream",
       "stream": "stdout",
       "text": [
        "\n",
        "row 2150000..."
       ]
      },
      {
       "output_type": "stream",
       "stream": "stdout",
       "text": [
        "\n",
        "row 2160000..."
       ]
      },
      {
       "output_type": "stream",
       "stream": "stdout",
       "text": [
        "\n",
        "row 2170000..."
       ]
      },
      {
       "output_type": "stream",
       "stream": "stdout",
       "text": [
        "\n",
        "row 2180000..."
       ]
      },
      {
       "output_type": "stream",
       "stream": "stdout",
       "text": [
        "\n",
        "row 2190000..."
       ]
      },
      {
       "output_type": "stream",
       "stream": "stdout",
       "text": [
        "\n",
        "row 2200000..."
       ]
      },
      {
       "output_type": "stream",
       "stream": "stdout",
       "text": [
        "\n",
        "row 2210000..."
       ]
      },
      {
       "output_type": "stream",
       "stream": "stdout",
       "text": [
        "\n",
        "row 2220000..."
       ]
      },
      {
       "output_type": "stream",
       "stream": "stdout",
       "text": [
        "\n",
        "row 2230000..."
       ]
      },
      {
       "output_type": "stream",
       "stream": "stdout",
       "text": [
        "\n",
        "row 2240000..."
       ]
      },
      {
       "output_type": "stream",
       "stream": "stdout",
       "text": [
        "\n",
        "row 2250000..."
       ]
      },
      {
       "output_type": "stream",
       "stream": "stdout",
       "text": [
        "\n",
        "row 2260000..."
       ]
      },
      {
       "output_type": "stream",
       "stream": "stdout",
       "text": [
        "\n",
        "row 2270000..."
       ]
      },
      {
       "output_type": "stream",
       "stream": "stdout",
       "text": [
        "\n",
        "row 2280000..."
       ]
      },
      {
       "output_type": "stream",
       "stream": "stdout",
       "text": [
        "\n",
        "row 2290000..."
       ]
      },
      {
       "output_type": "stream",
       "stream": "stdout",
       "text": [
        "\n",
        "row 2300000..."
       ]
      },
      {
       "output_type": "stream",
       "stream": "stdout",
       "text": [
        "\n",
        "row 2310000..."
       ]
      },
      {
       "output_type": "stream",
       "stream": "stdout",
       "text": [
        "\n",
        "row 2320000..."
       ]
      },
      {
       "output_type": "stream",
       "stream": "stdout",
       "text": [
        "\n",
        "row 2330000..."
       ]
      },
      {
       "output_type": "stream",
       "stream": "stdout",
       "text": [
        "\n",
        "row 2340000..."
       ]
      },
      {
       "output_type": "stream",
       "stream": "stdout",
       "text": [
        "\n",
        "row 2350000..."
       ]
      },
      {
       "output_type": "stream",
       "stream": "stdout",
       "text": [
        "\n",
        "row 2360000..."
       ]
      },
      {
       "output_type": "stream",
       "stream": "stdout",
       "text": [
        "\n",
        "row 2370000..."
       ]
      },
      {
       "output_type": "stream",
       "stream": "stdout",
       "text": [
        "\n",
        "row 2380000..."
       ]
      },
      {
       "output_type": "stream",
       "stream": "stdout",
       "text": [
        "\n",
        "row 2390000..."
       ]
      },
      {
       "output_type": "stream",
       "stream": "stdout",
       "text": [
        "\n",
        "row 2400000..."
       ]
      },
      {
       "output_type": "stream",
       "stream": "stdout",
       "text": [
        "\n",
        "row 2410000..."
       ]
      },
      {
       "output_type": "stream",
       "stream": "stdout",
       "text": [
        "\n",
        "row 2420000..."
       ]
      },
      {
       "output_type": "stream",
       "stream": "stdout",
       "text": [
        "\n",
        "row 2430000..."
       ]
      },
      {
       "output_type": "stream",
       "stream": "stdout",
       "text": [
        "\n",
        "row 2440000..."
       ]
      },
      {
       "output_type": "stream",
       "stream": "stdout",
       "text": [
        "\n",
        "row 2450000..."
       ]
      },
      {
       "output_type": "stream",
       "stream": "stdout",
       "text": [
        "\n",
        "row 2460000..."
       ]
      },
      {
       "output_type": "stream",
       "stream": "stdout",
       "text": [
        "\n",
        "row 2470000..."
       ]
      },
      {
       "output_type": "stream",
       "stream": "stdout",
       "text": [
        "\n",
        "row 2480000..."
       ]
      },
      {
       "output_type": "stream",
       "stream": "stdout",
       "text": [
        "\n",
        "row 2490000..."
       ]
      },
      {
       "output_type": "stream",
       "stream": "stdout",
       "text": [
        "\n",
        "row 2500000..."
       ]
      },
      {
       "output_type": "stream",
       "stream": "stdout",
       "text": [
        "\n",
        "row 2510000..."
       ]
      },
      {
       "output_type": "stream",
       "stream": "stdout",
       "text": [
        "\n",
        "row 2520000..."
       ]
      },
      {
       "output_type": "stream",
       "stream": "stdout",
       "text": [
        "\n",
        "row 2530000..."
       ]
      },
      {
       "output_type": "stream",
       "stream": "stdout",
       "text": [
        "\n",
        "row 2540000..."
       ]
      },
      {
       "output_type": "stream",
       "stream": "stdout",
       "text": [
        "\n",
        "row 2550000..."
       ]
      },
      {
       "output_type": "stream",
       "stream": "stdout",
       "text": [
        "\n",
        "row 2560000..."
       ]
      },
      {
       "output_type": "stream",
       "stream": "stdout",
       "text": [
        "\n",
        "row 2570000..."
       ]
      },
      {
       "output_type": "stream",
       "stream": "stdout",
       "text": [
        "\n",
        "row 2580000..."
       ]
      },
      {
       "output_type": "stream",
       "stream": "stdout",
       "text": [
        "\n",
        "row 2590000..."
       ]
      },
      {
       "output_type": "stream",
       "stream": "stdout",
       "text": [
        "\n",
        "row 2600000..."
       ]
      },
      {
       "output_type": "stream",
       "stream": "stdout",
       "text": [
        "\n",
        "row 2610000..."
       ]
      },
      {
       "output_type": "stream",
       "stream": "stdout",
       "text": [
        "\n",
        "row 2620000..."
       ]
      },
      {
       "output_type": "stream",
       "stream": "stdout",
       "text": [
        "\n",
        "row 2630000..."
       ]
      },
      {
       "output_type": "stream",
       "stream": "stdout",
       "text": [
        "\n",
        "row 2640000..."
       ]
      },
      {
       "output_type": "stream",
       "stream": "stdout",
       "text": [
        "\n",
        "row 2650000..."
       ]
      },
      {
       "output_type": "stream",
       "stream": "stdout",
       "text": [
        "\n",
        "row 2660000..."
       ]
      },
      {
       "output_type": "stream",
       "stream": "stdout",
       "text": [
        "\n",
        "row 2670000..."
       ]
      },
      {
       "output_type": "stream",
       "stream": "stdout",
       "text": [
        "\n",
        "row 2680000..."
       ]
      },
      {
       "output_type": "stream",
       "stream": "stdout",
       "text": [
        "\n",
        "row 2690000..."
       ]
      },
      {
       "output_type": "stream",
       "stream": "stdout",
       "text": [
        "\n",
        "row 2700000..."
       ]
      },
      {
       "output_type": "stream",
       "stream": "stdout",
       "text": [
        "\n",
        "row 2710000..."
       ]
      },
      {
       "output_type": "stream",
       "stream": "stdout",
       "text": [
        "\n",
        "row 2720000..."
       ]
      },
      {
       "output_type": "stream",
       "stream": "stdout",
       "text": [
        "\n",
        "row 2730000..."
       ]
      },
      {
       "output_type": "stream",
       "stream": "stdout",
       "text": [
        "\n",
        "row 2740000..."
       ]
      },
      {
       "output_type": "stream",
       "stream": "stdout",
       "text": [
        "\n",
        "row 2750000..."
       ]
      },
      {
       "output_type": "stream",
       "stream": "stdout",
       "text": [
        "\n",
        "row 2760000..."
       ]
      },
      {
       "output_type": "stream",
       "stream": "stdout",
       "text": [
        "\n",
        "row 2770000..."
       ]
      },
      {
       "output_type": "stream",
       "stream": "stdout",
       "text": [
        "\n",
        "row 2780000..."
       ]
      },
      {
       "output_type": "stream",
       "stream": "stdout",
       "text": [
        "\n",
        "row 2790000..."
       ]
      },
      {
       "output_type": "stream",
       "stream": "stdout",
       "text": [
        "\n",
        "row 2800000..."
       ]
      },
      {
       "output_type": "stream",
       "stream": "stdout",
       "text": [
        "\n",
        "row 2810000..."
       ]
      },
      {
       "output_type": "stream",
       "stream": "stdout",
       "text": [
        "\n",
        "row 2820000..."
       ]
      },
      {
       "output_type": "stream",
       "stream": "stdout",
       "text": [
        "\n",
        "row 2830000..."
       ]
      },
      {
       "output_type": "stream",
       "stream": "stdout",
       "text": [
        "\n",
        "row 2840000..."
       ]
      },
      {
       "output_type": "stream",
       "stream": "stdout",
       "text": [
        "\n",
        "row 2850000..."
       ]
      },
      {
       "output_type": "stream",
       "stream": "stdout",
       "text": [
        "\n",
        "row 2860000..."
       ]
      },
      {
       "output_type": "stream",
       "stream": "stdout",
       "text": [
        "\n",
        "row 2870000..."
       ]
      },
      {
       "output_type": "stream",
       "stream": "stdout",
       "text": [
        "\n",
        "row 2880000..."
       ]
      },
      {
       "output_type": "stream",
       "stream": "stdout",
       "text": [
        "\n",
        "row 2890000..."
       ]
      },
      {
       "output_type": "stream",
       "stream": "stdout",
       "text": [
        "\n",
        "row 2900000..."
       ]
      },
      {
       "output_type": "stream",
       "stream": "stdout",
       "text": [
        "\n",
        "row 2910000..."
       ]
      },
      {
       "output_type": "stream",
       "stream": "stdout",
       "text": [
        "\n",
        "row 2920000..."
       ]
      },
      {
       "output_type": "stream",
       "stream": "stdout",
       "text": [
        "\n",
        "row 2930000..."
       ]
      },
      {
       "output_type": "stream",
       "stream": "stdout",
       "text": [
        "\n",
        "row 2940000..."
       ]
      },
      {
       "output_type": "stream",
       "stream": "stdout",
       "text": [
        "\n",
        "row 2950000..."
       ]
      },
      {
       "output_type": "stream",
       "stream": "stdout",
       "text": [
        "\n",
        "row 2960000..."
       ]
      },
      {
       "output_type": "stream",
       "stream": "stdout",
       "text": [
        "\n",
        "row 2970000..."
       ]
      },
      {
       "output_type": "stream",
       "stream": "stdout",
       "text": [
        "\n",
        "row 2980000..."
       ]
      },
      {
       "output_type": "stream",
       "stream": "stdout",
       "text": [
        "\n",
        "row 2990000..."
       ]
      },
      {
       "output_type": "stream",
       "stream": "stdout",
       "text": [
        "\n",
        "row 3000000..."
       ]
      },
      {
       "output_type": "stream",
       "stream": "stdout",
       "text": [
        "\n",
        "row 3010000..."
       ]
      },
      {
       "output_type": "stream",
       "stream": "stdout",
       "text": [
        "\n",
        "row 3020000..."
       ]
      },
      {
       "output_type": "stream",
       "stream": "stdout",
       "text": [
        "\n",
        "row 3030000..."
       ]
      },
      {
       "output_type": "stream",
       "stream": "stdout",
       "text": [
        "\n",
        "row 3040000..."
       ]
      },
      {
       "output_type": "stream",
       "stream": "stdout",
       "text": [
        "\n",
        "row 3050000..."
       ]
      },
      {
       "output_type": "stream",
       "stream": "stdout",
       "text": [
        "\n",
        "row 3060000..."
       ]
      },
      {
       "output_type": "stream",
       "stream": "stdout",
       "text": [
        "\n",
        "row 3070000..."
       ]
      },
      {
       "output_type": "stream",
       "stream": "stdout",
       "text": [
        "\n",
        "row 3080000..."
       ]
      },
      {
       "output_type": "stream",
       "stream": "stdout",
       "text": [
        "\n",
        "row 3090000..."
       ]
      },
      {
       "output_type": "stream",
       "stream": "stdout",
       "text": [
        "\n",
        "row 3100000..."
       ]
      },
      {
       "output_type": "stream",
       "stream": "stdout",
       "text": [
        "\n",
        "row 3110000..."
       ]
      },
      {
       "output_type": "stream",
       "stream": "stdout",
       "text": [
        "\n",
        "row 3120000..."
       ]
      },
      {
       "output_type": "stream",
       "stream": "stdout",
       "text": [
        "\n",
        "row 3130000..."
       ]
      },
      {
       "output_type": "stream",
       "stream": "stdout",
       "text": [
        "\n",
        "row 3140000..."
       ]
      },
      {
       "output_type": "stream",
       "stream": "stdout",
       "text": [
        "\n",
        "row 3150000..."
       ]
      },
      {
       "output_type": "stream",
       "stream": "stdout",
       "text": [
        "\n",
        "row 3160000..."
       ]
      },
      {
       "output_type": "stream",
       "stream": "stdout",
       "text": [
        "\n",
        "row 3170000..."
       ]
      },
      {
       "output_type": "stream",
       "stream": "stdout",
       "text": [
        "\n",
        "row 3180000..."
       ]
      },
      {
       "output_type": "stream",
       "stream": "stdout",
       "text": [
        "\n",
        "row 3190000..."
       ]
      },
      {
       "output_type": "stream",
       "stream": "stdout",
       "text": [
        "\n",
        "row 3200000..."
       ]
      },
      {
       "output_type": "stream",
       "stream": "stdout",
       "text": [
        "\n",
        "row 3210000..."
       ]
      },
      {
       "output_type": "stream",
       "stream": "stdout",
       "text": [
        "\n",
        "row 3220000..."
       ]
      },
      {
       "output_type": "stream",
       "stream": "stdout",
       "text": [
        "\n",
        "row 3230000..."
       ]
      },
      {
       "output_type": "stream",
       "stream": "stdout",
       "text": [
        "\n",
        "row 3240000..."
       ]
      },
      {
       "output_type": "stream",
       "stream": "stdout",
       "text": [
        "\n",
        "row 3250000..."
       ]
      },
      {
       "output_type": "stream",
       "stream": "stdout",
       "text": [
        "\n",
        "row 3260000..."
       ]
      },
      {
       "output_type": "stream",
       "stream": "stdout",
       "text": [
        "\n",
        "row 3270000..."
       ]
      },
      {
       "output_type": "stream",
       "stream": "stdout",
       "text": [
        "\n",
        "row 3280000..."
       ]
      },
      {
       "output_type": "stream",
       "stream": "stdout",
       "text": [
        "\n",
        "row 3290000..."
       ]
      },
      {
       "output_type": "stream",
       "stream": "stdout",
       "text": [
        "\n",
        "row 3300000..."
       ]
      },
      {
       "output_type": "stream",
       "stream": "stdout",
       "text": [
        "\n",
        "row 3310000..."
       ]
      },
      {
       "output_type": "stream",
       "stream": "stdout",
       "text": [
        "\n",
        "row 3320000..."
       ]
      },
      {
       "output_type": "stream",
       "stream": "stdout",
       "text": [
        "\n",
        "row 3330000..."
       ]
      },
      {
       "output_type": "stream",
       "stream": "stdout",
       "text": [
        "\n",
        "row 3340000..."
       ]
      },
      {
       "output_type": "stream",
       "stream": "stdout",
       "text": [
        "\n",
        "row 3350000..."
       ]
      },
      {
       "output_type": "stream",
       "stream": "stdout",
       "text": [
        "\n",
        "row 3360000..."
       ]
      },
      {
       "output_type": "stream",
       "stream": "stdout",
       "text": [
        "\n",
        "row 3370000..."
       ]
      },
      {
       "output_type": "stream",
       "stream": "stdout",
       "text": [
        "\n",
        "row 3380000..."
       ]
      },
      {
       "output_type": "stream",
       "stream": "stdout",
       "text": [
        "\n",
        "row 3390000..."
       ]
      },
      {
       "output_type": "stream",
       "stream": "stdout",
       "text": [
        "\n",
        "row 3400000..."
       ]
      },
      {
       "output_type": "stream",
       "stream": "stdout",
       "text": [
        "\n",
        "row 3410000..."
       ]
      },
      {
       "output_type": "stream",
       "stream": "stdout",
       "text": [
        "\n",
        "row 3420000..."
       ]
      },
      {
       "output_type": "stream",
       "stream": "stdout",
       "text": [
        "\n",
        "row 3430000..."
       ]
      },
      {
       "output_type": "stream",
       "stream": "stdout",
       "text": [
        "\n",
        "row 3440000..."
       ]
      },
      {
       "output_type": "stream",
       "stream": "stdout",
       "text": [
        "\n",
        "row 3450000..."
       ]
      },
      {
       "output_type": "stream",
       "stream": "stdout",
       "text": [
        "\n",
        "row 3460000..."
       ]
      },
      {
       "output_type": "stream",
       "stream": "stdout",
       "text": [
        "\n",
        "row 3470000..."
       ]
      },
      {
       "output_type": "stream",
       "stream": "stdout",
       "text": [
        "\n",
        "row 3480000..."
       ]
      },
      {
       "output_type": "stream",
       "stream": "stdout",
       "text": [
        "\n",
        "row 3490000..."
       ]
      },
      {
       "output_type": "stream",
       "stream": "stdout",
       "text": [
        "\n",
        "row 3500000..."
       ]
      },
      {
       "output_type": "stream",
       "stream": "stdout",
       "text": [
        "\n",
        "row 3510000..."
       ]
      },
      {
       "output_type": "stream",
       "stream": "stdout",
       "text": [
        "\n",
        "row 3520000..."
       ]
      },
      {
       "output_type": "stream",
       "stream": "stdout",
       "text": [
        "\n",
        "row 3530000..."
       ]
      },
      {
       "output_type": "stream",
       "stream": "stdout",
       "text": [
        "\n",
        "row 3540000..."
       ]
      },
      {
       "output_type": "stream",
       "stream": "stdout",
       "text": [
        "\n",
        "row 3550000..."
       ]
      },
      {
       "output_type": "stream",
       "stream": "stdout",
       "text": [
        "\n",
        "row 3560000..."
       ]
      },
      {
       "output_type": "stream",
       "stream": "stdout",
       "text": [
        "\n",
        "row 3570000..."
       ]
      },
      {
       "output_type": "stream",
       "stream": "stdout",
       "text": [
        "\n",
        "row 3580000..."
       ]
      },
      {
       "output_type": "stream",
       "stream": "stdout",
       "text": [
        "\n",
        "row 3590000..."
       ]
      },
      {
       "output_type": "stream",
       "stream": "stdout",
       "text": [
        "\n",
        "row 3600000..."
       ]
      },
      {
       "output_type": "stream",
       "stream": "stdout",
       "text": [
        "\n",
        "row 3610000..."
       ]
      },
      {
       "output_type": "stream",
       "stream": "stdout",
       "text": [
        "\n",
        "row 3620000..."
       ]
      },
      {
       "output_type": "stream",
       "stream": "stdout",
       "text": [
        "\n",
        "row 3630000..."
       ]
      },
      {
       "output_type": "stream",
       "stream": "stdout",
       "text": [
        "\n",
        "row 3640000..."
       ]
      },
      {
       "output_type": "stream",
       "stream": "stdout",
       "text": [
        "\n",
        "row 3650000..."
       ]
      },
      {
       "output_type": "stream",
       "stream": "stdout",
       "text": [
        "\n",
        "row 3660000..."
       ]
      },
      {
       "output_type": "stream",
       "stream": "stdout",
       "text": [
        "\n",
        "row 3670000..."
       ]
      },
      {
       "output_type": "stream",
       "stream": "stdout",
       "text": [
        "\n",
        "row 3680000..."
       ]
      },
      {
       "output_type": "stream",
       "stream": "stdout",
       "text": [
        "\n",
        "row 3690000..."
       ]
      },
      {
       "output_type": "stream",
       "stream": "stdout",
       "text": [
        "\n",
        "row 3700000..."
       ]
      },
      {
       "output_type": "stream",
       "stream": "stdout",
       "text": [
        "\n",
        "row 3710000..."
       ]
      },
      {
       "output_type": "stream",
       "stream": "stdout",
       "text": [
        "\n",
        "row 3720000..."
       ]
      },
      {
       "output_type": "stream",
       "stream": "stdout",
       "text": [
        "\n",
        "row 3730000..."
       ]
      },
      {
       "output_type": "stream",
       "stream": "stdout",
       "text": [
        "\n",
        "row 3740000..."
       ]
      },
      {
       "output_type": "stream",
       "stream": "stdout",
       "text": [
        "\n",
        "row 3750000..."
       ]
      },
      {
       "output_type": "stream",
       "stream": "stdout",
       "text": [
        "\n",
        "row 3760000..."
       ]
      },
      {
       "output_type": "stream",
       "stream": "stdout",
       "text": [
        "\n",
        "row 3770000..."
       ]
      },
      {
       "output_type": "stream",
       "stream": "stdout",
       "text": [
        "\n",
        "row 3780000..."
       ]
      },
      {
       "output_type": "stream",
       "stream": "stdout",
       "text": [
        "\n",
        "row 3790000..."
       ]
      },
      {
       "output_type": "stream",
       "stream": "stdout",
       "text": [
        "\n",
        "row 3800000..."
       ]
      },
      {
       "output_type": "stream",
       "stream": "stdout",
       "text": [
        "\n",
        "row 3810000..."
       ]
      },
      {
       "output_type": "stream",
       "stream": "stdout",
       "text": [
        "\n",
        "row 3820000..."
       ]
      },
      {
       "output_type": "stream",
       "stream": "stdout",
       "text": [
        "\n",
        "row 3830000..."
       ]
      },
      {
       "output_type": "stream",
       "stream": "stdout",
       "text": [
        "\n",
        "row 3840000..."
       ]
      },
      {
       "output_type": "stream",
       "stream": "stdout",
       "text": [
        "\n",
        "row 3850000..."
       ]
      },
      {
       "output_type": "stream",
       "stream": "stdout",
       "text": [
        "\n",
        "row 3860000..."
       ]
      },
      {
       "output_type": "stream",
       "stream": "stdout",
       "text": [
        "\n",
        "row 3870000..."
       ]
      },
      {
       "output_type": "stream",
       "stream": "stdout",
       "text": [
        "\n",
        "row 3880000..."
       ]
      },
      {
       "output_type": "stream",
       "stream": "stdout",
       "text": [
        "\n",
        "row 3890000..."
       ]
      },
      {
       "output_type": "stream",
       "stream": "stdout",
       "text": [
        "\n",
        "row 3900000..."
       ]
      },
      {
       "output_type": "stream",
       "stream": "stdout",
       "text": [
        "\n",
        "row 3910000..."
       ]
      },
      {
       "output_type": "stream",
       "stream": "stdout",
       "text": [
        "\n",
        "row 3920000..."
       ]
      },
      {
       "output_type": "stream",
       "stream": "stdout",
       "text": [
        "\n",
        "row 3930000..."
       ]
      },
      {
       "output_type": "stream",
       "stream": "stdout",
       "text": [
        "\n",
        "row 3940000..."
       ]
      },
      {
       "output_type": "stream",
       "stream": "stdout",
       "text": [
        "\n",
        "row 3950000..."
       ]
      },
      {
       "output_type": "stream",
       "stream": "stdout",
       "text": [
        "\n",
        "row 3960000..."
       ]
      },
      {
       "output_type": "stream",
       "stream": "stdout",
       "text": [
        "\n",
        "row 3970000..."
       ]
      },
      {
       "output_type": "stream",
       "stream": "stdout",
       "text": [
        "\n",
        "row 3980000..."
       ]
      },
      {
       "output_type": "stream",
       "stream": "stdout",
       "text": [
        "\n",
        "row 3990000..."
       ]
      },
      {
       "output_type": "stream",
       "stream": "stdout",
       "text": [
        "\n",
        "row 4000000..."
       ]
      },
      {
       "output_type": "stream",
       "stream": "stdout",
       "text": [
        "\n",
        "row 4010000..."
       ]
      },
      {
       "output_type": "stream",
       "stream": "stdout",
       "text": [
        "\n",
        "row 4020000..."
       ]
      },
      {
       "output_type": "stream",
       "stream": "stdout",
       "text": [
        "\n",
        "row 4030000..."
       ]
      },
      {
       "output_type": "stream",
       "stream": "stdout",
       "text": [
        "\n",
        "row 4040000..."
       ]
      },
      {
       "output_type": "stream",
       "stream": "stdout",
       "text": [
        "\n",
        "row 4050000..."
       ]
      },
      {
       "output_type": "stream",
       "stream": "stdout",
       "text": [
        "\n",
        "row 4060000..."
       ]
      },
      {
       "output_type": "stream",
       "stream": "stdout",
       "text": [
        "\n",
        "row 4070000..."
       ]
      },
      {
       "output_type": "stream",
       "stream": "stdout",
       "text": [
        "\n",
        "row 4080000..."
       ]
      },
      {
       "output_type": "stream",
       "stream": "stdout",
       "text": [
        "\n",
        "row 4090000..."
       ]
      },
      {
       "output_type": "stream",
       "stream": "stdout",
       "text": [
        "\n",
        "row 4100000..."
       ]
      },
      {
       "output_type": "stream",
       "stream": "stdout",
       "text": [
        "\n",
        "row 4110000..."
       ]
      },
      {
       "output_type": "stream",
       "stream": "stdout",
       "text": [
        "\n",
        "row 4120000..."
       ]
      },
      {
       "output_type": "stream",
       "stream": "stdout",
       "text": [
        "\n",
        "row 4130000..."
       ]
      },
      {
       "output_type": "stream",
       "stream": "stdout",
       "text": [
        "\n",
        "row 4140000..."
       ]
      },
      {
       "output_type": "stream",
       "stream": "stdout",
       "text": [
        "\n",
        "row 4150000..."
       ]
      },
      {
       "output_type": "stream",
       "stream": "stdout",
       "text": [
        "\n",
        "row 4160000..."
       ]
      },
      {
       "output_type": "stream",
       "stream": "stdout",
       "text": [
        "\n",
        "row 4170000..."
       ]
      },
      {
       "output_type": "stream",
       "stream": "stdout",
       "text": [
        "\n",
        "row 4180000..."
       ]
      },
      {
       "output_type": "stream",
       "stream": "stdout",
       "text": [
        "\n",
        "row 4190000..."
       ]
      },
      {
       "output_type": "stream",
       "stream": "stdout",
       "text": [
        "\n",
        "row 4200000..."
       ]
      },
      {
       "output_type": "stream",
       "stream": "stdout",
       "text": [
        "\n",
        "row 4210000..."
       ]
      },
      {
       "output_type": "stream",
       "stream": "stdout",
       "text": [
        "\n",
        "row 4220000..."
       ]
      },
      {
       "output_type": "stream",
       "stream": "stdout",
       "text": [
        "\n",
        "row 4230000..."
       ]
      },
      {
       "output_type": "stream",
       "stream": "stdout",
       "text": [
        "\n",
        "row 4240000..."
       ]
      },
      {
       "output_type": "stream",
       "stream": "stdout",
       "text": [
        "\n",
        "row 4250000..."
       ]
      },
      {
       "output_type": "stream",
       "stream": "stdout",
       "text": [
        "\n",
        "row 4260000..."
       ]
      },
      {
       "output_type": "stream",
       "stream": "stdout",
       "text": [
        "\n",
        "row 4270000..."
       ]
      },
      {
       "output_type": "stream",
       "stream": "stdout",
       "text": [
        "\n",
        "row 4280000..."
       ]
      },
      {
       "output_type": "stream",
       "stream": "stdout",
       "text": [
        "\n",
        "row 4290000..."
       ]
      },
      {
       "output_type": "stream",
       "stream": "stdout",
       "text": [
        "\n",
        "row 4300000..."
       ]
      },
      {
       "output_type": "stream",
       "stream": "stdout",
       "text": [
        "\n",
        "row 4310000..."
       ]
      },
      {
       "output_type": "stream",
       "stream": "stdout",
       "text": [
        "\n",
        "row 4320000..."
       ]
      },
      {
       "output_type": "stream",
       "stream": "stdout",
       "text": [
        "\n",
        "row 4330000..."
       ]
      },
      {
       "output_type": "stream",
       "stream": "stdout",
       "text": [
        "\n",
        "row 4340000..."
       ]
      },
      {
       "output_type": "stream",
       "stream": "stdout",
       "text": [
        "\n",
        "row 4350000..."
       ]
      },
      {
       "output_type": "stream",
       "stream": "stdout",
       "text": [
        "\n",
        "row 4360000..."
       ]
      },
      {
       "output_type": "stream",
       "stream": "stdout",
       "text": [
        "\n",
        "row 4370000..."
       ]
      },
      {
       "output_type": "stream",
       "stream": "stdout",
       "text": [
        "\n",
        "row 4380000..."
       ]
      },
      {
       "output_type": "stream",
       "stream": "stdout",
       "text": [
        "\n",
        "row 4390000..."
       ]
      },
      {
       "output_type": "stream",
       "stream": "stdout",
       "text": [
        "\n",
        "row 4400000..."
       ]
      },
      {
       "output_type": "stream",
       "stream": "stdout",
       "text": [
        "\n",
        "row 4410000..."
       ]
      },
      {
       "output_type": "stream",
       "stream": "stdout",
       "text": [
        "\n",
        "row 4420000..."
       ]
      },
      {
       "output_type": "stream",
       "stream": "stdout",
       "text": [
        "\n",
        "row 4430000..."
       ]
      },
      {
       "output_type": "stream",
       "stream": "stdout",
       "text": [
        "\n",
        "row 4440000..."
       ]
      },
      {
       "output_type": "stream",
       "stream": "stdout",
       "text": [
        "\n",
        "row 4450000..."
       ]
      },
      {
       "output_type": "stream",
       "stream": "stdout",
       "text": [
        "\n",
        "row 4460000..."
       ]
      },
      {
       "output_type": "stream",
       "stream": "stdout",
       "text": [
        "\n",
        "row 4470000..."
       ]
      },
      {
       "output_type": "stream",
       "stream": "stdout",
       "text": [
        "\n",
        "row 4480000..."
       ]
      },
      {
       "output_type": "stream",
       "stream": "stdout",
       "text": [
        "\n",
        "row 4490000..."
       ]
      },
      {
       "output_type": "stream",
       "stream": "stdout",
       "text": [
        "\n",
        "row 4500000..."
       ]
      },
      {
       "output_type": "stream",
       "stream": "stdout",
       "text": [
        "\n",
        "row 4510000..."
       ]
      },
      {
       "output_type": "stream",
       "stream": "stdout",
       "text": [
        "\n",
        "row 4520000..."
       ]
      },
      {
       "output_type": "stream",
       "stream": "stdout",
       "text": [
        "\n",
        "row 4530000..."
       ]
      },
      {
       "output_type": "stream",
       "stream": "stdout",
       "text": [
        "\n",
        "row 4540000..."
       ]
      },
      {
       "output_type": "stream",
       "stream": "stdout",
       "text": [
        "\n",
        "row 4550000..."
       ]
      },
      {
       "output_type": "stream",
       "stream": "stdout",
       "text": [
        "\n",
        "row 4560000..."
       ]
      },
      {
       "output_type": "stream",
       "stream": "stdout",
       "text": [
        "\n",
        "row 4570000..."
       ]
      },
      {
       "output_type": "stream",
       "stream": "stdout",
       "text": [
        "\n",
        "row 4580000..."
       ]
      },
      {
       "output_type": "stream",
       "stream": "stdout",
       "text": [
        "\n"
       ]
      }
     ],
     "prompt_number": 266
    },
    {
     "cell_type": "code",
     "collapsed": false,
     "input": [
      "pM_blast_df['tr'] = pM_blast_df.index"
     ],
     "language": "python",
     "metadata": {},
     "outputs": [],
     "prompt_number": 267
    },
    {
     "cell_type": "code",
     "collapsed": false,
     "input": [
      "pM_blast_df.sort(columns=['tr', 'sseqid'], inplace=True)"
     ],
     "language": "python",
     "metadata": {},
     "outputs": [],
     "prompt_number": 268
    },
    {
     "cell_type": "code",
     "collapsed": false,
     "input": [
      "interval_db['GL476732'].search(190680,190966)"
     ],
     "language": "python",
     "metadata": {},
     "outputs": [
      {
       "metadata": {},
       "output_type": "pyout",
       "prompt_number": 269,
       "text": [
        "{Interval(178919, 200062, 8172),\n",
        " Interval(178919, 200062, 8173),\n",
        " Interval(190625, 190704, 8194),\n",
        " Interval(190625, 190704, 8195)}"
       ]
      }
     ],
     "prompt_number": 269
    },
    {
     "cell_type": "code",
     "collapsed": false,
     "input": [
      "pM_blast_df.ix['comp100005_c0_seq1']"
     ],
     "language": "python",
     "metadata": {},
     "outputs": [
      {
       "html": [
        "<div style=\"max-height:1000px;max-width:1500px;overflow:auto;\">\n",
        "<table border=\"1\" class=\"dataframe\">\n",
        "  <thead>\n",
        "    <tr style=\"text-align: right;\">\n",
        "      <th></th>\n",
        "      <th>sseqid</th>\n",
        "      <th>pident</th>\n",
        "      <th>length</th>\n",
        "      <th>mismatch</th>\n",
        "      <th>gapopen</th>\n",
        "      <th>qstart</th>\n",
        "      <th>qend</th>\n",
        "      <th>sstart</th>\n",
        "      <th>send</th>\n",
        "      <th>evalue</th>\n",
        "      <th>bitscore</th>\n",
        "      <th>features</th>\n",
        "      <th>tr</th>\n",
        "    </tr>\n",
        "  </thead>\n",
        "  <tbody>\n",
        "    <tr>\n",
        "      <th>comp100005_c0_seq1</th>\n",
        "      <td> GL476343</td>\n",
        "      <td> 94.58</td>\n",
        "      <td> 240</td>\n",
        "      <td> 13</td>\n",
        "      <td> 0</td>\n",
        "      <td>   1</td>\n",
        "      <td> 240</td>\n",
        "      <td>  914329</td>\n",
        "      <td>  914568</td>\n",
        "      <td> 2.000000e-101</td>\n",
        "      <td> 372</td>\n",
        "      <td> []</td>\n",
        "      <td> comp100005_c0_seq1</td>\n",
        "    </tr>\n",
        "    <tr>\n",
        "      <th>comp100005_c0_seq1</th>\n",
        "      <td> GL476343</td>\n",
        "      <td> 94.17</td>\n",
        "      <td> 240</td>\n",
        "      <td> 11</td>\n",
        "      <td> 2</td>\n",
        "      <td>   1</td>\n",
        "      <td> 240</td>\n",
        "      <td>  682925</td>\n",
        "      <td>  683161</td>\n",
        "      <td>  1.000000e-98</td>\n",
        "      <td> 363</td>\n",
        "      <td> []</td>\n",
        "      <td> comp100005_c0_seq1</td>\n",
        "    </tr>\n",
        "    <tr>\n",
        "      <th>comp100005_c0_seq1</th>\n",
        "      <td> GL476343</td>\n",
        "      <td> 94.09</td>\n",
        "      <td> 237</td>\n",
        "      <td> 14</td>\n",
        "      <td> 0</td>\n",
        "      <td>   4</td>\n",
        "      <td> 240</td>\n",
        "      <td>  904857</td>\n",
        "      <td>  904621</td>\n",
        "      <td>  3.000000e-98</td>\n",
        "      <td> 361</td>\n",
        "      <td> []</td>\n",
        "      <td> comp100005_c0_seq1</td>\n",
        "    </tr>\n",
        "    <tr>\n",
        "      <th>comp100005_c0_seq1</th>\n",
        "      <td> GL476857</td>\n",
        "      <td> 96.68</td>\n",
        "      <td> 241</td>\n",
        "      <td>  7</td>\n",
        "      <td> 1</td>\n",
        "      <td>   1</td>\n",
        "      <td> 240</td>\n",
        "      <td>  837288</td>\n",
        "      <td>  837048</td>\n",
        "      <td> 7.000000e-110</td>\n",
        "      <td> 399</td>\n",
        "      <td> []</td>\n",
        "      <td> comp100005_c0_seq1</td>\n",
        "    </tr>\n",
        "    <tr>\n",
        "      <th>comp100005_c0_seq1</th>\n",
        "      <td> GL476857</td>\n",
        "      <td> 96.67</td>\n",
        "      <td> 240</td>\n",
        "      <td>  7</td>\n",
        "      <td> 1</td>\n",
        "      <td>   1</td>\n",
        "      <td> 240</td>\n",
        "      <td>  563217</td>\n",
        "      <td>  562979</td>\n",
        "      <td> 3.000000e-109</td>\n",
        "      <td> 398</td>\n",
        "      <td> []</td>\n",
        "      <td> comp100005_c0_seq1</td>\n",
        "    </tr>\n",
        "    <tr>\n",
        "      <th>comp100005_c0_seq1</th>\n",
        "      <td> GL476857</td>\n",
        "      <td> 96.25</td>\n",
        "      <td> 240</td>\n",
        "      <td>  9</td>\n",
        "      <td> 0</td>\n",
        "      <td>   1</td>\n",
        "      <td> 240</td>\n",
        "      <td>  389096</td>\n",
        "      <td>  388857</td>\n",
        "      <td> 3.000000e-108</td>\n",
        "      <td> 394</td>\n",
        "      <td> []</td>\n",
        "      <td> comp100005_c0_seq1</td>\n",
        "    </tr>\n",
        "    <tr>\n",
        "      <th>comp100005_c0_seq1</th>\n",
        "      <td> GL476857</td>\n",
        "      <td> 96.62</td>\n",
        "      <td> 237</td>\n",
        "      <td>  8</td>\n",
        "      <td> 0</td>\n",
        "      <td>   4</td>\n",
        "      <td> 240</td>\n",
        "      <td> 1003820</td>\n",
        "      <td> 1004056</td>\n",
        "      <td> 3.000000e-108</td>\n",
        "      <td> 394</td>\n",
        "      <td> []</td>\n",
        "      <td> comp100005_c0_seq1</td>\n",
        "    </tr>\n",
        "    <tr>\n",
        "      <th>comp100005_c0_seq1</th>\n",
        "      <td> GL476857</td>\n",
        "      <td> 95.83</td>\n",
        "      <td> 240</td>\n",
        "      <td> 10</td>\n",
        "      <td> 0</td>\n",
        "      <td>   1</td>\n",
        "      <td> 240</td>\n",
        "      <td>  383333</td>\n",
        "      <td>  383572</td>\n",
        "      <td> 2.000000e-106</td>\n",
        "      <td> 388</td>\n",
        "      <td> []</td>\n",
        "      <td> comp100005_c0_seq1</td>\n",
        "    </tr>\n",
        "    <tr>\n",
        "      <th>comp100005_c0_seq1</th>\n",
        "      <td> GL476857</td>\n",
        "      <td> 95.83</td>\n",
        "      <td> 240</td>\n",
        "      <td> 10</td>\n",
        "      <td> 0</td>\n",
        "      <td>   1</td>\n",
        "      <td> 240</td>\n",
        "      <td>  413514</td>\n",
        "      <td>  413753</td>\n",
        "      <td> 2.000000e-106</td>\n",
        "      <td> 388</td>\n",
        "      <td> []</td>\n",
        "      <td> comp100005_c0_seq1</td>\n",
        "    </tr>\n",
        "    <tr>\n",
        "      <th>comp100005_c0_seq1</th>\n",
        "      <td> GL476857</td>\n",
        "      <td> 96.20</td>\n",
        "      <td> 237</td>\n",
        "      <td>  8</td>\n",
        "      <td> 1</td>\n",
        "      <td>   1</td>\n",
        "      <td> 237</td>\n",
        "      <td> 1138523</td>\n",
        "      <td> 1138288</td>\n",
        "      <td> 6.000000e-106</td>\n",
        "      <td> 387</td>\n",
        "      <td> []</td>\n",
        "      <td> comp100005_c0_seq1</td>\n",
        "    </tr>\n",
        "    <tr>\n",
        "      <th>comp100005_c0_seq1</th>\n",
        "      <td> GL476857</td>\n",
        "      <td> 95.42</td>\n",
        "      <td> 240</td>\n",
        "      <td> 11</td>\n",
        "      <td> 0</td>\n",
        "      <td>   1</td>\n",
        "      <td> 240</td>\n",
        "      <td>  614626</td>\n",
        "      <td>  614865</td>\n",
        "      <td> 7.000000e-105</td>\n",
        "      <td> 383</td>\n",
        "      <td> []</td>\n",
        "      <td> comp100005_c0_seq1</td>\n",
        "    </tr>\n",
        "    <tr>\n",
        "      <th>comp100005_c0_seq1</th>\n",
        "      <td> GL476857</td>\n",
        "      <td> 95.42</td>\n",
        "      <td> 240</td>\n",
        "      <td> 11</td>\n",
        "      <td> 0</td>\n",
        "      <td>   1</td>\n",
        "      <td> 240</td>\n",
        "      <td>  623703</td>\n",
        "      <td>  623464</td>\n",
        "      <td> 7.000000e-105</td>\n",
        "      <td> 383</td>\n",
        "      <td> []</td>\n",
        "      <td> comp100005_c0_seq1</td>\n",
        "    </tr>\n",
        "    <tr>\n",
        "      <th>comp100005_c0_seq1</th>\n",
        "      <td> GL476857</td>\n",
        "      <td> 95.42</td>\n",
        "      <td> 240</td>\n",
        "      <td> 11</td>\n",
        "      <td> 0</td>\n",
        "      <td>   1</td>\n",
        "      <td> 240</td>\n",
        "      <td>  664804</td>\n",
        "      <td>  664565</td>\n",
        "      <td> 7.000000e-105</td>\n",
        "      <td> 383</td>\n",
        "      <td> []</td>\n",
        "      <td> comp100005_c0_seq1</td>\n",
        "    </tr>\n",
        "    <tr>\n",
        "      <th>comp100005_c0_seq1</th>\n",
        "      <td> GL476857</td>\n",
        "      <td> 95.42</td>\n",
        "      <td> 240</td>\n",
        "      <td> 10</td>\n",
        "      <td> 1</td>\n",
        "      <td>   1</td>\n",
        "      <td> 240</td>\n",
        "      <td>  282867</td>\n",
        "      <td>  282629</td>\n",
        "      <td> 3.000000e-104</td>\n",
        "      <td> 381</td>\n",
        "      <td> []</td>\n",
        "      <td> comp100005_c0_seq1</td>\n",
        "    </tr>\n",
        "    <tr>\n",
        "      <th>comp100005_c0_seq1</th>\n",
        "      <td> GL476857</td>\n",
        "      <td> 95.42</td>\n",
        "      <td> 240</td>\n",
        "      <td> 10</td>\n",
        "      <td> 1</td>\n",
        "      <td>   1</td>\n",
        "      <td> 240</td>\n",
        "      <td> 1464138</td>\n",
        "      <td> 1463900</td>\n",
        "      <td> 3.000000e-104</td>\n",
        "      <td> 381</td>\n",
        "      <td> []</td>\n",
        "      <td> comp100005_c0_seq1</td>\n",
        "    </tr>\n",
        "    <tr>\n",
        "      <th>comp100005_c0_seq1</th>\n",
        "      <td> GL476857</td>\n",
        "      <td> 95.00</td>\n",
        "      <td> 240</td>\n",
        "      <td> 12</td>\n",
        "      <td> 0</td>\n",
        "      <td>   1</td>\n",
        "      <td> 240</td>\n",
        "      <td>  520595</td>\n",
        "      <td>  520356</td>\n",
        "      <td> 3.000000e-103</td>\n",
        "      <td> 377</td>\n",
        "      <td> []</td>\n",
        "      <td> comp100005_c0_seq1</td>\n",
        "    </tr>\n",
        "    <tr>\n",
        "      <th>comp100005_c0_seq1</th>\n",
        "      <td> GL476857</td>\n",
        "      <td> 94.58</td>\n",
        "      <td> 240</td>\n",
        "      <td> 13</td>\n",
        "      <td> 0</td>\n",
        "      <td>   1</td>\n",
        "      <td> 240</td>\n",
        "      <td>  402517</td>\n",
        "      <td>  402756</td>\n",
        "      <td> 2.000000e-101</td>\n",
        "      <td> 372</td>\n",
        "      <td> []</td>\n",
        "      <td> comp100005_c0_seq1</td>\n",
        "    </tr>\n",
        "    <tr>\n",
        "      <th>comp100005_c0_seq1</th>\n",
        "      <td> GL476857</td>\n",
        "      <td> 94.58</td>\n",
        "      <td> 240</td>\n",
        "      <td> 13</td>\n",
        "      <td> 0</td>\n",
        "      <td>   1</td>\n",
        "      <td> 240</td>\n",
        "      <td> 1008810</td>\n",
        "      <td> 1008571</td>\n",
        "      <td> 2.000000e-101</td>\n",
        "      <td> 372</td>\n",
        "      <td> []</td>\n",
        "      <td> comp100005_c0_seq1</td>\n",
        "    </tr>\n",
        "    <tr>\n",
        "      <th>comp100005_c0_seq1</th>\n",
        "      <td> GL476857</td>\n",
        "      <td> 94.17</td>\n",
        "      <td> 240</td>\n",
        "      <td> 14</td>\n",
        "      <td> 0</td>\n",
        "      <td>   1</td>\n",
        "      <td> 240</td>\n",
        "      <td>  164327</td>\n",
        "      <td>  164088</td>\n",
        "      <td> 7.000000e-100</td>\n",
        "      <td> 366</td>\n",
        "      <td> []</td>\n",
        "      <td> comp100005_c0_seq1</td>\n",
        "    </tr>\n",
        "    <tr>\n",
        "      <th>comp100005_c0_seq1</th>\n",
        "      <td> GL476857</td>\n",
        "      <td> 94.17</td>\n",
        "      <td> 240</td>\n",
        "      <td> 14</td>\n",
        "      <td> 0</td>\n",
        "      <td>   1</td>\n",
        "      <td> 240</td>\n",
        "      <td> 1091773</td>\n",
        "      <td> 1091534</td>\n",
        "      <td> 7.000000e-100</td>\n",
        "      <td> 366</td>\n",
        "      <td> []</td>\n",
        "      <td> comp100005_c0_seq1</td>\n",
        "    </tr>\n",
        "    <tr>\n",
        "      <th>comp100005_c0_seq1</th>\n",
        "      <td> GL476857</td>\n",
        "      <td> 93.72</td>\n",
        "      <td> 239</td>\n",
        "      <td> 15</td>\n",
        "      <td> 0</td>\n",
        "      <td>   2</td>\n",
        "      <td> 240</td>\n",
        "      <td>  254937</td>\n",
        "      <td>  254699</td>\n",
        "      <td>  1.000000e-97</td>\n",
        "      <td> 359</td>\n",
        "      <td> []</td>\n",
        "      <td> comp100005_c0_seq1</td>\n",
        "    </tr>\n",
        "    <tr>\n",
        "      <th>comp100005_c0_seq1</th>\n",
        "      <td> GL476857</td>\n",
        "      <td> 93.70</td>\n",
        "      <td> 238</td>\n",
        "      <td> 14</td>\n",
        "      <td> 1</td>\n",
        "      <td>   1</td>\n",
        "      <td> 238</td>\n",
        "      <td>  323715</td>\n",
        "      <td>  323951</td>\n",
        "      <td>  2.000000e-96</td>\n",
        "      <td> 355</td>\n",
        "      <td> []</td>\n",
        "      <td> comp100005_c0_seq1</td>\n",
        "    </tr>\n",
        "    <tr>\n",
        "      <th>comp100005_c0_seq1</th>\n",
        "      <td> GL476857</td>\n",
        "      <td> 93.33</td>\n",
        "      <td> 240</td>\n",
        "      <td> 16</td>\n",
        "      <td> 0</td>\n",
        "      <td>   1</td>\n",
        "      <td> 240</td>\n",
        "      <td>  434985</td>\n",
        "      <td>  435224</td>\n",
        "      <td>  2.000000e-96</td>\n",
        "      <td> 355</td>\n",
        "      <td> []</td>\n",
        "      <td> comp100005_c0_seq1</td>\n",
        "    </tr>\n",
        "    <tr>\n",
        "      <th>comp100005_c0_seq1</th>\n",
        "      <td> GL476857</td>\n",
        "      <td> 93.67</td>\n",
        "      <td> 237</td>\n",
        "      <td> 15</td>\n",
        "      <td> 0</td>\n",
        "      <td>   4</td>\n",
        "      <td> 240</td>\n",
        "      <td>  679727</td>\n",
        "      <td>  679963</td>\n",
        "      <td>  2.000000e-96</td>\n",
        "      <td> 355</td>\n",
        "      <td> []</td>\n",
        "      <td> comp100005_c0_seq1</td>\n",
        "    </tr>\n",
        "    <tr>\n",
        "      <th>comp100005_c0_seq1</th>\n",
        "      <td> GL476857</td>\n",
        "      <td> 92.95</td>\n",
        "      <td> 241</td>\n",
        "      <td> 16</td>\n",
        "      <td> 1</td>\n",
        "      <td>   1</td>\n",
        "      <td> 240</td>\n",
        "      <td>  971074</td>\n",
        "      <td>  971314</td>\n",
        "      <td>  7.000000e-95</td>\n",
        "      <td> 350</td>\n",
        "      <td> []</td>\n",
        "      <td> comp100005_c0_seq1</td>\n",
        "    </tr>\n",
        "    <tr>\n",
        "      <th>comp100005_c0_seq1</th>\n",
        "      <td> GL476857</td>\n",
        "      <td> 91.67</td>\n",
        "      <td> 240</td>\n",
        "      <td> 20</td>\n",
        "      <td> 0</td>\n",
        "      <td>   1</td>\n",
        "      <td> 240</td>\n",
        "      <td>  598141</td>\n",
        "      <td>  598380</td>\n",
        "      <td>  8.000000e-90</td>\n",
        "      <td> 333</td>\n",
        "      <td> []</td>\n",
        "      <td> comp100005_c0_seq1</td>\n",
        "    </tr>\n",
        "    <tr>\n",
        "      <th>comp100005_c0_seq1</th>\n",
        "      <td> GL476857</td>\n",
        "      <td> 91.67</td>\n",
        "      <td> 240</td>\n",
        "      <td> 18</td>\n",
        "      <td> 2</td>\n",
        "      <td>   1</td>\n",
        "      <td> 240</td>\n",
        "      <td>  140505</td>\n",
        "      <td>  140268</td>\n",
        "      <td>  3.000000e-89</td>\n",
        "      <td> 331</td>\n",
        "      <td> []</td>\n",
        "      <td> comp100005_c0_seq1</td>\n",
        "    </tr>\n",
        "    <tr>\n",
        "      <th>comp100005_c0_seq1</th>\n",
        "      <td> GL476857</td>\n",
        "      <td> 94.26</td>\n",
        "      <td> 122</td>\n",
        "      <td>  6</td>\n",
        "      <td> 1</td>\n",
        "      <td> 120</td>\n",
        "      <td> 240</td>\n",
        "      <td>  242927</td>\n",
        "      <td>  242806</td>\n",
        "      <td>  2.000000e-45</td>\n",
        "      <td> 185</td>\n",
        "      <td> []</td>\n",
        "      <td> comp100005_c0_seq1</td>\n",
        "    </tr>\n",
        "    <tr>\n",
        "      <th>comp100005_c0_seq1</th>\n",
        "      <td> GL478807</td>\n",
        "      <td> 93.75</td>\n",
        "      <td> 240</td>\n",
        "      <td> 15</td>\n",
        "      <td> 0</td>\n",
        "      <td>   1</td>\n",
        "      <td> 240</td>\n",
        "      <td>  255037</td>\n",
        "      <td>  254798</td>\n",
        "      <td>  3.000000e-98</td>\n",
        "      <td> 361</td>\n",
        "      <td> []</td>\n",
        "      <td> comp100005_c0_seq1</td>\n",
        "    </tr>\n",
        "    <tr>\n",
        "      <th>comp100005_c0_seq1</th>\n",
        "      <td> GL479743</td>\n",
        "      <td> 94.56</td>\n",
        "      <td> 239</td>\n",
        "      <td> 13</td>\n",
        "      <td> 0</td>\n",
        "      <td>   2</td>\n",
        "      <td> 240</td>\n",
        "      <td>   11806</td>\n",
        "      <td>   12044</td>\n",
        "      <td> 6.000000e-101</td>\n",
        "      <td> 370</td>\n",
        "      <td> []</td>\n",
        "      <td> comp100005_c0_seq1</td>\n",
        "    </tr>\n",
        "    <tr>\n",
        "      <th>comp100005_c0_seq1</th>\n",
        "      <td> GL480103</td>\n",
        "      <td> 95.42</td>\n",
        "      <td> 240</td>\n",
        "      <td> 11</td>\n",
        "      <td> 0</td>\n",
        "      <td>   1</td>\n",
        "      <td> 240</td>\n",
        "      <td>   20415</td>\n",
        "      <td>   20176</td>\n",
        "      <td> 7.000000e-105</td>\n",
        "      <td> 383</td>\n",
        "      <td> []</td>\n",
        "      <td> comp100005_c0_seq1</td>\n",
        "    </tr>\n",
        "    <tr>\n",
        "      <th>comp100005_c0_seq1</th>\n",
        "      <td> GL482757</td>\n",
        "      <td> 92.92</td>\n",
        "      <td> 240</td>\n",
        "      <td> 17</td>\n",
        "      <td> 0</td>\n",
        "      <td>   1</td>\n",
        "      <td> 240</td>\n",
        "      <td>   12373</td>\n",
        "      <td>   12134</td>\n",
        "      <td>  7.000000e-95</td>\n",
        "      <td> 350</td>\n",
        "      <td> []</td>\n",
        "      <td> comp100005_c0_seq1</td>\n",
        "    </tr>\n",
        "    <tr>\n",
        "      <th>comp100005_c0_seq1</th>\n",
        "      <td> GL482818</td>\n",
        "      <td> 96.25</td>\n",
        "      <td> 240</td>\n",
        "      <td>  9</td>\n",
        "      <td> 0</td>\n",
        "      <td>   1</td>\n",
        "      <td> 240</td>\n",
        "      <td>   10554</td>\n",
        "      <td>   10793</td>\n",
        "      <td> 3.000000e-108</td>\n",
        "      <td> 394</td>\n",
        "      <td> []</td>\n",
        "      <td> comp100005_c0_seq1</td>\n",
        "    </tr>\n",
        "    <tr>\n",
        "      <th>comp100005_c0_seq1</th>\n",
        "      <td> GL483698</td>\n",
        "      <td> 92.92</td>\n",
        "      <td> 240</td>\n",
        "      <td> 17</td>\n",
        "      <td> 0</td>\n",
        "      <td>   1</td>\n",
        "      <td> 240</td>\n",
        "      <td>   15211</td>\n",
        "      <td>   15450</td>\n",
        "      <td>  7.000000e-95</td>\n",
        "      <td> 350</td>\n",
        "      <td> []</td>\n",
        "      <td> comp100005_c0_seq1</td>\n",
        "    </tr>\n",
        "    <tr>\n",
        "      <th>comp100005_c0_seq1</th>\n",
        "      <td> GL484504</td>\n",
        "      <td> 95.00</td>\n",
        "      <td> 240</td>\n",
        "      <td> 12</td>\n",
        "      <td> 0</td>\n",
        "      <td>   1</td>\n",
        "      <td> 240</td>\n",
        "      <td>   11539</td>\n",
        "      <td>   11778</td>\n",
        "      <td> 3.000000e-103</td>\n",
        "      <td> 377</td>\n",
        "      <td> []</td>\n",
        "      <td> comp100005_c0_seq1</td>\n",
        "    </tr>\n",
        "    <tr>\n",
        "      <th>comp100005_c0_seq1</th>\n",
        "      <td> GL484794</td>\n",
        "      <td> 94.58</td>\n",
        "      <td> 240</td>\n",
        "      <td> 13</td>\n",
        "      <td> 0</td>\n",
        "      <td>   1</td>\n",
        "      <td> 240</td>\n",
        "      <td>   12065</td>\n",
        "      <td>   12304</td>\n",
        "      <td> 2.000000e-101</td>\n",
        "      <td> 372</td>\n",
        "      <td> []</td>\n",
        "      <td> comp100005_c0_seq1</td>\n",
        "    </tr>\n",
        "    <tr>\n",
        "      <th>comp100005_c0_seq1</th>\n",
        "      <td> GL488230</td>\n",
        "      <td> 93.70</td>\n",
        "      <td> 238</td>\n",
        "      <td> 14</td>\n",
        "      <td> 1</td>\n",
        "      <td>   1</td>\n",
        "      <td> 238</td>\n",
        "      <td>    7709</td>\n",
        "      <td>    7473</td>\n",
        "      <td>  2.000000e-96</td>\n",
        "      <td> 355</td>\n",
        "      <td> []</td>\n",
        "      <td> comp100005_c0_seq1</td>\n",
        "    </tr>\n",
        "    <tr>\n",
        "      <th>comp100005_c0_seq1</th>\n",
        "      <td> GL488540</td>\n",
        "      <td> 95.42</td>\n",
        "      <td> 240</td>\n",
        "      <td> 10</td>\n",
        "      <td> 1</td>\n",
        "      <td>   1</td>\n",
        "      <td> 240</td>\n",
        "      <td>    4848</td>\n",
        "      <td>    4610</td>\n",
        "      <td> 3.000000e-104</td>\n",
        "      <td> 381</td>\n",
        "      <td> []</td>\n",
        "      <td> comp100005_c0_seq1</td>\n",
        "    </tr>\n",
        "    <tr>\n",
        "      <th>comp100005_c0_seq1</th>\n",
        "      <td> GL490367</td>\n",
        "      <td> 92.18</td>\n",
        "      <td> 243</td>\n",
        "      <td> 16</td>\n",
        "      <td> 1</td>\n",
        "      <td>   1</td>\n",
        "      <td> 240</td>\n",
        "      <td>    6167</td>\n",
        "      <td>    6409</td>\n",
        "      <td>  4.000000e-92</td>\n",
        "      <td> 340</td>\n",
        "      <td> []</td>\n",
        "      <td> comp100005_c0_seq1</td>\n",
        "    </tr>\n",
        "    <tr>\n",
        "      <th>comp100005_c0_seq1</th>\n",
        "      <td> GL490978</td>\n",
        "      <td> 95.44</td>\n",
        "      <td> 241</td>\n",
        "      <td> 10</td>\n",
        "      <td> 1</td>\n",
        "      <td>   1</td>\n",
        "      <td> 240</td>\n",
        "      <td>    6087</td>\n",
        "      <td>    5847</td>\n",
        "      <td> 7.000000e-105</td>\n",
        "      <td> 383</td>\n",
        "      <td> []</td>\n",
        "      <td> comp100005_c0_seq1</td>\n",
        "    </tr>\n",
        "    <tr>\n",
        "      <th>comp100005_c0_seq1</th>\n",
        "      <td> GL492489</td>\n",
        "      <td> 95.00</td>\n",
        "      <td> 240</td>\n",
        "      <td> 12</td>\n",
        "      <td> 0</td>\n",
        "      <td>   1</td>\n",
        "      <td> 240</td>\n",
        "      <td>     502</td>\n",
        "      <td>     741</td>\n",
        "      <td> 3.000000e-103</td>\n",
        "      <td> 377</td>\n",
        "      <td> []</td>\n",
        "      <td> comp100005_c0_seq1</td>\n",
        "    </tr>\n",
        "    <tr>\n",
        "      <th>comp100005_c0_seq1</th>\n",
        "      <td> GL493166</td>\n",
        "      <td> 95.00</td>\n",
        "      <td> 240</td>\n",
        "      <td> 12</td>\n",
        "      <td> 0</td>\n",
        "      <td>   1</td>\n",
        "      <td> 240</td>\n",
        "      <td>    4664</td>\n",
        "      <td>    4425</td>\n",
        "      <td> 3.000000e-103</td>\n",
        "      <td> 377</td>\n",
        "      <td> []</td>\n",
        "      <td> comp100005_c0_seq1</td>\n",
        "    </tr>\n",
        "    <tr>\n",
        "      <th>comp100005_c0_seq1</th>\n",
        "      <td> GL493203</td>\n",
        "      <td> 94.58</td>\n",
        "      <td> 240</td>\n",
        "      <td> 13</td>\n",
        "      <td> 0</td>\n",
        "      <td>   1</td>\n",
        "      <td> 240</td>\n",
        "      <td>     157</td>\n",
        "      <td>     396</td>\n",
        "      <td> 2.000000e-101</td>\n",
        "      <td> 372</td>\n",
        "      <td> []</td>\n",
        "      <td> comp100005_c0_seq1</td>\n",
        "    </tr>\n",
        "    <tr>\n",
        "      <th>comp100005_c0_seq1</th>\n",
        "      <td> GL494956</td>\n",
        "      <td> 92.41</td>\n",
        "      <td> 237</td>\n",
        "      <td> 17</td>\n",
        "      <td> 1</td>\n",
        "      <td>   1</td>\n",
        "      <td> 237</td>\n",
        "      <td>    3879</td>\n",
        "      <td>    4114</td>\n",
        "      <td>  6.000000e-91</td>\n",
        "      <td> 337</td>\n",
        "      <td> []</td>\n",
        "      <td> comp100005_c0_seq1</td>\n",
        "    </tr>\n",
        "  </tbody>\n",
        "</table>\n",
        "</div>"
       ],
       "metadata": {},
       "output_type": "pyout",
       "prompt_number": 261,
       "text": [
        "                      sseqid  pident  length  mismatch  gapopen  qstart  qend  \\\n",
        "comp100005_c0_seq1  GL476343   94.58     240        13        0       1   240   \n",
        "comp100005_c0_seq1  GL476343   94.17     240        11        2       1   240   \n",
        "comp100005_c0_seq1  GL476343   94.09     237        14        0       4   240   \n",
        "comp100005_c0_seq1  GL476857   96.68     241         7        1       1   240   \n",
        "comp100005_c0_seq1  GL476857   96.67     240         7        1       1   240   \n",
        "comp100005_c0_seq1  GL476857   96.25     240         9        0       1   240   \n",
        "comp100005_c0_seq1  GL476857   96.62     237         8        0       4   240   \n",
        "comp100005_c0_seq1  GL476857   95.83     240        10        0       1   240   \n",
        "comp100005_c0_seq1  GL476857   95.83     240        10        0       1   240   \n",
        "comp100005_c0_seq1  GL476857   96.20     237         8        1       1   237   \n",
        "comp100005_c0_seq1  GL476857   95.42     240        11        0       1   240   \n",
        "comp100005_c0_seq1  GL476857   95.42     240        11        0       1   240   \n",
        "comp100005_c0_seq1  GL476857   95.42     240        11        0       1   240   \n",
        "comp100005_c0_seq1  GL476857   95.42     240        10        1       1   240   \n",
        "comp100005_c0_seq1  GL476857   95.42     240        10        1       1   240   \n",
        "comp100005_c0_seq1  GL476857   95.00     240        12        0       1   240   \n",
        "comp100005_c0_seq1  GL476857   94.58     240        13        0       1   240   \n",
        "comp100005_c0_seq1  GL476857   94.58     240        13        0       1   240   \n",
        "comp100005_c0_seq1  GL476857   94.17     240        14        0       1   240   \n",
        "comp100005_c0_seq1  GL476857   94.17     240        14        0       1   240   \n",
        "comp100005_c0_seq1  GL476857   93.72     239        15        0       2   240   \n",
        "comp100005_c0_seq1  GL476857   93.70     238        14        1       1   238   \n",
        "comp100005_c0_seq1  GL476857   93.33     240        16        0       1   240   \n",
        "comp100005_c0_seq1  GL476857   93.67     237        15        0       4   240   \n",
        "comp100005_c0_seq1  GL476857   92.95     241        16        1       1   240   \n",
        "comp100005_c0_seq1  GL476857   91.67     240        20        0       1   240   \n",
        "comp100005_c0_seq1  GL476857   91.67     240        18        2       1   240   \n",
        "comp100005_c0_seq1  GL476857   94.26     122         6        1     120   240   \n",
        "comp100005_c0_seq1  GL478807   93.75     240        15        0       1   240   \n",
        "comp100005_c0_seq1  GL479743   94.56     239        13        0       2   240   \n",
        "comp100005_c0_seq1  GL480103   95.42     240        11        0       1   240   \n",
        "comp100005_c0_seq1  GL482757   92.92     240        17        0       1   240   \n",
        "comp100005_c0_seq1  GL482818   96.25     240         9        0       1   240   \n",
        "comp100005_c0_seq1  GL483698   92.92     240        17        0       1   240   \n",
        "comp100005_c0_seq1  GL484504   95.00     240        12        0       1   240   \n",
        "comp100005_c0_seq1  GL484794   94.58     240        13        0       1   240   \n",
        "comp100005_c0_seq1  GL488230   93.70     238        14        1       1   238   \n",
        "comp100005_c0_seq1  GL488540   95.42     240        10        1       1   240   \n",
        "comp100005_c0_seq1  GL490367   92.18     243        16        1       1   240   \n",
        "comp100005_c0_seq1  GL490978   95.44     241        10        1       1   240   \n",
        "comp100005_c0_seq1  GL492489   95.00     240        12        0       1   240   \n",
        "comp100005_c0_seq1  GL493166   95.00     240        12        0       1   240   \n",
        "comp100005_c0_seq1  GL493203   94.58     240        13        0       1   240   \n",
        "comp100005_c0_seq1  GL494956   92.41     237        17        1       1   237   \n",
        "\n",
        "                     sstart     send         evalue  bitscore features  \\\n",
        "comp100005_c0_seq1   914329   914568  2.000000e-101       372       []   \n",
        "comp100005_c0_seq1   682925   683161   1.000000e-98       363       []   \n",
        "comp100005_c0_seq1   904857   904621   3.000000e-98       361       []   \n",
        "comp100005_c0_seq1   837288   837048  7.000000e-110       399       []   \n",
        "comp100005_c0_seq1   563217   562979  3.000000e-109       398       []   \n",
        "comp100005_c0_seq1   389096   388857  3.000000e-108       394       []   \n",
        "comp100005_c0_seq1  1003820  1004056  3.000000e-108       394       []   \n",
        "comp100005_c0_seq1   383333   383572  2.000000e-106       388       []   \n",
        "comp100005_c0_seq1   413514   413753  2.000000e-106       388       []   \n",
        "comp100005_c0_seq1  1138523  1138288  6.000000e-106       387       []   \n",
        "comp100005_c0_seq1   614626   614865  7.000000e-105       383       []   \n",
        "comp100005_c0_seq1   623703   623464  7.000000e-105       383       []   \n",
        "comp100005_c0_seq1   664804   664565  7.000000e-105       383       []   \n",
        "comp100005_c0_seq1   282867   282629  3.000000e-104       381       []   \n",
        "comp100005_c0_seq1  1464138  1463900  3.000000e-104       381       []   \n",
        "comp100005_c0_seq1   520595   520356  3.000000e-103       377       []   \n",
        "comp100005_c0_seq1   402517   402756  2.000000e-101       372       []   \n",
        "comp100005_c0_seq1  1008810  1008571  2.000000e-101       372       []   \n",
        "comp100005_c0_seq1   164327   164088  7.000000e-100       366       []   \n",
        "comp100005_c0_seq1  1091773  1091534  7.000000e-100       366       []   \n",
        "comp100005_c0_seq1   254937   254699   1.000000e-97       359       []   \n",
        "comp100005_c0_seq1   323715   323951   2.000000e-96       355       []   \n",
        "comp100005_c0_seq1   434985   435224   2.000000e-96       355       []   \n",
        "comp100005_c0_seq1   679727   679963   2.000000e-96       355       []   \n",
        "comp100005_c0_seq1   971074   971314   7.000000e-95       350       []   \n",
        "comp100005_c0_seq1   598141   598380   8.000000e-90       333       []   \n",
        "comp100005_c0_seq1   140505   140268   3.000000e-89       331       []   \n",
        "comp100005_c0_seq1   242927   242806   2.000000e-45       185       []   \n",
        "comp100005_c0_seq1   255037   254798   3.000000e-98       361       []   \n",
        "comp100005_c0_seq1    11806    12044  6.000000e-101       370       []   \n",
        "comp100005_c0_seq1    20415    20176  7.000000e-105       383       []   \n",
        "comp100005_c0_seq1    12373    12134   7.000000e-95       350       []   \n",
        "comp100005_c0_seq1    10554    10793  3.000000e-108       394       []   \n",
        "comp100005_c0_seq1    15211    15450   7.000000e-95       350       []   \n",
        "comp100005_c0_seq1    11539    11778  3.000000e-103       377       []   \n",
        "comp100005_c0_seq1    12065    12304  2.000000e-101       372       []   \n",
        "comp100005_c0_seq1     7709     7473   2.000000e-96       355       []   \n",
        "comp100005_c0_seq1     4848     4610  3.000000e-104       381       []   \n",
        "comp100005_c0_seq1     6167     6409   4.000000e-92       340       []   \n",
        "comp100005_c0_seq1     6087     5847  7.000000e-105       383       []   \n",
        "comp100005_c0_seq1      502      741  3.000000e-103       377       []   \n",
        "comp100005_c0_seq1     4664     4425  3.000000e-103       377       []   \n",
        "comp100005_c0_seq1      157      396  2.000000e-101       372       []   \n",
        "comp100005_c0_seq1     3879     4114   6.000000e-91       337       []   \n",
        "\n",
        "                                    tr  \n",
        "comp100005_c0_seq1  comp100005_c0_seq1  \n",
        "comp100005_c0_seq1  comp100005_c0_seq1  \n",
        "comp100005_c0_seq1  comp100005_c0_seq1  \n",
        "comp100005_c0_seq1  comp100005_c0_seq1  \n",
        "comp100005_c0_seq1  comp100005_c0_seq1  \n",
        "comp100005_c0_seq1  comp100005_c0_seq1  \n",
        "comp100005_c0_seq1  comp100005_c0_seq1  \n",
        "comp100005_c0_seq1  comp100005_c0_seq1  \n",
        "comp100005_c0_seq1  comp100005_c0_seq1  \n",
        "comp100005_c0_seq1  comp100005_c0_seq1  \n",
        "comp100005_c0_seq1  comp100005_c0_seq1  \n",
        "comp100005_c0_seq1  comp100005_c0_seq1  \n",
        "comp100005_c0_seq1  comp100005_c0_seq1  \n",
        "comp100005_c0_seq1  comp100005_c0_seq1  \n",
        "comp100005_c0_seq1  comp100005_c0_seq1  \n",
        "comp100005_c0_seq1  comp100005_c0_seq1  \n",
        "comp100005_c0_seq1  comp100005_c0_seq1  \n",
        "comp100005_c0_seq1  comp100005_c0_seq1  \n",
        "comp100005_c0_seq1  comp100005_c0_seq1  \n",
        "comp100005_c0_seq1  comp100005_c0_seq1  \n",
        "comp100005_c0_seq1  comp100005_c0_seq1  \n",
        "comp100005_c0_seq1  comp100005_c0_seq1  \n",
        "comp100005_c0_seq1  comp100005_c0_seq1  \n",
        "comp100005_c0_seq1  comp100005_c0_seq1  \n",
        "comp100005_c0_seq1  comp100005_c0_seq1  \n",
        "comp100005_c0_seq1  comp100005_c0_seq1  \n",
        "comp100005_c0_seq1  comp100005_c0_seq1  \n",
        "comp100005_c0_seq1  comp100005_c0_seq1  \n",
        "comp100005_c0_seq1  comp100005_c0_seq1  \n",
        "comp100005_c0_seq1  comp100005_c0_seq1  \n",
        "comp100005_c0_seq1  comp100005_c0_seq1  \n",
        "comp100005_c0_seq1  comp100005_c0_seq1  \n",
        "comp100005_c0_seq1  comp100005_c0_seq1  \n",
        "comp100005_c0_seq1  comp100005_c0_seq1  \n",
        "comp100005_c0_seq1  comp100005_c0_seq1  \n",
        "comp100005_c0_seq1  comp100005_c0_seq1  \n",
        "comp100005_c0_seq1  comp100005_c0_seq1  \n",
        "comp100005_c0_seq1  comp100005_c0_seq1  \n",
        "comp100005_c0_seq1  comp100005_c0_seq1  \n",
        "comp100005_c0_seq1  comp100005_c0_seq1  \n",
        "comp100005_c0_seq1  comp100005_c0_seq1  \n",
        "comp100005_c0_seq1  comp100005_c0_seq1  \n",
        "comp100005_c0_seq1  comp100005_c0_seq1  \n",
        "comp100005_c0_seq1  comp100005_c0_seq1  "
       ]
      }
     ],
     "prompt_number": 261
    },
    {
     "cell_type": "markdown",
     "metadata": {},
     "source": [
      "Now, quantify features overlapped."
     ]
    },
    {
     "cell_type": "code",
     "collapsed": false,
     "input": [
      "overlapped_rows = set()"
     ],
     "language": "python",
     "metadata": {},
     "outputs": [],
     "prompt_number": 270
    },
    {
     "cell_type": "code",
     "collapsed": false,
     "input": [
      "_ = pM_blast_df.apply(lambda row: overlapped_rows.update(row.features), axis=1)"
     ],
     "language": "python",
     "metadata": {},
     "outputs": [],
     "prompt_number": 271
    },
    {
     "cell_type": "code",
     "collapsed": false,
     "input": [
      "'{:.2f}% of all features overlapped'.format(float(len(overlapped_rows)) / len(gtf_df) * 100)"
     ],
     "language": "python",
     "metadata": {},
     "outputs": [
      {
       "metadata": {},
       "output_type": "pyout",
       "prompt_number": 272,
       "text": [
        "'54.03% of all features overlapped'"
       ]
      }
     ],
     "prompt_number": 272
    },
    {
     "cell_type": "code",
     "collapsed": false,
     "input": [
      "for feature, perc in (gtf_df.ix[list(overlapped_rows)].groupby(by='feature').count().source / \\\n",
      "    gtf_df.groupby(by='feature', axis=0).count().source * 100).iteritems():\n",
      "    print '{:.2f}% of {:s} features overlapped'.format(perc, feature)"
     ],
     "language": "python",
     "metadata": {},
     "outputs": [
      {
       "output_type": "stream",
       "stream": "stdout",
       "text": [
        "50.09% of CDS features overlapped\n",
        "53.30% of UTR features overlapped\n",
        "50.36% of exon features overlapped\n",
        "85.18% of gene features overlapped\n",
        "42.81% of start_codon features overlapped\n",
        "46.05% of stop_codon features overlapped\n",
        "85.93% of transcript features overlapped\n"
       ]
      }
     ],
     "prompt_number": 273
    },
    {
     "cell_type": "code",
     "collapsed": false,
     "input": [
      "S = np.random.choice([0,1,2,3], size=100, replace=True)"
     ],
     "language": "python",
     "metadata": {},
     "outputs": [],
     "prompt_number": 274
    },
    {
     "cell_type": "code",
     "collapsed": false,
     "input": [
      "int_nucl_arr = np.array(['A', 'C', 'G', 'T'])\n",
      "\n",
      "def int_to_dna(arr):\n",
      "    if type(arr) is np.ndarray:\n",
      "        return np.apply_along_axis(lambda x: int_nucl_arr[x], 0, arr)\n",
      "    else:\n",
      "        raise TypeError('Must supply np.ndarray ({} was given)'.format(type(arr)))"
     ],
     "language": "python",
     "metadata": {},
     "outputs": [],
     "prompt_number": 296
    },
    {
     "cell_type": "code",
     "collapsed": false,
     "input": [
      "int_to_dna(S)"
     ],
     "language": "python",
     "metadata": {},
     "outputs": [
      {
       "metadata": {},
       "output_type": "pyout",
       "prompt_number": 297,
       "text": [
        "array(['C', 'T', 'T', 'G', 'C', 'G', 'C', 'C', 'T', 'T', 'C', 'A', 'G',\n",
        "       'C', 'C', 'T', 'T', 'A', 'T', 'T', 'G', 'A', 'G', 'G', 'C', 'A',\n",
        "       'T', 'C', 'A', 'C', 'C', 'T', 'T', 'T', 'G', 'G', 'T', 'T', 'G',\n",
        "       'T', 'T', 'G', 'G', 'T', 'T', 'C', 'A', 'T', 'C', 'A', 'C', 'G',\n",
        "       'C', 'C', 'G', 'G', 'T', 'C', 'A', 'C', 'G', 'T', 'C', 'G', 'C',\n",
        "       'T', 'A', 'G', 'A', 'G', 'A', 'A', 'T', 'A', 'T', 'G', 'A', 'A',\n",
        "       'C', 'C', 'G', 'G', 'C', 'A', 'A', 'A', 'A', 'G', 'C', 'C', 'T',\n",
        "       'G', 'G', 'A', 'A', 'A', 'G', 'C', 'A', 'A'], \n",
        "      dtype='|S1')"
       ]
      }
     ],
     "prompt_number": 297
    },
    {
     "cell_type": "code",
     "collapsed": false,
     "input": [
      "np.isscalar(1)"
     ],
     "language": "python",
     "metadata": {},
     "outputs": [
      {
       "metadata": {},
       "output_type": "pyout",
       "prompt_number": 291,
       "text": [
        "True"
       ]
      }
     ],
     "prompt_number": 291
    },
    {
     "cell_type": "code",
     "collapsed": false,
     "input": [],
     "language": "python",
     "metadata": {},
     "outputs": []
    }
   ],
   "metadata": {}
  }
 ]
}