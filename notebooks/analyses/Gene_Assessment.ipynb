{
 "metadata": {
  "name": "",
  "signature": "sha256:ccc718e77bf87091d3076780bb7e30e32f7877e39e2346a488111e3d3ff2d99e"
 },
 "nbformat": 3,
 "nbformat_minor": 0,
 "worksheets": [
  {
   "cells": [
    {
     "cell_type": "code",
     "collapsed": false,
     "input": [
      "%load_ext autoreload\n",
      "%autoreload 2\n",
      "\n",
      "from itertools import izip\n",
      "\n",
      "import pandas as pd\n",
      "from pandas import Categorical\n",
      "\n",
      "import numpy as np\n",
      "from numpy.random import rand\n",
      "from scipy import stats\n",
      "\n",
      "import matplotlib as mpl\n",
      "import matplotlib.pyplot as plt\n",
      "\n",
      "import seaborn as sns\n",
      "from collections import defaultdict as dd"
     ],
     "language": "python",
     "metadata": {},
     "outputs": [],
     "prompt_number": 1
    },
    {
     "cell_type": "code",
     "collapsed": false,
     "input": [
      "from peasoup import geneq\n",
      "from peasoup import configtools"
     ],
     "language": "python",
     "metadata": {},
     "outputs": [],
     "prompt_number": 2
    },
    {
     "cell_type": "code",
     "collapsed": false,
     "input": [
      "blast_cols=[\"sseqid\",\"length\",\"nident\",\"qstart\",\"qend\",\"sstart\",\"send\",\"bitscore\",\"evalue\"]"
     ],
     "language": "python",
     "metadata": {},
     "outputs": [],
     "prompt_number": 2
    },
    {
     "cell_type": "code",
     "collapsed": false,
     "input": [
      "iso_rsem_df = pd.read_csv('../../all.lamp3.iso.rsem.matrix', delimiter='\\t', index_col=0)\n",
      "iso_support_df = pd.DataFrame(index=iso_rsem_df.index)\n",
      "for col in iso_rsem_df:\n",
      "    iso_support_df[col] = 0\n",
      "    iso_support_df.loc[iso_rsem_df[col] > 1.0, col] = 1"
     ],
     "language": "python",
     "metadata": {},
     "outputs": [],
     "prompt_number": 3
    },
    {
     "cell_type": "code",
     "collapsed": false,
     "input": [
      "blast_df = pd.read_csv('blast_matches.csv', index_col=0)"
     ],
     "language": "python",
     "metadata": {},
     "outputs": [],
     "prompt_number": 387
    },
    {
     "cell_type": "code",
     "collapsed": false,
     "input": [
      "petMar2_genes = pd.read_csv('geneName.txt', delimiter='\\t', header=False, index_col=0, names=['gene', 'id'])"
     ],
     "language": "python",
     "metadata": {},
     "outputs": [],
     "prompt_number": 703
    },
    {
     "cell_type": "code",
     "collapsed": false,
     "input": [
      "petMar2_genes['gene'] = [name.lower() if type(name) is str else name for name in petMar2_genes.gene]"
     ],
     "language": "python",
     "metadata": {},
     "outputs": [],
     "prompt_number": 707
    },
    {
     "cell_type": "code",
     "collapsed": false,
     "input": [
      "petMar2_desc = pd.read_csv('description.txt', delimiter='\\t', header=False, index_col=0, names=['desc', 'id'])"
     ],
     "language": "python",
     "metadata": {},
     "outputs": [],
     "prompt_number": 734
    },
    {
     "cell_type": "code",
     "collapsed": false,
     "input": [
      "# in mouse, zebrafish, amph, but not in lamprey resources\n",
      "not_genome = (blast_df.putative_new & (blast_df.xgenome == False))"
     ],
     "language": "python",
     "metadata": {},
     "outputs": [],
     "prompt_number": 705
    },
    {
     "cell_type": "code",
     "collapsed": false,
     "input": [
      "import mygene\n",
      "mg = mygene.MyGeneInfo()"
     ],
     "language": "python",
     "metadata": {},
     "outputs": [],
     "prompt_number": 4
    },
    {
     "cell_type": "code",
     "collapsed": false,
     "input": [
      "uniprot_df = pd.DataFrame(index=iso_support_df.index)\n",
      "tmp = pd.read_csv('lamp3.uniprot.blastx', header=None, delimiter='\\t', index_col = 0,\n",
      "                            names=['sseqid', 'pident', 'length', 'mismatch', 'gapopen', \n",
      "                                   'qstart', 'qend', 'sstart', 'send', 'evalue', 'bitscore'],\n",
      "                            converters={'sseqid': lambda s: s.split('|')[1]})\n",
      "\n",
      "tmp['ind'] = tmp.index\n",
      "tmp.drop_duplicates(cols='ind', inplace=True)\n",
      "del tmp['ind']\n",
      "\n",
      "uniprot_df = pd.merge(iso_support_df, tmp[tmp.evalue <= .000001],\n",
      "                      left_index=True, right_index=True, how='left')['sseqid']"
     ],
     "language": "python",
     "metadata": {},
     "outputs": [],
     "prompt_number": 609
    },
    {
     "cell_type": "code",
     "collapsed": false,
     "input": [
      "subject_df = pd.DataFrame(index=iso_support_df.index)\n",
      "\n",
      "subject_df['uniprot'] = uniprot_df\n",
      "\n",
      "subject_df['pmzm'] = pd.merge(iso_support_df,\n",
      "                      pd.read_csv('../../x.genome.best.csv', header=None, index_col=0, names=blast_cols),\n",
      "                      left_index=True, right_index=True, how='left')['sseqid']\n",
      "\n",
      "subject_df['musm'] = pd.merge(iso_support_df,\n",
      "                      pd.read_csv('../../x.mouse.best.csv', header=None, index_col=0, names=blast_cols),\n",
      "                      left_index=True, right_index=True, how='left')['sseqid']\n",
      "\n",
      "subject_df['danr'] = pd.merge(iso_support_df,\n",
      "                      pd.read_csv('../../x.zebrafish.best.csv', header=None, index_col=0, names=blast_cols),\n",
      "                      left_index=True, right_index=True, how='left')['sseqid']\n",
      "\n",
      "subject_df['braf'] = pd.merge(iso_support_df,\n",
      "                      pd.read_csv('../../x.amph.best.csv', header=None, index_col=0, names=blast_cols,\n",
      "                                  converters={'sseqid': lambda s: s.rsplit('|')[1]}),\n",
      "                      left_index=True, right_index=True, how='left')['sseqid']"
     ],
     "language": "python",
     "metadata": {},
     "outputs": [],
     "prompt_number": 611
    },
    {
     "cell_type": "code",
     "collapsed": false,
     "input": [
      "protein_subjectids = list(set(zebrafish_df.sseqid)) + list(set(mouse_df.sseqid)) + \\\n",
      "                        list(set(amph_df.sseqid))"
     ],
     "language": "python",
     "metadata": {},
     "outputs": [],
     "prompt_number": 614
    },
    {
     "cell_type": "code",
     "collapsed": false,
     "input": [
      "uniprot_genetags = mg.querymany(list(uniprot_df.sseqid), scopes='ensemblprotein,uniprot,symbol', species='all')"
     ],
     "language": "python",
     "metadata": {},
     "outputs": [
      {
       "output_type": "stream",
       "stream": "stdout",
       "text": [
        "querying 1-1000...done."
       ]
      },
      {
       "output_type": "stream",
       "stream": "stdout",
       "text": [
        "\n",
        "querying 1001-2000..."
       ]
      },
      {
       "output_type": "stream",
       "stream": "stdout",
       "text": [
        "done."
       ]
      },
      {
       "output_type": "stream",
       "stream": "stdout",
       "text": [
        "\n",
        "querying 2001-3000..."
       ]
      },
      {
       "output_type": "stream",
       "stream": "stdout",
       "text": [
        "done."
       ]
      },
      {
       "output_type": "stream",
       "stream": "stdout",
       "text": [
        "\n",
        "querying 3001-4000..."
       ]
      },
      {
       "output_type": "stream",
       "stream": "stdout",
       "text": [
        "done."
       ]
      },
      {
       "output_type": "stream",
       "stream": "stdout",
       "text": [
        "\n",
        "querying 4001-5000..."
       ]
      },
      {
       "output_type": "stream",
       "stream": "stdout",
       "text": [
        "done."
       ]
      },
      {
       "output_type": "stream",
       "stream": "stdout",
       "text": [
        "\n",
        "querying 5001-6000..."
       ]
      },
      {
       "output_type": "stream",
       "stream": "stdout",
       "text": [
        "done."
       ]
      },
      {
       "output_type": "stream",
       "stream": "stdout",
       "text": [
        "\n",
        "querying 6001-7000..."
       ]
      },
      {
       "output_type": "stream",
       "stream": "stdout",
       "text": [
        "done."
       ]
      },
      {
       "output_type": "stream",
       "stream": "stdout",
       "text": [
        "\n",
        "querying 7001-8000..."
       ]
      },
      {
       "output_type": "stream",
       "stream": "stdout",
       "text": [
        "done."
       ]
      },
      {
       "output_type": "stream",
       "stream": "stdout",
       "text": [
        "\n",
        "querying 8001-9000..."
       ]
      },
      {
       "output_type": "stream",
       "stream": "stdout",
       "text": [
        "done."
       ]
      },
      {
       "output_type": "stream",
       "stream": "stdout",
       "text": [
        "\n",
        "querying 9001-10000..."
       ]
      },
      {
       "output_type": "stream",
       "stream": "stdout",
       "text": [
        "done."
       ]
      },
      {
       "output_type": "stream",
       "stream": "stdout",
       "text": [
        "\n",
        "querying 10001-11000..."
       ]
      },
      {
       "output_type": "stream",
       "stream": "stdout",
       "text": [
        "done."
       ]
      },
      {
       "output_type": "stream",
       "stream": "stdout",
       "text": [
        "\n",
        "querying 11001-12000..."
       ]
      },
      {
       "output_type": "stream",
       "stream": "stdout",
       "text": [
        "done."
       ]
      },
      {
       "output_type": "stream",
       "stream": "stdout",
       "text": [
        "\n",
        "querying 12001-13000..."
       ]
      },
      {
       "output_type": "stream",
       "stream": "stdout",
       "text": [
        "done."
       ]
      },
      {
       "output_type": "stream",
       "stream": "stdout",
       "text": [
        "\n",
        "querying 13001-14000..."
       ]
      },
      {
       "output_type": "stream",
       "stream": "stdout",
       "text": [
        "done."
       ]
      },
      {
       "output_type": "stream",
       "stream": "stdout",
       "text": [
        "\n",
        "querying 14001-15000..."
       ]
      },
      {
       "output_type": "stream",
       "stream": "stdout",
       "text": [
        "done."
       ]
      },
      {
       "output_type": "stream",
       "stream": "stdout",
       "text": [
        "\n",
        "querying 15001-16000..."
       ]
      },
      {
       "output_type": "stream",
       "stream": "stdout",
       "text": [
        "done."
       ]
      },
      {
       "output_type": "stream",
       "stream": "stdout",
       "text": [
        "\n",
        "querying 16001-17000..."
       ]
      },
      {
       "output_type": "stream",
       "stream": "stdout",
       "text": [
        "done."
       ]
      },
      {
       "output_type": "stream",
       "stream": "stdout",
       "text": [
        "\n",
        "querying 17001-18000..."
       ]
      },
      {
       "output_type": "stream",
       "stream": "stdout",
       "text": [
        "done."
       ]
      },
      {
       "output_type": "stream",
       "stream": "stdout",
       "text": [
        "\n",
        "querying 18001-19000..."
       ]
      },
      {
       "output_type": "stream",
       "stream": "stdout",
       "text": [
        "done."
       ]
      },
      {
       "output_type": "stream",
       "stream": "stdout",
       "text": [
        "\n",
        "querying 19001-20000..."
       ]
      },
      {
       "output_type": "stream",
       "stream": "stdout",
       "text": [
        "done."
       ]
      },
      {
       "output_type": "stream",
       "stream": "stdout",
       "text": [
        "\n",
        "querying 20001-21000..."
       ]
      },
      {
       "output_type": "stream",
       "stream": "stdout",
       "text": [
        "done."
       ]
      },
      {
       "output_type": "stream",
       "stream": "stdout",
       "text": [
        "\n",
        "querying 21001-22000..."
       ]
      },
      {
       "output_type": "stream",
       "stream": "stdout",
       "text": [
        "done."
       ]
      },
      {
       "output_type": "stream",
       "stream": "stdout",
       "text": [
        "\n",
        "querying 22001-23000..."
       ]
      },
      {
       "output_type": "stream",
       "stream": "stdout",
       "text": [
        "done."
       ]
      },
      {
       "output_type": "stream",
       "stream": "stdout",
       "text": [
        "\n",
        "querying 23001-24000..."
       ]
      },
      {
       "output_type": "stream",
       "stream": "stdout",
       "text": [
        "done."
       ]
      },
      {
       "output_type": "stream",
       "stream": "stdout",
       "text": [
        "\n",
        "querying 24001-25000..."
       ]
      },
      {
       "output_type": "stream",
       "stream": "stdout",
       "text": [
        "done."
       ]
      },
      {
       "output_type": "stream",
       "stream": "stdout",
       "text": [
        "\n",
        "querying 25001-26000..."
       ]
      },
      {
       "output_type": "stream",
       "stream": "stdout",
       "text": [
        "done."
       ]
      },
      {
       "output_type": "stream",
       "stream": "stdout",
       "text": [
        "\n",
        "querying 26001-27000..."
       ]
      },
      {
       "output_type": "stream",
       "stream": "stdout",
       "text": [
        "done."
       ]
      },
      {
       "output_type": "stream",
       "stream": "stdout",
       "text": [
        "\n",
        "querying 27001-28000..."
       ]
      },
      {
       "output_type": "stream",
       "stream": "stdout",
       "text": [
        "done."
       ]
      },
      {
       "output_type": "stream",
       "stream": "stdout",
       "text": [
        "\n",
        "querying 28001-29000..."
       ]
      },
      {
       "output_type": "stream",
       "stream": "stdout",
       "text": [
        "done."
       ]
      },
      {
       "output_type": "stream",
       "stream": "stdout",
       "text": [
        "\n",
        "querying 29001-30000..."
       ]
      },
      {
       "output_type": "stream",
       "stream": "stdout",
       "text": [
        "done."
       ]
      },
      {
       "output_type": "stream",
       "stream": "stdout",
       "text": [
        "\n",
        "querying 30001-31000..."
       ]
      },
      {
       "output_type": "stream",
       "stream": "stdout",
       "text": [
        "done."
       ]
      },
      {
       "output_type": "stream",
       "stream": "stdout",
       "text": [
        "\n",
        "querying 31001-32000..."
       ]
      },
      {
       "output_type": "stream",
       "stream": "stdout",
       "text": [
        "done."
       ]
      },
      {
       "output_type": "stream",
       "stream": "stdout",
       "text": [
        "\n",
        "querying 32001-33000..."
       ]
      },
      {
       "output_type": "stream",
       "stream": "stdout",
       "text": [
        "done."
       ]
      },
      {
       "output_type": "stream",
       "stream": "stdout",
       "text": [
        "\n",
        "querying 33001-34000..."
       ]
      },
      {
       "output_type": "stream",
       "stream": "stdout",
       "text": [
        "done."
       ]
      },
      {
       "output_type": "stream",
       "stream": "stdout",
       "text": [
        "\n",
        "querying 34001-35000..."
       ]
      },
      {
       "output_type": "stream",
       "stream": "stdout",
       "text": [
        "done."
       ]
      },
      {
       "output_type": "stream",
       "stream": "stdout",
       "text": [
        "\n",
        "querying 35001-36000..."
       ]
      },
      {
       "output_type": "stream",
       "stream": "stdout",
       "text": [
        "done."
       ]
      },
      {
       "output_type": "stream",
       "stream": "stdout",
       "text": [
        "\n",
        "querying 36001-37000..."
       ]
      },
      {
       "output_type": "stream",
       "stream": "stdout",
       "text": [
        "done."
       ]
      },
      {
       "output_type": "stream",
       "stream": "stdout",
       "text": [
        "\n",
        "querying 37001-38000..."
       ]
      },
      {
       "output_type": "stream",
       "stream": "stdout",
       "text": [
        "done."
       ]
      },
      {
       "output_type": "stream",
       "stream": "stdout",
       "text": [
        "\n",
        "querying 38001-39000..."
       ]
      },
      {
       "output_type": "stream",
       "stream": "stdout",
       "text": [
        "done."
       ]
      },
      {
       "output_type": "stream",
       "stream": "stdout",
       "text": [
        "\n",
        "querying 39001-40000..."
       ]
      },
      {
       "output_type": "stream",
       "stream": "stdout",
       "text": [
        "done."
       ]
      },
      {
       "output_type": "stream",
       "stream": "stdout",
       "text": [
        "\n",
        "querying 40001-41000..."
       ]
      },
      {
       "output_type": "stream",
       "stream": "stdout",
       "text": [
        "done."
       ]
      },
      {
       "output_type": "stream",
       "stream": "stdout",
       "text": [
        "\n",
        "querying 41001-42000..."
       ]
      },
      {
       "output_type": "stream",
       "stream": "stdout",
       "text": [
        "done."
       ]
      },
      {
       "output_type": "stream",
       "stream": "stdout",
       "text": [
        "\n",
        "querying 42001-43000..."
       ]
      },
      {
       "output_type": "stream",
       "stream": "stdout",
       "text": [
        "done."
       ]
      },
      {
       "output_type": "stream",
       "stream": "stdout",
       "text": [
        "\n",
        "querying 43001-44000..."
       ]
      },
      {
       "output_type": "stream",
       "stream": "stdout",
       "text": [
        "done."
       ]
      },
      {
       "output_type": "stream",
       "stream": "stdout",
       "text": [
        "\n",
        "querying 44001-45000..."
       ]
      },
      {
       "output_type": "stream",
       "stream": "stdout",
       "text": [
        "done."
       ]
      },
      {
       "output_type": "stream",
       "stream": "stdout",
       "text": [
        "\n",
        "querying 45001-46000..."
       ]
      },
      {
       "output_type": "stream",
       "stream": "stdout",
       "text": [
        "done."
       ]
      },
      {
       "output_type": "stream",
       "stream": "stdout",
       "text": [
        "\n",
        "querying 46001-47000..."
       ]
      },
      {
       "output_type": "stream",
       "stream": "stdout",
       "text": [
        "done."
       ]
      },
      {
       "output_type": "stream",
       "stream": "stdout",
       "text": [
        "\n",
        "querying 47001-48000..."
       ]
      },
      {
       "output_type": "stream",
       "stream": "stdout",
       "text": [
        "done."
       ]
      },
      {
       "output_type": "stream",
       "stream": "stdout",
       "text": [
        "\n",
        "querying 48001-49000..."
       ]
      },
      {
       "output_type": "stream",
       "stream": "stdout",
       "text": [
        "done."
       ]
      },
      {
       "output_type": "stream",
       "stream": "stdout",
       "text": [
        "\n",
        "querying 49001-50000..."
       ]
      },
      {
       "output_type": "stream",
       "stream": "stdout",
       "text": [
        "done."
       ]
      },
      {
       "output_type": "stream",
       "stream": "stdout",
       "text": [
        "\n",
        "querying 50001-51000..."
       ]
      },
      {
       "output_type": "stream",
       "stream": "stdout",
       "text": [
        "done."
       ]
      },
      {
       "output_type": "stream",
       "stream": "stdout",
       "text": [
        "\n",
        "querying 51001-52000..."
       ]
      },
      {
       "output_type": "stream",
       "stream": "stdout",
       "text": [
        "done."
       ]
      },
      {
       "output_type": "stream",
       "stream": "stdout",
       "text": [
        "\n",
        "querying 52001-53000..."
       ]
      },
      {
       "output_type": "stream",
       "stream": "stdout",
       "text": [
        "done."
       ]
      },
      {
       "output_type": "stream",
       "stream": "stdout",
       "text": [
        "\n",
        "querying 53001-54000..."
       ]
      },
      {
       "output_type": "stream",
       "stream": "stdout",
       "text": [
        "done."
       ]
      },
      {
       "output_type": "stream",
       "stream": "stdout",
       "text": [
        "\n",
        "querying 54001-55000..."
       ]
      },
      {
       "output_type": "stream",
       "stream": "stdout",
       "text": [
        "done."
       ]
      },
      {
       "output_type": "stream",
       "stream": "stdout",
       "text": [
        "\n",
        "querying 55001-56000..."
       ]
      },
      {
       "output_type": "stream",
       "stream": "stdout",
       "text": [
        "done."
       ]
      },
      {
       "output_type": "stream",
       "stream": "stdout",
       "text": [
        "\n",
        "querying 56001-57000..."
       ]
      },
      {
       "output_type": "stream",
       "stream": "stdout",
       "text": [
        "done."
       ]
      },
      {
       "output_type": "stream",
       "stream": "stdout",
       "text": [
        "\n",
        "querying 57001-58000..."
       ]
      },
      {
       "output_type": "stream",
       "stream": "stdout",
       "text": [
        "done."
       ]
      },
      {
       "output_type": "stream",
       "stream": "stdout",
       "text": [
        "\n",
        "querying 58001-59000..."
       ]
      },
      {
       "output_type": "stream",
       "stream": "stdout",
       "text": [
        "done."
       ]
      },
      {
       "output_type": "stream",
       "stream": "stdout",
       "text": [
        "\n",
        "querying 59001-60000..."
       ]
      },
      {
       "output_type": "stream",
       "stream": "stdout",
       "text": [
        "done."
       ]
      },
      {
       "output_type": "stream",
       "stream": "stdout",
       "text": [
        "\n",
        "querying 60001-61000..."
       ]
      },
      {
       "output_type": "stream",
       "stream": "stdout",
       "text": [
        "done."
       ]
      },
      {
       "output_type": "stream",
       "stream": "stdout",
       "text": [
        "\n",
        "querying 61001-62000..."
       ]
      },
      {
       "output_type": "stream",
       "stream": "stdout",
       "text": [
        "done."
       ]
      },
      {
       "output_type": "stream",
       "stream": "stdout",
       "text": [
        "\n",
        "querying 62001-63000..."
       ]
      },
      {
       "output_type": "stream",
       "stream": "stdout",
       "text": [
        "done."
       ]
      },
      {
       "output_type": "stream",
       "stream": "stdout",
       "text": [
        "\n",
        "querying 63001-64000..."
       ]
      },
      {
       "output_type": "stream",
       "stream": "stdout",
       "text": [
        "done."
       ]
      },
      {
       "output_type": "stream",
       "stream": "stdout",
       "text": [
        "\n",
        "querying 64001-65000..."
       ]
      },
      {
       "output_type": "stream",
       "stream": "stdout",
       "text": [
        "done."
       ]
      },
      {
       "output_type": "stream",
       "stream": "stdout",
       "text": [
        "\n",
        "querying 65001-66000..."
       ]
      },
      {
       "output_type": "stream",
       "stream": "stdout",
       "text": [
        "done."
       ]
      },
      {
       "output_type": "stream",
       "stream": "stdout",
       "text": [
        "\n",
        "querying 66001-67000..."
       ]
      },
      {
       "output_type": "stream",
       "stream": "stdout",
       "text": [
        "done."
       ]
      },
      {
       "output_type": "stream",
       "stream": "stdout",
       "text": [
        "\n",
        "querying 67001-68000..."
       ]
      },
      {
       "output_type": "stream",
       "stream": "stdout",
       "text": [
        "done."
       ]
      },
      {
       "output_type": "stream",
       "stream": "stdout",
       "text": [
        "\n",
        "querying 68001-69000..."
       ]
      },
      {
       "output_type": "stream",
       "stream": "stdout",
       "text": [
        "done."
       ]
      },
      {
       "output_type": "stream",
       "stream": "stdout",
       "text": [
        "\n",
        "querying 69001-70000..."
       ]
      },
      {
       "output_type": "stream",
       "stream": "stdout",
       "text": [
        "done."
       ]
      },
      {
       "output_type": "stream",
       "stream": "stdout",
       "text": [
        "\n",
        "querying 70001-71000..."
       ]
      },
      {
       "output_type": "stream",
       "stream": "stdout",
       "text": [
        "done."
       ]
      },
      {
       "output_type": "stream",
       "stream": "stdout",
       "text": [
        "\n",
        "querying 71001-72000..."
       ]
      },
      {
       "output_type": "stream",
       "stream": "stdout",
       "text": [
        "done."
       ]
      },
      {
       "output_type": "stream",
       "stream": "stdout",
       "text": [
        "\n",
        "querying 72001-73000..."
       ]
      },
      {
       "output_type": "stream",
       "stream": "stdout",
       "text": [
        "done."
       ]
      },
      {
       "output_type": "stream",
       "stream": "stdout",
       "text": [
        "\n",
        "querying 73001-74000..."
       ]
      },
      {
       "output_type": "stream",
       "stream": "stdout",
       "text": [
        "done."
       ]
      },
      {
       "output_type": "stream",
       "stream": "stdout",
       "text": [
        "\n",
        "querying 74001-75000..."
       ]
      },
      {
       "output_type": "stream",
       "stream": "stdout",
       "text": [
        "done."
       ]
      },
      {
       "output_type": "stream",
       "stream": "stdout",
       "text": [
        "\n",
        "querying 75001-76000..."
       ]
      },
      {
       "output_type": "stream",
       "stream": "stdout",
       "text": [
        "done."
       ]
      },
      {
       "output_type": "stream",
       "stream": "stdout",
       "text": [
        "\n",
        "querying 76001-77000..."
       ]
      },
      {
       "output_type": "stream",
       "stream": "stdout",
       "text": [
        "done."
       ]
      },
      {
       "output_type": "stream",
       "stream": "stdout",
       "text": [
        "\n",
        "querying 77001-78000..."
       ]
      },
      {
       "output_type": "stream",
       "stream": "stdout",
       "text": [
        "done."
       ]
      },
      {
       "output_type": "stream",
       "stream": "stdout",
       "text": [
        "\n",
        "querying 78001-79000..."
       ]
      },
      {
       "output_type": "stream",
       "stream": "stdout",
       "text": [
        "done."
       ]
      },
      {
       "output_type": "stream",
       "stream": "stdout",
       "text": [
        "\n",
        "querying 79001-80000..."
       ]
      },
      {
       "output_type": "stream",
       "stream": "stdout",
       "text": [
        "done."
       ]
      },
      {
       "output_type": "stream",
       "stream": "stdout",
       "text": [
        "\n",
        "querying 80001-81000..."
       ]
      },
      {
       "output_type": "stream",
       "stream": "stdout",
       "text": [
        "done."
       ]
      },
      {
       "output_type": "stream",
       "stream": "stdout",
       "text": [
        "\n",
        "querying 81001-82000..."
       ]
      },
      {
       "output_type": "stream",
       "stream": "stdout",
       "text": [
        "done."
       ]
      },
      {
       "output_type": "stream",
       "stream": "stdout",
       "text": [
        "\n",
        "querying 82001-83000..."
       ]
      },
      {
       "output_type": "stream",
       "stream": "stdout",
       "text": [
        "done."
       ]
      },
      {
       "output_type": "stream",
       "stream": "stdout",
       "text": [
        "\n",
        "querying 83001-84000..."
       ]
      },
      {
       "output_type": "stream",
       "stream": "stdout",
       "text": [
        "done."
       ]
      },
      {
       "output_type": "stream",
       "stream": "stdout",
       "text": [
        "\n",
        "querying 84001-85000..."
       ]
      },
      {
       "output_type": "stream",
       "stream": "stdout",
       "text": [
        "done."
       ]
      },
      {
       "output_type": "stream",
       "stream": "stdout",
       "text": [
        "\n",
        "querying 85001-86000..."
       ]
      },
      {
       "output_type": "stream",
       "stream": "stdout",
       "text": [
        "done."
       ]
      },
      {
       "output_type": "stream",
       "stream": "stdout",
       "text": [
        "\n",
        "querying 86001-87000..."
       ]
      },
      {
       "output_type": "stream",
       "stream": "stdout",
       "text": [
        "done."
       ]
      },
      {
       "output_type": "stream",
       "stream": "stdout",
       "text": [
        "\n",
        "querying 87001-88000..."
       ]
      },
      {
       "output_type": "stream",
       "stream": "stdout",
       "text": [
        "done."
       ]
      },
      {
       "output_type": "stream",
       "stream": "stdout",
       "text": [
        "\n",
        "querying 88001-89000..."
       ]
      },
      {
       "output_type": "stream",
       "stream": "stdout",
       "text": [
        "done."
       ]
      },
      {
       "output_type": "stream",
       "stream": "stdout",
       "text": [
        "\n",
        "querying 89001-90000..."
       ]
      },
      {
       "output_type": "stream",
       "stream": "stdout",
       "text": [
        "done."
       ]
      },
      {
       "output_type": "stream",
       "stream": "stdout",
       "text": [
        "\n",
        "querying 90001-91000..."
       ]
      },
      {
       "output_type": "stream",
       "stream": "stdout",
       "text": [
        "done."
       ]
      },
      {
       "output_type": "stream",
       "stream": "stdout",
       "text": [
        "\n",
        "querying 91001-92000..."
       ]
      },
      {
       "output_type": "stream",
       "stream": "stdout",
       "text": [
        "done."
       ]
      },
      {
       "output_type": "stream",
       "stream": "stdout",
       "text": [
        "\n",
        "querying 92001-93000..."
       ]
      },
      {
       "output_type": "stream",
       "stream": "stdout",
       "text": [
        "done."
       ]
      },
      {
       "output_type": "stream",
       "stream": "stdout",
       "text": [
        "\n",
        "querying 93001-94000..."
       ]
      },
      {
       "output_type": "stream",
       "stream": "stdout",
       "text": [
        "done."
       ]
      },
      {
       "output_type": "stream",
       "stream": "stdout",
       "text": [
        "\n",
        "querying 94001-95000..."
       ]
      },
      {
       "output_type": "stream",
       "stream": "stdout",
       "text": [
        "done."
       ]
      },
      {
       "output_type": "stream",
       "stream": "stdout",
       "text": [
        "\n",
        "querying 95001-96000..."
       ]
      },
      {
       "output_type": "stream",
       "stream": "stdout",
       "text": [
        "done."
       ]
      },
      {
       "output_type": "stream",
       "stream": "stdout",
       "text": [
        "\n",
        "querying 96001-97000..."
       ]
      },
      {
       "output_type": "stream",
       "stream": "stdout",
       "text": [
        "done."
       ]
      },
      {
       "output_type": "stream",
       "stream": "stdout",
       "text": [
        "\n",
        "querying 97001-98000..."
       ]
      },
      {
       "output_type": "stream",
       "stream": "stdout",
       "text": [
        "done."
       ]
      },
      {
       "output_type": "stream",
       "stream": "stdout",
       "text": [
        "\n",
        "querying 98001-99000..."
       ]
      },
      {
       "output_type": "stream",
       "stream": "stdout",
       "text": [
        "done."
       ]
      },
      {
       "output_type": "stream",
       "stream": "stdout",
       "text": [
        "\n",
        "querying 99001-100000..."
       ]
      },
      {
       "output_type": "stream",
       "stream": "stdout",
       "text": [
        "done."
       ]
      },
      {
       "output_type": "stream",
       "stream": "stdout",
       "text": [
        "\n",
        "querying 100001-101000..."
       ]
      },
      {
       "output_type": "stream",
       "stream": "stdout",
       "text": [
        "done."
       ]
      },
      {
       "output_type": "stream",
       "stream": "stdout",
       "text": [
        "\n",
        "querying 101001-102000..."
       ]
      },
      {
       "output_type": "stream",
       "stream": "stdout",
       "text": [
        "done."
       ]
      },
      {
       "output_type": "stream",
       "stream": "stdout",
       "text": [
        "\n",
        "querying 102001-103000..."
       ]
      },
      {
       "output_type": "stream",
       "stream": "stdout",
       "text": [
        "done."
       ]
      },
      {
       "output_type": "stream",
       "stream": "stdout",
       "text": [
        "\n",
        "querying 103001-104000..."
       ]
      },
      {
       "output_type": "stream",
       "stream": "stdout",
       "text": [
        "done."
       ]
      },
      {
       "output_type": "stream",
       "stream": "stdout",
       "text": [
        "\n",
        "querying 104001-105000..."
       ]
      },
      {
       "output_type": "stream",
       "stream": "stdout",
       "text": [
        "done."
       ]
      },
      {
       "output_type": "stream",
       "stream": "stdout",
       "text": [
        "\n",
        "querying 105001-106000..."
       ]
      },
      {
       "output_type": "stream",
       "stream": "stdout",
       "text": [
        "done."
       ]
      },
      {
       "output_type": "stream",
       "stream": "stdout",
       "text": [
        "\n",
        "querying 106001-107000..."
       ]
      },
      {
       "output_type": "stream",
       "stream": "stdout",
       "text": [
        "done."
       ]
      },
      {
       "output_type": "stream",
       "stream": "stdout",
       "text": [
        "\n",
        "querying 107001-108000..."
       ]
      },
      {
       "output_type": "stream",
       "stream": "stdout",
       "text": [
        "done."
       ]
      },
      {
       "output_type": "stream",
       "stream": "stdout",
       "text": [
        "\n",
        "querying 108001-109000..."
       ]
      },
      {
       "output_type": "stream",
       "stream": "stdout",
       "text": [
        "done."
       ]
      },
      {
       "output_type": "stream",
       "stream": "stdout",
       "text": [
        "\n",
        "querying 109001-110000..."
       ]
      },
      {
       "output_type": "stream",
       "stream": "stdout",
       "text": [
        "done."
       ]
      },
      {
       "output_type": "stream",
       "stream": "stdout",
       "text": [
        "\n",
        "querying 110001-111000..."
       ]
      },
      {
       "output_type": "stream",
       "stream": "stdout",
       "text": [
        "done."
       ]
      },
      {
       "output_type": "stream",
       "stream": "stdout",
       "text": [
        "\n",
        "querying 111001-112000..."
       ]
      },
      {
       "output_type": "stream",
       "stream": "stdout",
       "text": [
        "done."
       ]
      },
      {
       "output_type": "stream",
       "stream": "stdout",
       "text": [
        "\n",
        "querying 112001-113000..."
       ]
      },
      {
       "output_type": "stream",
       "stream": "stdout",
       "text": [
        "done."
       ]
      },
      {
       "output_type": "stream",
       "stream": "stdout",
       "text": [
        "\n",
        "querying 113001-114000..."
       ]
      },
      {
       "output_type": "stream",
       "stream": "stdout",
       "text": [
        "done."
       ]
      },
      {
       "output_type": "stream",
       "stream": "stdout",
       "text": [
        "\n",
        "querying 114001-115000..."
       ]
      },
      {
       "output_type": "stream",
       "stream": "stdout",
       "text": [
        "done."
       ]
      },
      {
       "output_type": "stream",
       "stream": "stdout",
       "text": [
        "\n",
        "querying 115001-116000..."
       ]
      },
      {
       "output_type": "stream",
       "stream": "stdout",
       "text": [
        "done."
       ]
      },
      {
       "output_type": "stream",
       "stream": "stdout",
       "text": [
        "\n",
        "querying 116001-117000..."
       ]
      },
      {
       "output_type": "stream",
       "stream": "stdout",
       "text": [
        "done."
       ]
      },
      {
       "output_type": "stream",
       "stream": "stdout",
       "text": [
        "\n",
        "querying 117001-118000..."
       ]
      },
      {
       "output_type": "stream",
       "stream": "stdout",
       "text": [
        "done."
       ]
      },
      {
       "output_type": "stream",
       "stream": "stdout",
       "text": [
        "\n",
        "querying 118001-119000..."
       ]
      },
      {
       "output_type": "stream",
       "stream": "stdout",
       "text": [
        "done."
       ]
      },
      {
       "output_type": "stream",
       "stream": "stdout",
       "text": [
        "\n",
        "querying 119001-120000..."
       ]
      },
      {
       "output_type": "stream",
       "stream": "stdout",
       "text": [
        "done."
       ]
      },
      {
       "output_type": "stream",
       "stream": "stdout",
       "text": [
        "\n",
        "querying 120001-121000..."
       ]
      },
      {
       "output_type": "stream",
       "stream": "stdout",
       "text": [
        "done."
       ]
      },
      {
       "output_type": "stream",
       "stream": "stdout",
       "text": [
        "\n",
        "querying 121001-122000..."
       ]
      },
      {
       "output_type": "stream",
       "stream": "stdout",
       "text": [
        "done."
       ]
      },
      {
       "output_type": "stream",
       "stream": "stdout",
       "text": [
        "\n",
        "querying 122001-123000..."
       ]
      },
      {
       "output_type": "stream",
       "stream": "stdout",
       "text": [
        "done."
       ]
      },
      {
       "output_type": "stream",
       "stream": "stdout",
       "text": [
        "\n",
        "querying 123001-124000..."
       ]
      },
      {
       "output_type": "stream",
       "stream": "stdout",
       "text": [
        "done."
       ]
      },
      {
       "output_type": "stream",
       "stream": "stdout",
       "text": [
        "\n",
        "querying 124001-125000..."
       ]
      },
      {
       "output_type": "stream",
       "stream": "stdout",
       "text": [
        "done."
       ]
      },
      {
       "output_type": "stream",
       "stream": "stdout",
       "text": [
        "\n",
        "querying 125001-126000..."
       ]
      },
      {
       "output_type": "stream",
       "stream": "stdout",
       "text": [
        "done."
       ]
      },
      {
       "output_type": "stream",
       "stream": "stdout",
       "text": [
        "\n",
        "querying 126001-127000..."
       ]
      },
      {
       "output_type": "stream",
       "stream": "stdout",
       "text": [
        "done."
       ]
      },
      {
       "output_type": "stream",
       "stream": "stdout",
       "text": [
        "\n",
        "querying 127001-128000..."
       ]
      },
      {
       "output_type": "stream",
       "stream": "stdout",
       "text": [
        "done."
       ]
      },
      {
       "output_type": "stream",
       "stream": "stdout",
       "text": [
        "\n",
        "querying 128001-129000..."
       ]
      },
      {
       "output_type": "stream",
       "stream": "stdout",
       "text": [
        "done."
       ]
      },
      {
       "output_type": "stream",
       "stream": "stdout",
       "text": [
        "\n",
        "querying 129001-130000..."
       ]
      },
      {
       "output_type": "stream",
       "stream": "stdout",
       "text": [
        "done."
       ]
      },
      {
       "output_type": "stream",
       "stream": "stdout",
       "text": [
        "\n",
        "querying 130001-131000..."
       ]
      },
      {
       "output_type": "stream",
       "stream": "stdout",
       "text": [
        "done."
       ]
      },
      {
       "output_type": "stream",
       "stream": "stdout",
       "text": [
        "\n",
        "querying 131001-132000..."
       ]
      },
      {
       "output_type": "stream",
       "stream": "stdout",
       "text": [
        "done."
       ]
      },
      {
       "output_type": "stream",
       "stream": "stdout",
       "text": [
        "\n",
        "querying 132001-133000..."
       ]
      },
      {
       "output_type": "stream",
       "stream": "stdout",
       "text": [
        "done."
       ]
      },
      {
       "output_type": "stream",
       "stream": "stdout",
       "text": [
        "\n",
        "querying 133001-134000..."
       ]
      },
      {
       "output_type": "stream",
       "stream": "stdout",
       "text": [
        "done."
       ]
      },
      {
       "output_type": "stream",
       "stream": "stdout",
       "text": [
        "\n",
        "querying 134001-135000..."
       ]
      },
      {
       "output_type": "stream",
       "stream": "stdout",
       "text": [
        "done."
       ]
      },
      {
       "output_type": "stream",
       "stream": "stdout",
       "text": [
        "\n",
        "querying 135001-136000..."
       ]
      },
      {
       "output_type": "stream",
       "stream": "stdout",
       "text": [
        "done."
       ]
      },
      {
       "output_type": "stream",
       "stream": "stdout",
       "text": [
        "\n",
        "querying 136001-137000..."
       ]
      },
      {
       "output_type": "stream",
       "stream": "stdout",
       "text": [
        "done."
       ]
      },
      {
       "output_type": "stream",
       "stream": "stdout",
       "text": [
        "\n",
        "querying 137001-138000..."
       ]
      },
      {
       "output_type": "stream",
       "stream": "stdout",
       "text": [
        "done."
       ]
      },
      {
       "output_type": "stream",
       "stream": "stdout",
       "text": [
        "\n",
        "querying 138001-139000..."
       ]
      },
      {
       "output_type": "stream",
       "stream": "stdout",
       "text": [
        "done."
       ]
      },
      {
       "output_type": "stream",
       "stream": "stdout",
       "text": [
        "\n",
        "querying 139001-140000..."
       ]
      },
      {
       "output_type": "stream",
       "stream": "stdout",
       "text": [
        "done."
       ]
      },
      {
       "output_type": "stream",
       "stream": "stdout",
       "text": [
        "\n",
        "querying 140001-141000..."
       ]
      },
      {
       "output_type": "stream",
       "stream": "stdout",
       "text": [
        "done."
       ]
      },
      {
       "output_type": "stream",
       "stream": "stdout",
       "text": [
        "\n",
        "querying 141001-142000..."
       ]
      },
      {
       "output_type": "stream",
       "stream": "stdout",
       "text": [
        "done."
       ]
      },
      {
       "output_type": "stream",
       "stream": "stdout",
       "text": [
        "\n",
        "querying 142001-143000..."
       ]
      },
      {
       "output_type": "stream",
       "stream": "stdout",
       "text": [
        "done."
       ]
      },
      {
       "output_type": "stream",
       "stream": "stdout",
       "text": [
        "\n",
        "querying 143001-144000..."
       ]
      },
      {
       "output_type": "stream",
       "stream": "stdout",
       "text": [
        "done."
       ]
      },
      {
       "output_type": "stream",
       "stream": "stdout",
       "text": [
        "\n",
        "querying 144001-145000..."
       ]
      },
      {
       "output_type": "stream",
       "stream": "stdout",
       "text": [
        "done."
       ]
      },
      {
       "output_type": "stream",
       "stream": "stdout",
       "text": [
        "\n",
        "querying 145001-146000..."
       ]
      },
      {
       "output_type": "stream",
       "stream": "stdout",
       "text": [
        "done."
       ]
      },
      {
       "output_type": "stream",
       "stream": "stdout",
       "text": [
        "\n",
        "querying 146001-147000..."
       ]
      },
      {
       "output_type": "stream",
       "stream": "stdout",
       "text": [
        "done."
       ]
      },
      {
       "output_type": "stream",
       "stream": "stdout",
       "text": [
        "\n",
        "querying 147001-148000..."
       ]
      },
      {
       "output_type": "stream",
       "stream": "stdout",
       "text": [
        "done."
       ]
      },
      {
       "output_type": "stream",
       "stream": "stdout",
       "text": [
        "\n",
        "querying 148001-149000..."
       ]
      },
      {
       "output_type": "stream",
       "stream": "stdout",
       "text": [
        "done."
       ]
      },
      {
       "output_type": "stream",
       "stream": "stdout",
       "text": [
        "\n",
        "querying 149001-150000..."
       ]
      },
      {
       "output_type": "stream",
       "stream": "stdout",
       "text": [
        "done."
       ]
      },
      {
       "output_type": "stream",
       "stream": "stdout",
       "text": [
        "\n",
        "querying 150001-151000..."
       ]
      },
      {
       "output_type": "stream",
       "stream": "stdout",
       "text": [
        "done."
       ]
      },
      {
       "output_type": "stream",
       "stream": "stdout",
       "text": [
        "\n",
        "querying 151001-152000..."
       ]
      },
      {
       "output_type": "stream",
       "stream": "stdout",
       "text": [
        "done."
       ]
      },
      {
       "output_type": "stream",
       "stream": "stdout",
       "text": [
        "\n",
        "querying 152001-153000..."
       ]
      },
      {
       "output_type": "stream",
       "stream": "stdout",
       "text": [
        "done."
       ]
      },
      {
       "output_type": "stream",
       "stream": "stdout",
       "text": [
        "\n",
        "querying 153001-154000..."
       ]
      },
      {
       "output_type": "stream",
       "stream": "stdout",
       "text": [
        "done."
       ]
      },
      {
       "output_type": "stream",
       "stream": "stdout",
       "text": [
        "\n",
        "querying 154001-155000..."
       ]
      },
      {
       "output_type": "stream",
       "stream": "stdout",
       "text": [
        "done."
       ]
      },
      {
       "output_type": "stream",
       "stream": "stdout",
       "text": [
        "\n",
        "querying 155001-156000..."
       ]
      },
      {
       "output_type": "stream",
       "stream": "stdout",
       "text": [
        "done."
       ]
      },
      {
       "output_type": "stream",
       "stream": "stdout",
       "text": [
        "\n",
        "querying 156001-157000..."
       ]
      },
      {
       "output_type": "stream",
       "stream": "stdout",
       "text": [
        "done."
       ]
      },
      {
       "output_type": "stream",
       "stream": "stdout",
       "text": [
        "\n",
        "querying 157001-158000..."
       ]
      },
      {
       "output_type": "stream",
       "stream": "stdout",
       "text": [
        "done."
       ]
      },
      {
       "output_type": "stream",
       "stream": "stdout",
       "text": [
        "\n",
        "querying 158001-159000..."
       ]
      },
      {
       "output_type": "stream",
       "stream": "stdout",
       "text": [
        "done."
       ]
      },
      {
       "output_type": "stream",
       "stream": "stdout",
       "text": [
        "\n",
        "querying 159001-160000..."
       ]
      },
      {
       "output_type": "stream",
       "stream": "stdout",
       "text": [
        "done."
       ]
      },
      {
       "output_type": "stream",
       "stream": "stdout",
       "text": [
        "\n",
        "querying 160001-161000..."
       ]
      },
      {
       "output_type": "stream",
       "stream": "stdout",
       "text": [
        "done."
       ]
      },
      {
       "output_type": "stream",
       "stream": "stdout",
       "text": [
        "\n",
        "querying 161001-162000..."
       ]
      },
      {
       "output_type": "stream",
       "stream": "stdout",
       "text": [
        "done."
       ]
      },
      {
       "output_type": "stream",
       "stream": "stdout",
       "text": [
        "\n",
        "querying 162001-163000..."
       ]
      },
      {
       "output_type": "stream",
       "stream": "stdout",
       "text": [
        "done."
       ]
      },
      {
       "output_type": "stream",
       "stream": "stdout",
       "text": [
        "\n",
        "querying 163001-164000..."
       ]
      },
      {
       "output_type": "stream",
       "stream": "stdout",
       "text": [
        "done."
       ]
      },
      {
       "output_type": "stream",
       "stream": "stdout",
       "text": [
        "\n",
        "querying 164001-165000..."
       ]
      },
      {
       "output_type": "stream",
       "stream": "stdout",
       "text": [
        "done."
       ]
      },
      {
       "output_type": "stream",
       "stream": "stdout",
       "text": [
        "\n",
        "querying 165001-166000..."
       ]
      },
      {
       "output_type": "stream",
       "stream": "stdout",
       "text": [
        "done."
       ]
      },
      {
       "output_type": "stream",
       "stream": "stdout",
       "text": [
        "\n",
        "querying 166001-167000..."
       ]
      },
      {
       "output_type": "stream",
       "stream": "stdout",
       "text": [
        "done."
       ]
      },
      {
       "output_type": "stream",
       "stream": "stdout",
       "text": [
        "\n",
        "querying 167001-168000..."
       ]
      },
      {
       "output_type": "stream",
       "stream": "stdout",
       "text": [
        "done."
       ]
      },
      {
       "output_type": "stream",
       "stream": "stdout",
       "text": [
        "\n",
        "querying 168001-169000..."
       ]
      },
      {
       "output_type": "stream",
       "stream": "stdout",
       "text": [
        "done."
       ]
      },
      {
       "output_type": "stream",
       "stream": "stdout",
       "text": [
        "\n",
        "querying 169001-170000..."
       ]
      },
      {
       "output_type": "stream",
       "stream": "stdout",
       "text": [
        "done."
       ]
      },
      {
       "output_type": "stream",
       "stream": "stdout",
       "text": [
        "\n",
        "querying 170001-171000..."
       ]
      },
      {
       "output_type": "stream",
       "stream": "stdout",
       "text": [
        "done."
       ]
      },
      {
       "output_type": "stream",
       "stream": "stdout",
       "text": [
        "\n",
        "querying 171001-172000..."
       ]
      },
      {
       "output_type": "stream",
       "stream": "stdout",
       "text": [
        "done."
       ]
      },
      {
       "output_type": "stream",
       "stream": "stdout",
       "text": [
        "\n",
        "querying 172001-173000..."
       ]
      },
      {
       "output_type": "stream",
       "stream": "stdout",
       "text": [
        "done."
       ]
      },
      {
       "output_type": "stream",
       "stream": "stdout",
       "text": [
        "\n",
        "querying 173001-174000..."
       ]
      },
      {
       "output_type": "stream",
       "stream": "stdout",
       "text": [
        "done."
       ]
      },
      {
       "output_type": "stream",
       "stream": "stdout",
       "text": [
        "\n",
        "querying 174001-175000..."
       ]
      },
      {
       "output_type": "stream",
       "stream": "stdout",
       "text": [
        "done."
       ]
      },
      {
       "output_type": "stream",
       "stream": "stdout",
       "text": [
        "\n",
        "querying 175001-176000..."
       ]
      },
      {
       "output_type": "stream",
       "stream": "stdout",
       "text": [
        "done."
       ]
      },
      {
       "output_type": "stream",
       "stream": "stdout",
       "text": [
        "\n",
        "querying 176001-177000..."
       ]
      },
      {
       "output_type": "stream",
       "stream": "stdout",
       "text": [
        "done."
       ]
      },
      {
       "output_type": "stream",
       "stream": "stdout",
       "text": [
        "\n",
        "querying 177001-178000..."
       ]
      },
      {
       "output_type": "stream",
       "stream": "stdout",
       "text": [
        "done."
       ]
      },
      {
       "output_type": "stream",
       "stream": "stdout",
       "text": [
        "\n",
        "querying 178001-179000..."
       ]
      },
      {
       "output_type": "stream",
       "stream": "stdout",
       "text": [
        "done."
       ]
      },
      {
       "output_type": "stream",
       "stream": "stdout",
       "text": [
        "\n",
        "querying 179001-180000..."
       ]
      },
      {
       "output_type": "stream",
       "stream": "stdout",
       "text": [
        "done."
       ]
      },
      {
       "output_type": "stream",
       "stream": "stdout",
       "text": [
        "\n",
        "querying 180001-181000..."
       ]
      },
      {
       "output_type": "stream",
       "stream": "stdout",
       "text": [
        "done."
       ]
      },
      {
       "output_type": "stream",
       "stream": "stdout",
       "text": [
        "\n",
        "querying 181001-182000..."
       ]
      },
      {
       "output_type": "stream",
       "stream": "stdout",
       "text": [
        "done."
       ]
      },
      {
       "output_type": "stream",
       "stream": "stdout",
       "text": [
        "\n",
        "querying 182001-183000..."
       ]
      },
      {
       "output_type": "stream",
       "stream": "stdout",
       "text": [
        "done."
       ]
      },
      {
       "output_type": "stream",
       "stream": "stdout",
       "text": [
        "\n",
        "querying 183001-184000..."
       ]
      },
      {
       "output_type": "stream",
       "stream": "stdout",
       "text": [
        "done."
       ]
      },
      {
       "output_type": "stream",
       "stream": "stdout",
       "text": [
        "\n",
        "querying 184001-185000..."
       ]
      },
      {
       "output_type": "stream",
       "stream": "stdout",
       "text": [
        "done."
       ]
      },
      {
       "output_type": "stream",
       "stream": "stdout",
       "text": [
        "\n",
        "querying 185001-186000..."
       ]
      },
      {
       "output_type": "stream",
       "stream": "stdout",
       "text": [
        "done."
       ]
      },
      {
       "output_type": "stream",
       "stream": "stdout",
       "text": [
        "\n",
        "querying 186001-187000..."
       ]
      },
      {
       "output_type": "stream",
       "stream": "stdout",
       "text": [
        "done."
       ]
      },
      {
       "output_type": "stream",
       "stream": "stdout",
       "text": [
        "\n",
        "querying 187001-188000..."
       ]
      },
      {
       "output_type": "stream",
       "stream": "stdout",
       "text": [
        "done."
       ]
      },
      {
       "output_type": "stream",
       "stream": "stdout",
       "text": [
        "\n",
        "querying 188001-189000..."
       ]
      },
      {
       "output_type": "stream",
       "stream": "stdout",
       "text": [
        "done."
       ]
      },
      {
       "output_type": "stream",
       "stream": "stdout",
       "text": [
        "\n",
        "querying 189001-190000..."
       ]
      },
      {
       "output_type": "stream",
       "stream": "stdout",
       "text": [
        "done."
       ]
      },
      {
       "output_type": "stream",
       "stream": "stdout",
       "text": [
        "\n",
        "querying 190001-191000..."
       ]
      },
      {
       "output_type": "stream",
       "stream": "stdout",
       "text": [
        "done."
       ]
      },
      {
       "output_type": "stream",
       "stream": "stdout",
       "text": [
        "\n",
        "querying 191001-192000..."
       ]
      },
      {
       "output_type": "stream",
       "stream": "stdout",
       "text": [
        "done."
       ]
      },
      {
       "output_type": "stream",
       "stream": "stdout",
       "text": [
        "\n",
        "querying 192001-193000..."
       ]
      },
      {
       "output_type": "stream",
       "stream": "stdout",
       "text": [
        "done."
       ]
      },
      {
       "output_type": "stream",
       "stream": "stdout",
       "text": [
        "\n",
        "querying 193001-194000..."
       ]
      },
      {
       "output_type": "stream",
       "stream": "stdout",
       "text": [
        "done."
       ]
      },
      {
       "output_type": "stream",
       "stream": "stdout",
       "text": [
        "\n",
        "querying 194001-195000..."
       ]
      },
      {
       "output_type": "stream",
       "stream": "stdout",
       "text": [
        "done."
       ]
      },
      {
       "output_type": "stream",
       "stream": "stdout",
       "text": [
        "\n",
        "querying 195001-196000..."
       ]
      },
      {
       "output_type": "stream",
       "stream": "stdout",
       "text": [
        "done."
       ]
      },
      {
       "output_type": "stream",
       "stream": "stdout",
       "text": [
        "\n",
        "querying 196001-197000..."
       ]
      },
      {
       "output_type": "stream",
       "stream": "stdout",
       "text": [
        "done."
       ]
      },
      {
       "output_type": "stream",
       "stream": "stdout",
       "text": [
        "\n",
        "querying 197001-198000..."
       ]
      },
      {
       "output_type": "stream",
       "stream": "stdout",
       "text": [
        "done."
       ]
      },
      {
       "output_type": "stream",
       "stream": "stdout",
       "text": [
        "\n",
        "querying 198001-199000..."
       ]
      },
      {
       "output_type": "stream",
       "stream": "stdout",
       "text": [
        "done."
       ]
      },
      {
       "output_type": "stream",
       "stream": "stdout",
       "text": [
        "\n",
        "querying 199001-200000..."
       ]
      },
      {
       "output_type": "stream",
       "stream": "stdout",
       "text": [
        "done."
       ]
      },
      {
       "output_type": "stream",
       "stream": "stdout",
       "text": [
        "\n",
        "querying 200001-201000..."
       ]
      },
      {
       "output_type": "stream",
       "stream": "stdout",
       "text": [
        "done."
       ]
      },
      {
       "output_type": "stream",
       "stream": "stdout",
       "text": [
        "\n",
        "querying 201001-202000..."
       ]
      },
      {
       "output_type": "stream",
       "stream": "stdout",
       "text": [
        "done."
       ]
      },
      {
       "output_type": "stream",
       "stream": "stdout",
       "text": [
        "\n",
        "querying 202001-203000..."
       ]
      },
      {
       "output_type": "stream",
       "stream": "stdout",
       "text": [
        "done."
       ]
      },
      {
       "output_type": "stream",
       "stream": "stdout",
       "text": [
        "\n",
        "querying 203001-204000..."
       ]
      },
      {
       "output_type": "stream",
       "stream": "stdout",
       "text": [
        "done."
       ]
      },
      {
       "output_type": "stream",
       "stream": "stdout",
       "text": [
        "\n",
        "querying 204001-205000..."
       ]
      },
      {
       "output_type": "stream",
       "stream": "stdout",
       "text": [
        "done."
       ]
      },
      {
       "output_type": "stream",
       "stream": "stdout",
       "text": [
        "\n",
        "querying 205001-206000..."
       ]
      },
      {
       "output_type": "stream",
       "stream": "stdout",
       "text": [
        "done."
       ]
      },
      {
       "output_type": "stream",
       "stream": "stdout",
       "text": [
        "\n",
        "querying 206001-207000..."
       ]
      },
      {
       "output_type": "stream",
       "stream": "stdout",
       "text": [
        "done."
       ]
      },
      {
       "output_type": "stream",
       "stream": "stdout",
       "text": [
        "\n",
        "querying 207001-208000..."
       ]
      },
      {
       "output_type": "stream",
       "stream": "stdout",
       "text": [
        "done."
       ]
      },
      {
       "output_type": "stream",
       "stream": "stdout",
       "text": [
        "\n",
        "querying 208001-209000..."
       ]
      },
      {
       "output_type": "stream",
       "stream": "stdout",
       "text": [
        "done."
       ]
      },
      {
       "output_type": "stream",
       "stream": "stdout",
       "text": [
        "\n",
        "querying 209001-210000..."
       ]
      },
      {
       "output_type": "stream",
       "stream": "stdout",
       "text": [
        "done."
       ]
      },
      {
       "output_type": "stream",
       "stream": "stdout",
       "text": [
        "\n",
        "querying 210001-211000..."
       ]
      },
      {
       "output_type": "stream",
       "stream": "stdout",
       "text": [
        "done."
       ]
      },
      {
       "output_type": "stream",
       "stream": "stdout",
       "text": [
        "\n",
        "querying 211001-212000..."
       ]
      },
      {
       "output_type": "stream",
       "stream": "stdout",
       "text": [
        "done."
       ]
      },
      {
       "output_type": "stream",
       "stream": "stdout",
       "text": [
        "\n",
        "querying 212001-213000..."
       ]
      },
      {
       "output_type": "stream",
       "stream": "stdout",
       "text": [
        "done."
       ]
      },
      {
       "output_type": "stream",
       "stream": "stdout",
       "text": [
        "\n",
        "querying 213001-214000..."
       ]
      },
      {
       "output_type": "stream",
       "stream": "stdout",
       "text": [
        "done."
       ]
      },
      {
       "output_type": "stream",
       "stream": "stdout",
       "text": [
        "\n",
        "querying 214001-215000..."
       ]
      },
      {
       "output_type": "stream",
       "stream": "stdout",
       "text": [
        "done."
       ]
      },
      {
       "output_type": "stream",
       "stream": "stdout",
       "text": [
        "\n",
        "querying 215001-216000..."
       ]
      },
      {
       "output_type": "stream",
       "stream": "stdout",
       "text": [
        "done."
       ]
      },
      {
       "output_type": "stream",
       "stream": "stdout",
       "text": [
        "\n",
        "querying 216001-217000..."
       ]
      },
      {
       "output_type": "stream",
       "stream": "stdout",
       "text": [
        "done."
       ]
      },
      {
       "output_type": "stream",
       "stream": "stdout",
       "text": [
        "\n",
        "querying 217001-218000..."
       ]
      },
      {
       "output_type": "stream",
       "stream": "stdout",
       "text": [
        "done."
       ]
      },
      {
       "output_type": "stream",
       "stream": "stdout",
       "text": [
        "\n",
        "querying 218001-219000..."
       ]
      },
      {
       "output_type": "stream",
       "stream": "stdout",
       "text": [
        "done."
       ]
      },
      {
       "output_type": "stream",
       "stream": "stdout",
       "text": [
        "\n",
        "querying 219001-220000..."
       ]
      },
      {
       "output_type": "stream",
       "stream": "stdout",
       "text": [
        "done."
       ]
      },
      {
       "output_type": "stream",
       "stream": "stdout",
       "text": [
        "\n",
        "querying 220001-221000..."
       ]
      },
      {
       "output_type": "stream",
       "stream": "stdout",
       "text": [
        "done."
       ]
      },
      {
       "output_type": "stream",
       "stream": "stdout",
       "text": [
        "\n",
        "querying 221001-222000..."
       ]
      },
      {
       "output_type": "stream",
       "stream": "stdout",
       "text": [
        "done."
       ]
      },
      {
       "output_type": "stream",
       "stream": "stdout",
       "text": [
        "\n",
        "querying 222001-223000..."
       ]
      },
      {
       "output_type": "stream",
       "stream": "stdout",
       "text": [
        "done."
       ]
      },
      {
       "output_type": "stream",
       "stream": "stdout",
       "text": [
        "\n",
        "querying 223001-224000..."
       ]
      },
      {
       "output_type": "stream",
       "stream": "stdout",
       "text": [
        "done."
       ]
      },
      {
       "output_type": "stream",
       "stream": "stdout",
       "text": [
        "\n",
        "querying 224001-225000..."
       ]
      },
      {
       "output_type": "stream",
       "stream": "stdout",
       "text": [
        "done."
       ]
      },
      {
       "output_type": "stream",
       "stream": "stdout",
       "text": [
        "\n",
        "querying 225001-226000..."
       ]
      },
      {
       "output_type": "stream",
       "stream": "stdout",
       "text": [
        "done."
       ]
      },
      {
       "output_type": "stream",
       "stream": "stdout",
       "text": [
        "\n",
        "querying 226001-227000..."
       ]
      },
      {
       "output_type": "stream",
       "stream": "stdout",
       "text": [
        "done."
       ]
      },
      {
       "output_type": "stream",
       "stream": "stdout",
       "text": [
        "\n",
        "querying 227001-228000..."
       ]
      },
      {
       "output_type": "stream",
       "stream": "stdout",
       "text": [
        "done."
       ]
      },
      {
       "output_type": "stream",
       "stream": "stdout",
       "text": [
        "\n",
        "querying 228001-229000..."
       ]
      },
      {
       "output_type": "stream",
       "stream": "stdout",
       "text": [
        "done."
       ]
      },
      {
       "output_type": "stream",
       "stream": "stdout",
       "text": [
        "\n",
        "querying 229001-230000..."
       ]
      },
      {
       "output_type": "stream",
       "stream": "stdout",
       "text": [
        "done."
       ]
      },
      {
       "output_type": "stream",
       "stream": "stdout",
       "text": [
        "\n",
        "querying 230001-231000..."
       ]
      },
      {
       "output_type": "stream",
       "stream": "stdout",
       "text": [
        "done."
       ]
      },
      {
       "output_type": "stream",
       "stream": "stdout",
       "text": [
        "\n",
        "querying 231001-232000..."
       ]
      },
      {
       "output_type": "stream",
       "stream": "stdout",
       "text": [
        "done."
       ]
      },
      {
       "output_type": "stream",
       "stream": "stdout",
       "text": [
        "\n",
        "querying 232001-233000..."
       ]
      },
      {
       "output_type": "stream",
       "stream": "stdout",
       "text": [
        "done."
       ]
      },
      {
       "output_type": "stream",
       "stream": "stdout",
       "text": [
        "\n",
        "querying 233001-234000..."
       ]
      },
      {
       "output_type": "stream",
       "stream": "stdout",
       "text": [
        "done."
       ]
      },
      {
       "output_type": "stream",
       "stream": "stdout",
       "text": [
        "\n",
        "querying 234001-235000..."
       ]
      },
      {
       "output_type": "stream",
       "stream": "stdout",
       "text": [
        "done."
       ]
      },
      {
       "output_type": "stream",
       "stream": "stdout",
       "text": [
        "\n",
        "querying 235001-236000..."
       ]
      },
      {
       "output_type": "stream",
       "stream": "stdout",
       "text": [
        "done."
       ]
      },
      {
       "output_type": "stream",
       "stream": "stdout",
       "text": [
        "\n",
        "querying 236001-237000..."
       ]
      },
      {
       "output_type": "stream",
       "stream": "stdout",
       "text": [
        "done."
       ]
      },
      {
       "output_type": "stream",
       "stream": "stdout",
       "text": [
        "\n",
        "querying 237001-238000..."
       ]
      },
      {
       "output_type": "stream",
       "stream": "stdout",
       "text": [
        "done."
       ]
      },
      {
       "output_type": "stream",
       "stream": "stdout",
       "text": [
        "\n",
        "querying 238001-239000..."
       ]
      },
      {
       "output_type": "stream",
       "stream": "stdout",
       "text": [
        "done."
       ]
      },
      {
       "output_type": "stream",
       "stream": "stdout",
       "text": [
        "\n",
        "querying 239001-240000..."
       ]
      },
      {
       "output_type": "stream",
       "stream": "stdout",
       "text": [
        "done."
       ]
      },
      {
       "output_type": "stream",
       "stream": "stdout",
       "text": [
        "\n",
        "querying 240001-241000..."
       ]
      },
      {
       "output_type": "stream",
       "stream": "stdout",
       "text": [
        "done."
       ]
      },
      {
       "output_type": "stream",
       "stream": "stdout",
       "text": [
        "\n",
        "querying 241001-242000..."
       ]
      },
      {
       "output_type": "stream",
       "stream": "stdout",
       "text": [
        "done."
       ]
      },
      {
       "output_type": "stream",
       "stream": "stdout",
       "text": [
        "\n",
        "querying 242001-243000..."
       ]
      },
      {
       "output_type": "stream",
       "stream": "stdout",
       "text": [
        "done."
       ]
      },
      {
       "output_type": "stream",
       "stream": "stdout",
       "text": [
        "\n",
        "querying 243001-244000..."
       ]
      },
      {
       "output_type": "stream",
       "stream": "stdout",
       "text": [
        "done."
       ]
      },
      {
       "output_type": "stream",
       "stream": "stdout",
       "text": [
        "\n",
        "querying 244001-245000..."
       ]
      },
      {
       "output_type": "stream",
       "stream": "stdout",
       "text": [
        "done."
       ]
      },
      {
       "output_type": "stream",
       "stream": "stdout",
       "text": [
        "\n",
        "querying 245001-246000..."
       ]
      },
      {
       "output_type": "stream",
       "stream": "stdout",
       "text": [
        "done."
       ]
      },
      {
       "output_type": "stream",
       "stream": "stdout",
       "text": [
        "\n",
        "querying 246001-247000..."
       ]
      },
      {
       "output_type": "stream",
       "stream": "stdout",
       "text": [
        "done."
       ]
      },
      {
       "output_type": "stream",
       "stream": "stdout",
       "text": [
        "\n",
        "querying 247001-248000..."
       ]
      },
      {
       "output_type": "stream",
       "stream": "stdout",
       "text": [
        "done."
       ]
      },
      {
       "output_type": "stream",
       "stream": "stdout",
       "text": [
        "\n",
        "querying 248001-249000..."
       ]
      },
      {
       "output_type": "stream",
       "stream": "stdout",
       "text": [
        "done."
       ]
      },
      {
       "output_type": "stream",
       "stream": "stdout",
       "text": [
        "\n",
        "querying 249001-250000..."
       ]
      },
      {
       "output_type": "stream",
       "stream": "stdout",
       "text": [
        "done."
       ]
      },
      {
       "output_type": "stream",
       "stream": "stdout",
       "text": [
        "\n",
        "querying 250001-251000..."
       ]
      },
      {
       "output_type": "stream",
       "stream": "stdout",
       "text": [
        "done."
       ]
      },
      {
       "output_type": "stream",
       "stream": "stdout",
       "text": [
        "\n",
        "querying 251001-252000..."
       ]
      },
      {
       "output_type": "stream",
       "stream": "stdout",
       "text": [
        "done."
       ]
      },
      {
       "output_type": "stream",
       "stream": "stdout",
       "text": [
        "\n",
        "querying 252001-253000..."
       ]
      },
      {
       "output_type": "stream",
       "stream": "stdout",
       "text": [
        "done."
       ]
      },
      {
       "output_type": "stream",
       "stream": "stdout",
       "text": [
        "\n",
        "querying 253001-254000..."
       ]
      },
      {
       "output_type": "stream",
       "stream": "stdout",
       "text": [
        "done."
       ]
      },
      {
       "output_type": "stream",
       "stream": "stdout",
       "text": [
        "\n",
        "querying 254001-255000..."
       ]
      },
      {
       "output_type": "stream",
       "stream": "stdout",
       "text": [
        "done."
       ]
      },
      {
       "output_type": "stream",
       "stream": "stdout",
       "text": [
        "\n",
        "querying 255001-256000..."
       ]
      },
      {
       "output_type": "stream",
       "stream": "stdout",
       "text": [
        "done."
       ]
      },
      {
       "output_type": "stream",
       "stream": "stdout",
       "text": [
        "\n",
        "querying 256001-257000..."
       ]
      },
      {
       "output_type": "stream",
       "stream": "stdout",
       "text": [
        "done."
       ]
      },
      {
       "output_type": "stream",
       "stream": "stdout",
       "text": [
        "\n",
        "querying 257001-258000..."
       ]
      },
      {
       "output_type": "stream",
       "stream": "stdout",
       "text": [
        "done."
       ]
      },
      {
       "output_type": "stream",
       "stream": "stdout",
       "text": [
        "\n",
        "querying 258001-259000..."
       ]
      },
      {
       "output_type": "stream",
       "stream": "stdout",
       "text": [
        "done."
       ]
      },
      {
       "output_type": "stream",
       "stream": "stdout",
       "text": [
        "\n",
        "querying 259001-260000..."
       ]
      },
      {
       "output_type": "stream",
       "stream": "stdout",
       "text": [
        "done."
       ]
      },
      {
       "output_type": "stream",
       "stream": "stdout",
       "text": [
        "\n",
        "querying 260001-261000..."
       ]
      },
      {
       "output_type": "stream",
       "stream": "stdout",
       "text": [
        "done."
       ]
      },
      {
       "output_type": "stream",
       "stream": "stdout",
       "text": [
        "\n",
        "querying 261001-262000..."
       ]
      },
      {
       "output_type": "stream",
       "stream": "stdout",
       "text": [
        "done."
       ]
      },
      {
       "output_type": "stream",
       "stream": "stdout",
       "text": [
        "\n",
        "querying 262001-263000..."
       ]
      },
      {
       "output_type": "stream",
       "stream": "stdout",
       "text": [
        "done."
       ]
      },
      {
       "output_type": "stream",
       "stream": "stdout",
       "text": [
        "\n",
        "querying 263001-264000..."
       ]
      },
      {
       "output_type": "stream",
       "stream": "stdout",
       "text": [
        "done."
       ]
      },
      {
       "output_type": "stream",
       "stream": "stdout",
       "text": [
        "\n",
        "querying 264001-265000..."
       ]
      },
      {
       "output_type": "stream",
       "stream": "stdout",
       "text": [
        "done."
       ]
      },
      {
       "output_type": "stream",
       "stream": "stdout",
       "text": [
        "\n",
        "querying 265001-266000..."
       ]
      },
      {
       "output_type": "stream",
       "stream": "stdout",
       "text": [
        "done."
       ]
      },
      {
       "output_type": "stream",
       "stream": "stdout",
       "text": [
        "\n",
        "querying 266001-267000..."
       ]
      },
      {
       "output_type": "stream",
       "stream": "stdout",
       "text": [
        "done."
       ]
      },
      {
       "output_type": "stream",
       "stream": "stdout",
       "text": [
        "\n",
        "querying 267001-268000..."
       ]
      },
      {
       "output_type": "stream",
       "stream": "stdout",
       "text": [
        "done."
       ]
      },
      {
       "output_type": "stream",
       "stream": "stdout",
       "text": [
        "\n",
        "querying 268001-269000..."
       ]
      },
      {
       "output_type": "stream",
       "stream": "stdout",
       "text": [
        "done."
       ]
      },
      {
       "output_type": "stream",
       "stream": "stdout",
       "text": [
        "\n",
        "querying 269001-270000..."
       ]
      },
      {
       "output_type": "stream",
       "stream": "stdout",
       "text": [
        "done."
       ]
      },
      {
       "output_type": "stream",
       "stream": "stdout",
       "text": [
        "\n",
        "querying 270001-271000..."
       ]
      },
      {
       "output_type": "stream",
       "stream": "stdout",
       "text": [
        "done."
       ]
      },
      {
       "output_type": "stream",
       "stream": "stdout",
       "text": [
        "\n",
        "querying 271001-272000..."
       ]
      },
      {
       "output_type": "stream",
       "stream": "stdout",
       "text": [
        "done."
       ]
      },
      {
       "output_type": "stream",
       "stream": "stdout",
       "text": [
        "\n",
        "querying 272001-273000..."
       ]
      },
      {
       "output_type": "stream",
       "stream": "stdout",
       "text": [
        "done."
       ]
      },
      {
       "output_type": "stream",
       "stream": "stdout",
       "text": [
        "\n",
        "querying 273001-274000..."
       ]
      },
      {
       "output_type": "stream",
       "stream": "stdout",
       "text": [
        "done."
       ]
      },
      {
       "output_type": "stream",
       "stream": "stdout",
       "text": [
        "\n",
        "querying 274001-275000..."
       ]
      },
      {
       "output_type": "stream",
       "stream": "stdout",
       "text": [
        "done."
       ]
      },
      {
       "output_type": "stream",
       "stream": "stdout",
       "text": [
        "\n",
        "querying 275001-276000..."
       ]
      },
      {
       "output_type": "stream",
       "stream": "stdout",
       "text": [
        "done."
       ]
      },
      {
       "output_type": "stream",
       "stream": "stdout",
       "text": [
        "\n",
        "querying 276001-277000..."
       ]
      },
      {
       "output_type": "stream",
       "stream": "stdout",
       "text": [
        "done."
       ]
      },
      {
       "output_type": "stream",
       "stream": "stdout",
       "text": [
        "\n",
        "querying 277001-278000..."
       ]
      },
      {
       "output_type": "stream",
       "stream": "stdout",
       "text": [
        "done."
       ]
      },
      {
       "output_type": "stream",
       "stream": "stdout",
       "text": [
        "\n",
        "querying 278001-279000..."
       ]
      },
      {
       "output_type": "stream",
       "stream": "stdout",
       "text": [
        "done."
       ]
      },
      {
       "output_type": "stream",
       "stream": "stdout",
       "text": [
        "\n",
        "querying 279001-280000..."
       ]
      },
      {
       "output_type": "stream",
       "stream": "stdout",
       "text": [
        "done."
       ]
      },
      {
       "output_type": "stream",
       "stream": "stdout",
       "text": [
        "\n",
        "querying 280001-281000..."
       ]
      },
      {
       "output_type": "stream",
       "stream": "stdout",
       "text": [
        "done."
       ]
      },
      {
       "output_type": "stream",
       "stream": "stdout",
       "text": [
        "\n",
        "querying 281001-282000..."
       ]
      },
      {
       "output_type": "stream",
       "stream": "stdout",
       "text": [
        "done."
       ]
      },
      {
       "output_type": "stream",
       "stream": "stdout",
       "text": [
        "\n",
        "querying 282001-283000..."
       ]
      },
      {
       "output_type": "stream",
       "stream": "stdout",
       "text": [
        "done."
       ]
      },
      {
       "output_type": "stream",
       "stream": "stdout",
       "text": [
        "\n",
        "querying 283001-284000..."
       ]
      },
      {
       "output_type": "stream",
       "stream": "stdout",
       "text": [
        "done."
       ]
      },
      {
       "output_type": "stream",
       "stream": "stdout",
       "text": [
        "\n",
        "querying 284001-285000..."
       ]
      },
      {
       "output_type": "stream",
       "stream": "stdout",
       "text": [
        "done."
       ]
      },
      {
       "output_type": "stream",
       "stream": "stdout",
       "text": [
        "\n",
        "querying 285001-286000..."
       ]
      },
      {
       "output_type": "stream",
       "stream": "stdout",
       "text": [
        "done."
       ]
      },
      {
       "output_type": "stream",
       "stream": "stdout",
       "text": [
        "\n",
        "querying 286001-287000..."
       ]
      },
      {
       "output_type": "stream",
       "stream": "stdout",
       "text": [
        "done."
       ]
      },
      {
       "output_type": "stream",
       "stream": "stdout",
       "text": [
        "\n",
        "querying 287001-288000..."
       ]
      },
      {
       "output_type": "stream",
       "stream": "stdout",
       "text": [
        "done."
       ]
      },
      {
       "output_type": "stream",
       "stream": "stdout",
       "text": [
        "\n",
        "querying 288001-289000..."
       ]
      },
      {
       "output_type": "stream",
       "stream": "stdout",
       "text": [
        "done."
       ]
      },
      {
       "output_type": "stream",
       "stream": "stdout",
       "text": [
        "\n",
        "querying 289001-290000..."
       ]
      },
      {
       "output_type": "stream",
       "stream": "stdout",
       "text": [
        "done."
       ]
      },
      {
       "output_type": "stream",
       "stream": "stdout",
       "text": [
        "\n",
        "querying 290001-291000..."
       ]
      },
      {
       "output_type": "stream",
       "stream": "stdout",
       "text": [
        "done."
       ]
      },
      {
       "output_type": "stream",
       "stream": "stdout",
       "text": [
        "\n",
        "querying 291001-292000..."
       ]
      },
      {
       "output_type": "stream",
       "stream": "stdout",
       "text": [
        "done."
       ]
      },
      {
       "output_type": "stream",
       "stream": "stdout",
       "text": [
        "\n",
        "querying 292001-293000..."
       ]
      },
      {
       "output_type": "stream",
       "stream": "stdout",
       "text": [
        "done."
       ]
      },
      {
       "output_type": "stream",
       "stream": "stdout",
       "text": [
        "\n",
        "querying 293001-294000..."
       ]
      },
      {
       "output_type": "stream",
       "stream": "stdout",
       "text": [
        "done."
       ]
      },
      {
       "output_type": "stream",
       "stream": "stdout",
       "text": [
        "\n",
        "querying 294001-295000..."
       ]
      },
      {
       "output_type": "stream",
       "stream": "stdout",
       "text": [
        "done."
       ]
      },
      {
       "output_type": "stream",
       "stream": "stdout",
       "text": [
        "\n",
        "querying 295001-296000..."
       ]
      },
      {
       "output_type": "stream",
       "stream": "stdout",
       "text": [
        "done."
       ]
      },
      {
       "output_type": "stream",
       "stream": "stdout",
       "text": [
        "\n",
        "querying 296001-297000..."
       ]
      },
      {
       "output_type": "stream",
       "stream": "stdout",
       "text": [
        "done."
       ]
      },
      {
       "output_type": "stream",
       "stream": "stdout",
       "text": [
        "\n",
        "querying 297001-298000..."
       ]
      },
      {
       "output_type": "stream",
       "stream": "stdout",
       "text": [
        "done."
       ]
      },
      {
       "output_type": "stream",
       "stream": "stdout",
       "text": [
        "\n",
        "querying 298001-299000..."
       ]
      },
      {
       "output_type": "stream",
       "stream": "stdout",
       "text": [
        "done."
       ]
      },
      {
       "output_type": "stream",
       "stream": "stdout",
       "text": [
        "\n",
        "querying 299001-300000..."
       ]
      },
      {
       "output_type": "stream",
       "stream": "stdout",
       "text": [
        "done."
       ]
      },
      {
       "output_type": "stream",
       "stream": "stdout",
       "text": [
        "\n",
        "querying 300001-301000..."
       ]
      },
      {
       "output_type": "stream",
       "stream": "stdout",
       "text": [
        "done."
       ]
      },
      {
       "output_type": "stream",
       "stream": "stdout",
       "text": [
        "\n",
        "querying 301001-302000..."
       ]
      },
      {
       "output_type": "stream",
       "stream": "stdout",
       "text": [
        "done."
       ]
      },
      {
       "output_type": "stream",
       "stream": "stdout",
       "text": [
        "\n",
        "querying 302001-303000..."
       ]
      },
      {
       "output_type": "stream",
       "stream": "stdout",
       "text": [
        "done."
       ]
      },
      {
       "output_type": "stream",
       "stream": "stdout",
       "text": [
        "\n",
        "querying 303001-304000..."
       ]
      },
      {
       "output_type": "stream",
       "stream": "stdout",
       "text": [
        "done."
       ]
      },
      {
       "output_type": "stream",
       "stream": "stdout",
       "text": [
        "\n",
        "querying 304001-305000..."
       ]
      },
      {
       "output_type": "stream",
       "stream": "stdout",
       "text": [
        "done."
       ]
      },
      {
       "output_type": "stream",
       "stream": "stdout",
       "text": [
        "\n",
        "querying 305001-306000..."
       ]
      },
      {
       "output_type": "stream",
       "stream": "stdout",
       "text": [
        "done."
       ]
      },
      {
       "output_type": "stream",
       "stream": "stdout",
       "text": [
        "\n",
        "querying 306001-307000..."
       ]
      },
      {
       "output_type": "stream",
       "stream": "stdout",
       "text": [
        "done."
       ]
      },
      {
       "output_type": "stream",
       "stream": "stdout",
       "text": [
        "\n",
        "querying 307001-308000..."
       ]
      },
      {
       "output_type": "stream",
       "stream": "stdout",
       "text": [
        "done."
       ]
      },
      {
       "output_type": "stream",
       "stream": "stdout",
       "text": [
        "\n",
        "querying 308001-309000..."
       ]
      },
      {
       "output_type": "stream",
       "stream": "stdout",
       "text": [
        "done."
       ]
      },
      {
       "output_type": "stream",
       "stream": "stdout",
       "text": [
        "\n",
        "querying 309001-310000..."
       ]
      },
      {
       "output_type": "stream",
       "stream": "stdout",
       "text": [
        "done."
       ]
      },
      {
       "output_type": "stream",
       "stream": "stdout",
       "text": [
        "\n",
        "querying 310001-311000..."
       ]
      },
      {
       "output_type": "stream",
       "stream": "stdout",
       "text": [
        "done."
       ]
      },
      {
       "output_type": "stream",
       "stream": "stdout",
       "text": [
        "\n",
        "querying 311001-312000..."
       ]
      },
      {
       "output_type": "stream",
       "stream": "stdout",
       "text": [
        "done."
       ]
      },
      {
       "output_type": "stream",
       "stream": "stdout",
       "text": [
        "\n",
        "querying 312001-313000..."
       ]
      },
      {
       "output_type": "stream",
       "stream": "stdout",
       "text": [
        "done."
       ]
      },
      {
       "output_type": "stream",
       "stream": "stdout",
       "text": [
        "\n",
        "querying 313001-314000..."
       ]
      },
      {
       "output_type": "stream",
       "stream": "stdout",
       "text": [
        "done."
       ]
      },
      {
       "output_type": "stream",
       "stream": "stdout",
       "text": [
        "\n",
        "querying 314001-315000..."
       ]
      },
      {
       "output_type": "stream",
       "stream": "stdout",
       "text": [
        "done."
       ]
      },
      {
       "output_type": "stream",
       "stream": "stdout",
       "text": [
        "\n",
        "querying 315001-316000..."
       ]
      },
      {
       "output_type": "stream",
       "stream": "stdout",
       "text": [
        "done."
       ]
      },
      {
       "output_type": "stream",
       "stream": "stdout",
       "text": [
        "\n",
        "querying 316001-317000..."
       ]
      },
      {
       "output_type": "stream",
       "stream": "stdout",
       "text": [
        "done."
       ]
      },
      {
       "output_type": "stream",
       "stream": "stdout",
       "text": [
        "\n",
        "querying 317001-318000..."
       ]
      },
      {
       "output_type": "stream",
       "stream": "stdout",
       "text": [
        "done."
       ]
      },
      {
       "output_type": "stream",
       "stream": "stdout",
       "text": [
        "\n",
        "querying 318001-319000..."
       ]
      },
      {
       "output_type": "stream",
       "stream": "stdout",
       "text": [
        "done."
       ]
      },
      {
       "output_type": "stream",
       "stream": "stdout",
       "text": [
        "\n",
        "querying 319001-320000..."
       ]
      },
      {
       "output_type": "stream",
       "stream": "stdout",
       "text": [
        "done."
       ]
      },
      {
       "output_type": "stream",
       "stream": "stdout",
       "text": [
        "\n",
        "querying 320001-321000..."
       ]
      },
      {
       "output_type": "stream",
       "stream": "stdout",
       "text": [
        "done."
       ]
      },
      {
       "output_type": "stream",
       "stream": "stdout",
       "text": [
        "\n",
        "querying 321001-322000..."
       ]
      },
      {
       "output_type": "stream",
       "stream": "stdout",
       "text": [
        "done."
       ]
      },
      {
       "output_type": "stream",
       "stream": "stdout",
       "text": [
        "\n",
        "querying 322001-323000..."
       ]
      },
      {
       "output_type": "stream",
       "stream": "stdout",
       "text": [
        "done."
       ]
      },
      {
       "output_type": "stream",
       "stream": "stdout",
       "text": [
        "\n",
        "querying 323001-324000..."
       ]
      },
      {
       "output_type": "stream",
       "stream": "stdout",
       "text": [
        "done."
       ]
      },
      {
       "output_type": "stream",
       "stream": "stdout",
       "text": [
        "\n",
        "querying 324001-325000..."
       ]
      },
      {
       "output_type": "stream",
       "stream": "stdout",
       "text": [
        "done."
       ]
      },
      {
       "output_type": "stream",
       "stream": "stdout",
       "text": [
        "\n",
        "querying 325001-326000..."
       ]
      },
      {
       "output_type": "stream",
       "stream": "stdout",
       "text": [
        "done."
       ]
      },
      {
       "output_type": "stream",
       "stream": "stdout",
       "text": [
        "\n",
        "querying 326001-327000..."
       ]
      },
      {
       "output_type": "stream",
       "stream": "stdout",
       "text": [
        "done."
       ]
      },
      {
       "output_type": "stream",
       "stream": "stdout",
       "text": [
        "\n",
        "querying 327001-328000..."
       ]
      },
      {
       "output_type": "stream",
       "stream": "stdout",
       "text": [
        "done."
       ]
      },
      {
       "output_type": "stream",
       "stream": "stdout",
       "text": [
        "\n",
        "querying 328001-329000..."
       ]
      },
      {
       "output_type": "stream",
       "stream": "stdout",
       "text": [
        "done."
       ]
      },
      {
       "output_type": "stream",
       "stream": "stdout",
       "text": [
        "\n",
        "querying 329001-330000..."
       ]
      },
      {
       "output_type": "stream",
       "stream": "stdout",
       "text": [
        "done."
       ]
      },
      {
       "output_type": "stream",
       "stream": "stdout",
       "text": [
        "\n",
        "querying 330001-331000..."
       ]
      },
      {
       "output_type": "stream",
       "stream": "stdout",
       "text": [
        "done."
       ]
      },
      {
       "output_type": "stream",
       "stream": "stdout",
       "text": [
        "\n",
        "querying 331001-332000..."
       ]
      },
      {
       "output_type": "stream",
       "stream": "stdout",
       "text": [
        "done."
       ]
      },
      {
       "output_type": "stream",
       "stream": "stdout",
       "text": [
        "\n",
        "querying 332001-333000..."
       ]
      },
      {
       "output_type": "stream",
       "stream": "stdout",
       "text": [
        "done."
       ]
      },
      {
       "output_type": "stream",
       "stream": "stdout",
       "text": [
        "\n",
        "querying 333001-334000..."
       ]
      },
      {
       "output_type": "stream",
       "stream": "stdout",
       "text": [
        "done."
       ]
      },
      {
       "output_type": "stream",
       "stream": "stdout",
       "text": [
        "\n",
        "querying 334001-335000..."
       ]
      },
      {
       "output_type": "stream",
       "stream": "stdout",
       "text": [
        "done."
       ]
      },
      {
       "output_type": "stream",
       "stream": "stdout",
       "text": [
        "\n",
        "querying 335001-336000..."
       ]
      },
      {
       "output_type": "stream",
       "stream": "stdout",
       "text": [
        "done."
       ]
      },
      {
       "output_type": "stream",
       "stream": "stdout",
       "text": [
        "\n",
        "querying 336001-337000..."
       ]
      },
      {
       "output_type": "stream",
       "stream": "stdout",
       "text": [
        "done."
       ]
      },
      {
       "output_type": "stream",
       "stream": "stdout",
       "text": [
        "\n",
        "querying 337001-338000..."
       ]
      },
      {
       "output_type": "stream",
       "stream": "stdout",
       "text": [
        "done."
       ]
      },
      {
       "output_type": "stream",
       "stream": "stdout",
       "text": [
        "\n",
        "querying 338001-339000..."
       ]
      },
      {
       "output_type": "stream",
       "stream": "stdout",
       "text": [
        "done."
       ]
      },
      {
       "output_type": "stream",
       "stream": "stdout",
       "text": [
        "\n",
        "querying 339001-340000..."
       ]
      },
      {
       "output_type": "stream",
       "stream": "stdout",
       "text": [
        "done."
       ]
      },
      {
       "output_type": "stream",
       "stream": "stdout",
       "text": [
        "\n",
        "querying 340001-341000..."
       ]
      },
      {
       "output_type": "stream",
       "stream": "stdout",
       "text": [
        "done."
       ]
      },
      {
       "output_type": "stream",
       "stream": "stdout",
       "text": [
        "\n",
        "querying 341001-342000..."
       ]
      },
      {
       "output_type": "stream",
       "stream": "stdout",
       "text": [
        "done."
       ]
      },
      {
       "output_type": "stream",
       "stream": "stdout",
       "text": [
        "\n",
        "querying 342001-343000..."
       ]
      },
      {
       "output_type": "stream",
       "stream": "stdout",
       "text": [
        "done."
       ]
      },
      {
       "output_type": "stream",
       "stream": "stdout",
       "text": [
        "\n",
        "querying 343001-344000..."
       ]
      },
      {
       "output_type": "stream",
       "stream": "stdout",
       "text": [
        "done."
       ]
      },
      {
       "output_type": "stream",
       "stream": "stdout",
       "text": [
        "\n",
        "querying 344001-345000..."
       ]
      },
      {
       "output_type": "stream",
       "stream": "stdout",
       "text": [
        "done."
       ]
      },
      {
       "output_type": "stream",
       "stream": "stdout",
       "text": [
        "\n",
        "querying 345001-346000..."
       ]
      },
      {
       "output_type": "stream",
       "stream": "stdout",
       "text": [
        "done."
       ]
      },
      {
       "output_type": "stream",
       "stream": "stdout",
       "text": [
        "\n",
        "querying 346001-347000..."
       ]
      },
      {
       "output_type": "stream",
       "stream": "stdout",
       "text": [
        "done."
       ]
      },
      {
       "output_type": "stream",
       "stream": "stdout",
       "text": [
        "\n",
        "querying 347001-348000..."
       ]
      },
      {
       "output_type": "stream",
       "stream": "stdout",
       "text": [
        "done."
       ]
      },
      {
       "output_type": "stream",
       "stream": "stdout",
       "text": [
        "\n",
        "querying 348001-349000..."
       ]
      },
      {
       "output_type": "stream",
       "stream": "stdout",
       "text": [
        "done."
       ]
      },
      {
       "output_type": "stream",
       "stream": "stdout",
       "text": [
        "\n",
        "querying 349001-350000..."
       ]
      },
      {
       "output_type": "stream",
       "stream": "stdout",
       "text": [
        "done."
       ]
      },
      {
       "output_type": "stream",
       "stream": "stdout",
       "text": [
        "\n",
        "querying 350001-351000..."
       ]
      },
      {
       "output_type": "stream",
       "stream": "stdout",
       "text": [
        "done."
       ]
      },
      {
       "output_type": "stream",
       "stream": "stdout",
       "text": [
        "\n",
        "querying 351001-352000..."
       ]
      },
      {
       "output_type": "stream",
       "stream": "stdout",
       "text": [
        "done."
       ]
      },
      {
       "output_type": "stream",
       "stream": "stdout",
       "text": [
        "\n",
        "querying 352001-353000..."
       ]
      },
      {
       "output_type": "stream",
       "stream": "stdout",
       "text": [
        "done."
       ]
      },
      {
       "output_type": "stream",
       "stream": "stdout",
       "text": [
        "\n",
        "querying 353001-354000..."
       ]
      },
      {
       "output_type": "stream",
       "stream": "stdout",
       "text": [
        "done."
       ]
      },
      {
       "output_type": "stream",
       "stream": "stdout",
       "text": [
        "\n",
        "querying 354001-355000..."
       ]
      },
      {
       "output_type": "stream",
       "stream": "stdout",
       "text": [
        "done."
       ]
      },
      {
       "output_type": "stream",
       "stream": "stdout",
       "text": [
        "\n",
        "querying 355001-356000..."
       ]
      },
      {
       "output_type": "stream",
       "stream": "stdout",
       "text": [
        "done."
       ]
      },
      {
       "output_type": "stream",
       "stream": "stdout",
       "text": [
        "\n",
        "querying 356001-357000..."
       ]
      },
      {
       "output_type": "stream",
       "stream": "stdout",
       "text": [
        "done."
       ]
      },
      {
       "output_type": "stream",
       "stream": "stdout",
       "text": [
        "\n",
        "querying 357001-358000..."
       ]
      },
      {
       "output_type": "stream",
       "stream": "stdout",
       "text": [
        "done."
       ]
      },
      {
       "output_type": "stream",
       "stream": "stdout",
       "text": [
        "\n",
        "querying 358001-359000..."
       ]
      },
      {
       "output_type": "stream",
       "stream": "stdout",
       "text": [
        "done."
       ]
      },
      {
       "output_type": "stream",
       "stream": "stdout",
       "text": [
        "\n",
        "querying 359001-360000..."
       ]
      },
      {
       "output_type": "stream",
       "stream": "stdout",
       "text": [
        "done."
       ]
      },
      {
       "output_type": "stream",
       "stream": "stdout",
       "text": [
        "\n",
        "querying 360001-361000..."
       ]
      },
      {
       "output_type": "stream",
       "stream": "stdout",
       "text": [
        "done."
       ]
      },
      {
       "output_type": "stream",
       "stream": "stdout",
       "text": [
        "\n",
        "querying 361001-362000..."
       ]
      },
      {
       "output_type": "stream",
       "stream": "stdout",
       "text": [
        "done."
       ]
      },
      {
       "output_type": "stream",
       "stream": "stdout",
       "text": [
        "\n",
        "querying 362001-363000..."
       ]
      },
      {
       "output_type": "stream",
       "stream": "stdout",
       "text": [
        "done."
       ]
      },
      {
       "output_type": "stream",
       "stream": "stdout",
       "text": [
        "\n",
        "querying 363001-364000..."
       ]
      },
      {
       "output_type": "stream",
       "stream": "stdout",
       "text": [
        "done."
       ]
      },
      {
       "output_type": "stream",
       "stream": "stdout",
       "text": [
        "\n",
        "querying 364001-365000..."
       ]
      },
      {
       "output_type": "stream",
       "stream": "stdout",
       "text": [
        "done."
       ]
      },
      {
       "output_type": "stream",
       "stream": "stdout",
       "text": [
        "\n",
        "querying 365001-366000..."
       ]
      },
      {
       "output_type": "stream",
       "stream": "stdout",
       "text": [
        "done."
       ]
      },
      {
       "output_type": "stream",
       "stream": "stdout",
       "text": [
        "\n",
        "querying 366001-367000..."
       ]
      },
      {
       "output_type": "stream",
       "stream": "stdout",
       "text": [
        "done."
       ]
      },
      {
       "output_type": "stream",
       "stream": "stdout",
       "text": [
        "\n",
        "querying 367001-368000..."
       ]
      },
      {
       "output_type": "stream",
       "stream": "stdout",
       "text": [
        "done."
       ]
      },
      {
       "output_type": "stream",
       "stream": "stdout",
       "text": [
        "\n",
        "querying 368001-369000..."
       ]
      },
      {
       "output_type": "stream",
       "stream": "stdout",
       "text": [
        "done."
       ]
      },
      {
       "output_type": "stream",
       "stream": "stdout",
       "text": [
        "\n",
        "querying 369001-370000..."
       ]
      },
      {
       "output_type": "stream",
       "stream": "stdout",
       "text": [
        "done."
       ]
      },
      {
       "output_type": "stream",
       "stream": "stdout",
       "text": [
        "\n",
        "querying 370001-371000..."
       ]
      },
      {
       "output_type": "stream",
       "stream": "stdout",
       "text": [
        "done."
       ]
      },
      {
       "output_type": "stream",
       "stream": "stdout",
       "text": [
        "\n",
        "querying 371001-372000..."
       ]
      },
      {
       "output_type": "stream",
       "stream": "stdout",
       "text": [
        "done."
       ]
      },
      {
       "output_type": "stream",
       "stream": "stdout",
       "text": [
        "\n",
        "querying 372001-373000..."
       ]
      },
      {
       "output_type": "stream",
       "stream": "stdout",
       "text": [
        "done."
       ]
      },
      {
       "output_type": "stream",
       "stream": "stdout",
       "text": [
        "\n",
        "querying 373001-374000..."
       ]
      },
      {
       "output_type": "stream",
       "stream": "stdout",
       "text": [
        "done."
       ]
      },
      {
       "output_type": "stream",
       "stream": "stdout",
       "text": [
        "\n",
        "querying 374001-375000..."
       ]
      },
      {
       "output_type": "stream",
       "stream": "stdout",
       "text": [
        "done."
       ]
      },
      {
       "output_type": "stream",
       "stream": "stdout",
       "text": [
        "\n",
        "querying 375001-376000..."
       ]
      },
      {
       "output_type": "stream",
       "stream": "stdout",
       "text": [
        "done."
       ]
      },
      {
       "output_type": "stream",
       "stream": "stdout",
       "text": [
        "\n",
        "querying 376001-377000..."
       ]
      },
      {
       "output_type": "stream",
       "stream": "stdout",
       "text": [
        "done."
       ]
      },
      {
       "output_type": "stream",
       "stream": "stdout",
       "text": [
        "\n",
        "querying 377001-378000..."
       ]
      },
      {
       "output_type": "stream",
       "stream": "stdout",
       "text": [
        "done."
       ]
      },
      {
       "output_type": "stream",
       "stream": "stdout",
       "text": [
        "\n",
        "querying 378001-379000..."
       ]
      },
      {
       "output_type": "stream",
       "stream": "stdout",
       "text": [
        "done."
       ]
      },
      {
       "output_type": "stream",
       "stream": "stdout",
       "text": [
        "\n",
        "querying 379001-380000..."
       ]
      },
      {
       "output_type": "stream",
       "stream": "stdout",
       "text": [
        "done."
       ]
      },
      {
       "output_type": "stream",
       "stream": "stdout",
       "text": [
        "\n",
        "querying 380001-381000..."
       ]
      },
      {
       "output_type": "stream",
       "stream": "stdout",
       "text": [
        "done."
       ]
      },
      {
       "output_type": "stream",
       "stream": "stdout",
       "text": [
        "\n",
        "querying 381001-382000..."
       ]
      },
      {
       "output_type": "stream",
       "stream": "stdout",
       "text": [
        "done."
       ]
      },
      {
       "output_type": "stream",
       "stream": "stdout",
       "text": [
        "\n",
        "querying 382001-383000..."
       ]
      },
      {
       "output_type": "stream",
       "stream": "stdout",
       "text": [
        "done."
       ]
      },
      {
       "output_type": "stream",
       "stream": "stdout",
       "text": [
        "\n",
        "querying 383001-384000..."
       ]
      },
      {
       "output_type": "stream",
       "stream": "stdout",
       "text": [
        "done."
       ]
      },
      {
       "output_type": "stream",
       "stream": "stdout",
       "text": [
        "\n",
        "querying 384001-385000..."
       ]
      },
      {
       "output_type": "stream",
       "stream": "stdout",
       "text": [
        "done."
       ]
      },
      {
       "output_type": "stream",
       "stream": "stdout",
       "text": [
        "\n",
        "querying 385001-386000..."
       ]
      },
      {
       "output_type": "stream",
       "stream": "stdout",
       "text": [
        "done."
       ]
      },
      {
       "output_type": "stream",
       "stream": "stdout",
       "text": [
        "\n",
        "querying 386001-387000..."
       ]
      },
      {
       "output_type": "stream",
       "stream": "stdout",
       "text": [
        "done."
       ]
      },
      {
       "output_type": "stream",
       "stream": "stdout",
       "text": [
        "\n",
        "querying 387001-388000..."
       ]
      },
      {
       "output_type": "stream",
       "stream": "stdout",
       "text": [
        "done."
       ]
      },
      {
       "output_type": "stream",
       "stream": "stdout",
       "text": [
        "\n",
        "querying 388001-389000..."
       ]
      },
      {
       "output_type": "stream",
       "stream": "stdout",
       "text": [
        "done."
       ]
      },
      {
       "output_type": "stream",
       "stream": "stdout",
       "text": [
        "\n",
        "querying 389001-390000..."
       ]
      },
      {
       "output_type": "stream",
       "stream": "stdout",
       "text": [
        "done."
       ]
      },
      {
       "output_type": "stream",
       "stream": "stdout",
       "text": [
        "\n",
        "querying 390001-391000..."
       ]
      },
      {
       "output_type": "stream",
       "stream": "stdout",
       "text": [
        "done."
       ]
      },
      {
       "output_type": "stream",
       "stream": "stdout",
       "text": [
        "\n",
        "querying 391001-392000..."
       ]
      },
      {
       "output_type": "stream",
       "stream": "stdout",
       "text": [
        "done."
       ]
      },
      {
       "output_type": "stream",
       "stream": "stdout",
       "text": [
        "\n",
        "querying 392001-393000..."
       ]
      },
      {
       "output_type": "stream",
       "stream": "stdout",
       "text": [
        "done."
       ]
      },
      {
       "output_type": "stream",
       "stream": "stdout",
       "text": [
        "\n",
        "querying 393001-394000..."
       ]
      },
      {
       "output_type": "stream",
       "stream": "stdout",
       "text": [
        "done."
       ]
      },
      {
       "output_type": "stream",
       "stream": "stdout",
       "text": [
        "\n",
        "querying 394001-395000..."
       ]
      },
      {
       "output_type": "stream",
       "stream": "stdout",
       "text": [
        "done."
       ]
      },
      {
       "output_type": "stream",
       "stream": "stdout",
       "text": [
        "\n",
        "querying 395001-396000..."
       ]
      },
      {
       "output_type": "stream",
       "stream": "stdout",
       "text": [
        "done."
       ]
      },
      {
       "output_type": "stream",
       "stream": "stdout",
       "text": [
        "\n",
        "querying 396001-397000..."
       ]
      },
      {
       "output_type": "stream",
       "stream": "stdout",
       "text": [
        "done."
       ]
      },
      {
       "output_type": "stream",
       "stream": "stdout",
       "text": [
        "\n",
        "querying 397001-398000..."
       ]
      },
      {
       "output_type": "stream",
       "stream": "stdout",
       "text": [
        "done."
       ]
      },
      {
       "output_type": "stream",
       "stream": "stdout",
       "text": [
        "\n",
        "querying 398001-399000..."
       ]
      },
      {
       "output_type": "stream",
       "stream": "stdout",
       "text": [
        "done."
       ]
      },
      {
       "output_type": "stream",
       "stream": "stdout",
       "text": [
        "\n",
        "querying 399001-400000..."
       ]
      },
      {
       "output_type": "stream",
       "stream": "stdout",
       "text": [
        "done."
       ]
      },
      {
       "output_type": "stream",
       "stream": "stdout",
       "text": [
        "\n",
        "querying 400001-401000..."
       ]
      },
      {
       "output_type": "stream",
       "stream": "stdout",
       "text": [
        "done."
       ]
      },
      {
       "output_type": "stream",
       "stream": "stdout",
       "text": [
        "\n",
        "querying 401001-402000..."
       ]
      },
      {
       "output_type": "stream",
       "stream": "stdout",
       "text": [
        "done."
       ]
      },
      {
       "output_type": "stream",
       "stream": "stdout",
       "text": [
        "\n",
        "querying 402001-403000..."
       ]
      },
      {
       "output_type": "stream",
       "stream": "stdout",
       "text": [
        "done."
       ]
      },
      {
       "output_type": "stream",
       "stream": "stdout",
       "text": [
        "\n",
        "querying 403001-404000..."
       ]
      },
      {
       "output_type": "stream",
       "stream": "stdout",
       "text": [
        "done."
       ]
      },
      {
       "output_type": "stream",
       "stream": "stdout",
       "text": [
        "\n",
        "querying 404001-405000..."
       ]
      },
      {
       "output_type": "stream",
       "stream": "stdout",
       "text": [
        "done."
       ]
      },
      {
       "output_type": "stream",
       "stream": "stdout",
       "text": [
        "\n",
        "querying 405001-406000..."
       ]
      },
      {
       "output_type": "stream",
       "stream": "stdout",
       "text": [
        "done."
       ]
      },
      {
       "output_type": "stream",
       "stream": "stdout",
       "text": [
        "\n",
        "querying 406001-407000..."
       ]
      },
      {
       "output_type": "stream",
       "stream": "stdout",
       "text": [
        "done."
       ]
      },
      {
       "output_type": "stream",
       "stream": "stdout",
       "text": [
        "\n",
        "querying 407001-408000..."
       ]
      },
      {
       "output_type": "stream",
       "stream": "stdout",
       "text": [
        "done."
       ]
      },
      {
       "output_type": "stream",
       "stream": "stdout",
       "text": [
        "\n",
        "querying 408001-409000..."
       ]
      },
      {
       "output_type": "stream",
       "stream": "stdout",
       "text": [
        "done."
       ]
      },
      {
       "output_type": "stream",
       "stream": "stdout",
       "text": [
        "\n",
        "querying 409001-410000..."
       ]
      },
      {
       "output_type": "stream",
       "stream": "stdout",
       "text": [
        "done."
       ]
      },
      {
       "output_type": "stream",
       "stream": "stdout",
       "text": [
        "\n",
        "querying 410001-411000..."
       ]
      },
      {
       "output_type": "stream",
       "stream": "stdout",
       "text": [
        "done."
       ]
      },
      {
       "output_type": "stream",
       "stream": "stdout",
       "text": [
        "\n",
        "querying 411001-412000..."
       ]
      },
      {
       "output_type": "stream",
       "stream": "stdout",
       "text": [
        "done."
       ]
      },
      {
       "output_type": "stream",
       "stream": "stdout",
       "text": [
        "\n",
        "querying 412001-413000..."
       ]
      },
      {
       "output_type": "stream",
       "stream": "stdout",
       "text": [
        "done."
       ]
      },
      {
       "output_type": "stream",
       "stream": "stdout",
       "text": [
        "\n",
        "querying 413001-414000..."
       ]
      },
      {
       "output_type": "stream",
       "stream": "stdout",
       "text": [
        "done."
       ]
      },
      {
       "output_type": "stream",
       "stream": "stdout",
       "text": [
        "\n",
        "querying 414001-415000..."
       ]
      },
      {
       "output_type": "stream",
       "stream": "stdout",
       "text": [
        "done."
       ]
      },
      {
       "output_type": "stream",
       "stream": "stdout",
       "text": [
        "\n",
        "querying 415001-416000..."
       ]
      },
      {
       "output_type": "stream",
       "stream": "stdout",
       "text": [
        "done."
       ]
      },
      {
       "output_type": "stream",
       "stream": "stdout",
       "text": [
        "\n",
        "querying 416001-417000..."
       ]
      },
      {
       "output_type": "stream",
       "stream": "stdout",
       "text": [
        "done."
       ]
      },
      {
       "output_type": "stream",
       "stream": "stdout",
       "text": [
        "\n",
        "querying 417001-418000..."
       ]
      },
      {
       "output_type": "stream",
       "stream": "stdout",
       "text": [
        "done."
       ]
      },
      {
       "output_type": "stream",
       "stream": "stdout",
       "text": [
        "\n",
        "querying 418001-419000..."
       ]
      },
      {
       "output_type": "stream",
       "stream": "stdout",
       "text": [
        "done."
       ]
      },
      {
       "output_type": "stream",
       "stream": "stdout",
       "text": [
        "\n",
        "querying 419001-420000..."
       ]
      },
      {
       "output_type": "stream",
       "stream": "stdout",
       "text": [
        "done."
       ]
      },
      {
       "output_type": "stream",
       "stream": "stdout",
       "text": [
        "\n",
        "querying 420001-421000..."
       ]
      },
      {
       "output_type": "stream",
       "stream": "stdout",
       "text": [
        "done."
       ]
      },
      {
       "output_type": "stream",
       "stream": "stdout",
       "text": [
        "\n",
        "querying 421001-422000..."
       ]
      },
      {
       "output_type": "stream",
       "stream": "stdout",
       "text": [
        "done."
       ]
      },
      {
       "output_type": "stream",
       "stream": "stdout",
       "text": [
        "\n",
        "querying 422001-423000..."
       ]
      },
      {
       "output_type": "stream",
       "stream": "stdout",
       "text": [
        "done."
       ]
      },
      {
       "output_type": "stream",
       "stream": "stdout",
       "text": [
        "\n",
        "querying 423001-424000..."
       ]
      },
      {
       "output_type": "stream",
       "stream": "stdout",
       "text": [
        "done."
       ]
      },
      {
       "output_type": "stream",
       "stream": "stdout",
       "text": [
        "\n",
        "querying 424001-425000..."
       ]
      },
      {
       "output_type": "stream",
       "stream": "stdout",
       "text": [
        "done."
       ]
      },
      {
       "output_type": "stream",
       "stream": "stdout",
       "text": [
        "\n",
        "querying 425001-426000..."
       ]
      },
      {
       "output_type": "stream",
       "stream": "stdout",
       "text": [
        "done."
       ]
      },
      {
       "output_type": "stream",
       "stream": "stdout",
       "text": [
        "\n",
        "querying 426001-427000..."
       ]
      },
      {
       "output_type": "stream",
       "stream": "stdout",
       "text": [
        "done."
       ]
      },
      {
       "output_type": "stream",
       "stream": "stdout",
       "text": [
        "\n",
        "querying 427001-428000..."
       ]
      },
      {
       "output_type": "stream",
       "stream": "stdout",
       "text": [
        "done."
       ]
      },
      {
       "output_type": "stream",
       "stream": "stdout",
       "text": [
        "\n",
        "querying 428001-429000..."
       ]
      },
      {
       "output_type": "stream",
       "stream": "stdout",
       "text": [
        "done."
       ]
      },
      {
       "output_type": "stream",
       "stream": "stdout",
       "text": [
        "\n",
        "querying 429001-430000..."
       ]
      },
      {
       "output_type": "stream",
       "stream": "stdout",
       "text": [
        "done."
       ]
      },
      {
       "output_type": "stream",
       "stream": "stdout",
       "text": [
        "\n",
        "querying 430001-431000..."
       ]
      },
      {
       "output_type": "stream",
       "stream": "stdout",
       "text": [
        "done."
       ]
      },
      {
       "output_type": "stream",
       "stream": "stdout",
       "text": [
        "\n",
        "querying 431001-432000..."
       ]
      },
      {
       "output_type": "stream",
       "stream": "stdout",
       "text": [
        "done."
       ]
      },
      {
       "output_type": "stream",
       "stream": "stdout",
       "text": [
        "\n",
        "querying 432001-433000..."
       ]
      },
      {
       "output_type": "stream",
       "stream": "stdout",
       "text": [
        "done."
       ]
      },
      {
       "output_type": "stream",
       "stream": "stdout",
       "text": [
        "\n",
        "querying 433001-434000..."
       ]
      },
      {
       "output_type": "stream",
       "stream": "stdout",
       "text": [
        "done."
       ]
      },
      {
       "output_type": "stream",
       "stream": "stdout",
       "text": [
        "\n",
        "querying 434001-435000..."
       ]
      },
      {
       "output_type": "stream",
       "stream": "stdout",
       "text": [
        "done."
       ]
      },
      {
       "output_type": "stream",
       "stream": "stdout",
       "text": [
        "\n",
        "querying 435001-436000..."
       ]
      },
      {
       "output_type": "stream",
       "stream": "stdout",
       "text": [
        "done."
       ]
      },
      {
       "output_type": "stream",
       "stream": "stdout",
       "text": [
        "\n",
        "querying 436001-437000..."
       ]
      },
      {
       "output_type": "stream",
       "stream": "stdout",
       "text": [
        "done."
       ]
      },
      {
       "output_type": "stream",
       "stream": "stdout",
       "text": [
        "\n",
        "querying 437001-438000..."
       ]
      },
      {
       "output_type": "stream",
       "stream": "stdout",
       "text": [
        "done."
       ]
      },
      {
       "output_type": "stream",
       "stream": "stdout",
       "text": [
        "\n",
        "querying 438001-439000..."
       ]
      },
      {
       "output_type": "stream",
       "stream": "stdout",
       "text": [
        "done."
       ]
      },
      {
       "output_type": "stream",
       "stream": "stdout",
       "text": [
        "\n",
        "querying 439001-440000..."
       ]
      },
      {
       "output_type": "stream",
       "stream": "stdout",
       "text": [
        "done."
       ]
      },
      {
       "output_type": "stream",
       "stream": "stdout",
       "text": [
        "\n",
        "querying 440001-441000..."
       ]
      },
      {
       "output_type": "stream",
       "stream": "stdout",
       "text": [
        "done."
       ]
      },
      {
       "output_type": "stream",
       "stream": "stdout",
       "text": [
        "\n",
        "querying 441001-442000..."
       ]
      },
      {
       "output_type": "stream",
       "stream": "stdout",
       "text": [
        "done."
       ]
      },
      {
       "output_type": "stream",
       "stream": "stdout",
       "text": [
        "\n",
        "querying 442001-443000..."
       ]
      },
      {
       "output_type": "stream",
       "stream": "stdout",
       "text": [
        "done."
       ]
      },
      {
       "output_type": "stream",
       "stream": "stdout",
       "text": [
        "\n",
        "querying 443001-444000..."
       ]
      },
      {
       "output_type": "stream",
       "stream": "stdout",
       "text": [
        "done."
       ]
      },
      {
       "output_type": "stream",
       "stream": "stdout",
       "text": [
        "\n",
        "querying 444001-445000..."
       ]
      },
      {
       "output_type": "stream",
       "stream": "stdout",
       "text": [
        "done."
       ]
      },
      {
       "output_type": "stream",
       "stream": "stdout",
       "text": [
        "\n",
        "querying 445001-446000..."
       ]
      },
      {
       "output_type": "stream",
       "stream": "stdout",
       "text": [
        "done."
       ]
      },
      {
       "output_type": "stream",
       "stream": "stdout",
       "text": [
        "\n",
        "querying 446001-447000..."
       ]
      },
      {
       "output_type": "stream",
       "stream": "stdout",
       "text": [
        "done."
       ]
      },
      {
       "output_type": "stream",
       "stream": "stdout",
       "text": [
        "\n",
        "querying 447001-448000..."
       ]
      },
      {
       "output_type": "stream",
       "stream": "stdout",
       "text": [
        "done."
       ]
      },
      {
       "output_type": "stream",
       "stream": "stdout",
       "text": [
        "\n",
        "querying 448001-449000..."
       ]
      },
      {
       "output_type": "stream",
       "stream": "stdout",
       "text": [
        "done."
       ]
      },
      {
       "output_type": "stream",
       "stream": "stdout",
       "text": [
        "\n",
        "querying 449001-450000..."
       ]
      },
      {
       "output_type": "stream",
       "stream": "stdout",
       "text": [
        "done."
       ]
      },
      {
       "output_type": "stream",
       "stream": "stdout",
       "text": [
        "\n",
        "querying 450001-451000..."
       ]
      },
      {
       "output_type": "stream",
       "stream": "stdout",
       "text": [
        "done."
       ]
      },
      {
       "output_type": "stream",
       "stream": "stdout",
       "text": [
        "\n",
        "querying 451001-452000..."
       ]
      },
      {
       "output_type": "stream",
       "stream": "stdout",
       "text": [
        "done."
       ]
      },
      {
       "output_type": "stream",
       "stream": "stdout",
       "text": [
        "\n",
        "querying 452001-453000..."
       ]
      },
      {
       "output_type": "stream",
       "stream": "stdout",
       "text": [
        "done."
       ]
      },
      {
       "output_type": "stream",
       "stream": "stdout",
       "text": [
        "\n",
        "querying 453001-454000..."
       ]
      },
      {
       "output_type": "stream",
       "stream": "stdout",
       "text": [
        "done."
       ]
      },
      {
       "output_type": "stream",
       "stream": "stdout",
       "text": [
        "\n",
        "querying 454001-455000..."
       ]
      },
      {
       "output_type": "stream",
       "stream": "stdout",
       "text": [
        "done."
       ]
      },
      {
       "output_type": "stream",
       "stream": "stdout",
       "text": [
        "\n",
        "querying 455001-456000..."
       ]
      },
      {
       "output_type": "stream",
       "stream": "stdout",
       "text": [
        "done."
       ]
      },
      {
       "output_type": "stream",
       "stream": "stdout",
       "text": [
        "\n",
        "querying 456001-457000..."
       ]
      },
      {
       "output_type": "stream",
       "stream": "stdout",
       "text": [
        "done."
       ]
      },
      {
       "output_type": "stream",
       "stream": "stdout",
       "text": [
        "\n",
        "querying 457001-458000..."
       ]
      },
      {
       "output_type": "stream",
       "stream": "stdout",
       "text": [
        "done."
       ]
      },
      {
       "output_type": "stream",
       "stream": "stdout",
       "text": [
        "\n",
        "querying 458001-459000..."
       ]
      },
      {
       "output_type": "stream",
       "stream": "stdout",
       "text": [
        "done."
       ]
      },
      {
       "output_type": "stream",
       "stream": "stdout",
       "text": [
        "\n",
        "querying 459001-460000..."
       ]
      },
      {
       "output_type": "stream",
       "stream": "stdout",
       "text": [
        "done."
       ]
      },
      {
       "output_type": "stream",
       "stream": "stdout",
       "text": [
        "\n",
        "querying 460001-461000..."
       ]
      },
      {
       "output_type": "stream",
       "stream": "stdout",
       "text": [
        "done."
       ]
      },
      {
       "output_type": "stream",
       "stream": "stdout",
       "text": [
        "\n",
        "querying 461001-462000..."
       ]
      },
      {
       "output_type": "stream",
       "stream": "stdout",
       "text": [
        "done."
       ]
      },
      {
       "output_type": "stream",
       "stream": "stdout",
       "text": [
        "\n",
        "querying 462001-463000..."
       ]
      },
      {
       "output_type": "stream",
       "stream": "stdout",
       "text": [
        "done."
       ]
      },
      {
       "output_type": "stream",
       "stream": "stdout",
       "text": [
        "\n",
        "querying 463001-464000..."
       ]
      },
      {
       "output_type": "stream",
       "stream": "stdout",
       "text": [
        "done."
       ]
      },
      {
       "output_type": "stream",
       "stream": "stdout",
       "text": [
        "\n",
        "querying 464001-465000..."
       ]
      },
      {
       "output_type": "stream",
       "stream": "stdout",
       "text": [
        "done."
       ]
      },
      {
       "output_type": "stream",
       "stream": "stdout",
       "text": [
        "\n",
        "querying 465001-466000..."
       ]
      },
      {
       "output_type": "stream",
       "stream": "stdout",
       "text": [
        "done."
       ]
      },
      {
       "output_type": "stream",
       "stream": "stdout",
       "text": [
        "\n",
        "querying 466001-467000..."
       ]
      },
      {
       "output_type": "stream",
       "stream": "stdout",
       "text": [
        "done."
       ]
      },
      {
       "output_type": "stream",
       "stream": "stdout",
       "text": [
        "\n",
        "querying 467001-468000..."
       ]
      },
      {
       "output_type": "stream",
       "stream": "stdout",
       "text": [
        "done."
       ]
      },
      {
       "output_type": "stream",
       "stream": "stdout",
       "text": [
        "\n",
        "querying 468001-469000..."
       ]
      },
      {
       "output_type": "stream",
       "stream": "stdout",
       "text": [
        "done."
       ]
      },
      {
       "output_type": "stream",
       "stream": "stdout",
       "text": [
        "\n",
        "querying 469001-470000..."
       ]
      },
      {
       "output_type": "stream",
       "stream": "stdout",
       "text": [
        "done."
       ]
      },
      {
       "output_type": "stream",
       "stream": "stdout",
       "text": [
        "\n",
        "querying 470001-471000..."
       ]
      },
      {
       "output_type": "stream",
       "stream": "stdout",
       "text": [
        "done."
       ]
      },
      {
       "output_type": "stream",
       "stream": "stdout",
       "text": [
        "\n",
        "querying 471001-472000..."
       ]
      },
      {
       "output_type": "stream",
       "stream": "stdout",
       "text": [
        "done."
       ]
      },
      {
       "output_type": "stream",
       "stream": "stdout",
       "text": [
        "\n",
        "querying 472001-473000..."
       ]
      },
      {
       "output_type": "stream",
       "stream": "stdout",
       "text": [
        "done."
       ]
      },
      {
       "output_type": "stream",
       "stream": "stdout",
       "text": [
        "\n",
        "querying 473001-474000..."
       ]
      },
      {
       "output_type": "stream",
       "stream": "stdout",
       "text": [
        "done."
       ]
      },
      {
       "output_type": "stream",
       "stream": "stdout",
       "text": [
        "\n",
        "querying 474001-475000..."
       ]
      },
      {
       "output_type": "stream",
       "stream": "stdout",
       "text": [
        "done."
       ]
      },
      {
       "output_type": "stream",
       "stream": "stdout",
       "text": [
        "\n",
        "querying 475001-476000..."
       ]
      },
      {
       "output_type": "stream",
       "stream": "stdout",
       "text": [
        "done."
       ]
      },
      {
       "output_type": "stream",
       "stream": "stdout",
       "text": [
        "\n",
        "querying 476001-477000..."
       ]
      },
      {
       "output_type": "stream",
       "stream": "stdout",
       "text": [
        "done."
       ]
      },
      {
       "output_type": "stream",
       "stream": "stdout",
       "text": [
        "\n",
        "querying 477001-478000..."
       ]
      },
      {
       "output_type": "stream",
       "stream": "stdout",
       "text": [
        "done."
       ]
      },
      {
       "output_type": "stream",
       "stream": "stdout",
       "text": [
        "\n",
        "querying 478001-479000..."
       ]
      },
      {
       "output_type": "stream",
       "stream": "stdout",
       "text": [
        "done."
       ]
      },
      {
       "output_type": "stream",
       "stream": "stdout",
       "text": [
        "\n",
        "querying 479001-480000..."
       ]
      },
      {
       "output_type": "stream",
       "stream": "stdout",
       "text": [
        "done."
       ]
      },
      {
       "output_type": "stream",
       "stream": "stdout",
       "text": [
        "\n",
        "querying 480001-481000..."
       ]
      },
      {
       "output_type": "stream",
       "stream": "stdout",
       "text": [
        "done."
       ]
      },
      {
       "output_type": "stream",
       "stream": "stdout",
       "text": [
        "\n",
        "querying 481001-482000..."
       ]
      },
      {
       "output_type": "stream",
       "stream": "stdout",
       "text": [
        "done."
       ]
      },
      {
       "output_type": "stream",
       "stream": "stdout",
       "text": [
        "\n",
        "querying 482001-483000..."
       ]
      },
      {
       "output_type": "stream",
       "stream": "stdout",
       "text": [
        "done."
       ]
      },
      {
       "output_type": "stream",
       "stream": "stdout",
       "text": [
        "\n",
        "querying 483001-484000..."
       ]
      },
      {
       "output_type": "stream",
       "stream": "stdout",
       "text": [
        "done."
       ]
      },
      {
       "output_type": "stream",
       "stream": "stdout",
       "text": [
        "\n",
        "querying 484001-485000..."
       ]
      },
      {
       "output_type": "stream",
       "stream": "stdout",
       "text": [
        "done."
       ]
      },
      {
       "output_type": "stream",
       "stream": "stdout",
       "text": [
        "\n",
        "querying 485001-486000..."
       ]
      },
      {
       "output_type": "stream",
       "stream": "stdout",
       "text": [
        "done."
       ]
      },
      {
       "output_type": "stream",
       "stream": "stdout",
       "text": [
        "\n",
        "querying 486001-487000..."
       ]
      },
      {
       "output_type": "stream",
       "stream": "stdout",
       "text": [
        "done."
       ]
      },
      {
       "output_type": "stream",
       "stream": "stdout",
       "text": [
        "\n",
        "querying 487001-488000..."
       ]
      },
      {
       "output_type": "stream",
       "stream": "stdout",
       "text": [
        "done."
       ]
      },
      {
       "output_type": "stream",
       "stream": "stdout",
       "text": [
        "\n",
        "querying 488001-489000..."
       ]
      },
      {
       "output_type": "stream",
       "stream": "stdout",
       "text": [
        "done."
       ]
      },
      {
       "output_type": "stream",
       "stream": "stdout",
       "text": [
        "\n",
        "querying 489001-490000..."
       ]
      },
      {
       "output_type": "stream",
       "stream": "stdout",
       "text": [
        "done."
       ]
      },
      {
       "output_type": "stream",
       "stream": "stdout",
       "text": [
        "\n",
        "querying 490001-491000..."
       ]
      },
      {
       "output_type": "stream",
       "stream": "stdout",
       "text": [
        "done."
       ]
      },
      {
       "output_type": "stream",
       "stream": "stdout",
       "text": [
        "\n",
        "querying 491001-492000..."
       ]
      },
      {
       "output_type": "stream",
       "stream": "stdout",
       "text": [
        "done."
       ]
      },
      {
       "output_type": "stream",
       "stream": "stdout",
       "text": [
        "\n",
        "querying 492001-493000..."
       ]
      },
      {
       "output_type": "stream",
       "stream": "stdout",
       "text": [
        "done."
       ]
      },
      {
       "output_type": "stream",
       "stream": "stdout",
       "text": [
        "\n",
        "querying 493001-494000..."
       ]
      },
      {
       "output_type": "stream",
       "stream": "stdout",
       "text": [
        "done."
       ]
      },
      {
       "output_type": "stream",
       "stream": "stdout",
       "text": [
        "\n",
        "querying 494001-495000..."
       ]
      },
      {
       "output_type": "stream",
       "stream": "stdout",
       "text": [
        "done."
       ]
      },
      {
       "output_type": "stream",
       "stream": "stdout",
       "text": [
        "\n",
        "querying 495001-496000..."
       ]
      },
      {
       "output_type": "stream",
       "stream": "stdout",
       "text": [
        "done."
       ]
      },
      {
       "output_type": "stream",
       "stream": "stdout",
       "text": [
        "\n",
        "querying 496001-497000..."
       ]
      },
      {
       "output_type": "stream",
       "stream": "stdout",
       "text": [
        "done."
       ]
      },
      {
       "output_type": "stream",
       "stream": "stdout",
       "text": [
        "\n",
        "querying 497001-498000..."
       ]
      },
      {
       "output_type": "stream",
       "stream": "stdout",
       "text": [
        "done."
       ]
      },
      {
       "output_type": "stream",
       "stream": "stdout",
       "text": [
        "\n",
        "querying 498001-499000..."
       ]
      },
      {
       "output_type": "stream",
       "stream": "stdout",
       "text": [
        "done."
       ]
      },
      {
       "output_type": "stream",
       "stream": "stdout",
       "text": [
        "\n",
        "querying 499001-500000..."
       ]
      },
      {
       "output_type": "stream",
       "stream": "stdout",
       "text": [
        "done."
       ]
      },
      {
       "output_type": "stream",
       "stream": "stdout",
       "text": [
        "\n",
        "querying 500001-501000..."
       ]
      },
      {
       "output_type": "stream",
       "stream": "stdout",
       "text": [
        "done."
       ]
      },
      {
       "output_type": "stream",
       "stream": "stdout",
       "text": [
        "\n",
        "querying 501001-502000..."
       ]
      },
      {
       "output_type": "stream",
       "stream": "stdout",
       "text": [
        "done."
       ]
      },
      {
       "output_type": "stream",
       "stream": "stdout",
       "text": [
        "\n",
        "querying 502001-503000..."
       ]
      },
      {
       "output_type": "stream",
       "stream": "stdout",
       "text": [
        "done."
       ]
      },
      {
       "output_type": "stream",
       "stream": "stdout",
       "text": [
        "\n",
        "querying 503001-504000..."
       ]
      },
      {
       "output_type": "stream",
       "stream": "stdout",
       "text": [
        "done."
       ]
      },
      {
       "output_type": "stream",
       "stream": "stdout",
       "text": [
        "\n",
        "querying 504001-505000..."
       ]
      },
      {
       "output_type": "stream",
       "stream": "stdout",
       "text": [
        "done."
       ]
      },
      {
       "output_type": "stream",
       "stream": "stdout",
       "text": [
        "\n",
        "querying 505001-506000..."
       ]
      },
      {
       "output_type": "stream",
       "stream": "stdout",
       "text": [
        "done."
       ]
      },
      {
       "output_type": "stream",
       "stream": "stdout",
       "text": [
        "\n",
        "querying 506001-507000..."
       ]
      },
      {
       "output_type": "stream",
       "stream": "stdout",
       "text": [
        "done."
       ]
      },
      {
       "output_type": "stream",
       "stream": "stdout",
       "text": [
        "\n",
        "querying 507001-508000..."
       ]
      },
      {
       "output_type": "stream",
       "stream": "stdout",
       "text": [
        "done."
       ]
      },
      {
       "output_type": "stream",
       "stream": "stdout",
       "text": [
        "\n",
        "querying 508001-509000..."
       ]
      },
      {
       "output_type": "stream",
       "stream": "stdout",
       "text": [
        "done."
       ]
      },
      {
       "output_type": "stream",
       "stream": "stdout",
       "text": [
        "\n",
        "querying 509001-510000..."
       ]
      },
      {
       "output_type": "stream",
       "stream": "stdout",
       "text": [
        "done."
       ]
      },
      {
       "output_type": "stream",
       "stream": "stdout",
       "text": [
        "\n",
        "querying 510001-511000..."
       ]
      },
      {
       "output_type": "stream",
       "stream": "stdout",
       "text": [
        "done."
       ]
      },
      {
       "output_type": "stream",
       "stream": "stdout",
       "text": [
        "\n",
        "querying 511001-512000..."
       ]
      },
      {
       "output_type": "stream",
       "stream": "stdout",
       "text": [
        "done."
       ]
      },
      {
       "output_type": "stream",
       "stream": "stdout",
       "text": [
        "\n",
        "querying 512001-513000..."
       ]
      },
      {
       "output_type": "stream",
       "stream": "stdout",
       "text": [
        "done."
       ]
      },
      {
       "output_type": "stream",
       "stream": "stdout",
       "text": [
        "\n",
        "querying 513001-514000..."
       ]
      },
      {
       "output_type": "stream",
       "stream": "stdout",
       "text": [
        "done."
       ]
      },
      {
       "output_type": "stream",
       "stream": "stdout",
       "text": [
        "\n",
        "querying 514001-515000..."
       ]
      },
      {
       "output_type": "stream",
       "stream": "stdout",
       "text": [
        "done."
       ]
      },
      {
       "output_type": "stream",
       "stream": "stdout",
       "text": [
        "\n",
        "querying 515001-516000..."
       ]
      },
      {
       "output_type": "stream",
       "stream": "stdout",
       "text": [
        "done."
       ]
      },
      {
       "output_type": "stream",
       "stream": "stdout",
       "text": [
        "\n",
        "querying 516001-517000..."
       ]
      },
      {
       "output_type": "stream",
       "stream": "stdout",
       "text": [
        "done."
       ]
      },
      {
       "output_type": "stream",
       "stream": "stdout",
       "text": [
        "\n",
        "querying 517001-518000..."
       ]
      },
      {
       "output_type": "stream",
       "stream": "stdout",
       "text": [
        "done."
       ]
      },
      {
       "output_type": "stream",
       "stream": "stdout",
       "text": [
        "\n",
        "querying 518001-519000..."
       ]
      },
      {
       "output_type": "stream",
       "stream": "stdout",
       "text": [
        "done."
       ]
      },
      {
       "output_type": "stream",
       "stream": "stdout",
       "text": [
        "\n",
        "querying 519001-520000..."
       ]
      },
      {
       "output_type": "stream",
       "stream": "stdout",
       "text": [
        "done."
       ]
      },
      {
       "output_type": "stream",
       "stream": "stdout",
       "text": [
        "\n",
        "querying 520001-521000..."
       ]
      },
      {
       "output_type": "stream",
       "stream": "stdout",
       "text": [
        "done."
       ]
      },
      {
       "output_type": "stream",
       "stream": "stdout",
       "text": [
        "\n",
        "querying 521001-522000..."
       ]
      },
      {
       "output_type": "stream",
       "stream": "stdout",
       "text": [
        "done."
       ]
      },
      {
       "output_type": "stream",
       "stream": "stdout",
       "text": [
        "\n",
        "querying 522001-523000..."
       ]
      },
      {
       "output_type": "stream",
       "stream": "stdout",
       "text": [
        "done."
       ]
      },
      {
       "output_type": "stream",
       "stream": "stdout",
       "text": [
        "\n",
        "querying 523001-524000..."
       ]
      },
      {
       "output_type": "stream",
       "stream": "stdout",
       "text": [
        "done."
       ]
      },
      {
       "output_type": "stream",
       "stream": "stdout",
       "text": [
        "\n",
        "querying 524001-525000..."
       ]
      },
      {
       "output_type": "stream",
       "stream": "stdout",
       "text": [
        "done."
       ]
      },
      {
       "output_type": "stream",
       "stream": "stdout",
       "text": [
        "\n",
        "querying 525001-526000..."
       ]
      },
      {
       "output_type": "stream",
       "stream": "stdout",
       "text": [
        "done."
       ]
      },
      {
       "output_type": "stream",
       "stream": "stdout",
       "text": [
        "\n",
        "querying 526001-527000..."
       ]
      },
      {
       "output_type": "stream",
       "stream": "stdout",
       "text": [
        "done."
       ]
      },
      {
       "output_type": "stream",
       "stream": "stdout",
       "text": [
        "\n",
        "querying 527001-528000..."
       ]
      },
      {
       "output_type": "stream",
       "stream": "stdout",
       "text": [
        "done."
       ]
      },
      {
       "output_type": "stream",
       "stream": "stdout",
       "text": [
        "\n",
        "querying 528001-529000..."
       ]
      },
      {
       "output_type": "stream",
       "stream": "stdout",
       "text": [
        "done."
       ]
      },
      {
       "output_type": "stream",
       "stream": "stdout",
       "text": [
        "\n",
        "querying 529001-530000..."
       ]
      },
      {
       "output_type": "stream",
       "stream": "stdout",
       "text": [
        "done."
       ]
      },
      {
       "output_type": "stream",
       "stream": "stdout",
       "text": [
        "\n",
        "querying 530001-531000..."
       ]
      },
      {
       "output_type": "stream",
       "stream": "stdout",
       "text": [
        "done."
       ]
      },
      {
       "output_type": "stream",
       "stream": "stdout",
       "text": [
        "\n",
        "querying 531001-532000..."
       ]
      },
      {
       "output_type": "stream",
       "stream": "stdout",
       "text": [
        "done."
       ]
      },
      {
       "output_type": "stream",
       "stream": "stdout",
       "text": [
        "\n",
        "querying 532001-533000..."
       ]
      },
      {
       "output_type": "stream",
       "stream": "stdout",
       "text": [
        "done."
       ]
      },
      {
       "output_type": "stream",
       "stream": "stdout",
       "text": [
        "\n",
        "querying 533001-534000..."
       ]
      },
      {
       "output_type": "stream",
       "stream": "stdout",
       "text": [
        "done."
       ]
      },
      {
       "output_type": "stream",
       "stream": "stdout",
       "text": [
        "\n",
        "querying 534001-535000..."
       ]
      },
      {
       "output_type": "stream",
       "stream": "stdout",
       "text": [
        "done."
       ]
      },
      {
       "output_type": "stream",
       "stream": "stdout",
       "text": [
        "\n",
        "querying 535001-536000..."
       ]
      },
      {
       "output_type": "stream",
       "stream": "stdout",
       "text": [
        "done."
       ]
      },
      {
       "output_type": "stream",
       "stream": "stdout",
       "text": [
        "\n",
        "querying 536001-537000..."
       ]
      },
      {
       "output_type": "stream",
       "stream": "stdout",
       "text": [
        "done."
       ]
      },
      {
       "output_type": "stream",
       "stream": "stdout",
       "text": [
        "\n",
        "querying 537001-538000..."
       ]
      },
      {
       "output_type": "stream",
       "stream": "stdout",
       "text": [
        "done."
       ]
      },
      {
       "output_type": "stream",
       "stream": "stdout",
       "text": [
        "\n",
        "querying 538001-539000..."
       ]
      },
      {
       "output_type": "stream",
       "stream": "stdout",
       "text": [
        "done."
       ]
      },
      {
       "output_type": "stream",
       "stream": "stdout",
       "text": [
        "\n",
        "querying 539001-540000..."
       ]
      },
      {
       "output_type": "stream",
       "stream": "stdout",
       "text": [
        "done."
       ]
      },
      {
       "output_type": "stream",
       "stream": "stdout",
       "text": [
        "\n",
        "querying 540001-541000..."
       ]
      },
      {
       "output_type": "stream",
       "stream": "stdout",
       "text": [
        "done."
       ]
      },
      {
       "output_type": "stream",
       "stream": "stdout",
       "text": [
        "\n",
        "querying 541001-542000..."
       ]
      },
      {
       "output_type": "stream",
       "stream": "stdout",
       "text": [
        "done."
       ]
      },
      {
       "output_type": "stream",
       "stream": "stdout",
       "text": [
        "\n",
        "querying 542001-543000..."
       ]
      },
      {
       "output_type": "stream",
       "stream": "stdout",
       "text": [
        "done."
       ]
      },
      {
       "output_type": "stream",
       "stream": "stdout",
       "text": [
        "\n",
        "querying 543001-544000..."
       ]
      },
      {
       "output_type": "stream",
       "stream": "stdout",
       "text": [
        "done."
       ]
      },
      {
       "output_type": "stream",
       "stream": "stdout",
       "text": [
        "\n",
        "querying 544001-545000..."
       ]
      },
      {
       "output_type": "stream",
       "stream": "stdout",
       "text": [
        "done."
       ]
      },
      {
       "output_type": "stream",
       "stream": "stdout",
       "text": [
        "\n",
        "querying 545001-546000..."
       ]
      },
      {
       "output_type": "stream",
       "stream": "stdout",
       "text": [
        "done."
       ]
      },
      {
       "output_type": "stream",
       "stream": "stdout",
       "text": [
        "\n",
        "querying 546001-547000..."
       ]
      },
      {
       "output_type": "stream",
       "stream": "stdout",
       "text": [
        "done."
       ]
      },
      {
       "output_type": "stream",
       "stream": "stdout",
       "text": [
        "\n",
        "querying 547001-548000..."
       ]
      },
      {
       "output_type": "stream",
       "stream": "stdout",
       "text": [
        "done."
       ]
      },
      {
       "output_type": "stream",
       "stream": "stdout",
       "text": [
        "\n",
        "querying 548001-549000..."
       ]
      },
      {
       "output_type": "stream",
       "stream": "stdout",
       "text": [
        "done."
       ]
      },
      {
       "output_type": "stream",
       "stream": "stdout",
       "text": [
        "\n",
        "querying 549001-550000..."
       ]
      },
      {
       "output_type": "stream",
       "stream": "stdout",
       "text": [
        "done."
       ]
      },
      {
       "output_type": "stream",
       "stream": "stdout",
       "text": [
        "\n",
        "querying 550001-551000..."
       ]
      },
      {
       "output_type": "stream",
       "stream": "stdout",
       "text": [
        "done."
       ]
      },
      {
       "output_type": "stream",
       "stream": "stdout",
       "text": [
        "\n",
        "querying 551001-552000..."
       ]
      },
      {
       "output_type": "stream",
       "stream": "stdout",
       "text": [
        "done."
       ]
      },
      {
       "output_type": "stream",
       "stream": "stdout",
       "text": [
        "\n",
        "querying 552001-553000..."
       ]
      },
      {
       "output_type": "stream",
       "stream": "stdout",
       "text": [
        "done."
       ]
      },
      {
       "output_type": "stream",
       "stream": "stdout",
       "text": [
        "\n",
        "querying 553001-554000..."
       ]
      },
      {
       "output_type": "stream",
       "stream": "stdout",
       "text": [
        "done."
       ]
      },
      {
       "output_type": "stream",
       "stream": "stdout",
       "text": [
        "\n",
        "querying 554001-555000..."
       ]
      },
      {
       "output_type": "stream",
       "stream": "stdout",
       "text": [
        "done."
       ]
      },
      {
       "output_type": "stream",
       "stream": "stdout",
       "text": [
        "\n",
        "querying 555001-556000..."
       ]
      },
      {
       "output_type": "stream",
       "stream": "stdout",
       "text": [
        "done."
       ]
      },
      {
       "output_type": "stream",
       "stream": "stdout",
       "text": [
        "\n",
        "querying 556001-557000..."
       ]
      },
      {
       "output_type": "stream",
       "stream": "stdout",
       "text": [
        "done."
       ]
      },
      {
       "output_type": "stream",
       "stream": "stdout",
       "text": [
        "\n",
        "querying 557001-558000..."
       ]
      },
      {
       "output_type": "stream",
       "stream": "stdout",
       "text": [
        "done."
       ]
      },
      {
       "output_type": "stream",
       "stream": "stdout",
       "text": [
        "\n",
        "querying 558001-559000..."
       ]
      },
      {
       "output_type": "stream",
       "stream": "stdout",
       "text": [
        "done."
       ]
      },
      {
       "output_type": "stream",
       "stream": "stdout",
       "text": [
        "\n",
        "querying 559001-560000..."
       ]
      },
      {
       "output_type": "stream",
       "stream": "stdout",
       "text": [
        "done."
       ]
      },
      {
       "output_type": "stream",
       "stream": "stdout",
       "text": [
        "\n",
        "querying 560001-561000..."
       ]
      },
      {
       "output_type": "stream",
       "stream": "stdout",
       "text": [
        "done."
       ]
      },
      {
       "output_type": "stream",
       "stream": "stdout",
       "text": [
        "\n",
        "querying 561001-562000..."
       ]
      },
      {
       "output_type": "stream",
       "stream": "stdout",
       "text": [
        "done."
       ]
      },
      {
       "output_type": "stream",
       "stream": "stdout",
       "text": [
        "\n",
        "querying 562001-563000..."
       ]
      },
      {
       "output_type": "stream",
       "stream": "stdout",
       "text": [
        "done."
       ]
      },
      {
       "output_type": "stream",
       "stream": "stdout",
       "text": [
        "\n",
        "querying 563001-564000..."
       ]
      },
      {
       "output_type": "stream",
       "stream": "stdout",
       "text": [
        "done."
       ]
      },
      {
       "output_type": "stream",
       "stream": "stdout",
       "text": [
        "\n",
        "querying 564001-565000..."
       ]
      },
      {
       "output_type": "stream",
       "stream": "stdout",
       "text": [
        "done."
       ]
      },
      {
       "output_type": "stream",
       "stream": "stdout",
       "text": [
        "\n",
        "querying 565001-566000..."
       ]
      },
      {
       "output_type": "stream",
       "stream": "stdout",
       "text": [
        "done."
       ]
      },
      {
       "output_type": "stream",
       "stream": "stdout",
       "text": [
        "\n",
        "querying 566001-567000..."
       ]
      },
      {
       "output_type": "stream",
       "stream": "stdout",
       "text": [
        "done."
       ]
      },
      {
       "output_type": "stream",
       "stream": "stdout",
       "text": [
        "\n",
        "querying 567001-568000..."
       ]
      },
      {
       "output_type": "stream",
       "stream": "stdout",
       "text": [
        "done."
       ]
      },
      {
       "output_type": "stream",
       "stream": "stdout",
       "text": [
        "\n",
        "querying 568001-569000..."
       ]
      },
      {
       "output_type": "stream",
       "stream": "stdout",
       "text": [
        "done."
       ]
      },
      {
       "output_type": "stream",
       "stream": "stdout",
       "text": [
        "\n",
        "querying 569001-570000..."
       ]
      },
      {
       "output_type": "stream",
       "stream": "stdout",
       "text": [
        "done."
       ]
      },
      {
       "output_type": "stream",
       "stream": "stdout",
       "text": [
        "\n",
        "querying 570001-571000..."
       ]
      },
      {
       "output_type": "stream",
       "stream": "stdout",
       "text": [
        "done."
       ]
      },
      {
       "output_type": "stream",
       "stream": "stdout",
       "text": [
        "\n",
        "querying 571001-572000..."
       ]
      },
      {
       "output_type": "stream",
       "stream": "stdout",
       "text": [
        "done."
       ]
      },
      {
       "output_type": "stream",
       "stream": "stdout",
       "text": [
        "\n",
        "querying 572001-573000..."
       ]
      },
      {
       "output_type": "stream",
       "stream": "stdout",
       "text": [
        "done."
       ]
      },
      {
       "output_type": "stream",
       "stream": "stdout",
       "text": [
        "\n",
        "querying 573001-574000..."
       ]
      },
      {
       "output_type": "stream",
       "stream": "stdout",
       "text": [
        "done."
       ]
      },
      {
       "output_type": "stream",
       "stream": "stdout",
       "text": [
        "\n",
        "querying 574001-575000..."
       ]
      },
      {
       "output_type": "stream",
       "stream": "stdout",
       "text": [
        "done."
       ]
      },
      {
       "output_type": "stream",
       "stream": "stdout",
       "text": [
        "\n",
        "querying 575001-576000..."
       ]
      },
      {
       "output_type": "stream",
       "stream": "stdout",
       "text": [
        "done."
       ]
      },
      {
       "output_type": "stream",
       "stream": "stdout",
       "text": [
        "\n",
        "querying 576001-577000..."
       ]
      },
      {
       "output_type": "stream",
       "stream": "stdout",
       "text": [
        "done."
       ]
      },
      {
       "output_type": "stream",
       "stream": "stdout",
       "text": [
        "\n",
        "querying 577001-578000..."
       ]
      },
      {
       "output_type": "stream",
       "stream": "stdout",
       "text": [
        "done."
       ]
      },
      {
       "output_type": "stream",
       "stream": "stdout",
       "text": [
        "\n",
        "querying 578001-579000..."
       ]
      },
      {
       "output_type": "stream",
       "stream": "stdout",
       "text": [
        "done."
       ]
      },
      {
       "output_type": "stream",
       "stream": "stdout",
       "text": [
        "\n",
        "querying 579001-580000..."
       ]
      },
      {
       "output_type": "stream",
       "stream": "stdout",
       "text": [
        "done."
       ]
      },
      {
       "output_type": "stream",
       "stream": "stdout",
       "text": [
        "\n",
        "querying 580001-581000..."
       ]
      },
      {
       "output_type": "stream",
       "stream": "stdout",
       "text": [
        "done."
       ]
      },
      {
       "output_type": "stream",
       "stream": "stdout",
       "text": [
        "\n",
        "querying 581001-582000..."
       ]
      },
      {
       "output_type": "stream",
       "stream": "stdout",
       "text": [
        "done."
       ]
      },
      {
       "output_type": "stream",
       "stream": "stdout",
       "text": [
        "\n",
        "querying 582001-583000..."
       ]
      },
      {
       "output_type": "stream",
       "stream": "stdout",
       "text": [
        "done."
       ]
      },
      {
       "output_type": "stream",
       "stream": "stdout",
       "text": [
        "\n",
        "querying 583001-584000..."
       ]
      },
      {
       "output_type": "stream",
       "stream": "stdout",
       "text": [
        "done."
       ]
      },
      {
       "output_type": "stream",
       "stream": "stdout",
       "text": [
        "\n",
        "querying 584001-585000..."
       ]
      },
      {
       "output_type": "stream",
       "stream": "stdout",
       "text": [
        "done."
       ]
      },
      {
       "output_type": "stream",
       "stream": "stdout",
       "text": [
        "\n",
        "querying 585001-586000..."
       ]
      },
      {
       "output_type": "stream",
       "stream": "stdout",
       "text": [
        "done."
       ]
      },
      {
       "output_type": "stream",
       "stream": "stdout",
       "text": [
        "\n",
        "querying 586001-587000..."
       ]
      },
      {
       "output_type": "stream",
       "stream": "stdout",
       "text": [
        "done."
       ]
      },
      {
       "output_type": "stream",
       "stream": "stdout",
       "text": [
        "\n",
        "querying 587001-588000..."
       ]
      },
      {
       "output_type": "stream",
       "stream": "stdout",
       "text": [
        "done."
       ]
      },
      {
       "output_type": "stream",
       "stream": "stdout",
       "text": [
        "\n",
        "querying 588001-589000..."
       ]
      },
      {
       "output_type": "stream",
       "stream": "stdout",
       "text": [
        "done."
       ]
      },
      {
       "output_type": "stream",
       "stream": "stdout",
       "text": [
        "\n",
        "querying 589001-590000..."
       ]
      },
      {
       "output_type": "stream",
       "stream": "stdout",
       "text": [
        "done."
       ]
      },
      {
       "output_type": "stream",
       "stream": "stdout",
       "text": [
        "\n",
        "querying 590001-591000..."
       ]
      },
      {
       "output_type": "stream",
       "stream": "stdout",
       "text": [
        "done."
       ]
      },
      {
       "output_type": "stream",
       "stream": "stdout",
       "text": [
        "\n",
        "querying 591001-592000..."
       ]
      },
      {
       "output_type": "stream",
       "stream": "stdout",
       "text": [
        "done."
       ]
      },
      {
       "output_type": "stream",
       "stream": "stdout",
       "text": [
        "\n",
        "querying 592001-593000..."
       ]
      },
      {
       "output_type": "stream",
       "stream": "stdout",
       "text": [
        "done."
       ]
      },
      {
       "output_type": "stream",
       "stream": "stdout",
       "text": [
        "\n",
        "querying 593001-594000..."
       ]
      },
      {
       "output_type": "stream",
       "stream": "stdout",
       "text": [
        "done."
       ]
      },
      {
       "output_type": "stream",
       "stream": "stdout",
       "text": [
        "\n",
        "querying 594001-595000..."
       ]
      },
      {
       "output_type": "stream",
       "stream": "stdout",
       "text": [
        "done."
       ]
      },
      {
       "output_type": "stream",
       "stream": "stdout",
       "text": [
        "\n",
        "querying 595001-596000..."
       ]
      },
      {
       "output_type": "stream",
       "stream": "stdout",
       "text": [
        "done."
       ]
      },
      {
       "output_type": "stream",
       "stream": "stdout",
       "text": [
        "\n",
        "querying 596001-597000..."
       ]
      },
      {
       "output_type": "stream",
       "stream": "stdout",
       "text": [
        "done."
       ]
      },
      {
       "output_type": "stream",
       "stream": "stdout",
       "text": [
        "\n",
        "querying 597001-598000..."
       ]
      },
      {
       "output_type": "stream",
       "stream": "stdout",
       "text": [
        "done."
       ]
      },
      {
       "output_type": "stream",
       "stream": "stdout",
       "text": [
        "\n",
        "querying 598001-599000..."
       ]
      },
      {
       "output_type": "stream",
       "stream": "stdout",
       "text": [
        "done."
       ]
      },
      {
       "output_type": "stream",
       "stream": "stdout",
       "text": [
        "\n",
        "querying 599001-600000..."
       ]
      },
      {
       "output_type": "stream",
       "stream": "stdout",
       "text": [
        "done."
       ]
      },
      {
       "output_type": "stream",
       "stream": "stdout",
       "text": [
        "\n",
        "querying 600001-601000..."
       ]
      },
      {
       "output_type": "stream",
       "stream": "stdout",
       "text": [
        "done."
       ]
      },
      {
       "output_type": "stream",
       "stream": "stdout",
       "text": [
        "\n",
        "querying 601001-602000..."
       ]
      },
      {
       "output_type": "stream",
       "stream": "stdout",
       "text": [
        "done."
       ]
      },
      {
       "output_type": "stream",
       "stream": "stdout",
       "text": [
        "\n",
        "querying 602001-603000..."
       ]
      },
      {
       "output_type": "stream",
       "stream": "stdout",
       "text": [
        "done."
       ]
      },
      {
       "output_type": "stream",
       "stream": "stdout",
       "text": [
        "\n",
        "querying 603001-604000..."
       ]
      },
      {
       "output_type": "stream",
       "stream": "stdout",
       "text": [
        "done."
       ]
      },
      {
       "output_type": "stream",
       "stream": "stdout",
       "text": [
        "\n",
        "querying 604001-605000..."
       ]
      },
      {
       "output_type": "stream",
       "stream": "stdout",
       "text": [
        "done."
       ]
      },
      {
       "output_type": "stream",
       "stream": "stdout",
       "text": [
        "\n",
        "querying 605001-606000..."
       ]
      },
      {
       "output_type": "stream",
       "stream": "stdout",
       "text": [
        "done."
       ]
      },
      {
       "output_type": "stream",
       "stream": "stdout",
       "text": [
        "\n",
        "querying 606001-607000..."
       ]
      },
      {
       "output_type": "stream",
       "stream": "stdout",
       "text": [
        "done."
       ]
      },
      {
       "output_type": "stream",
       "stream": "stdout",
       "text": [
        "\n",
        "querying 607001-608000..."
       ]
      },
      {
       "output_type": "stream",
       "stream": "stdout",
       "text": [
        "done."
       ]
      },
      {
       "output_type": "stream",
       "stream": "stdout",
       "text": [
        "\n",
        "querying 608001-609000..."
       ]
      },
      {
       "output_type": "stream",
       "stream": "stdout",
       "text": [
        "done."
       ]
      },
      {
       "output_type": "stream",
       "stream": "stdout",
       "text": [
        "\n",
        "querying 609001-610000..."
       ]
      },
      {
       "output_type": "stream",
       "stream": "stdout",
       "text": [
        "done."
       ]
      },
      {
       "output_type": "stream",
       "stream": "stdout",
       "text": [
        "\n",
        "querying 610001-611000..."
       ]
      },
      {
       "output_type": "stream",
       "stream": "stdout",
       "text": [
        "done."
       ]
      },
      {
       "output_type": "stream",
       "stream": "stdout",
       "text": [
        "\n",
        "querying 611001-612000..."
       ]
      },
      {
       "output_type": "stream",
       "stream": "stdout",
       "text": [
        "done."
       ]
      },
      {
       "output_type": "stream",
       "stream": "stdout",
       "text": [
        "\n",
        "querying 612001-613000..."
       ]
      },
      {
       "output_type": "stream",
       "stream": "stdout",
       "text": [
        "done."
       ]
      },
      {
       "output_type": "stream",
       "stream": "stdout",
       "text": [
        "\n",
        "querying 613001-614000..."
       ]
      },
      {
       "output_type": "stream",
       "stream": "stdout",
       "text": [
        "done."
       ]
      },
      {
       "output_type": "stream",
       "stream": "stdout",
       "text": [
        "\n",
        "querying 614001-615000..."
       ]
      },
      {
       "output_type": "stream",
       "stream": "stdout",
       "text": [
        "done."
       ]
      },
      {
       "output_type": "stream",
       "stream": "stdout",
       "text": [
        "\n",
        "querying 615001-616000..."
       ]
      },
      {
       "output_type": "stream",
       "stream": "stdout",
       "text": [
        "done."
       ]
      },
      {
       "output_type": "stream",
       "stream": "stdout",
       "text": [
        "\n",
        "querying 616001-617000..."
       ]
      },
      {
       "output_type": "stream",
       "stream": "stdout",
       "text": [
        "done."
       ]
      },
      {
       "output_type": "stream",
       "stream": "stdout",
       "text": [
        "\n",
        "querying 617001-618000..."
       ]
      },
      {
       "output_type": "stream",
       "stream": "stdout",
       "text": [
        "done."
       ]
      },
      {
       "output_type": "stream",
       "stream": "stdout",
       "text": [
        "\n",
        "querying 618001-619000..."
       ]
      },
      {
       "output_type": "stream",
       "stream": "stdout",
       "text": [
        "done."
       ]
      },
      {
       "output_type": "stream",
       "stream": "stdout",
       "text": [
        "\n",
        "querying 619001-620000..."
       ]
      },
      {
       "output_type": "stream",
       "stream": "stdout",
       "text": [
        "done."
       ]
      },
      {
       "output_type": "stream",
       "stream": "stdout",
       "text": [
        "\n",
        "querying 620001-621000..."
       ]
      },
      {
       "output_type": "stream",
       "stream": "stdout",
       "text": [
        "done."
       ]
      },
      {
       "output_type": "stream",
       "stream": "stdout",
       "text": [
        "\n",
        "querying 621001-622000..."
       ]
      },
      {
       "output_type": "stream",
       "stream": "stdout",
       "text": [
        "done."
       ]
      },
      {
       "output_type": "stream",
       "stream": "stdout",
       "text": [
        "\n",
        "querying 622001-623000..."
       ]
      },
      {
       "output_type": "stream",
       "stream": "stdout",
       "text": [
        "done."
       ]
      },
      {
       "output_type": "stream",
       "stream": "stdout",
       "text": [
        "\n",
        "querying 623001-624000..."
       ]
      },
      {
       "output_type": "stream",
       "stream": "stdout",
       "text": [
        "done."
       ]
      },
      {
       "output_type": "stream",
       "stream": "stdout",
       "text": [
        "\n",
        "querying 624001-625000..."
       ]
      },
      {
       "output_type": "stream",
       "stream": "stdout",
       "text": [
        "done."
       ]
      },
      {
       "output_type": "stream",
       "stream": "stdout",
       "text": [
        "\n",
        "querying 625001-626000..."
       ]
      },
      {
       "output_type": "stream",
       "stream": "stdout",
       "text": [
        "done."
       ]
      },
      {
       "output_type": "stream",
       "stream": "stdout",
       "text": [
        "\n",
        "querying 626001-627000..."
       ]
      },
      {
       "output_type": "stream",
       "stream": "stdout",
       "text": [
        "done."
       ]
      },
      {
       "output_type": "stream",
       "stream": "stdout",
       "text": [
        "\n",
        "querying 627001-628000..."
       ]
      },
      {
       "output_type": "stream",
       "stream": "stdout",
       "text": [
        "done."
       ]
      },
      {
       "output_type": "stream",
       "stream": "stdout",
       "text": [
        "\n",
        "querying 628001-629000..."
       ]
      },
      {
       "output_type": "stream",
       "stream": "stdout",
       "text": [
        "done."
       ]
      },
      {
       "output_type": "stream",
       "stream": "stdout",
       "text": [
        "\n",
        "querying 629001-630000..."
       ]
      },
      {
       "output_type": "stream",
       "stream": "stdout",
       "text": [
        "done."
       ]
      },
      {
       "output_type": "stream",
       "stream": "stdout",
       "text": [
        "\n",
        "querying 630001-631000..."
       ]
      },
      {
       "output_type": "stream",
       "stream": "stdout",
       "text": [
        "done."
       ]
      },
      {
       "output_type": "stream",
       "stream": "stdout",
       "text": [
        "\n",
        "querying 631001-632000..."
       ]
      },
      {
       "output_type": "stream",
       "stream": "stdout",
       "text": [
        "done."
       ]
      },
      {
       "output_type": "stream",
       "stream": "stdout",
       "text": [
        "\n",
        "querying 632001-633000..."
       ]
      },
      {
       "output_type": "stream",
       "stream": "stdout",
       "text": [
        "done."
       ]
      },
      {
       "output_type": "stream",
       "stream": "stdout",
       "text": [
        "\n",
        "querying 633001-634000..."
       ]
      },
      {
       "output_type": "stream",
       "stream": "stdout",
       "text": [
        "done."
       ]
      },
      {
       "output_type": "stream",
       "stream": "stdout",
       "text": [
        "\n",
        "querying 634001-635000..."
       ]
      },
      {
       "output_type": "stream",
       "stream": "stdout",
       "text": [
        "done."
       ]
      },
      {
       "output_type": "stream",
       "stream": "stdout",
       "text": [
        "\n",
        "querying 635001-636000..."
       ]
      },
      {
       "output_type": "stream",
       "stream": "stdout",
       "text": [
        "done."
       ]
      },
      {
       "output_type": "stream",
       "stream": "stdout",
       "text": [
        "\n",
        "querying 636001-637000..."
       ]
      },
      {
       "output_type": "stream",
       "stream": "stdout",
       "text": [
        "done."
       ]
      },
      {
       "output_type": "stream",
       "stream": "stdout",
       "text": [
        "\n",
        "querying 637001-638000..."
       ]
      },
      {
       "output_type": "stream",
       "stream": "stdout",
       "text": [
        "done."
       ]
      },
      {
       "output_type": "stream",
       "stream": "stdout",
       "text": [
        "\n",
        "querying 638001-639000..."
       ]
      },
      {
       "output_type": "stream",
       "stream": "stdout",
       "text": [
        "done."
       ]
      },
      {
       "output_type": "stream",
       "stream": "stdout",
       "text": [
        "\n",
        "querying 639001-640000..."
       ]
      },
      {
       "output_type": "stream",
       "stream": "stdout",
       "text": [
        "done."
       ]
      },
      {
       "output_type": "stream",
       "stream": "stdout",
       "text": [
        "\n",
        "querying 640001-641000..."
       ]
      },
      {
       "output_type": "stream",
       "stream": "stdout",
       "text": [
        "done."
       ]
      },
      {
       "output_type": "stream",
       "stream": "stdout",
       "text": [
        "\n",
        "querying 641001-642000..."
       ]
      },
      {
       "output_type": "stream",
       "stream": "stdout",
       "text": [
        "done."
       ]
      },
      {
       "output_type": "stream",
       "stream": "stdout",
       "text": [
        "\n",
        "querying 642001-643000..."
       ]
      },
      {
       "output_type": "stream",
       "stream": "stdout",
       "text": [
        "done."
       ]
      },
      {
       "output_type": "stream",
       "stream": "stdout",
       "text": [
        "\n",
        "querying 643001-644000..."
       ]
      },
      {
       "output_type": "stream",
       "stream": "stdout",
       "text": [
        "done."
       ]
      },
      {
       "output_type": "stream",
       "stream": "stdout",
       "text": [
        "\n",
        "querying 644001-645000..."
       ]
      },
      {
       "output_type": "stream",
       "stream": "stdout",
       "text": [
        "done."
       ]
      },
      {
       "output_type": "stream",
       "stream": "stdout",
       "text": [
        "\n",
        "querying 645001-646000..."
       ]
      },
      {
       "output_type": "stream",
       "stream": "stdout",
       "text": [
        "done."
       ]
      },
      {
       "output_type": "stream",
       "stream": "stdout",
       "text": [
        "\n",
        "querying 646001-647000..."
       ]
      },
      {
       "output_type": "stream",
       "stream": "stdout",
       "text": [
        "done."
       ]
      },
      {
       "output_type": "stream",
       "stream": "stdout",
       "text": [
        "\n",
        "querying 647001-648000..."
       ]
      },
      {
       "output_type": "stream",
       "stream": "stdout",
       "text": [
        "done."
       ]
      },
      {
       "output_type": "stream",
       "stream": "stdout",
       "text": [
        "\n",
        "querying 648001-649000..."
       ]
      },
      {
       "output_type": "stream",
       "stream": "stdout",
       "text": [
        "done."
       ]
      },
      {
       "output_type": "stream",
       "stream": "stdout",
       "text": [
        "\n",
        "querying 649001-650000..."
       ]
      },
      {
       "output_type": "stream",
       "stream": "stdout",
       "text": [
        "done."
       ]
      },
      {
       "output_type": "stream",
       "stream": "stdout",
       "text": [
        "\n",
        "querying 650001-651000..."
       ]
      },
      {
       "output_type": "stream",
       "stream": "stdout",
       "text": [
        "done."
       ]
      },
      {
       "output_type": "stream",
       "stream": "stdout",
       "text": [
        "\n",
        "querying 651001-652000..."
       ]
      },
      {
       "output_type": "stream",
       "stream": "stdout",
       "text": [
        "done."
       ]
      },
      {
       "output_type": "stream",
       "stream": "stdout",
       "text": [
        "\n",
        "querying 652001-653000..."
       ]
      },
      {
       "output_type": "stream",
       "stream": "stdout",
       "text": [
        "done."
       ]
      },
      {
       "output_type": "stream",
       "stream": "stdout",
       "text": [
        "\n",
        "querying 653001-654000..."
       ]
      },
      {
       "output_type": "stream",
       "stream": "stdout",
       "text": [
        "done."
       ]
      },
      {
       "output_type": "stream",
       "stream": "stdout",
       "text": [
        "\n",
        "querying 654001-655000..."
       ]
      },
      {
       "output_type": "stream",
       "stream": "stdout",
       "text": [
        "done."
       ]
      },
      {
       "output_type": "stream",
       "stream": "stdout",
       "text": [
        "\n",
        "querying 655001-656000..."
       ]
      },
      {
       "output_type": "stream",
       "stream": "stdout",
       "text": [
        "done."
       ]
      },
      {
       "output_type": "stream",
       "stream": "stdout",
       "text": [
        "\n",
        "querying 656001-657000..."
       ]
      },
      {
       "output_type": "stream",
       "stream": "stdout",
       "text": [
        "done."
       ]
      },
      {
       "output_type": "stream",
       "stream": "stdout",
       "text": [
        "\n",
        "querying 657001-658000..."
       ]
      },
      {
       "output_type": "stream",
       "stream": "stdout",
       "text": [
        "done."
       ]
      },
      {
       "output_type": "stream",
       "stream": "stdout",
       "text": [
        "\n",
        "querying 658001-659000..."
       ]
      },
      {
       "output_type": "stream",
       "stream": "stdout",
       "text": [
        "done."
       ]
      },
      {
       "output_type": "stream",
       "stream": "stdout",
       "text": [
        "\n",
        "querying 659001-660000..."
       ]
      },
      {
       "output_type": "stream",
       "stream": "stdout",
       "text": [
        "done."
       ]
      },
      {
       "output_type": "stream",
       "stream": "stdout",
       "text": [
        "\n",
        "querying 660001-661000..."
       ]
      },
      {
       "output_type": "stream",
       "stream": "stdout",
       "text": [
        "done."
       ]
      },
      {
       "output_type": "stream",
       "stream": "stdout",
       "text": [
        "\n",
        "querying 661001-662000..."
       ]
      },
      {
       "output_type": "stream",
       "stream": "stdout",
       "text": [
        "done."
       ]
      },
      {
       "output_type": "stream",
       "stream": "stdout",
       "text": [
        "\n",
        "querying 662001-663000..."
       ]
      },
      {
       "output_type": "stream",
       "stream": "stdout",
       "text": [
        "done."
       ]
      },
      {
       "output_type": "stream",
       "stream": "stdout",
       "text": [
        "\n",
        "querying 663001-664000..."
       ]
      },
      {
       "output_type": "stream",
       "stream": "stdout",
       "text": [
        "done."
       ]
      },
      {
       "output_type": "stream",
       "stream": "stdout",
       "text": [
        "\n",
        "querying 664001-665000..."
       ]
      },
      {
       "output_type": "stream",
       "stream": "stdout",
       "text": [
        "done."
       ]
      },
      {
       "output_type": "stream",
       "stream": "stdout",
       "text": [
        "\n",
        "querying 665001-666000..."
       ]
      },
      {
       "output_type": "stream",
       "stream": "stdout",
       "text": [
        "done."
       ]
      },
      {
       "output_type": "stream",
       "stream": "stdout",
       "text": [
        "\n",
        "querying 666001-667000..."
       ]
      },
      {
       "output_type": "stream",
       "stream": "stdout",
       "text": [
        "done."
       ]
      },
      {
       "output_type": "stream",
       "stream": "stdout",
       "text": [
        "\n",
        "querying 667001-668000..."
       ]
      },
      {
       "output_type": "stream",
       "stream": "stdout",
       "text": [
        "done."
       ]
      },
      {
       "output_type": "stream",
       "stream": "stdout",
       "text": [
        "\n",
        "querying 668001-669000..."
       ]
      },
      {
       "output_type": "stream",
       "stream": "stdout",
       "text": [
        "done."
       ]
      },
      {
       "output_type": "stream",
       "stream": "stdout",
       "text": [
        "\n",
        "querying 669001-670000..."
       ]
      },
      {
       "output_type": "stream",
       "stream": "stdout",
       "text": [
        "done."
       ]
      },
      {
       "output_type": "stream",
       "stream": "stdout",
       "text": [
        "\n",
        "querying 670001-671000..."
       ]
      },
      {
       "output_type": "stream",
       "stream": "stdout",
       "text": [
        "done."
       ]
      },
      {
       "output_type": "stream",
       "stream": "stdout",
       "text": [
        "\n",
        "querying 671001-672000..."
       ]
      },
      {
       "output_type": "stream",
       "stream": "stdout",
       "text": [
        "done."
       ]
      },
      {
       "output_type": "stream",
       "stream": "stdout",
       "text": [
        "\n",
        "querying 672001-673000..."
       ]
      },
      {
       "output_type": "stream",
       "stream": "stdout",
       "text": [
        "done."
       ]
      },
      {
       "output_type": "stream",
       "stream": "stdout",
       "text": [
        "\n",
        "querying 673001-674000..."
       ]
      },
      {
       "output_type": "stream",
       "stream": "stdout",
       "text": [
        "done."
       ]
      },
      {
       "output_type": "stream",
       "stream": "stdout",
       "text": [
        "\n",
        "querying 674001-675000..."
       ]
      },
      {
       "output_type": "stream",
       "stream": "stdout",
       "text": [
        "done."
       ]
      },
      {
       "output_type": "stream",
       "stream": "stdout",
       "text": [
        "\n",
        "querying 675001-676000..."
       ]
      },
      {
       "output_type": "stream",
       "stream": "stdout",
       "text": [
        "done."
       ]
      },
      {
       "output_type": "stream",
       "stream": "stdout",
       "text": [
        "\n",
        "querying 676001-677000..."
       ]
      },
      {
       "output_type": "stream",
       "stream": "stdout",
       "text": [
        "done."
       ]
      },
      {
       "output_type": "stream",
       "stream": "stdout",
       "text": [
        "\n",
        "querying 677001-678000..."
       ]
      },
      {
       "output_type": "stream",
       "stream": "stdout",
       "text": [
        "done."
       ]
      },
      {
       "output_type": "stream",
       "stream": "stdout",
       "text": [
        "\n",
        "querying 678001-679000..."
       ]
      },
      {
       "output_type": "stream",
       "stream": "stdout",
       "text": [
        "done."
       ]
      },
      {
       "output_type": "stream",
       "stream": "stdout",
       "text": [
        "\n",
        "querying 679001-680000..."
       ]
      },
      {
       "output_type": "stream",
       "stream": "stdout",
       "text": [
        "done."
       ]
      },
      {
       "output_type": "stream",
       "stream": "stdout",
       "text": [
        "\n",
        "querying 680001-681000..."
       ]
      },
      {
       "output_type": "stream",
       "stream": "stdout",
       "text": [
        "done."
       ]
      },
      {
       "output_type": "stream",
       "stream": "stdout",
       "text": [
        "\n",
        "querying 681001-682000..."
       ]
      },
      {
       "output_type": "stream",
       "stream": "stdout",
       "text": [
        "done."
       ]
      },
      {
       "output_type": "stream",
       "stream": "stdout",
       "text": [
        "\n",
        "querying 682001-683000..."
       ]
      },
      {
       "output_type": "stream",
       "stream": "stdout",
       "text": [
        "done."
       ]
      },
      {
       "output_type": "stream",
       "stream": "stdout",
       "text": [
        "\n",
        "querying 683001-684000..."
       ]
      },
      {
       "output_type": "stream",
       "stream": "stdout",
       "text": [
        "done."
       ]
      },
      {
       "output_type": "stream",
       "stream": "stdout",
       "text": [
        "\n",
        "querying 684001-685000..."
       ]
      },
      {
       "output_type": "stream",
       "stream": "stdout",
       "text": [
        "done."
       ]
      },
      {
       "output_type": "stream",
       "stream": "stdout",
       "text": [
        "\n",
        "querying 685001-686000..."
       ]
      },
      {
       "output_type": "stream",
       "stream": "stdout",
       "text": [
        "done."
       ]
      },
      {
       "output_type": "stream",
       "stream": "stdout",
       "text": [
        "\n",
        "querying 686001-687000..."
       ]
      },
      {
       "output_type": "stream",
       "stream": "stdout",
       "text": [
        "done."
       ]
      },
      {
       "output_type": "stream",
       "stream": "stdout",
       "text": [
        "\n",
        "querying 687001-688000..."
       ]
      },
      {
       "output_type": "stream",
       "stream": "stdout",
       "text": [
        "done."
       ]
      },
      {
       "output_type": "stream",
       "stream": "stdout",
       "text": [
        "\n",
        "querying 688001-689000..."
       ]
      },
      {
       "output_type": "stream",
       "stream": "stdout",
       "text": [
        "done."
       ]
      },
      {
       "output_type": "stream",
       "stream": "stdout",
       "text": [
        "\n",
        "querying 689001-690000..."
       ]
      },
      {
       "output_type": "stream",
       "stream": "stdout",
       "text": [
        "done."
       ]
      },
      {
       "output_type": "stream",
       "stream": "stdout",
       "text": [
        "\n",
        "querying 690001-691000..."
       ]
      },
      {
       "output_type": "stream",
       "stream": "stdout",
       "text": [
        "done."
       ]
      },
      {
       "output_type": "stream",
       "stream": "stdout",
       "text": [
        "\n",
        "querying 691001-692000..."
       ]
      },
      {
       "output_type": "stream",
       "stream": "stdout",
       "text": [
        "done."
       ]
      },
      {
       "output_type": "stream",
       "stream": "stdout",
       "text": [
        "\n",
        "querying 692001-693000..."
       ]
      },
      {
       "output_type": "stream",
       "stream": "stdout",
       "text": [
        "done."
       ]
      },
      {
       "output_type": "stream",
       "stream": "stdout",
       "text": [
        "\n",
        "querying 693001-694000..."
       ]
      },
      {
       "output_type": "stream",
       "stream": "stdout",
       "text": [
        "done."
       ]
      },
      {
       "output_type": "stream",
       "stream": "stdout",
       "text": [
        "\n",
        "querying 694001-695000..."
       ]
      },
      {
       "output_type": "stream",
       "stream": "stdout",
       "text": [
        "done."
       ]
      },
      {
       "output_type": "stream",
       "stream": "stdout",
       "text": [
        "\n",
        "querying 695001-696000..."
       ]
      },
      {
       "output_type": "stream",
       "stream": "stdout",
       "text": [
        "done."
       ]
      },
      {
       "output_type": "stream",
       "stream": "stdout",
       "text": [
        "\n",
        "querying 696001-697000..."
       ]
      },
      {
       "output_type": "stream",
       "stream": "stdout",
       "text": [
        "done."
       ]
      },
      {
       "output_type": "stream",
       "stream": "stdout",
       "text": [
        "\n",
        "querying 697001-698000..."
       ]
      },
      {
       "output_type": "stream",
       "stream": "stdout",
       "text": [
        "done."
       ]
      },
      {
       "output_type": "stream",
       "stream": "stdout",
       "text": [
        "\n",
        "querying 698001-699000..."
       ]
      },
      {
       "output_type": "stream",
       "stream": "stdout",
       "text": [
        "done."
       ]
      },
      {
       "output_type": "stream",
       "stream": "stdout",
       "text": [
        "\n",
        "querying 699001-700000..."
       ]
      },
      {
       "output_type": "stream",
       "stream": "stdout",
       "text": [
        "done."
       ]
      },
      {
       "output_type": "stream",
       "stream": "stdout",
       "text": [
        "\n",
        "querying 700001-701000..."
       ]
      },
      {
       "output_type": "stream",
       "stream": "stdout",
       "text": [
        "done."
       ]
      },
      {
       "output_type": "stream",
       "stream": "stdout",
       "text": [
        "\n",
        "querying 701001-702000..."
       ]
      },
      {
       "output_type": "stream",
       "stream": "stdout",
       "text": [
        "done."
       ]
      },
      {
       "output_type": "stream",
       "stream": "stdout",
       "text": [
        "\n",
        "querying 702001-703000..."
       ]
      },
      {
       "output_type": "stream",
       "stream": "stdout",
       "text": [
        "done."
       ]
      },
      {
       "output_type": "stream",
       "stream": "stdout",
       "text": [
        "\n",
        "querying 703001-704000..."
       ]
      },
      {
       "output_type": "stream",
       "stream": "stdout",
       "text": [
        "done."
       ]
      },
      {
       "output_type": "stream",
       "stream": "stdout",
       "text": [
        "\n",
        "querying 704001-705000..."
       ]
      },
      {
       "output_type": "stream",
       "stream": "stdout",
       "text": [
        "done."
       ]
      },
      {
       "output_type": "stream",
       "stream": "stdout",
       "text": [
        "\n",
        "querying 705001-706000..."
       ]
      },
      {
       "output_type": "stream",
       "stream": "stdout",
       "text": [
        "done."
       ]
      },
      {
       "output_type": "stream",
       "stream": "stdout",
       "text": [
        "\n",
        "querying 706001-707000..."
       ]
      },
      {
       "output_type": "stream",
       "stream": "stdout",
       "text": [
        "done."
       ]
      },
      {
       "output_type": "stream",
       "stream": "stdout",
       "text": [
        "\n",
        "querying 707001-708000..."
       ]
      },
      {
       "output_type": "stream",
       "stream": "stdout",
       "text": [
        "done."
       ]
      },
      {
       "output_type": "stream",
       "stream": "stdout",
       "text": [
        "\n",
        "querying 708001-709000..."
       ]
      },
      {
       "output_type": "stream",
       "stream": "stdout",
       "text": [
        "done."
       ]
      },
      {
       "output_type": "stream",
       "stream": "stdout",
       "text": [
        "\n",
        "querying 709001-710000..."
       ]
      },
      {
       "output_type": "stream",
       "stream": "stdout",
       "text": [
        "done."
       ]
      },
      {
       "output_type": "stream",
       "stream": "stdout",
       "text": [
        "\n",
        "querying 710001-711000..."
       ]
      },
      {
       "output_type": "stream",
       "stream": "stdout",
       "text": [
        "done."
       ]
      },
      {
       "output_type": "stream",
       "stream": "stdout",
       "text": [
        "\n",
        "querying 711001-712000..."
       ]
      },
      {
       "output_type": "stream",
       "stream": "stdout",
       "text": [
        "done."
       ]
      },
      {
       "output_type": "stream",
       "stream": "stdout",
       "text": [
        "\n",
        "querying 712001-713000..."
       ]
      },
      {
       "output_type": "stream",
       "stream": "stdout",
       "text": [
        "done."
       ]
      },
      {
       "output_type": "stream",
       "stream": "stdout",
       "text": [
        "\n",
        "querying 713001-714000..."
       ]
      },
      {
       "output_type": "stream",
       "stream": "stdout",
       "text": [
        "done."
       ]
      },
      {
       "output_type": "stream",
       "stream": "stdout",
       "text": [
        "\n",
        "querying 714001-715000..."
       ]
      },
      {
       "output_type": "stream",
       "stream": "stdout",
       "text": [
        "done."
       ]
      },
      {
       "output_type": "stream",
       "stream": "stdout",
       "text": [
        "\n",
        "querying 715001-716000..."
       ]
      },
      {
       "output_type": "stream",
       "stream": "stdout",
       "text": [
        "done."
       ]
      },
      {
       "output_type": "stream",
       "stream": "stdout",
       "text": [
        "\n",
        "querying 716001-717000..."
       ]
      },
      {
       "output_type": "stream",
       "stream": "stdout",
       "text": [
        "done."
       ]
      },
      {
       "output_type": "stream",
       "stream": "stdout",
       "text": [
        "\n",
        "querying 717001-718000..."
       ]
      },
      {
       "output_type": "stream",
       "stream": "stdout",
       "text": [
        "done."
       ]
      },
      {
       "output_type": "stream",
       "stream": "stdout",
       "text": [
        "\n",
        "querying 718001-719000..."
       ]
      },
      {
       "output_type": "stream",
       "stream": "stdout",
       "text": [
        "done."
       ]
      },
      {
       "output_type": "stream",
       "stream": "stdout",
       "text": [
        "\n",
        "querying 719001-720000..."
       ]
      },
      {
       "output_type": "stream",
       "stream": "stdout",
       "text": [
        "done."
       ]
      },
      {
       "output_type": "stream",
       "stream": "stdout",
       "text": [
        "\n",
        "querying 720001-721000..."
       ]
      },
      {
       "output_type": "stream",
       "stream": "stdout",
       "text": [
        "done."
       ]
      },
      {
       "output_type": "stream",
       "stream": "stdout",
       "text": [
        "\n",
        "querying 721001-722000..."
       ]
      },
      {
       "output_type": "stream",
       "stream": "stdout",
       "text": [
        "done."
       ]
      },
      {
       "output_type": "stream",
       "stream": "stdout",
       "text": [
        "\n",
        "querying 722001-723000..."
       ]
      },
      {
       "output_type": "stream",
       "stream": "stdout",
       "text": [
        "done."
       ]
      },
      {
       "output_type": "stream",
       "stream": "stdout",
       "text": [
        "\n",
        "querying 723001-724000..."
       ]
      },
      {
       "output_type": "stream",
       "stream": "stdout",
       "text": [
        "done."
       ]
      },
      {
       "output_type": "stream",
       "stream": "stdout",
       "text": [
        "\n",
        "querying 724001-725000..."
       ]
      },
      {
       "output_type": "stream",
       "stream": "stdout",
       "text": [
        "done."
       ]
      },
      {
       "output_type": "stream",
       "stream": "stdout",
       "text": [
        "\n",
        "querying 725001-726000..."
       ]
      },
      {
       "output_type": "stream",
       "stream": "stdout",
       "text": [
        "done."
       ]
      },
      {
       "output_type": "stream",
       "stream": "stdout",
       "text": [
        "\n",
        "querying 726001-727000..."
       ]
      },
      {
       "output_type": "stream",
       "stream": "stdout",
       "text": [
        "done."
       ]
      },
      {
       "output_type": "stream",
       "stream": "stdout",
       "text": [
        "\n",
        "querying 727001-728000..."
       ]
      },
      {
       "output_type": "stream",
       "stream": "stdout",
       "text": [
        "done."
       ]
      },
      {
       "output_type": "stream",
       "stream": "stdout",
       "text": [
        "\n",
        "querying 728001-729000..."
       ]
      },
      {
       "output_type": "stream",
       "stream": "stdout",
       "text": [
        "done."
       ]
      },
      {
       "output_type": "stream",
       "stream": "stdout",
       "text": [
        "\n",
        "querying 729001-730000..."
       ]
      },
      {
       "output_type": "stream",
       "stream": "stdout",
       "text": [
        "done."
       ]
      },
      {
       "output_type": "stream",
       "stream": "stdout",
       "text": [
        "\n",
        "querying 730001-731000..."
       ]
      },
      {
       "output_type": "stream",
       "stream": "stdout",
       "text": [
        "done."
       ]
      },
      {
       "output_type": "stream",
       "stream": "stdout",
       "text": [
        "\n",
        "querying 731001-732000..."
       ]
      },
      {
       "output_type": "stream",
       "stream": "stdout",
       "text": [
        "done."
       ]
      },
      {
       "output_type": "stream",
       "stream": "stdout",
       "text": [
        "\n",
        "querying 732001-733000..."
       ]
      },
      {
       "output_type": "stream",
       "stream": "stdout",
       "text": [
        "done."
       ]
      },
      {
       "output_type": "stream",
       "stream": "stdout",
       "text": [
        "\n",
        "querying 733001-734000..."
       ]
      },
      {
       "output_type": "stream",
       "stream": "stdout",
       "text": [
        "done."
       ]
      },
      {
       "output_type": "stream",
       "stream": "stdout",
       "text": [
        "\n",
        "querying 734001-735000..."
       ]
      },
      {
       "output_type": "stream",
       "stream": "stdout",
       "text": [
        "done."
       ]
      },
      {
       "output_type": "stream",
       "stream": "stdout",
       "text": [
        "\n",
        "querying 735001-736000..."
       ]
      },
      {
       "output_type": "stream",
       "stream": "stdout",
       "text": [
        "done."
       ]
      },
      {
       "output_type": "stream",
       "stream": "stdout",
       "text": [
        "\n",
        "querying 736001-737000..."
       ]
      },
      {
       "output_type": "stream",
       "stream": "stdout",
       "text": [
        "done."
       ]
      },
      {
       "output_type": "stream",
       "stream": "stdout",
       "text": [
        "\n",
        "querying 737001-738000..."
       ]
      },
      {
       "output_type": "stream",
       "stream": "stdout",
       "text": [
        "done."
       ]
      },
      {
       "output_type": "stream",
       "stream": "stdout",
       "text": [
        "\n",
        "querying 738001-739000..."
       ]
      },
      {
       "output_type": "stream",
       "stream": "stdout",
       "text": [
        "done."
       ]
      },
      {
       "output_type": "stream",
       "stream": "stdout",
       "text": [
        "\n",
        "querying 739001-740000..."
       ]
      },
      {
       "output_type": "stream",
       "stream": "stdout",
       "text": [
        "done."
       ]
      },
      {
       "output_type": "stream",
       "stream": "stdout",
       "text": [
        "\n",
        "querying 740001-741000..."
       ]
      },
      {
       "output_type": "stream",
       "stream": "stdout",
       "text": [
        "done."
       ]
      },
      {
       "output_type": "stream",
       "stream": "stdout",
       "text": [
        "\n",
        "querying 741001-742000..."
       ]
      },
      {
       "output_type": "stream",
       "stream": "stdout",
       "text": [
        "done."
       ]
      },
      {
       "output_type": "stream",
       "stream": "stdout",
       "text": [
        "\n",
        "querying 742001-743000..."
       ]
      },
      {
       "output_type": "stream",
       "stream": "stdout",
       "text": [
        "done."
       ]
      },
      {
       "output_type": "stream",
       "stream": "stdout",
       "text": [
        "\n",
        "querying 743001-744000..."
       ]
      },
      {
       "output_type": "stream",
       "stream": "stdout",
       "text": [
        "done."
       ]
      },
      {
       "output_type": "stream",
       "stream": "stdout",
       "text": [
        "\n",
        "querying 744001-745000..."
       ]
      },
      {
       "output_type": "stream",
       "stream": "stdout",
       "text": [
        "done."
       ]
      },
      {
       "output_type": "stream",
       "stream": "stdout",
       "text": [
        "\n",
        "querying 745001-746000..."
       ]
      },
      {
       "output_type": "stream",
       "stream": "stdout",
       "text": [
        "done."
       ]
      },
      {
       "output_type": "stream",
       "stream": "stdout",
       "text": [
        "\n",
        "querying 746001-747000..."
       ]
      },
      {
       "output_type": "stream",
       "stream": "stdout",
       "text": [
        "done."
       ]
      },
      {
       "output_type": "stream",
       "stream": "stdout",
       "text": [
        "\n",
        "querying 747001-748000..."
       ]
      },
      {
       "output_type": "stream",
       "stream": "stdout",
       "text": [
        "done."
       ]
      },
      {
       "output_type": "stream",
       "stream": "stdout",
       "text": [
        "\n",
        "querying 748001-749000..."
       ]
      },
      {
       "output_type": "stream",
       "stream": "stdout",
       "text": [
        "done."
       ]
      },
      {
       "output_type": "stream",
       "stream": "stdout",
       "text": [
        "\n",
        "querying 749001-750000..."
       ]
      },
      {
       "output_type": "stream",
       "stream": "stdout",
       "text": [
        "done."
       ]
      },
      {
       "output_type": "stream",
       "stream": "stdout",
       "text": [
        "\n",
        "querying 750001-751000..."
       ]
      },
      {
       "output_type": "stream",
       "stream": "stdout",
       "text": [
        "done."
       ]
      },
      {
       "output_type": "stream",
       "stream": "stdout",
       "text": [
        "\n",
        "querying 751001-752000..."
       ]
      },
      {
       "output_type": "stream",
       "stream": "stdout",
       "text": [
        "done."
       ]
      },
      {
       "output_type": "stream",
       "stream": "stdout",
       "text": [
        "\n",
        "querying 752001-753000..."
       ]
      },
      {
       "output_type": "stream",
       "stream": "stdout",
       "text": [
        "done."
       ]
      },
      {
       "output_type": "stream",
       "stream": "stdout",
       "text": [
        "\n",
        "querying 753001-754000..."
       ]
      },
      {
       "output_type": "stream",
       "stream": "stdout",
       "text": [
        "done."
       ]
      },
      {
       "output_type": "stream",
       "stream": "stdout",
       "text": [
        "\n",
        "querying 754001-755000..."
       ]
      },
      {
       "output_type": "stream",
       "stream": "stdout",
       "text": [
        "done."
       ]
      },
      {
       "output_type": "stream",
       "stream": "stdout",
       "text": [
        "\n",
        "querying 755001-756000..."
       ]
      },
      {
       "output_type": "stream",
       "stream": "stdout",
       "text": [
        "done."
       ]
      },
      {
       "output_type": "stream",
       "stream": "stdout",
       "text": [
        "\n",
        "querying 756001-757000..."
       ]
      },
      {
       "output_type": "stream",
       "stream": "stdout",
       "text": [
        "done."
       ]
      },
      {
       "output_type": "stream",
       "stream": "stdout",
       "text": [
        "\n",
        "querying 757001-758000..."
       ]
      },
      {
       "output_type": "stream",
       "stream": "stdout",
       "text": [
        "done."
       ]
      },
      {
       "output_type": "stream",
       "stream": "stdout",
       "text": [
        "\n",
        "querying 758001-759000..."
       ]
      },
      {
       "output_type": "stream",
       "stream": "stdout",
       "text": [
        "done."
       ]
      },
      {
       "output_type": "stream",
       "stream": "stdout",
       "text": [
        "\n",
        "querying 759001-760000..."
       ]
      },
      {
       "output_type": "stream",
       "stream": "stdout",
       "text": [
        "done."
       ]
      },
      {
       "output_type": "stream",
       "stream": "stdout",
       "text": [
        "\n",
        "querying 760001-761000..."
       ]
      },
      {
       "output_type": "stream",
       "stream": "stdout",
       "text": [
        "done."
       ]
      },
      {
       "output_type": "stream",
       "stream": "stdout",
       "text": [
        "\n",
        "querying 761001-762000..."
       ]
      },
      {
       "output_type": "stream",
       "stream": "stdout",
       "text": [
        "done."
       ]
      },
      {
       "output_type": "stream",
       "stream": "stdout",
       "text": [
        "\n",
        "querying 762001-763000..."
       ]
      },
      {
       "output_type": "stream",
       "stream": "stdout",
       "text": [
        "done."
       ]
      },
      {
       "output_type": "stream",
       "stream": "stdout",
       "text": [
        "\n",
        "querying 763001-764000..."
       ]
      },
      {
       "output_type": "stream",
       "stream": "stdout",
       "text": [
        "done."
       ]
      },
      {
       "output_type": "stream",
       "stream": "stdout",
       "text": [
        "\n",
        "querying 764001-765000..."
       ]
      },
      {
       "output_type": "stream",
       "stream": "stdout",
       "text": [
        "done."
       ]
      },
      {
       "output_type": "stream",
       "stream": "stdout",
       "text": [
        "\n",
        "querying 765001-766000..."
       ]
      },
      {
       "output_type": "stream",
       "stream": "stdout",
       "text": [
        "done."
       ]
      },
      {
       "output_type": "stream",
       "stream": "stdout",
       "text": [
        "\n",
        "querying 766001-767000..."
       ]
      },
      {
       "output_type": "stream",
       "stream": "stdout",
       "text": [
        "done."
       ]
      },
      {
       "output_type": "stream",
       "stream": "stdout",
       "text": [
        "\n",
        "querying 767001-768000..."
       ]
      },
      {
       "output_type": "stream",
       "stream": "stdout",
       "text": [
        "done."
       ]
      },
      {
       "output_type": "stream",
       "stream": "stdout",
       "text": [
        "\n",
        "querying 768001-769000..."
       ]
      },
      {
       "output_type": "stream",
       "stream": "stdout",
       "text": [
        "done."
       ]
      },
      {
       "output_type": "stream",
       "stream": "stdout",
       "text": [
        "\n",
        "querying 769001-770000..."
       ]
      },
      {
       "output_type": "stream",
       "stream": "stdout",
       "text": [
        "done."
       ]
      },
      {
       "output_type": "stream",
       "stream": "stdout",
       "text": [
        "\n",
        "querying 770001-771000..."
       ]
      },
      {
       "output_type": "stream",
       "stream": "stdout",
       "text": [
        "done."
       ]
      },
      {
       "output_type": "stream",
       "stream": "stdout",
       "text": [
        "\n",
        "querying 771001-772000..."
       ]
      },
      {
       "output_type": "stream",
       "stream": "stdout",
       "text": [
        "done."
       ]
      },
      {
       "output_type": "stream",
       "stream": "stdout",
       "text": [
        "\n",
        "querying 772001-773000..."
       ]
      },
      {
       "output_type": "stream",
       "stream": "stdout",
       "text": [
        "done."
       ]
      },
      {
       "output_type": "stream",
       "stream": "stdout",
       "text": [
        "\n",
        "querying 773001-774000..."
       ]
      },
      {
       "output_type": "stream",
       "stream": "stdout",
       "text": [
        "done."
       ]
      },
      {
       "output_type": "stream",
       "stream": "stdout",
       "text": [
        "\n",
        "querying 774001-775000..."
       ]
      },
      {
       "output_type": "stream",
       "stream": "stdout",
       "text": [
        "done."
       ]
      },
      {
       "output_type": "stream",
       "stream": "stdout",
       "text": [
        "\n",
        "querying 775001-776000..."
       ]
      },
      {
       "output_type": "stream",
       "stream": "stdout",
       "text": [
        "done."
       ]
      },
      {
       "output_type": "stream",
       "stream": "stdout",
       "text": [
        "\n",
        "querying 776001-777000..."
       ]
      },
      {
       "output_type": "stream",
       "stream": "stdout",
       "text": [
        "done."
       ]
      },
      {
       "output_type": "stream",
       "stream": "stdout",
       "text": [
        "\n",
        "querying 777001-778000..."
       ]
      },
      {
       "output_type": "stream",
       "stream": "stdout",
       "text": [
        "done."
       ]
      },
      {
       "output_type": "stream",
       "stream": "stdout",
       "text": [
        "\n",
        "querying 778001-779000..."
       ]
      },
      {
       "output_type": "stream",
       "stream": "stdout",
       "text": [
        "done."
       ]
      },
      {
       "output_type": "stream",
       "stream": "stdout",
       "text": [
        "\n",
        "querying 779001-779002..."
       ]
      },
      {
       "output_type": "stream",
       "stream": "stdout",
       "text": [
        "done."
       ]
      },
      {
       "output_type": "stream",
       "stream": "stdout",
       "text": [
        "\n",
        "Finished.\n",
        "110649 input query terms found dup hits:"
       ]
      },
      {
       "output_type": "stream",
       "stream": "stdout",
       "text": [
        "\n",
        "\t[(u'Q5E9H2', 10), (u'B0RED6', 2), (u'Q5E9H0', 3), (u'Q1MM74', 2), (u'P30613', 2), (u'O60108', 4), (u"
       ]
      },
      {
       "output_type": "stream",
       "stream": "stdout",
       "text": [
        "\n",
        "85297 input query terms found no hit:\n",
        "\t[u'P22927', u'P0DM48', u'A8MZA4', u'A8MZA4', u'P50650', u'O35840', u'Q9J3N3', u'P54279', u'D3ZEF4', \n",
        "Pass \"returnall=True\" to return complete lists of duplicate or missing query terms.\n"
       ]
      }
     ],
     "prompt_number": 410
    },
    {
     "cell_type": "code",
     "collapsed": false,
     "input": [
      "protein_genetags = mg.querymany(protein_subjectids, scopes='ensemblprotein,uniprot,symbol', species='all')"
     ],
     "language": "python",
     "metadata": {},
     "outputs": [
      {
       "output_type": "stream",
       "stream": "stdout",
       "text": [
        "querying 1-1000...done."
       ]
      },
      {
       "output_type": "stream",
       "stream": "stdout",
       "text": [
        "\n",
        "querying 1001-2000..."
       ]
      },
      {
       "output_type": "stream",
       "stream": "stdout",
       "text": [
        "done."
       ]
      },
      {
       "output_type": "stream",
       "stream": "stdout",
       "text": [
        "\n",
        "querying 2001-3000..."
       ]
      },
      {
       "output_type": "stream",
       "stream": "stdout",
       "text": [
        "done."
       ]
      },
      {
       "output_type": "stream",
       "stream": "stdout",
       "text": [
        "\n",
        "querying 3001-4000..."
       ]
      },
      {
       "output_type": "stream",
       "stream": "stdout",
       "text": [
        "done."
       ]
      },
      {
       "output_type": "stream",
       "stream": "stdout",
       "text": [
        "\n",
        "querying 4001-5000..."
       ]
      },
      {
       "output_type": "stream",
       "stream": "stdout",
       "text": [
        "done."
       ]
      },
      {
       "output_type": "stream",
       "stream": "stdout",
       "text": [
        "\n",
        "querying 5001-6000..."
       ]
      },
      {
       "output_type": "stream",
       "stream": "stdout",
       "text": [
        "done."
       ]
      },
      {
       "output_type": "stream",
       "stream": "stdout",
       "text": [
        "\n",
        "querying 6001-7000..."
       ]
      },
      {
       "output_type": "stream",
       "stream": "stdout",
       "text": [
        "done."
       ]
      },
      {
       "output_type": "stream",
       "stream": "stdout",
       "text": [
        "\n",
        "querying 7001-8000..."
       ]
      },
      {
       "output_type": "stream",
       "stream": "stdout",
       "text": [
        "done."
       ]
      },
      {
       "output_type": "stream",
       "stream": "stdout",
       "text": [
        "\n",
        "querying 8001-9000..."
       ]
      },
      {
       "output_type": "stream",
       "stream": "stdout",
       "text": [
        "done."
       ]
      },
      {
       "output_type": "stream",
       "stream": "stdout",
       "text": [
        "\n",
        "querying 9001-10000..."
       ]
      },
      {
       "output_type": "stream",
       "stream": "stdout",
       "text": [
        "done."
       ]
      },
      {
       "output_type": "stream",
       "stream": "stdout",
       "text": [
        "\n",
        "querying 10001-11000..."
       ]
      },
      {
       "output_type": "stream",
       "stream": "stdout",
       "text": [
        "done."
       ]
      },
      {
       "output_type": "stream",
       "stream": "stdout",
       "text": [
        "\n",
        "querying 11001-12000..."
       ]
      },
      {
       "output_type": "stream",
       "stream": "stdout",
       "text": [
        "done."
       ]
      },
      {
       "output_type": "stream",
       "stream": "stdout",
       "text": [
        "\n",
        "querying 12001-13000..."
       ]
      },
      {
       "output_type": "stream",
       "stream": "stdout",
       "text": [
        "done."
       ]
      },
      {
       "output_type": "stream",
       "stream": "stdout",
       "text": [
        "\n",
        "querying 13001-14000..."
       ]
      },
      {
       "output_type": "stream",
       "stream": "stdout",
       "text": [
        "done."
       ]
      },
      {
       "output_type": "stream",
       "stream": "stdout",
       "text": [
        "\n",
        "querying 14001-15000..."
       ]
      },
      {
       "output_type": "stream",
       "stream": "stdout",
       "text": [
        "done."
       ]
      },
      {
       "output_type": "stream",
       "stream": "stdout",
       "text": [
        "\n",
        "querying 15001-16000..."
       ]
      },
      {
       "output_type": "stream",
       "stream": "stdout",
       "text": [
        "done."
       ]
      },
      {
       "output_type": "stream",
       "stream": "stdout",
       "text": [
        "\n",
        "querying 16001-17000..."
       ]
      },
      {
       "output_type": "stream",
       "stream": "stdout",
       "text": [
        "done."
       ]
      },
      {
       "output_type": "stream",
       "stream": "stdout",
       "text": [
        "\n",
        "querying 17001-18000..."
       ]
      },
      {
       "output_type": "stream",
       "stream": "stdout",
       "text": [
        "done."
       ]
      },
      {
       "output_type": "stream",
       "stream": "stdout",
       "text": [
        "\n",
        "querying 18001-19000..."
       ]
      },
      {
       "output_type": "stream",
       "stream": "stdout",
       "text": [
        "done."
       ]
      },
      {
       "output_type": "stream",
       "stream": "stdout",
       "text": [
        "\n",
        "querying 19001-20000..."
       ]
      },
      {
       "output_type": "stream",
       "stream": "stdout",
       "text": [
        "done."
       ]
      },
      {
       "output_type": "stream",
       "stream": "stdout",
       "text": [
        "\n",
        "querying 20001-21000..."
       ]
      },
      {
       "output_type": "stream",
       "stream": "stdout",
       "text": [
        "done."
       ]
      },
      {
       "output_type": "stream",
       "stream": "stdout",
       "text": [
        "\n",
        "querying 21001-22000..."
       ]
      },
      {
       "output_type": "stream",
       "stream": "stdout",
       "text": [
        "done."
       ]
      },
      {
       "output_type": "stream",
       "stream": "stdout",
       "text": [
        "\n",
        "querying 22001-23000..."
       ]
      },
      {
       "output_type": "stream",
       "stream": "stdout",
       "text": [
        "done."
       ]
      },
      {
       "output_type": "stream",
       "stream": "stdout",
       "text": [
        "\n",
        "querying 23001-24000..."
       ]
      },
      {
       "output_type": "stream",
       "stream": "stdout",
       "text": [
        "done."
       ]
      },
      {
       "output_type": "stream",
       "stream": "stdout",
       "text": [
        "\n",
        "querying 24001-25000..."
       ]
      },
      {
       "output_type": "stream",
       "stream": "stdout",
       "text": [
        "done."
       ]
      },
      {
       "output_type": "stream",
       "stream": "stdout",
       "text": [
        "\n",
        "querying 25001-26000..."
       ]
      },
      {
       "output_type": "stream",
       "stream": "stdout",
       "text": [
        "done."
       ]
      },
      {
       "output_type": "stream",
       "stream": "stdout",
       "text": [
        "\n",
        "querying 26001-27000..."
       ]
      },
      {
       "output_type": "stream",
       "stream": "stdout",
       "text": [
        "done."
       ]
      },
      {
       "output_type": "stream",
       "stream": "stdout",
       "text": [
        "\n",
        "querying 27001-28000..."
       ]
      },
      {
       "output_type": "stream",
       "stream": "stdout",
       "text": [
        "done."
       ]
      },
      {
       "output_type": "stream",
       "stream": "stdout",
       "text": [
        "\n",
        "querying 28001-29000..."
       ]
      },
      {
       "output_type": "stream",
       "stream": "stdout",
       "text": [
        "done."
       ]
      },
      {
       "output_type": "stream",
       "stream": "stdout",
       "text": [
        "\n",
        "querying 29001-30000..."
       ]
      },
      {
       "output_type": "stream",
       "stream": "stdout",
       "text": [
        "done."
       ]
      },
      {
       "output_type": "stream",
       "stream": "stdout",
       "text": [
        "\n",
        "querying 30001-31000..."
       ]
      },
      {
       "output_type": "stream",
       "stream": "stdout",
       "text": [
        "done."
       ]
      },
      {
       "output_type": "stream",
       "stream": "stdout",
       "text": [
        "\n",
        "querying 31001-32000..."
       ]
      },
      {
       "output_type": "stream",
       "stream": "stdout",
       "text": [
        "done."
       ]
      },
      {
       "output_type": "stream",
       "stream": "stdout",
       "text": [
        "\n",
        "querying 32001-33000..."
       ]
      },
      {
       "output_type": "stream",
       "stream": "stdout",
       "text": [
        "done."
       ]
      },
      {
       "output_type": "stream",
       "stream": "stdout",
       "text": [
        "\n",
        "querying 33001-34000..."
       ]
      },
      {
       "output_type": "stream",
       "stream": "stdout",
       "text": [
        "done."
       ]
      },
      {
       "output_type": "stream",
       "stream": "stdout",
       "text": [
        "\n",
        "querying 34001-35000..."
       ]
      },
      {
       "output_type": "stream",
       "stream": "stdout",
       "text": [
        "done."
       ]
      },
      {
       "output_type": "stream",
       "stream": "stdout",
       "text": [
        "\n",
        "querying 35001-36000..."
       ]
      },
      {
       "output_type": "stream",
       "stream": "stdout",
       "text": [
        "done."
       ]
      },
      {
       "output_type": "stream",
       "stream": "stdout",
       "text": [
        "\n",
        "querying 36001-37000..."
       ]
      },
      {
       "output_type": "stream",
       "stream": "stdout",
       "text": [
        "done."
       ]
      },
      {
       "output_type": "stream",
       "stream": "stdout",
       "text": [
        "\n",
        "querying 37001-38000..."
       ]
      },
      {
       "output_type": "stream",
       "stream": "stdout",
       "text": [
        "done."
       ]
      },
      {
       "output_type": "stream",
       "stream": "stdout",
       "text": [
        "\n",
        "querying 38001-39000..."
       ]
      },
      {
       "output_type": "stream",
       "stream": "stdout",
       "text": [
        "done."
       ]
      },
      {
       "output_type": "stream",
       "stream": "stdout",
       "text": [
        "\n",
        "querying 39001-40000..."
       ]
      },
      {
       "output_type": "stream",
       "stream": "stdout",
       "text": [
        "done."
       ]
      },
      {
       "output_type": "stream",
       "stream": "stdout",
       "text": [
        "\n",
        "querying 40001-41000..."
       ]
      },
      {
       "output_type": "stream",
       "stream": "stdout",
       "text": [
        "done."
       ]
      },
      {
       "output_type": "stream",
       "stream": "stdout",
       "text": [
        "\n",
        "querying 41001-42000..."
       ]
      },
      {
       "output_type": "stream",
       "stream": "stdout",
       "text": [
        "done."
       ]
      },
      {
       "output_type": "stream",
       "stream": "stdout",
       "text": [
        "\n",
        "querying 42001-43000..."
       ]
      },
      {
       "output_type": "stream",
       "stream": "stdout",
       "text": [
        "done."
       ]
      },
      {
       "output_type": "stream",
       "stream": "stdout",
       "text": [
        "\n",
        "querying 43001-44000..."
       ]
      },
      {
       "output_type": "stream",
       "stream": "stdout",
       "text": [
        "done."
       ]
      },
      {
       "output_type": "stream",
       "stream": "stdout",
       "text": [
        "\n",
        "querying 44001-45000..."
       ]
      },
      {
       "output_type": "stream",
       "stream": "stdout",
       "text": [
        "done."
       ]
      },
      {
       "output_type": "stream",
       "stream": "stdout",
       "text": [
        "\n",
        "querying 45001-46000..."
       ]
      },
      {
       "output_type": "stream",
       "stream": "stdout",
       "text": [
        "done."
       ]
      },
      {
       "output_type": "stream",
       "stream": "stdout",
       "text": [
        "\n",
        "querying 46001-47000..."
       ]
      },
      {
       "output_type": "stream",
       "stream": "stdout",
       "text": [
        "done."
       ]
      },
      {
       "output_type": "stream",
       "stream": "stdout",
       "text": [
        "\n",
        "querying 47001-48000..."
       ]
      },
      {
       "output_type": "stream",
       "stream": "stdout",
       "text": [
        "done."
       ]
      },
      {
       "output_type": "stream",
       "stream": "stdout",
       "text": [
        "\n",
        "querying 48001-49000..."
       ]
      },
      {
       "output_type": "stream",
       "stream": "stdout",
       "text": [
        "done."
       ]
      },
      {
       "output_type": "stream",
       "stream": "stdout",
       "text": [
        "\n",
        "querying 49001-50000..."
       ]
      },
      {
       "output_type": "stream",
       "stream": "stdout",
       "text": [
        "done."
       ]
      },
      {
       "output_type": "stream",
       "stream": "stdout",
       "text": [
        "\n",
        "querying 50001-51000..."
       ]
      },
      {
       "output_type": "stream",
       "stream": "stdout",
       "text": [
        "done."
       ]
      },
      {
       "output_type": "stream",
       "stream": "stdout",
       "text": [
        "\n",
        "querying 51001-51823..."
       ]
      },
      {
       "output_type": "stream",
       "stream": "stdout",
       "text": [
        "done."
       ]
      },
      {
       "output_type": "stream",
       "stream": "stdout",
       "text": [
        "\n",
        "Finished.\n",
        "1082 input query terms found dup hits:\n",
        "\t[(u'ENSDARP00000108769', 2), (u'ENSDARP00000101572', 2), (u'ENSDARP00000091595', 2), (u'ENSDARP00000\n",
        "12437 input query terms found no hit:\n",
        "\t[u'ENSDARP00000104277', u'ENSDARP00000105902', u'ENSDARP00000108765', u'ENSDARP00000105910', u'ENSDA\n",
        "Pass \"returnall=True\" to return complete lists of duplicate or missing query terms.\n"
       ]
      }
     ],
     "prompt_number": 615
    },
    {
     "cell_type": "code",
     "collapsed": false,
     "input": [
      "subject_gene_map, gene_subject_map = geneq.build_gene_maps(uniprot_genetags + protein_genetags)"
     ],
     "language": "python",
     "metadata": {},
     "outputs": [],
     "prompt_number": 650
    },
    {
     "cell_type": "code",
     "collapsed": false,
     "input": [
      "# Now for every transcript, we get its hit subject names and pull the gene tags from our table\n",
      "# Add them to the hits DataFrame\n",
      "def gene_func(row):\n",
      "    genes = set()\n",
      "    for sseqid in [row.uniprot, row.musm, row.danr, row.braf]:\n",
      "        if sseqid in subject_gene_map:\n",
      "            # convert to all lower case\n",
      "            for g in subject_gene_map[sseqid]:\n",
      "                genes.add(g.lower())\n",
      "    return genes\n",
      "\n",
      "subject_df['gene_tags'] = subject_df.apply(gene_func, axis=1)"
     ],
     "language": "python",
     "metadata": {},
     "outputs": [],
     "prompt_number": 653
    },
    {
     "cell_type": "code",
     "collapsed": false,
     "input": [
      "ng_tr_dict, ng_df = geneq.uniquify_genes(not_genome, subject_df, set(petMar2_genes.gene), mg=mg)"
     ],
     "language": "python",
     "metadata": {},
     "outputs": [
      {
       "output_type": "stream",
       "stream": "stderr",
       "text": [
        "Creating gene_tag to transcript map...\n",
        "Filtering out gene_tags associated with species"
       ]
      },
      {
       "output_type": "stream",
       "stream": "stdout",
       "text": [
        "querying 1-1000...done."
       ]
      },
      {
       "output_type": "stream",
       "stream": "stdout",
       "text": [
        "\n",
        "querying 1001-2000..."
       ]
      },
      {
       "output_type": "stream",
       "stream": "stdout",
       "text": [
        "done."
       ]
      },
      {
       "output_type": "stream",
       "stream": "stdout",
       "text": [
        "\n",
        "querying 2001-3000..."
       ]
      },
      {
       "output_type": "stream",
       "stream": "stdout",
       "text": [
        "done."
       ]
      },
      {
       "output_type": "stream",
       "stream": "stdout",
       "text": [
        "\n",
        "querying 3001-4000..."
       ]
      },
      {
       "output_type": "stream",
       "stream": "stdout",
       "text": [
        "done."
       ]
      },
      {
       "output_type": "stream",
       "stream": "stdout",
       "text": [
        "\n",
        "querying 4001-5000..."
       ]
      },
      {
       "output_type": "stream",
       "stream": "stdout",
       "text": [
        "done."
       ]
      },
      {
       "output_type": "stream",
       "stream": "stdout",
       "text": [
        "\n",
        "querying 5001-6000..."
       ]
      },
      {
       "output_type": "stream",
       "stream": "stdout",
       "text": [
        "done."
       ]
      },
      {
       "output_type": "stream",
       "stream": "stdout",
       "text": [
        "\n",
        "querying 6001-7000..."
       ]
      },
      {
       "output_type": "stream",
       "stream": "stdout",
       "text": [
        "done."
       ]
      },
      {
       "output_type": "stream",
       "stream": "stdout",
       "text": [
        "\n",
        "querying 7001-7539..."
       ]
      },
      {
       "output_type": "stream",
       "stream": "stdout",
       "text": [
        "done."
       ]
      },
      {
       "output_type": "stream",
       "stream": "stderr",
       "text": [
        " 7757\n",
        "Getting full gene information for remaining genes..."
       ]
      },
      {
       "output_type": "stream",
       "stream": "stdout",
       "text": [
        "\n",
        "Finished.\n",
        "1 input query terms found dup hits:\n",
        "\t[(u'udp', 10)]\n",
        "7486 input query terms found no hit:\n",
        "\t[u'brafldraft81009', u'naegrdraft39221', u'loc558520', u'brafldraft66651', u'brafldraft66658', u'gm1\n",
        "Pass \"returnall=True\" to return complete lists of duplicate or missing query terms.\n",
        "querying 1-1000...done."
       ]
      },
      {
       "output_type": "stream",
       "stream": "stdout",
       "text": [
        "\n",
        "querying 1001-2000..."
       ]
      },
      {
       "output_type": "stream",
       "stream": "stdout",
       "text": [
        "done."
       ]
      },
      {
       "output_type": "stream",
       "stream": "stdout",
       "text": [
        "\n",
        "querying 2001-3000..."
       ]
      },
      {
       "output_type": "stream",
       "stream": "stdout",
       "text": [
        "done."
       ]
      },
      {
       "output_type": "stream",
       "stream": "stdout",
       "text": [
        "\n",
        "querying 3001-4000..."
       ]
      },
      {
       "output_type": "stream",
       "stream": "stdout",
       "text": [
        "done."
       ]
      },
      {
       "output_type": "stream",
       "stream": "stdout",
       "text": [
        "\n",
        "querying 4001-5000..."
       ]
      },
      {
       "output_type": "stream",
       "stream": "stdout",
       "text": [
        "done."
       ]
      },
      {
       "output_type": "stream",
       "stream": "stdout",
       "text": [
        "\n",
        "querying 5001-6000..."
       ]
      },
      {
       "output_type": "stream",
       "stream": "stdout",
       "text": [
        "done."
       ]
      },
      {
       "output_type": "stream",
       "stream": "stdout",
       "text": [
        "\n",
        "querying 6001-7000..."
       ]
      },
      {
       "output_type": "stream",
       "stream": "stdout",
       "text": [
        "done."
       ]
      },
      {
       "output_type": "stream",
       "stream": "stdout",
       "text": [
        "\n",
        "querying 7001-7486..."
       ]
      },
      {
       "output_type": "stream",
       "stream": "stdout",
       "text": [
        "done."
       ]
      },
      {
       "output_type": "stream",
       "stream": "stderr",
       "text": [
        "\n",
        "Deduplicating gene info..."
       ]
      },
      {
       "output_type": "stream",
       "stream": "stdout",
       "text": [
        "\n",
        "Finished.\n",
        "1114 input query terms found dup hits:\n",
        "\t[(u'waah', 2), (u'gm4877', 3), (u'gm11810', 3), (u'dcd1b', 4), (u'dcd1a', 5), (u'xapb', 10), (u'micu\n",
        "5312 input query terms found no hit:\n",
        "\t[u'brafldraft81009', u'naegrdraft39221', u'brafldraft66651', u'brafldraft66658', u'brafldraft127839'\n",
        "Pass \"returnall=True\" to return complete lists of duplicate or missing query terms.\n"
       ]
      },
      {
       "output_type": "stream",
       "stream": "stderr",
       "text": [
        "\n"
       ]
      }
     ],
     "prompt_number": 713
    },
    {
     "cell_type": "code",
     "collapsed": false,
     "input": [
      "for tag, row in ng_df.iterrows():\n",
      "    if 'sex' in row.name.lower():\n",
      "        print row\n",
      "        print '\\n'"
     ],
     "language": "python",
     "metadata": {},
     "outputs": [],
     "prompt_number": 770
    },
    {
     "cell_type": "raw",
     "metadata": {},
     "source": [
      "zbf_tr_dict, zbf_df = geneq.uniquify_genes(not_genome & blast_df.xzebrafish & (blast_df.xamph == False), \n",
      "                                           subject_df, set(petMar2_genes.gene), mg=mg)"
     ]
    },
    {
     "cell_type": "code",
     "collapsed": false,
     "input": [
      "for desc in petMar2_desc.desc:\n",
      "    if 'paoa' in desc.lower():\n",
      "        print desc"
     ],
     "language": "python",
     "metadata": {},
     "outputs": [],
     "prompt_number": 744
    },
    {
     "cell_type": "code",
     "collapsed": false,
     "input": [
      "zbf_not_amp_ctb = pd.read_csv('zebrafish_not_amph_ctb.csv', skiprows=1,\n",
      "                              names=['name', 'tag', 'tax', 'X', 'Y', 'Z'], index_col=0)"
     ],
     "language": "python",
     "metadata": {},
     "outputs": [],
     "prompt_number": 755
    },
    {
     "cell_type": "code",
     "collapsed": false,
     "input": [
      "tmpg = set(zbf_df.index)"
     ],
     "language": "python",
     "metadata": {},
     "outputs": [],
     "prompt_number": 747
    },
    {
     "cell_type": "code",
     "collapsed": false,
     "input": [],
     "language": "python",
     "metadata": {},
     "outputs": []
    },
    {
     "cell_type": "code",
     "collapsed": false,
     "input": [
      "zbf_not_amp_ctb"
     ],
     "language": "python",
     "metadata": {},
     "outputs": [
      {
       "html": [
        "<div style=\"max-height:1000px;max-width:1500px;overflow:auto;\">\n",
        "<table border=\"1\" class=\"dataframe\">\n",
        "  <thead>\n",
        "    <tr style=\"text-align: right;\">\n",
        "      <th></th>\n",
        "      <th>name</th>\n",
        "      <th>tag</th>\n",
        "      <th>tax</th>\n",
        "      <th>X</th>\n",
        "      <th>Y</th>\n",
        "      <th>Z</th>\n",
        "    </tr>\n",
        "  </thead>\n",
        "  <tbody>\n",
        "    <tr>\n",
        "      <th>EFNA5</th>\n",
        "      <td>                                         ephrin-A5</td>\n",
        "      <td>    efna5</td>\n",
        "      <td>  9606</td>\n",
        "      <td> x</td>\n",
        "      <td>NaN</td>\n",
        "      <td>        NaN</td>\n",
        "    </tr>\n",
        "    <tr>\n",
        "      <th>EFNA3</th>\n",
        "      <td> Ephrin-A3; Uncharacterized protein; cDNA FLJ57...</td>\n",
        "      <td>    efna3</td>\n",
        "      <td>  9606</td>\n",
        "      <td> x</td>\n",
        "      <td>NaN</td>\n",
        "      <td>        NaN</td>\n",
        "    </tr>\n",
        "    <tr>\n",
        "      <th>EFNA2</th>\n",
        "      <td>                                         ephrin-A2</td>\n",
        "      <td>    efna2</td>\n",
        "      <td>  9606</td>\n",
        "      <td> x</td>\n",
        "      <td>NaN</td>\n",
        "      <td>        NaN</td>\n",
        "    </tr>\n",
        "    <tr>\n",
        "      <th>RUNX2</th>\n",
        "      <td>               runt-related transcription factor 2</td>\n",
        "      <td>    runx2</td>\n",
        "      <td>  9606</td>\n",
        "      <td> x</td>\n",
        "      <td>NaN</td>\n",
        "      <td>        NaN</td>\n",
        "    </tr>\n",
        "    <tr>\n",
        "      <th>Tnfrsf22</th>\n",
        "      <td> tumor necrosis factor receptor superfamily, me...</td>\n",
        "      <td> tnfrsf22</td>\n",
        "      <td> 10090</td>\n",
        "      <td> x</td>\n",
        "      <td>NaN</td>\n",
        "      <td>        NaN</td>\n",
        "    </tr>\n",
        "    <tr>\n",
        "      <th>LMX1B</th>\n",
        "      <td>         LIM homeobox transcription factor 1, beta</td>\n",
        "      <td>    lmx1b</td>\n",
        "      <td>  9606</td>\n",
        "      <td> x</td>\n",
        "      <td>NaN</td>\n",
        "      <td>        NaN</td>\n",
        "    </tr>\n",
        "    <tr>\n",
        "      <th>RHOBTB1</th>\n",
        "      <td>               Rho-related BTB domain containing 1</td>\n",
        "      <td>  rhobtb1</td>\n",
        "      <td>  9606</td>\n",
        "      <td> x</td>\n",
        "      <td>NaN</td>\n",
        "      <td>        NaN</td>\n",
        "    </tr>\n",
        "    <tr>\n",
        "      <th>NTN1</th>\n",
        "      <td>                                          netrin 1</td>\n",
        "      <td>     ntn1</td>\n",
        "      <td>  9606</td>\n",
        "      <td> x</td>\n",
        "      <td>NaN</td>\n",
        "      <td>        NaN</td>\n",
        "    </tr>\n",
        "    <tr>\n",
        "      <th>TSHZ3</th>\n",
        "      <td>                   teashirt zinc finger homeobox 3</td>\n",
        "      <td>    tshz3</td>\n",
        "      <td>  9606</td>\n",
        "      <td> x</td>\n",
        "      <td>NaN</td>\n",
        "      <td>        NaN</td>\n",
        "    </tr>\n",
        "    <tr>\n",
        "      <th>PAXBP1</th>\n",
        "      <td>                   PAX3 and PAX7 binding protein 1</td>\n",
        "      <td>   paxbp1</td>\n",
        "      <td>  9606</td>\n",
        "      <td> x</td>\n",
        "      <td>NaN</td>\n",
        "      <td>        NaN</td>\n",
        "    </tr>\n",
        "    <tr>\n",
        "      <th>FZD5</th>\n",
        "      <td>                         frizzled class receptor 5</td>\n",
        "      <td>     fzd5</td>\n",
        "      <td>  9606</td>\n",
        "      <td> x</td>\n",
        "      <td>NaN</td>\n",
        "      <td>        NaN</td>\n",
        "    </tr>\n",
        "    <tr>\n",
        "      <th>FZD8</th>\n",
        "      <td>                         frizzled class receptor 8</td>\n",
        "      <td>     fzd8</td>\n",
        "      <td>  9606</td>\n",
        "      <td> x</td>\n",
        "      <td>NaN</td>\n",
        "      <td>        NaN</td>\n",
        "    </tr>\n",
        "    <tr>\n",
        "      <th>LHX4</th>\n",
        "      <td>                                    LIM homeobox 4</td>\n",
        "      <td>     lhx4</td>\n",
        "      <td>  9606</td>\n",
        "      <td> x</td>\n",
        "      <td>NaN</td>\n",
        "      <td>        NaN</td>\n",
        "    </tr>\n",
        "    <tr>\n",
        "      <th>DLG2</th>\n",
        "      <td>               discs, large homolog 2 (Drosophila)</td>\n",
        "      <td>     dlg2</td>\n",
        "      <td>  9606</td>\n",
        "      <td> x</td>\n",
        "      <td>NaN</td>\n",
        "      <td>        NaN</td>\n",
        "    </tr>\n",
        "    <tr>\n",
        "      <th>DLG5</th>\n",
        "      <td>               discs, large homolog 5 (Drosophila)</td>\n",
        "      <td>     dlg5</td>\n",
        "      <td>  9606</td>\n",
        "      <td> x</td>\n",
        "      <td>NaN</td>\n",
        "      <td>        NaN</td>\n",
        "    </tr>\n",
        "    <tr>\n",
        "      <th>DLG4</th>\n",
        "      <td>               discs, large homolog 4 (Drosophila)</td>\n",
        "      <td>     dlg4</td>\n",
        "      <td>  9606</td>\n",
        "      <td> x</td>\n",
        "      <td>NaN</td>\n",
        "      <td>        NaN</td>\n",
        "    </tr>\n",
        "    <tr>\n",
        "      <th>SOX12</th>\n",
        "      <td>             SRY (sex determining region Y)-box 12</td>\n",
        "      <td>    sox12</td>\n",
        "      <td>  9606</td>\n",
        "      <td> x</td>\n",
        "      <td>NaN</td>\n",
        "      <td>        NaN</td>\n",
        "    </tr>\n",
        "    <tr>\n",
        "      <th>BRPF1</th>\n",
        "      <td>          bromodomain and PHD finger containing, 1</td>\n",
        "      <td>    brpf1</td>\n",
        "      <td>  9606</td>\n",
        "      <td> x</td>\n",
        "      <td>NaN</td>\n",
        "      <td>        NaN</td>\n",
        "    </tr>\n",
        "    <tr>\n",
        "      <th>SOX8</th>\n",
        "      <td>              SRY (sex determining region Y)-box 8</td>\n",
        "      <td>     sox8</td>\n",
        "      <td>  9606</td>\n",
        "      <td> x</td>\n",
        "      <td>NaN</td>\n",
        "      <td>        NaN</td>\n",
        "    </tr>\n",
        "    <tr>\n",
        "      <th>SOX4</th>\n",
        "      <td>              SRY (sex determining region Y)-box 4</td>\n",
        "      <td>     sox4</td>\n",
        "      <td>  9606</td>\n",
        "      <td> x</td>\n",
        "      <td>NaN</td>\n",
        "      <td>        NaN</td>\n",
        "    </tr>\n",
        "    <tr>\n",
        "      <th>EGFR</th>\n",
        "      <td>                  epidermal growth factor receptor</td>\n",
        "      <td>     egfr</td>\n",
        "      <td>  9606</td>\n",
        "      <td> x</td>\n",
        "      <td>NaN</td>\n",
        "      <td>        NaN</td>\n",
        "    </tr>\n",
        "    <tr>\n",
        "      <th>SHC1</th>\n",
        "      <td> SHC (Src homology 2 domain containing) transfo...</td>\n",
        "      <td>     shc1</td>\n",
        "      <td>  9606</td>\n",
        "      <td> x</td>\n",
        "      <td>NaN</td>\n",
        "      <td>        NaN</td>\n",
        "    </tr>\n",
        "    <tr>\n",
        "      <th>MSI1</th>\n",
        "      <td>                     musashi RNA-binding protein 1</td>\n",
        "      <td>     msi1</td>\n",
        "      <td>  9606</td>\n",
        "      <td> x</td>\n",
        "      <td>NaN</td>\n",
        "      <td>        NaN</td>\n",
        "    </tr>\n",
        "    <tr>\n",
        "      <th>SYN3</th>\n",
        "      <td>                                      synapsin III</td>\n",
        "      <td>     syn3</td>\n",
        "      <td>  9606</td>\n",
        "      <td> x</td>\n",
        "      <td>NaN</td>\n",
        "      <td>        NaN</td>\n",
        "    </tr>\n",
        "    <tr>\n",
        "      <th>SCML2</th>\n",
        "      <td>            sex comb on midleg-like 2 (Drosophila)</td>\n",
        "      <td>    scml2</td>\n",
        "      <td>  9606</td>\n",
        "      <td> x</td>\n",
        "      <td>NaN</td>\n",
        "      <td>        NaN</td>\n",
        "    </tr>\n",
        "    <tr>\n",
        "      <th>PRICKLE2</th>\n",
        "      <td>                    prickle homolog 2 (Drosophila)</td>\n",
        "      <td> prickle2</td>\n",
        "      <td>  9606</td>\n",
        "      <td> x</td>\n",
        "      <td>NaN</td>\n",
        "      <td>        NaN</td>\n",
        "    </tr>\n",
        "    <tr>\n",
        "      <th>HOXA2</th>\n",
        "      <td>                                       homeobox A2</td>\n",
        "      <td>    hoxa2</td>\n",
        "      <td>  9606</td>\n",
        "      <td> x</td>\n",
        "      <td>NaN</td>\n",
        "      <td> SERIOUSLY?</td>\n",
        "    </tr>\n",
        "  </tbody>\n",
        "</table>\n",
        "<p>27 rows \u00d7 6 columns</p>\n",
        "</div>"
       ],
       "metadata": {},
       "output_type": "pyout",
       "prompt_number": 756,
       "text": [
        "                                                       name       tag    tax  \\\n",
        "EFNA5                                             ephrin-A5     efna5   9606   \n",
        "EFNA3     Ephrin-A3; Uncharacterized protein; cDNA FLJ57...     efna3   9606   \n",
        "EFNA2                                             ephrin-A2     efna2   9606   \n",
        "RUNX2                   runt-related transcription factor 2     runx2   9606   \n",
        "Tnfrsf22  tumor necrosis factor receptor superfamily, me...  tnfrsf22  10090   \n",
        "LMX1B             LIM homeobox transcription factor 1, beta     lmx1b   9606   \n",
        "RHOBTB1                 Rho-related BTB domain containing 1   rhobtb1   9606   \n",
        "NTN1                                               netrin 1      ntn1   9606   \n",
        "TSHZ3                       teashirt zinc finger homeobox 3     tshz3   9606   \n",
        "PAXBP1                      PAX3 and PAX7 binding protein 1    paxbp1   9606   \n",
        "FZD5                              frizzled class receptor 5      fzd5   9606   \n",
        "FZD8                              frizzled class receptor 8      fzd8   9606   \n",
        "LHX4                                         LIM homeobox 4      lhx4   9606   \n",
        "DLG2                    discs, large homolog 2 (Drosophila)      dlg2   9606   \n",
        "DLG5                    discs, large homolog 5 (Drosophila)      dlg5   9606   \n",
        "DLG4                    discs, large homolog 4 (Drosophila)      dlg4   9606   \n",
        "SOX12                 SRY (sex determining region Y)-box 12     sox12   9606   \n",
        "BRPF1              bromodomain and PHD finger containing, 1     brpf1   9606   \n",
        "SOX8                   SRY (sex determining region Y)-box 8      sox8   9606   \n",
        "SOX4                   SRY (sex determining region Y)-box 4      sox4   9606   \n",
        "EGFR                       epidermal growth factor receptor      egfr   9606   \n",
        "SHC1      SHC (Src homology 2 domain containing) transfo...      shc1   9606   \n",
        "MSI1                          musashi RNA-binding protein 1      msi1   9606   \n",
        "SYN3                                           synapsin III      syn3   9606   \n",
        "SCML2                sex comb on midleg-like 2 (Drosophila)     scml2   9606   \n",
        "PRICKLE2                     prickle homolog 2 (Drosophila)  prickle2   9606   \n",
        "HOXA2                                           homeobox A2     hoxa2   9606   \n",
        "\n",
        "          X   Y           Z  \n",
        "EFNA5     x NaN         NaN  \n",
        "EFNA3     x NaN         NaN  \n",
        "EFNA2     x NaN         NaN  \n",
        "RUNX2     x NaN         NaN  \n",
        "Tnfrsf22  x NaN         NaN  \n",
        "LMX1B     x NaN         NaN  \n",
        "RHOBTB1   x NaN         NaN  \n",
        "NTN1      x NaN         NaN  \n",
        "TSHZ3     x NaN         NaN  \n",
        "PAXBP1    x NaN         NaN  \n",
        "FZD5      x NaN         NaN  \n",
        "FZD8      x NaN         NaN  \n",
        "LHX4      x NaN         NaN  \n",
        "DLG2      x NaN         NaN  \n",
        "DLG5      x NaN         NaN  \n",
        "DLG4      x NaN         NaN  \n",
        "SOX12     x NaN         NaN  \n",
        "BRPF1     x NaN         NaN  \n",
        "SOX8      x NaN         NaN  \n",
        "SOX4      x NaN         NaN  \n",
        "EGFR      x NaN         NaN  \n",
        "SHC1      x NaN         NaN  \n",
        "MSI1      x NaN         NaN  \n",
        "SYN3      x NaN         NaN  \n",
        "SCML2     x NaN         NaN  \n",
        "PRICKLE2  x NaN         NaN  \n",
        "HOXA2     x NaN  SERIOUSLY?  \n",
        "\n",
        "[27 rows x 6 columns]"
       ]
      }
     ],
     "prompt_number": 756
    },
    {
     "cell_type": "code",
     "collapsed": false,
     "input": [
      "count = 0\n",
      "for gid, gname in ng_df_falsebackcheck.name.iteritems():\n",
      "    if gname and 'lymph' in gname:\n",
      "        print gid, gname\n",
      "        count += 1\n",
      "print count"
     ],
     "language": "python",
     "metadata": {},
     "outputs": [
      {
       "output_type": "stream",
       "stream": "stdout",
       "text": [
        "BCL9 B-cell CLL/lymphoma 9\n",
        "MLLT4 myeloid/lymphoid or mixed-lineage leukemia (trithorax homolog, Drosophila); translocated to, 4\n",
        "BCL9L B-cell CLL/lymphoma 9-like\n",
        "ALK anaplastic lymphoma receptor tyrosine kinase\n",
        "4\n"
       ]
      }
     ],
     "prompt_number": 327
    },
    {
     "cell_type": "code",
     "collapsed": false,
     "input": [],
     "language": "python",
     "metadata": {},
     "outputs": []
    }
   ],
   "metadata": {}
  }
 ]
}