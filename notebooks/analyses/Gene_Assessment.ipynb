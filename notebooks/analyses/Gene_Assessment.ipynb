{
 "metadata": {
  "name": "",
  "signature": "sha256:35dd38da3932f4ba8db2b434979d2fe8e6d6159f6e80d683851768f6147cc63e"
 },
 "nbformat": 3,
 "nbformat_minor": 0,
 "worksheets": [
  {
   "cells": [
    {
     "cell_type": "code",
     "collapsed": false,
     "input": [
      "%load_ext autoreload\n",
      "%autoreload 2\n",
      "\n",
      "from itertools import izip\n",
      "\n",
      "import pandas as pd\n",
      "from pandas import Categorical\n",
      "\n",
      "import numpy as np\n",
      "from numpy.random import rand\n",
      "from scipy import stats\n",
      "    \n",
      "import matplotlib as mpl\n",
      "import matplotlib.pyplot as plt\n",
      "\n",
      "import seaborn as sns\n",
      "from collections import defaultdict as dd"
     ],
     "language": "python",
     "metadata": {},
     "outputs": [
      {
       "output_type": "stream",
       "stream": "stdout",
       "text": [
        "The autoreload extension is already loaded. To reload it, use:\n",
        "  %reload_ext autoreload\n"
       ]
      }
     ],
     "prompt_number": 109
    },
    {
     "cell_type": "code",
     "collapsed": false,
     "input": [
      "blast_cols=[\"sseqid\",\"length\",\"nident\",\"qstart\",\"qend\",\"sstart\",\"send\",\"bitscore\",\"evalue\"]"
     ],
     "language": "python",
     "metadata": {},
     "outputs": [],
     "prompt_number": 2
    },
    {
     "cell_type": "code",
     "collapsed": false,
     "input": [
      "iso_rsem_df = pd.read_csv('../../all.lamp3.iso.rsem.matrix', delimiter='\\t', index_col=0)\n",
      "iso_support_df = pd.DataFrame(index=iso_rsem_df.index)\n",
      "for col in iso_rsem_df:\n",
      "    iso_support_df[col] = 0\n",
      "    iso_support_df.loc[iso_rsem_df[col] > 1.0, col] = 1"
     ],
     "language": "python",
     "metadata": {},
     "outputs": [],
     "prompt_number": 3
    },
    {
     "cell_type": "code",
     "collapsed": false,
     "input": [
      "blast_df = pd.read_csv('blast_matches.csv', index_col=0)"
     ],
     "language": "python",
     "metadata": {},
     "outputs": [],
     "prompt_number": 93
    },
    {
     "cell_type": "code",
     "collapsed": false,
     "input": [
      "# in mouse, zebrafish, amph, but not in lamprey resources\n",
      "not_genome = (blast_df.putative_new & (blast_df.xgenome == False))"
     ],
     "language": "python",
     "metadata": {},
     "outputs": [],
     "prompt_number": 103
    },
    {
     "cell_type": "code",
     "collapsed": false,
     "input": [
      "import mygene\n",
      "mg = mygene.MyGeneInfo()"
     ],
     "language": "python",
     "metadata": {},
     "outputs": [],
     "prompt_number": 4
    },
    {
     "cell_type": "code",
     "collapsed": false,
     "input": [
      "zebrafish_df = pd.read_csv('../../x.zebrafish.best.csv', header=None, index_col=0, names=blast_cols)\n",
      "mouse_df = pd.read_csv('../../x.mouse.best.csv', header=None, index_col=0, names=blast_cols)\n",
      "amph_df = pd.read_csv('../../x.amph.best.csv', header=None, index_col=0, names=blast_cols)\n",
      "lamprey_df = pd.read_csv('../../x.cdna.csv', header=None, index_col=0, names=blast_cols)"
     ],
     "language": "python",
     "metadata": {},
     "outputs": [],
     "prompt_number": 5
    },
    {
     "cell_type": "code",
     "collapsed": false,
     "input": [
      "zebrafish_ensemblproteins = list(set(zebrafish_df.sseqid))"
     ],
     "language": "python",
     "metadata": {},
     "outputs": [],
     "prompt_number": 6
    },
    {
     "cell_type": "code",
     "collapsed": false,
     "input": [
      "zebrafish_genes = mg.querymany(zebrafish_ensemblproteins, scopes='ensemblprotein', species='zebrafish')"
     ],
     "language": "python",
     "metadata": {},
     "outputs": [
      {
       "output_type": "stream",
       "stream": "stdout",
       "text": [
        "querying 1-1000...done."
       ]
      },
      {
       "output_type": "stream",
       "stream": "stdout",
       "text": [
        "\n",
        "querying 1001-2000..."
       ]
      },
      {
       "output_type": "stream",
       "stream": "stdout",
       "text": [
        "done."
       ]
      },
      {
       "output_type": "stream",
       "stream": "stdout",
       "text": [
        "\n",
        "querying 2001-3000..."
       ]
      },
      {
       "output_type": "stream",
       "stream": "stdout",
       "text": [
        "done."
       ]
      },
      {
       "output_type": "stream",
       "stream": "stdout",
       "text": [
        "\n",
        "querying 3001-4000..."
       ]
      },
      {
       "output_type": "stream",
       "stream": "stdout",
       "text": [
        "done."
       ]
      },
      {
       "output_type": "stream",
       "stream": "stdout",
       "text": [
        "\n",
        "querying 4001-5000..."
       ]
      },
      {
       "output_type": "stream",
       "stream": "stdout",
       "text": [
        "done."
       ]
      },
      {
       "output_type": "stream",
       "stream": "stdout",
       "text": [
        "\n",
        "querying 5001-6000..."
       ]
      },
      {
       "output_type": "stream",
       "stream": "stdout",
       "text": [
        "done."
       ]
      },
      {
       "output_type": "stream",
       "stream": "stdout",
       "text": [
        "\n",
        "querying 6001-7000..."
       ]
      },
      {
       "output_type": "stream",
       "stream": "stdout",
       "text": [
        "done."
       ]
      },
      {
       "output_type": "stream",
       "stream": "stdout",
       "text": [
        "\n",
        "querying 7001-8000..."
       ]
      },
      {
       "output_type": "stream",
       "stream": "stdout",
       "text": [
        "done."
       ]
      },
      {
       "output_type": "stream",
       "stream": "stdout",
       "text": [
        "\n",
        "querying 8001-9000..."
       ]
      },
      {
       "output_type": "stream",
       "stream": "stdout",
       "text": [
        "done."
       ]
      },
      {
       "output_type": "stream",
       "stream": "stdout",
       "text": [
        "\n",
        "querying 9001-10000..."
       ]
      },
      {
       "output_type": "stream",
       "stream": "stdout",
       "text": [
        "done."
       ]
      },
      {
       "output_type": "stream",
       "stream": "stdout",
       "text": [
        "\n",
        "querying 10001-11000..."
       ]
      },
      {
       "output_type": "stream",
       "stream": "stdout",
       "text": [
        "done."
       ]
      },
      {
       "output_type": "stream",
       "stream": "stdout",
       "text": [
        "\n",
        "querying 11001-12000..."
       ]
      },
      {
       "output_type": "stream",
       "stream": "stdout",
       "text": [
        "done."
       ]
      },
      {
       "output_type": "stream",
       "stream": "stdout",
       "text": [
        "\n",
        "querying 12001-13000..."
       ]
      },
      {
       "output_type": "stream",
       "stream": "stdout",
       "text": [
        "done."
       ]
      },
      {
       "output_type": "stream",
       "stream": "stdout",
       "text": [
        "\n",
        "querying 13001-14000..."
       ]
      },
      {
       "output_type": "stream",
       "stream": "stdout",
       "text": [
        "done."
       ]
      },
      {
       "output_type": "stream",
       "stream": "stdout",
       "text": [
        "\n",
        "querying 14001-15000..."
       ]
      },
      {
       "output_type": "stream",
       "stream": "stdout",
       "text": [
        "done."
       ]
      },
      {
       "output_type": "stream",
       "stream": "stdout",
       "text": [
        "\n",
        "querying 15001-16000..."
       ]
      },
      {
       "output_type": "stream",
       "stream": "stdout",
       "text": [
        "done."
       ]
      },
      {
       "output_type": "stream",
       "stream": "stdout",
       "text": [
        "\n",
        "querying 16001-17000..."
       ]
      },
      {
       "output_type": "stream",
       "stream": "stdout",
       "text": [
        "done."
       ]
      },
      {
       "output_type": "stream",
       "stream": "stdout",
       "text": [
        "\n",
        "querying 17001-18000..."
       ]
      },
      {
       "output_type": "stream",
       "stream": "stdout",
       "text": [
        "done."
       ]
      },
      {
       "output_type": "stream",
       "stream": "stdout",
       "text": [
        "\n",
        "querying 18001-19000..."
       ]
      },
      {
       "output_type": "stream",
       "stream": "stdout",
       "text": [
        "done."
       ]
      },
      {
       "output_type": "stream",
       "stream": "stdout",
       "text": [
        "\n",
        "querying 19001-20000..."
       ]
      },
      {
       "output_type": "stream",
       "stream": "stdout",
       "text": [
        "done."
       ]
      },
      {
       "output_type": "stream",
       "stream": "stdout",
       "text": [
        "\n",
        "querying 20001-20500..."
       ]
      },
      {
       "output_type": "stream",
       "stream": "stdout",
       "text": [
        "done."
       ]
      },
      {
       "output_type": "stream",
       "stream": "stdout",
       "text": [
        "\n",
        "Finished.\n",
        "786 input query terms found dup hits:\n",
        "\t[(u'ENSDARP00000108769', 2), (u'ENSDARP00000122661', 2), (u'ENSDARP00000101572', 2), (u'ENSDARP00000\n",
        "1003 input query terms found no hit:\n",
        "\t[u'ENSDARP00000104277', u'ENSDARP00000105902', u'ENSDARP00000108765', u'ENSDARP00000105910', u'ENSDA\n",
        "Pass \"returnall=True\" to return complete lists of duplicate or missing query terms.\n"
       ]
      }
     ],
     "prompt_number": 7
    },
    {
     "cell_type": "code",
     "collapsed": false,
     "input": [
      "mouse_ensemblproteins = list(set(mouse_df.sseqid))"
     ],
     "language": "python",
     "metadata": {},
     "outputs": [],
     "prompt_number": 8
    },
    {
     "cell_type": "code",
     "collapsed": false,
     "input": [
      "mouse_genes = mg.querymany(mouse_ensemblproteins, scopes='ensemblprotein', species='mouse')"
     ],
     "language": "python",
     "metadata": {},
     "outputs": [
      {
       "output_type": "stream",
       "stream": "stdout",
       "text": [
        "querying 1-1000...done."
       ]
      },
      {
       "output_type": "stream",
       "stream": "stdout",
       "text": [
        "\n",
        "querying 1001-2000..."
       ]
      },
      {
       "output_type": "stream",
       "stream": "stdout",
       "text": [
        "done."
       ]
      },
      {
       "output_type": "stream",
       "stream": "stdout",
       "text": [
        "\n",
        "querying 2001-3000..."
       ]
      },
      {
       "output_type": "stream",
       "stream": "stdout",
       "text": [
        "done."
       ]
      },
      {
       "output_type": "stream",
       "stream": "stdout",
       "text": [
        "\n",
        "querying 3001-4000..."
       ]
      },
      {
       "output_type": "stream",
       "stream": "stdout",
       "text": [
        "done."
       ]
      },
      {
       "output_type": "stream",
       "stream": "stdout",
       "text": [
        "\n",
        "querying 4001-5000..."
       ]
      },
      {
       "output_type": "stream",
       "stream": "stdout",
       "text": [
        "done."
       ]
      },
      {
       "output_type": "stream",
       "stream": "stdout",
       "text": [
        "\n",
        "querying 5001-6000..."
       ]
      },
      {
       "output_type": "stream",
       "stream": "stdout",
       "text": [
        "done."
       ]
      },
      {
       "output_type": "stream",
       "stream": "stdout",
       "text": [
        "\n",
        "querying 6001-7000..."
       ]
      },
      {
       "output_type": "stream",
       "stream": "stdout",
       "text": [
        "done."
       ]
      },
      {
       "output_type": "stream",
       "stream": "stdout",
       "text": [
        "\n",
        "querying 7001-8000..."
       ]
      },
      {
       "output_type": "stream",
       "stream": "stdout",
       "text": [
        "done."
       ]
      },
      {
       "output_type": "stream",
       "stream": "stdout",
       "text": [
        "\n",
        "querying 8001-9000..."
       ]
      },
      {
       "output_type": "stream",
       "stream": "stdout",
       "text": [
        "done."
       ]
      },
      {
       "output_type": "stream",
       "stream": "stdout",
       "text": [
        "\n",
        "querying 9001-10000..."
       ]
      },
      {
       "output_type": "stream",
       "stream": "stdout",
       "text": [
        "done."
       ]
      },
      {
       "output_type": "stream",
       "stream": "stdout",
       "text": [
        "\n",
        "querying 10001-11000..."
       ]
      },
      {
       "output_type": "stream",
       "stream": "stdout",
       "text": [
        "done."
       ]
      },
      {
       "output_type": "stream",
       "stream": "stdout",
       "text": [
        "\n",
        "querying 11001-12000..."
       ]
      },
      {
       "output_type": "stream",
       "stream": "stdout",
       "text": [
        "done."
       ]
      },
      {
       "output_type": "stream",
       "stream": "stdout",
       "text": [
        "\n",
        "querying 12001-13000..."
       ]
      },
      {
       "output_type": "stream",
       "stream": "stdout",
       "text": [
        "done."
       ]
      },
      {
       "output_type": "stream",
       "stream": "stdout",
       "text": [
        "\n",
        "querying 13001-14000..."
       ]
      },
      {
       "output_type": "stream",
       "stream": "stdout",
       "text": [
        "done."
       ]
      },
      {
       "output_type": "stream",
       "stream": "stdout",
       "text": [
        "\n",
        "querying 14001-15000..."
       ]
      },
      {
       "output_type": "stream",
       "stream": "stdout",
       "text": [
        "done."
       ]
      },
      {
       "output_type": "stream",
       "stream": "stdout",
       "text": [
        "\n",
        "querying 15001-16000..."
       ]
      },
      {
       "output_type": "stream",
       "stream": "stdout",
       "text": [
        "done."
       ]
      },
      {
       "output_type": "stream",
       "stream": "stdout",
       "text": [
        "\n",
        "querying 16001-17000..."
       ]
      },
      {
       "output_type": "stream",
       "stream": "stdout",
       "text": [
        "done."
       ]
      },
      {
       "output_type": "stream",
       "stream": "stdout",
       "text": [
        "\n",
        "querying 17001-18000..."
       ]
      },
      {
       "output_type": "stream",
       "stream": "stdout",
       "text": [
        "done."
       ]
      },
      {
       "output_type": "stream",
       "stream": "stdout",
       "text": [
        "\n",
        "querying 18001-19000..."
       ]
      },
      {
       "output_type": "stream",
       "stream": "stdout",
       "text": [
        "done."
       ]
      },
      {
       "output_type": "stream",
       "stream": "stdout",
       "text": [
        "\n",
        "querying 19001-20000..."
       ]
      },
      {
       "output_type": "stream",
       "stream": "stdout",
       "text": [
        "done."
       ]
      },
      {
       "output_type": "stream",
       "stream": "stdout",
       "text": [
        "\n",
        "querying 20001-20184..."
       ]
      },
      {
       "output_type": "stream",
       "stream": "stdout",
       "text": [
        "done."
       ]
      },
      {
       "output_type": "stream",
       "stream": "stdout",
       "text": [
        "\n",
        "Finished.\n",
        "257 input query terms found dup hits:\n",
        "\t[(u'ENSMUSP00000102078', 2), (u'ENSMUSP00000090373', 2), (u'ENSMUSP00000083722', 2), (u'ENSMUSP00000\n",
        "71 input query terms found no hit:\n",
        "\t[u'ENSMUSP00000093937', u'ENSMUSP00000074560', u'ENSMUSP00000077036', u'ENSMUSP00000118044', u'ENSMU\n",
        "Pass \"returnall=True\" to return complete lists of duplicate or missing query terms.\n"
       ]
      }
     ],
     "prompt_number": 9
    },
    {
     "cell_type": "code",
     "collapsed": false,
     "input": [
      "amph_uniprot = [i.rsplit('|')[1] for i in set(amph_df.sseqid)]"
     ],
     "language": "python",
     "metadata": {},
     "outputs": [],
     "prompt_number": 10
    },
    {
     "cell_type": "code",
     "collapsed": false,
     "input": [
      "amph_genes = mg.querymany(amph_uniprot, scopes='symbol,uniprot', species='7739')"
     ],
     "language": "python",
     "metadata": {},
     "outputs": [
      {
       "output_type": "stream",
       "stream": "stdout",
       "text": [
        "querying 1-1000...done."
       ]
      },
      {
       "output_type": "stream",
       "stream": "stdout",
       "text": [
        "\n",
        "querying 1001-2000..."
       ]
      },
      {
       "output_type": "stream",
       "stream": "stdout",
       "text": [
        "done."
       ]
      },
      {
       "output_type": "stream",
       "stream": "stdout",
       "text": [
        "\n",
        "querying 2001-3000..."
       ]
      },
      {
       "output_type": "stream",
       "stream": "stdout",
       "text": [
        "done."
       ]
      },
      {
       "output_type": "stream",
       "stream": "stdout",
       "text": [
        "\n",
        "querying 3001-4000..."
       ]
      },
      {
       "output_type": "stream",
       "stream": "stdout",
       "text": [
        "done."
       ]
      },
      {
       "output_type": "stream",
       "stream": "stdout",
       "text": [
        "\n",
        "querying 4001-5000..."
       ]
      },
      {
       "output_type": "stream",
       "stream": "stdout",
       "text": [
        "done."
       ]
      },
      {
       "output_type": "stream",
       "stream": "stdout",
       "text": [
        "\n",
        "querying 5001-6000..."
       ]
      },
      {
       "output_type": "stream",
       "stream": "stdout",
       "text": [
        "done."
       ]
      },
      {
       "output_type": "stream",
       "stream": "stdout",
       "text": [
        "\n",
        "querying 6001-7000..."
       ]
      },
      {
       "output_type": "stream",
       "stream": "stdout",
       "text": [
        "done."
       ]
      },
      {
       "output_type": "stream",
       "stream": "stdout",
       "text": [
        "\n",
        "querying 7001-8000..."
       ]
      },
      {
       "output_type": "stream",
       "stream": "stdout",
       "text": [
        "done."
       ]
      },
      {
       "output_type": "stream",
       "stream": "stdout",
       "text": [
        "\n",
        "querying 8001-9000..."
       ]
      },
      {
       "output_type": "stream",
       "stream": "stdout",
       "text": [
        "done."
       ]
      },
      {
       "output_type": "stream",
       "stream": "stdout",
       "text": [
        "\n",
        "querying 9001-10000..."
       ]
      },
      {
       "output_type": "stream",
       "stream": "stdout",
       "text": [
        "done."
       ]
      },
      {
       "output_type": "stream",
       "stream": "stdout",
       "text": [
        "\n",
        "querying 10001-11000..."
       ]
      },
      {
       "output_type": "stream",
       "stream": "stdout",
       "text": [
        "done."
       ]
      },
      {
       "output_type": "stream",
       "stream": "stdout",
       "text": [
        "\n",
        "querying 11001-11139..."
       ]
      },
      {
       "output_type": "stream",
       "stream": "stdout",
       "text": [
        "done."
       ]
      },
      {
       "output_type": "stream",
       "stream": "stdout",
       "text": [
        "\n",
        "Finished.\n",
        "37 input query terms found dup hits:\n",
        "\t[(u'C3YBW9', 2), (u'C3Z391', 2), (u'C3ZMF1', 2), (u'C3Z5H6', 2), (u'C3XPY0', 2), (u'C3YRR2', 2), (u'\n",
        "224 input query terms found no hit:\n",
        "\t[u'Q6EMY6', u'Q27IL0', u'Q9GQE9', u'Q5K0A4', u'Q6Y9Q3', u'P53772', u'Q6VUB7', u'Q8N0R7', u'A4VAL4', \n",
        "Pass \"returnall=True\" to return complete lists of duplicate or missing query terms.\n"
       ]
      }
     ],
     "prompt_number": 11
    },
    {
     "cell_type": "code",
     "collapsed": false,
     "input": [
      "lamprey_ensembleproteins = list(set(lamprey_df.sseqid))"
     ],
     "language": "python",
     "metadata": {},
     "outputs": [],
     "prompt_number": 12
    },
    {
     "cell_type": "code",
     "collapsed": false,
     "input": [
      "lamprey_genes = mg.querymany(lamprey_ensembleproteins, scopes='ensemblprotein, ensembltranscript,ensemblgene', species='7757')"
     ],
     "language": "python",
     "metadata": {},
     "outputs": [
      {
       "output_type": "stream",
       "stream": "stdout",
       "text": [
        "querying 1-1000...done."
       ]
      },
      {
       "output_type": "stream",
       "stream": "stdout",
       "text": [
        "\n",
        "querying 1001-2000..."
       ]
      },
      {
       "output_type": "stream",
       "stream": "stdout",
       "text": [
        "done."
       ]
      },
      {
       "output_type": "stream",
       "stream": "stdout",
       "text": [
        "\n",
        "querying 2001-3000..."
       ]
      },
      {
       "output_type": "stream",
       "stream": "stdout",
       "text": [
        "done."
       ]
      },
      {
       "output_type": "stream",
       "stream": "stdout",
       "text": [
        "\n",
        "querying 3001-4000..."
       ]
      },
      {
       "output_type": "stream",
       "stream": "stdout",
       "text": [
        "done."
       ]
      },
      {
       "output_type": "stream",
       "stream": "stdout",
       "text": [
        "\n",
        "querying 4001-5000..."
       ]
      },
      {
       "output_type": "stream",
       "stream": "stdout",
       "text": [
        "done."
       ]
      },
      {
       "output_type": "stream",
       "stream": "stdout",
       "text": [
        "\n",
        "querying 5001-6000..."
       ]
      },
      {
       "output_type": "stream",
       "stream": "stdout",
       "text": [
        "done."
       ]
      },
      {
       "output_type": "stream",
       "stream": "stdout",
       "text": [
        "\n",
        "querying 6001-7000..."
       ]
      },
      {
       "output_type": "stream",
       "stream": "stdout",
       "text": [
        "done."
       ]
      },
      {
       "output_type": "stream",
       "stream": "stdout",
       "text": [
        "\n",
        "querying 7001-8000..."
       ]
      },
      {
       "output_type": "stream",
       "stream": "stdout",
       "text": [
        "done."
       ]
      },
      {
       "output_type": "stream",
       "stream": "stdout",
       "text": [
        "\n",
        "querying 8001-9000..."
       ]
      },
      {
       "output_type": "stream",
       "stream": "stdout",
       "text": [
        "done."
       ]
      },
      {
       "output_type": "stream",
       "stream": "stdout",
       "text": [
        "\n",
        "querying 9001-10000..."
       ]
      },
      {
       "output_type": "stream",
       "stream": "stdout",
       "text": [
        "done."
       ]
      },
      {
       "output_type": "stream",
       "stream": "stdout",
       "text": [
        "\n",
        "querying 10001-10576..."
       ]
      },
      {
       "output_type": "stream",
       "stream": "stdout",
       "text": [
        "done."
       ]
      },
      {
       "output_type": "stream",
       "stream": "stdout",
       "text": [
        "\n",
        "Finished.\n"
       ]
      }
     ],
     "prompt_number": 13
    },
    {
     "cell_type": "code",
     "collapsed": false,
     "input": [
      "# The _genes lists hold all the gene info from every subject name\n",
      "# Let's get the gene tag for all of them, keyed by subject name\n",
      "symbol_table = {}\n",
      "nerrs = 0\n",
      "for gene in mouse_genes + lamprey_genes + zebrafish_genes + amph_genes:\n",
      "    q = gene['query']\n",
      "    try:\n",
      "        if 'symbol' in gene:\n",
      "            symbol_table[q] = symbol_table.get(q, list()) + [gene['symbol'].lower()]\n",
      "        else:\n",
      "            symbol_table[q] = symbol_table.get(q, list()) + [gene['name'].lower()]\n",
      "    except KeyError as e:\n",
      "        pass"
     ],
     "language": "python",
     "metadata": {},
     "outputs": [],
     "prompt_number": 213
    },
    {
     "cell_type": "code",
     "collapsed": false,
     "input": [
      "# Subject lists, keyed by gene tag (reverse lookup)\n",
      "subject_table = {}\n",
      "for symbol, subject_list in symbol_table.viewitems():\n",
      "    for sub in subject_list:\n",
      "        subject_table[sub] = subject_table.get(sub, list()) + [symbol]"
     ],
     "language": "python",
     "metadata": {},
     "outputs": [],
     "prompt_number": 215
    },
    {
     "cell_type": "code",
     "collapsed": false,
     "input": [
      "# Terrible awful hacky way to combine everything, but it works\n",
      "hits = pd.merge(zebrafish_df, mouse_df, how='outer', right_index=True, left_index=True, \n",
      "         suffixes=['_zbf', '_mus'])[['sseqid_zbf', 'sseqid_mus']]\n",
      "hits = pd.merge(hits, amph_df, how='outer', right_index=True, left_index=True)[['sseqid_zbf', 'sseqid_mus', 'sseqid']]\n",
      "hits['sseqid_amp'] = hits['sseqid']\n",
      "del hits['sseqid']\n",
      "hits = pd.merge(hits, lamprey_df, how='outer', \n",
      "                right_index=True, left_index=True)[['sseqid_zbf', 'sseqid_mus', 'sseqid_amp', 'sseqid']]\n",
      "hits['sseqid_pmz'] = hits['sseqid']\n",
      "del hits['sseqid']"
     ],
     "language": "python",
     "metadata": {},
     "outputs": [],
     "prompt_number": 281
    },
    {
     "cell_type": "code",
     "collapsed": false,
     "input": [
      "# Now for every transcript, we get its hit subject names and pull the gene tags from our table\n",
      "# Add them to the hits DataFrame\n",
      "def gene_func(row):\n",
      "    genes = set()\n",
      "    for q in row[:-1]:\n",
      "        if q in symbol_table:\n",
      "            # convert to all lower case\n",
      "            for g in symbol_table[q]:\n",
      "                genes.add(g.lower())\n",
      "    return genes\n",
      "\n",
      "hits['gene_tags'] = hits.apply(gene_func, axis=1)"
     ],
     "language": "python",
     "metadata": {},
     "outputs": [],
     "prompt_number": 285
    },
    {
     "cell_type": "code",
     "collapsed": false,
     "input": [
      "hits"
     ],
     "language": "python",
     "metadata": {},
     "outputs": [
      {
       "html": [
        "<div style=\"max-height:1000px;max-width:1500px;overflow:auto;\">\n",
        "<table border=\"1\" class=\"dataframe\">\n",
        "  <thead>\n",
        "    <tr style=\"text-align: right;\">\n",
        "      <th></th>\n",
        "      <th>sseqid_zbf</th>\n",
        "      <th>sseqid_mus</th>\n",
        "      <th>sseqid_amp</th>\n",
        "      <th>sseqid_pmz</th>\n",
        "      <th>gene_tags</th>\n",
        "    </tr>\n",
        "  </thead>\n",
        "  <tbody>\n",
        "    <tr>\n",
        "      <th>comp1000110_c0_seq1</th>\n",
        "      <td>                NaN</td>\n",
        "      <td> ENSMUSP00000120083</td>\n",
        "      <td>                    NaN</td>\n",
        "      <td>                NaN</td>\n",
        "      <td>                                      set([tcea2])</td>\n",
        "    </tr>\n",
        "    <tr>\n",
        "      <th>comp1000460_c0_seq1</th>\n",
        "      <td>                NaN</td>\n",
        "      <td> ENSMUSP00000075191</td>\n",
        "      <td>                    NaN</td>\n",
        "      <td>                NaN</td>\n",
        "      <td>                                       set([agrn])</td>\n",
        "    </tr>\n",
        "    <tr>\n",
        "      <th>comp1000521_c0_seq1</th>\n",
        "      <td> ENSDARP00000072874</td>\n",
        "      <td> ENSMUSP00000099757</td>\n",
        "      <td> tr|C3YMK6|C3YMK6_BRAFL</td>\n",
        "      <td>                NaN</td>\n",
        "      <td>         set([gm15501, loc101055915, rps8a, rps8])</td>\n",
        "    </tr>\n",
        "    <tr>\n",
        "      <th>comp1000548_c0_seq1</th>\n",
        "      <td> ENSDARP00000060004</td>\n",
        "      <td> ENSMUSP00000080523</td>\n",
        "      <td> tr|C3ZH11|C3ZH11_BRAFL</td>\n",
        "      <td>                NaN</td>\n",
        "      <td>                              set([gm6251, rpl32])</td>\n",
        "    </tr>\n",
        "    <tr>\n",
        "      <th>comp1000684_c0_seq1</th>\n",
        "      <td> ENSDARP00000063856</td>\n",
        "      <td> ENSMUSP00000021249</td>\n",
        "      <td>                    NaN</td>\n",
        "      <td>                NaN</td>\n",
        "      <td>                                      set([scrn2])</td>\n",
        "    </tr>\n",
        "    <tr>\n",
        "      <th>comp100109_c0_seq1</th>\n",
        "      <td> ENSDARP00000099766</td>\n",
        "      <td>                NaN</td>\n",
        "      <td>                    NaN</td>\n",
        "      <td>                NaN</td>\n",
        "      <td>                                 set([bx005380.2])</td>\n",
        "    </tr>\n",
        "    <tr>\n",
        "      <th>comp1001500_c0_seq1</th>\n",
        "      <td> ENSDARP00000021016</td>\n",
        "      <td> ENSMUSP00000075178</td>\n",
        "      <td> tr|C3YMF2|C3YMF2_BRAFL</td>\n",
        "      <td>                NaN</td>\n",
        "      <td>                              set([tubb2, tubb2b])</td>\n",
        "    </tr>\n",
        "    <tr>\n",
        "      <th>comp1001543_c0_seq1</th>\n",
        "      <td>                NaN</td>\n",
        "      <td> ENSMUSP00000047639</td>\n",
        "      <td>                    NaN</td>\n",
        "      <td>                NaN</td>\n",
        "      <td>                                     set([mical2])</td>\n",
        "    </tr>\n",
        "    <tr>\n",
        "      <th>comp1001579_c0_seq1</th>\n",
        "      <td>                NaN</td>\n",
        "      <td> ENSMUSP00000044004</td>\n",
        "      <td>                    NaN</td>\n",
        "      <td>                NaN</td>\n",
        "      <td>                                       set([lrp1])</td>\n",
        "    </tr>\n",
        "    <tr>\n",
        "      <th>comp1001692_c0_seq1</th>\n",
        "      <td> ENSDARP00000111123</td>\n",
        "      <td> ENSMUSP00000090697</td>\n",
        "      <td>                    NaN</td>\n",
        "      <td> ENSPMAT00000002146</td>\n",
        "      <td>                     set([fam83g, si:dkey-27o4.1])</td>\n",
        "    </tr>\n",
        "    <tr>\n",
        "      <th>comp1001889_c0_seq1</th>\n",
        "      <td> ENSDARP00000118484</td>\n",
        "      <td> ENSMUSP00000100795</td>\n",
        "      <td> tr|C3Z7J3|C3Z7J3_BRAFL</td>\n",
        "      <td>                NaN</td>\n",
        "      <td>                              set([rpl10l, rpl10])</td>\n",
        "    </tr>\n",
        "    <tr>\n",
        "      <th>comp1001960_c0_seq1</th>\n",
        "      <td> ENSDARP00000096492</td>\n",
        "      <td> ENSMUSP00000001027</td>\n",
        "      <td> tr|C3ZM21|C3ZM21_BRAFL</td>\n",
        "      <td>                NaN</td>\n",
        "      <td>                                       set([aox1])</td>\n",
        "    </tr>\n",
        "    <tr>\n",
        "      <th>comp1002141_c0_seq1</th>\n",
        "      <td>                NaN</td>\n",
        "      <td>                NaN</td>\n",
        "      <td>                    NaN</td>\n",
        "      <td> ENSPMAT00000003649</td>\n",
        "      <td>                                           set([])</td>\n",
        "    </tr>\n",
        "    <tr>\n",
        "      <th>comp1002345_c0_seq1</th>\n",
        "      <td> ENSDARP00000029663</td>\n",
        "      <td> ENSMUSP00000021641</td>\n",
        "      <td>                    NaN</td>\n",
        "      <td>                NaN</td>\n",
        "      <td>                      set([tshz3 (1 of 2), tshz3])</td>\n",
        "    </tr>\n",
        "    <tr>\n",
        "      <th>comp1002437_c0_seq1</th>\n",
        "      <td> ENSDARP00000069032</td>\n",
        "      <td> ENSMUSP00000049770</td>\n",
        "      <td> tr|C3YJV4|C3YJV4_BRAFL</td>\n",
        "      <td>                NaN</td>\n",
        "      <td>                                      set([mars2])</td>\n",
        "    </tr>\n",
        "    <tr>\n",
        "      <th>comp1002586_c0_seq1</th>\n",
        "      <td>                NaN</td>\n",
        "      <td> ENSMUSP00000056121</td>\n",
        "      <td>                    NaN</td>\n",
        "      <td>                NaN</td>\n",
        "      <td>                                       set([wwc2])</td>\n",
        "    </tr>\n",
        "    <tr>\n",
        "      <th>comp1002823_c0_seq1</th>\n",
        "      <td> ENSDARP00000119345</td>\n",
        "      <td> ENSMUSP00000113328</td>\n",
        "      <td> tr|C3ZRZ8|C3ZRZ8_BRAFL</td>\n",
        "      <td>                NaN</td>\n",
        "      <td>                                      set([asb10])</td>\n",
        "    </tr>\n",
        "    <tr>\n",
        "      <th>comp1002855_c0_seq1</th>\n",
        "      <td> ENSDARP00000072300</td>\n",
        "      <td> ENSMUSP00000132102</td>\n",
        "      <td> tr|C3ZJE5|C3ZJE5_BRAFL</td>\n",
        "      <td>                NaN</td>\n",
        "      <td>                    set([rps27, rps27.2, rps27rt])</td>\n",
        "    </tr>\n",
        "    <tr>\n",
        "      <th>comp1002901_c0_seq1</th>\n",
        "      <td> ENSDARP00000060165</td>\n",
        "      <td> ENSMUSP00000034097</td>\n",
        "      <td> tr|C3ZZL9|C3ZZL9_BRAFL</td>\n",
        "      <td>                NaN</td>\n",
        "      <td>                                set([got2a, got2])</td>\n",
        "    </tr>\n",
        "    <tr>\n",
        "      <th>comp1003050_c0_seq1</th>\n",
        "      <td> ENSDARP00000063876</td>\n",
        "      <td> ENSMUSP00000050703</td>\n",
        "      <td> tr|C3YTZ0|C3YTZ0_BRAFL</td>\n",
        "      <td>                NaN</td>\n",
        "      <td>                                      set([prdx6])</td>\n",
        "    </tr>\n",
        "    <tr>\n",
        "      <th>comp1003065_c0_seq1</th>\n",
        "      <td> ENSDARP00000064110</td>\n",
        "      <td> ENSMUSP00000128416</td>\n",
        "      <td> tr|C3Y0H7|C3Y0H7_BRAFL</td>\n",
        "      <td>                NaN</td>\n",
        "      <td>                                  set([faub, fau])</td>\n",
        "    </tr>\n",
        "    <tr>\n",
        "      <th>comp1003150_c0_seq1</th>\n",
        "      <td> ENSDARP00000109303</td>\n",
        "      <td> ENSMUSP00000047978</td>\n",
        "      <td> tr|C3ZZI7|C3ZZI7_BRAFL</td>\n",
        "      <td>                NaN</td>\n",
        "      <td>                                     set([atp2b4])</td>\n",
        "    </tr>\n",
        "    <tr>\n",
        "      <th>comp1003459_c0_seq1</th>\n",
        "      <td> ENSDARP00000110593</td>\n",
        "      <td> ENSMUSP00000110727</td>\n",
        "      <td> tr|C3ZFA2|C3ZFA2_BRAFL</td>\n",
        "      <td>                NaN</td>\n",
        "      <td> set([gm14279, gm11810, rpl35a, gm10237, gm10029])</td>\n",
        "    </tr>\n",
        "    <tr>\n",
        "      <th>comp1003816_c0_seq1</th>\n",
        "      <td> ENSDARP00000052697</td>\n",
        "      <td> ENSMUSP00000136596</td>\n",
        "      <td>                    NaN</td>\n",
        "      <td>                NaN</td>\n",
        "      <td>                          set([loc796753, kcnmb2])</td>\n",
        "    </tr>\n",
        "    <tr>\n",
        "      <th>comp1003943_c0_seq1</th>\n",
        "      <td> ENSDARP00000106359</td>\n",
        "      <td> ENSMUSP00000080854</td>\n",
        "      <td> tr|C3ZTF1|C3ZTF1_BRAFL</td>\n",
        "      <td>                NaN</td>\n",
        "      <td>                      set([rpl5-ps2, rpl5b, rpl5])</td>\n",
        "    </tr>\n",
        "    <tr>\n",
        "      <th>comp1003980_c0_seq1</th>\n",
        "      <td> ENSDARP00000074585</td>\n",
        "      <td> ENSMUSP00000032057</td>\n",
        "      <td> tr|C3YFR3|C3YFR3_BRAFL</td>\n",
        "      <td>                NaN</td>\n",
        "      <td>                                      set([gfpt1])</td>\n",
        "    </tr>\n",
        "    <tr>\n",
        "      <th>comp1004087_c0_seq1</th>\n",
        "      <td> ENSDARP00000045283</td>\n",
        "      <td> ENSMUSP00000046506</td>\n",
        "      <td> tr|C3YCM1|C3YCM1_BRAFL</td>\n",
        "      <td>                NaN</td>\n",
        "      <td>                             set([rpl37, gm13826])</td>\n",
        "    </tr>\n",
        "    <tr>\n",
        "      <th>comp1004409_c0_seq1</th>\n",
        "      <td> ENSDARP00000073586</td>\n",
        "      <td> ENSMUSP00000104730</td>\n",
        "      <td> tr|C3Z1B1|C3Z1B1_BRAFL</td>\n",
        "      <td>                NaN</td>\n",
        "      <td>                                set([cdyl, cdyl2])</td>\n",
        "    </tr>\n",
        "    <tr>\n",
        "      <th>comp1004515_c0_seq1</th>\n",
        "      <td> ENSDARP00000100259</td>\n",
        "      <td> ENSMUSP00000045432</td>\n",
        "      <td> tr|C3XSI8|C3XSI8_BRAFL</td>\n",
        "      <td>                NaN</td>\n",
        "      <td>                           set([mamdc2, tmprss15])</td>\n",
        "    </tr>\n",
        "    <tr>\n",
        "      <th>comp1004530_c0_seq1</th>\n",
        "      <td> ENSDARP00000089478</td>\n",
        "      <td> ENSMUSP00000127270</td>\n",
        "      <td>                    NaN</td>\n",
        "      <td>                NaN</td>\n",
        "      <td>                                      set([naa35])</td>\n",
        "    </tr>\n",
        "    <tr>\n",
        "      <th>comp1004551_c0_seq1</th>\n",
        "      <td> ENSDARP00000024358</td>\n",
        "      <td> ENSMUSP00000047888</td>\n",
        "      <td>                    NaN</td>\n",
        "      <td>                NaN</td>\n",
        "      <td>                          set([cacng5, loc797409])</td>\n",
        "    </tr>\n",
        "    <tr>\n",
        "      <th>comp1004654_c0_seq1</th>\n",
        "      <td> ENSDARP00000028689</td>\n",
        "      <td> ENSMUSP00000132480</td>\n",
        "      <td> tr|C3ZAR6|C3ZAR6_BRAFL</td>\n",
        "      <td>                NaN</td>\n",
        "      <td>                                    set([slc25a3])</td>\n",
        "    </tr>\n",
        "    <tr>\n",
        "      <th>comp100500_c1_seq1</th>\n",
        "      <td>                NaN</td>\n",
        "      <td>                NaN</td>\n",
        "      <td>                    NaN</td>\n",
        "      <td> ENSPMAT00000003112</td>\n",
        "      <td>                                           set([])</td>\n",
        "    </tr>\n",
        "    <tr>\n",
        "      <th>comp1005084_c0_seq1</th>\n",
        "      <td> ENSDARP00000073022</td>\n",
        "      <td> ENSMUSP00000011877</td>\n",
        "      <td> tr|C3Y0N1|C3Y0N1_BRAFL</td>\n",
        "      <td>                NaN</td>\n",
        "      <td>                    set([sptbn1, sptbn4 (2 of 3)])</td>\n",
        "    </tr>\n",
        "    <tr>\n",
        "      <th>comp1005148_c0_seq1</th>\n",
        "      <td>                NaN</td>\n",
        "      <td>                NaN</td>\n",
        "      <td> tr|C3YK69|C3YK69_BRAFL</td>\n",
        "      <td> ENSPMAT00000002624</td>\n",
        "      <td>                                           set([])</td>\n",
        "    </tr>\n",
        "    <tr>\n",
        "      <th>comp1005264_c0_seq1</th>\n",
        "      <td> ENSDARP00000009186</td>\n",
        "      <td>                NaN</td>\n",
        "      <td>                    NaN</td>\n",
        "      <td>                NaN</td>\n",
        "      <td>                                         set([ik])</td>\n",
        "    </tr>\n",
        "    <tr>\n",
        "      <th>comp1005593_c0_seq1</th>\n",
        "      <td> ENSDARP00000004445</td>\n",
        "      <td> ENSMUSP00000130581</td>\n",
        "      <td> tr|C3ZWT9|C3ZWT9_BRAFL</td>\n",
        "      <td>                NaN</td>\n",
        "      <td>                                    set([ralgps2])</td>\n",
        "    </tr>\n",
        "    <tr>\n",
        "      <th>comp1005692_c0_seq1</th>\n",
        "      <td>                NaN</td>\n",
        "      <td> ENSMUSP00000052272</td>\n",
        "      <td>                    NaN</td>\n",
        "      <td>                NaN</td>\n",
        "      <td>                                      set([ccnb3])</td>\n",
        "    </tr>\n",
        "    <tr>\n",
        "      <th>comp10060596_c0_seq1</th>\n",
        "      <td> ENSDARP00000123659</td>\n",
        "      <td> ENSMUSP00000125292</td>\n",
        "      <td> tr|C3XYH6|C3XYH6_BRAFL</td>\n",
        "      <td>                NaN</td>\n",
        "      <td>                                set([tpi1, tpi1b])</td>\n",
        "    </tr>\n",
        "    <tr>\n",
        "      <th>comp1006442_c0_seq1</th>\n",
        "      <td> ENSDARP00000082466</td>\n",
        "      <td> ENSMUSP00000097160</td>\n",
        "      <td>                    NaN</td>\n",
        "      <td>                NaN</td>\n",
        "      <td>                                      set([trpm3])</td>\n",
        "    </tr>\n",
        "    <tr>\n",
        "      <th>comp1006581_c0_seq1</th>\n",
        "      <td> ENSDARP00000119972</td>\n",
        "      <td> ENSMUSP00000121500</td>\n",
        "      <td>                    NaN</td>\n",
        "      <td>                NaN</td>\n",
        "      <td>                                      set([hmcn1])</td>\n",
        "    </tr>\n",
        "    <tr>\n",
        "      <th>comp1006621_c0_seq1</th>\n",
        "      <td> ENSDARP00000067893</td>\n",
        "      <td> ENSMUSP00000072227</td>\n",
        "      <td> tr|C3Z880|C3Z880_BRAFL</td>\n",
        "      <td>                NaN</td>\n",
        "      <td>              set([si:ch211-113a14.16, hist1h2aa])</td>\n",
        "    </tr>\n",
        "    <tr>\n",
        "      <th>comp1006643_c0_seq1</th>\n",
        "      <td>                NaN</td>\n",
        "      <td> ENSMUSP00000033941</td>\n",
        "      <td>                    NaN</td>\n",
        "      <td>                NaN</td>\n",
        "      <td>                                       set([plat])</td>\n",
        "    </tr>\n",
        "    <tr>\n",
        "      <th>comp1006674_c0_seq1</th>\n",
        "      <td> ENSDARP00000118954</td>\n",
        "      <td> ENSMUSP00000118766</td>\n",
        "      <td>                    NaN</td>\n",
        "      <td>                NaN</td>\n",
        "      <td>                            set([lsm14aa, lsm14a])</td>\n",
        "    </tr>\n",
        "    <tr>\n",
        "      <th>comp1006680_c0_seq1</th>\n",
        "      <td> ENSDARP00000077698</td>\n",
        "      <td> ENSMUSP00000002889</td>\n",
        "      <td> tr|C3YF92|C3YF92_BRAFL</td>\n",
        "      <td>                NaN</td>\n",
        "      <td>                                       set([flii])</td>\n",
        "    </tr>\n",
        "    <tr>\n",
        "      <th>comp1006711_c0_seq1</th>\n",
        "      <td> ENSDARP00000089458</td>\n",
        "      <td> ENSMUSP00000019456</td>\n",
        "      <td>                    NaN</td>\n",
        "      <td>                NaN</td>\n",
        "      <td>                         set([grb7, loc100334415])</td>\n",
        "    </tr>\n",
        "    <tr>\n",
        "      <th>comp1006805_c0_seq1</th>\n",
        "      <td> ENSDARP00000101419</td>\n",
        "      <td> ENSMUSP00000034961</td>\n",
        "      <td>                    NaN</td>\n",
        "      <td>                NaN</td>\n",
        "      <td>                                     set([igdcc3])</td>\n",
        "    </tr>\n",
        "    <tr>\n",
        "      <th>comp1006838_c0_seq1</th>\n",
        "      <td> ENSDARP00000114325</td>\n",
        "      <td> ENSMUSP00000121507</td>\n",
        "      <td> tr|C3ZLI2|C3ZLI2_BRAFL</td>\n",
        "      <td>                NaN</td>\n",
        "      <td>                            set([stxbp5a, stxbp5])</td>\n",
        "    </tr>\n",
        "    <tr>\n",
        "      <th>comp1006857_c0_seq1</th>\n",
        "      <td> ENSDARP00000060996</td>\n",
        "      <td> ENSMUSP00000108931</td>\n",
        "      <td> tr|C3YKZ0|C3YKZ0_BRAFL</td>\n",
        "      <td> ENSPMAT00000007818</td>\n",
        "      <td>                             set([b3gnt7, b3gnt9])</td>\n",
        "    </tr>\n",
        "    <tr>\n",
        "      <th>comp1006864_c0_seq1</th>\n",
        "      <td> ENSDARP00000062934</td>\n",
        "      <td> ENSMUSP00000040707</td>\n",
        "      <td> tr|C3YX68|C3YX68_BRAFL</td>\n",
        "      <td>                NaN</td>\n",
        "      <td>                                       set([heca])</td>\n",
        "    </tr>\n",
        "    <tr>\n",
        "      <th>comp1006880_c0_seq1</th>\n",
        "      <td> ENSDARP00000101605</td>\n",
        "      <td> ENSMUSP00000131474</td>\n",
        "      <td> tr|C3Z7B1|C3Z7B1_BRAFL</td>\n",
        "      <td>                NaN</td>\n",
        "      <td>      set([gm10420, gm8842, gm8841, rps2, gm6139])</td>\n",
        "    </tr>\n",
        "    <tr>\n",
        "      <th>comp10069892_c0_seq1</th>\n",
        "      <td> ENSDARP00000111820</td>\n",
        "      <td> ENSMUSP00000081864</td>\n",
        "      <td> tr|C3YJ75|C3YJ75_BRAFL</td>\n",
        "      <td>                NaN</td>\n",
        "      <td>               set([dnah9l, dnah17, loc100536399])</td>\n",
        "    </tr>\n",
        "    <tr>\n",
        "      <th>comp1007038_c0_seq1</th>\n",
        "      <td> ENSDARP00000045696</td>\n",
        "      <td> ENSMUSP00000030051</td>\n",
        "      <td> tr|C3YTF6|C3YTF6_BRAFL</td>\n",
        "      <td>                NaN</td>\n",
        "      <td>                            set([txn1, zgc:56493])</td>\n",
        "    </tr>\n",
        "    <tr>\n",
        "      <th>comp1007082_c0_seq1</th>\n",
        "      <td> ENSDARP00000072901</td>\n",
        "      <td> ENSMUSP00000040230</td>\n",
        "      <td> tr|C3YB99|C3YB99_BRAFL</td>\n",
        "      <td> ENSPMAT00000007181</td>\n",
        "      <td>                          set([sostdc1b, sostdc1])</td>\n",
        "    </tr>\n",
        "    <tr>\n",
        "      <th>comp1007093_c0_seq1</th>\n",
        "      <td>                NaN</td>\n",
        "      <td> ENSMUSP00000019069</td>\n",
        "      <td>                    NaN</td>\n",
        "      <td>                NaN</td>\n",
        "      <td>                                     set([heatr9])</td>\n",
        "    </tr>\n",
        "    <tr>\n",
        "      <th>comp1007112_c0_seq1</th>\n",
        "      <td> ENSDARP00000108114</td>\n",
        "      <td> ENSMUSP00000136793</td>\n",
        "      <td>                    NaN</td>\n",
        "      <td>                NaN</td>\n",
        "      <td>          set([loc101886336, loc101886226, atp9a])</td>\n",
        "    </tr>\n",
        "    <tr>\n",
        "      <th>comp1007133_c0_seq1</th>\n",
        "      <td> ENSDARP00000054689</td>\n",
        "      <td> ENSMUSP00000109997</td>\n",
        "      <td>                    NaN</td>\n",
        "      <td>                NaN</td>\n",
        "      <td>                           set([st3gal6, st3gal5])</td>\n",
        "    </tr>\n",
        "    <tr>\n",
        "      <th>comp1007145_c0_seq1</th>\n",
        "      <td> ENSDARP00000111664</td>\n",
        "      <td> ENSMUSP00000107727</td>\n",
        "      <td>                    NaN</td>\n",
        "      <td>                NaN</td>\n",
        "      <td>                              set([pbrm1l, pbrm1])</td>\n",
        "    </tr>\n",
        "    <tr>\n",
        "      <th>comp100714_c0_seq1</th>\n",
        "      <td> ENSDARP00000011821</td>\n",
        "      <td>                NaN</td>\n",
        "      <td>                    NaN</td>\n",
        "      <td>                NaN</td>\n",
        "      <td>                                 set([zgc:103511])</td>\n",
        "    </tr>\n",
        "    <tr>\n",
        "      <th>comp1007159_c0_seq1</th>\n",
        "      <td> ENSDARP00000100589</td>\n",
        "      <td> ENSMUSP00000038719</td>\n",
        "      <td> tr|C3YDF0|C3YDF0_BRAFL</td>\n",
        "      <td>                NaN</td>\n",
        "      <td>                   set([trim14 (9 of 17), trim14])</td>\n",
        "    </tr>\n",
        "    <tr>\n",
        "      <th></th>\n",
        "      <td>...</td>\n",
        "      <td>...</td>\n",
        "      <td>...</td>\n",
        "      <td>...</td>\n",
        "      <td>...</td>\n",
        "    </tr>\n",
        "  </tbody>\n",
        "</table>\n",
        "<p>172362 rows \u00d7 5 columns</p>\n",
        "</div>"
       ],
       "metadata": {},
       "output_type": "pyout",
       "prompt_number": 290,
       "text": [
        "                              sseqid_zbf          sseqid_mus  \\\n",
        "comp1000110_c0_seq1                  NaN  ENSMUSP00000120083   \n",
        "comp1000460_c0_seq1                  NaN  ENSMUSP00000075191   \n",
        "comp1000521_c0_seq1   ENSDARP00000072874  ENSMUSP00000099757   \n",
        "comp1000548_c0_seq1   ENSDARP00000060004  ENSMUSP00000080523   \n",
        "comp1000684_c0_seq1   ENSDARP00000063856  ENSMUSP00000021249   \n",
        "comp100109_c0_seq1    ENSDARP00000099766                 NaN   \n",
        "comp1001500_c0_seq1   ENSDARP00000021016  ENSMUSP00000075178   \n",
        "comp1001543_c0_seq1                  NaN  ENSMUSP00000047639   \n",
        "comp1001579_c0_seq1                  NaN  ENSMUSP00000044004   \n",
        "comp1001692_c0_seq1   ENSDARP00000111123  ENSMUSP00000090697   \n",
        "comp1001889_c0_seq1   ENSDARP00000118484  ENSMUSP00000100795   \n",
        "comp1001960_c0_seq1   ENSDARP00000096492  ENSMUSP00000001027   \n",
        "comp1002141_c0_seq1                  NaN                 NaN   \n",
        "comp1002345_c0_seq1   ENSDARP00000029663  ENSMUSP00000021641   \n",
        "comp1002437_c0_seq1   ENSDARP00000069032  ENSMUSP00000049770   \n",
        "comp1002586_c0_seq1                  NaN  ENSMUSP00000056121   \n",
        "comp1002823_c0_seq1   ENSDARP00000119345  ENSMUSP00000113328   \n",
        "comp1002855_c0_seq1   ENSDARP00000072300  ENSMUSP00000132102   \n",
        "comp1002901_c0_seq1   ENSDARP00000060165  ENSMUSP00000034097   \n",
        "comp1003050_c0_seq1   ENSDARP00000063876  ENSMUSP00000050703   \n",
        "comp1003065_c0_seq1   ENSDARP00000064110  ENSMUSP00000128416   \n",
        "comp1003150_c0_seq1   ENSDARP00000109303  ENSMUSP00000047978   \n",
        "comp1003459_c0_seq1   ENSDARP00000110593  ENSMUSP00000110727   \n",
        "comp1003816_c0_seq1   ENSDARP00000052697  ENSMUSP00000136596   \n",
        "comp1003943_c0_seq1   ENSDARP00000106359  ENSMUSP00000080854   \n",
        "comp1003980_c0_seq1   ENSDARP00000074585  ENSMUSP00000032057   \n",
        "comp1004087_c0_seq1   ENSDARP00000045283  ENSMUSP00000046506   \n",
        "comp1004409_c0_seq1   ENSDARP00000073586  ENSMUSP00000104730   \n",
        "comp1004515_c0_seq1   ENSDARP00000100259  ENSMUSP00000045432   \n",
        "comp1004530_c0_seq1   ENSDARP00000089478  ENSMUSP00000127270   \n",
        "comp1004551_c0_seq1   ENSDARP00000024358  ENSMUSP00000047888   \n",
        "comp1004654_c0_seq1   ENSDARP00000028689  ENSMUSP00000132480   \n",
        "comp100500_c1_seq1                   NaN                 NaN   \n",
        "comp1005084_c0_seq1   ENSDARP00000073022  ENSMUSP00000011877   \n",
        "comp1005148_c0_seq1                  NaN                 NaN   \n",
        "comp1005264_c0_seq1   ENSDARP00000009186                 NaN   \n",
        "comp1005593_c0_seq1   ENSDARP00000004445  ENSMUSP00000130581   \n",
        "comp1005692_c0_seq1                  NaN  ENSMUSP00000052272   \n",
        "comp10060596_c0_seq1  ENSDARP00000123659  ENSMUSP00000125292   \n",
        "comp1006442_c0_seq1   ENSDARP00000082466  ENSMUSP00000097160   \n",
        "comp1006581_c0_seq1   ENSDARP00000119972  ENSMUSP00000121500   \n",
        "comp1006621_c0_seq1   ENSDARP00000067893  ENSMUSP00000072227   \n",
        "comp1006643_c0_seq1                  NaN  ENSMUSP00000033941   \n",
        "comp1006674_c0_seq1   ENSDARP00000118954  ENSMUSP00000118766   \n",
        "comp1006680_c0_seq1   ENSDARP00000077698  ENSMUSP00000002889   \n",
        "comp1006711_c0_seq1   ENSDARP00000089458  ENSMUSP00000019456   \n",
        "comp1006805_c0_seq1   ENSDARP00000101419  ENSMUSP00000034961   \n",
        "comp1006838_c0_seq1   ENSDARP00000114325  ENSMUSP00000121507   \n",
        "comp1006857_c0_seq1   ENSDARP00000060996  ENSMUSP00000108931   \n",
        "comp1006864_c0_seq1   ENSDARP00000062934  ENSMUSP00000040707   \n",
        "comp1006880_c0_seq1   ENSDARP00000101605  ENSMUSP00000131474   \n",
        "comp10069892_c0_seq1  ENSDARP00000111820  ENSMUSP00000081864   \n",
        "comp1007038_c0_seq1   ENSDARP00000045696  ENSMUSP00000030051   \n",
        "comp1007082_c0_seq1   ENSDARP00000072901  ENSMUSP00000040230   \n",
        "comp1007093_c0_seq1                  NaN  ENSMUSP00000019069   \n",
        "comp1007112_c0_seq1   ENSDARP00000108114  ENSMUSP00000136793   \n",
        "comp1007133_c0_seq1   ENSDARP00000054689  ENSMUSP00000109997   \n",
        "comp1007145_c0_seq1   ENSDARP00000111664  ENSMUSP00000107727   \n",
        "comp100714_c0_seq1    ENSDARP00000011821                 NaN   \n",
        "comp1007159_c0_seq1   ENSDARP00000100589  ENSMUSP00000038719   \n",
        "                                     ...                 ...   \n",
        "\n",
        "                                  sseqid_amp          sseqid_pmz  \\\n",
        "comp1000110_c0_seq1                      NaN                 NaN   \n",
        "comp1000460_c0_seq1                      NaN                 NaN   \n",
        "comp1000521_c0_seq1   tr|C3YMK6|C3YMK6_BRAFL                 NaN   \n",
        "comp1000548_c0_seq1   tr|C3ZH11|C3ZH11_BRAFL                 NaN   \n",
        "comp1000684_c0_seq1                      NaN                 NaN   \n",
        "comp100109_c0_seq1                       NaN                 NaN   \n",
        "comp1001500_c0_seq1   tr|C3YMF2|C3YMF2_BRAFL                 NaN   \n",
        "comp1001543_c0_seq1                      NaN                 NaN   \n",
        "comp1001579_c0_seq1                      NaN                 NaN   \n",
        "comp1001692_c0_seq1                      NaN  ENSPMAT00000002146   \n",
        "comp1001889_c0_seq1   tr|C3Z7J3|C3Z7J3_BRAFL                 NaN   \n",
        "comp1001960_c0_seq1   tr|C3ZM21|C3ZM21_BRAFL                 NaN   \n",
        "comp1002141_c0_seq1                      NaN  ENSPMAT00000003649   \n",
        "comp1002345_c0_seq1                      NaN                 NaN   \n",
        "comp1002437_c0_seq1   tr|C3YJV4|C3YJV4_BRAFL                 NaN   \n",
        "comp1002586_c0_seq1                      NaN                 NaN   \n",
        "comp1002823_c0_seq1   tr|C3ZRZ8|C3ZRZ8_BRAFL                 NaN   \n",
        "comp1002855_c0_seq1   tr|C3ZJE5|C3ZJE5_BRAFL                 NaN   \n",
        "comp1002901_c0_seq1   tr|C3ZZL9|C3ZZL9_BRAFL                 NaN   \n",
        "comp1003050_c0_seq1   tr|C3YTZ0|C3YTZ0_BRAFL                 NaN   \n",
        "comp1003065_c0_seq1   tr|C3Y0H7|C3Y0H7_BRAFL                 NaN   \n",
        "comp1003150_c0_seq1   tr|C3ZZI7|C3ZZI7_BRAFL                 NaN   \n",
        "comp1003459_c0_seq1   tr|C3ZFA2|C3ZFA2_BRAFL                 NaN   \n",
        "comp1003816_c0_seq1                      NaN                 NaN   \n",
        "comp1003943_c0_seq1   tr|C3ZTF1|C3ZTF1_BRAFL                 NaN   \n",
        "comp1003980_c0_seq1   tr|C3YFR3|C3YFR3_BRAFL                 NaN   \n",
        "comp1004087_c0_seq1   tr|C3YCM1|C3YCM1_BRAFL                 NaN   \n",
        "comp1004409_c0_seq1   tr|C3Z1B1|C3Z1B1_BRAFL                 NaN   \n",
        "comp1004515_c0_seq1   tr|C3XSI8|C3XSI8_BRAFL                 NaN   \n",
        "comp1004530_c0_seq1                      NaN                 NaN   \n",
        "comp1004551_c0_seq1                      NaN                 NaN   \n",
        "comp1004654_c0_seq1   tr|C3ZAR6|C3ZAR6_BRAFL                 NaN   \n",
        "comp100500_c1_seq1                       NaN  ENSPMAT00000003112   \n",
        "comp1005084_c0_seq1   tr|C3Y0N1|C3Y0N1_BRAFL                 NaN   \n",
        "comp1005148_c0_seq1   tr|C3YK69|C3YK69_BRAFL  ENSPMAT00000002624   \n",
        "comp1005264_c0_seq1                      NaN                 NaN   \n",
        "comp1005593_c0_seq1   tr|C3ZWT9|C3ZWT9_BRAFL                 NaN   \n",
        "comp1005692_c0_seq1                      NaN                 NaN   \n",
        "comp10060596_c0_seq1  tr|C3XYH6|C3XYH6_BRAFL                 NaN   \n",
        "comp1006442_c0_seq1                      NaN                 NaN   \n",
        "comp1006581_c0_seq1                      NaN                 NaN   \n",
        "comp1006621_c0_seq1   tr|C3Z880|C3Z880_BRAFL                 NaN   \n",
        "comp1006643_c0_seq1                      NaN                 NaN   \n",
        "comp1006674_c0_seq1                      NaN                 NaN   \n",
        "comp1006680_c0_seq1   tr|C3YF92|C3YF92_BRAFL                 NaN   \n",
        "comp1006711_c0_seq1                      NaN                 NaN   \n",
        "comp1006805_c0_seq1                      NaN                 NaN   \n",
        "comp1006838_c0_seq1   tr|C3ZLI2|C3ZLI2_BRAFL                 NaN   \n",
        "comp1006857_c0_seq1   tr|C3YKZ0|C3YKZ0_BRAFL  ENSPMAT00000007818   \n",
        "comp1006864_c0_seq1   tr|C3YX68|C3YX68_BRAFL                 NaN   \n",
        "comp1006880_c0_seq1   tr|C3Z7B1|C3Z7B1_BRAFL                 NaN   \n",
        "comp10069892_c0_seq1  tr|C3YJ75|C3YJ75_BRAFL                 NaN   \n",
        "comp1007038_c0_seq1   tr|C3YTF6|C3YTF6_BRAFL                 NaN   \n",
        "comp1007082_c0_seq1   tr|C3YB99|C3YB99_BRAFL  ENSPMAT00000007181   \n",
        "comp1007093_c0_seq1                      NaN                 NaN   \n",
        "comp1007112_c0_seq1                      NaN                 NaN   \n",
        "comp1007133_c0_seq1                      NaN                 NaN   \n",
        "comp1007145_c0_seq1                      NaN                 NaN   \n",
        "comp100714_c0_seq1                       NaN                 NaN   \n",
        "comp1007159_c0_seq1   tr|C3YDF0|C3YDF0_BRAFL                 NaN   \n",
        "                                         ...                 ...   \n",
        "\n",
        "                                                              gene_tags  \n",
        "comp1000110_c0_seq1                                        set([tcea2])  \n",
        "comp1000460_c0_seq1                                         set([agrn])  \n",
        "comp1000521_c0_seq1           set([gm15501, loc101055915, rps8a, rps8])  \n",
        "comp1000548_c0_seq1                                set([gm6251, rpl32])  \n",
        "comp1000684_c0_seq1                                        set([scrn2])  \n",
        "comp100109_c0_seq1                                    set([bx005380.2])  \n",
        "comp1001500_c0_seq1                                set([tubb2, tubb2b])  \n",
        "comp1001543_c0_seq1                                       set([mical2])  \n",
        "comp1001579_c0_seq1                                         set([lrp1])  \n",
        "comp1001692_c0_seq1                       set([fam83g, si:dkey-27o4.1])  \n",
        "comp1001889_c0_seq1                                set([rpl10l, rpl10])  \n",
        "comp1001960_c0_seq1                                         set([aox1])  \n",
        "comp1002141_c0_seq1                                             set([])  \n",
        "comp1002345_c0_seq1                        set([tshz3 (1 of 2), tshz3])  \n",
        "comp1002437_c0_seq1                                        set([mars2])  \n",
        "comp1002586_c0_seq1                                         set([wwc2])  \n",
        "comp1002823_c0_seq1                                        set([asb10])  \n",
        "comp1002855_c0_seq1                      set([rps27, rps27.2, rps27rt])  \n",
        "comp1002901_c0_seq1                                  set([got2a, got2])  \n",
        "comp1003050_c0_seq1                                        set([prdx6])  \n",
        "comp1003065_c0_seq1                                    set([faub, fau])  \n",
        "comp1003150_c0_seq1                                       set([atp2b4])  \n",
        "comp1003459_c0_seq1   set([gm14279, gm11810, rpl35a, gm10237, gm10029])  \n",
        "comp1003816_c0_seq1                            set([loc796753, kcnmb2])  \n",
        "comp1003943_c0_seq1                        set([rpl5-ps2, rpl5b, rpl5])  \n",
        "comp1003980_c0_seq1                                        set([gfpt1])  \n",
        "comp1004087_c0_seq1                               set([rpl37, gm13826])  \n",
        "comp1004409_c0_seq1                                  set([cdyl, cdyl2])  \n",
        "comp1004515_c0_seq1                             set([mamdc2, tmprss15])  \n",
        "comp1004530_c0_seq1                                        set([naa35])  \n",
        "comp1004551_c0_seq1                            set([cacng5, loc797409])  \n",
        "comp1004654_c0_seq1                                      set([slc25a3])  \n",
        "comp100500_c1_seq1                                              set([])  \n",
        "comp1005084_c0_seq1                      set([sptbn1, sptbn4 (2 of 3)])  \n",
        "comp1005148_c0_seq1                                             set([])  \n",
        "comp1005264_c0_seq1                                           set([ik])  \n",
        "comp1005593_c0_seq1                                      set([ralgps2])  \n",
        "comp1005692_c0_seq1                                        set([ccnb3])  \n",
        "comp10060596_c0_seq1                                 set([tpi1, tpi1b])  \n",
        "comp1006442_c0_seq1                                        set([trpm3])  \n",
        "comp1006581_c0_seq1                                        set([hmcn1])  \n",
        "comp1006621_c0_seq1                set([si:ch211-113a14.16, hist1h2aa])  \n",
        "comp1006643_c0_seq1                                         set([plat])  \n",
        "comp1006674_c0_seq1                              set([lsm14aa, lsm14a])  \n",
        "comp1006680_c0_seq1                                         set([flii])  \n",
        "comp1006711_c0_seq1                           set([grb7, loc100334415])  \n",
        "comp1006805_c0_seq1                                       set([igdcc3])  \n",
        "comp1006838_c0_seq1                              set([stxbp5a, stxbp5])  \n",
        "comp1006857_c0_seq1                               set([b3gnt7, b3gnt9])  \n",
        "comp1006864_c0_seq1                                         set([heca])  \n",
        "comp1006880_c0_seq1        set([gm10420, gm8842, gm8841, rps2, gm6139])  \n",
        "comp10069892_c0_seq1                set([dnah9l, dnah17, loc100536399])  \n",
        "comp1007038_c0_seq1                              set([txn1, zgc:56493])  \n",
        "comp1007082_c0_seq1                            set([sostdc1b, sostdc1])  \n",
        "comp1007093_c0_seq1                                       set([heatr9])  \n",
        "comp1007112_c0_seq1            set([loc101886336, loc101886226, atp9a])  \n",
        "comp1007133_c0_seq1                             set([st3gal6, st3gal5])  \n",
        "comp1007145_c0_seq1                                set([pbrm1l, pbrm1])  \n",
        "comp100714_c0_seq1                                    set([zgc:103511])  \n",
        "comp1007159_c0_seq1                     set([trim14 (9 of 17), trim14])  \n",
        "                                                                    ...  \n",
        "\n",
        "[172362 rows x 5 columns]"
       ]
      }
     ],
     "prompt_number": 290
    },
    {
     "cell_type": "code",
     "collapsed": false,
     "input": [
      "def uniquify_genes(hit_query, hits=hits, backcheck=True):\n",
      "\n",
      "    gene_tr_dict = dd(list)\n",
      "    for tr, gene_set in hits[hit_query].gene_tags.iteritems():\n",
      "        for g in gene_set:\n",
      "            gene_tr_dict[g].append(tr)\n",
      "\n",
      "    # We want to double check with the remote serve that these gene tags are not actually in known lamprey resources\n",
      "    tmp = []\n",
      "    for d in mg.querymany(gene_tr_dict.keys(), scopes='symbol', species='7757'):\n",
      "        if ('notfound' in d) == backcheck:\n",
      "            tmp.append(d['query'])\n",
      "        \n",
      "    # Now using our queryies not found in lamprey, get their gene info from other species\n",
      "    geneinfo = mg.querymany(tmp, scopes='symbol', returnall=False)\n",
      "\n",
      "    # Remove duplicates from the queries\n",
      "    gene_tags = set(tmp)\n",
      "    dedupe = []\n",
      "    for gene in geneinfo:\n",
      "        if gene['query'] in gene_tags and 'notfound' not in gene:\n",
      "            dedupe.append(gene)\n",
      "            try:\n",
      "                gene_tags.remove(gene['query'])\n",
      "            except KeyError:\n",
      "                pass\n",
      "\n",
      "    return gene_tr_dict, pd.DataFrame([{'query':d.get('query'), 'name':d.get('name'), 'taxid': d.get('taxid')} for d in dedupe], \n",
      "                        index=[d['symbol'] for d in dedupe])"
     ],
     "language": "python",
     "metadata": {},
     "outputs": [],
     "prompt_number": 323
    },
    {
     "cell_type": "code",
     "collapsed": false,
     "input": [
      "ng_tr_dict, ng_df = uniquify_genes(not_genome)"
     ],
     "language": "python",
     "metadata": {},
     "outputs": [
      {
       "output_type": "stream",
       "stream": "stdout",
       "text": [
        "querying 1-1000...done."
       ]
      },
      {
       "output_type": "stream",
       "stream": "stdout",
       "text": [
        "\n",
        "querying 1001-2000..."
       ]
      },
      {
       "output_type": "stream",
       "stream": "stdout",
       "text": [
        "done."
       ]
      },
      {
       "output_type": "stream",
       "stream": "stdout",
       "text": [
        "\n",
        "querying 2001-3000..."
       ]
      },
      {
       "output_type": "stream",
       "stream": "stdout",
       "text": [
        "done."
       ]
      },
      {
       "output_type": "stream",
       "stream": "stdout",
       "text": [
        "\n",
        "querying 3001-4000..."
       ]
      },
      {
       "output_type": "stream",
       "stream": "stdout",
       "text": [
        "done."
       ]
      },
      {
       "output_type": "stream",
       "stream": "stdout",
       "text": [
        "\n",
        "querying 4001-5000..."
       ]
      },
      {
       "output_type": "stream",
       "stream": "stdout",
       "text": [
        "done."
       ]
      },
      {
       "output_type": "stream",
       "stream": "stdout",
       "text": [
        "\n",
        "querying 5001-6000..."
       ]
      },
      {
       "output_type": "stream",
       "stream": "stdout",
       "text": [
        "done."
       ]
      },
      {
       "output_type": "stream",
       "stream": "stdout",
       "text": [
        "\n",
        "querying 6001-7000..."
       ]
      },
      {
       "output_type": "stream",
       "stream": "stdout",
       "text": [
        "done."
       ]
      },
      {
       "output_type": "stream",
       "stream": "stdout",
       "text": [
        "\n",
        "querying 7001-8000..."
       ]
      },
      {
       "output_type": "stream",
       "stream": "stdout",
       "text": [
        "done."
       ]
      },
      {
       "output_type": "stream",
       "stream": "stdout",
       "text": [
        "\n",
        "querying 8001-9000..."
       ]
      },
      {
       "output_type": "stream",
       "stream": "stdout",
       "text": [
        "done."
       ]
      },
      {
       "output_type": "stream",
       "stream": "stdout",
       "text": [
        "\n",
        "querying 9001-9296..."
       ]
      },
      {
       "output_type": "stream",
       "stream": "stdout",
       "text": [
        "done."
       ]
      },
      {
       "output_type": "stream",
       "stream": "stdout",
       "text": [
        "\n",
        "Finished.\n",
        "18 input query terms found dup hits:\n",
        "\t[(u'mprip', 2), (u'heatr1', 2), (u'mettl16', 2), (u'psmd2', 2), (u'trim14', 2), (u'nebl', 2), (u'kif\n",
        "7694 input query terms found no hit:\n",
        "\t[u'loc558520', u'rab1ba', u'gm11810', u'mfhas1', u'vps53', u'vps52', u'lamc1', u'krtap5-1', u'loc100\n",
        "Pass \"returnall=True\" to return complete lists of duplicate or missing query terms.\n",
        "querying 1-1000...done."
       ]
      },
      {
       "output_type": "stream",
       "stream": "stdout",
       "text": [
        "\n",
        "querying 1001-2000..."
       ]
      },
      {
       "output_type": "stream",
       "stream": "stdout",
       "text": [
        "done."
       ]
      },
      {
       "output_type": "stream",
       "stream": "stdout",
       "text": [
        "\n",
        "querying 2001-3000..."
       ]
      },
      {
       "output_type": "stream",
       "stream": "stdout",
       "text": [
        "done."
       ]
      },
      {
       "output_type": "stream",
       "stream": "stdout",
       "text": [
        "\n",
        "querying 3001-4000..."
       ]
      },
      {
       "output_type": "stream",
       "stream": "stdout",
       "text": [
        "done."
       ]
      },
      {
       "output_type": "stream",
       "stream": "stdout",
       "text": [
        "\n",
        "querying 4001-5000..."
       ]
      },
      {
       "output_type": "stream",
       "stream": "stdout",
       "text": [
        "done."
       ]
      },
      {
       "output_type": "stream",
       "stream": "stdout",
       "text": [
        "\n",
        "querying 5001-6000..."
       ]
      },
      {
       "output_type": "stream",
       "stream": "stdout",
       "text": [
        "done."
       ]
      },
      {
       "output_type": "stream",
       "stream": "stdout",
       "text": [
        "\n",
        "querying 6001-7000..."
       ]
      },
      {
       "output_type": "stream",
       "stream": "stdout",
       "text": [
        "done."
       ]
      },
      {
       "output_type": "stream",
       "stream": "stdout",
       "text": [
        "\n",
        "querying 7001-7694..."
       ]
      },
      {
       "output_type": "stream",
       "stream": "stdout",
       "text": [
        "done."
       ]
      },
      {
       "output_type": "stream",
       "stream": "stdout",
       "text": [
        "\n",
        "Finished.\n",
        "4518 input query terms found dup hits:\n",
        "\t[(u'syncrip', 3), (u'ppapdc3', 3), (u'plcb3', 3), (u'gm4877', 2), (u'pdia6', 3), (u'scrt2', 3), (u'c\n",
        "2819 input query terms found no hit:\n",
        "\t[u'loc558520', u'rab1ba', u'loc100538297', u'xpo1a', u'ap1m3', u'si:dkey-30f3.1', u'atxn1b', u'gcdhl\n",
        "Pass \"returnall=True\" to return complete lists of duplicate or missing query terms.\n"
       ]
      }
     ],
     "prompt_number": 288
    },
    {
     "cell_type": "code",
     "collapsed": false,
     "input": [
      "ng_tr_falsebackcheck, ng_df_falsebackcheck = uniquify_genes(not_genome, backcheck=False)"
     ],
     "language": "python",
     "metadata": {},
     "outputs": [
      {
       "output_type": "stream",
       "stream": "stdout",
       "text": [
        "querying 1-1000...done."
       ]
      },
      {
       "output_type": "stream",
       "stream": "stdout",
       "text": [
        "\n",
        "querying 1001-2000..."
       ]
      },
      {
       "output_type": "stream",
       "stream": "stdout",
       "text": [
        "done."
       ]
      },
      {
       "output_type": "stream",
       "stream": "stdout",
       "text": [
        "\n",
        "querying 2001-3000..."
       ]
      },
      {
       "output_type": "stream",
       "stream": "stdout",
       "text": [
        "done."
       ]
      },
      {
       "output_type": "stream",
       "stream": "stdout",
       "text": [
        "\n",
        "querying 3001-4000..."
       ]
      },
      {
       "output_type": "stream",
       "stream": "stdout",
       "text": [
        "done."
       ]
      },
      {
       "output_type": "stream",
       "stream": "stdout",
       "text": [
        "\n",
        "querying 4001-5000..."
       ]
      },
      {
       "output_type": "stream",
       "stream": "stdout",
       "text": [
        "done."
       ]
      },
      {
       "output_type": "stream",
       "stream": "stdout",
       "text": [
        "\n",
        "querying 5001-6000..."
       ]
      },
      {
       "output_type": "stream",
       "stream": "stdout",
       "text": [
        "done."
       ]
      },
      {
       "output_type": "stream",
       "stream": "stdout",
       "text": [
        "\n",
        "querying 6001-7000..."
       ]
      },
      {
       "output_type": "stream",
       "stream": "stdout",
       "text": [
        "done."
       ]
      },
      {
       "output_type": "stream",
       "stream": "stdout",
       "text": [
        "\n",
        "querying 7001-8000..."
       ]
      },
      {
       "output_type": "stream",
       "stream": "stdout",
       "text": [
        "done."
       ]
      },
      {
       "output_type": "stream",
       "stream": "stdout",
       "text": [
        "\n",
        "querying 8001-9000..."
       ]
      },
      {
       "output_type": "stream",
       "stream": "stdout",
       "text": [
        "done."
       ]
      },
      {
       "output_type": "stream",
       "stream": "stdout",
       "text": [
        "\n",
        "querying 9001-9296..."
       ]
      },
      {
       "output_type": "stream",
       "stream": "stdout",
       "text": [
        "done."
       ]
      },
      {
       "output_type": "stream",
       "stream": "stdout",
       "text": [
        "\n",
        "Finished.\n",
        "18 input query terms found dup hits:\n",
        "\t[(u'mprip', 2), (u'heatr1', 2), (u'mettl16', 2), (u'psmd2', 2), (u'trim14', 2), (u'nebl', 2), (u'kif\n",
        "7694 input query terms found no hit:\n",
        "\t[u'loc558520', u'rab1ba', u'gm11810', u'mfhas1', u'vps53', u'vps52', u'lamc1', u'krtap5-1', u'loc100\n",
        "Pass \"returnall=True\" to return complete lists of duplicate or missing query terms.\n",
        "querying 1-1000...done."
       ]
      },
      {
       "output_type": "stream",
       "stream": "stdout",
       "text": [
        "\n",
        "querying 1001-1869..."
       ]
      },
      {
       "output_type": "stream",
       "stream": "stdout",
       "text": [
        "done."
       ]
      },
      {
       "output_type": "stream",
       "stream": "stdout",
       "text": [
        "\n",
        "Finished.\n",
        "1423 input query terms found dup hits:\n",
        "\t[(u'plcb4', 3), (u'il6st', 3), (u'fig4', 3), (u'ttc28', 3), (u'ttc26', 3), (u'dera', 3), (u'alk', 3)\n",
        "414 input query terms found no hit:\n",
        "\t[u'cacna1bb', u'cylda', u'cnnm2a', u'gramd2a', u'glud1b', u'bcl11aa', u'rrbp1a', u'prkcda', u'col5a3\n",
        "Pass \"returnall=True\" to return complete lists of duplicate or missing query terms.\n"
       ]
      }
     ],
     "prompt_number": 324
    },
    {
     "cell_type": "code",
     "collapsed": false,
     "input": [
      "ng_df_falsebackcheck"
     ],
     "language": "python",
     "metadata": {},
     "outputs": [
      {
       "html": [
        "<div style=\"max-height:1000px;max-width:1500px;overflow:auto;\">\n",
        "<table border=\"1\" class=\"dataframe\">\n",
        "  <thead>\n",
        "    <tr style=\"text-align: right;\">\n",
        "      <th></th>\n",
        "      <th>name</th>\n",
        "      <th>query</th>\n",
        "      <th>taxid</th>\n",
        "    </tr>\n",
        "  </thead>\n",
        "  <tbody>\n",
        "    <tr>\n",
        "      <th>FIG4</th>\n",
        "      <td> FIG4 homolog, SAC1 lipid phosphatase domain co...</td>\n",
        "      <td>    fig4</td>\n",
        "      <td>  9606</td>\n",
        "    </tr>\n",
        "    <tr>\n",
        "      <th>MACF1</th>\n",
        "      <td>           microtubule-actin crosslinking factor 1</td>\n",
        "      <td>   macf1</td>\n",
        "      <td>  9606</td>\n",
        "    </tr>\n",
        "    <tr>\n",
        "      <th>RFC5</th>\n",
        "      <td>     replication factor C (activator 1) 5, 36.5kDa</td>\n",
        "      <td>    rfc5</td>\n",
        "      <td>  9606</td>\n",
        "    </tr>\n",
        "    <tr>\n",
        "      <th>IL6ST</th>\n",
        "      <td>                   interleukin 6 signal transducer</td>\n",
        "      <td>   il6st</td>\n",
        "      <td>  9606</td>\n",
        "    </tr>\n",
        "    <tr>\n",
        "      <th>AP1M1</th>\n",
        "      <td>   adaptor-related protein complex 1, mu 1 subunit</td>\n",
        "      <td>   ap1m1</td>\n",
        "      <td>  9606</td>\n",
        "    </tr>\n",
        "    <tr>\n",
        "      <th>RRAS2</th>\n",
        "      <td>      related RAS viral (r-ras) oncogene homolog 2</td>\n",
        "      <td>   rras2</td>\n",
        "      <td>  9606</td>\n",
        "    </tr>\n",
        "    <tr>\n",
        "      <th>UCHL3</th>\n",
        "      <td> ubiquitin carboxyl-terminal esterase L3 (ubiqu...</td>\n",
        "      <td>   uchl3</td>\n",
        "      <td>  9606</td>\n",
        "    </tr>\n",
        "    <tr>\n",
        "      <th>RBFOX3</th>\n",
        "      <td> RNA binding protein, fox-1 homolog (C. elegans) 3</td>\n",
        "      <td>  rbfox3</td>\n",
        "      <td>  9606</td>\n",
        "    </tr>\n",
        "    <tr>\n",
        "      <th>SLC23A1</th>\n",
        "      <td> solute carrier family 23 (ascorbic acid transp...</td>\n",
        "      <td> slc23a1</td>\n",
        "      <td>  9606</td>\n",
        "    </tr>\n",
        "    <tr>\n",
        "      <th>SLC23A2</th>\n",
        "      <td> solute carrier family 23 (ascorbic acid transp...</td>\n",
        "      <td> slc23a2</td>\n",
        "      <td>  9606</td>\n",
        "    </tr>\n",
        "    <tr>\n",
        "      <th>DECR2</th>\n",
        "      <td>          2,4-dienoyl CoA reductase 2, peroxisomal</td>\n",
        "      <td>   decr2</td>\n",
        "      <td>  9606</td>\n",
        "    </tr>\n",
        "    <tr>\n",
        "      <th>TXN</th>\n",
        "      <td>                                       thioredoxin</td>\n",
        "      <td>     txn</td>\n",
        "      <td>  9606</td>\n",
        "    </tr>\n",
        "    <tr>\n",
        "      <th>COPS2</th>\n",
        "      <td>                        COP9 signalosome subunit 2</td>\n",
        "      <td>   cops2</td>\n",
        "      <td>  9606</td>\n",
        "    </tr>\n",
        "    <tr>\n",
        "      <th>COPS6</th>\n",
        "      <td>                        COP9 signalosome subunit 6</td>\n",
        "      <td>   cops6</td>\n",
        "      <td>  9606</td>\n",
        "    </tr>\n",
        "    <tr>\n",
        "      <th>COPS4</th>\n",
        "      <td>                        COP9 signalosome subunit 4</td>\n",
        "      <td>   cops4</td>\n",
        "      <td>  9606</td>\n",
        "    </tr>\n",
        "    <tr>\n",
        "      <th>COPS5</th>\n",
        "      <td>                        COP9 signalosome subunit 5</td>\n",
        "      <td>   cops5</td>\n",
        "      <td>  9606</td>\n",
        "    </tr>\n",
        "    <tr>\n",
        "      <th>MSTO1</th>\n",
        "      <td> misato 1, mitochondrial distribution and morph...</td>\n",
        "      <td>   msto1</td>\n",
        "      <td>  9606</td>\n",
        "    </tr>\n",
        "    <tr>\n",
        "      <th>GPAM</th>\n",
        "      <td> glycerol-3-phosphate acyltransferase, mitochon...</td>\n",
        "      <td>    gpam</td>\n",
        "      <td>  9606</td>\n",
        "    </tr>\n",
        "    <tr>\n",
        "      <th>UBE2G2</th>\n",
        "      <td>                ubiquitin-conjugating enzyme E2G 2</td>\n",
        "      <td>  ube2g2</td>\n",
        "      <td>  9606</td>\n",
        "    </tr>\n",
        "    <tr>\n",
        "      <th>NPEPL1</th>\n",
        "      <td>                             aminopeptidase-like 1</td>\n",
        "      <td>  npepl1</td>\n",
        "      <td>  9606</td>\n",
        "    </tr>\n",
        "    <tr>\n",
        "      <th>Uox</th>\n",
        "      <td>                                     urate oxidase</td>\n",
        "      <td>     uox</td>\n",
        "      <td> 10090</td>\n",
        "    </tr>\n",
        "    <tr>\n",
        "      <th>NAA10</th>\n",
        "      <td> N(alpha)-acetyltransferase 10, NatA catalytic ...</td>\n",
        "      <td>   naa10</td>\n",
        "      <td>  9606</td>\n",
        "    </tr>\n",
        "    <tr>\n",
        "      <th>KCNB1</th>\n",
        "      <td> potassium voltage-gated channel, Shab-related ...</td>\n",
        "      <td>   kcnb1</td>\n",
        "      <td>  9606</td>\n",
        "    </tr>\n",
        "    <tr>\n",
        "      <th>LRRK1</th>\n",
        "      <td>                      leucine-rich repeat kinase 1</td>\n",
        "      <td>   lrrk1</td>\n",
        "      <td>  9606</td>\n",
        "    </tr>\n",
        "    <tr>\n",
        "      <th>HNRNPR</th>\n",
        "      <td>         heterogeneous nuclear ribonucleoprotein R</td>\n",
        "      <td>  hnrnpr</td>\n",
        "      <td>  9606</td>\n",
        "    </tr>\n",
        "    <tr>\n",
        "      <th>DSE</th>\n",
        "      <td>                        dermatan sulfate epimerase</td>\n",
        "      <td>     dse</td>\n",
        "      <td>  9606</td>\n",
        "    </tr>\n",
        "    <tr>\n",
        "      <th>TOP3A</th>\n",
        "      <td>                     topoisomerase (DNA) III alpha</td>\n",
        "      <td>   top3a</td>\n",
        "      <td>  9606</td>\n",
        "    </tr>\n",
        "    <tr>\n",
        "      <th>TOP3B</th>\n",
        "      <td>                      topoisomerase (DNA) III beta</td>\n",
        "      <td>   top3b</td>\n",
        "      <td>  9606</td>\n",
        "    </tr>\n",
        "    <tr>\n",
        "      <th>DHX9</th>\n",
        "      <td>             DEAH (Asp-Glu-Ala-His) box helicase 9</td>\n",
        "      <td>    dhx9</td>\n",
        "      <td>  9606</td>\n",
        "    </tr>\n",
        "    <tr>\n",
        "      <th>COLEC11</th>\n",
        "      <td>                    collectin sub-family member 11</td>\n",
        "      <td> colec11</td>\n",
        "      <td>  9606</td>\n",
        "    </tr>\n",
        "    <tr>\n",
        "      <th>PDE3A</th>\n",
        "      <td>              phosphodiesterase 3A, cGMP-inhibited</td>\n",
        "      <td>   pde3a</td>\n",
        "      <td>  9606</td>\n",
        "    </tr>\n",
        "    <tr>\n",
        "      <th>IL16</th>\n",
        "      <td>                                    interleukin 16</td>\n",
        "      <td>    il16</td>\n",
        "      <td>  9606</td>\n",
        "    </tr>\n",
        "    <tr>\n",
        "      <th>PACRG</th>\n",
        "      <td>                                PARK2 co-regulated</td>\n",
        "      <td>   pacrg</td>\n",
        "      <td>  9606</td>\n",
        "    </tr>\n",
        "    <tr>\n",
        "      <th>AQP4</th>\n",
        "      <td>                                       aquaporin 4</td>\n",
        "      <td>    aqp4</td>\n",
        "      <td>  9606</td>\n",
        "    </tr>\n",
        "    <tr>\n",
        "      <th>TBC1D1</th>\n",
        "      <td> TBC1 (tre-2/USP6, BUB2, cdc16) domain family, ...</td>\n",
        "      <td>  tbc1d1</td>\n",
        "      <td>  9606</td>\n",
        "    </tr>\n",
        "    <tr>\n",
        "      <th>PECR</th>\n",
        "      <td>           peroxisomal trans-2-enoyl-CoA reductase</td>\n",
        "      <td>    pecr</td>\n",
        "      <td>  9606</td>\n",
        "    </tr>\n",
        "    <tr>\n",
        "      <th>APRT</th>\n",
        "      <td>                 adenine phosphoribosyltransferase</td>\n",
        "      <td>    aprt</td>\n",
        "      <td>  9606</td>\n",
        "    </tr>\n",
        "    <tr>\n",
        "      <th>BSN</th>\n",
        "      <td>            bassoon presynaptic cytomatrix protein</td>\n",
        "      <td>     bsn</td>\n",
        "      <td>  9606</td>\n",
        "    </tr>\n",
        "    <tr>\n",
        "      <th>NDUFA5</th>\n",
        "      <td> NADH dehydrogenase (ubiquinone) 1 alpha subcom...</td>\n",
        "      <td>  ndufa5</td>\n",
        "      <td>  9606</td>\n",
        "    </tr>\n",
        "    <tr>\n",
        "      <th>ASXL2</th>\n",
        "      <td> additional sex combs like transcriptional regu...</td>\n",
        "      <td>   asxl2</td>\n",
        "      <td>  9606</td>\n",
        "    </tr>\n",
        "    <tr>\n",
        "      <th>TRIM71</th>\n",
        "      <td> tripartite motif containing 71, E3 ubiquitin p...</td>\n",
        "      <td>  trim71</td>\n",
        "      <td>  9606</td>\n",
        "    </tr>\n",
        "    <tr>\n",
        "      <th>GTF2E1</th>\n",
        "      <td> general transcription factor IIE, polypeptide ...</td>\n",
        "      <td>  gtf2e1</td>\n",
        "      <td>  9606</td>\n",
        "    </tr>\n",
        "    <tr>\n",
        "      <th>HEATR3</th>\n",
        "      <td>                          HEAT repeat containing 3</td>\n",
        "      <td>  heatr3</td>\n",
        "      <td>  9606</td>\n",
        "    </tr>\n",
        "    <tr>\n",
        "      <th>HEATR1</th>\n",
        "      <td>                          HEAT repeat containing 1</td>\n",
        "      <td>  heatr1</td>\n",
        "      <td>  9606</td>\n",
        "    </tr>\n",
        "    <tr>\n",
        "      <th>SGCD</th>\n",
        "      <td> sarcoglycan, delta (35kDa dystrophin-associate...</td>\n",
        "      <td>    sgcd</td>\n",
        "      <td>  9606</td>\n",
        "    </tr>\n",
        "    <tr>\n",
        "      <th>GRIP1</th>\n",
        "      <td>          glutamate receptor interacting protein 1</td>\n",
        "      <td>   grip1</td>\n",
        "      <td>  9606</td>\n",
        "    </tr>\n",
        "    <tr>\n",
        "      <th>DHTKD1</th>\n",
        "      <td> dehydrogenase E1 and transketolase domain cont...</td>\n",
        "      <td>  dhtkd1</td>\n",
        "      <td>  9606</td>\n",
        "    </tr>\n",
        "    <tr>\n",
        "      <th>AADAT</th>\n",
        "      <td>                     aminoadipate aminotransferase</td>\n",
        "      <td>   aadat</td>\n",
        "      <td>  9606</td>\n",
        "    </tr>\n",
        "    <tr>\n",
        "      <th>MEN1</th>\n",
        "      <td>                    multiple endocrine neoplasia I</td>\n",
        "      <td>    men1</td>\n",
        "      <td>  9606</td>\n",
        "    </tr>\n",
        "    <tr>\n",
        "      <th>HSPD1</th>\n",
        "      <td>           heat shock 60kDa protein 1 (chaperonin)</td>\n",
        "      <td>   hspd1</td>\n",
        "      <td>  9606</td>\n",
        "    </tr>\n",
        "    <tr>\n",
        "      <th>AADAC</th>\n",
        "      <td>                         arylacetamide deacetylase</td>\n",
        "      <td>   aadac</td>\n",
        "      <td>  9606</td>\n",
        "    </tr>\n",
        "    <tr>\n",
        "      <th>LAMA1</th>\n",
        "      <td>                                  laminin, alpha 1</td>\n",
        "      <td>   lama1</td>\n",
        "      <td>  9606</td>\n",
        "    </tr>\n",
        "    <tr>\n",
        "      <th>VPS35</th>\n",
        "      <td> vacuolar protein sorting 35 homolog (S. cerevi...</td>\n",
        "      <td>   vps35</td>\n",
        "      <td>  9606</td>\n",
        "    </tr>\n",
        "    <tr>\n",
        "      <th>VPS39</th>\n",
        "      <td> vacuolar protein sorting 39 homolog (S. cerevi...</td>\n",
        "      <td>   vps39</td>\n",
        "      <td>  9606</td>\n",
        "    </tr>\n",
        "    <tr>\n",
        "      <th>GFM2</th>\n",
        "      <td>              G elongation factor, mitochondrial 2</td>\n",
        "      <td>    gfm2</td>\n",
        "      <td>  9606</td>\n",
        "    </tr>\n",
        "    <tr>\n",
        "      <th>IFT172</th>\n",
        "      <td>                      intraflagellar transport 172</td>\n",
        "      <td>  ift172</td>\n",
        "      <td>  9606</td>\n",
        "    </tr>\n",
        "    <tr>\n",
        "      <th>PPP5C</th>\n",
        "      <td>          protein phosphatase 5, catalytic subunit</td>\n",
        "      <td>   ppp5c</td>\n",
        "      <td>  9606</td>\n",
        "    </tr>\n",
        "    <tr>\n",
        "      <th>ACOT8</th>\n",
        "      <td>                           acyl-CoA thioesterase 8</td>\n",
        "      <td>   acot8</td>\n",
        "      <td>  9606</td>\n",
        "    </tr>\n",
        "    <tr>\n",
        "      <th>NKAIN1</th>\n",
        "      <td>          Na+/K+ transporting ATPase interacting 1</td>\n",
        "      <td>  nkain1</td>\n",
        "      <td>  9606</td>\n",
        "    </tr>\n",
        "    <tr>\n",
        "      <th>KIF3A</th>\n",
        "      <td>                          kinesin family member 3A</td>\n",
        "      <td>   kif3a</td>\n",
        "      <td>  9606</td>\n",
        "    </tr>\n",
        "    <tr>\n",
        "      <th></th>\n",
        "      <td>...</td>\n",
        "      <td>...</td>\n",
        "      <td>...</td>\n",
        "    </tr>\n",
        "  </tbody>\n",
        "</table>\n",
        "<p>1435 rows \u00d7 3 columns</p>\n",
        "</div>"
       ],
       "metadata": {},
       "output_type": "pyout",
       "prompt_number": 325,
       "text": [
        "                                                      name    query  taxid\n",
        "FIG4     FIG4 homolog, SAC1 lipid phosphatase domain co...     fig4   9606\n",
        "MACF1              microtubule-actin crosslinking factor 1    macf1   9606\n",
        "RFC5         replication factor C (activator 1) 5, 36.5kDa     rfc5   9606\n",
        "IL6ST                      interleukin 6 signal transducer    il6st   9606\n",
        "AP1M1      adaptor-related protein complex 1, mu 1 subunit    ap1m1   9606\n",
        "RRAS2         related RAS viral (r-ras) oncogene homolog 2    rras2   9606\n",
        "UCHL3    ubiquitin carboxyl-terminal esterase L3 (ubiqu...    uchl3   9606\n",
        "RBFOX3   RNA binding protein, fox-1 homolog (C. elegans) 3   rbfox3   9606\n",
        "SLC23A1  solute carrier family 23 (ascorbic acid transp...  slc23a1   9606\n",
        "SLC23A2  solute carrier family 23 (ascorbic acid transp...  slc23a2   9606\n",
        "DECR2             2,4-dienoyl CoA reductase 2, peroxisomal    decr2   9606\n",
        "TXN                                            thioredoxin      txn   9606\n",
        "COPS2                           COP9 signalosome subunit 2    cops2   9606\n",
        "COPS6                           COP9 signalosome subunit 6    cops6   9606\n",
        "COPS4                           COP9 signalosome subunit 4    cops4   9606\n",
        "COPS5                           COP9 signalosome subunit 5    cops5   9606\n",
        "MSTO1    misato 1, mitochondrial distribution and morph...    msto1   9606\n",
        "GPAM     glycerol-3-phosphate acyltransferase, mitochon...     gpam   9606\n",
        "UBE2G2                  ubiquitin-conjugating enzyme E2G 2   ube2g2   9606\n",
        "NPEPL1                               aminopeptidase-like 1   npepl1   9606\n",
        "Uox                                          urate oxidase      uox  10090\n",
        "NAA10    N(alpha)-acetyltransferase 10, NatA catalytic ...    naa10   9606\n",
        "KCNB1    potassium voltage-gated channel, Shab-related ...    kcnb1   9606\n",
        "LRRK1                         leucine-rich repeat kinase 1    lrrk1   9606\n",
        "HNRNPR           heterogeneous nuclear ribonucleoprotein R   hnrnpr   9606\n",
        "DSE                             dermatan sulfate epimerase      dse   9606\n",
        "TOP3A                        topoisomerase (DNA) III alpha    top3a   9606\n",
        "TOP3B                         topoisomerase (DNA) III beta    top3b   9606\n",
        "DHX9                 DEAH (Asp-Glu-Ala-His) box helicase 9     dhx9   9606\n",
        "COLEC11                     collectin sub-family member 11  colec11   9606\n",
        "PDE3A                 phosphodiesterase 3A, cGMP-inhibited    pde3a   9606\n",
        "IL16                                        interleukin 16     il16   9606\n",
        "PACRG                                   PARK2 co-regulated    pacrg   9606\n",
        "AQP4                                           aquaporin 4     aqp4   9606\n",
        "TBC1D1   TBC1 (tre-2/USP6, BUB2, cdc16) domain family, ...   tbc1d1   9606\n",
        "PECR               peroxisomal trans-2-enoyl-CoA reductase     pecr   9606\n",
        "APRT                     adenine phosphoribosyltransferase     aprt   9606\n",
        "BSN                 bassoon presynaptic cytomatrix protein      bsn   9606\n",
        "NDUFA5   NADH dehydrogenase (ubiquinone) 1 alpha subcom...   ndufa5   9606\n",
        "ASXL2    additional sex combs like transcriptional regu...    asxl2   9606\n",
        "TRIM71   tripartite motif containing 71, E3 ubiquitin p...   trim71   9606\n",
        "GTF2E1   general transcription factor IIE, polypeptide ...   gtf2e1   9606\n",
        "HEATR3                            HEAT repeat containing 3   heatr3   9606\n",
        "HEATR1                            HEAT repeat containing 1   heatr1   9606\n",
        "SGCD     sarcoglycan, delta (35kDa dystrophin-associate...     sgcd   9606\n",
        "GRIP1             glutamate receptor interacting protein 1    grip1   9606\n",
        "DHTKD1   dehydrogenase E1 and transketolase domain cont...   dhtkd1   9606\n",
        "AADAT                        aminoadipate aminotransferase    aadat   9606\n",
        "MEN1                        multiple endocrine neoplasia I     men1   9606\n",
        "HSPD1              heat shock 60kDa protein 1 (chaperonin)    hspd1   9606\n",
        "AADAC                            arylacetamide deacetylase    aadac   9606\n",
        "LAMA1                                     laminin, alpha 1    lama1   9606\n",
        "VPS35    vacuolar protein sorting 35 homolog (S. cerevi...    vps35   9606\n",
        "VPS39    vacuolar protein sorting 39 homolog (S. cerevi...    vps39   9606\n",
        "GFM2                  G elongation factor, mitochondrial 2     gfm2   9606\n",
        "IFT172                        intraflagellar transport 172   ift172   9606\n",
        "PPP5C             protein phosphatase 5, catalytic subunit    ppp5c   9606\n",
        "ACOT8                              acyl-CoA thioesterase 8    acot8   9606\n",
        "NKAIN1            Na+/K+ transporting ATPase interacting 1   nkain1   9606\n",
        "KIF3A                             kinesin family member 3A    kif3a   9606\n",
        "                                                       ...      ...    ...\n",
        "\n",
        "[1435 rows x 3 columns]"
       ]
      }
     ],
     "prompt_number": 325
    },
    {
     "cell_type": "code",
     "collapsed": false,
     "input": [
      "# This is our dictionary of gene tags pointing to transcript id's \n",
      "ng_dict = dd(list)\n",
      "for tr, gene_set in hits[not_genome].gene_tags.iteritems():\n",
      "    for g in gene_set:\n",
      "        ng_dict[g].append(tr)"
     ],
     "language": "python",
     "metadata": {},
     "outputs": [],
     "prompt_number": 219
    },
    {
     "cell_type": "code",
     "collapsed": false,
     "input": [
      "# Let's get that dict into a dataframe\n",
      "ng_df = pd.DataFrame([[len(value),value] for key, value in  ng_dict.iteritems()], index=ng_dict.keys(), columns=['tr_count', 'trs'])\n",
      "ng_df.sort(columns='tr_count', ascending=False, inplace=True)"
     ],
     "language": "python",
     "metadata": {},
     "outputs": [],
     "prompt_number": 220
    },
    {
     "cell_type": "code",
     "collapsed": false,
     "input": [
      "# We want to double check with the remote serve that these gene tags are not actually in known lamprey resources\n",
      "tmp = []\n",
      "for d in mg.querymany(list(ng_df.index), scopes='symbol', species='7757'):\n",
      "    if 'notfound' in d:\n",
      "        tmp.append(d['query'])"
     ],
     "language": "python",
     "metadata": {},
     "outputs": [
      {
       "output_type": "stream",
       "stream": "stdout",
       "text": [
        "querying 1-1000...done."
       ]
      },
      {
       "output_type": "stream",
       "stream": "stdout",
       "text": [
        "\n",
        "querying 1001-2000..."
       ]
      },
      {
       "output_type": "stream",
       "stream": "stdout",
       "text": [
        "done."
       ]
      },
      {
       "output_type": "stream",
       "stream": "stdout",
       "text": [
        "\n",
        "querying 2001-3000..."
       ]
      },
      {
       "output_type": "stream",
       "stream": "stdout",
       "text": [
        "done."
       ]
      },
      {
       "output_type": "stream",
       "stream": "stdout",
       "text": [
        "\n",
        "querying 3001-4000..."
       ]
      },
      {
       "output_type": "stream",
       "stream": "stdout",
       "text": [
        "done."
       ]
      },
      {
       "output_type": "stream",
       "stream": "stdout",
       "text": [
        "\n",
        "querying 4001-5000..."
       ]
      },
      {
       "output_type": "stream",
       "stream": "stdout",
       "text": [
        "done."
       ]
      },
      {
       "output_type": "stream",
       "stream": "stdout",
       "text": [
        "\n",
        "querying 5001-6000..."
       ]
      },
      {
       "output_type": "stream",
       "stream": "stdout",
       "text": [
        "done."
       ]
      },
      {
       "output_type": "stream",
       "stream": "stdout",
       "text": [
        "\n",
        "querying 6001-7000..."
       ]
      },
      {
       "output_type": "stream",
       "stream": "stdout",
       "text": [
        "done."
       ]
      },
      {
       "output_type": "stream",
       "stream": "stdout",
       "text": [
        "\n",
        "querying 7001-8000..."
       ]
      },
      {
       "output_type": "stream",
       "stream": "stdout",
       "text": [
        "done."
       ]
      },
      {
       "output_type": "stream",
       "stream": "stdout",
       "text": [
        "\n",
        "querying 8001-9000..."
       ]
      },
      {
       "output_type": "stream",
       "stream": "stdout",
       "text": [
        "done."
       ]
      },
      {
       "output_type": "stream",
       "stream": "stdout",
       "text": [
        "\n",
        "querying 9001-9296..."
       ]
      },
      {
       "output_type": "stream",
       "stream": "stdout",
       "text": [
        "done."
       ]
      },
      {
       "output_type": "stream",
       "stream": "stdout",
       "text": [
        "\n",
        "Finished.\n",
        "18 input query terms found dup hits:\n",
        "\t[(u'mprip', 2), (u'bsn', 4), (u'heatr1', 2), (u'mettl16', 2), (u'psmd2', 2), (u'trim14', 2), (u'kif3\n",
        "7694 input query terms found no hit:\n",
        "\t[u'eef2', u'hspa8', u'gapdh', u'calm1a', u'calm3b', u'calm2b', u'calm3a', u'calm1b', u'cetn2', u'dna\n",
        "Pass \"returnall=True\" to return complete lists of duplicate or missing query terms.\n"
       ]
      }
     ],
     "prompt_number": 196
    },
    {
     "cell_type": "code",
     "collapsed": false,
     "input": [
      "# Now using our queryies not found in lamprey, get their gene info from other species\n",
      "ng_geneinfo = mg.querymany(tmp, scopes='symbol', returnall=False)"
     ],
     "language": "python",
     "metadata": {},
     "outputs": [
      {
       "output_type": "stream",
       "stream": "stdout",
       "text": [
        "querying 1-1000...done."
       ]
      },
      {
       "output_type": "stream",
       "stream": "stdout",
       "text": [
        "\n",
        "querying 1001-2000..."
       ]
      },
      {
       "output_type": "stream",
       "stream": "stdout",
       "text": [
        "done."
       ]
      },
      {
       "output_type": "stream",
       "stream": "stdout",
       "text": [
        "\n",
        "querying 2001-3000..."
       ]
      },
      {
       "output_type": "stream",
       "stream": "stdout",
       "text": [
        "done."
       ]
      },
      {
       "output_type": "stream",
       "stream": "stdout",
       "text": [
        "\n",
        "querying 3001-4000..."
       ]
      },
      {
       "output_type": "stream",
       "stream": "stdout",
       "text": [
        "done."
       ]
      },
      {
       "output_type": "stream",
       "stream": "stdout",
       "text": [
        "\n",
        "querying 4001-5000..."
       ]
      },
      {
       "output_type": "stream",
       "stream": "stdout",
       "text": [
        "done."
       ]
      },
      {
       "output_type": "stream",
       "stream": "stdout",
       "text": [
        "\n",
        "querying 5001-6000..."
       ]
      },
      {
       "output_type": "stream",
       "stream": "stdout",
       "text": [
        "done."
       ]
      },
      {
       "output_type": "stream",
       "stream": "stdout",
       "text": [
        "\n",
        "querying 6001-7000..."
       ]
      },
      {
       "output_type": "stream",
       "stream": "stdout",
       "text": [
        "done."
       ]
      },
      {
       "output_type": "stream",
       "stream": "stdout",
       "text": [
        "\n",
        "querying 7001-7694..."
       ]
      },
      {
       "output_type": "stream",
       "stream": "stdout",
       "text": [
        "done."
       ]
      },
      {
       "output_type": "stream",
       "stream": "stdout",
       "text": [
        "\n",
        "Finished.\n",
        "4518 input query terms found dup hits:\n",
        "\t[(u'syncrip', 3), (u'mlycd', 3), (u'plcb3', 3), (u'gm4877', 2), (u'zc3h3', 3), (u'cdc42se2', 3), (u'\n",
        "2819 input query terms found no hit:\n",
        "\t[u'calm1a', u'calm3b', u'calm2b', u'calm3a', u'calm1b', u'eef1a1a', u'dnah9l', u'loc100536399', u'ct\n",
        "Pass \"returnall=True\" to return complete lists of duplicate or missing query terms.\n"
       ]
      }
     ],
     "prompt_number": 197
    },
    {
     "cell_type": "code",
     "collapsed": false,
     "input": [
      "# Remove duplicates from the queries\n",
      "ng_gene_tags = set(tmp)\n",
      "ng_out = []\n",
      "for gene in ng_geneinfo:\n",
      "    if gene['query'] in ng_gene_tags and 'notfound' not in gene:\n",
      "        ng_out.append(gene)\n",
      "        try:\n",
      "            ng_gene_tags.remove(gene['query'])\n",
      "        except KeyError:\n",
      "            pass"
     ],
     "language": "python",
     "metadata": {},
     "outputs": [],
     "prompt_number": 222
    },
    {
     "cell_type": "code",
     "collapsed": false,
     "input": [
      "# Use the paired-down list to get back the transcript ids\n",
      "ng_transcripts = set()\n",
      "for gene in ng_out:\n",
      "    q = gene['query']\n",
      "    ng_transcripts.update(ng_dict[q])"
     ],
     "language": "python",
     "metadata": {},
     "outputs": [],
     "prompt_number": 227
    },
    {
     "cell_type": "code",
     "collapsed": false,
     "input": [
      "final_ng_df = pd.DataFrame([{'query':d.get('query'), 'name':d.get('name'), 'taxid': d.get('taxid')} for d in ng_out], \n",
      "                        index=[d['symbol'] for d in ng_out])"
     ],
     "language": "python",
     "metadata": {},
     "outputs": [],
     "prompt_number": 248
    },
    {
     "cell_type": "code",
     "collapsed": false,
     "input": [
      "final_ng_df.to_csv('not_lamprey_genes.csv')"
     ],
     "language": "python",
     "metadata": {},
     "outputs": [],
     "prompt_number": 250
    },
    {
     "cell_type": "code",
     "collapsed": false,
     "input": [
      "# Now do it again for the stricter params\n",
      "\n",
      "zfnotamp_dict = dd(list)\n",
      "for tr, gene_set in hits[not_genome & (blast_df.xzebrafish) & (blast_df.xamph == False)].gene_tags.iteritems():\n",
      "    for g in gene_set:\n",
      "        zfnotamp_dict[g].append(tr)\n",
      "\n",
      "# We want to double check with the remote serve that these gene tags are not actually in known lamprey resources\n",
      "tmp = []\n",
      "for d in mg.querymany(zfnotamp_dict.keys(), scopes='symbol', species='7757'):\n",
      "    if 'notfound' in d:\n",
      "        tmp.append(d['query'])\n",
      "        \n",
      "# Now using our queryies not found in lamprey, get their gene info from other species\n",
      "zfnotamp_geneinfo = mg.querymany(tmp, scopes='symbol', returnall=False)\n",
      "\n",
      "# Remove duplicates from the queries\n",
      "zfnotamp_gene_tags = set(tmp)\n",
      "zfnotamp_out = []\n",
      "for gene in zfnotamp_geneinfo:\n",
      "    if gene['query'] in zfnotamp_gene_tags and 'notfound' not in gene:\n",
      "        zfnotamp_out.append(gene)\n",
      "        try:\n",
      "            zfnotamp_gene_tags.remove(gene['query'])\n",
      "        except KeyError:\n",
      "            pass\n",
      "\n",
      "final_zfnotamp_df = pd.DataFrame([{'query':d.get('query'), 'name':d.get('name'), 'taxid': d.get('taxid')} for d in zfnotamp_out], \n",
      "                        index=[d['symbol'] for d in zfnotamp_out])"
     ],
     "language": "python",
     "metadata": {},
     "outputs": [
      {
       "output_type": "stream",
       "stream": "stdout",
       "text": [
        "querying 1-1000...done."
       ]
      },
      {
       "output_type": "stream",
       "stream": "stdout",
       "text": [
        "\n",
        "querying 1001-2000..."
       ]
      },
      {
       "output_type": "stream",
       "stream": "stdout",
       "text": [
        "done."
       ]
      },
      {
       "output_type": "stream",
       "stream": "stdout",
       "text": [
        "\n",
        "querying 2001-2699..."
       ]
      },
      {
       "output_type": "stream",
       "stream": "stdout",
       "text": [
        "done."
       ]
      },
      {
       "output_type": "stream",
       "stream": "stdout",
       "text": [
        "\n",
        "Finished.\n",
        "6 input query terms found dup hits:\n",
        "\t[(u'col5a3a', 2), (u'ash1l', 2), (u'psip1', 2), (u'psmd2', 2), (u'bsn', 4), (u'heatr1', 2)]\n",
        "2286 input query terms found no hit:\n",
        "\t[u'si:dkey-288i20.2', u'tia1l', u'scrt2', u'cdc42se2', u'zc3h4', u'tnnc1a', u'lamc1', u'spen', u'spe\n",
        "Pass \"returnall=True\" to return complete lists of duplicate or missing query terms.\n",
        "querying 1-1000...done."
       ]
      },
      {
       "output_type": "stream",
       "stream": "stdout",
       "text": [
        "\n",
        "querying 1001-2000..."
       ]
      },
      {
       "output_type": "stream",
       "stream": "stdout",
       "text": [
        "done."
       ]
      },
      {
       "output_type": "stream",
       "stream": "stdout",
       "text": [
        "\n",
        "querying 2001-2286..."
       ]
      },
      {
       "output_type": "stream",
       "stream": "stdout",
       "text": [
        "done."
       ]
      },
      {
       "output_type": "stream",
       "stream": "stdout",
       "text": [
        "\n",
        "Finished.\n",
        "1309 input query terms found dup hits:\n",
        "\t[(u'scrt2', 3), (u'cdc42se2', 3), (u'zc3h4', 3), (u'nsg1', 3), (u'lamc1', 3), (u'spen', 3), (u'speg'\n",
        "899 input query terms found no hit:\n",
        "\t[u'si:dkey-288i20.2', u'tia1l', u'tnnc1a', u'cabz01112777.1', u'loc100150876', u'gyg1a', u'erbb3b', \n",
        "Pass \"returnall=True\" to return complete lists of duplicate or missing query terms.\n"
       ]
      }
     ],
     "prompt_number": 271
    },
    {
     "cell_type": "code",
     "collapsed": false,
     "input": [
      "final_zfnotamp_df.to_csv('zebrafish_not_amph.csv')"
     ],
     "language": "python",
     "metadata": {},
     "outputs": [],
     "prompt_number": 273
    },
    {
     "cell_type": "code",
     "collapsed": false,
     "input": [
      "# Now do it again for the stricter params\n",
      "\n",
      "zfamp_dict = dd(list)\n",
      "for tr, gene_set in hits[not_genome & (blast_df.xzebrafish) & (blast_df.xamph)].gene_tags.iteritems():\n",
      "    for g in gene_set:\n",
      "        zfamp_dict[g].append(tr)\n",
      "\n",
      "# We want to double check with the remote serve that these gene tags are not actually in known lamprey resources\n",
      "tmp = []\n",
      "for d in mg.querymany(zfamp_dict.keys(), scopes='symbol', species='7757'):\n",
      "    if 'notfound' in d:\n",
      "        tmp.append(d['query'])\n",
      "        \n",
      "# Now using our queryies not found in lamprey, get their gene info from other species\n",
      "zfamp_geneinfo = mg.querymany(tmp, scopes='symbol', returnall=False)\n",
      "\n",
      "# Remove duplicates from the queries\n",
      "zfamp_gene_tags = set(tmp)\n",
      "zfamp_out = []\n",
      "for gene in zfamp_geneinfo:\n",
      "    if gene['query'] in zfamp_gene_tags and 'notfound' not in gene:\n",
      "        zfamp_out.append(gene)\n",
      "        try:\n",
      "            zfamp_gene_tags.remove(gene['query'])\n",
      "        except KeyError:\n",
      "            pass"
     ],
     "language": "python",
     "metadata": {},
     "outputs": [
      {
       "output_type": "stream",
       "stream": "stdout",
       "text": [
        "querying 1-1000...done."
       ]
      },
      {
       "output_type": "stream",
       "stream": "stdout",
       "text": [
        "\n",
        "querying 1001-2000..."
       ]
      },
      {
       "output_type": "stream",
       "stream": "stdout",
       "text": [
        "done."
       ]
      },
      {
       "output_type": "stream",
       "stream": "stdout",
       "text": [
        "\n",
        "querying 2001-3000..."
       ]
      },
      {
       "output_type": "stream",
       "stream": "stdout",
       "text": [
        "done."
       ]
      },
      {
       "output_type": "stream",
       "stream": "stdout",
       "text": [
        "\n",
        "querying 3001-4000..."
       ]
      },
      {
       "output_type": "stream",
       "stream": "stdout",
       "text": [
        "done."
       ]
      },
      {
       "output_type": "stream",
       "stream": "stdout",
       "text": [
        "\n",
        "querying 4001-5000..."
       ]
      },
      {
       "output_type": "stream",
       "stream": "stdout",
       "text": [
        "done."
       ]
      },
      {
       "output_type": "stream",
       "stream": "stdout",
       "text": [
        "\n",
        "querying 5001-6000..."
       ]
      },
      {
       "output_type": "stream",
       "stream": "stdout",
       "text": [
        "done."
       ]
      },
      {
       "output_type": "stream",
       "stream": "stdout",
       "text": [
        "\n",
        "querying 6001-7000..."
       ]
      },
      {
       "output_type": "stream",
       "stream": "stdout",
       "text": [
        "done."
       ]
      },
      {
       "output_type": "stream",
       "stream": "stdout",
       "text": [
        "\n",
        "querying 7001-7436..."
       ]
      },
      {
       "output_type": "stream",
       "stream": "stdout",
       "text": [
        "done."
       ]
      },
      {
       "output_type": "stream",
       "stream": "stdout",
       "text": [
        "\n",
        "Finished.\n",
        "14 input query terms found dup hits:\n",
        "\t[(u'heatr1', 2), (u'mettl16', 2), (u'psmd2', 2), (u'trim14', 2), (u'nebl', 2), (u'kif3a', 2), (u'dph\n",
        "6108 input query terms found no hit:\n",
        "\t[u'loc558520', u'rab1ba', u'gm11810', u'cacna1ba', u'vps53', u'vps52', u'lamc1', u'loc100538297', u'\n",
        "Pass \"returnall=True\" to return complete lists of duplicate or missing query terms.\n",
        "querying 1-1000...done."
       ]
      },
      {
       "output_type": "stream",
       "stream": "stdout",
       "text": [
        "\n",
        "querying 1001-2000..."
       ]
      }
     ]
    },
    {
     "cell_type": "code",
     "collapsed": false,
     "input": [
      "final_zfamp_df = pd.DataFrame([{'query':d.get('query'), 'name':d.get('name'), 'taxid': d.get('taxid')} for d in zfamp_out], \n",
      "                        index=[d['symbol'] for d in zfamp_out])"
     ],
     "language": "python",
     "metadata": {},
     "outputs": [],
     "prompt_number": 275
    },
    {
     "cell_type": "code",
     "collapsed": false,
     "input": [
      "final_zfamp_df.to_csv('zebrafish_amph.csv')"
     ],
     "language": "python",
     "metadata": {},
     "outputs": [],
     "prompt_number": 277
    },
    {
     "cell_type": "code",
     "collapsed": false,
     "input": [
      "count = 0\n",
      "for gid, gname in ng_df_falsebackcheck.name.iteritems():\n",
      "    if gname and 'lymph' in gname:\n",
      "        print gid, gname\n",
      "        count += 1\n",
      "print count"
     ],
     "language": "python",
     "metadata": {},
     "outputs": [
      {
       "output_type": "stream",
       "stream": "stdout",
       "text": [
        "BCL9 B-cell CLL/lymphoma 9\n",
        "MLLT4 myeloid/lymphoid or mixed-lineage leukemia (trithorax homolog, Drosophila); translocated to, 4\n",
        "BCL9L B-cell CLL/lymphoma 9-like\n",
        "ALK anaplastic lymphoma receptor tyrosine kinase\n",
        "4\n"
       ]
      }
     ],
     "prompt_number": 327
    },
    {
     "cell_type": "code",
     "collapsed": false,
     "input": [
      "ng_dict['RUNX1T1'.lower()]"
     ],
     "language": "python",
     "metadata": {},
     "outputs": [
      {
       "metadata": {},
       "output_type": "pyout",
       "prompt_number": 304,
       "text": [
        "['comp613822_c0_seq2',\n",
        " 'comp613822_c0_seq3',\n",
        " 'comp642799_c3_seq2',\n",
        " 'comp642799_c3_seq6',\n",
        " 'comp644525_c3_seq1',\n",
        " 'comp645109_c2_seq2']"
       ]
      }
     ],
     "prompt_number": 304
    },
    {
     "cell_type": "code",
     "collapsed": false,
     "input": [
      "import random\n",
      "random.sample(final_ng_df.index, 20)"
     ],
     "language": "python",
     "metadata": {},
     "outputs": [
      {
       "metadata": {},
       "output_type": "pyout",
       "prompt_number": 309,
       "text": [
        "[u'AGL',\n",
        " u'SQRDL',\n",
        " u'CSTF2T',\n",
        " u'RBPMS2',\n",
        " u'IQCD',\n",
        " u'LRG1',\n",
        " u'SLC15A3',\n",
        " u'RBM20',\n",
        " u'MITF',\n",
        " u'ZSWIM8',\n",
        " u'KIF22',\n",
        " u'Rnaset2a',\n",
        " u'CUX1',\n",
        " u'AI118078',\n",
        " u'Cyp4v3',\n",
        " u'TLE1',\n",
        " u'CACNA1D',\n",
        " u'RIMS2',\n",
        " u'SAR1B',\n",
        " u'HMGB2']"
       ]
      }
     ],
     "prompt_number": 309
    },
    {
     "cell_type": "code",
     "collapsed": false,
     "input": [
      "random.sample(symbol_table.items(), 200)"
     ],
     "language": "python",
     "metadata": {},
     "outputs": [
      {
       "metadata": {},
       "output_type": "pyout",
       "prompt_number": 317,
       "text": [
        "[(u'ENSPMAT00000006638', [u'map2k4a']),\n",
        " (u'ENSPMAT00000005404', [u'xpnpep1']),\n",
        " (u'ENSMUSP00000105861', [u'adam33']),\n",
        " (u'C3ZHT4', [u'brafldraft_125517']),\n",
        " (u'ENSDARP00000017065', [u'ybey', u'loc100537917']),\n",
        " (u'ENSPMAT00000006769', [u'aurka']),\n",
        " (u'ENSMUSP00000120748', [u'cbx7']),\n",
        " (u'ENSDARP00000115234', [u'si:ch211-102c2.8']),\n",
        " (u'ENSDARP00000053803', [u'ube4b']),\n",
        " (u'C3YBR5', [u'brafldraft_118530']),\n",
        " (u'ENSPMAT00000009170', [u'arid2']),\n",
        " (u'ENSMUSP00000121757', [u'9330182l06rik']),\n",
        " (u'ENSMUSP00000052309', [u'marveld3']),\n",
        " (u'C3Y076', [u'brafldraft_264293']),\n",
        " (u'ENSMUSP00000100771', [u'sf3b5']),\n",
        " (u'ENSDARP00000125735', [u'srpk3']),\n",
        " (u'ENSMUSP00000000175', [u'sdhd']),\n",
        " (u'ENSDARP00000005747', [u'fgfr1op2']),\n",
        " (u'ENSMUSP00000049315', [u'ces2g']),\n",
        " (u'ENSDARP00000066897', [u'rps16']),\n",
        " (u'ENSDARP00000052221', [u'ptprn2']),\n",
        " (u'ENSDARP00000055710', [u'cabz01030889.1']),\n",
        " (u'ENSDARP00000055135', [u'actc1b']),\n",
        " (u'ENSMUSP00000111009', [u'tceb1']),\n",
        " (u'ENSPMAT00000010339', [u'tanc2 (3 of 3)']),\n",
        " (u'ENSDARP00000057295', [u'loc101886313']),\n",
        " (u'ENSMUSP00000112424', [u'hnrnph3']),\n",
        " (u'ENSDARP00000081231', [u'lphn3.1']),\n",
        " (u'ENSDARP00000110372', [u'im:6912235', u'loc100334669']),\n",
        " (u'ENSMUSP00000068562', [u'gtf2a1']),\n",
        " (u'ENSPMAT00000004684', [u'cyp7c1 (1 of 2)']),\n",
        " (u'ENSPMAT00000006622', [u'si:ch211-214j24.9']),\n",
        " (u'ENSMUSP00000105540', [u'zfp345']),\n",
        " (u'ENSPMAT00000002967', [u'clock3']),\n",
        " (u'ENSDARP00000011603', [u'rpusd4']),\n",
        " (u'ENSDARP00000120118', [u'mef2b']),\n",
        " (u'ENSDARP00000106323', [u'acbd3']),\n",
        " (u'ENSPMAT00000002910', [u'als2a']),\n",
        " (u'ENSDARP00000072694', [u'cdh10']),\n",
        " (u'ENSPMAT00000008926', [u'golgb1 (2 of 2)']),\n",
        " (u'ENSPMAT00000006708', [u'ywhae (1 of 2)']),\n",
        " (u'ENSPMAT00000010638', [u'tspan12']),\n",
        " (u'ENSDARP00000092846', [u'atf6b']),\n",
        " (u'ENSDARP00000007188', [u'grb2a']),\n",
        " (u'ENSDARP00000124239', [u'usp5']),\n",
        " (u'ENSMUSP00000036025', [u'pgm5']),\n",
        " (u'ENSDARP00000072367', [u'appb']),\n",
        " (u'ENSDARP00000050864', [u'surf4l']),\n",
        " (u'ENSMUSP00000106975', [u'ran']),\n",
        " (u'ENSDARP00000100382', [u'loc799102']),\n",
        " (u'C3ZLX9', [u'brafldraft_86336']),\n",
        " (u'ENSMUSP00000038144', [u'rcc2']),\n",
        " (u'ENSMUSP00000022858', [u'agxt2']),\n",
        " (u'ENSPMAT00000000132', [u'utp18']),\n",
        " (u'C3Y430', [u'brafldraft_59451']),\n",
        " (u'ENSMUSP00000109870', [u'h2-dmb1']),\n",
        " (u'ENSPMAT00000010412', [u'klhl26']),\n",
        " (u'ENSPMAT00000008010', [u'dmbt1 (6 of 7)']),\n",
        " (u'ENSDARP00000106943', [u'bmi1a']),\n",
        " (u'ENSDARP00000053576', [u'cfi']),\n",
        " (u'ENSMUSP00000106365', [u'alg11']),\n",
        " (u'ENSPMAT00000004721', [u'fam118a']),\n",
        " (u'ENSDARP00000041318', [u'slc4a2a']),\n",
        " (u'ENSPMAT00000004055', [u'arel1']),\n",
        " (u'ENSMUSP00000078741', [u'notch2']),\n",
        " (u'ENSPMAT00000001885', [u'atmin']),\n",
        " (u'ENSMUSP00000078400', [u'kcnip2']),\n",
        " (u'ENSMUSP00000026266', [u'adpgk']),\n",
        " (u'ENSMUSP00000044253', [u'chchd5']),\n",
        " (u'ENSMUSP00000120389', [u'lace1']),\n",
        " (u'ENSDARP00000023119', [u'akt2']),\n",
        " (u'ENSDARP00000103510', [u'lyrm4']),\n",
        " (u'ENSMUSP00000042352', [u'acsbg2']),\n",
        " (u'C3YUV1', [u'brafldraft_212311']),\n",
        " (u'ENSMUSP00000031399', [u'psph']),\n",
        " (u'C3ZZE0', [u'brafldraft_255405']),\n",
        " (u'ENSDARP00000108072', [u'mgat1a']),\n",
        " (u'ENSPMAT00000005271', [u'lrrc58b']),\n",
        " (u'ENSDARP00000066962', [u'atp6v1f']),\n",
        " (u'ENSPMAT00000000177', [u'zgc:172359']),\n",
        " (u'ENSPMAT00000009694', [u'invs']),\n",
        " (u'ENSMUSP00000113408', [u'syn3']),\n",
        " (u'ENSMUSP00000131828', [u'iqch']),\n",
        " (u'C3ZXT3', [u'brafldraft_106105']),\n",
        " (u'ENSDARP00000033360', [u'epc1']),\n",
        " (u'ENSMUSP00000025595', [u'fam111a']),\n",
        " (u'ENSDARP00000091811', [u'nhp2']),\n",
        " (u'ENSMUSP00000058028', [u'slc25a26']),\n",
        " (u'C3YQ98', [u'brafldraft_95758']),\n",
        " (u'ENSMUSP00000022369', [u'vcl']),\n",
        " (u'ENSPMAT00000001364', [u'rrp9']),\n",
        " (u'ENSMUSP00000115132', [u'slc47a1']),\n",
        " (u'ENSDARP00000091856', [u'loc101884764']),\n",
        " (u'C3XS74', [u'brafldraft_89962']),\n",
        " (u'ENSMUSP00000047547', [u'serinc5']),\n",
        " (u'ENSDARP00000004210', [u'smarcb1b']),\n",
        " (u'ENSMUSP00000003360', [u'car11']),\n",
        " (u'ENSDARP00000104941', [u'scp2b']),\n",
        " (u'ENSDARP00000105015', [u'loc100007768']),\n",
        " (u'ENSMUSP00000126349', [u'ankrd13d']),\n",
        " (u'ENSDARP00000107099', [u'rbfox1']),\n",
        " (u'ENSMUSP00000020776', [u'ccdc117']),\n",
        " (u'ENSDARP00000064110', [u'faub']),\n",
        " (u'C3ZXV8', [u'brafldraft_248773']),\n",
        " (u'ENSDARP00000004889', [u'prdm1a']),\n",
        " (u'ENSDARP00000102446', [u'si:ch73-335m24.5']),\n",
        " (u'ENSDARP00000119173', [u'ptpmt1']),\n",
        " (u'ENSDARP00000094604', [u'loc101885938']),\n",
        " (u'ENSMUSP00000030478', [u'atpaf1']),\n",
        " (u'ENSMUSP00000029971', [u'1700003m02rik']),\n",
        " (u'ENSMUSP00000098058', [u'rac1']),\n",
        " (u'ENSMUSP00000038505', [u'polr2j']),\n",
        " (u'ENSDARP00000054012', [u'atp6ap1b']),\n",
        " (u'C3Z875', [u'brafldraft_101667']),\n",
        " (u'C3Z6A0', [u'brafldraft_157899']),\n",
        " (u'ENSMUSP00000101593', [u'tnni2']),\n",
        " (u'ENSDARP00000106164', [u'cltcb']),\n",
        " (u'ENSDARP00000015486', [u'spag7']),\n",
        " (u'C3Z840', [u'brafldraft_87579']),\n",
        " (u'ENSMUSP00000085405', [u'sulf2']),\n",
        " (u'ENSPMAT00000003384', [u'trib3 (1 of 3)']),\n",
        " (u'C3ZXB2', [u'brafldraft_102939']),\n",
        " (u'ENSDARP00000093157', [u'ube2d3']),\n",
        " (u'ENSDARP00000039365', [u'slc25a14']),\n",
        " (u'ENSMUSP00000042544', [u'trrap']),\n",
        " (u'ENSMUSP00000020085', [u'ube2d1']),\n",
        " (u'ENSDARP00000009077', [u'arhgap42']),\n",
        " (u'ENSPMAT00000008649', [u'lyst']),\n",
        " (u'ENSMUSP00000069024', [u'sema5a']),\n",
        " (u'ENSMUSP00000107056', [u'pou2f1']),\n",
        " (u'C3ZM38', [u'brafldraft_216270']),\n",
        " (u'ENSPMAT00000006498', [u'trmt1l']),\n",
        " (u'C3Y052', [u'brafldraft_209294']),\n",
        " (u'C3ZAW6', [u'brafldraft_68569']),\n",
        " (u'ENSPMAT00000007067', [u'ccdc84']),\n",
        " (u'ENSDARP00000071926', [u'smyd2a']),\n",
        " (u'ENSMUSP00000118766', [u'lsm14a']),\n",
        " (u'C3Z224', [u'brafldraft_219914']),\n",
        " (u'C3Z1W6', [u'brafldraft_80521']),\n",
        " (u'C3YV82', [u'brafldraft_164365']),\n",
        " (u'C3Y0C0', [u'brafldraft_264227']),\n",
        " (u'C3ZM75', [u'brafldraft_216292']),\n",
        " (u'ENSMUSP00000087643', [u'sema3g']),\n",
        " (u'C3YKZ7', [u'brafldraft_226733']),\n",
        " (u'ENSDARP00000063715', [u'nphp1']),\n",
        " (u'ENSMUSP00000103791', [u'bbs7']),\n",
        " (u'ENSMUSP00000032343', [u'erp27']),\n",
        " (u'ENSMUSP00000120839', [u'myo15']),\n",
        " (u'ENSMUSP00000079421', [u'gstcd']),\n",
        " (u'ENSMUSP00000043559', [u'cisd1']),\n",
        " (u'ENSMUSP00000131592', [u'bach2']),\n",
        " (u'ENSMUSP00000094182', [u'mospd1']),\n",
        " (u'ENSPMAT00000008888', [u'ccdc66']),\n",
        " (u'ENSDARP00000101483', [u'rbm10']),\n",
        " (u'ENSDARP00000084675', [u'nfia']),\n",
        " (u'ENSDARP00000090637', [u'si:ch211-218m3.19']),\n",
        " (u'ENSDARP00000054207', [u'mtap']),\n",
        " (u'ENSMUSP00000119503', [u'ctsc']),\n",
        " (u'C3Y2K1', [u'brafldraft_86837']),\n",
        " (u'ENSPMAT00000009186', [u'stk24b']),\n",
        " (u'ENSDARP00000044233', [u'si:ch211-2i17.1']),\n",
        " (u'ENSMUSP00000125223', [u'mff']),\n",
        " (u'ENSMUSP00000025278', [u'mrpl27']),\n",
        " (u'C3ZTZ3', [u'brafldraft_124875']),\n",
        " (u'ENSMUSP00000056752', [u'fgf4']),\n",
        " (u'ENSDARP00000120558', [u'si:ch211-12e13.2']),\n",
        " (u'C3YQR2', [u'brafldraft_103413']),\n",
        " (u'ENSMUSP00000124890', [u'inpp1']),\n",
        " (u'ENSMUSP00000017692', [u'suz12']),\n",
        " (u'ENSDARP00000100697', [u'loc101886595']),\n",
        " (u'ENSPMAT00000004298', [u'nupl2']),\n",
        " (u'ENSPMAT00000005936', [u'krcp']),\n",
        " (u'ENSDARP00000017590', [u'slc1a6']),\n",
        " (u'ENSMUSP00000128342', [u'agbl1']),\n",
        " (u'ENSDARP00000090106', [u'cd151l']),\n",
        " (u'C3YFU4', [u'brafldraft_222457']),\n",
        " (u'C3YKU5', [u'brafldraft_198686']),\n",
        " (u'ENSDARP00000108901', [u'cbl']),\n",
        " (u'ENSMUSP00000046079', [u'pm20d1']),\n",
        " (u'ENSMUSP00000071719', [u'ficd']),\n",
        " (u'ENSDARP00000117887', [u'abl2']),\n",
        " (u'ENSMUSP00000121443', [u'relt']),\n",
        " (u'ENSMUSP00000023405', [u'arl6']),\n",
        " (u'ENSMUSP00000128452', [u'foxr2']),\n",
        " (u'ENSDARP00000117463', [u'si:ch211-42i9.8']),\n",
        " (u'ENSMUSP00000093945', [u'dnm1l']),\n",
        " (u'ENSMUSP00000032419', [u'cmas']),\n",
        " (u'ENSPMAT00000009425', [u'polh']),\n",
        " (u'ENSMUSP00000116421', [u'nrbp1']),\n",
        " (u'ENSMUSP00000109936', [u'vopp1']),\n",
        " (u'ENSDARP00000124023', [u'tab3']),\n",
        " (u'C3XX73', [u'brafldraft_73285']),\n",
        " (u'ENSMUSP00000115508', [u'irak1']),\n",
        " (u'ENSMUSP00000133591', [u'nsf']),\n",
        " (u'C3ZF27', [u'brafldraft_119587']),\n",
        " (u'ENSMUSP00000050689', [u'arf3']),\n",
        " (u'ENSMUSP00000123671', [u'prkci']),\n",
        " (u'ENSMUSP00000136993', [u'kif7']),\n",
        " (u'C3XU20', [u'brafldraft_280125']),\n",
        " (u'ENSDARP00000113011', [u'tmem104'])]"
       ]
      }
     ],
     "prompt_number": 317
    },
    {
     "cell_type": "code",
     "collapsed": false,
     "input": [
      "final_zfnotamp_df"
     ],
     "language": "python",
     "metadata": {},
     "outputs": [
      {
       "html": [
        "<div style=\"max-height:1000px;max-width:1500px;overflow:auto;\">\n",
        "<table border=\"1\" class=\"dataframe\">\n",
        "  <thead>\n",
        "    <tr style=\"text-align: right;\">\n",
        "      <th></th>\n",
        "      <th>name</th>\n",
        "      <th>query</th>\n",
        "      <th>taxid</th>\n",
        "    </tr>\n",
        "  </thead>\n",
        "  <tbody>\n",
        "    <tr>\n",
        "      <th>SCRT2</th>\n",
        "      <td>                      scratch family zinc finger 2</td>\n",
        "      <td>         scrt2</td>\n",
        "      <td>  9606</td>\n",
        "    </tr>\n",
        "    <tr>\n",
        "      <th>CDC42SE2</th>\n",
        "      <td>                            CDC42 small effector 2</td>\n",
        "      <td>      cdc42se2</td>\n",
        "      <td>  9606</td>\n",
        "    </tr>\n",
        "    <tr>\n",
        "      <th>ZC3H4</th>\n",
        "      <td>                zinc finger CCCH-type containing 4</td>\n",
        "      <td>         zc3h4</td>\n",
        "      <td>  9606</td>\n",
        "    </tr>\n",
        "    <tr>\n",
        "      <th>LAMC1</th>\n",
        "      <td>                 laminin, gamma 1 (formerly LAMB2)</td>\n",
        "      <td>         lamc1</td>\n",
        "      <td>  9606</td>\n",
        "    </tr>\n",
        "    <tr>\n",
        "      <th>SPEN</th>\n",
        "      <td>             spen family transcriptional repressor</td>\n",
        "      <td>          spen</td>\n",
        "      <td>  9606</td>\n",
        "    </tr>\n",
        "    <tr>\n",
        "      <th>SPEG</th>\n",
        "      <td>                                SPEG complex locus</td>\n",
        "      <td>          speg</td>\n",
        "      <td>  9606</td>\n",
        "    </tr>\n",
        "    <tr>\n",
        "      <th>DLAT</th>\n",
        "      <td>              dihydrolipoamide S-acetyltransferase</td>\n",
        "      <td>          dlat</td>\n",
        "      <td>  9606</td>\n",
        "    </tr>\n",
        "    <tr>\n",
        "      <th>CLASP1</th>\n",
        "      <td>           cytoplasmic linker associated protein 1</td>\n",
        "      <td>        clasp1</td>\n",
        "      <td>  9606</td>\n",
        "    </tr>\n",
        "    <tr>\n",
        "      <th>NSG1</th>\n",
        "      <td>              neuron specific gene family member 1</td>\n",
        "      <td>          nsg1</td>\n",
        "      <td>  9606</td>\n",
        "    </tr>\n",
        "    <tr>\n",
        "      <th>AP4E1</th>\n",
        "      <td> adaptor-related protein complex 4, epsilon 1 s...</td>\n",
        "      <td>         ap4e1</td>\n",
        "      <td>  9606</td>\n",
        "    </tr>\n",
        "    <tr>\n",
        "      <th>NGEF</th>\n",
        "      <td>       neuronal guanine nucleotide exchange factor</td>\n",
        "      <td>          ngef</td>\n",
        "      <td>  9606</td>\n",
        "    </tr>\n",
        "    <tr>\n",
        "      <th>Zfp521</th>\n",
        "      <td>                           zinc finger protein 521</td>\n",
        "      <td>        zfp521</td>\n",
        "      <td> 10090</td>\n",
        "    </tr>\n",
        "    <tr>\n",
        "      <th>RAMP1</th>\n",
        "      <td> receptor (G protein-coupled) activity modifyin...</td>\n",
        "      <td>         ramp1</td>\n",
        "      <td>  9606</td>\n",
        "    </tr>\n",
        "    <tr>\n",
        "      <th>ME3</th>\n",
        "      <td>  malic enzyme 3, NADP(+)-dependent, mitochondrial</td>\n",
        "      <td>           me3</td>\n",
        "      <td>  9606</td>\n",
        "    </tr>\n",
        "    <tr>\n",
        "      <th>D3Bwg0562e</th>\n",
        "      <td> DNA segment, Chr 3, Brigham &amp; Women's Genetics...</td>\n",
        "      <td>    d3bwg0562e</td>\n",
        "      <td> 10090</td>\n",
        "    </tr>\n",
        "    <tr>\n",
        "      <th>SEZ6L2</th>\n",
        "      <td>          seizure related 6 homolog (mouse)-like 2</td>\n",
        "      <td>        sez6l2</td>\n",
        "      <td>  9606</td>\n",
        "    </tr>\n",
        "    <tr>\n",
        "      <th>ZNF326</th>\n",
        "      <td>                           zinc finger protein 326</td>\n",
        "      <td>        znf326</td>\n",
        "      <td>  9606</td>\n",
        "    </tr>\n",
        "    <tr>\n",
        "      <th>ACER3</th>\n",
        "      <td>                             alkaline ceramidase 3</td>\n",
        "      <td>         acer3</td>\n",
        "      <td>  9606</td>\n",
        "    </tr>\n",
        "    <tr>\n",
        "      <th>TLDC1</th>\n",
        "      <td>           TBC/LysM-associated domain containing 1</td>\n",
        "      <td>         tldc1</td>\n",
        "      <td>  9606</td>\n",
        "    </tr>\n",
        "    <tr>\n",
        "      <th>SULT6B1</th>\n",
        "      <td>  sulfotransferase family, cytosolic, 6B, member 1</td>\n",
        "      <td>       sult6b1</td>\n",
        "      <td>  9606</td>\n",
        "    </tr>\n",
        "    <tr>\n",
        "      <th>AA467197</th>\n",
        "      <td>                       expressed sequence AA467197</td>\n",
        "      <td>      aa467197</td>\n",
        "      <td> 10090</td>\n",
        "    </tr>\n",
        "    <tr>\n",
        "      <th>CTSA</th>\n",
        "      <td>                                       cathepsin A</td>\n",
        "      <td>          ctsa</td>\n",
        "      <td>  9606</td>\n",
        "    </tr>\n",
        "    <tr>\n",
        "      <th>COL1A2</th>\n",
        "      <td>                         collagen, type I, alpha 2</td>\n",
        "      <td>        col1a2</td>\n",
        "      <td>  9606</td>\n",
        "    </tr>\n",
        "    <tr>\n",
        "      <th>THAP9</th>\n",
        "      <td>                          THAP domain containing 9</td>\n",
        "      <td>         thap9</td>\n",
        "      <td>  9606</td>\n",
        "    </tr>\n",
        "    <tr>\n",
        "      <th>BBS10</th>\n",
        "      <td>                          Bardet-Biedl syndrome 10</td>\n",
        "      <td>         bbs10</td>\n",
        "      <td>  9606</td>\n",
        "    </tr>\n",
        "    <tr>\n",
        "      <th>GRIK2</th>\n",
        "      <td>         glutamate receptor, ionotropic, kainate 2</td>\n",
        "      <td>         grik2</td>\n",
        "      <td>  9606</td>\n",
        "    </tr>\n",
        "    <tr>\n",
        "      <th>GRIK5</th>\n",
        "      <td>         glutamate receptor, ionotropic, kainate 5</td>\n",
        "      <td>         grik5</td>\n",
        "      <td>  9606</td>\n",
        "    </tr>\n",
        "    <tr>\n",
        "      <th>HTR1A</th>\n",
        "      <td> 5-hydroxytryptamine (serotonin) receptor 1A, G...</td>\n",
        "      <td>         htr1a</td>\n",
        "      <td>  9606</td>\n",
        "    </tr>\n",
        "    <tr>\n",
        "      <th>Gm7808</th>\n",
        "      <td> ubiquitin A-52 residue ribosomal protein fusio...</td>\n",
        "      <td>        gm7808</td>\n",
        "      <td> 10090</td>\n",
        "    </tr>\n",
        "    <tr>\n",
        "      <th>SKIDA1</th>\n",
        "      <td>                      SKI/DACH domain containing 1</td>\n",
        "      <td>        skida1</td>\n",
        "      <td>  9606</td>\n",
        "    </tr>\n",
        "    <tr>\n",
        "      <th>Aldoart2</th>\n",
        "      <td>                         aldolase 1 A, retrogene 2</td>\n",
        "      <td>      aldoart2</td>\n",
        "      <td> 10090</td>\n",
        "    </tr>\n",
        "    <tr>\n",
        "      <th>PIK3IP1</th>\n",
        "      <td>   phosphoinositide-3-kinase interacting protein 1</td>\n",
        "      <td>       pik3ip1</td>\n",
        "      <td>  9606</td>\n",
        "    </tr>\n",
        "    <tr>\n",
        "      <th>SCARF2</th>\n",
        "      <td>              scavenger receptor class F, member 2</td>\n",
        "      <td>        scarf2</td>\n",
        "      <td>  9606</td>\n",
        "    </tr>\n",
        "    <tr>\n",
        "      <th>CXCL5</th>\n",
        "      <td>                  chemokine (C-X-C motif) ligand 5</td>\n",
        "      <td>         cxcl5</td>\n",
        "      <td>  9606</td>\n",
        "    </tr>\n",
        "    <tr>\n",
        "      <th>TFCP2L1</th>\n",
        "      <td>                   transcription factor CP2-like 1</td>\n",
        "      <td>       tfcp2l1</td>\n",
        "      <td>  9606</td>\n",
        "    </tr>\n",
        "    <tr>\n",
        "      <th>NOC3L</th>\n",
        "      <td> nucleolar complex associated 3 homolog (S. cer...</td>\n",
        "      <td>         noc3l</td>\n",
        "      <td>  9606</td>\n",
        "    </tr>\n",
        "    <tr>\n",
        "      <th>PPFIBP1</th>\n",
        "      <td> PTPRF interacting protein, binding protein 1 (...</td>\n",
        "      <td>       ppfibp1</td>\n",
        "      <td>  9606</td>\n",
        "    </tr>\n",
        "    <tr>\n",
        "      <th>9630033F20Rik</th>\n",
        "      <td>                        RIKEN cDNA 9630033F20 gene</td>\n",
        "      <td> 9630033f20rik</td>\n",
        "      <td> 10090</td>\n",
        "    </tr>\n",
        "    <tr>\n",
        "      <th>UFD1L</th>\n",
        "      <td>       ubiquitin fusion degradation 1 like (yeast)</td>\n",
        "      <td>         ufd1l</td>\n",
        "      <td>  9606</td>\n",
        "    </tr>\n",
        "    <tr>\n",
        "      <th>FNBP1L</th>\n",
        "      <td>                     formin binding protein 1-like</td>\n",
        "      <td>        fnbp1l</td>\n",
        "      <td>  9606</td>\n",
        "    </tr>\n",
        "    <tr>\n",
        "      <th>HMBOX1</th>\n",
        "      <td>                             homeobox containing 1</td>\n",
        "      <td>        hmbox1</td>\n",
        "      <td>  9606</td>\n",
        "    </tr>\n",
        "    <tr>\n",
        "      <th>ZPR1</th>\n",
        "      <td>                                  ZPR1 zinc finger</td>\n",
        "      <td>          zpr1</td>\n",
        "      <td>  9606</td>\n",
        "    </tr>\n",
        "    <tr>\n",
        "      <th>LRFN2</th>\n",
        "      <td> leucine rich repeat and fibronectin type III d...</td>\n",
        "      <td>         lrfn2</td>\n",
        "      <td>  9606</td>\n",
        "    </tr>\n",
        "    <tr>\n",
        "      <th>GCAT</th>\n",
        "      <td>                       glycine C-acetyltransferase</td>\n",
        "      <td>          gcat</td>\n",
        "      <td>  9606</td>\n",
        "    </tr>\n",
        "    <tr>\n",
        "      <th>RPL6</th>\n",
        "      <td>                              ribosomal protein L6</td>\n",
        "      <td>          rpl6</td>\n",
        "      <td>  9606</td>\n",
        "    </tr>\n",
        "    <tr>\n",
        "      <th>CYLD</th>\n",
        "      <td>           cylindromatosis (turban tumor syndrome)</td>\n",
        "      <td>          cyld</td>\n",
        "      <td>  9606</td>\n",
        "    </tr>\n",
        "    <tr>\n",
        "      <th>TNC</th>\n",
        "      <td>                                        tenascin C</td>\n",
        "      <td>           tnc</td>\n",
        "      <td>  9606</td>\n",
        "    </tr>\n",
        "    <tr>\n",
        "      <th>NISCH</th>\n",
        "      <td>                                         nischarin</td>\n",
        "      <td>         nisch</td>\n",
        "      <td>  9606</td>\n",
        "    </tr>\n",
        "    <tr>\n",
        "      <th>TFAP2B</th>\n",
        "      <td> transcription factor AP-2 beta (activating enh...</td>\n",
        "      <td>        tfap2b</td>\n",
        "      <td>  9606</td>\n",
        "    </tr>\n",
        "    <tr>\n",
        "      <th>GPER1</th>\n",
        "      <td>             G protein-coupled estrogen receptor 1</td>\n",
        "      <td>         gper1</td>\n",
        "      <td>  9606</td>\n",
        "    </tr>\n",
        "    <tr>\n",
        "      <th>PRDM16</th>\n",
        "      <td>                           PR domain containing 16</td>\n",
        "      <td>        prdm16</td>\n",
        "      <td>  9606</td>\n",
        "    </tr>\n",
        "    <tr>\n",
        "      <th>PRDM10</th>\n",
        "      <td>                           PR domain containing 10</td>\n",
        "      <td>        prdm10</td>\n",
        "      <td>  9606</td>\n",
        "    </tr>\n",
        "    <tr>\n",
        "      <th>RPL14</th>\n",
        "      <td>                             ribosomal protein L14</td>\n",
        "      <td>         rpl14</td>\n",
        "      <td>  9606</td>\n",
        "    </tr>\n",
        "    <tr>\n",
        "      <th>Srp54a</th>\n",
        "      <td>                   signal recognition particle 54A</td>\n",
        "      <td>        srp54a</td>\n",
        "      <td> 10090</td>\n",
        "    </tr>\n",
        "    <tr>\n",
        "      <th>Srp54b</th>\n",
        "      <td>                   signal recognition particle 54B</td>\n",
        "      <td>        srp54b</td>\n",
        "      <td> 10090</td>\n",
        "    </tr>\n",
        "    <tr>\n",
        "      <th>Srp54c</th>\n",
        "      <td>                   signal recognition particle 54C</td>\n",
        "      <td>        srp54c</td>\n",
        "      <td> 10090</td>\n",
        "    </tr>\n",
        "    <tr>\n",
        "      <th>RPL18</th>\n",
        "      <td>                             ribosomal protein L18</td>\n",
        "      <td>         rpl18</td>\n",
        "      <td>  9606</td>\n",
        "    </tr>\n",
        "    <tr>\n",
        "      <th>LTF</th>\n",
        "      <td>                                  lactotransferrin</td>\n",
        "      <td>           ltf</td>\n",
        "      <td>  9606</td>\n",
        "    </tr>\n",
        "    <tr>\n",
        "      <th>MAP1A</th>\n",
        "      <td>                 microtubule-associated protein 1A</td>\n",
        "      <td>         map1a</td>\n",
        "      <td>  9606</td>\n",
        "    </tr>\n",
        "    <tr>\n",
        "      <th>MAP1B</th>\n",
        "      <td>                 microtubule-associated protein 1B</td>\n",
        "      <td>         map1b</td>\n",
        "      <td>  9606</td>\n",
        "    </tr>\n",
        "    <tr>\n",
        "      <th></th>\n",
        "      <td>...</td>\n",
        "      <td>...</td>\n",
        "      <td>...</td>\n",
        "    </tr>\n",
        "  </tbody>\n",
        "</table>\n",
        "<p>1374 rows \u00d7 3 columns</p>\n",
        "</div>"
       ],
       "metadata": {},
       "output_type": "pyout",
       "prompt_number": 311,
       "text": [
        "                                                            name  \\\n",
        "SCRT2                               scratch family zinc finger 2   \n",
        "CDC42SE2                                  CDC42 small effector 2   \n",
        "ZC3H4                         zinc finger CCCH-type containing 4   \n",
        "LAMC1                          laminin, gamma 1 (formerly LAMB2)   \n",
        "SPEN                       spen family transcriptional repressor   \n",
        "SPEG                                          SPEG complex locus   \n",
        "DLAT                        dihydrolipoamide S-acetyltransferase   \n",
        "CLASP1                   cytoplasmic linker associated protein 1   \n",
        "NSG1                        neuron specific gene family member 1   \n",
        "AP4E1          adaptor-related protein complex 4, epsilon 1 s...   \n",
        "NGEF                 neuronal guanine nucleotide exchange factor   \n",
        "Zfp521                                   zinc finger protein 521   \n",
        "RAMP1          receptor (G protein-coupled) activity modifyin...   \n",
        "ME3             malic enzyme 3, NADP(+)-dependent, mitochondrial   \n",
        "D3Bwg0562e     DNA segment, Chr 3, Brigham & Women's Genetics...   \n",
        "SEZ6L2                  seizure related 6 homolog (mouse)-like 2   \n",
        "ZNF326                                   zinc finger protein 326   \n",
        "ACER3                                      alkaline ceramidase 3   \n",
        "TLDC1                    TBC/LysM-associated domain containing 1   \n",
        "SULT6B1         sulfotransferase family, cytosolic, 6B, member 1   \n",
        "AA467197                             expressed sequence AA467197   \n",
        "CTSA                                                 cathepsin A   \n",
        "COL1A2                                 collagen, type I, alpha 2   \n",
        "THAP9                                   THAP domain containing 9   \n",
        "BBS10                                   Bardet-Biedl syndrome 10   \n",
        "GRIK2                  glutamate receptor, ionotropic, kainate 2   \n",
        "GRIK5                  glutamate receptor, ionotropic, kainate 5   \n",
        "HTR1A          5-hydroxytryptamine (serotonin) receptor 1A, G...   \n",
        "Gm7808         ubiquitin A-52 residue ribosomal protein fusio...   \n",
        "SKIDA1                              SKI/DACH domain containing 1   \n",
        "Aldoart2                               aldolase 1 A, retrogene 2   \n",
        "PIK3IP1          phosphoinositide-3-kinase interacting protein 1   \n",
        "SCARF2                      scavenger receptor class F, member 2   \n",
        "CXCL5                           chemokine (C-X-C motif) ligand 5   \n",
        "TFCP2L1                          transcription factor CP2-like 1   \n",
        "NOC3L          nucleolar complex associated 3 homolog (S. cer...   \n",
        "PPFIBP1        PTPRF interacting protein, binding protein 1 (...   \n",
        "9630033F20Rik                         RIKEN cDNA 9630033F20 gene   \n",
        "UFD1L                ubiquitin fusion degradation 1 like (yeast)   \n",
        "FNBP1L                             formin binding protein 1-like   \n",
        "HMBOX1                                     homeobox containing 1   \n",
        "ZPR1                                            ZPR1 zinc finger   \n",
        "LRFN2          leucine rich repeat and fibronectin type III d...   \n",
        "GCAT                                 glycine C-acetyltransferase   \n",
        "RPL6                                        ribosomal protein L6   \n",
        "CYLD                     cylindromatosis (turban tumor syndrome)   \n",
        "TNC                                                   tenascin C   \n",
        "NISCH                                                  nischarin   \n",
        "TFAP2B         transcription factor AP-2 beta (activating enh...   \n",
        "GPER1                      G protein-coupled estrogen receptor 1   \n",
        "PRDM16                                   PR domain containing 16   \n",
        "PRDM10                                   PR domain containing 10   \n",
        "RPL14                                      ribosomal protein L14   \n",
        "Srp54a                           signal recognition particle 54A   \n",
        "Srp54b                           signal recognition particle 54B   \n",
        "Srp54c                           signal recognition particle 54C   \n",
        "RPL18                                      ribosomal protein L18   \n",
        "LTF                                             lactotransferrin   \n",
        "MAP1A                          microtubule-associated protein 1A   \n",
        "MAP1B                          microtubule-associated protein 1B   \n",
        "                                                             ...   \n",
        "\n",
        "                       query  taxid  \n",
        "SCRT2                  scrt2   9606  \n",
        "CDC42SE2            cdc42se2   9606  \n",
        "ZC3H4                  zc3h4   9606  \n",
        "LAMC1                  lamc1   9606  \n",
        "SPEN                    spen   9606  \n",
        "SPEG                    speg   9606  \n",
        "DLAT                    dlat   9606  \n",
        "CLASP1                clasp1   9606  \n",
        "NSG1                    nsg1   9606  \n",
        "AP4E1                  ap4e1   9606  \n",
        "NGEF                    ngef   9606  \n",
        "Zfp521                zfp521  10090  \n",
        "RAMP1                  ramp1   9606  \n",
        "ME3                      me3   9606  \n",
        "D3Bwg0562e        d3bwg0562e  10090  \n",
        "SEZ6L2                sez6l2   9606  \n",
        "ZNF326                znf326   9606  \n",
        "ACER3                  acer3   9606  \n",
        "TLDC1                  tldc1   9606  \n",
        "SULT6B1              sult6b1   9606  \n",
        "AA467197            aa467197  10090  \n",
        "CTSA                    ctsa   9606  \n",
        "COL1A2                col1a2   9606  \n",
        "THAP9                  thap9   9606  \n",
        "BBS10                  bbs10   9606  \n",
        "GRIK2                  grik2   9606  \n",
        "GRIK5                  grik5   9606  \n",
        "HTR1A                  htr1a   9606  \n",
        "Gm7808                gm7808  10090  \n",
        "SKIDA1                skida1   9606  \n",
        "Aldoart2            aldoart2  10090  \n",
        "PIK3IP1              pik3ip1   9606  \n",
        "SCARF2                scarf2   9606  \n",
        "CXCL5                  cxcl5   9606  \n",
        "TFCP2L1              tfcp2l1   9606  \n",
        "NOC3L                  noc3l   9606  \n",
        "PPFIBP1              ppfibp1   9606  \n",
        "9630033F20Rik  9630033f20rik  10090  \n",
        "UFD1L                  ufd1l   9606  \n",
        "FNBP1L                fnbp1l   9606  \n",
        "HMBOX1                hmbox1   9606  \n",
        "ZPR1                    zpr1   9606  \n",
        "LRFN2                  lrfn2   9606  \n",
        "GCAT                    gcat   9606  \n",
        "RPL6                    rpl6   9606  \n",
        "CYLD                    cyld   9606  \n",
        "TNC                      tnc   9606  \n",
        "NISCH                  nisch   9606  \n",
        "TFAP2B                tfap2b   9606  \n",
        "GPER1                  gper1   9606  \n",
        "PRDM16                prdm16   9606  \n",
        "PRDM10                prdm10   9606  \n",
        "RPL14                  rpl14   9606  \n",
        "Srp54a                srp54a  10090  \n",
        "Srp54b                srp54b  10090  \n",
        "Srp54c                srp54c  10090  \n",
        "RPL18                  rpl18   9606  \n",
        "LTF                      ltf   9606  \n",
        "MAP1A                  map1a   9606  \n",
        "MAP1B                  map1b   9606  \n",
        "                         ...    ...  \n",
        "\n",
        "[1374 rows x 3 columns]"
       ]
      }
     ],
     "prompt_number": 311
    },
    {
     "cell_type": "code",
     "collapsed": false,
     "input": [],
     "language": "python",
     "metadata": {},
     "outputs": []
    }
   ],
   "metadata": {}
  }
 ]
}