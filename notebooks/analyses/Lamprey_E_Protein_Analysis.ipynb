{
 "metadata": {
  "name": "",
  "signature": "sha256:f2045df1f944c538075c948b65d72dc857c5850f274f6cedf15abcb50dd4c264"
 },
 "nbformat": 3,
 "nbformat_minor": 0,
 "worksheets": [
  {
   "cells": [
    {
     "cell_type": "heading",
     "level": 2,
     "metadata": {},
     "source": [
      "Initialization"
     ]
    },
    {
     "cell_type": "code",
     "collapsed": false,
     "input": [
      "%load_ext autoreload\n",
      "%autoreload 2\n",
      "from petmar_common import *"
     ],
     "language": "python",
     "metadata": {},
     "outputs": [],
     "prompt_number": 1
    },
    {
     "cell_type": "code",
     "collapsed": false,
     "input": [
      "import peasoup\n",
      "from peasoup import blast"
     ],
     "language": "python",
     "metadata": {},
     "outputs": [],
     "prompt_number": 18
    },
    {
     "cell_type": "code",
     "collapsed": false,
     "input": [
      "from IPython.display import HTML, IFrame"
     ],
     "language": "python",
     "metadata": {},
     "outputs": [],
     "prompt_number": 99
    },
    {
     "cell_type": "code",
     "collapsed": false,
     "input": [
      "def wdir(fn=''):\n",
      "    return os.path.join('../../work/', fn)"
     ],
     "language": "python",
     "metadata": {},
     "outputs": [],
     "prompt_number": 2
    },
    {
     "cell_type": "code",
     "collapsed": false,
     "input": [
      "store = pd.HDFStore(wdir('{}.store.h5'.format(metadata['prefix'])), complib='zlib', complevel=9)"
     ],
     "language": "python",
     "metadata": {},
     "outputs": [],
     "prompt_number": 3
    },
    {
     "cell_type": "code",
     "collapsed": false,
     "input": [
      "orf_df = store['orf_df']"
     ],
     "language": "python",
     "metadata": {},
     "outputs": [],
     "prompt_number": 165
    },
    {
     "cell_type": "code",
     "collapsed": false,
     "input": [
      "db_metadata = store['db_metadata']"
     ],
     "language": "python",
     "metadata": {},
     "outputs": [],
     "prompt_number": 5
    },
    {
     "cell_type": "code",
     "collapsed": false,
     "input": [
      "prefix = metadata['prefix'] + '_'"
     ],
     "language": "python",
     "metadata": {},
     "outputs": [],
     "prompt_number": 4
    },
    {
     "cell_type": "code",
     "collapsed": false,
     "input": [
      "assem_db = screed.ScreedDB(wdir(db_metadata.fn.assembly))"
     ],
     "language": "python",
     "metadata": {},
     "outputs": [],
     "prompt_number": 21
    },
    {
     "cell_type": "code",
     "collapsed": false,
     "input": [
      "screed.read_fasta_sequences(wdir('E_protein_ALTS.fa'))"
     ],
     "language": "python",
     "metadata": {},
     "outputs": [
      {
       "metadata": {},
       "output_type": "pyout",
       "prompt_number": 131,
       "text": [
        "<ScreedDB, '../../work/E_protein_ALTS.fa_screed'>"
       ]
      }
     ],
     "prompt_number": 131
    },
    {
     "cell_type": "code",
     "collapsed": false,
     "input": [
      "alt_isoform_db = screed.ScreedDB(wdir('E_protein_ALTS.fa'))"
     ],
     "language": "python",
     "metadata": {},
     "outputs": [],
     "prompt_number": 132
    },
    {
     "cell_type": "code",
     "collapsed": false,
     "input": [
      "screed.read_fasta_sequences(wdir('E_protein_ALT_DOMAINS.fa'))"
     ],
     "language": "python",
     "metadata": {},
     "outputs": [
      {
       "metadata": {},
       "output_type": "pyout",
       "prompt_number": 110,
       "text": [
        "<ScreedDB, '../../work/E_protein_ALT_DOMAINS.fa_screed'>"
       ]
      }
     ],
     "prompt_number": 110
    },
    {
     "cell_type": "code",
     "collapsed": false,
     "input": [
      "alt_domain_db = screed.ScreedDB(wdir('E_protein_ALT_DOMAINS.fa'))"
     ],
     "language": "python",
     "metadata": {},
     "outputs": [],
     "prompt_number": 111
    },
    {
     "cell_type": "code",
     "collapsed": false,
     "input": [
      "screed.read_fasta_sequences(wdir('E_protein_CAN.fa'))"
     ],
     "language": "python",
     "metadata": {},
     "outputs": [
      {
       "metadata": {},
       "output_type": "pyout",
       "prompt_number": 156,
       "text": [
        "<ScreedDB, '../../work/E_protein_CAN.fa_screed'>"
       ]
      }
     ],
     "prompt_number": 156
    },
    {
     "cell_type": "code",
     "collapsed": false,
     "input": [
      "canonical_db = screed.ScreedDB(wdir('E_protein_CAN.fa'))"
     ],
     "language": "python",
     "metadata": {},
     "outputs": [],
     "prompt_number": 157
    },
    {
     "cell_type": "code",
     "collapsed": false,
     "input": [
      "iso_rsem_df = store['iso_rsem_df']\n",
      "iso_support_df = store['iso_support_df']"
     ],
     "language": "python",
     "metadata": {},
     "outputs": [],
     "prompt_number": 193
    },
    {
     "cell_type": "heading",
     "level": 2,
     "metadata": {},
     "source": [
      "Function Defs"
     ]
    },
    {
     "cell_type": "code",
     "collapsed": false,
     "input": [
      "def tblastx_by_sequence(query_screed_db, db_name):\n",
      "    \n",
      "    blast_files = []\n",
      "    \n",
      "    for n, record in query_screed_db.iteritems():\n",
      "    \n",
      "        seq_fn = '{}.fa'.format(record.name)\n",
      "        blast_fn = '{}.x.{}.blast'.format(record.name, db_name)\n",
      "    \n",
      "        with open(seq_fn, 'wb') as fp:\n",
      "            fp.write('>{}\\n{}\\n'.format(record.name, record.sequence))\n",
      "    \n",
      "        !tblastx -query {seq_fn} -db {wdir(db_name)} -evalue .00001 \\\n",
      "            -out {blast_fn}\n",
      "        blast_files.append(blast_fn)\n",
      "    return blast_files"
     ],
     "language": "python",
     "metadata": {},
     "outputs": [],
     "prompt_number": 135
    },
    {
     "cell_type": "code",
     "collapsed": false,
     "input": [
      "def mview_html(blast_fn, extra_opts=''):\n",
      "    out = !/home/camille/bin/mview-1.56/bin/mview {extra_opts} -in blast -width 60 \\\n",
      "        -ruler on -html data -bold -coloring identity -label0 -label3 -label6 {blast_fn}\n",
      "    return out.n"
     ],
     "language": "python",
     "metadata": {},
     "outputs": [],
     "prompt_number": 145
    },
    {
     "cell_type": "heading",
     "level": 2,
     "metadata": {},
     "source": [
      "Alt Domain Search"
     ]
    },
    {
     "cell_type": "markdown",
     "metadata": {},
     "source": [
      "First, we'll just search for the alt domains and visualize the results. We should expect some divergence, so we'll use tblastx for translated nucleotide vs. translated nucleotide search. The utility function we defined above does separate blast searches for each sequence in a database and returns the results files in a list for convenience, to allow the exploration of a small number of sequences."
     ]
    },
    {
     "cell_type": "code",
     "collapsed": false,
     "input": [
      "alt_domains_blast_files = tblastx_by_sequence(alt_domain_db, db_metadata.fn['assembly'] + '.db')"
     ],
     "language": "python",
     "metadata": {},
     "outputs": [],
     "prompt_number": 137
    },
    {
     "cell_type": "code",
     "collapsed": false,
     "input": [
      "vizhtml = ''\n",
      "for fn in alt_domains_blast_files:\n",
      "    vizhtml += mview_html(fn)\n",
      "with open('alt_domains_blast_html.html', 'wb') as fp:\n",
      "    fp.write(vizhtml)\n",
      "HTML(vizhtml)"
     ],
     "language": "python",
     "metadata": {},
     "outputs": [
      {
       "html": [
        "<TABLE BORDER=0 BGCOLOR='white' TEXT='#666666' LINK='blue' ALINK='red' VLINK='purple'>\n",
        "<TR><TD><PRE>\n",
        "Reference sequence (query): M_musculus_E2-2-Alt_domain\n",
        "Identities normalised by aligned length.\n",
        "Colored by: identity + property\n",
        "</PRE></TD></TR>\n",
        "<TR><TD><PRE>\n",
        "HSP processing: ranked\n",
        "Query orientation: +\n",
        "</PRE></TD></TR>\n",
        "<TR><TD>\n",
        "<PRE>\n",
        "                                       <STRONG> 1</STRONG> <STRONG>[        .         . ]</STRONG> <STRONG>22</STRONG>\n",
        "M_musculus_E2-2-Alt_domain 100.0% 1:66 <STRONG>  </STRONG> <STRONG><FONT COLOR=\"#33cc00\">M</FONT><FONT COLOR=\"#009900\">Y</FONT><FONT COLOR=\"#ffff00\">C</FONT><FONT COLOR=\"#33cc00\">A</FONT><FONT COLOR=\"#009900\">Y</FONT><FONT COLOR=\"#0099ff\">T</FONT><FONT COLOR=\"#33cc00\">IPGMGG</FONT><FONT COLOR=\"#6600cc\">N</FONT><FONT COLOR=\"#0099ff\">S</FONT><FONT COLOR=\"#33cc00\">LM</FONT><FONT COLOR=\"#009900\">YYY</FONT><FONT COLOR=\"#6600cc\">N</FONT><FONT COLOR=\"#33cc00\">G</FONT><FONT COLOR=\"#cc0000\">K</FONT></STRONG> <STRONG>  </STRONG>\n",
        "comp643321_c0_seq2          81.8% 1:66 <STRONG>  </STRONG> <STRONG><FONT COLOR=\"#33cc00\">M</FONT><FONT COLOR=\"#009900\">Y</FONT><FONT COLOR=\"#ffff00\">C</FONT><FONT COLOR=\"#33cc00\">A</FONT><FONT COLOR=\"#009900\">Y</FONT><FONT COLOR=\"#666666\">PV</FONT><FONT COLOR=\"#33cc00\">PGMG</FONT><FONT COLOR=\"#666666\">SS</FONT><FONT COLOR=\"#0099ff\">S</FONT><FONT COLOR=\"#33cc00\">LM</FONT><FONT COLOR=\"#009900\">YYY</FONT><FONT COLOR=\"#6600cc\">N</FONT><FONT COLOR=\"#33cc00\">G</FONT><FONT COLOR=\"#cc0000\">K</FONT></STRONG> <STRONG>  </STRONG>\n",
        "comp637802_c0_seq3          77.3% 1:66 <STRONG>  </STRONG> <STRONG><FONT COLOR=\"#33cc00\">M</FONT><FONT COLOR=\"#009900\">Y</FONT><FONT COLOR=\"#ffff00\">C</FONT><FONT COLOR=\"#33cc00\">A</FONT><FONT COLOR=\"#009900\">Y</FONT><FONT COLOR=\"#666666\">PM</FONT><FONT COLOR=\"#33cc00\">PG</FONT><FONT COLOR=\"#666666\">I</FONT><FONT COLOR=\"#33cc00\">G</FONT><FONT COLOR=\"#666666\">NS</FONT><FONT COLOR=\"#0099ff\">S</FONT><FONT COLOR=\"#33cc00\">LM</FONT><FONT COLOR=\"#009900\">YYY</FONT><FONT COLOR=\"#6600cc\">N</FONT><FONT COLOR=\"#33cc00\">G</FONT><FONT COLOR=\"#cc0000\">K</FONT></STRONG> <STRONG>  </STRONG>\n",
        "</PRE>\n",
        "</TD></TR>\n",
        "</TABLE><TABLE BORDER=0 BGCOLOR='white' TEXT='#666666' LINK='blue' ALINK='red' VLINK='purple'>\n",
        "<TR><TD><PRE>\n",
        "Reference sequence (query): M_musculus_HEB-Alt_domain\n",
        "Identities normalised by aligned length.\n",
        "Colored by: identity + property\n",
        "</PRE></TD></TR>\n",
        "<TR><TD><PRE>\n",
        "HSP processing: ranked\n",
        "Query orientation: +\n",
        "</PRE></TD></TR>\n",
        "<TR><TD>\n",
        "<PRE>\n",
        "                                      <STRONG> 1</STRONG> <STRONG>[        .         .  ]</STRONG> <STRONG>23</STRONG>\n",
        "M_musculus_HEB-Alt_domain 100.0% 1:69 <STRONG>  </STRONG> <STRONG><FONT COLOR=\"#33cc00\">M</FONT><FONT COLOR=\"#009900\">Y</FONT><FONT COLOR=\"#ffff00\">C</FONT><FONT COLOR=\"#33cc00\">A</FONT><FONT COLOR=\"#009900\">Y</FONT><FONT COLOR=\"#33cc00\">PVPGMG</FONT><FONT COLOR=\"#6600cc\">NN</FONT><FONT COLOR=\"#0099ff\">S</FONT><FONT COLOR=\"#33cc00\">LM</FONT><FONT COLOR=\"#009900\">YYY</FONT><FONT COLOR=\"#6600cc\">N</FONT><FONT COLOR=\"#33cc00\">G</FONT><FONT COLOR=\"#cc0000\">K</FONT><FONT COLOR=\"#0099ff\">T</FONT></STRONG> <STRONG>  </STRONG>\n",
        "comp643321_c0_seq2         91.3% 1:69 <STRONG>  </STRONG> <STRONG><FONT COLOR=\"#33cc00\">M</FONT><FONT COLOR=\"#009900\">Y</FONT><FONT COLOR=\"#ffff00\">C</FONT><FONT COLOR=\"#33cc00\">A</FONT><FONT COLOR=\"#009900\">Y</FONT><FONT COLOR=\"#33cc00\">PVPGMG</FONT><FONT COLOR=\"#666666\">SS</FONT><FONT COLOR=\"#0099ff\">S</FONT><FONT COLOR=\"#33cc00\">LM</FONT><FONT COLOR=\"#009900\">YYY</FONT><FONT COLOR=\"#6600cc\">N</FONT><FONT COLOR=\"#33cc00\">G</FONT><FONT COLOR=\"#cc0000\">K</FONT><FONT COLOR=\"#0099ff\">T</FONT></STRONG> <STRONG>  </STRONG>\n",
        "comp637802_c0_seq3         87.0% 1:69 <STRONG>  </STRONG> <STRONG><FONT COLOR=\"#33cc00\">M</FONT><FONT COLOR=\"#009900\">Y</FONT><FONT COLOR=\"#ffff00\">C</FONT><FONT COLOR=\"#33cc00\">A</FONT><FONT COLOR=\"#009900\">Y</FONT><FONT COLOR=\"#33cc00\">P</FONT><FONT COLOR=\"#666666\">M</FONT><FONT COLOR=\"#33cc00\">PG</FONT><FONT COLOR=\"#666666\">I</FONT><FONT COLOR=\"#33cc00\">G</FONT><FONT COLOR=\"#6600cc\">N</FONT><FONT COLOR=\"#666666\">S</FONT><FONT COLOR=\"#0099ff\">S</FONT><FONT COLOR=\"#33cc00\">LM</FONT><FONT COLOR=\"#009900\">YYY</FONT><FONT COLOR=\"#6600cc\">N</FONT><FONT COLOR=\"#33cc00\">G</FONT><FONT COLOR=\"#cc0000\">K</FONT><FONT COLOR=\"#0099ff\">T</FONT></STRONG> <STRONG>  </STRONG>\n",
        "comp645729_c2_seq1         82.6% 1:69 <STRONG>  </STRONG> <STRONG><FONT COLOR=\"#33cc00\">M</FONT><FONT COLOR=\"#009900\">Y</FONT><FONT COLOR=\"#ffff00\">C</FONT><FONT COLOR=\"#33cc00\">A</FONT><FONT COLOR=\"#009900\">Y</FONT><FONT COLOR=\"#33cc00\">PV</FONT><FONT COLOR=\"#666666\">S</FONT><FONT COLOR=\"#33cc00\">G</FONT><FONT COLOR=\"#666666\">TT</FONT><FONT COLOR=\"#6600cc\">NN</FONT><FONT COLOR=\"#666666\">P</FONT><FONT COLOR=\"#33cc00\">LM</FONT><FONT COLOR=\"#009900\">YYY</FONT><FONT COLOR=\"#6600cc\">N</FONT><FONT COLOR=\"#33cc00\">G</FONT><FONT COLOR=\"#cc0000\">K</FONT><FONT COLOR=\"#0099ff\">T</FONT></STRONG> <STRONG>  </STRONG>\n",
        "</PRE>\n",
        "</TD></TR>\n",
        "</TABLE>"
       ],
       "metadata": {},
       "output_type": "pyout",
       "prompt_number": 155,
       "text": [
        "<IPython.core.display.HTML at 0x7fd1072d58d0>"
       ]
      }
     ],
     "prompt_number": 155
    },
    {
     "cell_type": "code",
     "collapsed": false,
     "input": [
      "alt_isoforms_blast_files = tblastx_by_sequence(alt_isoform_db, db_metadata.fn['assembly'] + '.db')"
     ],
     "language": "python",
     "metadata": {},
     "outputs": [],
     "prompt_number": 142
    },
    {
     "cell_type": "code",
     "collapsed": false,
     "input": [
      "vizhtml = ''\n",
      "for fn in alt_isoforms_blast_files:\n",
      "    vizhtml += mview_html(fn, extra_opts=\"-disc '*' -keep '/^M_musculus_E2-2-Alt/,/^comp643321_c0_seq2/,/^comp637802_c0_seq3/,/^comp645729_c2_seq1/,/^M_musculus_HEB-Alt_domain/'\")\n",
      "with open('alt_isoforms_blast_html.html', 'wb') as fp:\n",
      "    fp.write(vizhtml)\n",
      "HTML(vizhtml)"
     ],
     "language": "python",
     "metadata": {},
     "outputs": [
      {
       "html": [
        "<TABLE BORDER=0 BGCOLOR='white' TEXT='#666666' LINK='blue' ALINK='red' VLINK='purple'>\n",
        "<TR><TD><PRE>\n",
        "Reference sequence (query): M_musculus_E2-2-Alt\n",
        "Identities normalised by aligned length.\n",
        "Colored by: identity + property\n",
        "</PRE></TD></TR>\n",
        "<TR><TD><PRE>\n",
        "HSP processing: ranked\n",
        "Query orientation: +\n",
        "</PRE></TD></TR>\n",
        "<TR><TD>\n",
        "<PRE>\n",
        "                                  <STRONG>  1</STRONG> <STRONG>[        .         .         .         .         :         .</STRONG> <STRONG>60 </STRONG>\n",
        "M_musculus_E2-2-Alt 100.0% 1:1524 <STRONG>   </STRONG> <STRONG><FONT COLOR=\"#33cc00\">M</FONT><FONT COLOR=\"#009900\">Y</FONT><FONT COLOR=\"#ffff00\">C</FONT><FONT COLOR=\"#33cc00\">A</FONT><FONT COLOR=\"#009900\">Y</FONT><FONT COLOR=\"#0099ff\">T</FONT><FONT COLOR=\"#33cc00\">IPGMGG</FONT><FONT COLOR=\"#6600cc\">N</FONT><FONT COLOR=\"#0099ff\">S</FONT><FONT COLOR=\"#33cc00\">LM</FONT><FONT COLOR=\"#009900\">YYY</FONT><FONT COLOR=\"#6600cc\">N</FONT><FONT COLOR=\"#33cc00\">G</FONT><FONT COLOR=\"#cc0000\">K</FONT><FONT COLOR=\"#33cc00\">AV</FONT><FONT COLOR=\"#009900\">Y</FONT><FONT COLOR=\"#33cc00\">AP</FONT><FONT COLOR=\"#0099ff\">S</FONT><FONT COLOR=\"#33cc00\">A</FONT><FONT COLOR=\"#0099ff\">ST</FONT><FONT COLOR=\"#33cc00\">A</FONT><FONT COLOR=\"#0033ff\">D</FONT><FONT COLOR=\"#009900\">Y</FONT><FONT COLOR=\"#6600cc\">N</FONT><FONT COLOR=\"#cc0000\">R</FONT><FONT COLOR=\"#0033ff\">D</FONT><FONT COLOR=\"#0099ff\">S</FONT><FONT COLOR=\"#33cc00\">PG</FONT><FONT COLOR=\"#009900\">Y</FONT><FONT COLOR=\"#33cc00\">P</FONT><FONT COLOR=\"#0099ff\">SS</FONT><FONT COLOR=\"#cc0000\">K</FONT><FONT COLOR=\"#33cc00\">PAA</FONT><FONT COLOR=\"#0099ff\">ST</FONT><FONT COLOR=\"#009900\">F</FONT><FONT COLOR=\"#33cc00\">P</FONT><FONT COLOR=\"#0099ff\">SS</FONT><FONT COLOR=\"#009900\">FF</FONT><FONT COLOR=\"#33cc00\">M</FONT><FONT COLOR=\"#6600cc\">Q</FONT><FONT COLOR=\"#0033ff\">D</FONT><FONT COLOR=\"#33cc00\">G</FONT></STRONG> <STRONG>   </STRONG>\n",
        "comp637802_c0_seq3   72.4%   1:87 <STRONG>   </STRONG> <STRONG><FONT COLOR=\"#33cc00\">M</FONT><FONT COLOR=\"#009900\">Y</FONT><FONT COLOR=\"#ffff00\">C</FONT><FONT COLOR=\"#33cc00\">A</FONT><FONT COLOR=\"#009900\">Y</FONT><FONT COLOR=\"#666666\">PM</FONT><FONT COLOR=\"#33cc00\">PG</FONT><FONT COLOR=\"#666666\">I</FONT><FONT COLOR=\"#33cc00\">G</FONT><FONT COLOR=\"#666666\">NS</FONT><FONT COLOR=\"#0099ff\">S</FONT><FONT COLOR=\"#33cc00\">LM</FONT><FONT COLOR=\"#009900\">YYY</FONT><FONT COLOR=\"#6600cc\">N</FONT><FONT COLOR=\"#33cc00\">G</FONT><FONT COLOR=\"#cc0000\">K</FONT><FONT COLOR=\"#666666\">T</FONT><FONT COLOR=\"#33cc00\">V</FONT><FONT COLOR=\"#009900\">Y</FONT><FONT COLOR=\"#33cc00\">AP</FONT><FONT COLOR=\"#666666\">GS-------------------------------</FONT></STRONG> <STRONG>   </STRONG>\n",
        "comp645729_c2_seq1   64.5%  1:186 <STRONG>   </STRONG> <STRONG><FONT COLOR=\"#33cc00\">M</FONT><FONT COLOR=\"#009900\">Y</FONT><FONT COLOR=\"#ffff00\">C</FONT><FONT COLOR=\"#33cc00\">A</FONT><FONT COLOR=\"#009900\">Y</FONT><FONT COLOR=\"#666666\">PVS</FONT><FONT COLOR=\"#33cc00\">G</FONT><FONT COLOR=\"#666666\">TTN</FONT><FONT COLOR=\"#6600cc\">N</FONT><FONT COLOR=\"#666666\">P</FONT><FONT COLOR=\"#33cc00\">LM</FONT><FONT COLOR=\"#009900\">YYY</FONT><FONT COLOR=\"#6600cc\">N</FONT><FONT COLOR=\"#33cc00\">G</FONT><FONT COLOR=\"#cc0000\">K</FONT><FONT COLOR=\"#666666\">T</FONT><FONT COLOR=\"#33cc00\">V</FONT><FONT COLOR=\"#009900\">Y</FONT><FONT COLOR=\"#33cc00\">AP</FONT><FONT COLOR=\"#0099ff\">S</FONT><FONT COLOR=\"#666666\">P</FONT><FONT COLOR=\"#0099ff\">S</FONT><FONT COLOR=\"#666666\">QD</FONT><FONT COLOR=\"#0033ff\">D</FONT><FONT COLOR=\"#009900\">Y</FONT><FONT COLOR=\"#6600cc\">N</FONT><FONT COLOR=\"#cc0000\">R</FONT><FONT COLOR=\"#666666\">E</FONT><FONT COLOR=\"#0099ff\">S</FONT><FONT COLOR=\"#33cc00\">PG</FONT><FONT COLOR=\"#666666\">F</FONT><FONT COLOR=\"#33cc00\">P</FONT><FONT COLOR=\"#666666\">PA</FONT><FONT COLOR=\"#cc0000\">K</FONT><FONT COLOR=\"#33cc00\">PA</FONT><FONT COLOR=\"#666666\">S</FONT><FONT COLOR=\"#0099ff\">S</FONT><FONT COLOR=\"#666666\">M</FONT><FONT COLOR=\"#009900\">F</FONT><FONT COLOR=\"#666666\">SGTY</FONT><FONT COLOR=\"#009900\">F</FONT><FONT COLOR=\"#33cc00\">M</FONT><FONT COLOR=\"#6600cc\">Q</FONT><FONT COLOR=\"#0033ff\">D</FONT><FONT COLOR=\"#33cc00\">G</FONT></STRONG> <STRONG>   </STRONG>\n",
        "comp643321_c0_seq2   46.5%  1:258 <STRONG>   </STRONG> <STRONG><FONT COLOR=\"#33cc00\">M</FONT><FONT COLOR=\"#009900\">Y</FONT><FONT COLOR=\"#ffff00\">C</FONT><FONT COLOR=\"#33cc00\">A</FONT><FONT COLOR=\"#009900\">Y</FONT><FONT COLOR=\"#666666\">PV</FONT><FONT COLOR=\"#33cc00\">PGMG</FONT><FONT COLOR=\"#666666\">SS</FONT><FONT COLOR=\"#0099ff\">S</FONT><FONT COLOR=\"#33cc00\">LM</FONT><FONT COLOR=\"#009900\">YYY</FONT><FONT COLOR=\"#6600cc\">N</FONT><FONT COLOR=\"#33cc00\">G</FONT><FONT COLOR=\"#cc0000\">K</FONT><FONT COLOR=\"#666666\">T</FONT><FONT COLOR=\"#33cc00\">V</FONT><FONT COLOR=\"#009900\">Y</FONT><FONT COLOR=\"#33cc00\">AP</FONT><FONT COLOR=\"#0099ff\">S</FONT><FONT COLOR=\"#666666\">VAADEF</FONT><FONT COLOR=\"#6600cc\">N</FONT><FONT COLOR=\"#cc0000\">R</FONT><FONT COLOR=\"#666666\">E</FONT><FONT COLOR=\"#0099ff\">S</FONT><FONT COLOR=\"#33cc00\">P</FONT><FONT COLOR=\"#666666\">S</FONT><FONT COLOR=\"#009900\">Y</FONT><FONT COLOR=\"#666666\">SAKP</FONT><FONT COLOR=\"#33cc00\">P</FONT><FONT COLOR=\"#666666\">GSMFSSPY</FONT><FONT COLOR=\"#009900\">F</FONT><FONT COLOR=\"#666666\">MQDAA</FONT></STRONG> <STRONG>   </STRONG>\n",
        "\n",
        "                                  <STRONG> 61</STRONG> <STRONG>         .         .         .         1         .         .</STRONG> <STRONG>120</STRONG>\n",
        "M_musculus_E2-2-Alt 100.0% 1:1524 <STRONG>   </STRONG> <STRONG><FONT COLOR=\"#009900\">HH</FONT><FONT COLOR=\"#0099ff\">ss</FONT><FONT COLOR=\"#0033ff\">d</FONT><FONT COLOR=\"#33cc00\">p</FONT><FONT COLOR=\"#009900\">w</FONT><FONT COLOR=\"#0099ff\">ssss</FONT><FONT COLOR=\"#33cc00\">GM</FONT><FONT COLOR=\"#6600cc\">NQ</FONT><FONT COLOR=\"#33cc00\">PG</FONT><FONT COLOR=\"#009900\">Y</FONT><FONT COLOR=\"#33cc00\">GGMLG</FONT><FONT COLOR=\"#6600cc\">N</FONT><FONT COLOR=\"#0099ff\">SS</FONT><FONT COLOR=\"#666666\">XXXXXXXXXXXXXXXXXXXXX</FONT><FONT COLOR=\"#009900\">H</FONT><FONT COLOR=\"#0099ff\">SS</FONT><FONT COLOR=\"#33cc00\">A</FONT><FONT COLOR=\"#0033ff\">D</FONT><FONT COLOR=\"#33cc00\">I</FONT><FONT COLOR=\"#6600cc\">N</FONT><FONT COLOR=\"#0099ff\">SS</FONT><FONT COLOR=\"#33cc00\">LPPM</FONT></STRONG> <STRONG>   </STRONG>\n",
        "comp637802_c0_seq3   72.4%   1:87 <STRONG>   </STRONG> <STRONG><FONT COLOR=\"#666666\">------------------------------------------------------------</FONT></STRONG> <STRONG>   </STRONG>\n",
        "comp645729_c2_seq1   64.5%  1:186 <STRONG>   </STRONG> <STRONG><FONT COLOR=\"#666666\">P</FONT><FONT COLOR=\"#009900\">H</FONT><FONT COLOR=\"#666666\">----------------------------------------------------------</FONT></STRONG> <STRONG>   </STRONG>\n",
        "comp643321_c0_seq2   46.5%  1:258 <STRONG>   </STRONG> <STRONG><FONT COLOR=\"#009900\">H</FONT><FONT COLOR=\"#666666\">G</FONT><FONT COLOR=\"#0099ff\">SS</FONT><FONT COLOR=\"#0033ff\">D</FONT><FONT COLOR=\"#666666\">L</FONT><FONT COLOR=\"#009900\">W</FONT><FONT COLOR=\"#0099ff\">SSS</FONT><FONT COLOR=\"#666666\">N</FONT><FONT COLOR=\"#33cc00\">GM</FONT><FONT COLOR=\"#666666\">S</FONT><FONT COLOR=\"#6600cc\">Q</FONT><FONT COLOR=\"#666666\">Q</FONT><FONT COLOR=\"#33cc00\">G</FONT><FONT COLOR=\"#009900\">Y</FONT><FONT COLOR=\"#666666\">SS</FONT><FONT COLOR=\"#33cc00\">MLG</FONT><FONT COLOR=\"#666666\">A</FONT><FONT COLOR=\"#0099ff\">S</FONT><FONT COLOR=\"#666666\">A----------------------------------</FONT></STRONG> <STRONG>   </STRONG>\n",
        "\n",
        "                                  <STRONG>121</STRONG> <STRONG>         .         .         :         .         .         .</STRONG> <STRONG>180</STRONG>\n",
        "M_musculus_E2-2-Alt 100.0% 1:1524 <STRONG>   </STRONG> <STRONG><FONT COLOR=\"#0099ff\">ST</FONT><FONT COLOR=\"#009900\">FH</FONT><FONT COLOR=\"#cc0000\">R</FONT><FONT COLOR=\"#0099ff\">S</FONT><FONT COLOR=\"#33cc00\">G</FONT><FONT COLOR=\"#0099ff\">T</FONT><FONT COLOR=\"#6600cc\">N</FONT><FONT COLOR=\"#009900\">HY</FONT><FONT COLOR=\"#0099ff\">STSS</FONT><FONT COLOR=\"#ffff00\">C</FONT><FONT COLOR=\"#0099ff\">T</FONT><FONT COLOR=\"#33cc00\">PPA</FONT><FONT COLOR=\"#6600cc\">N</FONT><FONT COLOR=\"#33cc00\">G</FONT><FONT COLOR=\"#0099ff\">T</FONT><FONT COLOR=\"#0033ff\">D</FONT><FONT COLOR=\"#0099ff\">S</FONT><FONT COLOR=\"#33cc00\">IMA</FONT><FONT COLOR=\"#6600cc\">N</FONT><FONT COLOR=\"#cc0000\">R</FONT><FONT COLOR=\"#33cc00\">G</FONT><FONT COLOR=\"#0099ff\">T</FONT><FONT COLOR=\"#33cc00\">GAAG</FONT><FONT COLOR=\"#0099ff\">SS</FONT><FONT COLOR=\"#6600cc\">Q</FONT><FONT COLOR=\"#0099ff\">T</FONT><FONT COLOR=\"#33cc00\">G</FONT><FONT COLOR=\"#0033ff\">D</FONT><FONT COLOR=\"#33cc00\">ALG</FONT><FONT COLOR=\"#cc0000\">K</FONT><FONT COLOR=\"#33cc00\">ALA</FONT><FONT COLOR=\"#0099ff\">S</FONT><FONT COLOR=\"#33cc00\">I</FONT><FONT COLOR=\"#009900\">Y</FONT><FONT COLOR=\"#0099ff\">S</FONT><FONT COLOR=\"#33cc00\">P</FONT><FONT COLOR=\"#0033ff\">D</FONT><FONT COLOR=\"#009900\">H</FONT><FONT COLOR=\"#0099ff\">t</FONT><FONT COLOR=\"#6600cc\">nn</FONT><FONT COLOR=\"#0099ff\">s</FONT></STRONG> <STRONG>   </STRONG>\n",
        "comp637802_c0_seq3   72.4%   1:87 <STRONG>   </STRONG> <STRONG><FONT COLOR=\"#666666\">------------------------------------------------------------</FONT></STRONG> <STRONG>   </STRONG>\n",
        "comp645729_c2_seq1   64.5%  1:186 <STRONG>   </STRONG> <STRONG><FONT COLOR=\"#666666\">------------------------------------------------------------</FONT></STRONG> <STRONG>   </STRONG>\n",
        "comp643321_c0_seq2   46.5%  1:258 <STRONG>   </STRONG> <STRONG><FONT COLOR=\"#666666\">------------------------------------------------------------</FONT></STRONG> <STRONG>   </STRONG>\n",
        "\n",
        "                                  <STRONG>181</STRONG> <STRONG>         .         2         .         .         .         .</STRONG> <STRONG>240</STRONG>\n",
        "M_musculus_E2-2-Alt 100.0% 1:1524 <STRONG>   </STRONG> <STRONG><FONT COLOR=\"#009900\">f</FONT><FONT COLOR=\"#0099ff\">ss</FONT><FONT COLOR=\"#6600cc\">n</FONT><FONT COLOR=\"#33cc00\">p</FONT><FONT COLOR=\"#0099ff\">st</FONT><FONT COLOR=\"#33cc00\">pVG</FONT><FONT COLOR=\"#0099ff\">S</FONT><FONT COLOR=\"#33cc00\">PP</FONT><FONT COLOR=\"#0099ff\">S</FONT><FONT COLOR=\"#33cc00\">L</FONT><FONT COLOR=\"#0099ff\">S</FONT><FONT COLOR=\"#666666\">XXXXXXXXXXXXXXXXXXXXXXXXXX</FONT><FONT COLOR=\"#6600cc\">Q</FONT><FONT COLOR=\"#0099ff\">S</FONT><FONT COLOR=\"#cc0000\">R</FONT><FONT COLOR=\"#33cc00\">I</FONT><FONT COLOR=\"#0033ff\">ED</FONT><FONT COLOR=\"#cc0000\">R</FONT><FONT COLOR=\"#33cc00\">L</FONT><FONT COLOR=\"#0033ff\">E</FONT><FONT COLOR=\"#cc0000\">R</FONT><FONT COLOR=\"#33cc00\">L</FONT><FONT COLOR=\"#0033ff\">DD</FONT><FONT COLOR=\"#33cc00\">AI</FONT><FONT COLOR=\"#009900\">H</FONT><FONT COLOR=\"#33cc00\">VL</FONT></STRONG> <STRONG>   </STRONG>\n",
        "comp637802_c0_seq3   72.4%   1:87 <STRONG>   </STRONG> <STRONG><FONT COLOR=\"#666666\">------------------------------------------------------------</FONT></STRONG> <STRONG>   </STRONG>\n",
        "comp645729_c2_seq1   64.5%  1:186 <STRONG>   </STRONG> <STRONG><FONT COLOR=\"#666666\">------------------------------------------------------------</FONT></STRONG> <STRONG>   </STRONG>\n",
        "comp643321_c0_seq2   46.5%  1:258 <STRONG>   </STRONG> <STRONG><FONT COLOR=\"#666666\">------------------------------------------------------------</FONT></STRONG> <STRONG>   </STRONG>\n",
        "\n",
        "                                  <STRONG>241</STRONG> <STRONG>         :         .         .         .         .         3</STRONG> <STRONG>300</STRONG>\n",
        "M_musculus_E2-2-Alt 100.0% 1:1524 <STRONG>   </STRONG> <STRONG><FONT COLOR=\"#cc0000\">R</FONT><FONT COLOR=\"#6600cc\">N</FONT><FONT COLOR=\"#009900\">H</FONT><FONT COLOR=\"#33cc00\">AVGP</FONT><FONT COLOR=\"#0099ff\">ST</FONT><FONT COLOR=\"#33cc00\">AVPGG</FONT><FONT COLOR=\"#009900\">H</FONT><FONT COLOR=\"#33cc00\">G</FONT><FONT COLOR=\"#666666\">XXXXXXXXXXXXXXXXXXXXXXXXXXXXXXXXXXXXXXXXXXXX</FONT></STRONG> <STRONG>   </STRONG>\n",
        "comp637802_c0_seq3   72.4%   1:87 <STRONG>   </STRONG> <STRONG><FONT COLOR=\"#666666\">------------------------------------------------------------</FONT></STRONG> <STRONG>   </STRONG>\n",
        "comp645729_c2_seq1   64.5%  1:186 <STRONG>   </STRONG> <STRONG><FONT COLOR=\"#666666\">------------------------------------------------------------</FONT></STRONG> <STRONG>   </STRONG>\n",
        "comp643321_c0_seq2   46.5%  1:258 <STRONG>   </STRONG> <STRONG><FONT COLOR=\"#666666\">------------------------------------------------------------</FONT></STRONG> <STRONG>   </STRONG>\n",
        "\n",
        "                                  <STRONG>301</STRONG> <STRONG>         .         .         .         .         :         .</STRONG> <STRONG>360</STRONG>\n",
        "M_musculus_E2-2-Alt 100.0% 1:1524 <STRONG>   </STRONG> <STRONG><FONT COLOR=\"#666666\">XXXXXXXXXXXXXXXXXXXXXXXXXXXXXXXXXXXXXXXXXXXXXXXXXXXXXXXXXXXX</FONT></STRONG> <STRONG>   </STRONG>\n",
        "comp637802_c0_seq3   72.4%   1:87 <STRONG>   </STRONG> <STRONG><FONT COLOR=\"#666666\">------------------------------------------------------------</FONT></STRONG> <STRONG>   </STRONG>\n",
        "comp645729_c2_seq1   64.5%  1:186 <STRONG>   </STRONG> <STRONG><FONT COLOR=\"#666666\">------------------------------------------------------------</FONT></STRONG> <STRONG>   </STRONG>\n",
        "comp643321_c0_seq2   46.5%  1:258 <STRONG>   </STRONG> <STRONG><FONT COLOR=\"#666666\">------------------------------------------------------------</FONT></STRONG> <STRONG>   </STRONG>\n",
        "\n",
        "                                  <STRONG>361</STRONG> <STRONG>         .         .         .         4         .         .</STRONG> <STRONG>420</STRONG>\n",
        "M_musculus_E2-2-Alt 100.0% 1:1524 <STRONG>   </STRONG> <STRONG><FONT COLOR=\"#666666\">XXXXXXXXXXXXXXXXXXXXXXXXXX</FONT><FONT COLOR=\"#6600cc\">NN</FONT><FONT COLOR=\"#0033ff\">DDED</FONT><FONT COLOR=\"#33cc00\">L</FONT><FONT COLOR=\"#0099ff\">T</FONT><FONT COLOR=\"#33cc00\">P</FONT><FONT COLOR=\"#0033ff\">E</FONT><FONT COLOR=\"#6600cc\">Q</FONT><FONT COLOR=\"#cc0000\">K</FONT><FONT COLOR=\"#33cc00\">A</FONT><FONT COLOR=\"#0033ff\">E</FONT><FONT COLOR=\"#cc0000\">R</FONT><FONT COLOR=\"#0033ff\">E</FONT><FONT COLOR=\"#cc0000\">K</FONT><FONT COLOR=\"#0033ff\">E</FONT><FONT COLOR=\"#cc0000\">RR</FONT><FONT COLOR=\"#33cc00\">MA</FONT><FONT COLOR=\"#6600cc\">NN</FONT><FONT COLOR=\"#33cc00\">A</FONT><FONT COLOR=\"#cc0000\">R</FONT><FONT COLOR=\"#0033ff\">E</FONT><FONT COLOR=\"#cc0000\">R</FONT><FONT COLOR=\"#33cc00\">L</FONT><FONT COLOR=\"#cc0000\">R</FONT><FONT COLOR=\"#33cc00\">V</FONT><FONT COLOR=\"#cc0000\">R</FONT><FONT COLOR=\"#0033ff\">D</FONT><FONT COLOR=\"#33cc00\">I</FONT></STRONG> <STRONG>   </STRONG>\n",
        "comp637802_c0_seq3   72.4%   1:87 <STRONG>   </STRONG> <STRONG><FONT COLOR=\"#666666\">------------------------------------------------------------</FONT></STRONG> <STRONG>   </STRONG>\n",
        "comp645729_c2_seq1   64.5%  1:186 <STRONG>   </STRONG> <STRONG><FONT COLOR=\"#666666\">------------------------------------------------------------</FONT></STRONG> <STRONG>   </STRONG>\n",
        "comp643321_c0_seq2   46.5%  1:258 <STRONG>   </STRONG> <STRONG><FONT COLOR=\"#666666\">------------------------------------------------------------</FONT></STRONG> <STRONG>   </STRONG>\n",
        "\n",
        "                                  <STRONG>421</STRONG> <STRONG>         .         .         :         .         .         .</STRONG> <STRONG>480</STRONG>\n",
        "M_musculus_E2-2-Alt 100.0% 1:1524 <STRONG>   </STRONG> <STRONG><FONT COLOR=\"#6600cc\">N</FONT><FONT COLOR=\"#0033ff\">E</FONT><FONT COLOR=\"#33cc00\">A</FONT><FONT COLOR=\"#009900\">F</FONT><FONT COLOR=\"#cc0000\">K</FONT><FONT COLOR=\"#0033ff\">E</FONT><FONT COLOR=\"#33cc00\">LG</FONT><FONT COLOR=\"#cc0000\">R</FONT><FONT COLOR=\"#33cc00\">MV</FONT><FONT COLOR=\"#6600cc\">Q</FONT><FONT COLOR=\"#33cc00\">L</FONT><FONT COLOR=\"#009900\">H</FONT><FONT COLOR=\"#33cc00\">L</FONT><FONT COLOR=\"#cc0000\">K</FONT><FONT COLOR=\"#0099ff\">S</FONT><FONT COLOR=\"#0033ff\">D</FONT><FONT COLOR=\"#cc0000\">K</FONT><FONT COLOR=\"#33cc00\">P</FONT><FONT COLOR=\"#6600cc\">Q</FONT><FONT COLOR=\"#0099ff\">T</FONT><FONT COLOR=\"#cc0000\">K</FONT><FONT COLOR=\"#33cc00\">LLIL</FONT><FONT COLOR=\"#009900\">H</FONT><FONT COLOR=\"#6600cc\">Q</FONT><FONT COLOR=\"#33cc00\">AVAVIL</FONT><FONT COLOR=\"#0099ff\">S</FONT><FONT COLOR=\"#33cc00\">L</FONT><FONT COLOR=\"#0033ff\">E</FONT><FONT COLOR=\"#6600cc\">QQ</FONT><FONT COLOR=\"#33cc00\">V</FONT><FONT COLOR=\"#cc0000\">R</FONT><FONT COLOR=\"#0033ff\">E</FONT><FONT COLOR=\"#cc0000\">R</FONT><FONT COLOR=\"#6600cc\">N</FONT><FONT COLOR=\"#33cc00\">L</FONT><FONT COLOR=\"#6600cc\">N</FONT><FONT COLOR=\"#33cc00\">P</FONT><FONT COLOR=\"#cc0000\">K</FONT><FONT COLOR=\"#33cc00\">AA</FONT><FONT COLOR=\"#ffff00\">C</FONT><FONT COLOR=\"#33cc00\">L</FONT><FONT COLOR=\"#cc0000\">KRR</FONT><FONT COLOR=\"#0033ff\">EEE</FONT><FONT COLOR=\"#cc0000\">K</FONT></STRONG> <STRONG>   </STRONG>\n",
        "comp637802_c0_seq3   72.4%   1:87 <STRONG>   </STRONG> <STRONG><FONT COLOR=\"#666666\">------------------------------------------------------------</FONT></STRONG> <STRONG>   </STRONG>\n",
        "comp645729_c2_seq1   64.5%  1:186 <STRONG>   </STRONG> <STRONG><FONT COLOR=\"#666666\">------------------------------------------------------------</FONT></STRONG> <STRONG>   </STRONG>\n",
        "comp643321_c0_seq2   46.5%  1:258 <STRONG>   </STRONG> <STRONG><FONT COLOR=\"#666666\">------------------------------------------------------------</FONT></STRONG> <STRONG>   </STRONG>\n",
        "\n",
        "                                  <STRONG>481</STRONG> <STRONG>         .         5       ]</STRONG> <STRONG>508</STRONG>\n",
        "M_musculus_E2-2-Alt 100.0% 1:1524 <STRONG>   </STRONG> <STRONG><FONT COLOR=\"#33cc00\">V</FONT><FONT COLOR=\"#0099ff\">SS</FONT><FONT COLOR=\"#0033ff\">E</FONT><FONT COLOR=\"#33cc00\">PPPL</FONT><FONT COLOR=\"#0099ff\">S</FONT><FONT COLOR=\"#33cc00\">LAGP</FONT><FONT COLOR=\"#009900\">H</FONT><FONT COLOR=\"#33cc00\">PGMG</FONT><FONT COLOR=\"#0033ff\">D</FONT><FONT COLOR=\"#33cc00\">AA</FONT><FONT COLOR=\"#6600cc\">N</FONT><FONT COLOR=\"#009900\">H</FONT><FONT COLOR=\"#33cc00\">MG</FONT><FONT COLOR=\"#6600cc\">Q</FONT><FONT COLOR=\"#33cc00\">M</FONT><FONT COLOR=\"#666666\">*</FONT></STRONG> <STRONG>   </STRONG>\n",
        "comp637802_c0_seq3   72.4%   1:87 <STRONG>   </STRONG> <STRONG><FONT COLOR=\"#666666\">----------------------------</FONT></STRONG> <STRONG>   </STRONG>\n",
        "comp645729_c2_seq1   64.5%  1:186 <STRONG>   </STRONG> <STRONG><FONT COLOR=\"#666666\">----------------------------</FONT></STRONG> <STRONG>   </STRONG>\n",
        "comp643321_c0_seq2   46.5%  1:258 <STRONG>   </STRONG> <STRONG><FONT COLOR=\"#666666\">----------------------------</FONT></STRONG> <STRONG>   </STRONG>\n",
        "</PRE>\n",
        "</TD></TR>\n",
        "</TABLE><TABLE BORDER=0 BGCOLOR='white' TEXT='#666666' LINK='blue' ALINK='red' VLINK='purple'>\n",
        "<TR><TD><PRE>\n",
        "Reference sequence (query): M_musculus_HEB-Alt\n",
        "Identities normalised by aligned length.\n",
        "Colored by: identity + property\n",
        "</PRE></TD></TR>\n",
        "<TR><TD><PRE>\n",
        "HSP processing: ranked\n",
        "Query orientation: +\n",
        "</PRE></TD></TR>\n",
        "<TR><TD>\n",
        "<PRE>\n",
        "                               <STRONG>  1</STRONG> <STRONG>[        .         .         .         .         :         .</STRONG> <STRONG>60 </STRONG>\n",
        "comp645729_c2_seq1 58.3% 1:252 <STRONG>   </STRONG> <STRONG><FONT COLOR=\"#33cc00\">M</FONT><FONT COLOR=\"#009900\">Y</FONT><FONT COLOR=\"#ffff00\">C</FONT><FONT COLOR=\"#33cc00\">A</FONT><FONT COLOR=\"#009900\">Y</FONT><FONT COLOR=\"#33cc00\">PV</FONT><FONT COLOR=\"#666666\">S</FONT><FONT COLOR=\"#33cc00\">G</FONT><FONT COLOR=\"#666666\">TT</FONT><FONT COLOR=\"#6600cc\">NN</FONT><FONT COLOR=\"#666666\">P</FONT><FONT COLOR=\"#33cc00\">LM</FONT><FONT COLOR=\"#009900\">YYY</FONT><FONT COLOR=\"#6600cc\">N</FONT><FONT COLOR=\"#33cc00\">G</FONT><FONT COLOR=\"#cc0000\">K</FONT><FONT COLOR=\"#0099ff\">T</FONT><FONT COLOR=\"#33cc00\">V</FONT><FONT COLOR=\"#009900\">Y</FONT><FONT COLOR=\"#33cc00\">AP</FONT><FONT COLOR=\"#0099ff\">S</FONT><FONT COLOR=\"#33cc00\">P</FONT><FONT COLOR=\"#666666\">SQ</FONT><FONT COLOR=\"#0033ff\">DD</FONT><FONT COLOR=\"#666666\">Y</FONT><FONT COLOR=\"#6600cc\">N</FONT><FONT COLOR=\"#cc0000\">R</FONT><FONT COLOR=\"#0033ff\">E</FONT><FONT COLOR=\"#0099ff\">S</FONT><FONT COLOR=\"#33cc00\">P</FONT><FONT COLOR=\"#666666\">GF</FONT><FONT COLOR=\"#33cc00\">P</FONT><FONT COLOR=\"#666666\">PA</FONT><FONT COLOR=\"#cc0000\">K</FONT><FONT COLOR=\"#33cc00\">P</FONT><FONT COLOR=\"#666666\">AS</FONT><FONT COLOR=\"#0099ff\">S</FONT><FONT COLOR=\"#33cc00\">M</FONT><FONT COLOR=\"#009900\">F</FONT><FONT COLOR=\"#666666\">SG</FONT><FONT COLOR=\"#0099ff\">T</FONT><FONT COLOR=\"#666666\">Y</FONT><FONT COLOR=\"#009900\">F</FONT><FONT COLOR=\"#33cc00\">M</FONT><FONT COLOR=\"#6600cc\">Q</FONT><FONT COLOR=\"#0033ff\">D</FONT><FONT COLOR=\"#33cc00\">G</FONT></STRONG> <STRONG>   </STRONG>\n",
        "comp637802_c0_seq3 88.9%  1:81 <STRONG>   </STRONG> <STRONG><FONT COLOR=\"#33cc00\">M</FONT><FONT COLOR=\"#009900\">Y</FONT><FONT COLOR=\"#ffff00\">C</FONT><FONT COLOR=\"#33cc00\">A</FONT><FONT COLOR=\"#009900\">Y</FONT><FONT COLOR=\"#33cc00\">P</FONT><FONT COLOR=\"#666666\">M</FONT><FONT COLOR=\"#33cc00\">PG</FONT><FONT COLOR=\"#666666\">I</FONT><FONT COLOR=\"#33cc00\">G</FONT><FONT COLOR=\"#6600cc\">N</FONT><FONT COLOR=\"#666666\">S</FONT><FONT COLOR=\"#0099ff\">S</FONT><FONT COLOR=\"#33cc00\">LM</FONT><FONT COLOR=\"#009900\">YYY</FONT><FONT COLOR=\"#6600cc\">N</FONT><FONT COLOR=\"#33cc00\">G</FONT><FONT COLOR=\"#cc0000\">K</FONT><FONT COLOR=\"#0099ff\">T</FONT><FONT COLOR=\"#33cc00\">V</FONT><FONT COLOR=\"#009900\">Y</FONT><FONT COLOR=\"#33cc00\">AP</FONT><FONT COLOR=\"#666666\">---------------------------------</FONT></STRONG> <STRONG>   </STRONG>\n",
        "comp643321_c0_seq2 83.8% 1:111 <STRONG>   </STRONG> <STRONG><FONT COLOR=\"#33cc00\">M</FONT><FONT COLOR=\"#009900\">Y</FONT><FONT COLOR=\"#ffff00\">C</FONT><FONT COLOR=\"#33cc00\">A</FONT><FONT COLOR=\"#009900\">Y</FONT><FONT COLOR=\"#33cc00\">PVPGMG</FONT><FONT COLOR=\"#666666\">SS</FONT><FONT COLOR=\"#0099ff\">S</FONT><FONT COLOR=\"#33cc00\">LM</FONT><FONT COLOR=\"#009900\">YYY</FONT><FONT COLOR=\"#6600cc\">N</FONT><FONT COLOR=\"#33cc00\">G</FONT><FONT COLOR=\"#cc0000\">K</FONT><FONT COLOR=\"#0099ff\">T</FONT><FONT COLOR=\"#33cc00\">V</FONT><FONT COLOR=\"#009900\">Y</FONT><FONT COLOR=\"#33cc00\">AP</FONT><FONT COLOR=\"#0099ff\">S</FONT><FONT COLOR=\"#666666\">VAA</FONT><FONT COLOR=\"#0033ff\">D</FONT><FONT COLOR=\"#666666\">E</FONT><FONT COLOR=\"#009900\">F</FONT><FONT COLOR=\"#6600cc\">N</FONT><FONT COLOR=\"#cc0000\">R</FONT><FONT COLOR=\"#0033ff\">E</FONT><FONT COLOR=\"#666666\">-----------------------</FONT></STRONG> <STRONG>   </STRONG>\n",
        "\n",
        "                               <STRONG> 61</STRONG> <STRONG>         .         .         .         1         .         .</STRONG> <STRONG>120</STRONG>\n",
        "comp645729_c2_seq1 58.3% 1:252 <STRONG>   </STRONG> <STRONG><FONT COLOR=\"#666666\">P</FONT><FONT COLOR=\"#009900\">H</FONT><FONT COLOR=\"#666666\">VPNE</FONT><FONT COLOR=\"#33cc00\">L</FONT><FONT COLOR=\"#009900\">W</FONT><FONT COLOR=\"#666666\">PPT</FONT><FONT COLOR=\"#6600cc\">N</FONT><FONT COLOR=\"#33cc00\">GM</FONT><FONT COLOR=\"#666666\">NHS</FONT><FONT COLOR=\"#33cc00\">G</FONT><FONT COLOR=\"#666666\">Y</FONT><FONT COLOR=\"#33cc00\">GG</FONT><FONT COLOR=\"#666666\">V</FONT><FONT COLOR=\"#33cc00\">LG</FONT><FONT COLOR=\"#666666\">------------------------------------</FONT></STRONG> <STRONG>   </STRONG>\n",
        "comp637802_c0_seq3 88.9%  1:81 <STRONG>   </STRONG> <STRONG><FONT COLOR=\"#666666\">------------------------------------------------------------</FONT></STRONG> <STRONG>   </STRONG>\n",
        "comp643321_c0_seq2 83.8% 1:111 <STRONG>   </STRONG> <STRONG><FONT COLOR=\"#666666\">------------------------------------------------------------</FONT></STRONG> <STRONG>   </STRONG>\n",
        "\n",
        "                               <STRONG>121</STRONG> <STRONG>         .         .         :         .         .         .</STRONG> <STRONG>180</STRONG>\n",
        "comp645729_c2_seq1 58.3% 1:252 <STRONG>   </STRONG> <STRONG><FONT COLOR=\"#666666\">------------------------------------------------------------</FONT></STRONG> <STRONG>   </STRONG>\n",
        "comp637802_c0_seq3 88.9%  1:81 <STRONG>   </STRONG> <STRONG><FONT COLOR=\"#666666\">------------------------------------------------------------</FONT></STRONG> <STRONG>   </STRONG>\n",
        "comp643321_c0_seq2 83.8% 1:111 <STRONG>   </STRONG> <STRONG><FONT COLOR=\"#666666\">------------------------------------------------------------</FONT></STRONG> <STRONG>   </STRONG>\n",
        "\n",
        "                               <STRONG>181</STRONG> <STRONG>         .         2         .         .         .         .</STRONG> <STRONG>240</STRONG>\n",
        "comp645729_c2_seq1 58.3% 1:252 <STRONG>   </STRONG> <STRONG><FONT COLOR=\"#666666\">------------------------------------------------------------</FONT></STRONG> <STRONG>   </STRONG>\n",
        "comp637802_c0_seq3 88.9%  1:81 <STRONG>   </STRONG> <STRONG><FONT COLOR=\"#666666\">------------------------------------------------------------</FONT></STRONG> <STRONG>   </STRONG>\n",
        "comp643321_c0_seq2 83.8% 1:111 <STRONG>   </STRONG> <STRONG><FONT COLOR=\"#666666\">------------------------------------------------------------</FONT></STRONG> <STRONG>   </STRONG>\n",
        "\n",
        "                               <STRONG>241</STRONG> <STRONG>         :         .         .         .         .         3</STRONG> <STRONG>300</STRONG>\n",
        "comp645729_c2_seq1 58.3% 1:252 <STRONG>   </STRONG> <STRONG><FONT COLOR=\"#666666\">------------------------------------------------------------</FONT></STRONG> <STRONG>   </STRONG>\n",
        "comp637802_c0_seq3 88.9%  1:81 <STRONG>   </STRONG> <STRONG><FONT COLOR=\"#666666\">------------------------------------------------------------</FONT></STRONG> <STRONG>   </STRONG>\n",
        "comp643321_c0_seq2 83.8% 1:111 <STRONG>   </STRONG> <STRONG><FONT COLOR=\"#666666\">------------------------------------------------------------</FONT></STRONG> <STRONG>   </STRONG>\n",
        "\n",
        "                               <STRONG>301</STRONG> <STRONG>         .         .         .         .         :         .</STRONG> <STRONG>360</STRONG>\n",
        "comp645729_c2_seq1 58.3% 1:252 <STRONG>   </STRONG> <STRONG><FONT COLOR=\"#666666\">------------------------------------------------------------</FONT></STRONG> <STRONG>   </STRONG>\n",
        "comp637802_c0_seq3 88.9%  1:81 <STRONG>   </STRONG> <STRONG><FONT COLOR=\"#666666\">------------------------------------------------------------</FONT></STRONG> <STRONG>   </STRONG>\n",
        "comp643321_c0_seq2 83.8% 1:111 <STRONG>   </STRONG> <STRONG><FONT COLOR=\"#666666\">------------------------------------------------------------</FONT></STRONG> <STRONG>   </STRONG>\n",
        "\n",
        "                               <STRONG>361</STRONG> <STRONG>         .         .         .         4         .         .</STRONG> <STRONG>420</STRONG>\n",
        "comp645729_c2_seq1 58.3% 1:252 <STRONG>   </STRONG> <STRONG><FONT COLOR=\"#666666\">------------------------------------------------------------</FONT></STRONG> <STRONG>   </STRONG>\n",
        "comp637802_c0_seq3 88.9%  1:81 <STRONG>   </STRONG> <STRONG><FONT COLOR=\"#666666\">------------------------------------------------------------</FONT></STRONG> <STRONG>   </STRONG>\n",
        "comp643321_c0_seq2 83.8% 1:111 <STRONG>   </STRONG> <STRONG><FONT COLOR=\"#666666\">------------------------------------------------------------</FONT></STRONG> <STRONG>   </STRONG>\n",
        "\n",
        "                               <STRONG>421</STRONG> <STRONG>         .         .         :         .         .         .</STRONG> <STRONG>480</STRONG>\n",
        "comp645729_c2_seq1 58.3% 1:252 <STRONG>   </STRONG> <STRONG><FONT COLOR=\"#666666\">------------------------------------------------------------</FONT></STRONG> <STRONG>   </STRONG>\n",
        "comp637802_c0_seq3 88.9%  1:81 <STRONG>   </STRONG> <STRONG><FONT COLOR=\"#666666\">------------------------------------------------------------</FONT></STRONG> <STRONG>   </STRONG>\n",
        "comp643321_c0_seq2 83.8% 1:111 <STRONG>   </STRONG> <STRONG><FONT COLOR=\"#666666\">------------------------------------------------------------</FONT></STRONG> <STRONG>   </STRONG>\n",
        "\n",
        "                               <STRONG>481</STRONG> <STRONG>         .         5         .         .]</STRONG> <STRONG>521</STRONG>\n",
        "comp645729_c2_seq1 58.3% 1:252 <STRONG>   </STRONG> <STRONG><FONT COLOR=\"#666666\">-----------------------------------------</FONT></STRONG> <STRONG>   </STRONG>\n",
        "comp637802_c0_seq3 88.9%  1:81 <STRONG>   </STRONG> <STRONG><FONT COLOR=\"#666666\">-----------------------------------------</FONT></STRONG> <STRONG>   </STRONG>\n",
        "comp643321_c0_seq2 83.8% 1:111 <STRONG>   </STRONG> <STRONG><FONT COLOR=\"#666666\">-----------------------------------------</FONT></STRONG> <STRONG>   </STRONG>\n",
        "</PRE>\n",
        "</TD></TR>\n",
        "</TABLE><TABLE BORDER=0 BGCOLOR='white' TEXT='#666666' LINK='blue' ALINK='red' VLINK='purple'>\n",
        "<TR><TD><PRE>\n",
        "Reference sequence (query): S_purpuratus_E-protein_Alt\n",
        "Identities normalised by aligned length.\n",
        "Colored by: identity + property\n",
        "</PRE></TD></TR>\n",
        "<TR><TD><PRE>\n",
        "HSP processing: ranked\n",
        "Query orientation: +\n",
        "</PRE></TD></TR>\n",
        "<TR><TD>\n",
        "<PRE>\n",
        "<STRONG>311</STRONG> <STRONG>[        .         .         .         :         .         .</STRONG> <STRONG>370</STRONG>\n",
        "\n",
        "<STRONG>371</STRONG> <STRONG>         .         .         4        ]</STRONG> <STRONG>409</STRONG>\n",
        "</PRE>\n",
        "</TD></TR>\n",
        "</TABLE>"
       ],
       "metadata": {},
       "output_type": "pyout",
       "prompt_number": 154,
       "text": [
        "<IPython.core.display.HTML at 0x7fd1072d5b90>"
       ]
      }
     ],
     "prompt_number": 154
    },
    {
     "cell_type": "code",
     "collapsed": false,
     "input": [
      "canonical_blast_files = tblastx_by_sequence(canonical_db, db_metadata.fn['assembly'] + '.db')"
     ],
     "language": "python",
     "metadata": {},
     "outputs": [],
     "prompt_number": 158
    },
    {
     "cell_type": "code",
     "collapsed": false,
     "input": [
      "canonical_db.keys()"
     ],
     "language": "python",
     "metadata": {},
     "outputs": [
      {
       "metadata": {},
       "output_type": "pyout",
       "prompt_number": 161,
       "text": [
        "[u'M_musculus_E2-2',\n",
        " u'M_musculus_HEB',\n",
        " u'M_musculus_transcription_factor_E2a',\n",
        " u'S_purpuratus_E-protein_canonical']"
       ]
      }
     ],
     "prompt_number": 161
    },
    {
     "cell_type": "code",
     "collapsed": false,
     "input": [
      "vizhtml = ''\n",
      "keeps = ','.join(canonical_db.keys())\n",
      "keeps += ',comp643321_c0_seq2,comp637802_c0_seq3,comp645729_c2_seq1'\n",
      "for fn in canonical_blast_files:\n",
      "    vizhtml += mview_html(fn, extra_opts=\"-disc '*' -keep '{}'\".format(keeps))\n",
      "with open('canonical_blast_html.html', 'wb') as fp:\n",
      "    fp.write(vizhtml)\n",
      "HTML(vizhtml)"
     ],
     "language": "python",
     "metadata": {},
     "outputs": [
      {
       "html": [
        "<TABLE BORDER=0 BGCOLOR='white' TEXT='#666666' LINK='blue' ALINK='red' VLINK='purple'>\n",
        "<TR><TD><PRE>\n",
        "Reference sequence (query): M_musculus_transcription_factor_E2a\n",
        "Identities normalised by aligned length.\n",
        "Colored by: identity + property\n",
        "</PRE></TD></TR>\n",
        "<TR><TD><PRE>\n",
        "HSP processing: ranked\n",
        "Query orientation: +\n",
        "</PRE></TD></TR>\n",
        "<TR><TD>\n",
        "<PRE>\n",
        "                                                     <STRONG>  1</STRONG> <STRONG>[        .         .         .         .         :         .</STRONG> <STRONG>60 </STRONG>\n",
        "M_musculus_transcription_factor_E2a 100.0%    1:1881 <STRONG>   </STRONG> <STRONG><FONT COLOR=\"#33cc00\">MM</FONT><FONT COLOR=\"#6600cc\">NQ</FONT><FONT COLOR=\"#0099ff\">S</FONT><FONT COLOR=\"#6600cc\">Q</FONT><FONT COLOR=\"#cc0000\">R</FONT><FONT COLOR=\"#33cc00\">MAPVG</FONT><FONT COLOR=\"#0099ff\">S</FONT><FONT COLOR=\"#0033ff\">D</FONT><FONT COLOR=\"#cc0000\">K</FONT><FONT COLOR=\"#0033ff\">E</FONT><FONT COLOR=\"#33cc00\">L</FONT><FONT COLOR=\"#0099ff\">S</FONT><FONT COLOR=\"#0033ff\">D</FONT><FONT COLOR=\"#33cc00\">LL</FONT><FONT COLOR=\"#0033ff\">D</FONT><FONT COLOR=\"#009900\">F</FONT><FONT COLOR=\"#0099ff\">S</FONT><FONT COLOR=\"#33cc00\">MM</FONT><FONT COLOR=\"#009900\">F</FONT><FONT COLOR=\"#33cc00\">PLPVA</FONT><FONT COLOR=\"#6600cc\">N</FONT><FONT COLOR=\"#33cc00\">G</FONT><FONT COLOR=\"#cc0000\">K</FONT><FONT COLOR=\"#0099ff\">S</FONT><FONT COLOR=\"#cc0000\">R</FONT><FONT COLOR=\"#33cc00\">PA</FONT><FONT COLOR=\"#0099ff\">S</FONT><FONT COLOR=\"#33cc00\">LGG</FONT><FONT COLOR=\"#0099ff\">T</FONT><FONT COLOR=\"#6600cc\">Q</FONT><FONT COLOR=\"#009900\">F</FONT><FONT COLOR=\"#33cc00\">AG</FONT><FONT COLOR=\"#0099ff\">S</FONT><FONT COLOR=\"#33cc00\">GL</FONT><FONT COLOR=\"#0033ff\">ED</FONT><FONT COLOR=\"#cc0000\">R</FONT><FONT COLOR=\"#666666\">XXXXXX</FONT></STRONG> <STRONG>   </STRONG>\n",
        "\n",
        "                                                     <STRONG> 61</STRONG> <STRONG>         .         .         .         1         .         .</STRONG> <STRONG>120</STRONG>\n",
        "M_musculus_transcription_factor_E2a 100.0%    1:1881 <STRONG>   </STRONG> <STRONG><FONT COLOR=\"#666666\">XXXXXXXXXXXXXXXXXXXXXXXXXXXXXXXXXXXXXXXXXXXXXXXXXXXXXXXXXXXX</FONT></STRONG> <STRONG>   </STRONG>\n",
        "\n",
        "                                                     <STRONG>121</STRONG> <STRONG>         .         .         :         .         .         .</STRONG> <STRONG>180</STRONG>\n",
        "M_musculus_transcription_factor_E2a 100.0%    1:1881 <STRONG>   </STRONG> <STRONG><FONT COLOR=\"#666666\">XXXXXXXXXXXXXXXXXXXXXXXXXXXXXXXXXXXXXXXXXXXXX</FONT><FONT COLOR=\"#33cc00\">GL</FONT><FONT COLOR=\"#0033ff\">D</FONT><FONT COLOR=\"#0099ff\">T</FONT><FONT COLOR=\"#6600cc\">Q</FONT><FONT COLOR=\"#33cc00\">P</FONT><FONT COLOR=\"#cc0000\">KK</FONT><FONT COLOR=\"#33cc00\">V</FONT><FONT COLOR=\"#cc0000\">RK</FONT><FONT COLOR=\"#33cc00\">VPPG</FONT></STRONG> <STRONG>   </STRONG>\n",
        "\n",
        "                                                     <STRONG>181</STRONG> <STRONG>         .         2         .         .         .         .</STRONG> <STRONG>240</STRONG>\n",
        "M_musculus_transcription_factor_E2a 100.0%    1:1881 <STRONG>   </STRONG> <STRONG><FONT COLOR=\"#33cc00\">LP</FONT><FONT COLOR=\"#0099ff\">SS</FONT><FONT COLOR=\"#33cc00\">V</FONT><FONT COLOR=\"#009900\">Y</FONT><FONT COLOR=\"#33cc00\">PP</FONT><FONT COLOR=\"#0099ff\">SS</FONT><FONT COLOR=\"#666666\">XXXXXXXXXXXXXXXXXXXXXXXXXXXXXXXXXXXXXXXXXXXXXXXXXX</FONT></STRONG> <STRONG>   </STRONG>\n",
        "\n",
        "                                                     <STRONG>241</STRONG> <STRONG>         :         .         .         .         .         3</STRONG> <STRONG>300</STRONG>\n",
        "M_musculus_transcription_factor_E2a 100.0%    1:1881 <STRONG>   </STRONG> <STRONG><FONT COLOR=\"#666666\">XXXXXXXXXXXXXXXXXXXXXXXXXXXXXXXXXXXXXXXXXXXXXXXXXXXXXXXXXXXX</FONT></STRONG> <STRONG>   </STRONG>\n",
        "\n",
        "                                                     <STRONG>301</STRONG> <STRONG>         .         .         .         .         :         .</STRONG> <STRONG>360</STRONG>\n",
        "M_musculus_transcription_factor_E2a 100.0%    1:1881 <STRONG>   </STRONG> <STRONG><FONT COLOR=\"#666666\">XXXXXXXXXXXXXXXXXXXXXXXXXXXXXXXXXXXXXXXXXXXXXXXXXXXXXX</FONT><FONT COLOR=\"#33cc00\">VG</FONT><FONT COLOR=\"#0099ff\">S</FONT><FONT COLOR=\"#33cc00\">P</FONT><FONT COLOR=\"#6600cc\">Q</FONT><FONT COLOR=\"#33cc00\">G</FONT></STRONG> <STRONG>   </STRONG>\n",
        "\n",
        "                                                     <STRONG>361</STRONG> <STRONG>         .         .         .         4         .         .</STRONG> <STRONG>420</STRONG>\n",
        "M_musculus_transcription_factor_E2a 100.0%    1:1881 <STRONG>   </STRONG> <STRONG><FONT COLOR=\"#33cc00\">LPG</FONT><FONT COLOR=\"#0099ff\">TS</FONT><FONT COLOR=\"#6600cc\">Q</FONT><FONT COLOR=\"#009900\">W</FONT><FONT COLOR=\"#33cc00\">P</FONT><FONT COLOR=\"#cc0000\">R</FONT><FONT COLOR=\"#33cc00\">AGAP</FONT><FONT COLOR=\"#0099ff\">S</FONT><FONT COLOR=\"#33cc00\">AL</FONT><FONT COLOR=\"#0099ff\">S</FONT><FONT COLOR=\"#33cc00\">P</FONT><FONT COLOR=\"#6600cc\">N</FONT><FONT COLOR=\"#009900\">Y</FONT><FONT COLOR=\"#0033ff\">D</FONT><FONT COLOR=\"#33cc00\">AGL</FONT><FONT COLOR=\"#009900\">H</FONT><FONT COLOR=\"#33cc00\">GL</FONT><FONT COLOR=\"#0099ff\">S</FONT><FONT COLOR=\"#cc0000\">K</FONT><FONT COLOR=\"#33cc00\">M</FONT><FONT COLOR=\"#0033ff\">ED</FONT><FONT COLOR=\"#cc0000\">R</FONT><FONT COLOR=\"#33cc00\">L</FONT><FONT COLOR=\"#0033ff\">D</FONT><FONT COLOR=\"#666666\">XXXXXXXXXXXXXXXXXXXXXXXXX</FONT></STRONG> <STRONG>   </STRONG>\n",
        "\n",
        "                                                     <STRONG>421</STRONG> <STRONG>         .         .         :         .         .         .</STRONG> <STRONG>480</STRONG>\n",
        "M_musculus_transcription_factor_E2a 100.0%    1:1881 <STRONG>   </STRONG> <STRONG><FONT COLOR=\"#666666\">XXXXXXXXXXXXXXXXXXXXXXXXXXXXXXXXXXXXXXXXXXXXXXXXXXXXXXXXXXXX</FONT></STRONG> <STRONG>   </STRONG>\n",
        "\n",
        "                                                     <STRONG>481</STRONG> <STRONG>         .         5         .         .         .         .</STRONG> <STRONG>540</STRONG>\n",
        "M_musculus_transcription_factor_E2a 100.0%    1:1881 <STRONG>   </STRONG> <STRONG><FONT COLOR=\"#666666\">XXXXXXXXXXXXXXXXXXXXXXXXXXXXXXXXXXXXXXXXXXXXXXXXXXXXXXXXXXXX</FONT></STRONG> <STRONG>   </STRONG>\n",
        "\n",
        "                                                     <STRONG>541</STRONG> <STRONG>         :         .         .         .         .         6</STRONG> <STRONG>600</STRONG>\n",
        "M_musculus_transcription_factor_E2a 100.0%    1:1881 <STRONG>   </STRONG> <STRONG><FONT COLOR=\"#666666\">XXXXXXXXXXXXXXXXXX</FONT><FONT COLOR=\"#33cc00\">I</FONT><FONT COLOR=\"#6600cc\">N</FONT><FONT COLOR=\"#0033ff\">E</FONT><FONT COLOR=\"#33cc00\">A</FONT><FONT COLOR=\"#009900\">F</FONT><FONT COLOR=\"#cc0000\">R</FONT><FONT COLOR=\"#0033ff\">E</FONT><FONT COLOR=\"#33cc00\">LG</FONT><FONT COLOR=\"#cc0000\">R</FONT><FONT COLOR=\"#33cc00\">M</FONT><FONT COLOR=\"#ffff00\">C</FONT><FONT COLOR=\"#6600cc\">Q</FONT><FONT COLOR=\"#33cc00\">L</FONT><FONT COLOR=\"#009900\">H</FONT><FONT COLOR=\"#33cc00\">L</FONT><FONT COLOR=\"#cc0000\">K</FONT><FONT COLOR=\"#0099ff\">S</FONT><FONT COLOR=\"#0033ff\">D</FONT><FONT COLOR=\"#cc0000\">K</FONT><FONT COLOR=\"#33cc00\">A</FONT><FONT COLOR=\"#6600cc\">Q</FONT><FONT COLOR=\"#0099ff\">T</FONT><FONT COLOR=\"#cc0000\">K</FONT><FONT COLOR=\"#33cc00\">llil</FONT><FONT COLOR=\"#6600cc\">qq</FONT><FONT COLOR=\"#33cc00\">av</FONT><FONT COLOR=\"#6600cc\">q</FONT><FONT COLOR=\"#33cc00\">vilgl</FONT><FONT COLOR=\"#0033ff\">E</FONT><FONT COLOR=\"#6600cc\">QQ</FONT><FONT COLOR=\"#33cc00\">V</FONT></STRONG> <STRONG>   </STRONG>\n",
        "\n",
        "                                                     <STRONG>601</STRONG> <STRONG>         .         .      ]</STRONG> <STRONG>627</STRONG>\n",
        "M_musculus_transcription_factor_E2a 100.0%    1:1881 <STRONG>   </STRONG> <STRONG><FONT COLOR=\"#cc0000\">R</FONT><FONT COLOR=\"#0033ff\">E</FONT><FONT COLOR=\"#cc0000\">R</FONT><FONT COLOR=\"#6600cc\">N</FONT><FONT COLOR=\"#33cc00\">L</FONT><FONT COLOR=\"#6600cc\">N</FONT><FONT COLOR=\"#33cc00\">P</FONT><FONT COLOR=\"#cc0000\">K</FONT><FONT COLOR=\"#33cc00\">AA</FONT><FONT COLOR=\"#ffff00\">C</FONT><FONT COLOR=\"#33cc00\">L</FONT><FONT COLOR=\"#cc0000\">KRR</FONT><FONT COLOR=\"#0033ff\">EEE</FONT><FONT COLOR=\"#cc0000\">K</FONT><FONT COLOR=\"#33cc00\">V</FONT><FONT COLOR=\"#0099ff\">S</FONT><FONT COLOR=\"#33cc00\">GVVG</FONT><FONT COLOR=\"#0033ff\">D</FONT><FONT COLOR=\"#33cc00\">P</FONT></STRONG> <STRONG>   </STRONG>\n",
        "</PRE>\n",
        "</TD></TR>\n",
        "</TABLE>\n",
        "<P>\n",
        "<TABLE BORDER=0 BGCOLOR='white' TEXT='#666666' LINK='blue' ALINK='red' VLINK='purple'>\n",
        "<TR><TD><PRE>\n",
        "</PRE></TD></TR>\n",
        "<TR><TD><PRE>\n",
        "HSP processing: ranked\n",
        "Query orientation: -\n",
        "</PRE></TD></TR>\n",
        "<TR><TD>\n",
        "<PRE>\n",
        "                                                     <STRONG>617</STRONG> <STRONG>[      .         6         .         .         .         .  </STRONG> <STRONG>558</STRONG>\n",
        "M_musculus_transcription_factor_E2a 100.0% 1853:1576 <STRONG>   </STRONG> <STRONG><FONT COLOR=\"#0099ff\">SSS</FONT><FONT COLOR=\"#33cc00\">L</FONT><FONT COLOR=\"#cc0000\">R</FONT><FONT COLOR=\"#009900\">F</FONT><FONT COLOR=\"#cc0000\">K</FONT><FONT COLOR=\"#6600cc\">Q</FONT><FONT COLOR=\"#33cc00\">AALG</FONT><FONT COLOR=\"#009900\">F</FONT><FONT COLOR=\"#cc0000\">R</FONT><FONT COLOR=\"#33cc00\">L</FONT><FONT COLOR=\"#cc0000\">R</FONT><FONT COLOR=\"#0099ff\">S</FONT><FONT COLOR=\"#cc0000\">R</FONT><FONT COLOR=\"#0099ff\">T</FONT><FONT COLOR=\"#ffff00\">CC</FONT><FONT COLOR=\"#0099ff\">S</FONT><FONT COLOR=\"#cc0000\">R</FONT><FONT COLOR=\"#33cc00\">P</FONT><FONT COLOR=\"#cc0000\">R</FONT><FONT COLOR=\"#33cc00\">M</FONT><FONT COLOR=\"#0099ff\">T</FONT><FONT COLOR=\"#ffff00\">C</FONT><FONT COLOR=\"#0099ff\">T</FONT><FONT COLOR=\"#33cc00\">A</FONT><FONT COLOR=\"#ffff00\">CC</FONT><FONT COLOR=\"#cc0000\">R</FONT><FONT COLOR=\"#33cc00\">M</FONT><FONT COLOR=\"#0099ff\">SS</FONT><FONT COLOR=\"#33cc00\">LV</FONT><FONT COLOR=\"#ffff00\">C</FONT><FONT COLOR=\"#33cc00\">AL</FONT><FONT COLOR=\"#0099ff\">S</FONT><FONT COLOR=\"#0033ff\">D</FONT><FONT COLOR=\"#33cc00\">L</FONT><FONT COLOR=\"#cc0000\">R</FONT><FONT COLOR=\"#ffff00\">C</FONT><FONT COLOR=\"#0099ff\">S</FONT><FONT COLOR=\"#009900\">WH</FONT><FONT COLOR=\"#33cc00\">M</FONT><FONT COLOR=\"#cc0000\">R</FONT><FONT COLOR=\"#33cc00\">P</FONT><FONT COLOR=\"#0099ff\">SS</FONT><FONT COLOR=\"#cc0000\">RK</FONT><FONT COLOR=\"#33cc00\">LV</FONT><FONT COLOR=\"#6600cc\">N</FONT><FONT COLOR=\"#33cc00\">V</FONT></STRONG> <STRONG>   </STRONG>\n",
        "\n",
        "                                                     <STRONG>557</STRONG> <STRONG>       :         .         .   ]</STRONG> <STRONG>526</STRONG>\n",
        "M_musculus_transcription_factor_E2a 100.0% 1853:1576 <STRONG>   </STRONG> <STRONG><FONT COLOR=\"#33cc00\">P</FONT><FONT COLOR=\"#009900\">H</FONT><FONT COLOR=\"#33cc00\">A</FONT><FONT COLOR=\"#009900\">H</FONT><FONT COLOR=\"#33cc00\">PLP</FONT><FONT COLOR=\"#0099ff\">S</FONT><FONT COLOR=\"#33cc00\">VIG</FONT><FONT COLOR=\"#009900\">H</FONT><FONT COLOR=\"#0099ff\">T</FONT><FONT COLOR=\"#33cc00\">plpvp</FONT><FONT COLOR=\"#6600cc\">q</FONT><FONT COLOR=\"#33cc00\">vlll</FONT><FONT COLOR=\"#6600cc\">Q</FONT><FONT COLOR=\"#33cc00\">G</FONT><FONT COLOR=\"#6600cc\">Q</FONT><FONT COLOR=\"#009900\">H</FONT><FONT COLOR=\"#33cc00\">LI</FONT><FONT COLOR=\"#ffff00\">C</FONT><FONT COLOR=\"#0099ff\">T</FONT><FONT COLOR=\"#33cc00\">A</FONT></STRONG> <STRONG>   </STRONG>\n",
        "</PRE>\n",
        "</TD></TR>\n",
        "</TABLE><TABLE BORDER=0 BGCOLOR='white' TEXT='#666666' LINK='blue' ALINK='red' VLINK='purple'>\n",
        "<TR><TD><PRE>\n",
        "Reference sequence (query): M_musculus_E2-2\n",
        "Identities normalised by aligned length.\n",
        "Colored by: identity + property\n",
        "</PRE></TD></TR>\n",
        "<TR><TD><PRE>\n",
        "HSP processing: ranked\n",
        "Query orientation: +\n",
        "</PRE></TD></TR>\n",
        "<TR><TD>\n",
        "<PRE>\n",
        "                                   <STRONG>  1</STRONG> <STRONG>[        .         .         .         .         :         .</STRONG> <STRONG>60 </STRONG>\n",
        "M_musculus_E2-2    100.0%   1:2013 <STRONG>   </STRONG> <STRONG><FONT COLOR=\"#33cc00\">M</FONT><FONT COLOR=\"#009900\">HH</FONT><FONT COLOR=\"#6600cc\">QQ</FONT><FONT COLOR=\"#cc0000\">R</FONT><FONT COLOR=\"#33cc00\">MAALG</FONT><FONT COLOR=\"#0099ff\">T</FONT><FONT COLOR=\"#0033ff\">D</FONT><FONT COLOR=\"#cc0000\">K</FONT><FONT COLOR=\"#0033ff\">E</FONT><FONT COLOR=\"#33cc00\">L</FONT><FONT COLOR=\"#0099ff\">S</FONT><FONT COLOR=\"#0033ff\">D</FONT><FONT COLOR=\"#33cc00\">LL</FONT><FONT COLOR=\"#0033ff\">D</FONT><FONT COLOR=\"#009900\">F</FONT><FONT COLOR=\"#0099ff\">S</FONT><FONT COLOR=\"#33cc00\">AM</FONT><FONT COLOR=\"#009900\">F</FONT><FONT COLOR=\"#0099ff\">S</FONT><FONT COLOR=\"#33cc00\">PPV</FONT><FONT COLOR=\"#0099ff\">SS</FONT><FONT COLOR=\"#33cc00\">G</FONT><FONT COLOR=\"#cc0000\">K</FONT><FONT COLOR=\"#6600cc\">N</FONT><FONT COLOR=\"#33cc00\">GP</FONT><FONT COLOR=\"#0099ff\">TS</FONT><FONT COLOR=\"#33cc00\">LA</FONT><FONT COLOR=\"#0099ff\">S</FONT><FONT COLOR=\"#33cc00\">G</FONT><FONT COLOR=\"#009900\">HF</FONT><FONT COLOR=\"#0099ff\">T</FONT><FONT COLOR=\"#33cc00\">G</FONT><FONT COLOR=\"#0099ff\">S</FONT><FONT COLOR=\"#6600cc\">N</FONT><FONT COLOR=\"#33cc00\">V</FONT><FONT COLOR=\"#0033ff\">ED</FONT><FONT COLOR=\"#cc0000\">R</FONT><FONT COLOR=\"#0099ff\">SSS</FONT><FONT COLOR=\"#33cc00\">G</FONT><FONT COLOR=\"#0099ff\">S</FONT><FONT COLOR=\"#009900\">W</FONT><FONT COLOR=\"#33cc00\">G</FONT></STRONG> <STRONG>   </STRONG>\n",
        "comp637802_c0_seq3  87.0% 937:1005 <STRONG>   </STRONG> <STRONG><FONT COLOR=\"#666666\">------------------------------------------------------------</FONT></STRONG> <STRONG>   </STRONG>\n",
        "comp645729_c2_seq1  62.5%  544:663 <STRONG>   </STRONG> <STRONG><FONT COLOR=\"#666666\">------------------------------------------------------------</FONT></STRONG> <STRONG>   </STRONG>\n",
        "comp643321_c0_seq2  34.4%  544:735 <STRONG>   </STRONG> <STRONG><FONT COLOR=\"#666666\">------------------------------------------------------------</FONT></STRONG> <STRONG>   </STRONG>\n",
        "\n",
        "                                   <STRONG> 61</STRONG> <STRONG>         .         .         .         1         .         .</STRONG> <STRONG>120</STRONG>\n",
        "M_musculus_E2-2    100.0%   1:2013 <STRONG>   </STRONG> <STRONG><FONT COLOR=\"#0099ff\">T</FONT><FONT COLOR=\"#33cc00\">GG</FONT><FONT COLOR=\"#009900\">H</FONT><FONT COLOR=\"#33cc00\">P</FONT><FONT COLOR=\"#0099ff\">S</FONT><FONT COLOR=\"#33cc00\">P</FONT><FONT COLOR=\"#0099ff\">S</FONT><FONT COLOR=\"#cc0000\">R</FONT><FONT COLOR=\"#6600cc\">N</FONT><FONT COLOR=\"#009900\">Y</FONT><FONT COLOR=\"#33cc00\">G</FONT><FONT COLOR=\"#0033ff\">D</FONT><FONT COLOR=\"#33cc00\">G</FONT><FONT COLOR=\"#666666\">XXXXXXXXXXXXXXXXXXXXXXXXXXXXXXXXXXXXXXXXXXXXXX</FONT></STRONG> <STRONG>   </STRONG>\n",
        "comp637802_c0_seq3  87.0% 937:1005 <STRONG>   </STRONG> <STRONG><FONT COLOR=\"#666666\">------------------------------------------------------------</FONT></STRONG> <STRONG>   </STRONG>\n",
        "comp645729_c2_seq1  62.5%  544:663 <STRONG>   </STRONG> <STRONG><FONT COLOR=\"#666666\">------------------------------------------------------------</FONT></STRONG> <STRONG>   </STRONG>\n",
        "comp643321_c0_seq2  34.4%  544:735 <STRONG>   </STRONG> <STRONG><FONT COLOR=\"#666666\">------------------------------------------------------------</FONT></STRONG> <STRONG>   </STRONG>\n",
        "\n",
        "                                   <STRONG>121</STRONG> <STRONG>         .         .         :         .         .         .</STRONG> <STRONG>180</STRONG>\n",
        "M_musculus_E2-2    100.0%   1:2013 <STRONG>   </STRONG> <STRONG><FONT COLOR=\"#666666\">XXXXXXXXXXXXXXXXXXXXXXXXXXXXXX</FONT><FONT COLOR=\"#0099ff\">SS</FONT><FONT COLOR=\"#6600cc\">NN</FONT><FONT COLOR=\"#33cc00\">A</FONT><FONT COLOR=\"#cc0000\">RRR</FONT><FONT COLOR=\"#33cc00\">PL</FONT><FONT COLOR=\"#009900\">H</FONT><FONT COLOR=\"#0099ff\">SS</FONT><FONT COLOR=\"#33cc00\">AM</FONT><FONT COLOR=\"#0033ff\">E</FONT><FONT COLOR=\"#33cc00\">V</FONT><FONT COLOR=\"#6600cc\">Q</FONT><FONT COLOR=\"#0099ff\">T</FONT><FONT COLOR=\"#cc0000\">KK</FONT><FONT COLOR=\"#33cc00\">V</FONT><FONT COLOR=\"#cc0000\">RK</FONT><FONT COLOR=\"#33cc00\">VPPGLP</FONT></STRONG> <STRONG>   </STRONG>\n",
        "comp637802_c0_seq3  87.0% 937:1005 <STRONG>   </STRONG> <STRONG><FONT COLOR=\"#666666\">------------------------------------------------------------</FONT></STRONG> <STRONG>   </STRONG>\n",
        "comp645729_c2_seq1  62.5%  544:663 <STRONG>   </STRONG> <STRONG><FONT COLOR=\"#666666\">------------------------------------------------------------</FONT></STRONG> <STRONG>   </STRONG>\n",
        "comp643321_c0_seq2  34.4%  544:735 <STRONG>   </STRONG> <STRONG><FONT COLOR=\"#666666\">------------------------------------------------------------</FONT></STRONG> <STRONG>   </STRONG>\n",
        "\n",
        "                                   <STRONG>181</STRONG> <STRONG>         .         2         .         .         .         .</STRONG> <STRONG>240</STRONG>\n",
        "M_musculus_E2-2    100.0%   1:2013 <STRONG>   </STRONG> <STRONG><FONT COLOR=\"#0099ff\">SS</FONT><FONT COLOR=\"#33cc00\">V</FONT><FONT COLOR=\"#009900\">Y</FONT><FONT COLOR=\"#33cc00\">AP</FONT><FONT COLOR=\"#0099ff\">S</FONT><FONT COLOR=\"#33cc00\">A</FONT><FONT COLOR=\"#0099ff\">ST</FONT><FONT COLOR=\"#33cc00\">A</FONT><FONT COLOR=\"#0033ff\">D</FONT><FONT COLOR=\"#009900\">Y</FONT><FONT COLOR=\"#6600cc\">N</FONT><FONT COLOR=\"#cc0000\">R</FONT><FONT COLOR=\"#0033ff\">D</FONT><FONT COLOR=\"#0099ff\">S</FONT><FONT COLOR=\"#33cc00\">PG</FONT><FONT COLOR=\"#009900\">Y</FONT><FONT COLOR=\"#33cc00\">P</FONT><FONT COLOR=\"#0099ff\">SS</FONT><FONT COLOR=\"#cc0000\">K</FONT><FONT COLOR=\"#33cc00\">PAA</FONT><FONT COLOR=\"#0099ff\">ST</FONT><FONT COLOR=\"#009900\">F</FONT><FONT COLOR=\"#33cc00\">P</FONT><FONT COLOR=\"#0099ff\">SS</FONT><FONT COLOR=\"#009900\">FF</FONT><FONT COLOR=\"#33cc00\">M</FONT><FONT COLOR=\"#6600cc\">Q</FONT><FONT COLOR=\"#0033ff\">D</FONT><FONT COLOR=\"#33cc00\">G</FONT><FONT COLOR=\"#009900\">HH</FONT><FONT COLOR=\"#0099ff\">ss</FONT><FONT COLOR=\"#0033ff\">d</FONT><FONT COLOR=\"#33cc00\">p</FONT><FONT COLOR=\"#009900\">w</FONT><FONT COLOR=\"#0099ff\">ssss</FONT><FONT COLOR=\"#33cc00\">GM</FONT><FONT COLOR=\"#6600cc\">NQ</FONT><FONT COLOR=\"#33cc00\">PG</FONT><FONT COLOR=\"#009900\">Y</FONT><FONT COLOR=\"#33cc00\">GGM</FONT></STRONG> <STRONG>   </STRONG>\n",
        "comp637802_c0_seq3  87.0% 937:1005 <STRONG>   </STRONG> <STRONG><FONT COLOR=\"#666666\">------------------------------------------------------------</FONT></STRONG> <STRONG>   </STRONG>\n",
        "comp645729_c2_seq1  62.5%  544:663 <STRONG>   </STRONG> <STRONG><FONT COLOR=\"#666666\">-T</FONT><FONT COLOR=\"#33cc00\">V</FONT><FONT COLOR=\"#009900\">Y</FONT><FONT COLOR=\"#33cc00\">AP</FONT><FONT COLOR=\"#0099ff\">S</FONT><FONT COLOR=\"#666666\">P</FONT><FONT COLOR=\"#0099ff\">S</FONT><FONT COLOR=\"#666666\">QD</FONT><FONT COLOR=\"#0033ff\">D</FONT><FONT COLOR=\"#009900\">Y</FONT><FONT COLOR=\"#6600cc\">N</FONT><FONT COLOR=\"#cc0000\">R</FONT><FONT COLOR=\"#666666\">E</FONT><FONT COLOR=\"#0099ff\">S</FONT><FONT COLOR=\"#33cc00\">PG</FONT><FONT COLOR=\"#666666\">F</FONT><FONT COLOR=\"#33cc00\">P</FONT><FONT COLOR=\"#666666\">PA</FONT><FONT COLOR=\"#cc0000\">K</FONT><FONT COLOR=\"#33cc00\">PA</FONT><FONT COLOR=\"#666666\">S</FONT><FONT COLOR=\"#0099ff\">S</FONT><FONT COLOR=\"#666666\">M</FONT><FONT COLOR=\"#009900\">F</FONT><FONT COLOR=\"#666666\">SGTY</FONT><FONT COLOR=\"#009900\">F</FONT><FONT COLOR=\"#33cc00\">M</FONT><FONT COLOR=\"#6600cc\">Q</FONT><FONT COLOR=\"#0033ff\">D</FONT><FONT COLOR=\"#33cc00\">G</FONT><FONT COLOR=\"#666666\">P</FONT><FONT COLOR=\"#009900\">H</FONT><FONT COLOR=\"#666666\">-------------------</FONT></STRONG> <STRONG>   </STRONG>\n",
        "comp643321_c0_seq2  34.4%  544:735 <STRONG>   </STRONG> <STRONG><FONT COLOR=\"#666666\">-T</FONT><FONT COLOR=\"#33cc00\">V</FONT><FONT COLOR=\"#009900\">Y</FONT><FONT COLOR=\"#33cc00\">AP</FONT><FONT COLOR=\"#0099ff\">S</FONT><FONT COLOR=\"#666666\">VAADEF</FONT><FONT COLOR=\"#6600cc\">N</FONT><FONT COLOR=\"#cc0000\">R</FONT><FONT COLOR=\"#666666\">E</FONT><FONT COLOR=\"#0099ff\">S</FONT><FONT COLOR=\"#33cc00\">P</FONT><FONT COLOR=\"#666666\">S</FONT><FONT COLOR=\"#009900\">Y</FONT><FONT COLOR=\"#666666\">SAKP</FONT><FONT COLOR=\"#33cc00\">P</FONT><FONT COLOR=\"#666666\">GSMFSSPY</FONT><FONT COLOR=\"#009900\">F</FONT><FONT COLOR=\"#666666\">MQDAA</FONT><FONT COLOR=\"#009900\">H</FONT><FONT COLOR=\"#666666\">G</FONT><FONT COLOR=\"#0099ff\">SS</FONT><FONT COLOR=\"#0033ff\">D</FONT><FONT COLOR=\"#666666\">L</FONT><FONT COLOR=\"#009900\">W</FONT><FONT COLOR=\"#0099ff\">SSS</FONT><FONT COLOR=\"#666666\">N</FONT><FONT COLOR=\"#33cc00\">GM</FONT><FONT COLOR=\"#666666\">S</FONT><FONT COLOR=\"#6600cc\">Q</FONT><FONT COLOR=\"#666666\">Q</FONT><FONT COLOR=\"#33cc00\">G</FONT><FONT COLOR=\"#009900\">Y</FONT><FONT COLOR=\"#666666\">SS</FONT><FONT COLOR=\"#33cc00\">M</FONT></STRONG> <STRONG>   </STRONG>\n",
        "\n",
        "                                   <STRONG>241</STRONG> <STRONG>         :         .         .         .         .         3</STRONG> <STRONG>300</STRONG>\n",
        "M_musculus_E2-2    100.0%   1:2013 <STRONG>   </STRONG> <STRONG><FONT COLOR=\"#33cc00\">LG</FONT><FONT COLOR=\"#6600cc\">N</FONT><FONT COLOR=\"#0099ff\">SS</FONT><FONT COLOR=\"#666666\">XXXXXXXXXXXXXXXXXXXXX</FONT><FONT COLOR=\"#009900\">H</FONT><FONT COLOR=\"#0099ff\">SS</FONT><FONT COLOR=\"#33cc00\">A</FONT><FONT COLOR=\"#0033ff\">D</FONT><FONT COLOR=\"#33cc00\">I</FONT><FONT COLOR=\"#6600cc\">N</FONT><FONT COLOR=\"#0099ff\">SS</FONT><FONT COLOR=\"#33cc00\">LPPM</FONT><FONT COLOR=\"#0099ff\">ST</FONT><FONT COLOR=\"#009900\">FH</FONT><FONT COLOR=\"#cc0000\">R</FONT><FONT COLOR=\"#0099ff\">S</FONT><FONT COLOR=\"#33cc00\">G</FONT><FONT COLOR=\"#0099ff\">T</FONT><FONT COLOR=\"#6600cc\">N</FONT><FONT COLOR=\"#009900\">HY</FONT><FONT COLOR=\"#0099ff\">STSS</FONT><FONT COLOR=\"#ffff00\">C</FONT><FONT COLOR=\"#0099ff\">T</FONT><FONT COLOR=\"#33cc00\">PPA</FONT><FONT COLOR=\"#6600cc\">N</FONT></STRONG> <STRONG>   </STRONG>\n",
        "comp637802_c0_seq3  87.0% 937:1005 <STRONG>   </STRONG> <STRONG><FONT COLOR=\"#666666\">------------------------------------------------------------</FONT></STRONG> <STRONG>   </STRONG>\n",
        "comp645729_c2_seq1  62.5%  544:663 <STRONG>   </STRONG> <STRONG><FONT COLOR=\"#666666\">------------------------------------------------------------</FONT></STRONG> <STRONG>   </STRONG>\n",
        "comp643321_c0_seq2  34.4%  544:735 <STRONG>   </STRONG> <STRONG><FONT COLOR=\"#33cc00\">LG</FONT><FONT COLOR=\"#666666\">A</FONT><FONT COLOR=\"#0099ff\">S</FONT><FONT COLOR=\"#666666\">A-------------------------------------------------------</FONT></STRONG> <STRONG>   </STRONG>\n",
        "\n",
        "                                   <STRONG>301</STRONG> <STRONG>         .         .         .         .         :         .</STRONG> <STRONG>360</STRONG>\n",
        "M_musculus_E2-2    100.0%   1:2013 <STRONG>   </STRONG> <STRONG><FONT COLOR=\"#33cc00\">G</FONT><FONT COLOR=\"#0099ff\">T</FONT><FONT COLOR=\"#0033ff\">D</FONT><FONT COLOR=\"#0099ff\">S</FONT><FONT COLOR=\"#33cc00\">IMA</FONT><FONT COLOR=\"#6600cc\">N</FONT><FONT COLOR=\"#cc0000\">R</FONT><FONT COLOR=\"#33cc00\">G</FONT><FONT COLOR=\"#0099ff\">T</FONT><FONT COLOR=\"#33cc00\">GAAG</FONT><FONT COLOR=\"#0099ff\">SS</FONT><FONT COLOR=\"#6600cc\">Q</FONT><FONT COLOR=\"#0099ff\">T</FONT><FONT COLOR=\"#33cc00\">G</FONT><FONT COLOR=\"#0033ff\">D</FONT><FONT COLOR=\"#33cc00\">ALG</FONT><FONT COLOR=\"#cc0000\">K</FONT><FONT COLOR=\"#33cc00\">ALA</FONT><FONT COLOR=\"#0099ff\">S</FONT><FONT COLOR=\"#33cc00\">I</FONT><FONT COLOR=\"#009900\">Y</FONT><FONT COLOR=\"#0099ff\">S</FONT><FONT COLOR=\"#33cc00\">P</FONT><FONT COLOR=\"#0033ff\">D</FONT><FONT COLOR=\"#009900\">H</FONT><FONT COLOR=\"#0099ff\">t</FONT><FONT COLOR=\"#6600cc\">nn</FONT><FONT COLOR=\"#0099ff\">s</FONT><FONT COLOR=\"#009900\">f</FONT><FONT COLOR=\"#0099ff\">ss</FONT><FONT COLOR=\"#6600cc\">n</FONT><FONT COLOR=\"#33cc00\">p</FONT><FONT COLOR=\"#0099ff\">st</FONT><FONT COLOR=\"#33cc00\">pVG</FONT><FONT COLOR=\"#0099ff\">S</FONT><FONT COLOR=\"#33cc00\">PP</FONT><FONT COLOR=\"#0099ff\">S</FONT><FONT COLOR=\"#33cc00\">L</FONT><FONT COLOR=\"#0099ff\">S</FONT><FONT COLOR=\"#666666\">XXXXX</FONT></STRONG> <STRONG>   </STRONG>\n",
        "comp637802_c0_seq3  87.0% 937:1005 <STRONG>   </STRONG> <STRONG><FONT COLOR=\"#666666\">------------</FONT><FONT COLOR=\"#33cc00\">AAG</FONT><FONT COLOR=\"#666666\">AA</FONT><FONT COLOR=\"#6600cc\">Q</FONT><FONT COLOR=\"#0099ff\">T</FONT><FONT COLOR=\"#33cc00\">G</FONT><FONT COLOR=\"#0033ff\">D</FONT><FONT COLOR=\"#666666\">T</FONT><FONT COLOR=\"#33cc00\">LG</FONT><FONT COLOR=\"#cc0000\">K</FONT><FONT COLOR=\"#33cc00\">ALA</FONT><FONT COLOR=\"#0099ff\">S</FONT><FONT COLOR=\"#33cc00\">I</FONT><FONT COLOR=\"#009900\">Y</FONT><FONT COLOR=\"#0099ff\">S</FONT><FONT COLOR=\"#33cc00\">P</FONT><FONT COLOR=\"#0033ff\">D</FONT><FONT COLOR=\"#009900\">H</FONT><FONT COLOR=\"#666666\">-------------------------</FONT></STRONG> <STRONG>   </STRONG>\n",
        "comp645729_c2_seq1  62.5%  544:663 <STRONG>   </STRONG> <STRONG><FONT COLOR=\"#666666\">------------------------------------------------------------</FONT></STRONG> <STRONG>   </STRONG>\n",
        "comp643321_c0_seq2  34.4%  544:735 <STRONG>   </STRONG> <STRONG><FONT COLOR=\"#666666\">------------------------------------------------------------</FONT></STRONG> <STRONG>   </STRONG>\n",
        "\n",
        "                                   <STRONG>361</STRONG> <STRONG>         .         .         .         4         .         .</STRONG> <STRONG>420</STRONG>\n",
        "M_musculus_E2-2    100.0%   1:2013 <STRONG>   </STRONG> <STRONG><FONT COLOR=\"#666666\">XXXXXXXXXXXXXXXXXXXXX</FONT><FONT COLOR=\"#6600cc\">Q</FONT><FONT COLOR=\"#0099ff\">S</FONT><FONT COLOR=\"#cc0000\">R</FONT><FONT COLOR=\"#33cc00\">I</FONT><FONT COLOR=\"#0033ff\">ED</FONT><FONT COLOR=\"#cc0000\">R</FONT><FONT COLOR=\"#33cc00\">L</FONT><FONT COLOR=\"#0033ff\">E</FONT><FONT COLOR=\"#cc0000\">R</FONT><FONT COLOR=\"#33cc00\">L</FONT><FONT COLOR=\"#0033ff\">DD</FONT><FONT COLOR=\"#33cc00\">AI</FONT><FONT COLOR=\"#009900\">H</FONT><FONT COLOR=\"#33cc00\">VL</FONT><FONT COLOR=\"#cc0000\">R</FONT><FONT COLOR=\"#6600cc\">N</FONT><FONT COLOR=\"#009900\">H</FONT><FONT COLOR=\"#33cc00\">AVGP</FONT><FONT COLOR=\"#0099ff\">ST</FONT><FONT COLOR=\"#33cc00\">AVPGG</FONT><FONT COLOR=\"#009900\">H</FONT><FONT COLOR=\"#33cc00\">G</FONT><FONT COLOR=\"#666666\">XXXXX</FONT></STRONG> <STRONG>   </STRONG>\n",
        "comp637802_c0_seq3  87.0% 937:1005 <STRONG>   </STRONG> <STRONG><FONT COLOR=\"#666666\">------------------------------------------------------------</FONT></STRONG> <STRONG>   </STRONG>\n",
        "comp645729_c2_seq1  62.5%  544:663 <STRONG>   </STRONG> <STRONG><FONT COLOR=\"#666666\">------------------------------------------------------------</FONT></STRONG> <STRONG>   </STRONG>\n",
        "comp643321_c0_seq2  34.4%  544:735 <STRONG>   </STRONG> <STRONG><FONT COLOR=\"#666666\">------------------------------------------------------------</FONT></STRONG> <STRONG>   </STRONG>\n",
        "\n",
        "                                   <STRONG>421</STRONG> <STRONG>         .         .         :         .         .         .</STRONG> <STRONG>480</STRONG>\n",
        "M_musculus_E2-2    100.0%   1:2013 <STRONG>   </STRONG> <STRONG><FONT COLOR=\"#666666\">XXXXXXXXXXXXXXXXXXXXXXXXXXXXXXXXXXXXXXXXXXXXXXXXXXXXXXXXXXXX</FONT></STRONG> <STRONG>   </STRONG>\n",
        "comp637802_c0_seq3  87.0% 937:1005 <STRONG>   </STRONG> <STRONG><FONT COLOR=\"#666666\">------------------------------------------------------------</FONT></STRONG> <STRONG>   </STRONG>\n",
        "comp645729_c2_seq1  62.5%  544:663 <STRONG>   </STRONG> <STRONG><FONT COLOR=\"#666666\">------------------------------------------------------------</FONT></STRONG> <STRONG>   </STRONG>\n",
        "comp643321_c0_seq2  34.4%  544:735 <STRONG>   </STRONG> <STRONG><FONT COLOR=\"#666666\">------------------------------------------------------------</FONT></STRONG> <STRONG>   </STRONG>\n",
        "\n",
        "                                   <STRONG>481</STRONG> <STRONG>         .         5         .         .         .         .</STRONG> <STRONG>540</STRONG>\n",
        "M_musculus_E2-2    100.0%   1:2013 <STRONG>   </STRONG> <STRONG><FONT COLOR=\"#666666\">XXXXXXXXXXXXXXXXXXXXXXXXXXXXXXXXXXXXXXXXXXXXXXXXXXXXXXXXXXXX</FONT></STRONG> <STRONG>   </STRONG>\n",
        "comp637802_c0_seq3  87.0% 937:1005 <STRONG>   </STRONG> <STRONG><FONT COLOR=\"#666666\">------------------------------------------------------------</FONT></STRONG> <STRONG>   </STRONG>\n",
        "comp645729_c2_seq1  62.5%  544:663 <STRONG>   </STRONG> <STRONG><FONT COLOR=\"#666666\">------------------------------------------------------------</FONT></STRONG> <STRONG>   </STRONG>\n",
        "comp643321_c0_seq2  34.4%  544:735 <STRONG>   </STRONG> <STRONG><FONT COLOR=\"#666666\">------------------------------------------------------------</FONT></STRONG> <STRONG>   </STRONG>\n",
        "\n",
        "                                   <STRONG>541</STRONG> <STRONG>         :         .         .         .         .         6</STRONG> <STRONG>600</STRONG>\n",
        "M_musculus_E2-2    100.0%   1:2013 <STRONG>   </STRONG> <STRONG><FONT COLOR=\"#666666\">XXX</FONT><FONT COLOR=\"#0099ff\">T</FONT><FONT COLOR=\"#cc0000\">R</FONT><FONT COLOR=\"#0099ff\">S</FONT><FONT COLOR=\"#cc0000\">R</FONT><FONT COLOR=\"#0099ff\">SS</FONT><FONT COLOR=\"#6600cc\">NN</FONT><FONT COLOR=\"#0033ff\">DDED</FONT><FONT COLOR=\"#33cc00\">L</FONT><FONT COLOR=\"#0099ff\">T</FONT><FONT COLOR=\"#33cc00\">P</FONT><FONT COLOR=\"#0033ff\">E</FONT><FONT COLOR=\"#6600cc\">Q</FONT><FONT COLOR=\"#cc0000\">K</FONT><FONT COLOR=\"#33cc00\">A</FONT><FONT COLOR=\"#0033ff\">E</FONT><FONT COLOR=\"#cc0000\">R</FONT><FONT COLOR=\"#0033ff\">E</FONT><FONT COLOR=\"#cc0000\">K</FONT><FONT COLOR=\"#0033ff\">E</FONT><FONT COLOR=\"#cc0000\">RR</FONT><FONT COLOR=\"#33cc00\">MA</FONT><FONT COLOR=\"#6600cc\">NN</FONT><FONT COLOR=\"#33cc00\">A</FONT><FONT COLOR=\"#cc0000\">R</FONT><FONT COLOR=\"#0033ff\">E</FONT><FONT COLOR=\"#cc0000\">R</FONT><FONT COLOR=\"#33cc00\">L</FONT><FONT COLOR=\"#cc0000\">R</FONT><FONT COLOR=\"#33cc00\">V</FONT><FONT COLOR=\"#cc0000\">R</FONT><FONT COLOR=\"#0033ff\">D</FONT><FONT COLOR=\"#33cc00\">I</FONT><FONT COLOR=\"#6600cc\">N</FONT><FONT COLOR=\"#0033ff\">E</FONT><FONT COLOR=\"#33cc00\">A</FONT><FONT COLOR=\"#009900\">F</FONT><FONT COLOR=\"#cc0000\">K</FONT><FONT COLOR=\"#0033ff\">E</FONT><FONT COLOR=\"#33cc00\">LG</FONT><FONT COLOR=\"#cc0000\">R</FONT><FONT COLOR=\"#33cc00\">MV</FONT><FONT COLOR=\"#6600cc\">Q</FONT><FONT COLOR=\"#33cc00\">L</FONT><FONT COLOR=\"#009900\">H</FONT><FONT COLOR=\"#33cc00\">L</FONT><FONT COLOR=\"#cc0000\">K</FONT><FONT COLOR=\"#0099ff\">S</FONT></STRONG> <STRONG>   </STRONG>\n",
        "comp637802_c0_seq3  87.0% 937:1005 <STRONG>   </STRONG> <STRONG><FONT COLOR=\"#666666\">------------------------------------------------------------</FONT></STRONG> <STRONG>   </STRONG>\n",
        "comp645729_c2_seq1  62.5%  544:663 <STRONG>   </STRONG> <STRONG><FONT COLOR=\"#666666\">------------------------------------------------------------</FONT></STRONG> <STRONG>   </STRONG>\n",
        "comp643321_c0_seq2  34.4%  544:735 <STRONG>   </STRONG> <STRONG><FONT COLOR=\"#666666\">------------------------------------------------------------</FONT></STRONG> <STRONG>   </STRONG>\n",
        "\n",
        "                                   <STRONG>601</STRONG> <STRONG>         .         .         .         .         :         .</STRONG> <STRONG>660</STRONG>\n",
        "M_musculus_E2-2    100.0%   1:2013 <STRONG>   </STRONG> <STRONG><FONT COLOR=\"#0033ff\">D</FONT><FONT COLOR=\"#cc0000\">K</FONT><FONT COLOR=\"#33cc00\">P</FONT><FONT COLOR=\"#6600cc\">Q</FONT><FONT COLOR=\"#0099ff\">T</FONT><FONT COLOR=\"#cc0000\">K</FONT><FONT COLOR=\"#33cc00\">LLIL</FONT><FONT COLOR=\"#009900\">H</FONT><FONT COLOR=\"#6600cc\">Q</FONT><FONT COLOR=\"#33cc00\">AVAVIL</FONT><FONT COLOR=\"#0099ff\">S</FONT><FONT COLOR=\"#33cc00\">L</FONT><FONT COLOR=\"#0033ff\">E</FONT><FONT COLOR=\"#6600cc\">QQ</FONT><FONT COLOR=\"#33cc00\">V</FONT><FONT COLOR=\"#cc0000\">R</FONT><FONT COLOR=\"#0033ff\">E</FONT><FONT COLOR=\"#cc0000\">R</FONT><FONT COLOR=\"#6600cc\">N</FONT><FONT COLOR=\"#33cc00\">L</FONT><FONT COLOR=\"#6600cc\">N</FONT><FONT COLOR=\"#33cc00\">P</FONT><FONT COLOR=\"#cc0000\">K</FONT><FONT COLOR=\"#33cc00\">AA</FONT><FONT COLOR=\"#ffff00\">C</FONT><FONT COLOR=\"#33cc00\">L</FONT><FONT COLOR=\"#cc0000\">KRR</FONT><FONT COLOR=\"#0033ff\">EEE</FONT><FONT COLOR=\"#cc0000\">K</FONT><FONT COLOR=\"#33cc00\">V</FONT><FONT COLOR=\"#0099ff\">SS</FONT><FONT COLOR=\"#0033ff\">E</FONT><FONT COLOR=\"#33cc00\">PPPL</FONT><FONT COLOR=\"#0099ff\">S</FONT><FONT COLOR=\"#33cc00\">LAGP</FONT><FONT COLOR=\"#009900\">H</FONT><FONT COLOR=\"#33cc00\">PGM</FONT></STRONG> <STRONG>   </STRONG>\n",
        "comp637802_c0_seq3  87.0% 937:1005 <STRONG>   </STRONG> <STRONG><FONT COLOR=\"#666666\">------------------------------------------------------------</FONT></STRONG> <STRONG>   </STRONG>\n",
        "comp645729_c2_seq1  62.5%  544:663 <STRONG>   </STRONG> <STRONG><FONT COLOR=\"#666666\">------------------------------------------------------------</FONT></STRONG> <STRONG>   </STRONG>\n",
        "comp643321_c0_seq2  34.4%  544:735 <STRONG>   </STRONG> <STRONG><FONT COLOR=\"#666666\">------------------------------------------------------------</FONT></STRONG> <STRONG>   </STRONG>\n",
        "\n",
        "                                   <STRONG>661</STRONG> <STRONG>         .]</STRONG> <STRONG>671</STRONG>\n",
        "M_musculus_E2-2    100.0%   1:2013 <STRONG>   </STRONG> <STRONG><FONT COLOR=\"#33cc00\">G</FONT><FONT COLOR=\"#0033ff\">D</FONT><FONT COLOR=\"#33cc00\">AA</FONT><FONT COLOR=\"#6600cc\">N</FONT><FONT COLOR=\"#009900\">H</FONT><FONT COLOR=\"#33cc00\">MG</FONT><FONT COLOR=\"#6600cc\">Q</FONT><FONT COLOR=\"#33cc00\">M</FONT><FONT COLOR=\"#666666\">*</FONT></STRONG> <STRONG>   </STRONG>\n",
        "comp637802_c0_seq3  87.0% 937:1005 <STRONG>   </STRONG> <STRONG><FONT COLOR=\"#666666\">-----------</FONT></STRONG> <STRONG>   </STRONG>\n",
        "comp645729_c2_seq1  62.5%  544:663 <STRONG>   </STRONG> <STRONG><FONT COLOR=\"#666666\">-----------</FONT></STRONG> <STRONG>   </STRONG>\n",
        "comp643321_c0_seq2  34.4%  544:735 <STRONG>   </STRONG> <STRONG><FONT COLOR=\"#666666\">-----------</FONT></STRONG> <STRONG>   </STRONG>\n",
        "</PRE>\n",
        "</TD></TR>\n",
        "</TABLE><TABLE BORDER=0 BGCOLOR='white' TEXT='#666666' LINK='blue' ALINK='red' VLINK='purple'>\n",
        "<TR><TD><PRE>\n",
        "Reference sequence (query): M_musculus_HEB\n",
        "Identities normalised by aligned length.\n",
        "Colored by: identity + property\n",
        "</PRE></TD></TR>\n",
        "<TR><TD><PRE>\n",
        "HSP processing: ranked\n",
        "Query orientation: +\n",
        "</PRE></TD></TR>\n",
        "<TR><TD>\n",
        "<PRE>\n",
        "                                   <STRONG>  1</STRONG> <STRONG>[        .         .         .         .         :         .</STRONG> <STRONG>60 </STRONG>\n",
        "M_musculus_HEB     100.0%   1:2073 <STRONG>   </STRONG> <STRONG><FONT COLOR=\"#33cc00\">M</FONT><FONT COLOR=\"#6600cc\">N</FONT><FONT COLOR=\"#33cc00\">P</FONT><FONT COLOR=\"#6600cc\">QQQ</FONT><FONT COLOR=\"#cc0000\">R</FONT><FONT COLOR=\"#33cc00\">MAAIG</FONT><FONT COLOR=\"#0099ff\">T</FONT><FONT COLOR=\"#0033ff\">D</FONT><FONT COLOR=\"#cc0000\">K</FONT><FONT COLOR=\"#0033ff\">E</FONT><FONT COLOR=\"#33cc00\">L</FONT><FONT COLOR=\"#0099ff\">S</FONT><FONT COLOR=\"#0033ff\">D</FONT><FONT COLOR=\"#33cc00\">LL</FONT><FONT COLOR=\"#0033ff\">D</FONT><FONT COLOR=\"#009900\">F</FONT><FONT COLOR=\"#0099ff\">S</FONT><FONT COLOR=\"#33cc00\">AM</FONT><FONT COLOR=\"#009900\">F</FONT><FONT COLOR=\"#0099ff\">S</FONT><FONT COLOR=\"#33cc00\">PPV</FONT><FONT COLOR=\"#6600cc\">N</FONT><FONT COLOR=\"#0099ff\">S</FONT><FONT COLOR=\"#33cc00\">G</FONT><FONT COLOR=\"#cc0000\">K</FONT><FONT COLOR=\"#0099ff\">T</FONT><FONT COLOR=\"#cc0000\">R</FONT><FONT COLOR=\"#33cc00\">P</FONT><FONT COLOR=\"#0099ff\">TT</FONT><FONT COLOR=\"#33cc00\">LG</FONT><FONT COLOR=\"#0099ff\">SS</FONT><FONT COLOR=\"#6600cc\">Q</FONT><FONT COLOR=\"#009900\">F</FONT><FONT COLOR=\"#0099ff\">S</FONT><FONT COLOR=\"#33cc00\">G</FONT><FONT COLOR=\"#0099ff\">S</FONT><FONT COLOR=\"#33cc00\">GM</FONT><FONT COLOR=\"#0033ff\">DE</FONT><FONT COLOR=\"#cc0000\">R</FONT><FONT COLOR=\"#33cc00\">GG</FONT><FONT COLOR=\"#0099ff\">TTS</FONT><FONT COLOR=\"#009900\">W</FONT></STRONG> <STRONG>   </STRONG>\n",
        "comp645729_c2_seq1  48.4%  577:762 <STRONG>   </STRONG> <STRONG><FONT COLOR=\"#666666\">------------------------------------------------------------</FONT></STRONG> <STRONG>   </STRONG>\n",
        "comp637802_c0_seq3  85.2% 973:1053 <STRONG>   </STRONG> <STRONG><FONT COLOR=\"#666666\">------------------------------------------------------------</FONT></STRONG> <STRONG>   </STRONG>\n",
        "comp643321_c0_seq2  68.6%  658:762 <STRONG>   </STRONG> <STRONG><FONT COLOR=\"#666666\">------------------------------------------------------------</FONT></STRONG> <STRONG>   </STRONG>\n",
        "\n",
        "                                   <STRONG> 61</STRONG> <STRONG>         .         .         .         1         .         .</STRONG> <STRONG>120</STRONG>\n",
        "M_musculus_HEB     100.0%   1:2073 <STRONG>   </STRONG> <STRONG><FONT COLOR=\"#33cc00\">G</FONT><FONT COLOR=\"#0099ff\">TS</FONT><FONT COLOR=\"#33cc00\">G</FONT><FONT COLOR=\"#6600cc\">Q</FONT><FONT COLOR=\"#33cc00\">P</FONT><FONT COLOR=\"#0099ff\">S</FONT><FONT COLOR=\"#33cc00\">P</FONT><FONT COLOR=\"#0099ff\">S</FONT><FONT COLOR=\"#009900\">Y</FONT><FONT COLOR=\"#0033ff\">D</FONT><FONT COLOR=\"#0099ff\">SS</FONT><FONT COLOR=\"#cc0000\">R</FONT><FONT COLOR=\"#33cc00\">G</FONT><FONT COLOR=\"#009900\">F</FONT><FONT COLOR=\"#0099ff\">T</FONT><FONT COLOR=\"#0033ff\">D</FONT><FONT COLOR=\"#0099ff\">S</FONT><FONT COLOR=\"#33cc00\">P</FONT><FONT COLOR=\"#009900\">HY</FONT><FONT COLOR=\"#0099ff\">S</FONT><FONT COLOR=\"#0033ff\">D</FONT><FONT COLOR=\"#009900\">H</FONT><FONT COLOR=\"#33cc00\">L</FONT><FONT COLOR=\"#6600cc\">N</FONT><FONT COLOR=\"#0033ff\">D</FONT><FONT COLOR=\"#0099ff\">S</FONT><FONT COLOR=\"#cc0000\">R</FONT><FONT COLOR=\"#33cc00\">LG</FONT><FONT COLOR=\"#0099ff\">T</FONT><FONT COLOR=\"#009900\">H</FONT><FONT COLOR=\"#0033ff\">E</FONT><FONT COLOR=\"#33cc00\">GL</FONT><FONT COLOR=\"#666666\">XXXXXXXXXXXXXXXXXXXXXXX</FONT></STRONG> <STRONG>   </STRONG>\n",
        "comp645729_c2_seq1  48.4%  577:762 <STRONG>   </STRONG> <STRONG><FONT COLOR=\"#666666\">------------------------------------------------------------</FONT></STRONG> <STRONG>   </STRONG>\n",
        "comp637802_c0_seq3  85.2% 973:1053 <STRONG>   </STRONG> <STRONG><FONT COLOR=\"#666666\">------------------------------------------------------------</FONT></STRONG> <STRONG>   </STRONG>\n",
        "comp643321_c0_seq2  68.6%  658:762 <STRONG>   </STRONG> <STRONG><FONT COLOR=\"#666666\">------------------------------------------------------------</FONT></STRONG> <STRONG>   </STRONG>\n",
        "\n",
        "                                   <STRONG>121</STRONG> <STRONG>         .         .         :         .         .         .</STRONG> <STRONG>180</STRONG>\n",
        "M_musculus_HEB     100.0%   1:2073 <STRONG>   </STRONG> <STRONG><FONT COLOR=\"#666666\">XXXXXXXXX</FONT><FONT COLOR=\"#6600cc\">Q</FONT><FONT COLOR=\"#0099ff\">SS</FONT><FONT COLOR=\"#33cc00\">LL</FONT><FONT COLOR=\"#cc0000\">R</FONT><FONT COLOR=\"#6600cc\">Q</FONT><FONT COLOR=\"#0033ff\">D</FONT><FONT COLOR=\"#33cc00\">LGLG</FONT><FONT COLOR=\"#0099ff\">S</FONT><FONT COLOR=\"#33cc00\">PA</FONT><FONT COLOR=\"#6600cc\">Q</FONT><FONT COLOR=\"#33cc00\">L</FONT><FONT COLOR=\"#0099ff\">SSS</FONT><FONT COLOR=\"#33cc00\">G</FONT><FONT COLOR=\"#cc0000\">K</FONT><FONT COLOR=\"#33cc00\">PG</FONT><FONT COLOR=\"#0099ff\">T</FONT><FONT COLOR=\"#33cc00\">P</FONT><FONT COLOR=\"#009900\">YY</FONT><FONT COLOR=\"#0099ff\">S</FONT><FONT COLOR=\"#009900\">F</FONT><FONT COLOR=\"#0099ff\">S</FONT><FONT COLOR=\"#33cc00\">A</FONT><FONT COLOR=\"#0099ff\">TSS</FONT><FONT COLOR=\"#cc0000\">RRR</FONT><FONT COLOR=\"#33cc00\">PL</FONT><FONT COLOR=\"#009900\">H</FONT><FONT COLOR=\"#0033ff\">D</FONT><FONT COLOR=\"#0099ff\">S</FONT><FONT COLOR=\"#33cc00\">VAL</FONT><FONT COLOR=\"#0033ff\">D</FONT><FONT COLOR=\"#33cc00\">PL</FONT><FONT COLOR=\"#6600cc\">Q</FONT><FONT COLOR=\"#33cc00\">A</FONT></STRONG> <STRONG>   </STRONG>\n",
        "comp645729_c2_seq1  48.4%  577:762 <STRONG>   </STRONG> <STRONG><FONT COLOR=\"#666666\">------------------------------------------------------------</FONT></STRONG> <STRONG>   </STRONG>\n",
        "comp637802_c0_seq3  85.2% 973:1053 <STRONG>   </STRONG> <STRONG><FONT COLOR=\"#666666\">------------------------------------------------------------</FONT></STRONG> <STRONG>   </STRONG>\n",
        "comp643321_c0_seq2  68.6%  658:762 <STRONG>   </STRONG> <STRONG><FONT COLOR=\"#666666\">------------------------------------------------------------</FONT></STRONG> <STRONG>   </STRONG>\n",
        "\n",
        "                                   <STRONG>181</STRONG> <STRONG>         .         2         .         .         .         .</STRONG> <STRONG>240</STRONG>\n",
        "M_musculus_HEB     100.0%   1:2073 <STRONG>   </STRONG> <STRONG><FONT COLOR=\"#cc0000\">KK</FONT><FONT COLOR=\"#33cc00\">V</FONT><FONT COLOR=\"#cc0000\">RK</FONT><FONT COLOR=\"#33cc00\">VPPGLP</FONT><FONT COLOR=\"#0099ff\">SS</FONT><FONT COLOR=\"#33cc00\">V</FONT><FONT COLOR=\"#009900\">Y</FONT><FONT COLOR=\"#33cc00\">AP</FONT><FONT COLOR=\"#0099ff\">S</FONT><FONT COLOR=\"#33cc00\">P</FONT><FONT COLOR=\"#6600cc\">N</FONT><FONT COLOR=\"#0099ff\">S</FONT><FONT COLOR=\"#0033ff\">DD</FONT><FONT COLOR=\"#009900\">F</FONT><FONT COLOR=\"#6600cc\">N</FONT><FONT COLOR=\"#cc0000\">R</FONT><FONT COLOR=\"#0033ff\">E</FONT><FONT COLOR=\"#0099ff\">s</FONT><FONT COLOR=\"#33cc00\">p</FONT><FONT COLOR=\"#0099ff\">s</FONT><FONT COLOR=\"#009900\">y</FONT><FONT COLOR=\"#33cc00\">p</FONT><FONT COLOR=\"#0099ff\">s</FONT><FONT COLOR=\"#33cc00\">p</FONT><FONT COLOR=\"#cc0000\">k</FONT><FONT COLOR=\"#33cc00\">pp</FONT><FONT COLOR=\"#0099ff\">ts</FONT><FONT COLOR=\"#33cc00\">M</FONT><FONT COLOR=\"#009900\">F</FONT><FONT COLOR=\"#33cc00\">A</FONT><FONT COLOR=\"#0099ff\">ST</FONT><FONT COLOR=\"#009900\">FF</FONT><FONT COLOR=\"#33cc00\">M</FONT><FONT COLOR=\"#6600cc\">Q</FONT><FONT COLOR=\"#0033ff\">D</FONT><FONT COLOR=\"#33cc00\">G</FONT><FONT COLOR=\"#0099ff\">T</FONT><FONT COLOR=\"#009900\">H</FONT><FONT COLOR=\"#0099ff\">SSS</FONT><FONT COLOR=\"#0033ff\">D</FONT><FONT COLOR=\"#33cc00\">L</FONT><FONT COLOR=\"#009900\">W</FONT><FONT COLOR=\"#0099ff\">SS</FONT></STRONG> <STRONG>   </STRONG>\n",
        "comp645729_c2_seq1  48.4%  577:762 <STRONG>   </STRONG> <STRONG><FONT COLOR=\"#666666\">------------T</FONT><FONT COLOR=\"#33cc00\">V</FONT><FONT COLOR=\"#009900\">Y</FONT><FONT COLOR=\"#33cc00\">AP</FONT><FONT COLOR=\"#0099ff\">S</FONT><FONT COLOR=\"#33cc00\">P</FONT><FONT COLOR=\"#666666\">SQ</FONT><FONT COLOR=\"#0033ff\">DD</FONT><FONT COLOR=\"#666666\">Y</FONT><FONT COLOR=\"#6600cc\">N</FONT><FONT COLOR=\"#cc0000\">R</FONT><FONT COLOR=\"#0033ff\">E</FONT><FONT COLOR=\"#0099ff\">S</FONT><FONT COLOR=\"#33cc00\">P</FONT><FONT COLOR=\"#666666\">GF</FONT><FONT COLOR=\"#33cc00\">P</FONT><FONT COLOR=\"#666666\">PA</FONT><FONT COLOR=\"#cc0000\">K</FONT><FONT COLOR=\"#33cc00\">P</FONT><FONT COLOR=\"#666666\">AS</FONT><FONT COLOR=\"#0099ff\">S</FONT><FONT COLOR=\"#33cc00\">M</FONT><FONT COLOR=\"#009900\">F</FONT><FONT COLOR=\"#666666\">SG</FONT><FONT COLOR=\"#0099ff\">T</FONT><FONT COLOR=\"#666666\">Y</FONT><FONT COLOR=\"#009900\">F</FONT><FONT COLOR=\"#33cc00\">M</FONT><FONT COLOR=\"#6600cc\">Q</FONT><FONT COLOR=\"#0033ff\">D</FONT><FONT COLOR=\"#33cc00\">G</FONT><FONT COLOR=\"#666666\">P</FONT><FONT COLOR=\"#009900\">H</FONT><FONT COLOR=\"#666666\">VPNE</FONT><FONT COLOR=\"#33cc00\">L</FONT><FONT COLOR=\"#009900\">W</FONT><FONT COLOR=\"#666666\">PP</FONT></STRONG> <STRONG>   </STRONG>\n",
        "comp637802_c0_seq3  85.2% 973:1053 <STRONG>   </STRONG> <STRONG><FONT COLOR=\"#666666\">------------------------------------------------------------</FONT></STRONG> <STRONG>   </STRONG>\n",
        "comp643321_c0_seq2  68.6%  658:762 <STRONG>   </STRONG> <STRONG><FONT COLOR=\"#666666\">---------------------------------------</FONT><FONT COLOR=\"#33cc00\">M</FONT><FONT COLOR=\"#009900\">F</FONT><FONT COLOR=\"#666666\">S</FONT><FONT COLOR=\"#0099ff\">S</FONT><FONT COLOR=\"#666666\">PY</FONT><FONT COLOR=\"#009900\">F</FONT><FONT COLOR=\"#33cc00\">M</FONT><FONT COLOR=\"#6600cc\">Q</FONT><FONT COLOR=\"#0033ff\">D</FONT><FONT COLOR=\"#666666\">AA</FONT><FONT COLOR=\"#009900\">H</FONT><FONT COLOR=\"#666666\">G</FONT><FONT COLOR=\"#0099ff\">SS</FONT><FONT COLOR=\"#0033ff\">D</FONT><FONT COLOR=\"#33cc00\">L</FONT><FONT COLOR=\"#009900\">W</FONT><FONT COLOR=\"#0099ff\">SS</FONT></STRONG> <STRONG>   </STRONG>\n",
        "\n",
        "                                   <STRONG>241</STRONG> <STRONG>         :         .         .         .         .         3</STRONG> <STRONG>300</STRONG>\n",
        "M_musculus_HEB     100.0%   1:2073 <STRONG>   </STRONG> <STRONG><FONT COLOR=\"#0099ff\">S</FONT><FONT COLOR=\"#6600cc\">N</FONT><FONT COLOR=\"#33cc00\">GM</FONT><FONT COLOR=\"#0099ff\">S</FONT><FONT COLOR=\"#6600cc\">Q</FONT><FONT COLOR=\"#33cc00\">PG</FONT><FONT COLOR=\"#009900\">F</FONT><FONT COLOR=\"#33cc00\">GGILG</FONT><FONT COLOR=\"#666666\">XXXXXXXXXXXXXXXXXXXXXXXXXX</FONT><FONT COLOR=\"#0099ff\">S</FONT><FONT COLOR=\"#33cc00\">V</FONT><FONT COLOR=\"#0099ff\">S</FONT><FONT COLOR=\"#33cc00\">P</FONT><FONT COLOR=\"#0099ff\">T</FONT><FONT COLOR=\"#0033ff\">D</FONT><FONT COLOR=\"#33cc00\">I</FONT><FONT COLOR=\"#6600cc\">N</FONT><FONT COLOR=\"#0099ff\">TS</FONT><FONT COLOR=\"#33cc00\">LPPM</FONT><FONT COLOR=\"#0099ff\">SS</FONT><FONT COLOR=\"#009900\">FH</FONT><FONT COLOR=\"#cc0000\">R</FONT><FONT COLOR=\"#33cc00\">G</FONT></STRONG> <STRONG>   </STRONG>\n",
        "comp645729_c2_seq1  48.4%  577:762 <STRONG>   </STRONG> <STRONG><FONT COLOR=\"#666666\">T</FONT><FONT COLOR=\"#6600cc\">N</FONT><FONT COLOR=\"#33cc00\">GM</FONT><FONT COLOR=\"#666666\">NHS</FONT><FONT COLOR=\"#33cc00\">G</FONT><FONT COLOR=\"#666666\">Y</FONT><FONT COLOR=\"#33cc00\">GG</FONT><FONT COLOR=\"#666666\">V</FONT><FONT COLOR=\"#33cc00\">LG</FONT><FONT COLOR=\"#666666\">----------------------------------------------</FONT></STRONG> <STRONG>   </STRONG>\n",
        "comp637802_c0_seq3  85.2% 973:1053 <STRONG>   </STRONG> <STRONG><FONT COLOR=\"#666666\">------------------------------------------------------------</FONT></STRONG> <STRONG>   </STRONG>\n",
        "comp643321_c0_seq2  68.6%  658:762 <STRONG>   </STRONG> <STRONG><FONT COLOR=\"#0099ff\">S</FONT><FONT COLOR=\"#6600cc\">N</FONT><FONT COLOR=\"#33cc00\">GM</FONT><FONT COLOR=\"#0099ff\">S</FONT><FONT COLOR=\"#6600cc\">Q</FONT><FONT COLOR=\"#666666\">Q</FONT><FONT COLOR=\"#33cc00\">G</FONT><FONT COLOR=\"#666666\">YSSM</FONT><FONT COLOR=\"#33cc00\">LG</FONT><FONT COLOR=\"#666666\">----------------------------------------------</FONT></STRONG> <STRONG>   </STRONG>\n",
        "\n",
        "                                   <STRONG>301</STRONG> <STRONG>         .         .         .         .         :         .</STRONG> <STRONG>360</STRONG>\n",
        "M_musculus_HEB     100.0%   1:2073 <STRONG>   </STRONG> <STRONG><FONT COLOR=\"#0099ff\">STSSS</FONT><FONT COLOR=\"#33cc00\">P</FONT><FONT COLOR=\"#009900\">Y</FONT><FONT COLOR=\"#33cc00\">VAA</FONT><FONT COLOR=\"#0099ff\">S</FONT><FONT COLOR=\"#009900\">H</FONT><FONT COLOR=\"#0099ff\">T</FONT><FONT COLOR=\"#33cc00\">PPI</FONT><FONT COLOR=\"#6600cc\">N</FONT><FONT COLOR=\"#33cc00\">G</FONT><FONT COLOR=\"#0099ff\">S</FONT><FONT COLOR=\"#0033ff\">D</FONT><FONT COLOR=\"#0099ff\">S</FONT><FONT COLOR=\"#33cc00\">ILG</FONT><FONT COLOR=\"#0099ff\">T</FONT><FONT COLOR=\"#cc0000\">R</FONT><FONT COLOR=\"#33cc00\">G</FONT><FONT COLOR=\"#6600cc\">N</FONT><FONT COLOR=\"#33cc00\">AAG</FONT><FONT COLOR=\"#0099ff\">SS</FONT><FONT COLOR=\"#6600cc\">Q</FONT><FONT COLOR=\"#0099ff\">T</FONT><FONT COLOR=\"#33cc00\">G</FONT><FONT COLOR=\"#0033ff\">D</FONT><FONT COLOR=\"#33cc00\">ALG</FONT><FONT COLOR=\"#cc0000\">K</FONT><FONT COLOR=\"#33cc00\">ALA</FONT><FONT COLOR=\"#0099ff\">S</FONT><FONT COLOR=\"#33cc00\">I</FONT><FONT COLOR=\"#009900\">Y</FONT><FONT COLOR=\"#0099ff\">S</FONT><FONT COLOR=\"#33cc00\">P</FONT><FONT COLOR=\"#0033ff\">D</FONT><FONT COLOR=\"#009900\">H</FONT><FONT COLOR=\"#0099ff\">tsss</FONT><FONT COLOR=\"#009900\">f</FONT><FONT COLOR=\"#33cc00\">p</FONT><FONT COLOR=\"#0099ff\">s</FONT><FONT COLOR=\"#6600cc\">n</FONT><FONT COLOR=\"#33cc00\">p</FONT></STRONG> <STRONG>   </STRONG>\n",
        "comp645729_c2_seq1  48.4%  577:762 <STRONG>   </STRONG> <STRONG><FONT COLOR=\"#666666\">------------------------------------------------------------</FONT></STRONG> <STRONG>   </STRONG>\n",
        "comp637802_c0_seq3  85.2% 973:1053 <STRONG>   </STRONG> <STRONG><FONT COLOR=\"#666666\">------------------------S</FONT><FONT COLOR=\"#cc0000\">R</FONT><FONT COLOR=\"#33cc00\">G</FONT><FONT COLOR=\"#6600cc\">N</FONT><FONT COLOR=\"#33cc00\">AAG</FONT><FONT COLOR=\"#666666\">AA</FONT><FONT COLOR=\"#6600cc\">Q</FONT><FONT COLOR=\"#0099ff\">T</FONT><FONT COLOR=\"#33cc00\">G</FONT><FONT COLOR=\"#0033ff\">D</FONT><FONT COLOR=\"#666666\">T</FONT><FONT COLOR=\"#33cc00\">LG</FONT><FONT COLOR=\"#cc0000\">K</FONT><FONT COLOR=\"#33cc00\">ALA</FONT><FONT COLOR=\"#0099ff\">S</FONT><FONT COLOR=\"#33cc00\">I</FONT><FONT COLOR=\"#009900\">Y</FONT><FONT COLOR=\"#0099ff\">S</FONT><FONT COLOR=\"#33cc00\">P</FONT><FONT COLOR=\"#0033ff\">D</FONT><FONT COLOR=\"#009900\">H</FONT><FONT COLOR=\"#666666\">---------</FONT></STRONG> <STRONG>   </STRONG>\n",
        "comp643321_c0_seq2  68.6%  658:762 <STRONG>   </STRONG> <STRONG><FONT COLOR=\"#666666\">------------------------------------------------------------</FONT></STRONG> <STRONG>   </STRONG>\n",
        "\n",
        "                                   <STRONG>361</STRONG> <STRONG>         .         .         .         4         .         .</STRONG> <STRONG>420</STRONG>\n",
        "M_musculus_HEB     100.0%   1:2073 <STRONG>   </STRONG> <STRONG><FONT COLOR=\"#0099ff\">st</FONT><FONT COLOR=\"#33cc00\">pVG</FONT><FONT COLOR=\"#0099ff\">S</FONT><FONT COLOR=\"#33cc00\">P</FONT><FONT COLOR=\"#0099ff\">S</FONT><FONT COLOR=\"#33cc00\">PL</FONT><FONT COLOR=\"#0099ff\">T</FONT><FONT COLOR=\"#33cc00\">G</FONT><FONT COLOR=\"#0099ff\">TS</FONT><FONT COLOR=\"#6600cc\">Q</FONT><FONT COLOR=\"#009900\">W</FONT><FONT COLOR=\"#33cc00\">P</FONT><FONT COLOR=\"#cc0000\">R</FONT><FONT COLOR=\"#33cc00\">AGG</FONT><FONT COLOR=\"#6600cc\">Q</FONT><FONT COLOR=\"#33cc00\">AP</FONT><FONT COLOR=\"#0099ff\">SS</FONT><FONT COLOR=\"#33cc00\">P</FONT><FONT COLOR=\"#0099ff\">S</FONT><FONT COLOR=\"#009900\">Y</FONT><FONT COLOR=\"#0033ff\">E</FONT><FONT COLOR=\"#6600cc\">N</FONT><FONT COLOR=\"#0099ff\">S</FONT><FONT COLOR=\"#33cc00\">L</FONT><FONT COLOR=\"#009900\">H</FONT><FONT COLOR=\"#0099ff\">S</FONT><FONT COLOR=\"#33cc00\">L</FONT><FONT COLOR=\"#cc0000\">K</FONT><FONT COLOR=\"#6600cc\">N</FONT><FONT COLOR=\"#cc0000\">R</FONT><FONT COLOR=\"#33cc00\">V</FONT><FONT COLOR=\"#0033ff\">E</FONT><FONT COLOR=\"#6600cc\">QQ</FONT><FONT COLOR=\"#33cc00\">L</FONT><FONT COLOR=\"#009900\">H</FONT><FONT COLOR=\"#0033ff\">E</FONT><FONT COLOR=\"#009900\">H</FONT><FONT COLOR=\"#33cc00\">L</FONT><FONT COLOR=\"#6600cc\">Q</FONT><FONT COLOR=\"#0033ff\">D</FONT><FONT COLOR=\"#33cc00\">AM</FONT><FONT COLOR=\"#0099ff\">S</FONT><FONT COLOR=\"#009900\">F</FONT><FONT COLOR=\"#33cc00\">L</FONT><FONT COLOR=\"#cc0000\">K</FONT><FONT COLOR=\"#0033ff\">D</FONT><FONT COLOR=\"#33cc00\">V</FONT><FONT COLOR=\"#ffff00\">C</FONT><FONT COLOR=\"#0033ff\">E</FONT></STRONG> <STRONG>   </STRONG>\n",
        "comp645729_c2_seq1  48.4%  577:762 <STRONG>   </STRONG> <STRONG><FONT COLOR=\"#666666\">------------------------------------------------------------</FONT></STRONG> <STRONG>   </STRONG>\n",
        "comp637802_c0_seq3  85.2% 973:1053 <STRONG>   </STRONG> <STRONG><FONT COLOR=\"#666666\">------------------------------------------------------------</FONT></STRONG> <STRONG>   </STRONG>\n",
        "comp643321_c0_seq2  68.6%  658:762 <STRONG>   </STRONG> <STRONG><FONT COLOR=\"#666666\">------------------------------------------------------------</FONT></STRONG> <STRONG>   </STRONG>\n",
        "\n",
        "                                   <STRONG>421</STRONG> <STRONG>         .         .         :         .         .         .</STRONG> <STRONG>480</STRONG>\n",
        "M_musculus_HEB     100.0%   1:2073 <STRONG>   </STRONG> <STRONG><FONT COLOR=\"#6600cc\">Q</FONT><FONT COLOR=\"#0099ff\">S</FONT><FONT COLOR=\"#cc0000\">R</FONT><FONT COLOR=\"#33cc00\">M</FONT><FONT COLOR=\"#0033ff\">ED</FONT><FONT COLOR=\"#cc0000\">R</FONT><FONT COLOR=\"#33cc00\">L</FONT><FONT COLOR=\"#0033ff\">D</FONT><FONT COLOR=\"#cc0000\">R</FONT><FONT COLOR=\"#33cc00\">L</FONT><FONT COLOR=\"#0033ff\">DD</FONT><FONT COLOR=\"#33cc00\">AI</FONT><FONT COLOR=\"#009900\">H</FONT><FONT COLOR=\"#33cc00\">VL</FONT><FONT COLOR=\"#cc0000\">R</FONT><FONT COLOR=\"#6600cc\">N</FONT><FONT COLOR=\"#009900\">H</FONT><FONT COLOR=\"#33cc00\">AVGP</FONT><FONT COLOR=\"#0099ff\">STS</FONT><FONT COLOR=\"#33cc00\">LP</FONT><FONT COLOR=\"#0099ff\">TS</FONT><FONT COLOR=\"#009900\">H</FONT><FONT COLOR=\"#666666\">XXXXXXXXXXXXXXXXXXXXXXXXXXX</FONT></STRONG> <STRONG>   </STRONG>\n",
        "comp645729_c2_seq1  48.4%  577:762 <STRONG>   </STRONG> <STRONG><FONT COLOR=\"#666666\">------------------------------------------------------------</FONT></STRONG> <STRONG>   </STRONG>\n",
        "comp637802_c0_seq3  85.2% 973:1053 <STRONG>   </STRONG> <STRONG><FONT COLOR=\"#666666\">------------------------------------------------------------</FONT></STRONG> <STRONG>   </STRONG>\n",
        "comp643321_c0_seq2  68.6%  658:762 <STRONG>   </STRONG> <STRONG><FONT COLOR=\"#666666\">------------------------------------------------------------</FONT></STRONG> <STRONG>   </STRONG>\n",
        "\n",
        "                                   <STRONG>481</STRONG> <STRONG>         .         5         .         .         .         .</STRONG> <STRONG>540</STRONG>\n",
        "M_musculus_HEB     100.0%   1:2073 <STRONG>   </STRONG> <STRONG><FONT COLOR=\"#666666\">XXXXXXXXXXXXXXXXXXXXXXXXXXXXXXXXXXXXXXXXXXXXXXXXXXXXXXXXXXXX</FONT></STRONG> <STRONG>   </STRONG>\n",
        "comp645729_c2_seq1  48.4%  577:762 <STRONG>   </STRONG> <STRONG><FONT COLOR=\"#666666\">------------------------------------------------------------</FONT></STRONG> <STRONG>   </STRONG>\n",
        "comp637802_c0_seq3  85.2% 973:1053 <STRONG>   </STRONG> <STRONG><FONT COLOR=\"#666666\">------------------------------------------------------------</FONT></STRONG> <STRONG>   </STRONG>\n",
        "comp643321_c0_seq2  68.6%  658:762 <STRONG>   </STRONG> <STRONG><FONT COLOR=\"#666666\">------------------------------------------------------------</FONT></STRONG> <STRONG>   </STRONG>\n",
        "\n",
        "                                   <STRONG>541</STRONG> <STRONG>         :         .         .         .         .         6</STRONG> <STRONG>600</STRONG>\n",
        "M_musculus_HEB     100.0%   1:2073 <STRONG>   </STRONG> <STRONG><FONT COLOR=\"#666666\">XXXXXXXXXXXXXXXXXXXXXXXXXXXXXXXXXXX</FONT><FONT COLOR=\"#0099ff\">SS</FONT><FONT COLOR=\"#cc0000\">R</FONT><FONT COLOR=\"#33cc00\">G</FONT><FONT COLOR=\"#cc0000\">R</FONT><FONT COLOR=\"#0099ff\">TSST</FONT><FONT COLOR=\"#6600cc\">N</FONT><FONT COLOR=\"#0033ff\">EDED</FONT><FONT COLOR=\"#33cc00\">L</FONT><FONT COLOR=\"#6600cc\">N</FONT><FONT COLOR=\"#33cc00\">P</FONT><FONT COLOR=\"#0033ff\">E</FONT><FONT COLOR=\"#6600cc\">Q</FONT><FONT COLOR=\"#cc0000\">K</FONT><FONT COLOR=\"#33cc00\">I</FONT><FONT COLOR=\"#0033ff\">E</FONT><FONT COLOR=\"#cc0000\">R</FONT><FONT COLOR=\"#0033ff\">E</FONT><FONT COLOR=\"#cc0000\">K</FONT></STRONG> <STRONG>   </STRONG>\n",
        "comp645729_c2_seq1  48.4%  577:762 <STRONG>   </STRONG> <STRONG><FONT COLOR=\"#666666\">------------------------------------------------------------</FONT></STRONG> <STRONG>   </STRONG>\n",
        "comp637802_c0_seq3  85.2% 973:1053 <STRONG>   </STRONG> <STRONG><FONT COLOR=\"#666666\">------------------------------------------------------------</FONT></STRONG> <STRONG>   </STRONG>\n",
        "comp643321_c0_seq2  68.6%  658:762 <STRONG>   </STRONG> <STRONG><FONT COLOR=\"#666666\">------------------------------------------------------------</FONT></STRONG> <STRONG>   </STRONG>\n",
        "\n",
        "                                   <STRONG>601</STRONG> <STRONG>         .         .         .         .         :         .</STRONG> <STRONG>660</STRONG>\n",
        "M_musculus_HEB     100.0%   1:2073 <STRONG>   </STRONG> <STRONG><FONT COLOR=\"#0033ff\">E</FONT><FONT COLOR=\"#cc0000\">RR</FONT><FONT COLOR=\"#33cc00\">MA</FONT><FONT COLOR=\"#6600cc\">NN</FONT><FONT COLOR=\"#33cc00\">A</FONT><FONT COLOR=\"#cc0000\">R</FONT><FONT COLOR=\"#0033ff\">E</FONT><FONT COLOR=\"#cc0000\">R</FONT><FONT COLOR=\"#33cc00\">L</FONT><FONT COLOR=\"#cc0000\">R</FONT><FONT COLOR=\"#33cc00\">V</FONT><FONT COLOR=\"#cc0000\">R</FONT><FONT COLOR=\"#0033ff\">D</FONT><FONT COLOR=\"#33cc00\">I</FONT><FONT COLOR=\"#6600cc\">N</FONT><FONT COLOR=\"#0033ff\">E</FONT><FONT COLOR=\"#33cc00\">A</FONT><FONT COLOR=\"#009900\">F</FONT><FONT COLOR=\"#cc0000\">K</FONT><FONT COLOR=\"#0033ff\">E</FONT><FONT COLOR=\"#33cc00\">LG</FONT><FONT COLOR=\"#cc0000\">R</FONT><FONT COLOR=\"#33cc00\">M</FONT><FONT COLOR=\"#ffff00\">C</FONT><FONT COLOR=\"#6600cc\">Q</FONT><FONT COLOR=\"#33cc00\">L</FONT><FONT COLOR=\"#009900\">H</FONT><FONT COLOR=\"#33cc00\">L</FONT><FONT COLOR=\"#cc0000\">K</FONT><FONT COLOR=\"#0099ff\">S</FONT><FONT COLOR=\"#0033ff\">E</FONT><FONT COLOR=\"#cc0000\">K</FONT><FONT COLOR=\"#33cc00\">P</FONT><FONT COLOR=\"#6600cc\">Q</FONT><FONT COLOR=\"#0099ff\">T</FONT><FONT COLOR=\"#cc0000\">K</FONT><FONT COLOR=\"#33cc00\">LLIL</FONT><FONT COLOR=\"#009900\">H</FONT><FONT COLOR=\"#6600cc\">Q</FONT><FONT COLOR=\"#33cc00\">AVAVIL</FONT><FONT COLOR=\"#0099ff\">S</FONT><FONT COLOR=\"#33cc00\">L</FONT><FONT COLOR=\"#0033ff\">E</FONT><FONT COLOR=\"#6600cc\">QQ</FONT><FONT COLOR=\"#33cc00\">V</FONT><FONT COLOR=\"#cc0000\">R</FONT><FONT COLOR=\"#0033ff\">E</FONT></STRONG> <STRONG>   </STRONG>\n",
        "comp645729_c2_seq1  48.4%  577:762 <STRONG>   </STRONG> <STRONG><FONT COLOR=\"#666666\">------------------------------------------------------------</FONT></STRONG> <STRONG>   </STRONG>\n",
        "comp637802_c0_seq3  85.2% 973:1053 <STRONG>   </STRONG> <STRONG><FONT COLOR=\"#666666\">------------------------------------------------------------</FONT></STRONG> <STRONG>   </STRONG>\n",
        "comp643321_c0_seq2  68.6%  658:762 <STRONG>   </STRONG> <STRONG><FONT COLOR=\"#666666\">------------------------------------------------------------</FONT></STRONG> <STRONG>   </STRONG>\n",
        "\n",
        "                                   <STRONG>661</STRONG> <STRONG>         .         .         .]</STRONG> <STRONG>691</STRONG>\n",
        "M_musculus_HEB     100.0%   1:2073 <STRONG>   </STRONG> <STRONG><FONT COLOR=\"#cc0000\">R</FONT><FONT COLOR=\"#6600cc\">N</FONT><FONT COLOR=\"#33cc00\">L</FONT><FONT COLOR=\"#6600cc\">N</FONT><FONT COLOR=\"#33cc00\">P</FONT><FONT COLOR=\"#cc0000\">K</FONT><FONT COLOR=\"#33cc00\">AA</FONT><FONT COLOR=\"#ffff00\">C</FONT><FONT COLOR=\"#33cc00\">L</FONT><FONT COLOR=\"#cc0000\">KRR</FONT><FONT COLOR=\"#0033ff\">EEE</FONT><FONT COLOR=\"#cc0000\">K</FONT><FONT COLOR=\"#33cc00\">V</FONT><FONT COLOR=\"#0099ff\">S</FONT><FONT COLOR=\"#33cc00\">AA</FONT><FONT COLOR=\"#0099ff\">S</FONT><FONT COLOR=\"#33cc00\">A</FONT><FONT COLOR=\"#0033ff\">E</FONT><FONT COLOR=\"#33cc00\">PP</FONT><FONT COLOR=\"#6600cc\">N</FONT><FONT COLOR=\"#0099ff\">T</FONT><FONT COLOR=\"#33cc00\">LPG</FONT></STRONG> <STRONG>   </STRONG>\n",
        "comp645729_c2_seq1  48.4%  577:762 <STRONG>   </STRONG> <STRONG><FONT COLOR=\"#666666\">-------------------------------</FONT></STRONG> <STRONG>   </STRONG>\n",
        "comp637802_c0_seq3  85.2% 973:1053 <STRONG>   </STRONG> <STRONG><FONT COLOR=\"#666666\">-------------------------------</FONT></STRONG> <STRONG>   </STRONG>\n",
        "comp643321_c0_seq2  68.6%  658:762 <STRONG>   </STRONG> <STRONG><FONT COLOR=\"#666666\">-------------------------------</FONT></STRONG> <STRONG>   </STRONG>\n",
        "</PRE>\n",
        "</TD></TR>\n",
        "</TABLE><TABLE BORDER=0 BGCOLOR='white' TEXT='#666666' LINK='blue' ALINK='red' VLINK='purple'>\n",
        "<TR><TD><PRE>\n",
        "Reference sequence (query): S_purpuratus_E-protein_canonical\n",
        "Identities normalised by aligned length.\n",
        "Colored by: identity + property\n",
        "</PRE></TD></TR>\n",
        "<TR><TD><PRE>\n",
        "HSP processing: ranked\n",
        "Query orientation: +\n",
        "</PRE></TD></TR>\n",
        "<TR><TD>\n",
        "<PRE>\n",
        "                                                  <STRONG>423</STRONG> <STRONG>[      .         .         :         .         .         .  </STRONG> <STRONG>482</STRONG>\n",
        "S_purpuratus_E-protein_canonical 100.0% 1267:1563 <STRONG>   </STRONG> <STRONG><FONT COLOR=\"#6600cc\">N</FONT><FONT COLOR=\"#0033ff\">E</FONT><FONT COLOR=\"#cc0000\">R</FONT><FONT COLOR=\"#0033ff\">ED</FONT><FONT COLOR=\"#33cc00\">GGP</FONT><FONT COLOR=\"#6600cc\">Q</FONT><FONT COLOR=\"#0099ff\">ST</FONT><FONT COLOR=\"#cc0000\">KK</FONT><FONT COLOR=\"#33cc00\">G</FONT><FONT COLOR=\"#0033ff\">D</FONT><FONT COLOR=\"#33cc00\">AA</FONT><FONT COLOR=\"#6600cc\">N</FONT><FONT COLOR=\"#33cc00\">AM</FONT><FONT COLOR=\"#cc0000\">K</FONT><FONT COLOR=\"#6600cc\">N</FONT><FONT COLOR=\"#cc0000\">KKR</FONT><FONT COLOR=\"#009900\">F</FONT><FONT COLOR=\"#cc0000\">K</FONT><FONT COLOR=\"#0033ff\">DDE</FONT><FONT COLOR=\"#33cc00\">GL</FONT><FONT COLOR=\"#0099ff\">S</FONT><FONT COLOR=\"#33cc00\">P</FONT><FONT COLOR=\"#0033ff\">E</FONT><FONT COLOR=\"#6600cc\">Q</FONT><FONT COLOR=\"#cc0000\">K</FONT><FONT COLOR=\"#33cc00\">VV</FONT><FONT COLOR=\"#cc0000\">K</FONT><FONT COLOR=\"#0033ff\">E</FONT><FONT COLOR=\"#cc0000\">K</FONT><FONT COLOR=\"#0033ff\">E</FONT><FONT COLOR=\"#cc0000\">RR</FONT><FONT COLOR=\"#009900\">H</FONT><FONT COLOR=\"#33cc00\">A</FONT><FONT COLOR=\"#6600cc\">NN</FONT><FONT COLOR=\"#33cc00\">A</FONT><FONT COLOR=\"#cc0000\">R</FONT><FONT COLOR=\"#0033ff\">E</FONT><FONT COLOR=\"#cc0000\">R</FONT><FONT COLOR=\"#33cc00\">I</FONT><FONT COLOR=\"#cc0000\">R</FONT><FONT COLOR=\"#33cc00\">V</FONT><FONT COLOR=\"#cc0000\">R</FONT><FONT COLOR=\"#0033ff\">D</FONT><FONT COLOR=\"#33cc00\">I</FONT><FONT COLOR=\"#6600cc\">N</FONT></STRONG> <STRONG>   </STRONG>\n",
        "\n",
        "                                                  <STRONG>483</STRONG> <STRONG>       .         5         .         .]</STRONG> <STRONG>521</STRONG>\n",
        "S_purpuratus_E-protein_canonical 100.0% 1267:1563 <STRONG>   </STRONG> <STRONG><FONT COLOR=\"#0033ff\">E</FONT><FONT COLOR=\"#33cc00\">A</FONT><FONT COLOR=\"#009900\">F</FONT><FONT COLOR=\"#cc0000\">K</FONT><FONT COLOR=\"#0033ff\">E</FONT><FONT COLOR=\"#33cc00\">LG</FONT><FONT COLOR=\"#cc0000\">R</FONT><FONT COLOR=\"#33cc00\">M</FONT><FONT COLOR=\"#ffff00\">C</FONT><FONT COLOR=\"#6600cc\">Q</FONT><FONT COLOR=\"#33cc00\">L</FONT><FONT COLOR=\"#009900\">H</FONT><FONT COLOR=\"#33cc00\">L</FONT><FONT COLOR=\"#cc0000\">K</FONT><FONT COLOR=\"#6600cc\">Q</FONT><FONT COLOR=\"#0033ff\">D</FONT><FONT COLOR=\"#cc0000\">K</FONT><FONT COLOR=\"#33cc00\">A</FONT><FONT COLOR=\"#6600cc\">Q</FONT><FONT COLOR=\"#0099ff\">T</FONT><FONT COLOR=\"#cc0000\">K</FONT><FONT COLOR=\"#33cc00\">L</FONT><FONT COLOR=\"#0099ff\">T</FONT><FONT COLOR=\"#33cc00\">IL</FONT><FONT COLOR=\"#009900\">H</FONT><FONT COLOR=\"#0099ff\">S</FONT><FONT COLOR=\"#33cc00\">AV</FONT><FONT COLOR=\"#0099ff\">S</FONT><FONT COLOR=\"#33cc00\">VI</FONT><FONT COLOR=\"#0099ff\">TT</FONT><FONT COLOR=\"#33cc00\">L</FONT><FONT COLOR=\"#0033ff\">E</FONT><FONT COLOR=\"#009900\">H</FONT><FONT COLOR=\"#6600cc\">Q</FONT></STRONG> <STRONG>   </STRONG>\n",
        "</PRE>\n",
        "</TD></TR>\n",
        "</TABLE>"
       ],
       "metadata": {},
       "output_type": "pyout",
       "prompt_number": 162,
       "text": [
        "<IPython.core.display.HTML at 0x7fd107300990>"
       ]
      }
     ],
     "prompt_number": 162
    },
    {
     "cell_type": "heading",
     "level": 2,
     "metadata": {},
     "source": [
      "Blast Runs"
     ]
    },
    {
     "cell_type": "code",
     "collapsed": false,
     "input": [
      "alt_domain_x_lamp03_fn = 'E_protein_ALT_DOMAINS.x.lamp03'"
     ],
     "language": "python",
     "metadata": {},
     "outputs": [],
     "prompt_number": 23
    },
    {
     "cell_type": "code",
     "collapsed": false,
     "input": [
      "lamp03_alt_domains_fn = 'lamp03.E_protein_ALT_DOMAINS'"
     ],
     "language": "python",
     "metadata": {},
     "outputs": [],
     "prompt_number": 40
    },
    {
     "cell_type": "code",
     "collapsed": false,
     "input": [
      "alt_isoforms_x_lamp03_fn = 'E_protein_ALT_ISOFORMS.x.lamp03'"
     ],
     "language": "python",
     "metadata": {},
     "outputs": [],
     "prompt_number": 24
    },
    {
     "cell_type": "code",
     "collapsed": false,
     "input": [
      "!tblastx -query {wdir('E_protein_ALT_DOMAINS.fa')} -db {wdir(db_metadata.fn['assembly'] + '.db')} \\\n",
      "    -evalue .00001 -outfmt 6 -out {alt_domain_x_lamp03_fn + '.blast6'}"
     ],
     "language": "python",
     "metadata": {},
     "outputs": [],
     "prompt_number": 39
    },
    {
     "cell_type": "code",
     "collapsed": false,
     "input": [
      "alt_domain_x_lamp03_df = blast.blast_to_df(alt_domain_x_lamp03_fn + '.blast6')"
     ],
     "language": "python",
     "metadata": {},
     "outputs": [],
     "prompt_number": 29
    },
    {
     "cell_type": "code",
     "collapsed": false,
     "input": [
      "!tblastx -query {wdir('E_protein_ALT_DOMAINS.fa')} -db {wdir(db_metadata.fn['assembly'] + '.db')} \\\n",
      "    -evalue .00001 -out {alt_domain_x_lamp03_fn + '.blast'}"
     ],
     "language": "python",
     "metadata": {},
     "outputs": [],
     "prompt_number": 79
    },
    {
     "cell_type": "code",
     "collapsed": false,
     "input": [
      "!tblastx -query 'lamp03.E_ALT_DOMAIN_HITS.fa' -db {wdir('E_protein_ALT_DOMAINS.fa')} \\\n",
      "    -evalue .00001 -out {lamp03_alt_domains_fn + '.blast'}"
     ],
     "language": "python",
     "metadata": {},
     "outputs": [],
     "prompt_number": 43
    },
    {
     "cell_type": "code",
     "collapsed": false,
     "input": [
      "!tblastx -query {wdir('E_protein_ALTS.fa')} -db {wdir(db_metadata.fn['assembly'] + '.db')} \\\n",
      "    -evalue .00001 -outfmt 6 -out {alt_isoforms_x_lamp03_fn + '.blast6'}"
     ],
     "language": "python",
     "metadata": {},
     "outputs": [],
     "prompt_number": 27
    },
    {
     "cell_type": "code",
     "collapsed": false,
     "input": [],
     "language": "python",
     "metadata": {},
     "outputs": []
    }
   ],
   "metadata": {}
  }
 ]
}