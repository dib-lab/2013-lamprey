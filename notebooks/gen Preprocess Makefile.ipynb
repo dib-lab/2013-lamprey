{
 "metadata": {
  "name": "gen Preprocess Makefile"
 },
 "nbformat": 3,
 "nbformat_minor": 0,
 "worksheets": [
  {
   "cells": [
    {
     "cell_type": "code",
     "collapsed": false,
     "input": [
      "import os"
     ],
     "language": "python",
     "metadata": {},
     "outputs": [],
     "prompt_number": 117
    },
    {
     "cell_type": "code",
     "collapsed": false,
     "input": [
      "'''\n",
      "reads = []\n",
      "with open('reads.txt', 'rb') as rfp:\n",
      "    for ln in rfp:\n",
      "        reads.append(ln.split())\n",
      "'''"
     ],
     "language": "python",
     "metadata": {},
     "outputs": [
      {
       "output_type": "pyout",
       "prompt_number": 118,
       "text": [
        "\"\\nreads = []\\nwith open('reads.txt', 'rb') as rfp:\\n    for ln in rfp:\\n        reads.append(ln.split())\\n\""
       ]
      }
     ],
     "prompt_number": 118
    },
    {
     "cell_type": "code",
     "collapsed": false,
     "input": [
      "reads = !ls /w/hpcc/lamprey/reads/all/*.gz"
     ],
     "language": "python",
     "metadata": {},
     "outputs": [],
     "prompt_number": 119
    },
    {
     "cell_type": "code",
     "collapsed": false,
     "input": [
      "src_dir = '/mnt/scratch/welcherc/lamprey/dnaseq'"
     ],
     "language": "python",
     "metadata": {},
     "outputs": [],
     "prompt_number": 120
    },
    {
     "cell_type": "code",
     "collapsed": false,
     "input": [
      "#reads = ['Gill.fq.gz.head.gz', 'Kidney.fq.gz.head.gz', 'Muscle.fq.gz.head.gz', 'SN.fq.gz.head.gz', 'SPK.fq.gz.head.gz', 'brain_paired.qc.fq.gz.head.gz', 'mssm_single_s1.trim.fq.gz.head.gz', 'AB057JABXX_s_7_pe.trim.fq.gz.head.gz']"
     ],
     "language": "python",
     "metadata": {},
     "outputs": [],
     "prompt_number": 121
    },
    {
     "cell_type": "code",
     "collapsed": false,
     "input": [
      "print reads"
     ],
     "language": "python",
     "metadata": {},
     "outputs": [
      {
       "output_type": "stream",
       "stream": "stdout",
       "text": [
        "['/w/hpcc/lamprey/reads/all/614GMAAXX_1_1_pf.qc.fq.gz', '/w/hpcc/lamprey/reads/all/614GMAAXX_2_1_pf.qc.fq.gz', '/w/hpcc/lamprey/reads/all/614GMAAXX_3_1_pf.qc.fq.gz', '/w/hpcc/lamprey/reads/all/614GMAAXX_4_1_pf.qc.fq.gz', '/w/hpcc/lamprey/reads/all/614GMAAXX_6_1_pf.qc.fq.gz', '/w/hpcc/lamprey/reads/all/614GMAAXX_7_1_pf.qc.fq.gz', '/w/hpcc/lamprey/reads/all/614GMAAXX_8_1_pf.qc.fq.gz', '/w/hpcc/lamprey/reads/all/AB057JABXX_s_7_pe.trim.fq.gz', '/w/hpcc/lamprey/reads/all/AI.fq.gz', '/w/hpcc/lamprey/reads/all/AK.fq.gz', '/w/hpcc/lamprey/reads/all/BB0582ABXX_s_3_pe.trim.fq.gz', '/w/hpcc/lamprey/reads/all/BB0582ABXX_s_4_pe.trim.fq.gz', '/w/hpcc/lamprey/reads/all/BB0582ABXX_s_5_pe.trim.fq.gz', '/w/hpcc/lamprey/reads/all/BB0582ABXX_s_6_pe.trim.fq.gz', '/w/hpcc/lamprey/reads/all/BB0582ABXX_s_7_pe.trim.fq.gz', '/w/hpcc/lamprey/reads/all/BB0582ABXX_s_8_pe.trim.fq.gz', '/w/hpcc/lamprey/reads/all/brain_paired.qc.fq.gz', '/w/hpcc/lamprey/reads/all/FW1-Gill.fq.gz', '/w/hpcc/lamprey/reads/all/FW1-Intestine.fq.gz', '/w/hpcc/lamprey/reads/all/FW1-Kidney.fq.gz', '/w/hpcc/lamprey/reads/all/G81-a.fq.gz', '/w/hpcc/lamprey/reads/all/G81-b.fq.gz', '/w/hpcc/lamprey/reads/all/G82-a.fq.gz', '/w/hpcc/lamprey/reads/all/G82-b.fq.gz', '/w/hpcc/lamprey/reads/all/G83-a.fq.gz', '/w/hpcc/lamprey/reads/all/G83-b.fq.gz', '/w/hpcc/lamprey/reads/all/Gill.fq.gz', '/w/hpcc/lamprey/reads/all/JV1_liver.fq.gz', '/w/hpcc/lamprey/reads/all/JVa_liver.fq.gz', '/w/hpcc/lamprey/reads/all/JVb_liver.fq.gz', '/w/hpcc/lamprey/reads/all/JV_intest.fq.gz', '/w/hpcc/lamprey/reads/all/Kidney.fq.gz', '/w/hpcc/lamprey/reads/all/L81-a.fq.gz', '/w/hpcc/lamprey/reads/all/L81-b.fq.gz', '/w/hpcc/lamprey/reads/all/L82-a.fq.gz', '/w/hpcc/lamprey/reads/all/L82-b.fq.gz', '/w/hpcc/lamprey/reads/all/L83-1-a.fq.gz', '/w/hpcc/lamprey/reads/all/L83-1-b.fq.gz', '/w/hpcc/lamprey/reads/all/L83-a.fq.gz', '/w/hpcc/lamprey/reads/all/L83-b.fq.gz', '/w/hpcc/lamprey/reads/all/LI.fq.gz', '/w/hpcc/lamprey/reads/all/Lips.fq.gz', '/w/hpcc/lamprey/reads/all/LK.fq.gz', '/w/hpcc/lamprey/reads/all/M0_liver.fq.gz', '/w/hpcc/lamprey/reads/all/M2_liver.fq.gz', '/w/hpcc/lamprey/reads/all/M5_liver.fq.gz', '/w/hpcc/lamprey/reads/all/Monocytes.fq.gz', '/w/hpcc/lamprey/reads/all/mssm_single_s1.trim.fq.gz', '/w/hpcc/lamprey/reads/all/mssm_single_s2.trim.fq.gz', '/w/hpcc/lamprey/reads/all/mssm_single_s3.trim.fq.gz', '/w/hpcc/lamprey/reads/all/mssm_single_s5.trim.fq.gz', '/w/hpcc/lamprey/reads/all/mssm_single_s6.trim.fq.gz', '/w/hpcc/lamprey/reads/all/mssm_single_s7.trim.fq.gz', '/w/hpcc/lamprey/reads/all/Muscle.fq.gz', '/w/hpcc/lamprey/reads/all/Neutrophils.fq.gz', '/w/hpcc/lamprey/reads/all/OFHS.fq.gz', '/w/hpcc/lamprey/reads/all/POF-eye.fq.gz', '/w/hpcc/lamprey/reads/all/POF-ts.fq.gz', '/w/hpcc/lamprey/reads/all/PSMGill.fq.gz', '/w/hpcc/lamprey/reads/all/Rope.fq.gz', '/w/hpcc/lamprey/reads/all/SMGill.fq.gz', '/w/hpcc/lamprey/reads/all/SMHS.fq.gz', '/w/hpcc/lamprey/reads/all/SN.fq.gz', '/w/hpcc/lamprey/reads/all/SPDI.fq.gz', '/w/hpcc/lamprey/reads/all/spinal_cord_paired.qc.fq.gz', '/w/hpcc/lamprey/reads/all/SPK.fq.gz', '/w/hpcc/lamprey/reads/all/SPPI.fq.gz', '/w/hpcc/lamprey/reads/all/Stg-1-Intestine.fq.gz', '/w/hpcc/lamprey/reads/all/Stg-1-Kidney.fq.gz', '/w/hpcc/lamprey/reads/all/Stg-2-Intestine.fq.gz', '/w/hpcc/lamprey/reads/all/Stg-2-Kidney.fq.gz', '/w/hpcc/lamprey/reads/all/Stg-3-Intestine.fq.gz', '/w/hpcc/lamprey/reads/all/Stg-3-Kidney.fq.gz', '/w/hpcc/lamprey/reads/all/Stg-4-Intestine.fq.gz', '/w/hpcc/lamprey/reads/all/Stg-4-Kidney.fq.gz', '/w/hpcc/lamprey/reads/all/Stg-5-Intestine.fq.gz', '/w/hpcc/lamprey/reads/all/Stg-5-Kidney.fq.gz', '/w/hpcc/lamprey/reads/all/Stg-6-Intestine.fq.gz', '/w/hpcc/lamprey/reads/all/Stg-6-Kidney.fq.gz', '/w/hpcc/lamprey/reads/all/Stg-7-Intestine.fq.gz', '/w/hpcc/lamprey/reads/all/Stg-7-Kidney.fq.gz', '/w/hpcc/lamprey/reads/all/SW2-Gill.fq.gz', '/w/hpcc/lamprey/reads/all/SW2-Intestine-a.fq.gz', '/w/hpcc/lamprey/reads/all/SW2-Intestine-b.fq.gz', '/w/hpcc/lamprey/reads/all/SW2-Kidney.fq.gz']\n"
       ]
      }
     ],
     "prompt_number": 122
    },
    {
     "cell_type": "code",
     "collapsed": false,
     "input": [
      "makefile = '''\n",
      "KHMER=~/khmer\n",
      "SEQCLEAN=~/seqclean\n",
      "TRIM=~/bin/Trimmomatic-0.25/trimmomatic-0.25.jar\n",
      "TIME=/usr/bin/time -f %E%U%K%W%w%I%O\n",
      "FASTQC=fastqc\n",
      "\n",
      "\n",
      "TRIMRES=nodes=1:ppn=4,walltime=16:00:00,mem=2gb\n",
      "DG1RES=nodes=1:ppn=4,walltime=16:00:00,mem=8gb\n",
      "DG2RES=nodes=1:ppn=4,walltime=16:00:00,mem=8gb\n",
      "'''"
     ],
     "language": "python",
     "metadata": {},
     "outputs": [],
     "prompt_number": 123
    },
    {
     "cell_type": "code",
     "collapsed": false,
     "input": [
      "# \\tln -s {name} {src_dir}/{name}\n",
      "\n",
      "trimmed = []\n",
      "for rf in reads:\n",
      "    name = os.path.basename(rf)\n",
      "    bname, _, _ = name.partition('.')\n",
      "    rule = '''\n",
      "{bname}.trim.fq: {name}\n",
      "\\t$(TIME) -o {bname}.trim.time java -classpath $(TRIM) org.usadellab.trimmomatic.TrimmomaticSE -trimlog {bname}.trimlog -threads 4 {name} {bname}.trim.fq ILLUMINACLIP:adapters.fa:2:40:15 HEADCROP:9 SLIDINGWINDOW:4:15 MINLEN:31\n",
      "'''.format(bname=bname, name=name, src_dir=src_dir)\n",
      "    makefile += rule\n",
      "    trimmed.append(bname + '.trim.fq')"
     ],
     "language": "python",
     "metadata": {},
     "outputs": [],
     "prompt_number": 124
    },
    {
     "cell_type": "code",
     "collapsed": false,
     "input": [
      "print trimmed"
     ],
     "language": "python",
     "metadata": {},
     "outputs": [
      {
       "output_type": "stream",
       "stream": "stdout",
       "text": [
        "['614GMAAXX_1_1_pf.trim.fq', '614GMAAXX_2_1_pf.trim.fq', '614GMAAXX_3_1_pf.trim.fq', '614GMAAXX_4_1_pf.trim.fq', '614GMAAXX_6_1_pf.trim.fq', '614GMAAXX_7_1_pf.trim.fq', '614GMAAXX_8_1_pf.trim.fq', 'AB057JABXX_s_7_pe.trim.fq', 'AI.trim.fq', 'AK.trim.fq', 'BB0582ABXX_s_3_pe.trim.fq', 'BB0582ABXX_s_4_pe.trim.fq', 'BB0582ABXX_s_5_pe.trim.fq', 'BB0582ABXX_s_6_pe.trim.fq', 'BB0582ABXX_s_7_pe.trim.fq', 'BB0582ABXX_s_8_pe.trim.fq', 'brain_paired.trim.fq', 'FW1-Gill.trim.fq', 'FW1-Intestine.trim.fq', 'FW1-Kidney.trim.fq', 'G81-a.trim.fq', 'G81-b.trim.fq', 'G82-a.trim.fq', 'G82-b.trim.fq', 'G83-a.trim.fq', 'G83-b.trim.fq', 'Gill.trim.fq', 'JV1_liver.trim.fq', 'JVa_liver.trim.fq', 'JVb_liver.trim.fq', 'JV_intest.trim.fq', 'Kidney.trim.fq', 'L81-a.trim.fq', 'L81-b.trim.fq', 'L82-a.trim.fq', 'L82-b.trim.fq', 'L83-1-a.trim.fq', 'L83-1-b.trim.fq', 'L83-a.trim.fq', 'L83-b.trim.fq', 'LI.trim.fq', 'Lips.trim.fq', 'LK.trim.fq', 'M0_liver.trim.fq', 'M2_liver.trim.fq', 'M5_liver.trim.fq', 'Monocytes.trim.fq', 'mssm_single_s1.trim.fq', 'mssm_single_s2.trim.fq', 'mssm_single_s3.trim.fq', 'mssm_single_s5.trim.fq', 'mssm_single_s6.trim.fq', 'mssm_single_s7.trim.fq', 'Muscle.trim.fq', 'Neutrophils.trim.fq', 'OFHS.trim.fq', 'POF-eye.trim.fq', 'POF-ts.trim.fq', 'PSMGill.trim.fq', 'Rope.trim.fq', 'SMGill.trim.fq', 'SMHS.trim.fq', 'SN.trim.fq', 'SPDI.trim.fq', 'spinal_cord_paired.trim.fq', 'SPK.trim.fq', 'SPPI.trim.fq', 'Stg-1-Intestine.trim.fq', 'Stg-1-Kidney.trim.fq', 'Stg-2-Intestine.trim.fq', 'Stg-2-Kidney.trim.fq', 'Stg-3-Intestine.trim.fq', 'Stg-3-Kidney.trim.fq', 'Stg-4-Intestine.trim.fq', 'Stg-4-Kidney.trim.fq', 'Stg-5-Intestine.trim.fq', 'Stg-5-Kidney.trim.fq', 'Stg-6-Intestine.trim.fq', 'Stg-6-Kidney.trim.fq', 'Stg-7-Intestine.trim.fq', 'Stg-7-Kidney.trim.fq', 'SW2-Gill.trim.fq', 'SW2-Intestine-a.trim.fq', 'SW2-Intestine-b.trim.fq', 'SW2-Kidney.trim.fq']\n"
       ]
      }
     ],
     "prompt_number": 125
    },
    {
     "cell_type": "code",
     "collapsed": true,
     "input": [
      "#print makefile"
     ],
     "language": "python",
     "metadata": {},
     "outputs": [],
     "prompt_number": 126
    },
    {
     "cell_type": "code",
     "collapsed": false,
     "input": [
      "trim_cluster = ''\n",
      "tc = []\n",
      "\n",
      "for result in trimmed:\n",
      "    with open('preprocess/{}.sub'.format(result), 'wb') as pbsfp:\n",
      "        sub = '''\n",
      "#!/bin/bash -login\n",
      "cd $PBS_O_WORKDIR\n",
      "make {trim}'''.format(trim=result)\n",
      "        \n",
      "        pbsfp.write(sub)\n",
      "        \n",
      "        trim_cluster += '''\n",
      "{trim}-pbs: {trim}.sub\n",
      "\\tqsub -l $(TRIMRES) {trim}.sub'''.format(trim=result)\n",
      "        tc.append(result + '-pbs')\n",
      "\n",
      "\n",
      "        \n",
      "makefile += trim_cluster\n",
      "trim_all_cluster = '''\n",
      "trim-cluster: {}'''.format(' '.join(tc))\n",
      "makefile += trim_all_cluster"
     ],
     "language": "python",
     "metadata": {},
     "outputs": [],
     "prompt_number": 127
    },
    {
     "cell_type": "code",
     "collapsed": true,
     "input": [
      "C1 = 30\n",
      "X1 = 1e6\n",
      "K = 23\n",
      "dg = '''\n",
      "# First, diginorm each file on its own\n",
      "'''\n",
      "dg1 = []\n",
      "for name in trimmed:\n",
      "    rule='''\n",
      "{name}.keep: {name}\n",
      "\\t$(TIME) -o {name}.keep.time $(KHMER)/scripts/normalize-by-median.py -x {X} -N 4 -k {K} -C {C} -s {name}.ht -R {name}.report {name}\n",
      "'''.format(name=name, X=X1, C=C1, K=K)\n",
      "    makefile += rule\n",
      "    dg1.append(name + '.keep')"
     ],
     "language": "python",
     "metadata": {},
     "outputs": [],
     "prompt_number": 128
    },
    {
     "cell_type": "code",
     "collapsed": false,
     "input": [
      "C2 = 20\n",
      "X2 = 1e7\n",
      "K = 23\n",
      "\n",
      "# now diginorm everything together\n",
      "rule = '''\n",
      "all.c20.fa: {dg1}\n",
      "\\t$(TIME) -o all.c20.fq.time $(KHMER)/scripts/normalize-by-median.py -x {X} -N 4 -k {K} -C {C} -s all.c20.ht -R all.c20.report {dg1}\n",
      "\\tcat {dg1} > all.c20.fq\n",
      "\\tfastq_to_fasta -i all.c20.fq -o all.c20.fa\n",
      "'''.format(dg1=' '.join(dg1), X=X2, K=K, C=C2)\n",
      "makefile += rule"
     ],
     "language": "python",
     "metadata": {},
     "outputs": [],
     "prompt_number": 129
    },
    {
     "cell_type": "code",
     "collapsed": false,
     "input": [
      "rule = '''\n",
      "all.c20.fa.clean: all.c20.fa\n",
      "\\t$(TIME) -o all.c20.clean.time $(SEQCLEAN) all.c20.fa -c 8 -v ../db/univec_core.fa -s adapters.fa -l 31'''\n",
      "makefile += rule"
     ],
     "language": "python",
     "metadata": {},
     "outputs": [],
     "prompt_number": 130
    },
    {
     "cell_type": "code",
     "collapsed": false,
     "input": [
      "clean = '''\n",
      "clean:\n",
      "\\trm -rf *.time *.clean *.keep *.trim.fq *.report *.log *.trimlog *.ht cleaning_*/ *.cidx *.cln all.c20.fa all.c20.fq *.sort\n",
      "'''\n",
      "makefile += clean"
     ],
     "language": "python",
     "metadata": {},
     "outputs": [],
     "prompt_number": 131
    },
    {
     "cell_type": "code",
     "collapsed": false,
     "input": [
      "#print makefile"
     ],
     "language": "python",
     "metadata": {},
     "outputs": [],
     "prompt_number": 132
    },
    {
     "cell_type": "code",
     "collapsed": false,
     "input": [
      "with open('preprocess/Makefile', 'wb') as mfp:\n",
      "    for line in makefile:\n",
      "        mfp.write(line)"
     ],
     "language": "python",
     "metadata": {},
     "outputs": [],
     "prompt_number": 133
    },
    {
     "cell_type": "code",
     "collapsed": false,
     "input": [],
     "language": "python",
     "metadata": {},
     "outputs": [],
     "prompt_number": 133
    }
   ],
   "metadata": {}
  }
 ]
}