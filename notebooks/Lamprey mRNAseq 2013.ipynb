{
 "metadata": {
  "name": "Lamprey mRNAseq 2013"
 },
 "nbformat": 3,
 "nbformat_minor": 0,
 "worksheets": [
  {
   "cells": [
    {
     "cell_type": "code",
     "collapsed": true,
     "input": [
      "%load_ext autoreload\n",
      "%autoreload 2\n",
      "import sys\n",
      "sys.path.append('/w/peasoup/scripts/')\n",
      "import hambone as hb\n",
      "import numpy as np\n",
      "import screed\n",
      "import khmer\n",
      "%cd /w/2013-lamprey/"
     ],
     "language": "python",
     "metadata": {},
     "outputs": [
      {
       "output_type": "stream",
       "stream": "stdout",
       "text": [
        "/w/2013-lamprey\n"
       ]
      }
     ],
     "prompt_number": 3
    },
    {
     "cell_type": "code",
     "collapsed": false,
     "input": [
      "%pwd"
     ],
     "language": "python",
     "metadata": {},
     "outputs": [
      {
       "output_type": "pyout",
       "prompt_number": 9,
       "text": [
        "u'/w/2013-lamprey'"
       ]
      }
     ],
     "prompt_number": 9
    },
    {
     "cell_type": "raw",
     "metadata": {},
     "source": [
      "Transcript Validation\n",
      "\n",
      "This little bit of code goes through every transcript's hits,\n",
      "by subject, and checks the directionality on both query and subject;\n",
      "if there are conflicting alignments, the transcript is thrown out"
     ]
    },
    {
     "cell_type": "code",
     "collapsed": false,
     "input": [
      "from itertools import groupby\n",
      "\n",
      "def getDir(hit):\n",
      "    qdir = 0\n",
      "    sdir = 0\n",
      "    if hit.qstart > hit.qend:\n",
      "        qdir = 1\n",
      "    if hit.sstart > hit.send:\n",
      "        sdir =1\n",
      "    return (qdir, sdir)\n",
      "\n",
      "def dirVal(aSeq):\n",
      "    skey = lambda hit: hit.subject\n",
      "    hits = sorted(aSeq.hits, key=skey)\n",
      "    if len(aSeq.hits) > 1:\n",
      "        for k, g in groupby(hits, skey):\n",
      "            subHits = [s for s in g]\n",
      "            D = getDir(subHits[0])\n",
      "            for hit in subHits[1:]:\n",
      "               if getDir(hit) != D:\n",
      "                   return False\n",
      "    return True\n",
      "\n",
      "\n",
      "def validateTranscripts(blast_pSet):\n",
      "    valid = 0\n",
      "    invalid = 0\n",
      "    seqCounter = 0\n",
      "    \n",
      "    new_pSet = hb.PartitionSet()\n",
      "    \n",
      "    print \"Starting validation process: checking {} transcripts\".format(blast_pSet.numSeqs())\n",
      "    for n, partition in enumerate(blast_pSet):\n",
      "        for aSeq in partition:\n",
      "            if seqCounter % 50000 == 0:\n",
      "                print \"{} partitions, {} sequences checked...\".format(n, seqCounter)\n",
      "                print \"{} valid, {} invalid so far...\".format(str(valid), str(invalid))\n",
      "            seqCounter += 1\n",
      "            if dirVal(aSeq):\n",
      "                new_pSet.addSeq(aSeq, partition.pid)\n",
      "                valid += 1\n",
      "            else:\n",
      "                invalid += 1\n",
      "    return valid, invalid, new_pSet"
     ],
     "language": "python",
     "metadata": {},
     "outputs": [],
     "prompt_number": 4
    },
    {
     "cell_type": "code",
     "collapsed": false,
     "input": [
      "def hits(p):\n",
      "    h = 0\n",
      "    for seq in p:\n",
      "        if seq.numHits() > 0:\n",
      "            h += 1\n",
      "    return h\n",
      "\n",
      "def numPartsWithHits(partSet):\n",
      "    np = 0\n",
      "    ns = 0\n",
      "    nps = 0\n",
      "    for p in partSet:\n",
      "        h = hits(p)\n",
      "        if h > 0:\n",
      "            np+=1\n",
      "            ns+=h\n",
      "            nps+=p.numSeqs()\n",
      "    return np, nps, ns\n",
      "\n",
      "def splitPartsOnHits(partSet, outn):\n",
      "    none_fp = open(outn + '.nohits', 'wb')\n",
      "    some_fp = open(outn + '.hits', 'wb')\n",
      "    for p in partSet:\n",
      "        if not hits(p) > 0:\n",
      "            for s in p:\n",
      "                none_fp.write('>{}\\t{}\\n{}\\n'.format(s.name, p.pid, s.seq))\n",
      "        else:\n",
      "            for s in p:\n",
      "                some_fp.write('>{}\\t{}\\n{}\\n'.format(s.name, p.pid, s.seq))"
     ],
     "language": "python",
     "metadata": {},
     "outputs": [],
     "prompt_number": 5
    },
    {
     "cell_type": "heading",
     "level": 2,
     "metadata": {},
     "source": []
    },
    {
     "cell_type": "heading",
     "level": 2,
     "metadata": {},
     "source": [
      "Step 1: Cleanup"
     ]
    },
    {
     "cell_type": "markdown",
     "metadata": {},
     "source": [
      "Where are we at baseline?"
     ]
    },
    {
     "cell_type": "code",
     "collapsed": false,
     "input": [
      "%run scripts/stats.py 200 ../data/lamp3.fasta"
     ],
     "language": "python",
     "metadata": {},
     "outputs": [
      {
       "output_type": "stream",
       "stream": "stdout",
       "text": [
        "filename sum n trim_n min med mean max n50 n50_len n90 n90_len\n",
        "../data/lamp3.fasta & 756840 & 471187251 & 201 & 367 & 622 & 14839 & 897"
       ]
      },
      {
       "output_type": "stream",
       "stream": "stdout",
       "text": []
      }
     ],
     "prompt_number": 21
    },
    {
     "cell_type": "heading",
     "level": 3,
     "metadata": {},
     "source": [
      "A: Deduplication with CD-HIT-EST"
     ]
    },
    {
     "cell_type": "raw",
     "metadata": {},
     "source": [
      "*We dedupe at 98% identity, with global clustering for maximum accuracy (though slower runtime)\n",
      "*This has already been done, so we'll skip it for now"
     ]
    },
    {
     "cell_type": "code",
     "collapsed": true,
     "input": [
      "#!cd-hit-est -i data/lamp3.fasta -o data/lamp3.dedupe.fa -c .98 -n 9 -g 1 -T 4"
     ],
     "language": "python",
     "metadata": {},
     "outputs": []
    },
    {
     "cell_type": "heading",
     "level": 3,
     "metadata": {},
     "source": [
      "B: Clean out any contaminants that slipped through with SeqClean"
     ]
    },
    {
     "cell_type": "code",
     "collapsed": false,
     "input": [
      "!seqclean data/lamp3.fasta.dedupe.fa -c 6 -v db/UniVec.fa -o data/petMar_mrna.fa"
     ],
     "language": "python",
     "metadata": {},
     "outputs": [
      {
       "output_type": "stream",
       "stream": "stdout",
       "text": [
        "* Using trimming files:\n",
        " \n",
        "/w/2013-lamprey/db/UniVec.fa\n",
        "seqclean running options: \n",
        "seqclean data/lamp3.fasta.dedupe.fa -c 6 -v db/UniVec.fa -o data/petMar_mrna.fa\n",
        " Standard log file: seqcl_lamp3.fasta.dedupe.fa.log\n",
        " Error log file:    err_seqcl_lamp3.fasta.dedupe.fa.log\n",
        " Using 6 CPUs for cleaning\n",
        "-= Rebuilding lamp3.fasta.dedupe.fa cdb index =-"
       ]
      },
      {
       "output_type": "stream",
       "stream": "stdout",
       "text": [
        " Launching actual cleaning process:\n",
        " psx -p 6  -n 1000  -i data/lamp3.fasta.dedupe.fa -d cleaning -C '/w/2013-lamprey/data/lamp3.fasta.dedupe.fa:ANLMS100:/w/2013-lamprey/db/UniVec.fa::11:0' -c '/home/chris/bin/seqclean.psx'"
       ]
      },
      {
       "output_type": "stream",
       "stream": "stdout",
       "text": [
        "Collecting cleaning reports\n"
       ]
      },
      {
       "output_type": "stream",
       "stream": "stdout",
       "text": [
        "**************************************************\n",
        "Sequences analyzed:    672565\n",
        "-----------------------------------\n",
        "                   valid:    672162  (262294 trimmed)\n",
        "                 trashed:       403\n",
        "**************************************************\n",
        "----= Trashing summary =------\n",
        "              by 'shortq':        3\n",
        "                by 'dust':      328\n",
        "           by 'UniVec.fa':       72\n",
        "------------------------------\n",
        "Output file containing only valid and trimmed sequences: data/petMar_mrna.fa\n",
        "For trimming and trashing details see cleaning report  : lamp3.fasta.dedupe.fa.cln\n",
        "--------------------------------------------------"
       ]
      },
      {
       "output_type": "stream",
       "stream": "stdout",
       "text": [
        "seqclean (data/lamp3.fasta.dedupe.fa) finished on machine \n",
        " in /w/2013-lamprey, without a detectable error."
       ]
      }
     ],
     "prompt_number": 36
    },
    {
     "cell_type": "raw",
     "metadata": {},
     "source": [
      "*Check our stats again"
     ]
    },
    {
     "cell_type": "code",
     "collapsed": false,
     "input": [
      "%run scripts/stats.py 200 data/petMar_mrna.fa"
     ],
     "language": "python",
     "metadata": {},
     "outputs": [
      {
       "output_type": "stream",
       "stream": "stdout",
       "text": [
        "filename sum n trim_n min med mean max n50 n50_len n90 n90_len\n",
        "data/petMar_mrna.fa & 650320 & 357321866 & 200 & 340 & 549 & 14839 & 715"
       ]
      },
      {
       "output_type": "stream",
       "stream": "stdout",
       "text": []
      }
     ],
     "prompt_number": 40
    },
    {
     "cell_type": "heading",
     "level": 3,
     "metadata": {},
     "source": [
      "C: Remove erroneous transcripts"
     ]
    },
    {
     "cell_type": "code",
     "collapsed": false,
     "input": [
      "blast_cols = \"qseqid sseqid length nident qstart qend sstart send bitscore evalue\"\n",
      "blast_fmt = \"10 \" + blast_cols\n",
      "print blast_fmt"
     ],
     "language": "python",
     "metadata": {},
     "outputs": [
      {
       "output_type": "stream",
       "stream": "stdout",
       "text": [
        "10 qseqid sseqid length nident qstart qend sstart send bitscore evalue\n"
       ]
      }
     ],
     "prompt_number": 4
    },
    {
     "cell_type": "code",
     "collapsed": false,
     "input": [
      "genome_ps = hb.PartitionSet.associateHits('data/petMar_mrna.fp', 'x.genome_soft.csv')\n",
      "#petMar_mrna_PS.addHits('data/x.EST.csv')"
     ],
     "language": "python",
     "metadata": {},
     "outputs": [
      {
       "ename": "IOError",
       "evalue": "[Errno 2] No such file or directory: 'data/x.genome_soft.csv'",
       "output_type": "pyerr",
       "traceback": [
        "\u001b[1;31m---------------------------------------------------------------------------\u001b[0m\n\u001b[1;31mIOError\u001b[0m                                   Traceback (most recent call last)",
        "\u001b[1;32m<ipython-input-7-5190f87c4c6d>\u001b[0m in \u001b[0;36m<module>\u001b[1;34m()\u001b[0m\n\u001b[1;32m----> 1\u001b[1;33m \u001b[0mgenome_ps\u001b[0m \u001b[1;33m=\u001b[0m \u001b[0mhb\u001b[0m\u001b[1;33m.\u001b[0m\u001b[0mPartitionSet\u001b[0m\u001b[1;33m.\u001b[0m\u001b[0massociateHits\u001b[0m\u001b[1;33m(\u001b[0m\u001b[1;34m'data/petMar_mrna.fp'\u001b[0m\u001b[1;33m,\u001b[0m \u001b[1;34m'data/x.genome_soft.csv'\u001b[0m\u001b[1;33m)\u001b[0m\u001b[1;33m\u001b[0m\u001b[0m\n\u001b[0m\u001b[0;32m      2\u001b[0m \u001b[1;31m#petMar_mrna_PS.addHits('data/x.EST.csv')\u001b[0m\u001b[1;33m\u001b[0m\u001b[1;33m\u001b[0m\u001b[0m\n",
        "\u001b[1;32m/w/peasoup/scripts/hambone.py\u001b[0m in \u001b[0;36massociateHits\u001b[1;34m(cls, fastp_file, blast_file)\u001b[0m\n\u001b[0;32m    581\u001b[0m     \u001b[1;32mdef\u001b[0m \u001b[0massociateHits\u001b[0m\u001b[1;33m(\u001b[0m\u001b[0mcls\u001b[0m\u001b[1;33m,\u001b[0m \u001b[0mfastp_file\u001b[0m\u001b[1;33m,\u001b[0m \u001b[0mblast_file\u001b[0m\u001b[1;33m)\u001b[0m\u001b[1;33m:\u001b[0m\u001b[1;33m\u001b[0m\u001b[0m\n\u001b[0;32m    582\u001b[0m         \u001b[0mps\u001b[0m \u001b[1;33m=\u001b[0m \u001b[0mcls\u001b[0m\u001b[1;33m(\u001b[0m\u001b[1;33m)\u001b[0m\u001b[1;33m\u001b[0m\u001b[0m\n\u001b[1;32m--> 583\u001b[1;33m         \u001b[0mbdp\u001b[0m \u001b[1;33m=\u001b[0m \u001b[0mBlastDB\u001b[0m\u001b[1;33m(\u001b[0m\u001b[0mblast_file\u001b[0m\u001b[1;33m)\u001b[0m\u001b[1;33m\u001b[0m\u001b[0m\n\u001b[0m\u001b[0;32m    584\u001b[0m         \u001b[0mhits\u001b[0m \u001b[1;33m=\u001b[0m \u001b[0mbdp\u001b[0m\u001b[1;33m.\u001b[0m\u001b[0mpartitionByQuery\u001b[0m\u001b[1;33m(\u001b[0m\u001b[1;33m)\u001b[0m\u001b[1;33m\u001b[0m\u001b[0m\n\u001b[0;32m    585\u001b[0m         \u001b[1;32mprint\u001b[0m \u001b[1;34m\"Reading sequences and associating hits...\"\u001b[0m\u001b[1;33m\u001b[0m\u001b[0m\n",
        "\u001b[1;32m/w/peasoup/scripts/hambone.py\u001b[0m in \u001b[0;36m__init__\u001b[1;34m(self, blast_file, cols)\u001b[0m\n\u001b[0;32m    184\u001b[0m \u001b[1;33m\u001b[0m\u001b[0m\n\u001b[0;32m    185\u001b[0m         \u001b[0mcols\u001b[0m \u001b[1;33m=\u001b[0m \u001b[0mcols\u001b[0m\u001b[1;33m.\u001b[0m\u001b[0msplit\u001b[0m\u001b[1;33m(\u001b[0m\u001b[1;33m)\u001b[0m\u001b[1;33m\u001b[0m\u001b[0m\n\u001b[1;32m--> 186\u001b[1;33m         \u001b[1;32mwith\u001b[0m \u001b[0mopen\u001b[0m\u001b[1;33m(\u001b[0m\u001b[0mblast_file\u001b[0m\u001b[1;33m,\u001b[0m \u001b[1;34m'rb'\u001b[0m\u001b[1;33m)\u001b[0m \u001b[1;32mas\u001b[0m \u001b[0mbfp\u001b[0m\u001b[1;33m:\u001b[0m\u001b[1;33m\u001b[0m\u001b[0m\n\u001b[0m\u001b[0;32m    187\u001b[0m             \u001b[1;32mprint\u001b[0m \u001b[1;34m\"Parsing hits...\"\u001b[0m\u001b[1;33m\u001b[0m\u001b[0m\n\u001b[0;32m    188\u001b[0m             \u001b[0mreader\u001b[0m \u001b[1;33m=\u001b[0m \u001b[0mcsv\u001b[0m\u001b[1;33m.\u001b[0m\u001b[0mDictReader\u001b[0m\u001b[1;33m(\u001b[0m\u001b[0mbfp\u001b[0m\u001b[1;33m,\u001b[0m \u001b[0mskipinitialspace\u001b[0m\u001b[1;33m=\u001b[0m\u001b[0mTrue\u001b[0m\u001b[1;33m,\u001b[0m \u001b[0mfieldnames\u001b[0m\u001b[1;33m=\u001b[0m\u001b[0mcols\u001b[0m\u001b[1;33m)\u001b[0m\u001b[1;33m\u001b[0m\u001b[0m\n",
        "\u001b[1;31mIOError\u001b[0m: [Errno 2] No such file or directory: 'data/x.genome_soft.csv'"
       ]
      }
     ],
     "prompt_number": 7
    },
    {
     "cell_type": "code",
     "collapsed": false,
     "input": [
      "v, i, new_ps = validateTranscripts(genome_ps)"
     ],
     "language": "python",
     "metadata": {},
     "outputs": [
      {
       "output_type": "stream",
       "stream": "stdout",
       "text": [
        "Starting validation process: checking 616606 transcripts\n",
        "0 partitions, 0 sequences checked...\n",
        "0 valid, 0 invalid so far...\n",
        "2886 partitions, 50000 sequences checked..."
       ]
      },
      {
       "output_type": "stream",
       "stream": "stdout",
       "text": [
        "\n",
        "49941 valid, 59 invalid so far...\n",
        "7518 partitions, 100000 sequences checked..."
       ]
      },
      {
       "output_type": "stream",
       "stream": "stdout",
       "text": [
        "\n",
        "99844 valid, 156 invalid so far...\n",
        "14445 partitions, 150000 sequences checked..."
       ]
      },
      {
       "output_type": "stream",
       "stream": "stdout",
       "text": [
        "\n",
        "149748 valid, 252 invalid so far...\n",
        "23761 partitions, 200000 sequences checked..."
       ]
      },
      {
       "output_type": "stream",
       "stream": "stdout",
       "text": [
        "\n",
        "199617 valid, 383 invalid so far...\n",
        "35796 partitions, 250000 sequences checked..."
       ]
      },
      {
       "output_type": "stream",
       "stream": "stdout",
       "text": [
        "\n",
        "249461 valid, 539 invalid so far...\n",
        "50433 partitions, 300000 sequences checked..."
       ]
      },
      {
       "output_type": "stream",
       "stream": "stdout",
       "text": [
        "\n",
        "299331 valid, 669 invalid so far...\n",
        "66921 partitions, 350000 sequences checked..."
       ]
      },
      {
       "output_type": "stream",
       "stream": "stdout",
       "text": [
        "\n",
        "349171 valid, 829 invalid so far...\n",
        "85706 partitions, 400000 sequences checked..."
       ]
      },
      {
       "output_type": "stream",
       "stream": "stdout",
       "text": [
        "\n",
        "398999 valid, 1001 invalid so far...\n",
        "112462 partitions, 450000 sequences checked..."
       ]
      },
      {
       "output_type": "stream",
       "stream": "stdout",
       "text": [
        "\n",
        "448787 valid, 1213 invalid so far...\n",
        "155460 partitions, 500000 sequences checked..."
       ]
      },
      {
       "output_type": "stream",
       "stream": "stdout",
       "text": [
        "\n",
        "498495 valid, 1505 invalid so far...\n",
        "200700 partitions, 550000 sequences checked..."
       ]
      },
      {
       "output_type": "stream",
       "stream": "stdout",
       "text": [
        "\n",
        "548280 valid, 1720 invalid so far...\n",
        "247417 partitions, 600000 sequences checked..."
       ]
      },
      {
       "output_type": "stream",
       "stream": "stdout",
       "text": [
        "\n",
        "598068 valid, 1932 invalid so far...\n"
       ]
      }
     ],
     "prompt_number": 6
    },
    {
     "cell_type": "code",
     "collapsed": false,
     "input": [
      "print \"Number of valid transcripts:\", v\n",
      "print \"Number of invalid transcripts:\", i\n",
      "print \"Old partition set:\\n\", genome_ps\n",
      "print \"New partition set:\\n\", new_ps\n",
      "del genome_ps\n",
      "genome_ps = new_ps"
     ],
     "language": "python",
     "metadata": {},
     "outputs": [
      {
       "output_type": "stream",
       "stream": "stdout",
       "text": [
        "Number of valid transcripts: 614631\n",
        "Number of invalid transcripts: 1975\n",
        "Old partition set:\n",
        "# PartitionSet containing:\n",
        "        # 263536 partitions\n",
        "        # comprising 616606 seqs\n",
        "        # with 2.34 seqs/partition avg\n"
       ]
      },
      {
       "output_type": "stream",
       "stream": "stdout",
       "text": [
        "\n",
        "New partition set:\n",
        "# PartitionSet containing:\n",
        "        # 262979 partitions\n",
        "        # comprising 614631 seqs\n",
        "        # with 2.337 seqs/partition avg\n"
       ]
      },
      {
       "output_type": "stream",
       "stream": "stdout",
       "text": [
        "\n"
       ]
      }
     ],
     "prompt_number": 7
    },
    {
     "cell_type": "code",
     "collapsed": false,
     "input": [
      "with open('data/petMar_mrna.val.fp', 'wb') as outfp:\n",
      "    genome_ps.dumpFastp(outfp)"
     ],
     "language": "python",
     "metadata": {},
     "outputs": [],
     "prompt_number": 8
    },
    {
     "cell_type": "code",
     "collapsed": false,
     "input": [
      "cdna_ps = hb.PartitionSet.associateHits('data/petMar_mrna.val.fp', 'x.cdna.csv')"
     ],
     "language": "python",
     "metadata": {},
     "outputs": [
      {
       "output_type": "stream",
       "stream": "stdout",
       "text": [
        "Parsing hits...\n",
        "Parsed 0 rows...\n",
        "comp645422_c1_seq2,ENSPMAT00000001649,2673,0.0,3318,5986\n",
        "...done parsing 95745 hits."
       ]
      },
      {
       "output_type": "stream",
       "stream": "stdout",
       "text": [
        "\n",
        "sorting hits by query...\n",
        "sorted 95745 hits"
       ]
      },
      {
       "output_type": "stream",
       "stream": "stdout",
       "text": [
        "\n",
        "partitioning hits by query...\n",
        "...done!"
       ]
      },
      {
       "output_type": "stream",
       "stream": "stdout",
       "text": [
        "\n",
        "54797 queries over 95745 hits\n",
        "Reading sequences and associating hits...\n",
        "...done!"
       ]
      },
      {
       "output_type": "stream",
       "stream": "stdout",
       "text": [
        "\n"
       ]
      }
     ],
     "prompt_number": 30
    },
    {
     "cell_type": "code",
     "collapsed": false,
     "input": [
      "v, i, new_cdna_ps = validateTranscripts(cdna_ps)"
     ],
     "language": "python",
     "metadata": {},
     "outputs": [
      {
       "output_type": "stream",
       "stream": "stdout",
       "text": [
        "Starting validation process: checking 614631 transcripts\n",
        "0 partitions, 0 sequences checked...\n",
        "0 valid, 0 invalid so far...\n",
        "2888 partitions, 50000 sequences checked..."
       ]
      },
      {
       "output_type": "stream",
       "stream": "stdout",
       "text": [
        "\n",
        "50000 valid, 0 invalid so far...\n",
        "7544 partitions, 100000 sequences checked..."
       ]
      },
      {
       "output_type": "stream",
       "stream": "stdout",
       "text": [
        "\n",
        "100000 valid, 0 invalid so far...\n",
        "14470 partitions, 150000 sequences checked..."
       ]
      },
      {
       "output_type": "stream",
       "stream": "stdout",
       "text": [
        "\n",
        "150000 valid, 0 invalid so far...\n",
        "23849 partitions, 200000 sequences checked..."
       ]
      },
      {
       "output_type": "stream",
       "stream": "stdout",
       "text": [
        "\n",
        "199999 valid, 1 invalid so far...\n",
        "35926 partitions, 250000 sequences checked..."
       ]
      },
      {
       "output_type": "stream",
       "stream": "stdout",
       "text": [
        "\n",
        "249994 valid, 6 invalid so far...\n",
        "50636 partitions, 300000 sequences checked..."
       ]
      },
      {
       "output_type": "stream",
       "stream": "stdout",
       "text": [
        "\n",
        "299994 valid, 6 invalid so far...\n",
        "67213 partitions, 350000 sequences checked..."
       ]
      },
      {
       "output_type": "stream",
       "stream": "stdout",
       "text": [
        "\n",
        "349993 valid, 7 invalid so far...\n",
        "86094 partitions, 400000 sequences checked..."
       ]
      },
      {
       "output_type": "stream",
       "stream": "stdout",
       "text": [
        "\n",
        "399993 valid, 7 invalid so far...\n",
        "113434 partitions, 450000 sequences checked..."
       ]
      },
      {
       "output_type": "stream",
       "stream": "stdout",
       "text": [
        "\n",
        "449993 valid, 7 invalid so far...\n",
        "156575 partitions, 500000 sequences checked..."
       ]
      },
      {
       "output_type": "stream",
       "stream": "stdout",
       "text": [
        "\n",
        "499993 valid, 7 invalid so far...\n",
        "201937 partitions, 550000 sequences checked..."
       ]
      },
      {
       "output_type": "stream",
       "stream": "stdout",
       "text": [
        "\n",
        "549992 valid, 8 invalid so far...\n",
        "248762 partitions, 600000 sequences checked..."
       ]
      },
      {
       "output_type": "stream",
       "stream": "stdout",
       "text": [
        "\n",
        "599992 valid, 8 invalid so far...\n"
       ]
      }
     ],
     "prompt_number": 31
    },
    {
     "cell_type": "heading",
     "level": 1,
     "metadata": {},
     "source": [
      "Partition Stuff!"
     ]
    },
    {
     "cell_type": "code",
     "collapsed": false,
     "input": [
      "# partition size distribution\n",
      "\n",
      "del new_ps\n",
      "dist = np.array(genome_ps.histogram())\n",
      "print dist[:,1]\n",
      "hist = np.bincount(dist[:,1])\n",
      "#eprint hist\n",
      "plot(np.arange(len(hist)-1), hist[1:])\n",
      "axis(ymax=1000)"
     ],
     "language": "python",
     "metadata": {},
     "outputs": [
      {
       "output_type": "stream",
       "stream": "stdout",
       "text": [
        "Generating histogram...\n",
        "...done!"
       ]
      },
      {
       "output_type": "stream",
       "stream": "stdout",
       "text": [
        "\n",
        "[919 911 496 ...,   1   1   1]"
       ]
      },
      {
       "output_type": "stream",
       "stream": "stdout",
       "text": [
        "\n"
       ]
      },
      {
       "output_type": "pyout",
       "prompt_number": 8,
       "text": [
        "(0.0, 1000.0, 0.0, 1000)"
       ]
      },
      {
       "output_type": "display_data",
       "png": "[encoded data removed]"
      }
     ],
     "prompt_number": 8
    },
    {
     "cell_type": "markdown",
     "metadata": {},
     "source": [
      "Some notes...\n",
      "*Get full-length cDNAs from GenBank - not ESTs\n",
      "*Use for validating assembly AND scaffolding\n",
      "*Validate with different tissues"
     ]
    },
    {
     "cell_type": "code",
     "collapsed": false,
     "input": [
      "print \"petMar_mrna X 2010_genome\"\n",
      "print \"Partitions with hits: \\t\\t\\t\\t{}\\nNumber of sequences in those partitions: \\t{}\\nSequences with hits: \\t\\t\\t\\t{}\".format(*numPartsWithHits(genome_ps))"
     ],
     "language": "python",
     "metadata": {},
     "outputs": [
      {
       "output_type": "stream",
       "stream": "stdout",
       "text": [
        "petMar_mrna X 2010_genome\n",
        "Partitions with hits: \t\t\t\t151724\n",
        "Number of sequences in those partitions: \t403158\n",
        "Sequences with hits: \t\t\t\t180867"
       ]
      },
      {
       "output_type": "stream",
       "stream": "stdout",
       "text": [
        "\n"
       ]
      }
     ],
     "prompt_number": 9
    },
    {
     "cell_type": "code",
     "collapsed": true,
     "input": [
      "#zf_ps = hb.PartitionSet.associateHits('data/petMar_mrna.fp', 'data/x.zebrafish.csv')"
     ],
     "language": "python",
     "metadata": {},
     "outputs": [
      {
       "output_type": "stream",
       "stream": "stdout",
       "text": [
        "Parsing hits...\n",
        "Parsed 0 rows...\n",
        "comp645422_c1_seq2,ENSDARP00000049571,908,3e-161,6031,3341\n",
        "Parsed"
       ]
      },
      {
       "output_type": "stream",
       "stream": "stdout",
       "text": [
        " 100000 rows...\n",
        "comp614543_c0_seq1,ENSDARP00000114900,88,1e-28,2,265\n",
        "Parsed"
       ]
      },
      {
       "output_type": "stream",
       "stream": "stdout",
       "text": [
        " 200000 rows...\n",
        "comp596568_c0_seq2,ENSDARP00000125714,98,8e-09,3,284\n",
        "Parsed"
       ]
      },
      {
       "output_type": "stream",
       "stream": "stdout",
       "text": [
        " 300000 rows...\n",
        "comp609722_c0_seq6,ENSDARP00000111739,149,2e-50,12,458\n",
        "Parsed"
       ]
      },
      {
       "output_type": "stream",
       "stream": "stdout",
       "text": [
        " 400000 rows...\n",
        "comp639804_c1_seq4,ENSDARP00000116543,101,4e-17,379,681\n",
        "Parsed"
       ]
      },
      {
       "output_type": "stream",
       "stream": "stdout",
       "text": [
        " 500000 rows...\n",
        "comp421546_c0_seq1,ENSDARP00000108628,68,2e-16,208,5\n",
        "Parsed"
       ]
      },
      {
       "output_type": "stream",
       "stream": "stdout",
       "text": [
        " 600000 rows...\n",
        "comp652494_c0_seq3,ENSDARP00000117334,229,2e-42,646,2\n",
        "Parsed"
       ]
      },
      {
       "output_type": "stream",
       "stream": "stdout",
       "text": [
        " 700000 rows...\n",
        "comp162625_c0_seq1,ENSDARP00000118749,90,3e-20,9,278\n",
        "Parsed"
       ]
      },
      {
       "output_type": "stream",
       "stream": "stdout",
       "text": [
        " 800000 rows...\n",
        "comp535868_c0_seq1,ENSDARP00000104639,64,2e-14,2,193\n",
        "Parsed"
       ]
      },
      {
       "output_type": "stream",
       "stream": "stdout",
       "text": [
        " 900000 rows...\n",
        "comp497424_c0_seq1,ENSDARP00000118253,132,6e-22,5,400\n",
        "Parsed"
       ]
      },
      {
       "output_type": "stream",
       "stream": "stdout",
       "text": [
        " 1000000 rows...\n",
        "comp6997104_c0_seq1,ENSDARP00000099904,86,3e-24,1,258\n",
        "Parsed"
       ]
      },
      {
       "output_type": "stream",
       "stream": "stdout",
       "text": [
        " 1100000 rows...\n",
        "comp2814874_c0_seq1,ENSDARP00000022550,28,2e-10,2,85\n",
        "Parsed"
       ]
      },
      {
       "output_type": "stream",
       "stream": "stdout",
       "text": [
        " 1200000 rows...\n",
        "comp198947_c0_seq1,ENSDARP00000017985,370,1e-17,3,1040\n",
        "Parsed"
       ]
      },
      {
       "output_type": "stream",
       "stream": "stdout",
       "text": [
        " 1300000 rows...\n",
        "comp525408_c0_seq1,ENSDARP00000118313,57,2e-18,3,173\n",
        "Parsed"
       ]
      },
      {
       "output_type": "stream",
       "stream": "stdout",
       "text": [
        " 1400000 rows...\n",
        "comp468476_c0_seq1,ENSDARP00000115895,342,8e-42,1,1023\n",
        "Parsed"
       ]
      },
      {
       "output_type": "stream",
       "stream": "stdout",
       "text": [
        " 1500000 rows...\n",
        "comp258640_c1_seq1,ENSDARP00000125361,42,2e-09,83,208\n",
        "Parsed"
       ]
      },
      {
       "output_type": "stream",
       "stream": "stdout",
       "text": [
        " 1600000 rows...\n",
        "comp2501741_c0_seq1,ENSDARP00000112911,84,4e-14,1,249\n",
        "Parsed"
       ]
      },
      {
       "output_type": "stream",
       "stream": "stdout",
       "text": [
        " 1700000 rows...\n",
        "comp394547_c0_seq1,ENSDARP00000125131,88,8e-12,69,296\n",
        "Parsed"
       ]
      },
      {
       "output_type": "stream",
       "stream": "stdout",
       "text": [
        " 1800000 rows...\n",
        "comp569554_c0_seq1,ENSDARP00000125261,80,6e-20,240,1\n",
        "Parsed"
       ]
      },
      {
       "output_type": "stream",
       "stream": "stdout",
       "text": [
        " 1900000 rows...\n",
        "comp604040_c1_seq1,ENSDARP00000111293,115,4e-29,391,47\n",
        "Parsed"
       ]
      },
      {
       "output_type": "stream",
       "stream": "stdout",
       "text": [
        " 2000000 rows...\n",
        "comp618154_c2_seq2,ENSDARP00000088133,75,3e-09,99,323\n",
        "Parsed"
       ]
      },
      {
       "output_type": "stream",
       "stream": "stdout",
       "text": [
        " 2100000 rows...\n",
        "comp625326_c1_seq1,ENSDARP00000110292,69,2e-12,211,5\n",
        "Parsed"
       ]
      },
      {
       "output_type": "stream",
       "stream": "stdout",
       "text": [
        " 2200000 rows...\n",
        "comp628326_c1_seq1,ENSDARP00000110257,76,3e-10,178,405\n",
        "Parsed"
       ]
      },
      {
       "output_type": "stream",
       "stream": "stdout",
       "text": [
        " 2300000 rows...\n",
        "comp630789_c1_seq5,ENSDARP00000119665,64,2e-10,259,68\n",
        "Parsed"
       ]
      },
      {
       "output_type": "stream",
       "stream": "stdout",
       "text": [
        " 2400000 rows...\n",
        "comp632639_c0_seq10,ENSDARP00000047072,248,4e-29,253,930\n",
        "Parsed"
       ]
      },
      {
       "output_type": "stream",
       "stream": "stdout",
       "text": [
        " 2500000 rows...\n",
        "comp633736_c1_seq4,ENSDARP00000108034,82,3e-21,601,356\n",
        "Parsed"
       ]
      },
      {
       "output_type": "stream",
       "stream": "stdout",
       "text": [
        " 2600000 rows...\n",
        "comp634777_c2_seq2,ENSDARP00000125172,71,3e-15,1,213\n",
        "Parsed"
       ]
      },
      {
       "output_type": "stream",
       "stream": "stdout",
       "text": [
        " 2700000 rows...\n",
        "comp635868_c1_seq2,ENSDARP00000096291,161,9e-12,564,100\n",
        "Parsed"
       ]
      },
      {
       "output_type": "stream",
       "stream": "stdout",
       "text": [
        " 2800000 rows...\n",
        "comp636905_c0_seq39,ENSDARP00000121076,61,8e-11,15,197\n",
        "Parsed"
       ]
      },
      {
       "output_type": "stream",
       "stream": "stdout",
       "text": [
        " 2900000 rows...\n",
        "comp637425_c0_seq1,ENSDARP00000112389,155,2e-35,138,602\n",
        "Parsed"
       ]
      },
      {
       "output_type": "stream",
       "stream": "stdout",
       "text": [
        " 3000000 rows...\n",
        "comp638843_c3_seq6,ENSDARP00000103559,54,8e-09,511,350\n",
        "Parsed"
       ]
      },
      {
       "output_type": "stream",
       "stream": "stdout",
       "text": [
        " 3100000 rows...\n",
        "comp639718_c5_seq13,ENSDARP00000093145,58,2e-08,540,367\n",
        "Parsed"
       ]
      },
      {
       "output_type": "stream",
       "stream": "stdout",
       "text": [
        " 3200000 rows...\n",
        "comp640487_c1_seq1,ENSDARP00000111200,125,1e-15,374,3\n",
        "Parsed"
       ]
      },
      {
       "output_type": "stream",
       "stream": "stdout",
       "text": [
        " 3300000 rows...\n",
        "comp641420_c0_seq1,ENSDARP00000041141,149,1e-27,2,433\n",
        "Parsed"
       ]
      },
      {
       "output_type": "stream",
       "stream": "stdout",
       "text": [
        " 3400000 rows...\n",
        "comp642311_c0_seq3,ENSDARP00000116197,97,3e-20,2,286\n",
        "Parsed"
       ]
      },
      {
       "output_type": "stream",
       "stream": "stdout",
       "text": [
        " 3500000 rows...\n",
        "comp643036_c1_seq7,ENSDARP00000101789,370,7e-24,1268,2362\n",
        "Parsed"
       ]
      },
      {
       "output_type": "stream",
       "stream": "stdout",
       "text": [
        " 3600000 rows...\n",
        "comp643917_c1_seq8,ENSDARP00000084207,215,2e-33,523,1143\n",
        "Parsed"
       ]
      },
      {
       "output_type": "stream",
       "stream": "stdout",
       "text": [
        " 3700000 rows...\n",
        "comp644684_c12_seq7,ENSDARP00000100804,464,0.0,1426,59\n",
        "Parsed"
       ]
      },
      {
       "output_type": "stream",
       "stream": "stdout",
       "text": [
        " 3800000 rows...\n",
        "comp645648_c4_seq13,ENSDARP00000096499,91,1e-08,310,570\n",
        "Parsed"
       ]
      },
      {
       "output_type": "stream",
       "stream": "stdout",
       "text": [
        " 3900000 rows...\n",
        "comp646523_c6_seq8,ENSDARP00000047850,178,4e-30,569,42\n",
        "Parsed"
       ]
      },
      {
       "output_type": "stream",
       "stream": "stdout",
       "text": [
        " 4000000 rows...\n",
        "comp647111_c1_seq3,ENSDARP00000112928,71,9e-25,633,845\n",
        "Parsed"
       ]
      },
      {
       "output_type": "stream",
       "stream": "stdout",
       "text": [
        " 4100000 rows...\n",
        "comp647819_c1_seq2,ENSDARP00000109053,134,9e-31,486,887\n",
        "Parsed"
       ]
      },
      {
       "output_type": "stream",
       "stream": "stdout",
       "text": [
        " 4200000 rows...\n",
        "comp648266_c2_seq8,ENSDARP00000103670,391,4e-76,2574,3722\n",
        "Parsed"
       ]
      },
      {
       "output_type": "stream",
       "stream": "stdout",
       "text": [
        " 4300000 rows...\n",
        "comp648885_c2_seq2,ENSDARP00000111490,101,1e-57,29,331\n",
        "Parsed"
       ]
      },
      {
       "output_type": "stream",
       "stream": "stdout",
       "text": [
        " 4400000 rows...\n",
        "comp649178_c4_seq1,ENSDARP00000117164,247,3e-08,1609,932\n",
        "Parsed"
       ]
      },
      {
       "output_type": "stream",
       "stream": "stdout",
       "text": [
        " 4500000 rows...\n",
        "comp649563_c2_seq8,ENSDARP00000112071,70,5e-16,1,210\n",
        "Parsed"
       ]
      },
      {
       "output_type": "stream",
       "stream": "stdout",
       "text": [
        " 4600000 rows...\n",
        "comp650210_c3_seq4,ENSDARP00000107044,55,2e-08,1,165\n",
        "Parsed"
       ]
      },
      {
       "output_type": "stream",
       "stream": "stdout",
       "text": [
        " 4700000 rows...\n",
        "comp650942_c0_seq11,ENSDARP00000073142,258,7e-93,2,775\n",
        "Parsed"
       ]
      },
      {
       "output_type": "stream",
       "stream": "stdout",
       "text": [
        " 4800000 rows...\n",
        "comp651436_c0_seq5,ENSDARP00000119656,211,3e-53,604,1236\n",
        "Parsed"
       ]
      },
      {
       "output_type": "stream",
       "stream": "stdout",
       "text": [
        " 4900000 rows...\n",
        "comp652008_c5_seq4,ENSDARP00000108017,130,8e-35,3,392\n",
        "Parsed"
       ]
      },
      {
       "output_type": "stream",
       "stream": "stdout",
       "text": [
        " 5000000 rows...\n",
        "comp652287_c1_seq10,ENSDARP00000118253,141,2e-23,649,227\n",
        "Parsed"
       ]
      },
      {
       "output_type": "stream",
       "stream": "stdout",
       "text": [
        " 5100000 rows...\n",
        "comp652825_c1_seq15,ENSDARP00000058488,243,1e-12,1551,2234\n",
        "Parsed"
       ]
      },
      {
       "output_type": "stream",
       "stream": "stdout",
       "text": [
        " 5200000 rows...\n",
        "comp653386_c3_seq20,ENSDARP00000105893,245,2e-65,5,733\n",
        "...done parsing 5295294 hits."
       ]
      },
      {
       "output_type": "stream",
       "stream": "stdout",
       "text": [
        "\n",
        "sorting hits by query...\n",
        "sorted 5295294 hits"
       ]
      },
      {
       "output_type": "stream",
       "stream": "stdout",
       "text": [
        "\n",
        "partitioning hits by query...\n",
        "...done!"
       ]
      },
      {
       "output_type": "stream",
       "stream": "stdout",
       "text": [
        "\n",
        "95911 queries over 5295294 hits\n",
        "Reading sequences and associating hits...\n",
        "...done!"
       ]
      },
      {
       "output_type": "stream",
       "stream": "stdout",
       "text": [
        "\n"
       ]
      }
     ],
     "prompt_number": 33
    },
    {
     "cell_type": "code",
     "collapsed": false,
     "input": [
      "#print \"petMar_mrna X zebrafish\"\n",
      "#print \"Partitions with hits: \\t\\t\\t\\t{}\\nNumber of sequences in those partitions: \\t{}\\nSequences with hits: \\t\\t\\t\\t{}\".format(*numPartsWithHits(zf_ps))"
     ],
     "language": "python",
     "metadata": {},
     "outputs": [
      {
       "output_type": "stream",
       "stream": "stdout",
       "text": [
        "petMar_mrna X zebrafish\n",
        "Partitions with hits: \t\t\t\t31024\n",
        "Number of sequences in those partitions: \t69977\n",
        "Sequences with hits: \t\t\t\t38768"
       ]
      },
      {
       "output_type": "stream",
       "stream": "stdout",
       "text": [
        "\n"
       ]
      }
     ],
     "prompt_number": 34
    },
    {
     "cell_type": "code",
     "collapsed": true,
     "input": [
      "#amph_ps = hb.PartitionSet.associateHits('data/petMar_mrna.fp', 'data/x.amph.csv')"
     ],
     "language": "python",
     "metadata": {},
     "outputs": [
      {
       "output_type": "stream",
       "stream": "stdout",
       "text": [
        "Parsing hits...\n",
        "Parsed 0 rows...\n",
        "comp645422_c1_seq2,tr|C3Z2H0|C3Z2H0_BRAFL,839,6e-125,5836,3341\n",
        "Parsed"
       ]
      },
      {
       "output_type": "stream",
       "stream": "stdout",
       "text": [
        " 100000 rows...\n",
        "comp614543_c0_seq1,tr|C3ZY73|C3ZY73_BRAFL,88,5e-20,2,265\n",
        "Parsed"
       ]
      },
      {
       "output_type": "stream",
       "stream": "stdout",
       "text": [
        " 200000 rows...\n",
        "comp429117_c0_seq1,tr|C3ZMU2|C3ZMU2_BRAFL,197,2e-09,794,318\n",
        "Parsed"
       ]
      },
      {
       "output_type": "stream",
       "stream": "stdout",
       "text": [
        " 300000 rows...\n",
        "comp769177_c0_seq1,tr|C3ZY45|C3ZY45_BRAFL,62,5e-13,186,1\n",
        "Parsed"
       ]
      },
      {
       "output_type": "stream",
       "stream": "stdout",
       "text": [
        " 400000 rows...\n",
        "comp629961_c0_seq1,tr|C3ZDP2|C3ZDP2_BRAFL,132,5e-14,1344,961\n",
        "Parsed"
       ]
      },
      {
       "output_type": "stream",
       "stream": "stdout",
       "text": [
        " 500000 rows...\n",
        "comp307416_c0_seq2,tr|C3YKB0|C3YKB0_BRAFL,89,4e-29,5,271\n",
        "Parsed"
       ]
      },
      {
       "output_type": "stream",
       "stream": "stdout",
       "text": [
        " 600000 rows...\n",
        "comp578562_c0_seq1,tr|C3ZNZ3|C3ZNZ3_BRAFL,74,2e-16,222,1\n",
        "Parsed"
       ]
      },
      {
       "output_type": "stream",
       "stream": "stdout",
       "text": [
        " 700000 rows...\n",
        "comp537561_c0_seq1,tr|C3ZRC8|C3ZRC8_BRAFL,65,3e-13,1,195\n",
        "Parsed"
       ]
      },
      {
       "output_type": "stream",
       "stream": "stdout",
       "text": [
        " 800000 rows...\n",
        "comp595571_c3_seq1,tr|C3ZD97|C3ZD97_BRAFL,353,5e-13,163,1134\n",
        "Parsed"
       ]
      },
      {
       "output_type": "stream",
       "stream": "stdout",
       "text": [
        " 900000 rows...\n",
        "comp576172_c0_seq1,tr|C3YAA0|C3YAA0_BRAFL,68,8e-09,319,116\n",
        "Parsed"
       ]
      },
      {
       "output_type": "stream",
       "stream": "stdout",
       "text": [
        " 1000000 rows...\n",
        "comp474700_c1_seq1,tr|C3Y072|C3Y072_BRAFL,106,1e-13,331,38\n",
        "Parsed"
       ]
      },
      {
       "output_type": "stream",
       "stream": "stdout",
       "text": [
        " 1100000 rows...\n",
        "comp646740_c1_seq2,tr|C3YS57|C3YS57_BRAFL,94,2e-20,371,90\n",
        "Parsed"
       ]
      },
      {
       "output_type": "stream",
       "stream": "stdout",
       "text": [
        " 1200000 rows...\n",
        "comp571215_c0_seq1,tr|C3ZY45|C3ZY45_BRAFL,83,3e-08,251,3\n",
        "Parsed"
       ]
      },
      {
       "output_type": "stream",
       "stream": "stdout",
       "text": [
        " 1300000 rows...\n",
        "comp646624_c2_seq8,tr|C3YYA9|C3YYA9_BRAFL,86,6e-21,258,1\n",
        "Parsed"
       ]
      },
      {
       "output_type": "stream",
       "stream": "stdout",
       "text": [
        " 1400000 rows...\n",
        "comp424825_c0_seq1,tr|C3YGT6|C3YGT6_BRAFL,62,1e-09,238,53\n",
        "Parsed"
       ]
      },
      {
       "output_type": "stream",
       "stream": "stdout",
       "text": [
        " 1500000 rows...\n",
        "comp590140_c1_seq2,tr|C3YHJ9|C3YHJ9_BRAFL,81,1e-12,239,12\n",
        "Parsed"
       ]
      },
      {
       "output_type": "stream",
       "stream": "stdout",
       "text": [
        " 1600000 rows...\n",
        "comp612471_c0_seq1,tr|C3YTR5|C3YTR5_BRAFL,143,2e-26,506,934\n",
        "Parsed"
       ]
      },
      {
       "output_type": "stream",
       "stream": "stdout",
       "text": [
        " 1700000 rows...\n",
        "comp625326_c1_seq3,tr|C3Y7F9|C3Y7F9_BRAFL,86,2e-13,265,8\n",
        "Parsed"
       ]
      },
      {
       "output_type": "stream",
       "stream": "stdout",
       "text": [
        " 1800000 rows...\n",
        "comp629391_c0_seq1,tr|C3Y6P2|C3Y6P2_BRAFL,179,5e-22,546,31\n",
        "Parsed"
       ]
      },
      {
       "output_type": "stream",
       "stream": "stdout",
       "text": [
        " 1900000 rows...\n",
        "comp632405_c2_seq12,tr|C3ZU89|C3ZU89_BRAFL,177,1e-25,150,674\n",
        "Parsed"
       ]
      },
      {
       "output_type": "stream",
       "stream": "stdout",
       "text": [
        " 2000000 rows...\n",
        "comp633744_c4_seq4,tr|C3ZGS3|C3ZGS3_BRAFL,109,1e-17,579,253\n",
        "Parsed"
       ]
      },
      {
       "output_type": "stream",
       "stream": "stdout",
       "text": [
        " 2100000 rows...\n",
        "comp635592_c3_seq16,tr|C3YAK4|C3YAK4_BRAFL,131,2e-35,497,105\n",
        "Parsed"
       ]
      },
      {
       "output_type": "stream",
       "stream": "stdout",
       "text": [
        " 2200000 rows...\n",
        "comp637292_c0_seq3,tr|C3ZNY3|C3ZNY3_BRAFL,105,5e-16,509,823\n",
        "Parsed"
       ]
      },
      {
       "output_type": "stream",
       "stream": "stdout",
       "text": [
        " 2300000 rows...\n",
        "comp638199_c0_seq2,tr|C3ZQ52|C3ZQ52_BRAFL,142,2e-09,840,490\n",
        "Parsed"
       ]
      },
      {
       "output_type": "stream",
       "stream": "stdout",
       "text": [
        " 2400000 rows...\n",
        "comp639462_c2_seq2,tr|C3YHP1|C3YHP1_BRAFL,74,2e-15,2,223\n",
        "Parsed"
       ]
      },
      {
       "output_type": "stream",
       "stream": "stdout",
       "text": [
        " 2500000 rows...\n",
        "comp640399_c1_seq16,tr|C4A0Y8|C4A0Y8_BRAFL,176,9e-17,578,54\n",
        "Parsed"
       ]
      },
      {
       "output_type": "stream",
       "stream": "stdout",
       "text": [
        " 2600000 rows...\n",
        "comp641615_c5_seq2,tr|C3ZUH9|C3ZUH9_BRAFL,236,7e-20,752,51\n",
        "Parsed"
       ]
      },
      {
       "output_type": "stream",
       "stream": "stdout",
       "text": [
        " 2700000 rows...\n",
        "comp642348_c0_seq5,tr|C3Y6G9|C3Y6G9_BRAFL,108,1e-10,682,383\n",
        "Parsed"
       ]
      },
      {
       "output_type": "stream",
       "stream": "stdout",
       "text": [
        " 2800000 rows...\n",
        "comp643274_c2_seq3,tr|C3YSM5|C3YSM5_BRAFL,84,4e-08,191,3\n",
        "Parsed"
       ]
      },
      {
       "output_type": "stream",
       "stream": "stdout",
       "text": [
        " 2900000 rows...\n",
        "comp644282_c7_seq2,tr|C3ZDM2|C3ZDM2_BRAFL,107,6e-20,666,986\n",
        "Parsed"
       ]
      },
      {
       "output_type": "stream",
       "stream": "stdout",
       "text": [
        " 3000000 rows...\n",
        "comp645382_c0_seq6,tr|C3XRS6|C3XRS6_BRAFL,133,7e-10,4,393\n",
        "Parsed"
       ]
      },
      {
       "output_type": "stream",
       "stream": "stdout",
       "text": [
        " 3100000 rows...\n",
        "comp646594_c3_seq1,tr|C3YHY0|C3YHY0_BRAFL,70,3e-16,218,9\n",
        "Parsed"
       ]
      },
      {
       "output_type": "stream",
       "stream": "stdout",
       "text": [
        " 3200000 rows...\n",
        "comp647489_c1_seq4,tr|C3ZR94|C3ZR94_BRAFL,84,2e-17,2,253\n",
        "Parsed"
       ]
      },
      {
       "output_type": "stream",
       "stream": "stdout",
       "text": [
        " 3300000 rows...\n",
        "comp648069_c1_seq3,tr|C3YYR4|C3YYR4_BRAFL,138,4e-11,23,418\n",
        "Parsed"
       ]
      },
      {
       "output_type": "stream",
       "stream": "stdout",
       "text": [
        " 3400000 rows...\n",
        "comp648966_c5_seq3,tr|C3YHQ5|C3YHQ5_BRAFL,116,3e-23,351,4\n",
        "Parsed"
       ]
      },
      {
       "output_type": "stream",
       "stream": "stdout",
       "text": [
        " 3500000 rows...\n",
        "comp649428_c3_seq7,tr|C3YE95|C3YE95_BRAFL,91,9e-09,397,660\n",
        "Parsed"
       ]
      },
      {
       "output_type": "stream",
       "stream": "stdout",
       "text": [
        " 3600000 rows...\n",
        "comp649719_c7_seq2,tr|C3YYS5|C3YYS5_BRAFL,101,5e-15,298,2\n",
        "Parsed"
       ]
      },
      {
       "output_type": "stream",
       "stream": "stdout",
       "text": [
        " 3700000 rows...\n",
        "comp650500_c0_seq14,tr|C3YM62|C3YM62_BRAFL,140,1e-23,1227,1646\n",
        "Parsed"
       ]
      },
      {
       "output_type": "stream",
       "stream": "stdout",
       "text": [
        " 3800000 rows...\n",
        "comp651436_c0_seq3,tr|C3YHM7|C3YHM7_BRAFL,275,2e-59,937,1761\n",
        "Parsed"
       ]
      },
      {
       "output_type": "stream",
       "stream": "stdout",
       "text": [
        " 3900000 rows...\n",
        "comp652069_c0_seq12,tr|C3ZDN4|C3ZDN4_BRAFL,113,5e-10,98,436\n",
        "Parsed"
       ]
      },
      {
       "output_type": "stream",
       "stream": "stdout",
       "text": [
        " 4000000 rows...\n",
        "comp652440_c1_seq10,tr|C3Y978|C3Y978_BRAFL,202,3e-14,1099,542\n",
        "Parsed"
       ]
      },
      {
       "output_type": "stream",
       "stream": "stdout",
       "text": [
        " 4100000 rows...\n",
        "comp653015_c2_seq3,tr|C3YHL6|C3YHL6_BRAFL,110,1e-14,281,577\n",
        "Parsed"
       ]
      },
      {
       "output_type": "stream",
       "stream": "stdout",
       "text": [
        " 4200000 rows...\n",
        "comp4960454_c0_seq1,tr|C3YAI3|C3YAI3_BRAFL,69,4e-18,7,213\n",
        "...done parsing 4205121 hits."
       ]
      },
      {
       "output_type": "stream",
       "stream": "stdout",
       "text": [
        "\n",
        "sorting hits by query...\n",
        "sorted 4205121 hits"
       ]
      },
      {
       "output_type": "stream",
       "stream": "stdout",
       "text": [
        "\n",
        "partitioning hits by query...\n",
        "...done!"
       ]
      },
      {
       "output_type": "stream",
       "stream": "stdout",
       "text": [
        "\n",
        "76324 queries over 4205121 hits\n",
        "Reading sequences and associating hits...\n",
        "...done!"
       ]
      },
      {
       "output_type": "stream",
       "stream": "stdout",
       "text": [
        "\n"
       ]
      }
     ],
     "prompt_number": 35
    },
    {
     "cell_type": "code",
     "collapsed": false,
     "input": [
      "#print \"petMar_mrna X amphioxus\"\n",
      "#print \"Partitions with hits: \\t\\t\\t\\t{}\\nNumber of sequences in those partitions: \\t{}\\nSequences with hits: \\t\\t\\t\\t{}\".format(*numPartsWithHits(amph_ps))"
     ],
     "language": "python",
     "metadata": {},
     "outputs": [
      {
       "output_type": "stream",
       "stream": "stdout",
       "text": [
        "petMar_mrna X amphioxus\n",
        "Partitions with hits: \t\t\t\t22292\n",
        "Number of sequences in those partitions: \t53155\n",
        "Sequences with hits: \t\t\t\t28239"
       ]
      },
      {
       "output_type": "stream",
       "stream": "stdout",
       "text": [
        "\n"
       ]
      }
     ],
     "prompt_number": 36
    },
    {
     "cell_type": "code",
     "collapsed": false,
     "input": [
      "# avoid making more partition sets to save memory\n",
      "petMar_pids = {}\n",
      "for p in genome_ps:\n",
      "    for seq in p:\n",
      "        petMar_pids[seq.name] = p.pid"
     ],
     "language": "python",
     "metadata": {},
     "outputs": [],
     "prompt_number": 10
    },
    {
     "cell_type": "code",
     "collapsed": false,
     "input": [
      "zf_db = hb.BlastDB.queryDB('data/x.zebrafish.csv', cols=blast_cols)\n",
      "mouse_db = hb.BlastDB.queryDB('data/x.mouse.csv', cols=blast_cols)\n",
      "genome_db = hb.BlastDB.queryDB('data/x.genome_soft.csv', cols=blast_cols)\n",
      "amph_db = hb.BlastDB.queryDB('data/x.amph.csv', cols=blast_cols)"
     ],
     "language": "python",
     "metadata": {},
     "outputs": [
      {
       "output_type": "stream",
       "stream": "stdout",
       "text": [
        "Processing blast file (data/x.zebrafish.csv)...\n",
        "Parsing hits...\n",
        "Done! 95911 queries have hits"
       ]
      },
      {
       "output_type": "stream",
       "stream": "stdout",
       "text": [
        "\n",
        "Removing subject duplicates...\n",
        "Done removing subject dupes!"
       ]
      },
      {
       "output_type": "stream",
       "stream": "stdout",
       "text": [
        "\n",
        "Processing blast file (data/x.mouse.csv)...\n",
        "Parsing hits...\n",
        "Done! 115528 queries have hits"
       ]
      },
      {
       "output_type": "stream",
       "stream": "stdout",
       "text": [
        "\n",
        "Removing subject duplicates...\n",
        "Done removing subject dupes!"
       ]
      },
      {
       "output_type": "stream",
       "stream": "stdout",
       "text": [
        "\n",
        "Processing blast file (data/x.genome_soft.csv)...\n",
        "Parsing hits...\n",
        "Done! 469919 queries have hits"
       ]
      },
      {
       "output_type": "stream",
       "stream": "stdout",
       "text": [
        "\n",
        "Removing subject duplicates...\n",
        "Done removing subject dupes!"
       ]
      },
      {
       "output_type": "stream",
       "stream": "stdout",
       "text": [
        "\n",
        "Processing blast file (data/x.amph.csv)...\n",
        "Parsing hits...\n",
        "Done! 76324 queries have hits"
       ]
      },
      {
       "output_type": "stream",
       "stream": "stdout",
       "text": [
        "\n",
        "Removing subject duplicates...\n",
        "Done removing subject dupes!"
       ]
      },
      {
       "output_type": "stream",
       "stream": "stdout",
       "text": [
        "\n"
       ]
      }
     ],
     "prompt_number": 11
    },
    {
     "cell_type": "code",
     "collapsed": false,
     "input": [
      "import gc\n",
      "gc.collect()"
     ],
     "language": "python",
     "metadata": {},
     "outputs": [
      {
       "output_type": "pyout",
       "prompt_number": 32,
       "text": [
        "84"
       ]
      }
     ],
     "prompt_number": 32
    },
    {
     "cell_type": "code",
     "collapsed": false,
     "input": [
      "def hitStats(hitdb):\n",
      "    n = 0\n",
      "    for q in hitdb:\n",
      "        n += len(hitdb[q])\n",
      "    avgHits = float(n) / float(len(hitdb))\n",
      "    return n, avgHits\n",
      "def pruneDict(D, fromKeys):\n",
      "    keys = D.keys()\n",
      "    for key in keys:\n",
      "        if key not in fromKeys:\n",
      "            del D[key]"
     ],
     "language": "python",
     "metadata": {},
     "outputs": [],
     "prompt_number": 6
    },
    {
     "cell_type": "code",
     "collapsed": false,
     "input": [
      "# update the hit databases with the newest pruned assembly\n",
      "\n",
      "pruneDict(zf_db, petMar_pids.viewkeys())\n",
      "pruneDict(mouse_db, petMar_pids.viewkeys())\n",
      "pruneDict(genome_db, petMar_pids.viewkeys())\n",
      "pruneDict(amph_db, petMar_pids.viewkeys())"
     ],
     "language": "python",
     "metadata": {},
     "outputs": [],
     "prompt_number": 13
    },
    {
     "cell_type": "code",
     "collapsed": false,
     "input": [
      "print \"zebrafish\"\n",
      "print \"total hits:\\t\\t{}\\naverage hits/sequence:\\t{}\\n\".format(*hitStats(zf_db))\n",
      "print \"mouse\"\n",
      "print \"total hits:\\t\\t{}\\naverage hits/sequence:\\t{}\\n\".format(*hitStats(mouse_db))\n",
      "print \"amphioxus\"\n",
      "print \"total hits:\\t\\t{}\\naverage hits/sequence:\\t{}\\n\".format(*hitStats(amph_db))\n",
      "print \"genome\"\n",
      "print \"total hits:\\t\\t{}\\naverage hits/sequence:\\t{}\\n\".format(*hitStats(genome_db))"
     ],
     "language": "python",
     "metadata": {},
     "outputs": [
      {
       "output_type": "stream",
       "stream": "stdout",
       "text": [
        "zebrafish\n",
        "total hits:\t\t587019\n",
        "average hits/sequence:\t15.1994769685\n",
        "\n",
        "mouse\n",
        "total hits:\t\t578068\n",
        "average hits/sequence:\t12.6730389793\n"
       ]
      },
      {
       "output_type": "stream",
       "stream": "stdout",
       "text": [
        "\n",
        "amphioxus\n",
        "total hits:\t\t355453\n",
        "average hits/sequence:\t12.6351841319\n",
        "\n",
        "genome\n",
        "total hits:\t\t226786\n",
        "average hits/sequence:\t1.25388268728\n"
       ]
      },
      {
       "output_type": "stream",
       "stream": "stdout",
       "text": [
        "\n"
       ]
      }
     ],
     "prompt_number": 14
    },
    {
     "cell_type": "code",
     "collapsed": false,
     "input": [
      "print \"Sequences with amphioxus and zebrafish hits:\"\n",
      "print len(amph_db.viewkeys() & zf_db.viewkeys()), \"sequences\"\n",
      "print len( set ( [petMar_pids[key] for key in amph_db.viewkeys() & zf_db.viewkeys()] ) ), \"partitions\"\n",
      "print \"...and genome support:\"\n",
      "print len( (amph_db.viewkeys() & zf_db.viewkeys()) & genome_db.viewkeys()), \"sequences\"\n",
      "print len( set ( [petMar_pids[key] for key in (amph_db.viewkeys() & zf_db.viewkeys()) & genome_db.viewkeys()] ) ), \"partitions\""
     ],
     "language": "python",
     "metadata": {},
     "outputs": [
      {
       "output_type": "stream",
       "stream": "stdout",
       "text": [
        "Sequences with amphioxus and zebrafish hits:\n",
        "26773 sequences\n",
        "21112"
       ]
      },
      {
       "output_type": "stream",
       "stream": "stdout",
       "text": [
        " partitions\n",
        "...and genome support:\n",
        "5087"
       ]
      },
      {
       "output_type": "stream",
       "stream": "stdout",
       "text": [
        " sequences\n",
        "2904"
       ]
      },
      {
       "output_type": "stream",
       "stream": "stdout",
       "text": [
        " partitions\n"
       ]
      }
     ],
     "prompt_number": 21
    },
    {
     "cell_type": "code",
     "collapsed": false,
     "input": [
      "print \"Sequences with only amphioxus hits:\"\n",
      "print len(amph_db.viewkeys() - zf_db.viewkeys()), \"sequences\"\n",
      "print len( set ( [petMar_pids[key] for key in amph_db.viewkeys() - zf_db.viewkeys()] ) ), \"partitions\"\n",
      "print \"...and genome support:\"\n",
      "print len( (amph_db.viewkeys() - zf_db.viewkeys()) & genome_db.viewkeys()), \"sequences\"\n",
      "print len( set ( [petMar_pids[key] for key in (amph_db.viewkeys() - zf_db.viewkeys()) & genome_db.viewkeys()] ) ), \"partitions\""
     ],
     "language": "python",
     "metadata": {},
     "outputs": [
      {
       "output_type": "stream",
       "stream": "stdout",
       "text": [
        "Sequences with only amphioxus hits:\n",
        "1359 sequences\n",
        "1217 partitions\n",
        "...and genome support:\n",
        "321"
       ]
      },
      {
       "output_type": "stream",
       "stream": "stdout",
       "text": [
        " sequences\n",
        "241 partitions\n"
       ]
      }
     ],
     "prompt_number": 23
    },
    {
     "cell_type": "code",
     "collapsed": false,
     "input": [
      "print \"Sequences with only zebrafish hits:\"\n",
      "print len(zf_db.viewkeys() - amph_db.viewkeys()), \"sequences\"\n",
      "print len( set ( [petMar_pids[key] for key in zf_db.viewkeys() - amph_db.viewkeys()] ) ), \"partitions\"\n",
      "print \"...and genome support:\"\n",
      "print len( (zf_db.viewkeys() - amph_db.viewkeys()) & genome_db.viewkeys()), \"sequences\"\n",
      "print len( set ( [petMar_pids[key] for key in (zf_db.viewkeys() - amph_db.viewkeys()) & genome_db.viewkeys()] ) ), \"partitions\""
     ],
     "language": "python",
     "metadata": {},
     "outputs": [
      {
       "output_type": "stream",
       "stream": "stdout",
       "text": [
        "Sequences with only zebrafish hits:\n",
        "11848 sequences\n",
        "10578 partitions\n",
        "...and genome support:"
       ]
      },
      {
       "output_type": "stream",
       "stream": "stdout",
       "text": [
        "\n",
        "1872 sequences\n",
        "1419"
       ]
      },
      {
       "output_type": "stream",
       "stream": "stdout",
       "text": [
        " partitions\n"
       ]
      }
     ],
     "prompt_number": 25
    },
    {
     "cell_type": "code",
     "collapsed": false,
     "input": [
      "print \"Sequences with only genome hits:\"\n",
      "print len(genome_db.viewkeys() - (zf_db.viewkeys() | amph_db.viewkeys() | mouse_db.viewkeys()) ), \"sequences\"\n",
      "print len( set ( [petMar_pids[key] for key in genome_db.viewkeys() - (zf_db.viewkeys() | amph_db.viewkeys() | mouse_db.viewkeys())] ) ), \"partitions\""
     ],
     "language": "python",
     "metadata": {},
     "outputs": [
      {
       "output_type": "stream",
       "stream": "stdout",
       "text": [
        "Sequences with only genome hits:\n",
        "173293"
       ]
      },
      {
       "output_type": "stream",
       "stream": "stdout",
       "text": [
        " sequences\n",
        "148688"
       ]
      },
      {
       "output_type": "stream",
       "stream": "stdout",
       "text": [
        " partitions\n"
       ]
      }
     ],
     "prompt_number": 27
    },
    {
     "cell_type": "code",
     "collapsed": false,
     "input": [
      "print \"Sequences with no hits at all:\"\n",
      "print len(petMar_pids.viewkeys() - (genome_db.viewkeys() | zf_db.viewkeys() | amph_db.viewkeys() | mouse_db.viewkeys()) ), \"sequences\"\n",
      "print len( set ( [petMar_pids[key] for key in petMar_pids.viewkeys() - (genome_db.viewkeys() | zf_db.viewkeys() | amph_db.viewkeys() | mouse_db.viewkeys())] ) ), \"partitions\""
     ],
     "language": "python",
     "metadata": {},
     "outputs": [
      {
       "output_type": "stream",
       "stream": "stdout",
       "text": [
        "Sequences with no hits at all:\n",
        "393485"
       ]
      },
      {
       "output_type": "stream",
       "stream": "stdout",
       "text": [
        " sequences\n",
        "154842"
       ]
      },
      {
       "output_type": "stream",
       "stream": "stdout",
       "text": [
        " partitions\n"
       ]
      }
     ],
     "prompt_number": 29
    },
    {
     "cell_type": "heading",
     "level": 2,
     "metadata": {},
     "source": [
      "Some random temp stuff used in partition exploration..."
     ]
    },
    {
     "cell_type": "code",
     "collapsed": false,
     "input": [
      "with open('p49340.fp', 'wb') as ofp:\n",
      "    mouse_ps.writeFastp(ofp, 49340)"
     ],
     "language": "python",
     "metadata": {},
     "outputs": [],
     "prompt_number": 26
    },
    {
     "cell_type": "code",
     "collapsed": true,
     "input": [
      "!mkdir partfiles\n",
      "for d in dist[0:10]:\n",
      "    with open('partfiles/p' + str(d[0]) + '.fp', 'wb') as ofp:\n",
      "        mouse_ps.writeFastp(ofp, d[0])"
     ],
     "language": "python",
     "metadata": {},
     "outputs": [
      {
       "output_type": "stream",
       "stream": "stdout",
       "text": [
        "[[19053    31]\n",
        " [19726    31]\n",
        " [29728    31]\n",
        " [38078    31]\n",
        " [41802    31]\n",
        " [48009    31]\n",
        " [  220    30]\n",
        " [  405    30]\n",
        " [ 1200    30]\n",
        " [ 1438    30]]"
       ]
      },
      {
       "output_type": "stream",
       "stream": "stdout",
       "text": [
        "\n"
       ]
      },
      {
       "output_type": "pyout",
       "prompt_number": 35,
       "text": [
        "(0.0, 100, 0.0, 160000.0)"
       ]
      },
      {
       "output_type": "display_data",
       "png": "[encoded data removed]"
      }
     ],
     "prompt_number": 35
    },
    {
     "cell_type": "code",
     "collapsed": false,
     "input": [
      "print genome_ps.partitions[16614]"
     ],
     "language": "python",
     "metadata": {},
     "outputs": [
      {
       "output_type": "stream",
       "stream": "stdout",
       "text": [
        "Partition 16614: 31 sequences, 1 hits\n"
       ]
      }
     ],
     "prompt_number": 82
    },
    {
     "cell_type": "code",
     "collapsed": false,
     "input": [
      "g = hb.GraphTools()"
     ],
     "language": "python",
     "metadata": {},
     "outputs": [],
     "prompt_number": 27
    },
    {
     "cell_type": "code",
     "collapsed": false,
     "input": [
      "g.graph_partition('p49340', mouse_ps.partitions[49340])"
     ],
     "language": "python",
     "metadata": {},
     "outputs": [
      {
       "output_type": "stream",
       "stream": "stdout",
       "text": [
        "Consuming and exploring...\n",
        "Generating graph..."
       ]
      },
      {
       "output_type": "stream",
       "stream": "stdout",
       "text": [
        "\n"
       ]
      }
     ],
     "prompt_number": 30
    },
    {
     "cell_type": "code",
     "collapsed": false,
     "input": [
      "with open('p4701.fp', 'wb') as ofp:\n",
      "    ps.writeFastp(ofp, 4701)"
     ],
     "language": "python",
     "metadata": {},
     "outputs": [],
     "prompt_number": 14
    },
    {
     "cell_type": "code",
     "collapsed": false,
     "input": [
      "for s in ps.partitions[4701]:\n",
      "    if s.numHits() > 0:\n",
      "        print s.hits"
     ],
     "language": "python",
     "metadata": {},
     "outputs": [
      {
       "output_type": "stream",
       "stream": "stdout",
       "text": [
        "[comp582050_c1_seq1--GL479150]\n"
       ]
      }
     ],
     "prompt_number": 15
    },
    {
     "cell_type": "code",
     "collapsed": false,
     "input": [
      "for name, pid, seq in hb.Partition.fastaPartitionIter('p701.fp'):\n",
      "    print name, pid, \"\\n\", seq"
     ],
     "language": "python",
     "metadata": {},
     "outputs": [
      {
       "output_type": "stream",
       "stream": "stdout",
       "text": [
        "comp79360_c0_seq1 701 \n",
        "GCTATCATTTGTGTGAGCCAGGTCGTTTCTGAAAAATAGCCACATAGCTCAGGGGGCTTTACCTGTTGATATAAAACTAGTAAACAGTATAGTTACCGAATTCTTAAACGTGCACATTAAGCACAAATATGAAAATCGGCAACGGTCACACAACGGCGTTCGGGCACAGCACTGGGGCCCACCACCATTCGGAATCCATGGTGACTTTGAGAGTTGCTCAATAACAACAACAACACTTGCTCCAAAGGTCTATGAGGCTAAAATGGGGTTTTTTTTTA\n",
        "comp349590_c0_seq1\t2 701 \n",
        "GGCGGTTGTTGTGGCTGTTGTGGATGTGTGTGTGTGGTTGTCTGTGTTGCTGTAGATGTTATTGTTGTTGTTGTTGCGTCTGTTTGTGTGTCTTTGTCTGTTTTATTGTTGTTGTTATTGTTCGAAGGGTTTGAGCGGCCGTGTCGATGCCAGCCGAAAGGCGTGCGTCTGATGAGTATCACGCGCGTGTTCGTCACGTTATAGCGCACGGAGAATATTTACCGAAAGTAAAGCGTTTTTTTTGTTGTTAATCCCCACGATCGTAACATAACGAGCGGCTCACAAAAATACACGCTCGTTCCGTTAAATGCTTTTACAGCTCCCCCGCAGTTGCTGTTTTTTTTTCTTTTTTTTTTC\n",
        "comp349590_c0_seq2\t2 701 \n",
        "ATCCATCACCCTGCCAGCCTTTTATGACACAACCGAGATGCTCAGCTGCGTTATCGGCAAATTGGACAAGTGCTTTATCGACAACTGAGATTCGAAAATACACGCGGCTGTGTATAGGGCCTAATGTATAGGAATAAATATATATTTCTACAAAAATGCCGCTTTCGTTTTTTTATTTTTCACACGCCGTGTTTTATTGTTGTTGTTATTATTCGCCGTGTTTTATTGTTGTTGTCATTGTTCGAAGGGTTTGAGCGGCCGTGTCGATGCCAGCCGAAAGGCGTGCGTCTGATGAGTATCACGCGCGTGTTCGTCACGTTATAGCGCACGGAGAATATTTACCGAAAGTAAAGCGTTTTTTTTGTTGTTAATCCCCACGATCGTAACATAACGAGCGGCTCACAAAAATACACGCTCGTTCCGTTAAATGCTTTTACAGCTCCCCCGCAGTTGCTGTTTTTTTTTCTTTTTTTTTTC\n",
        "comp548071_c0_seq1\t2 701 \n",
        "AGAGTACGCGGGGGAGGGAGGGGGTGTGAATGTAGATGTTGACTCCTGACAACGTAACGCCGCAGTCGTGTGGCCGATGGGATGCGTTAAAAAAGACTTTGTGTTTTTCTTTTTAAATGCGTGGCGCGAGATATATTTGTAGGCGTTGGTTCTCGTTACTTATTGAGTTAATTACGATGTTAGTTTCGTCATTATTTAAAGCAGCAACGTCCATTTCACAATTTTCCTCTCCACGAGTTCAAATCTGTTGCCCGAGTGTAGATTGCGTCTGCCTCCTTAAGGCAATTTGTTTTGTTATTGTTGTTGTTGTTGCGTCGCCTGTCTTGAGCCGTAATGAGCTCGGTGTGGTCGCTGTGCATCTTGCATCGCACGCTGACCGTGATCCCCTTACCGCGACGAATCATCCGCGGATGGAGACGGCTCCACGAGATTGCTCCGAGGTCAATGCCAATTTGAATTTCGCTAATTTGGCTCTCGTCAGGTGCATTGTCTCGCCTC\n",
        "comp588817_c0_seq2\t2 701 \n",
        "AAAAAAAAAAAGAAAAAAAAACAGCTAAAGGGTGTTAAATGTAAATAGATTTGCACTAACACGTCCAAAAAATTCTCACATTCGGCAATTGACAAGACATGGTAAGCTAACCTTAAATCAATACTTGTACATACTGCTTGATAGTCTTTATGTTCAAGTACAGTATATTTATTCTGTATCTTGCATGAAATGTAATTAAATGTGCAAGTAGATTGACTTTTTACATTTTGTAGAAGGTACTGTATACACGTGTACGGCTGTTTAAAATGTATTTAACACGATACACATTTCCTGAAGTTGTCACCGTTAACTAATTCAAAAAAATGCATATGTAAGGCGTAAATTCGTTATCTTACGAAATATTATACGCTAGAAAAAAGCTGCATATTGTATGCAAATCTTTAAAATCACCCATTACTAAATACACCATTTTAAAGCAAGATCTTTAATTCAATGTTTGAAACTACACGGACATAAAAAAGTGCCATTATGCGTTATACATCACTGCGTATAACACGCGTTAAGGCATGCTGTACTGTTACTACATTATTTGAAAAATAAAACGCTGGCATTTCCAGTCTTTGCGAAGAGGCGAGCACCAACGATTATACTGCAGTCGCTATGACTCATCCATCTGCACAGCCCTGCATGAACAAACCTAGCAACAAGCCTCATTTGCATAGCCAATCACAGCGAAAACAAGCAATGATGCGTCTACATGAGACGGCCAATCAAAACCGCCTATGCAAATACCCCCTTGTTGCTATGTGCCCTGGGTGCATTCTCGACGCCGATTGGCCCTTTGAGCTAAAGGGGCTTGCCAATGAATAGGCATTAAACGAAAGGGCTGGGTGACGGCGCGTCTCCACATCGGCCAATGGAGCCGCGCGCCCGGTCATGTGACGACTTTGGATACGGAAGCAGGTAGCAACAGCGGAGTCACGGGATGCCTGCAGCAAACACGTACGGCATGTACTGTATTCATTTCTGCGCGTTTCACAGCCAAACCAGTC\n",
        "comp598634_c0_seq1\t2 701 \n",
        "CAAAGGTGGCCGGGCGTGGTGCCACCACGCCCTCATGTGCAGTGCTGGCCATCACAAGTGCCTACTGATCGCGTGCTCTCCAAGAGCCCGTGCAGAGGCGATACGTAGACCTTCCCTTTGCTGTAGAACCACCAGCAGATCATTGAGGTTGCGCCTGCAGTAGAACAGGGTTAAGGTTTCACATTGAAACTCGAGACGGCGGCTTCAGAGATTTGCTCCCCATATGCTTGAATATTTGTTGTGCACTCCGGCTCCATCCATTATTATTACACGCTTAAAATTCACTCACCCTGGTCTGTTGTTTTTGTTATTGTTGTTGTTGTTGCCACATCGGGTGGCAGGGTGGCCCAGTGAGAACACTGGTGCCTCGATTCCGGACTCGGACACCTTTCTATTCTGAGTTCGTGTGTTCTCTCACTGTTCTGCAGAGAGTGAGTGTGAGTGAATGTGAGTCAGTGTGAGTGAGTCTGGGTGAGTGAGTGTGTGGGTCAGTGGGTGAGTGAGTAGGCGAGTGGGCCAATGGGTGGATGAGTGGGCGAGTGGGTGGGTGA\n",
        "comp598634_c0_seq2\t2 701 \n",
        "CAAAGGTGGCCGGGCGTGGTGCCACCACGCCCTCATGTGCAGTGCTGGCCATCACAAGTGCCTACTGATCGCGTGCTCTCCAAGAGCCCGTGCAGAGGCGATACGTAGACCTTCCCTTTGCTGTAGAACCACCAGCAGATCATTGAGGTTGCGCCTGCAGTAGAACAGGGTTAAGGTTTCACATTGAAACTCGAGATGGCGGCTTCCT\n"
       ]
      }
     ],
     "prompt_number": 28
    },
    {
     "cell_type": "code",
     "collapsed": false,
     "input": [],
     "language": "python",
     "metadata": {},
     "outputs": []
    }
   ],
   "metadata": {}
  }
 ]
}