{
 "metadata": {
  "name": "Lamprey mRNAseq 2013"
 },
 "nbformat": 3,
 "nbformat_minor": 0,
 "worksheets": [
  {
   "cells": [
    {
     "cell_type": "code",
     "collapsed": true,
     "input": [
      "%load_ext autoreload\n",
      "%autoreload 2\n",
      "import sys\n",
      "sys.path.append('/w/peasoup/scripts/')\n",
      "import hambone as hb\n",
      "import numpy as np\n",
      "import screed\n",
      "import khmer\n"
     ],
     "language": "python",
     "metadata": {},
     "outputs": [],
     "prompt_number": 3
    },
    {
     "cell_type": "markdown",
     "metadata": {},
     "source": [
      "Get Necessary Data"
     ]
    },
    {
     "cell_type": "code",
     "collapsed": false,
     "input": [
      "%cd db"
     ],
     "language": "python",
     "metadata": {},
     "outputs": [
      {
       "output_type": "stream",
       "stream": "stdout",
       "text": [
        "/w/2013-lamprey/db"
       ]
      },
      {
       "output_type": "stream",
       "stream": "stdout",
       "text": [
        "\n"
       ]
      }
     ],
     "prompt_number": 53
    },
    {
     "cell_type": "code",
     "collapsed": true,
     "input": [
      "!wget -nc http://hgdownload.soe.ucsc.edu/goldenPath/petMar2/bigZips/petMar2.fa.gz;"
     ],
     "language": "python",
     "metadata": {},
     "outputs": [],
     "prompt_number": 32
    },
    {
     "cell_type": "code",
     "collapsed": false,
     "input": [
      "!wget -nc -q http://hgdownload.soe.ucsc.edu/goldenPath/petMar2/bigZips/petMar2.fa.out.gz"
     ],
     "language": "python",
     "metadata": {},
     "outputs": [],
     "prompt_number": 54
    },
    {
     "cell_type": "code",
     "collapsed": false,
     "input": [
      "!ls && gunzip petMar2.fa.gz"
     ],
     "language": "python",
     "metadata": {},
     "outputs": [
      {
       "output_type": "stream",
       "stream": "stdout",
       "text": [
        "Amphioxus.uniprot.fa  Danio_rerio.Zv9.71.pep.all.fa.gz\tMus_musculus.GRCm38.71.pep.all.fa.gz  Myxinidae.uniprot.fa  petMar2.fa.gz"
       ]
      }
     ],
     "prompt_number": 33
    },
    {
     "cell_type": "code",
     "collapsed": false,
     "input": [
      "!wget -nc http://hgdownload.soe.ucsc.edu/goldenPath/petMar2/bigZips/petMar2.fa.masked.gz;\n",
      "!gunzip petMar2.fa.masked.gz"
     ],
     "language": "python",
     "metadata": {},
     "outputs": [
      {
       "output_type": "stream",
       "stream": "stdout",
       "text": [
        "--2013-06-27 12:14:18--  http://hgdownload.soe.ucsc.edu/goldenPath/petMar2/bigZips/petMar2.fa.masked.gz\n",
        "Resolving hgdownload.soe.ucsc.edu (hgdownload.soe.ucsc.edu)... 128.114.119.163\n",
        "Connecting to hgdownload.soe.ucsc.edu (hgdownload.soe.ucsc.edu)|128.114.119.163|:80... "
       ]
      },
      {
       "output_type": "stream",
       "stream": "stdout",
       "text": [
        "connected.\n",
        "HTTP request sent, awaiting response... "
       ]
      },
      {
       "output_type": "stream",
       "stream": "stdout",
       "text": [
        "200 OK\n",
        "Length: 140390098 (134M) [application/x-gzip]\n",
        "Saving to: `petMar2.fa.masked.gz'\n",
        "\n",
        "\n",
        " 0% [                                       ] 0           --.-K/s              "
       ]
      },
      {
       "output_type": "stream",
       "stream": "stdout",
       "text": [
        "\n",
        " 0% [                                       ] 77,808       349K/s              "
       ]
      },
      {
       "output_type": "stream",
       "stream": "stdout",
       "text": [
        "\n",
        " 0% [                                       ] 202,336      447K/s              "
       ]
      },
      {
       "output_type": "stream",
       "stream": "stdout",
       "text": [
        "\n",
        " 0% [                                       ] 548,408      790K/s              "
       ]
      },
      {
       "output_type": "stream",
       "stream": "stdout",
       "text": [
        "\n",
        " 0% [                                       ] 1,127,608   1.21M/s              "
       ]
      },
      {
       "output_type": "stream",
       "stream": "stdout",
       "text": [
        "\n",
        " 1% [                                       ] 2,384,472   2.09M/s              "
       ]
      },
      {
       "output_type": "stream",
       "stream": "stdout",
       "text": [
        "\n",
        " 2% [                                       ] 3,343,048   2.44M/s              "
       ]
      },
      {
       "output_type": "stream",
       "stream": "stdout",
       "text": [
        "\n",
        " 3% [>                                      ] 5,161,736   3.27M/s              "
       ]
      },
      {
       "output_type": "stream",
       "stream": "stdout",
       "text": [
        "\n",
        " 4% [>                                      ] 6,228,912   3.47M/s              "
       ]
      },
      {
       "output_type": "stream",
       "stream": "stdout",
       "text": [
        "\n",
        " 5% [=>                                     ] 7,401,792   3.69M/s              "
       ]
      },
      {
       "output_type": "stream",
       "stream": "stdout",
       "text": [
        "\n",
        " 6% [=>                                     ] 8,561,640   3.87M/s              "
       ]
      },
      {
       "output_type": "stream",
       "stream": "stdout",
       "text": [
        "\n",
        " 6% [=>                                     ] 9,728,728   4.01M/s              "
       ]
      },
      {
       "output_type": "stream",
       "stream": "stdout",
       "text": [
        "\n",
        " 7% [==>                                    ] 10,956,632  4.16M/s              "
       ]
      },
      {
       "output_type": "stream",
       "stream": "stdout",
       "text": [
        "\n",
        " 8% [==>                                    ] 11,753,984  4.12M/s              "
       ]
      },
      {
       "output_type": "stream",
       "stream": "stdout",
       "text": [
        "\n",
        " 9% [==>                                    ] 13,254,608  4.32M/s              "
       ]
      },
      {
       "output_type": "stream",
       "stream": "stdout",
       "text": [
        "\n",
        "10% [==>                                    ] 14,127,752  4.31M/s  eta 28s     "
       ]
      },
      {
       "output_type": "stream",
       "stream": "stdout",
       "text": [
        "\n",
        "10% [===>                                   ] 15,006,688  4.30M/s  eta 28s     "
       ]
      },
      {
       "output_type": "stream",
       "stream": "stdout",
       "text": [
        "\n",
        "11% [===>                                   ] 15,884,176  4.74M/s  eta 28s     "
       ]
      },
      {
       "output_type": "stream",
       "stream": "stdout",
       "text": [
        "\n",
        "11% [===>                                   ] 16,783,384  4.91M/s  eta 28s     "
       ]
      },
      {
       "output_type": "stream",
       "stream": "stdout",
       "text": [
        "\n",
        "12% [===>                                   ] 17,757,888  5.05M/s  eta 28s     "
       ]
      },
      {
       "output_type": "stream",
       "stream": "stdout",
       "text": [
        "\n",
        "13% [====>                                  ] 18,785,968  5.15M/s  eta 27s     "
       ]
      },
      {
       "output_type": "stream",
       "stream": "stdout",
       "text": [
        "\n",
        "14% [====>                                  ] 19,828,528  5.09M/s  eta 27s     "
       ]
      },
      {
       "output_type": "stream",
       "stream": "stdout",
       "text": [
        "\n",
        "14% [====>                                  ] 20,827,648  5.00M/s  eta 27s     "
       ]
      },
      {
       "output_type": "stream",
       "stream": "stdout",
       "text": [
        "\n",
        "15% [=====>                                 ] 21,845,592  4.93M/s  eta 27s     "
       ]
      },
      {
       "output_type": "stream",
       "stream": "stdout",
       "text": [
        "\n",
        "16% [=====>                                 ] 22,843,264  4.90M/s  eta 27s     "
       ]
      },
      {
       "output_type": "stream",
       "stream": "stdout",
       "text": [
        "\n",
        "17% [=====>                                 ] 23,868,448  4.87M/s  eta 25s     "
       ]
      },
      {
       "output_type": "stream",
       "stream": "stdout",
       "text": [
        "\n",
        "17% [=====>                                 ] 24,973,272  4.83M/s  eta 25s     "
       ]
      },
      {
       "output_type": "stream",
       "stream": "stdout",
       "text": [
        "\n",
        "18% [======>                                ] 25,923,160  4.73M/s  eta 25s     "
       ]
      },
      {
       "output_type": "stream",
       "stream": "stdout",
       "text": [
        "\n",
        "19% [======>                                ] 26,996,128  4.72M/s  eta 25s     "
       ]
      },
      {
       "output_type": "stream",
       "stream": "stdout",
       "text": [
        "\n",
        "19% [======>                                ] 28,021,312  4.67M/s  eta 25s     "
       ]
      },
      {
       "output_type": "stream",
       "stream": "stdout",
       "text": [
        "\n",
        "20% [======>                                ] 28,765,584  4.60M/s  eta 24s     "
       ]
      },
      {
       "output_type": "stream",
       "stream": "stdout",
       "text": [
        "\n",
        "21% [=======>                               ] 29,590,944  4.57M/s  eta 24s     "
       ]
      },
      {
       "output_type": "stream",
       "stream": "stdout",
       "text": [
        "\n",
        "21% [=======>                               ] 30,367,072  4.52M/s  eta 24s     "
       ]
      },
      {
       "output_type": "stream",
       "stream": "stdout",
       "text": [
        "\n",
        "22% [=======>                               ] 31,102,656  4.50M/s  eta 24s     "
       ]
      },
      {
       "output_type": "stream",
       "stream": "stdout",
       "text": [
        "\n",
        "22% [=======>                               ] 31,893,264  4.45M/s  eta 24s     "
       ]
      },
      {
       "output_type": "stream",
       "stream": "stdout",
       "text": [
        "\n",
        "23% [========>                              ] 32,694,008  4.38M/s  eta 24s     "
       ]
      },
      {
       "output_type": "stream",
       "stream": "stdout",
       "text": [
        "\n",
        "23% [========>                              ] 33,515,024  4.31M/s  eta 24s     "
       ]
      },
      {
       "output_type": "stream",
       "stream": "stdout",
       "text": [
        "\n",
        "24% [========>                              ] 34,359,208  4.27M/s  eta 24s     "
       ]
      },
      {
       "output_type": "stream",
       "stream": "stdout",
       "text": [
        "\n",
        "25% [========>                              ] 35,180,224  4.19M/s  eta 24s     "
       ]
      },
      {
       "output_type": "stream",
       "stream": "stdout",
       "text": [
        "\n",
        "25% [=========>                             ] 36,070,744  4.17M/s  eta 24s     "
       ]
      },
      {
       "output_type": "stream",
       "stream": "stdout",
       "text": [
        "\n",
        "26% [=========>                             ] 36,710,760  4.08M/s  eta 23s     "
       ]
      },
      {
       "output_type": "stream",
       "stream": "stdout",
       "text": [
        "\n",
        "26% [=========>                             ] 37,356,568  3.94M/s  eta 23s     "
       ]
      },
      {
       "output_type": "stream",
       "stream": "stdout",
       "text": [
        "\n",
        "27% [=========>                             ] 38,013,960  3.82M/s  eta 23s     "
       ]
      },
      {
       "output_type": "stream",
       "stream": "stdout",
       "text": [
        "\n",
        "27% [=========>                             ] 38,646,736  3.69M/s  eta 23s     "
       ]
      },
      {
       "output_type": "stream",
       "stream": "stdout",
       "text": [
        "\n",
        "28% [=========>                             ] 39,311,368  3.62M/s  eta 23s     "
       ]
      },
      {
       "output_type": "stream",
       "stream": "stdout",
       "text": [
        "\n",
        "28% [==========>                            ] 39,971,656  3.52M/s  eta 23s     "
       ]
      },
      {
       "output_type": "stream",
       "stream": "stdout",
       "text": [
        "\n",
        "28% [==========>                            ] 40,644,976  3.49M/s  eta 23s     "
       ]
      },
      {
       "output_type": "stream",
       "stream": "stdout",
       "text": [
        "\n",
        "29% [==========>                            ] 41,331,328  3.47M/s  eta 23s     "
       ]
      },
      {
       "output_type": "stream",
       "stream": "stdout",
       "text": [
        "\n",
        "29% [==========>                            ] 42,055,328  3.46M/s  eta 23s     "
       ]
      },
      {
       "output_type": "stream",
       "stream": "stdout",
       "text": [
        "\n",
        "30% [==========>                            ] 42,827,112  3.44M/s  eta 23s     "
       ]
      },
      {
       "output_type": "stream",
       "stream": "stdout",
       "text": [
        "\n",
        "30% [===========>                           ] 43,497,536  3.42M/s  eta 23s     "
       ]
      },
      {
       "output_type": "stream",
       "stream": "stdout",
       "text": [
        "\n",
        "31% [===========>                           ] 44,250,496  3.43M/s  eta 23s     "
       ]
      },
      {
       "output_type": "stream",
       "stream": "stdout",
       "text": [
        "\n",
        "32% [===========>                           ] 44,983,184  3.37M/s  eta 23s     "
       ]
      },
      {
       "output_type": "stream",
       "stream": "stdout",
       "text": [
        "\n",
        "32% [===========>                           ] 45,714,424  3.35M/s  eta 23s     "
       ]
      },
      {
       "output_type": "stream",
       "stream": "stdout",
       "text": [
        "\n",
        "33% [===========>                           ] 46,432,632  3.32M/s  eta 23s     "
       ]
      },
      {
       "output_type": "stream",
       "stream": "stdout",
       "text": [
        "\n",
        "33% [============>                          ] 47,118,984  3.28M/s  eta 22s     "
       ]
      },
      {
       "output_type": "stream",
       "stream": "stdout",
       "text": [
        "\n",
        "33% [============>                          ] 47,595,376  3.21M/s  eta 22s     "
       ]
      },
      {
       "output_type": "stream",
       "stream": "stdout",
       "text": [
        "\n",
        "34% [============>                          ] 48,107,968  3.18M/s  eta 22s     "
       ]
      },
      {
       "output_type": "stream",
       "stream": "stdout",
       "text": [
        "\n",
        "34% [============>                          ] 48,694,408  3.16M/s  eta 22s     "
       ]
      },
      {
       "output_type": "stream",
       "stream": "stdout",
       "text": [
        "\n",
        "35% [============>                          ] 49,150,528  3.08M/s  eta 22s     "
       ]
      },
      {
       "output_type": "stream",
       "stream": "stdout",
       "text": [
        "\n",
        "35% [============>                          ] 49,734,072  3.06M/s  eta 22s     "
       ]
      },
      {
       "output_type": "stream",
       "stream": "stdout",
       "text": [
        "\n",
        "35% [============>                          ] 50,258,248  3.01M/s  eta 22s     "
       ]
      },
      {
       "output_type": "stream",
       "stream": "stdout",
       "text": [
        "\n",
        "36% [=============>                         ] 50,786,768  2.94M/s  eta 22s     "
       ]
      },
      {
       "output_type": "stream",
       "stream": "stdout",
       "text": [
        "\n",
        "36% [=============>                         ] 51,383,344  2.92M/s  eta 22s     "
       ]
      },
      {
       "output_type": "stream",
       "stream": "stdout",
       "text": [
        "\n",
        "37% [=============>                         ] 52,017,568  2.90M/s  eta 22s     "
       ]
      },
      {
       "output_type": "stream",
       "stream": "stdout",
       "text": [
        "\n",
        "37% [=============>                         ] 52,614,144  2.85M/s  eta 22s     "
       ]
      },
      {
       "output_type": "stream",
       "stream": "stdout",
       "text": [
        "\n",
        "37% [=============>                         ] 53,220,856  2.79M/s  eta 22s     "
       ]
      },
      {
       "output_type": "stream",
       "stream": "stdout",
       "text": [
        "\n",
        "38% [=============>                         ] 53,842,048  2.77M/s  eta 22s     "
       ]
      },
      {
       "output_type": "stream",
       "stream": "stdout",
       "text": [
        "\n",
        "38% [==============>                        ] 54,428,488  2.72M/s  eta 22s     "
       ]
      },
      {
       "output_type": "stream",
       "stream": "stdout",
       "text": [
        "\n",
        "39% [==============>                        ] 55,030,856  2.68M/s  eta 22s     "
       ]
      },
      {
       "output_type": "stream",
       "stream": "stdout",
       "text": [
        "\n",
        "39% [==============>                        ] 55,620,192  2.64M/s  eta 22s     "
       ]
      },
      {
       "output_type": "stream",
       "stream": "stdout",
       "text": [
        "\n",
        "40% [==============>                        ] 56,203,736  2.61M/s  eta 22s     "
       ]
      },
      {
       "output_type": "stream",
       "stream": "stdout",
       "text": [
        "\n",
        "40% [==============>                        ] 56,794,520  2.65M/s  eta 22s     "
       ]
      },
      {
       "output_type": "stream",
       "stream": "stdout",
       "text": [
        "\n",
        "40% [==============>                        ] 57,379,512  2.66M/s  eta 22s     "
       ]
      },
      {
       "output_type": "stream",
       "stream": "stdout",
       "text": [
        "\n",
        "41% [===============>                       ] 57,986,224  2.71M/s  eta 22s     "
       ]
      },
      {
       "output_type": "stream",
       "stream": "stdout",
       "text": [
        "\n",
        "41% [===============>                       ] 58,553,840  2.71M/s  eta 21s     "
       ]
      },
      {
       "output_type": "stream",
       "stream": "stdout",
       "text": [
        "\n",
        "42% [===============>                       ] 59,138,832  2.76M/s  eta 21s     "
       ]
      },
      {
       "output_type": "stream",
       "stream": "stdout",
       "text": [
        "\n",
        "42% [===============>                       ] 59,726,720  2.77M/s  eta 21s     "
       ]
      },
      {
       "output_type": "stream",
       "stream": "stdout",
       "text": [
        "\n",
        "42% [===============>                       ] 60,336,328  2.78M/s  eta 21s     "
       ]
      },
      {
       "output_type": "stream",
       "stream": "stdout",
       "text": [
        "\n",
        "43% [===============>                       ] 60,738,872  2.71M/s  eta 21s     "
       ]
      },
      {
       "output_type": "stream",
       "stream": "stdout",
       "text": [
        "\n",
        "43% [===============>                       ] 61,139,968  2.63M/s  eta 21s     "
       ]
      },
      {
       "output_type": "stream",
       "stream": "stdout",
       "text": [
        "\n",
        "43% [================>                      ] 61,538,168  2.59M/s  eta 21s     "
       ]
      },
      {
       "output_type": "stream",
       "stream": "stdout",
       "text": [
        "\n",
        "44% [================>                      ] 62,052,208  2.56M/s  eta 21s     "
       ]
      },
      {
       "output_type": "stream",
       "stream": "stdout",
       "text": [
        "\n",
        "44% [================>                      ] 62,479,368  2.50M/s  eta 21s     "
       ]
      },
      {
       "output_type": "stream",
       "stream": "stdout",
       "text": [
        "\n",
        "44% [================>                      ] 62,925,352  2.46M/s  eta 21s     "
       ]
      },
      {
       "output_type": "stream",
       "stream": "stdout",
       "text": [
        "\n",
        "45% [================>                      ] 63,384,368  2.41M/s  eta 21s     "
       ]
      },
      {
       "output_type": "stream",
       "stream": "stdout",
       "text": [
        "\n",
        "45% [================>                      ] 63,833,248  2.37M/s  eta 21s     "
       ]
      },
      {
       "output_type": "stream",
       "stream": "stdout",
       "text": [
        "\n",
        "45% [================>                      ] 64,267,648  2.34M/s  eta 21s     "
       ]
      },
      {
       "output_type": "stream",
       "stream": "stdout",
       "text": [
        "\n",
        "46% [================>                      ] 64,723,768  2.28M/s  eta 21s     "
       ]
      },
      {
       "output_type": "stream",
       "stream": "stdout",
       "text": [
        "\n",
        "46% [=================>                     ] 65,205,952  2.25M/s  eta 21s     "
       ]
      },
      {
       "output_type": "stream",
       "stream": "stdout",
       "text": [
        "\n",
        "46% [=================>                     ] 65,662,072  2.18M/s  eta 21s     "
       ]
      },
      {
       "output_type": "stream",
       "stream": "stdout",
       "text": [
        "\n",
        "47% [=================>                     ] 66,121,088  2.15M/s  eta 21s     "
       ]
      },
      {
       "output_type": "stream",
       "stream": "stdout",
       "text": [
        "\n",
        "47% [=================>                     ] 66,584,448  2.13M/s  eta 21s     "
       ]
      },
      {
       "output_type": "stream",
       "stream": "stdout",
       "text": [
        "\n",
        "47% [=================>                     ] 67,033,328  2.06M/s  eta 21s     "
       ]
      },
      {
       "output_type": "stream",
       "stream": "stdout",
       "text": [
        "\n",
        "48% [=================>                     ] 67,532,888  2.08M/s  eta 21s     "
       ]
      },
      {
       "output_type": "stream",
       "stream": "stdout",
       "text": [
        "\n",
        "48% [=================>                     ] 67,942,672  2.08M/s  eta 21s     "
       ]
      },
      {
       "output_type": "stream",
       "stream": "stdout",
       "text": [
        "\n",
        "48% [=================>                     ] 68,351,008  2.09M/s  eta 21s     "
       ]
      },
      {
       "output_type": "stream",
       "stream": "stdout",
       "text": [
        "\n",
        "48% [==================>                    ] 68,679,208  2.01M/s  eta 21s     "
       ]
      },
      {
       "output_type": "stream",
       "stream": "stdout",
       "text": [
        "\n",
        "49% [==================>                    ] 69,060,528  1.99M/s  eta 21s     "
       ]
      },
      {
       "output_type": "stream",
       "stream": "stdout",
       "text": [
        "\n",
        "49% [==================>                    ] 69,284,968  1.91M/s  eta 21s     "
       ]
      },
      {
       "output_type": "stream",
       "stream": "stdout",
       "text": [
        "\n",
        "49% [==================>                    ] 69,545,608  1.87M/s  eta 21s     "
       ]
      },
      {
       "output_type": "stream",
       "stream": "stdout",
       "text": [
        "\n",
        "49% [==================>                    ] 69,806,248  1.80M/s  eta 21s     "
       ]
      },
      {
       "output_type": "stream",
       "stream": "stdout",
       "text": [
        "\n",
        "49% [==================>                    ] 70,065,440  1.76M/s  eta 21s     "
       ]
      },
      {
       "output_type": "stream",
       "stream": "stdout",
       "text": [
        "\n",
        "50% [==================>                    ] 70,323,184  1.70M/s  eta 21s     "
       ]
      },
      {
       "output_type": "stream",
       "stream": "stdout",
       "text": [
        "\n",
        "50% [==================>                    ] 70,589,616  1.65M/s  eta 21s     "
       ]
      },
      {
       "output_type": "stream",
       "stream": "stdout",
       "text": [
        "\n",
        "50% [==================>                    ] 70,913,968  1.59M/s  eta 21s     "
       ]
      },
      {
       "output_type": "stream",
       "stream": "stdout",
       "text": [
        "\n",
        "50% [==================>                    ] 71,239,768  1.55M/s  eta 21s     "
       ]
      },
      {
       "output_type": "stream",
       "stream": "stdout",
       "text": [
        "\n",
        "50% [==================>                    ] 71,565,568  1.50M/s  eta 21s     "
       ]
      },
      {
       "output_type": "stream",
       "stream": "stdout",
       "text": [
        "\n",
        "51% [==================>                    ] 71,869,648  1.47M/s  eta 21s     "
       ]
      },
      {
       "output_type": "stream",
       "stream": "stdout",
       "text": [
        "\n",
        "51% [===================>                   ] 72,191,104  1.44M/s  eta 21s     "
       ]
      },
      {
       "output_type": "stream",
       "stream": "stdout",
       "text": [
        "\n",
        "51% [===================>                   ] 72,477,808  1.38M/s  eta 21s     "
       ]
      },
      {
       "output_type": "stream",
       "stream": "stdout",
       "text": [
        "\n",
        "51% [===================>                   ] 72,768,856  1.38M/s  eta 21s     "
       ]
      },
      {
       "output_type": "stream",
       "stream": "stdout",
       "text": [
        "\n",
        "52% [===================>                   ] 73,083,072  1.33M/s  eta 21s     "
       ]
      },
      {
       "output_type": "stream",
       "stream": "stdout",
       "text": [
        "\n",
        "52% [===================>                   ] 73,390,048  1.32M/s  eta 21s     "
       ]
      },
      {
       "output_type": "stream",
       "stream": "stdout",
       "text": [
        "\n",
        "52% [===================>                   ] 73,665,168  1.31M/s  eta 21s     "
       ]
      },
      {
       "output_type": "stream",
       "stream": "stdout",
       "text": [
        "\n",
        "52% [===================>                   ] 73,989,520  1.32M/s  eta 21s     "
       ]
      },
      {
       "output_type": "stream",
       "stream": "stdout",
       "text": [
        "\n",
        "52% [===================>                   ] 74,303,736  1.33M/s  eta 21s     "
       ]
      },
      {
       "output_type": "stream",
       "stream": "stdout",
       "text": [
        "\n",
        "53% [===================>                   ] 74,588,992  1.34M/s  eta 21s     "
       ]
      },
      {
       "output_type": "stream",
       "stream": "stdout",
       "text": [
        "\n",
        "53% [===================>                   ] 74,901,760  1.35M/s  eta 21s     "
       ]
      },
      {
       "output_type": "stream",
       "stream": "stdout",
       "text": [
        "\n",
        "53% [===================>                   ] 75,215,976  1.37M/s  eta 21s     "
       ]
      },
      {
       "output_type": "stream",
       "stream": "stdout",
       "text": [
        "\n",
        "53% [===================>                   ] 75,524,400  1.38M/s  eta 21s     "
       ]
      },
      {
       "output_type": "stream",
       "stream": "stdout",
       "text": [
        "\n",
        "54% [====================>                  ] 75,825,584  1.40M/s  eta 21s     "
       ]
      },
      {
       "output_type": "stream",
       "stream": "stdout",
       "text": [
        "\n",
        "54% [====================>                  ] 76,126,768  1.39M/s  eta 21s     "
       ]
      },
      {
       "output_type": "stream",
       "stream": "stdout",
       "text": [
        "\n",
        "54% [====================>                  ] 76,452,568  1.40M/s  eta 21s     "
       ]
      },
      {
       "output_type": "stream",
       "stream": "stdout",
       "text": [
        "\n",
        "54% [====================>                  ] 76,678,456  1.35M/s  eta 21s     "
       ]
      },
      {
       "output_type": "stream",
       "stream": "stdout",
       "text": [
        "\n",
        "54% [====================>                  ] 76,921,720  1.34M/s  eta 21s     "
       ]
      },
      {
       "output_type": "stream",
       "stream": "stdout",
       "text": [
        "\n",
        "54% [====================>                  ] 77,091,136  1.29M/s  eta 21s     "
       ]
      },
      {
       "output_type": "stream",
       "stream": "stdout",
       "text": [
        "\n",
        "55% [====================>                  ] 77,283,720  1.26M/s  eta 21s     "
       ]
      },
      {
       "output_type": "stream",
       "stream": "stdout",
       "text": [
        "\n",
        "55% [====================>                  ] 77,448,792  1.21M/s  eta 21s     "
       ]
      },
      {
       "output_type": "stream",
       "stream": "stdout",
       "text": [
        "\n",
        "55% [====================>                  ] 77,631,240  1.17M/s  eta 21s     "
       ]
      },
      {
       "output_type": "stream",
       "stream": "stdout",
       "text": [
        "\n",
        "55% [====================>                  ] 77,799,208  1.13M/s  eta 22s     "
       ]
      },
      {
       "output_type": "stream",
       "stream": "stdout",
       "text": [
        "\n",
        "55% [====================>                  ] 77,980,208  1.10M/s  eta 22s     "
       ]
      },
      {
       "output_type": "stream",
       "stream": "stdout",
       "text": [
        "\n",
        "55% [====================>                  ] 78,148,176  1.04M/s  eta 22s     "
       ]
      },
      {
       "output_type": "stream",
       "stream": "stdout",
       "text": [
        "\n",
        "55% [====================>                  ] 78,342,208  1.01M/s  eta 22s     "
       ]
      },
      {
       "output_type": "stream",
       "stream": "stdout",
       "text": [
        "\n",
        "55% [====================>                  ] 78,505,832   993K/s  eta 22s     "
       ]
      },
      {
       "output_type": "stream",
       "stream": "stdout",
       "text": [
        "\n",
        "56% [====================>                  ] 78,689,728   941K/s  eta 22s     "
       ]
      },
      {
       "output_type": "stream",
       "stream": "stdout",
       "text": [
        "\n",
        "56% [====================>                  ] 78,930,096   911K/s  eta 22s     "
       ]
      },
      {
       "output_type": "stream",
       "stream": "stdout",
       "text": [
        "\n",
        "56% [====================>                  ] 79,145,848   886K/s  eta 22s     "
       ]
      },
      {
       "output_type": "stream",
       "stream": "stdout",
       "text": [
        "\n",
        "56% [=====================>                 ] 79,299,336   818K/s  eta 22s     "
       ]
      },
      {
       "output_type": "stream",
       "stream": "stdout",
       "text": [
        "\n",
        "56% [=====================>                 ] 79,506,400   792K/s  eta 22s     "
       ]
      },
      {
       "output_type": "stream",
       "stream": "stdout",
       "text": [
        "\n",
        "56% [=====================>                 ] 79,674,368   787K/s  eta 22s     "
       ]
      },
      {
       "output_type": "stream",
       "stream": "stdout",
       "text": [
        "\n",
        "56% [=====================>                 ] 79,906,048   800K/s  eta 22s     "
       ]
      },
      {
       "output_type": "stream",
       "stream": "stdout",
       "text": [
        "\n",
        "57% [=====================>                 ] 80,076,912   793K/s  eta 22s     "
       ]
      },
      {
       "output_type": "stream",
       "stream": "stdout",
       "text": [
        "\n",
        "57% [=====================>                 ] 80,256,464   795K/s  eta 22s     "
       ]
      },
      {
       "output_type": "stream",
       "stream": "stdout",
       "text": [
        "\n",
        "57% [=====================>                 ] 80,428,776   798K/s  eta 22s     "
       ]
      },
      {
       "output_type": "stream",
       "stream": "stdout",
       "text": [
        "\n",
        "57% [=====================>                 ] 80,585,160   794K/s  eta 23s     "
       ]
      },
      {
       "output_type": "stream",
       "stream": "stdout",
       "text": [
        "\n",
        "57% [=====================>                 ] 80,805,256   812K/s  eta 23s     "
       ]
      },
      {
       "output_type": "stream",
       "stream": "stdout",
       "text": [
        "\n",
        "57% [=====================>                 ] 80,973,224   807K/s  eta 23s     "
       ]
      },
      {
       "output_type": "stream",
       "stream": "stdout",
       "text": [
        "\n",
        "57% [=====================>                 ] 81,209,248   815K/s  eta 23s     "
       ]
      },
      {
       "output_type": "stream",
       "stream": "stdout",
       "text": [
        "\n",
        "57% [=====================>                 ] 81,400,384   824K/s  eta 23s     "
       ]
      },
      {
       "output_type": "stream",
       "stream": "stdout",
       "text": [
        "\n",
        "58% [=====================>                 ] 81,608,896   833K/s  eta 23s     "
       ]
      },
      {
       "output_type": "stream",
       "stream": "stdout",
       "text": [
        "\n",
        "58% [=====================>                 ] 81,839,128   852K/s  eta 23s     "
       ]
      },
      {
       "output_type": "stream",
       "stream": "stdout",
       "text": [
        "\n",
        "58% [=====================>                 ] 82,092,528   871K/s  eta 23s     "
       ]
      },
      {
       "output_type": "stream",
       "stream": "stdout",
       "text": [
        "\n",
        "58% [=====================>                 ] 82,316,968   875K/s  eta 23s     "
       ]
      },
      {
       "output_type": "stream",
       "stream": "stdout",
       "text": [
        "\n",
        "58% [=====================>                 ] 82,577,608   897K/s  eta 23s     "
       ]
      },
      {
       "output_type": "stream",
       "stream": "stdout",
       "text": [
        "\n",
        "58% [======================>                ] 82,800,600   913K/s  eta 23s     "
       ]
      },
      {
       "output_type": "stream",
       "stream": "stdout",
       "text": [
        "\n",
        "59% [======================>                ] 83,100,336   936K/s  eta 23s     "
       ]
      },
      {
       "output_type": "stream",
       "stream": "stdout",
       "text": [
        "\n",
        "59% [======================>                ] 83,368,216   958K/s  eta 23s     "
       ]
      },
      {
       "output_type": "stream",
       "stream": "stdout",
       "text": [
        "\n",
        "59% [======================>                ] 83,728,768  1008K/s  eta 23s     "
       ]
      },
      {
       "output_type": "stream",
       "stream": "stdout",
       "text": [
        "\n",
        "59% [======================>                ] 84,011,128  1.01M/s  eta 23s     "
       ]
      },
      {
       "output_type": "stream",
       "stream": "stdout",
       "text": [
        "\n",
        "60% [======================>                ] 84,303,624  1.06M/s  eta 22s     "
       ]
      },
      {
       "output_type": "stream",
       "stream": "stdout",
       "text": [
        "\n",
        "60% [======================>                ] 84,475,440  1.02M/s  eta 22s     "
       ]
      },
      {
       "output_type": "stream",
       "stream": "stdout",
       "text": [
        "\n",
        "60% [======================>                ] 85,155,048  1.13M/s  eta 22s     "
       ]
      },
      {
       "output_type": "stream",
       "stream": "stdout",
       "text": [
        "\n",
        "60% [======================>                ] 85,574,968  1.20M/s  eta 22s     "
       ]
      },
      {
       "output_type": "stream",
       "stream": "stdout",
       "text": [
        "\n",
        "61% [======================>                ] 86,054,256  1.27M/s  eta 22s     "
       ]
      },
      {
       "output_type": "stream",
       "stream": "stdout",
       "text": [
        "\n",
        "61% [=======================>               ] 86,511,824  1.35M/s  eta 22s     "
       ]
      },
      {
       "output_type": "stream",
       "stream": "stdout",
       "text": [
        "\n",
        "61% [=======================>               ] 86,843,416  1.38M/s  eta 22s     "
       ]
      },
      {
       "output_type": "stream",
       "stream": "stdout",
       "text": [
        "\n",
        "62% [=======================>               ] 87,212,656  1.43M/s  eta 22s     "
       ]
      },
      {
       "output_type": "stream",
       "stream": "stdout",
       "text": [
        "\n",
        "62% [=======================>               ] 87,594,928  1.46M/s  eta 22s     "
       ]
      },
      {
       "output_type": "stream",
       "stream": "stdout",
       "text": [
        "\n",
        "62% [=======================>               ] 87,973,808  1.46M/s  eta 22s     "
       ]
      },
      {
       "output_type": "stream",
       "stream": "stdout",
       "text": [
        "\n",
        "62% [=======================>               ] 88,347,888  1.52M/s  eta 21s     "
       ]
      },
      {
       "output_type": "stream",
       "stream": "stdout",
       "text": [
        "\n",
        "63% [=======================>               ] 88,579,568  1.52M/s  eta 21s     "
       ]
      },
      {
       "output_type": "stream",
       "stream": "stdout",
       "text": [
        "\n",
        "63% [=======================>               ] 88,834,416  1.52M/s  eta 21s     "
       ]
      },
      {
       "output_type": "stream",
       "stream": "stdout",
       "text": [
        "\n",
        "63% [=======================>               ] 89,054,512  1.51M/s  eta 21s     "
       ]
      },
      {
       "output_type": "stream",
       "stream": "stdout",
       "text": [
        "\n",
        "63% [=======================>               ] 89,302,120  1.49M/s  eta 21s     "
       ]
      },
      {
       "output_type": "stream",
       "stream": "stdout",
       "text": [
        "\n",
        "63% [=======================>               ] 89,554,072  1.47M/s  eta 21s     "
       ]
      },
      {
       "output_type": "stream",
       "stream": "stdout",
       "text": [
        "\n",
        "63% [=======================>               ] 89,788,152  1.52M/s  eta 21s     "
       ]
      },
      {
       "output_type": "stream",
       "stream": "stdout",
       "text": [
        "\n",
        "64% [========================>              ] 90,101,416  1.42M/s  eta 21s     "
       ]
      },
      {
       "output_type": "stream",
       "stream": "stdout",
       "text": [
        "\n",
        "64% [========================>              ] 90,321,512  1.38M/s  eta 21s     "
       ]
      },
      {
       "output_type": "stream",
       "stream": "stdout",
       "text": [
        "\n",
        "64% [========================>              ] 90,527,128  1.26M/s  eta 21s     "
       ]
      },
      {
       "output_type": "stream",
       "stream": "stdout",
       "text": [
        "\n",
        "64% [========================>              ] 90,757,360  1.25M/s  eta 21s     "
       ]
      },
      {
       "output_type": "stream",
       "stream": "stdout",
       "text": [
        "\n",
        "64% [========================>              ] 90,952,840  1.17M/s  eta 21s     "
       ]
      },
      {
       "output_type": "stream",
       "stream": "stdout",
       "text": [
        "\n",
        "64% [========================>              ] 91,209,136  1.16M/s  eta 21s     "
       ]
      },
      {
       "output_type": "stream",
       "stream": "stdout",
       "text": [
        "\n",
        "65% [========================>              ] 91,439,368  1.10M/s  eta 21s     "
       ]
      },
      {
       "output_type": "stream",
       "stream": "stdout",
       "text": [
        "\n",
        "65% [========================>              ] 91,647,880  1.06M/s  eta 21s     "
       ]
      },
      {
       "output_type": "stream",
       "stream": "stdout",
       "text": [
        "\n",
        "65% [========================>              ] 91,888,248  1.04M/s  eta 21s     "
       ]
      },
      {
       "output_type": "stream",
       "stream": "stdout",
       "text": [
        "\n",
        "65% [========================>              ] 92,096,760  1.03M/s  eta 21s     "
       ]
      },
      {
       "output_type": "stream",
       "stream": "stdout",
       "text": [
        "\n",
        "65% [========================>              ] 92,306,720  1.02M/s  eta 21s     "
       ]
      },
      {
       "output_type": "stream",
       "stream": "stdout",
       "text": [
        "\n",
        "65% [========================>              ] 92,557,224  1.03M/s  eta 21s     "
       ]
      },
      {
       "output_type": "stream",
       "stream": "stdout",
       "text": [
        "\n",
        "66% [========================>              ] 92,783,112  1.03M/s  eta 21s     "
       ]
      },
      {
       "output_type": "stream",
       "stream": "stdout",
       "text": [
        "\n",
        "66% [========================>              ] 92,959,768  1.01M/s  eta 21s     "
       ]
      },
      {
       "output_type": "stream",
       "stream": "stdout",
       "text": [
        "\n",
        "66% [========================>              ] 93,176,968  1.00M/s  eta 21s     "
       ]
      },
      {
       "output_type": "stream",
       "stream": "stdout",
       "text": [
        "\n",
        "66% [========================>              ] 93,415,888  1.00M/s  eta 21s     "
       ]
      },
      {
       "output_type": "stream",
       "stream": "stdout",
       "text": [
        "\n",
        "66% [=========================>             ] 93,609,920  1017K/s  eta 21s     "
       ]
      },
      {
       "output_type": "stream",
       "stream": "stdout",
       "text": [
        "\n",
        "66% [=========================>             ] 93,850,288  1.01M/s  eta 21s     "
       ]
      },
      {
       "output_type": "stream",
       "stream": "stdout",
       "text": [
        "\n",
        "66% [=========================>             ] 94,045,768  1.01M/s  eta 20s     "
       ]
      },
      {
       "output_type": "stream",
       "stream": "stdout",
       "text": [
        "\n",
        "67% [=========================>             ] 94,264,416  1024K/s  eta 20s     "
       ]
      },
      {
       "output_type": "stream",
       "stream": "stdout",
       "text": [
        "\n",
        "67% [=========================>             ] 94,501,888  1.01M/s  eta 20s     "
       ]
      },
      {
       "output_type": "stream",
       "stream": "stdout",
       "text": [
        "\n",
        "67% [=========================>             ] 94,697,368  1023K/s  eta 20s     "
       ]
      },
      {
       "output_type": "stream",
       "stream": "stdout",
       "text": [
        "\n",
        "67% [=========================>             ] 94,958,008  1020K/s  eta 20s     "
       ]
      },
      {
       "output_type": "stream",
       "stream": "stdout",
       "text": [
        "\n",
        "67% [=========================>             ] 95,163,624  1001K/s  eta 20s     "
       ]
      },
      {
       "output_type": "stream",
       "stream": "stdout",
       "text": [
        "\n",
        "67% [=========================>             ] 95,414,128  1018K/s  eta 20s     "
       ]
      },
      {
       "output_type": "stream",
       "stream": "stdout",
       "text": [
        "\n",
        "68% [=========================>             ] 95,657,392  1019K/s  eta 20s     "
       ]
      },
      {
       "output_type": "stream",
       "stream": "stdout",
       "text": [
        "\n",
        "68% [=========================>             ] 95,890,520  1.00M/s  eta 20s     "
       ]
      },
      {
       "output_type": "stream",
       "stream": "stdout",
       "text": [
        "\n",
        "68% [=========================>             ] 96,171,432  1.01M/s  eta 20s     "
       ]
      },
      {
       "output_type": "stream",
       "stream": "stdout",
       "text": [
        "\n",
        "68% [=========================>             ] 96,419,040  1.01M/s  eta 20s     "
       ]
      },
      {
       "output_type": "stream",
       "stream": "stdout",
       "text": [
        "\n",
        "68% [=========================>             ] 96,679,680  1.02M/s  eta 20s     "
       ]
      },
      {
       "output_type": "stream",
       "stream": "stdout",
       "text": [
        "\n",
        "69% [=========================>             ] 96,957,696  1.03M/s  eta 20s     "
       ]
      },
      {
       "output_type": "stream",
       "stream": "stdout",
       "text": [
        "\n",
        "69% [==========================>            ] 97,303,768  1.06M/s  eta 20s     "
       ]
      },
      {
       "output_type": "stream",
       "stream": "stdout",
       "text": [
        "\n",
        "69% [==========================>            ] 97,586,128  1.07M/s  eta 20s     "
       ]
      },
      {
       "output_type": "stream",
       "stream": "stdout",
       "text": [
        "\n",
        "69% [==========================>            ] 97,924,960  1.11M/s  eta 19s     "
       ]
      },
      {
       "output_type": "stream",
       "stream": "stdout",
       "text": [
        "\n",
        "69% [==========================>            ] 98,240,624  1.13M/s  eta 19s     "
       ]
      },
      {
       "output_type": "stream",
       "stream": "stdout",
       "text": [
        "\n",
        "70% [==========================>            ] 98,541,808  1.16M/s  eta 19s     "
       ]
      },
      {
       "output_type": "stream",
       "stream": "stdout",
       "text": [
        "\n",
        "70% [==========================>            ] 98,941,456  1.21M/s  eta 19s     "
       ]
      },
      {
       "output_type": "stream",
       "stream": "stdout",
       "text": [
        "\n",
        "70% [==========================>            ] 99,258,568  1.24M/s  eta 19s     "
       ]
      },
      {
       "output_type": "stream",
       "stream": "stdout",
       "text": [
        "\n",
        "70% [==========================>            ] 99,649,528  1.28M/s  eta 19s     "
       ]
      },
      {
       "output_type": "stream",
       "stream": "stdout",
       "text": [
        "\n",
        "71% [==========================>            ] 100,062,208 1.32M/s  eta 19s     "
       ]
      },
      {
       "output_type": "stream",
       "stream": "stdout",
       "text": [
        "\n",
        "71% [==========================>            ] 100,496,608 1.39M/s  eta 19s     "
       ]
      },
      {
       "output_type": "stream",
       "stream": "stdout",
       "text": [
        "\n",
        "71% [===========================>           ] 100,958,520 1.45M/s  eta 19s     "
       ]
      },
      {
       "output_type": "stream",
       "stream": "stdout",
       "text": [
        "\n",
        "72% [===========================>           ] 101,417,536 1.51M/s  eta 19s     "
       ]
      },
      {
       "output_type": "stream",
       "stream": "stdout",
       "text": [
        "\n",
        "72% [===========================>           ] 101,930,128 1.58M/s  eta 18s     "
       ]
      },
      {
       "output_type": "stream",
       "stream": "stdout",
       "text": [
        "\n",
        "73% [===========================>           ] 102,516,568 1.66M/s  eta 18s     "
       ]
      },
      {
       "output_type": "stream",
       "stream": "stdout",
       "text": [
        "\n",
        "73% [===========================>           ] 103,103,008 1.79M/s  eta 18s     "
       ]
      },
      {
       "output_type": "stream",
       "stream": "stdout",
       "text": [
        "\n",
        "73% [===========================>           ] 103,709,720 1.87M/s  eta 18s     "
       ]
      },
      {
       "output_type": "stream",
       "stream": "stdout",
       "text": [
        "\n",
        "74% [===========================>           ] 104,341,048 1.96M/s  eta 18s     "
       ]
      },
      {
       "output_type": "stream",
       "stream": "stdout",
       "text": [
        "\n",
        "74% [============================>          ] 104,992,648 2.09M/s  eta 16s     "
       ]
      },
      {
       "output_type": "stream",
       "stream": "stdout",
       "text": [
        "\n",
        "75% [============================>          ] 105,749,952 2.21M/s  eta 16s     "
       ]
      },
      {
       "output_type": "stream",
       "stream": "stdout",
       "text": [
        "\n",
        "75% [============================>          ] 106,556,488 2.34M/s  eta 16s     "
       ]
      },
      {
       "output_type": "stream",
       "stream": "stdout",
       "text": [
        "\n",
        "76% [============================>          ] 107,403,568 2.52M/s  eta 16s     "
       ]
      },
      {
       "output_type": "stream",
       "stream": "stdout",
       "text": [
        "\n",
        "77% [=============================>         ] 108,218,792 2.66M/s  eta 16s     "
       ]
      },
      {
       "output_type": "stream",
       "stream": "stdout",
       "text": [
        "\n",
        "77% [=============================>         ] 109,091,936 2.80M/s  eta 14s     "
       ]
      },
      {
       "output_type": "stream",
       "stream": "stdout",
       "text": [
        "\n",
        "78% [=============================>         ] 110,075,128 2.96M/s  eta 14s     "
       ]
      },
      {
       "output_type": "stream",
       "stream": "stdout",
       "text": [
        "\n",
        "79% [=============================>         ] 111,056,872 3.22M/s  eta 14s     "
       ]
      },
      {
       "output_type": "stream",
       "stream": "stdout",
       "text": [
        "\n",
        "79% [==============================>        ] 112,111,016 3.38M/s  eta 14s     "
       ]
      },
      {
       "output_type": "stream",
       "stream": "stdout",
       "text": [
        "\n",
        "80% [==============================>        ] 113,317,200 3.59M/s  eta 14s     "
       ]
      },
      {
       "output_type": "stream",
       "stream": "stdout",
       "text": [
        "\n",
        "81% [==============================>        ] 114,536,416 3.89M/s  eta 11s     "
       ]
      },
      {
       "output_type": "stream",
       "stream": "stdout",
       "text": [
        "\n",
        "82% [===============================>       ] 115,797,624 4.12M/s  eta 11s     "
       ]
      },
      {
       "output_type": "stream",
       "stream": "stdout",
       "text": [
        "\n",
        "83% [===============================>       ] 117,152,952 4.32M/s  eta 11s     "
       ]
      },
      {
       "output_type": "stream",
       "stream": "stdout",
       "text": [
        "\n",
        "84% [===============================>       ] 118,528,552 4.62M/s  eta 11s     "
       ]
      },
      {
       "output_type": "stream",
       "stream": "stdout",
       "text": [
        "\n",
        "85% [================================>      ] 119,956,280 4.85M/s  eta 11s     "
       ]
      },
      {
       "output_type": "stream",
       "stream": "stdout",
       "text": [
        "\n",
        "86% [================================>      ] 121,507,088 5.08M/s  eta 8s      "
       ]
      },
      {
       "output_type": "stream",
       "stream": "stdout",
       "text": [
        "\n",
        "87% [=================================>     ] 123,118,712 5.43M/s  eta 8s      "
       ]
      },
      {
       "output_type": "stream",
       "stream": "stdout",
       "text": [
        "\n",
        "88% [=================================>     ] 124,866,448 5.70M/s  eta 8s      "
       ]
      },
      {
       "output_type": "stream",
       "stream": "stdout",
       "text": [
        "\n",
        "90% [==================================>    ] 126,648,936 5.98M/s  eta 8s      "
       ]
      },
      {
       "output_type": "stream",
       "stream": "stdout",
       "text": [
        "\n",
        "91% [==================================>    ] 128,534,232 6.39M/s  eta 8s      "
       ]
      },
      {
       "output_type": "stream",
       "stream": "stdout",
       "text": [
        "\n",
        "92% [===================================>   ] 130,493,376 6.69M/s  eta 4s      "
       ]
      },
      {
       "output_type": "stream",
       "stream": "stdout",
       "text": [
        "\n",
        "94% [===================================>   ] 132,063,960 6.85M/s  eta 4s      "
       ]
      },
      {
       "output_type": "stream",
       "stream": "stdout",
       "text": [
        "\n",
        "95% [====================================>  ] 134,397,184 7.21M/s  eta 4s      "
       ]
      },
      {
       "output_type": "stream",
       "stream": "stdout",
       "text": [
        "\n",
        "96% [====================================>  ] 135,878,488 7.28M/s  eta 4s      "
       ]
      },
      {
       "output_type": "stream",
       "stream": "stdout",
       "text": [
        "\n",
        "97% [=====================================> ] 137,403,232 7.47M/s  eta 4s      "
       ]
      },
      {
       "output_type": "stream",
       "stream": "stdout",
       "text": [
        "\n",
        "98% [=====================================> ] 138,949,696 7.57M/s  eta 1s      "
       ]
      },
      {
       "output_type": "stream",
       "stream": "stdout",
       "text": [
        "\n",
        "100%[======================================>] 140,390,098 7.65M/s   in 53s     \n",
        "\n",
        "2013-06-27 12:15:11 (2.52 MB/s) - `petMar2.fa.masked.gz' saved [140390098/140390098]\n"
       ]
      }
     ],
     "prompt_number": 113
    },
    {
     "cell_type": "code",
     "collapsed": false,
     "input": [
      "!formatdb -i petMar2.fa -o T -p F"
     ],
     "language": "python",
     "metadata": {},
     "outputs": [],
     "prompt_number": 48
    },
    {
     "cell_type": "code",
     "collapsed": false,
     "input": [
      "#%cd db/\n",
      "!formatdb -i petMar2.fa.masked -o T -p F"
     ],
     "language": "python",
     "metadata": {},
     "outputs": [],
     "prompt_number": 49
    },
    {
     "cell_type": "code",
     "collapsed": false,
     "input": [
      "!echo \"Retrieving mouse, zebrafish, hagfish, and amphioxus proteins\"\n",
      "!wget -nc -q ftp://ftp.ensembl.org/pub/release-71/fasta/mus_musculus/pep/Mus_musculus.GRCm38.71.pep.all.fa.gz;\n",
      "!wget -nc -q ftp://ftp.ensembl.org/pub/release-71/fasta/danio_rerio/pep/Danio_rerio.Zv9.71.pep.all.fa.gz;"
     ],
     "language": "python",
     "metadata": {},
     "outputs": [
      {
       "output_type": "stream",
       "stream": "stdout",
       "text": [
        "Retrieving mouse, zebrafish, hagfish, and amphioxus proteins"
       ]
      },
      {
       "output_type": "stream",
       "stream": "stdout",
       "text": [
        "wget: illegal option -- `-nq'\n",
        "Usage: wget [OPTION]... [URL]...\n",
        "\n",
        "Try `wget --help' for more options."
       ]
      },
      {
       "output_type": "stream",
       "stream": "stdout",
       "text": [
        "wget: illegal option -- `-nq'\n",
        "Usage: wget [OPTION]... [URL]...\n",
        "\n",
        "Try `wget --help' for more options."
       ]
      }
     ],
     "prompt_number": 24
    },
    {
     "cell_type": "code",
     "collapsed": false,
     "input": [
      "!gunzip -c Mus_musculus.GRCm38.71.pep.all.fa.gz > mouse.protein.fa\n",
      "!gunzip -c Danio_rerio.Zv9.71.pep.all.fa.gz > zebrafish.protein.fa\n",
      "\n",
      "!formatdb -i mouse.protein.fa -o T -p T\n",
      "!formatdb -i zebrafish.protein.fa -o T -p T"
     ],
     "language": "python",
     "metadata": {},
     "outputs": [],
     "prompt_number": 50
    },
    {
     "cell_type": "code",
     "collapsed": false,
     "input": [
      "!perl ../scripts/get_uniprot_fam.pl Myxinidae\n",
      "!mv Myxinidae.fasta myxinidae.protein.fa"
     ],
     "language": "python",
     "metadata": {},
     "outputs": [
      {
       "output_type": "stream",
       "stream": "stdout",
       "text": [
        "Downloaded 882 entries of UniProt release 2013_07 (2013-06-26) to file Myxinidae.fasta"
       ]
      }
     ],
     "prompt_number": 51
    },
    {
     "cell_type": "code",
     "collapsed": false,
     "input": [
      "!perl ../scripts/get_uniprot_org.pl 7739\n",
      "!mv 7739.fasta amphioxus.protein.fa"
     ],
     "language": "python",
     "metadata": {},
     "outputs": [
      {
       "output_type": "stream",
       "stream": "stdout",
       "text": [
        "Downloaded 29237 entries of UniProt release 2013_07 (2013-06-26) to file 7739.fasta"
       ]
      }
     ],
     "prompt_number": 52
    },
    {
     "cell_type": "code",
     "collapsed": true,
     "input": [
      "!formatdb -i amphioxus.protein.fa -o T -p T\n",
      "!formatdb -i myxinidae.protein.fa -o T -p T"
     ],
     "language": "python",
     "metadata": {},
     "outputs": [],
     "prompt_number": 53
    },
    {
     "cell_type": "code",
     "collapsed": false,
     "input": [
      "!wget -nc http://hgdownload.soe.ucsc.edu/goldenPath/petMar2/bigZips/est.fa.gz && gunzip est.fa.gz;\n",
      "!wget -nc http://hgdownload.soe.ucsc.edu/goldenPath/petMar2/bigZips/mrna.fa.gz && gunzip mrna.fa.gz;"
     ],
     "language": "python",
     "metadata": {},
     "outputs": [
      {
       "output_type": "stream",
       "stream": "stdout",
       "text": [
        "--2013-06-26 12:41:34--  http://hgdownload.soe.ucsc.edu/goldenPath/petMar2/bigZips/est.fa.gz\n",
        "Resolving hgdownload.soe.ucsc.edu (hgdownload.soe.ucsc.edu)... "
       ]
      },
      {
       "output_type": "stream",
       "stream": "stdout",
       "text": [
        "128.114.119.163\n",
        "Connecting to hgdownload.soe.ucsc.edu (hgdownload.soe.ucsc.edu)|128.114.119.163|:80... "
       ]
      },
      {
       "output_type": "stream",
       "stream": "stdout",
       "text": [
        "connected.\n",
        "HTTP request sent, awaiting response... "
       ]
      },
      {
       "output_type": "stream",
       "stream": "stdout",
       "text": [
        "200 OK\n",
        "Length: 24110582 (23M) [application/x-gzip]\n",
        "Saving to: `est.fa.gz'\n",
        "\n",
        "\n",
        " 0% [                                       ] 0           --.-K/s              "
       ]
      },
      {
       "output_type": "stream",
       "stream": "stdout",
       "text": [
        "\n",
        " 0% [                                       ] 70,569       316K/s              "
       ]
      },
      {
       "output_type": "stream",
       "stream": "stdout",
       "text": [
        "\n",
        " 0% [                                       ] 187,857      421K/s              "
       ]
      },
      {
       "output_type": "stream",
       "stream": "stdout",
       "text": [
        "\n",
        " 1% [                                       ] 465,873      716K/s              "
       ]
      },
      {
       "output_type": "stream",
       "stream": "stdout",
       "text": [
        "\n",
        " 4% [>                                      ] 1,075,481   1.23M/s              "
       ]
      },
      {
       "output_type": "stream",
       "stream": "stdout",
       "text": [
        "\n",
        " 8% [==>                                    ] 2,093,425   1.93M/s              "
       ]
      },
      {
       "output_type": "stream",
       "stream": "stdout",
       "text": [
        "\n",
        "15% [=====>                                 ] 3,780,345   2.92M/s              "
       ]
      },
      {
       "output_type": "stream",
       "stream": "stdout",
       "text": [
        "\n",
        "25% [========>                              ] 6,045,017   4.02M/s              "
       ]
      },
      {
       "output_type": "stream",
       "stream": "stdout",
       "text": [
        "\n",
        "34% [============>                          ] 8,319,825   4.85M/s              "
       ]
      },
      {
       "output_type": "stream",
       "stream": "stdout",
       "text": [
        "\n",
        "44% [================>                      ] 10,629,385  5.52M/s              "
       ]
      },
      {
       "output_type": "stream",
       "stream": "stdout",
       "text": [
        "\n",
        "53% [===================>                   ] 12,847,721  5.39M/s              "
       ]
      },
      {
       "output_type": "stream",
       "stream": "stdout",
       "text": [
        "\n",
        "69% [==========================>            ] 16,876,057  6.51M/s              "
       ]
      },
      {
       "output_type": "stream",
       "stream": "stdout",
       "text": [
        "\n",
        "78% [=============================>         ] 18,948,145  6.76M/s              "
       ]
      },
      {
       "output_type": "stream",
       "stream": "stdout",
       "text": [
        "\n",
        "87% [=================================>     ] 21,192,545  7.04M/s              "
       ]
      },
      {
       "output_type": "stream",
       "stream": "stdout",
       "text": [
        "\n",
        "97% [=====================================> ] 23,499,209  7.29M/s  eta 0s      "
       ]
      },
      {
       "output_type": "stream",
       "stream": "stdout",
       "text": [
        "\n",
        "100%[======================================>] 24,110,582  7.36M/s   in 3.1s    \n",
        "\n",
        "2013-06-26 12:41:38 (7.36 MB/s) - `est.fa.gz' saved [24110582/24110582]\n"
       ]
      },
      {
       "output_type": "stream",
       "stream": "stdout",
       "text": [
        "--2013-06-26 12:41:38--  http://hgdownload.soe.ucsc.edu/goldenPath/petMar2/bigZips/mrna.fa.gz\n",
        "Resolving hgdownload.soe.ucsc.edu (hgdownload.soe.ucsc.edu)... "
       ]
      },
      {
       "output_type": "stream",
       "stream": "stdout",
       "text": [
        "128.114.119.163\n",
        "Connecting to hgdownload.soe.ucsc.edu (hgdownload.soe.ucsc.edu)|128.114.119.163|:80... "
       ]
      },
      {
       "output_type": "stream",
       "stream": "stdout",
       "text": [
        "connected.\n",
        "HTTP request sent, awaiting response... "
       ]
      },
      {
       "output_type": "stream",
       "stream": "stdout",
       "text": [
        "200 OK\n",
        "Length: 282754 (276K) [application/x-gzip]\n",
        "Saving to: `mrna.fa.gz'\n",
        "\n",
        "\n",
        " 0% [                                       ] 0           --.-K/s              "
       ]
      },
      {
       "output_type": "stream",
       "stream": "stdout",
       "text": [
        "\n",
        "23% [========>                              ] 66,229       243K/s              "
       ]
      },
      {
       "output_type": "stream",
       "stream": "stdout",
       "text": [
        "\n",
        "89% [==================================>    ] 254,469      495K/s              "
       ]
      },
      {
       "output_type": "stream",
       "stream": "stdout",
       "text": [
        "\n",
        "100%[======================================>] 282,754      517K/s   in 0.5s    \n",
        "\n",
        "2013-06-26 12:41:39 (517 KB/s) - `mrna.fa.gz' saved [282754/282754]\n"
       ]
      }
     ],
     "prompt_number": 1
    },
    {
     "cell_type": "code",
     "collapsed": true,
     "input": [
      "!formatdb -i est.fa -o T -p F\n",
      "!formatdb -i mrna.fa -o T -p F"
     ],
     "language": "python",
     "metadata": {},
     "outputs": [],
     "prompt_number": 54
    },
    {
     "cell_type": "raw",
     "metadata": {},
     "source": [
      "Transcript Validation\n",
      "\n",
      "This little bit of code goes through every transcript's hits,\n",
      "by subject, and checks the directionality on both query and subject;\n",
      "if there are conflicting alignments, the transcript is thrown out"
     ]
    },
    {
     "cell_type": "code",
     "collapsed": false,
     "input": [
      "from itertools import groupby\n",
      "\n",
      "def getDir(hit):\n",
      "    qdir = 0\n",
      "    sdir = 0\n",
      "    if hit.qstart > hit.qend:\n",
      "        qdir = 1\n",
      "    if hit.sstart > hit.send:\n",
      "        sdir =1\n",
      "    return (qdir, sdir)\n",
      "\n",
      "def dirVal(aSeq):\n",
      "    skey = lambda hit: hit.subject\n",
      "    hits = sorted(aSeq.hits, key=skey)\n",
      "    if len(aSeq.hits) > 1:\n",
      "        for k, g in groupby(hits, skey):\n",
      "            subHits = [s for s in g]\n",
      "            D = getDir(subHits[0])\n",
      "            for hit in subHits[1:]:\n",
      "               if getDir(hit) != D:\n",
      "                   return False\n",
      "    return True\n",
      "\n",
      "\n",
      "def validateTranscripts(blast_pSet):\n",
      "    valid = 0\n",
      "    invalid = 0\n",
      "    seqCounter = 0\n",
      "    \n",
      "    new_pSet = hb.PartitionSet()\n",
      "    \n",
      "    print \"Starting validation process: checking {} transcripts\".format(blast_pSet.numSeqs())\n",
      "    for n, partition in enumerate(blast_pSet):\n",
      "        for aSeq in partition:\n",
      "            if seqCounter % 50000 == 0:\n",
      "                print \"{} partitions, {} sequences checked...\".format(n, seqCounter)\n",
      "                print \"{} valid, {} invalid so far...\".format(str(valid), str(invalid))\n",
      "            seqCounter += 1\n",
      "            if dirVal(aSeq):\n",
      "                new_pSet.addSeq(aSeq, partition.pid)\n",
      "                valid += 1\n",
      "            else:\n",
      "                invalid += 1\n",
      "    return valid, invalid, new_pSet"
     ],
     "language": "python",
     "metadata": {},
     "outputs": [],
     "prompt_number": 7
    },
    {
     "cell_type": "heading",
     "level": 2,
     "metadata": {},
     "source": []
    },
    {
     "cell_type": "heading",
     "level": 2,
     "metadata": {},
     "source": [
      "Step 1: Cleanup"
     ]
    },
    {
     "cell_type": "markdown",
     "metadata": {},
     "source": [
      "Where are we at baseline?"
     ]
    },
    {
     "cell_type": "code",
     "collapsed": false,
     "input": [
      "%run scripts/stats.py 200 ../data/lamp3.fasta"
     ],
     "language": "python",
     "metadata": {},
     "outputs": [
      {
       "output_type": "stream",
       "stream": "stdout",
       "text": [
        "filename sum n trim_n min med mean max n50 n50_len n90 n90_len\n",
        "../data/lamp3.fasta & 756840 & 471187251 & 201 & 367 & 622 & 14839 & 897"
       ]
      },
      {
       "output_type": "stream",
       "stream": "stdout",
       "text": []
      }
     ],
     "prompt_number": 21
    },
    {
     "cell_type": "heading",
     "level": 3,
     "metadata": {},
     "source": [
      "A: Deduplication with CD-HIT-EST"
     ]
    },
    {
     "cell_type": "raw",
     "metadata": {},
     "source": [
      "*We dedupe at 98% identity, with global clustering for maximum accuracy (though slower runtime)\n",
      "*This has already been done, so we'll skip it for now"
     ]
    },
    {
     "cell_type": "code",
     "collapsed": true,
     "input": [
      "#!cd-hit-est -i data/lamp3.fasta -o data/lamp3.dedupe.fa -c .98 -n 9 -g 1 -T 4"
     ],
     "language": "python",
     "metadata": {},
     "outputs": []
    },
    {
     "cell_type": "heading",
     "level": 3,
     "metadata": {},
     "source": [
      "B: Clean out any contaminants that slipped through with SeqClean"
     ]
    },
    {
     "cell_type": "code",
     "collapsed": false,
     "input": [
      "!seqclean data/lamp3.fasta.dedupe.fa -c 6 -v db/UniVec.fa -o data/petMar_mrna.fa"
     ],
     "language": "python",
     "metadata": {},
     "outputs": [
      {
       "output_type": "stream",
       "stream": "stdout",
       "text": [
        "* Using trimming files:\n",
        " \n",
        "/w/2013-lamprey/db/UniVec.fa\n",
        "seqclean running options: \n",
        "seqclean data/lamp3.fasta.dedupe.fa -c 6 -v db/UniVec.fa -o data/petMar_mrna.fa\n",
        " Standard log file: seqcl_lamp3.fasta.dedupe.fa.log\n",
        " Error log file:    err_seqcl_lamp3.fasta.dedupe.fa.log\n",
        " Using 6 CPUs for cleaning\n",
        "-= Rebuilding lamp3.fasta.dedupe.fa cdb index =-"
       ]
      },
      {
       "output_type": "stream",
       "stream": "stdout",
       "text": [
        " Launching actual cleaning process:\n",
        " psx -p 6  -n 1000  -i data/lamp3.fasta.dedupe.fa -d cleaning -C '/w/2013-lamprey/data/lamp3.fasta.dedupe.fa:ANLMS100:/w/2013-lamprey/db/UniVec.fa::11:0' -c '/home/chris/bin/seqclean.psx'"
       ]
      },
      {
       "output_type": "stream",
       "stream": "stdout",
       "text": [
        "Collecting cleaning reports\n"
       ]
      },
      {
       "output_type": "stream",
       "stream": "stdout",
       "text": [
        "**************************************************\n",
        "Sequences analyzed:    672565\n",
        "-----------------------------------\n",
        "                   valid:    672162  (262294 trimmed)\n",
        "                 trashed:       403\n",
        "**************************************************\n",
        "----= Trashing summary =------\n",
        "              by 'shortq':        3\n",
        "                by 'dust':      328\n",
        "           by 'UniVec.fa':       72\n",
        "------------------------------\n",
        "Output file containing only valid and trimmed sequences: data/petMar_mrna.fa\n",
        "For trimming and trashing details see cleaning report  : lamp3.fasta.dedupe.fa.cln\n",
        "--------------------------------------------------"
       ]
      },
      {
       "output_type": "stream",
       "stream": "stdout",
       "text": [
        "seqclean (data/lamp3.fasta.dedupe.fa) finished on machine \n",
        " in /w/2013-lamprey, without a detectable error."
       ]
      }
     ],
     "prompt_number": 36
    },
    {
     "cell_type": "raw",
     "metadata": {},
     "source": [
      "*Check our stats again"
     ]
    },
    {
     "cell_type": "code",
     "collapsed": false,
     "input": [
      "%run scripts/stats.py 200 data/petMar_mrna.fa"
     ],
     "language": "python",
     "metadata": {},
     "outputs": [
      {
       "output_type": "stream",
       "stream": "stdout",
       "text": [
        "filename sum n trim_n min med mean max n50 n50_len n90 n90_len\n",
        "data/petMar_mrna.fa & 650320 & 357321866 & 200 & 340 & 549 & 14839 & 715"
       ]
      },
      {
       "output_type": "stream",
       "stream": "stdout",
       "text": []
      }
     ],
     "prompt_number": 40
    },
    {
     "cell_type": "heading",
     "level": 3,
     "metadata": {},
     "source": [
      "C: Remove erroneous transcripts"
     ]
    },
    {
     "cell_type": "heading",
     "level": 4,
     "metadata": {},
     "source": [
      "We need to partition first..."
     ]
    },
    {
     "cell_type": "code",
     "collapsed": false,
     "input": [
      "%run ~/tools/khmer/scripts/load-graph.py -k 25 -N 4 -x 16e9 petMar_part data/petMar_mrna.fa"
     ],
     "language": "python",
     "metadata": {},
     "outputs": [
      {
       "output_type": "stream",
       "stream": "stdout",
       "text": [
        "Saving hashtable to petMar_part\n",
        "Loading kmers from sequences in ['data/petMar_mrna.fa']\n",
        "We WILL build the tagset (for partitioning/traversal).\n",
        "making hashtable\n",
        "consuming input"
       ]
      },
      {
       "output_type": "stream",
       "stream": "stdout",
       "text": [
        " data/petMar_mrna.fa\n",
        "..."
       ]
      },
      {
       "output_type": "stream",
       "stream": "stdout",
       "text": [
        " consume_fasta_and_tag 100000 27753663\n",
        "..."
       ]
      },
      {
       "output_type": "stream",
       "stream": "stdout",
       "text": [
        " consume_fasta_and_tag 200000 59551660\n",
        "..."
       ]
      },
      {
       "output_type": "stream",
       "stream": "stdout",
       "text": [
        " consume_fasta_and_tag 300000 100383881\n",
        "..."
       ]
      },
      {
       "output_type": "stream",
       "stream": "stdout",
       "text": [
        " consume_fasta_and_tag 400000 143671378\n",
        "..."
       ]
      },
      {
       "output_type": "stream",
       "stream": "stdout",
       "text": [
        " consume_fasta_and_tag 500000 188468539\n",
        "..."
       ]
      },
      {
       "output_type": "stream",
       "stream": "stdout",
       "text": [
        " consume_fasta_and_tag 600000 221168905\n",
        "saving hashtable in"
       ]
      },
      {
       "output_type": "stream",
       "stream": "stdout",
       "text": [
        " petMar_part.ht\n",
        "saving tagset in"
       ]
      },
      {
       "output_type": "stream",
       "stream": "stdout",
       "text": [
        " petMar_part.tagset\n",
        "fp rate estimated to be 0.000"
       ]
      },
      {
       "output_type": "stream",
       "stream": "stdout",
       "text": [
        "\n"
       ]
      },
      {
       "output_type": "stream",
       "stream": "stderr",
       "text": [
        "\n",
        "PARAMETERS:\n",
        " - kmer size =    25 \t\t(-k)\n",
        " - n hashes =     4 \t\t(-N)\n",
        " - min hashsize = 1.6e+10 \t(-x)\n",
        "\n",
        "Estimated memory usage is 8e+09 bytes (n_hashes x min_hashsize / 8)\n",
        "--------\n"
       ]
      }
     ],
     "prompt_number": 3
    },
    {
     "cell_type": "code",
     "collapsed": false,
     "input": [
      "%run ~/tools/khmer/scripts/partition-graph.py -T 7 -s 1e6 petMar_part"
     ],
     "language": "python",
     "metadata": {},
     "outputs": [
      {
       "output_type": "stream",
       "stream": "stdout",
       "text": [
        "--\n",
        "SUBSET SIZE 1000000.0\n",
        "N THREADS 7\n",
        "--\n",
        "loading ht petMar_part.ht\n",
        "** Traverse all the things: stop_big_traversals is false."
       ]
      },
      {
       "output_type": "stream",
       "stream": "stdout",
       "text": [
        "\n",
        "enqueued 7 subset tasks"
       ]
      },
      {
       "output_type": "stream",
       "stream": "stdout",
       "text": [
        "\n",
        "starting 7 threads\n",
        "---\n",
        "starting: petMar_part 0\n",
        "starting: petMar_part 1\n",
        "starting: petMar_part 2\n",
        "starting: petMar_part 3\n",
        "starting: petMar_part 4\n",
        "starting: petMar_part 5\n",
        "done starting threads\n",
        "starting: petMar_part 6\n",
        "saving:"
       ]
      },
      {
       "output_type": "stream",
       "stream": "stdout",
       "text": [
        " petMar_part 6\n",
        "exiting"
       ]
      },
      {
       "output_type": "stream",
       "stream": "stdout",
       "text": [
        "\n",
        "saving:"
       ]
      },
      {
       "output_type": "stream",
       "stream": "stdout",
       "text": [
        " petMar_part 0\n",
        "exiting"
       ]
      },
      {
       "output_type": "stream",
       "stream": "stdout",
       "text": [
        "\n",
        "saving:"
       ]
      },
      {
       "output_type": "stream",
       "stream": "stdout",
       "text": [
        " petMar_part 3\n",
        "exiting"
       ]
      },
      {
       "output_type": "stream",
       "stream": "stdout",
       "text": [
        "\n",
        "saving:"
       ]
      },
      {
       "output_type": "stream",
       "stream": "stdout",
       "text": [
        " petMar_part 2\n",
        "exiting"
       ]
      },
      {
       "output_type": "stream",
       "stream": "stdout",
       "text": [
        "\n",
        "saving:"
       ]
      },
      {
       "output_type": "stream",
       "stream": "stdout",
       "text": [
        " petMar_part 5\n",
        "exiting"
       ]
      },
      {
       "output_type": "stream",
       "stream": "stdout",
       "text": [
        "\n",
        "saving:"
       ]
      },
      {
       "output_type": "stream",
       "stream": "stdout",
       "text": [
        " petMar_part 4\n",
        "exiting"
       ]
      },
      {
       "output_type": "stream",
       "stream": "stdout",
       "text": [
        "\n",
        "saving:"
       ]
      },
      {
       "output_type": "stream",
       "stream": "stdout",
       "text": [
        " petMar_part 1\n",
        "exiting"
       ]
      },
      {
       "output_type": "stream",
       "stream": "stdout",
       "text": [
        "\n",
        "---\n",
        "done making subsets! see petMar_part.subset.*.pmap\n"
       ]
      }
     ],
     "prompt_number": 4
    },
    {
     "cell_type": "code",
     "collapsed": false,
     "input": [
      "ls"
     ],
     "language": "python",
     "metadata": {},
     "outputs": [
      {
       "output_type": "stream",
       "stream": "stdout",
       "text": [
        "\u001b[0m\u001b[01;34mcleaning_1\u001b[0m/  err_seqcl_lamp3.fasta.dedupe.fa.log  make_links.sh                                    petMar2.fa.masked.nsq      petMar_part.subset.3.pmap  \u001b[01;34mscripts\u001b[0m/\r\n",
        "\u001b[01;34mcleaning_2\u001b[0m/  formatdb.log                         make_links.sh~                                   petMar2.fa.masked.ntm      petMar_part.subset.4.pmap  seqcl_lamp3.fasta.dedupe.fa.log\r\n",
        "\u001b[01;34mcleaning_3\u001b[0m/  lamp3.fasta.dedupe.fa.cidx           mRNA Scaffolder.ipynb                            petMar_mrna_parts.hist     petMar_part.subset.5.pmap  Untitled0.ipynb\r\n",
        "\u001b[01;34mcleaning_4\u001b[0m/  lamp3.fasta.dedupe.fa.cln            ngs-5x-kmer-abundance-distributions-2013.ipynb   petMar_part.ht             petMar_part.subset.6.pmap\r\n",
        "\u001b[01;34mcleaning_5\u001b[0m/  lamprey.bib                          ngs-5x-kmer-abundance-distributions-2013.ipynb~  petMar_part.info           petMar_part.tagset\r\n",
        "\u001b[01;34mcleaning_6\u001b[0m/  Lamprey mRNAseq 2013.ipynb           outparts_cln.sort                                petMar_part.subset.0.pmap  plos2009.bst\r\n",
        "\u001b[01;34mdata\u001b[0m/        lamprey.tex                          petMar2.fa.masked.nhr                            petMar_part.subset.1.pmap  \u001b[01;34mscaffold\u001b[0m/\r\n",
        "\u001b[01;34mdb\u001b[0m/          lamprey.tex~                         petMar2.fa.masked.nin                            petMar_part.subset.2.pmap  scaf_graph.dot\r\n"
       ]
      }
     ],
     "prompt_number": 1
    },
    {
     "cell_type": "code",
     "collapsed": false,
     "input": [
      "%run ~/tools/khmer/scripts/merge-partitions.py -k 25 petMar_part"
     ],
     "language": "python",
     "metadata": {},
     "outputs": [
      {
       "output_type": "stream",
       "stream": "stdout",
       "text": [
        "loading 7 pmap files (first one: petMar_part.subset.6.pmap)\n",
        "merging petMar_part.subset.6.pmap\n",
        "merging"
       ]
      },
      {
       "output_type": "stream",
       "stream": "stdout",
       "text": [
        " petMar_part.subset.3.pmap\n",
        "merging"
       ]
      },
      {
       "output_type": "stream",
       "stream": "stdout",
       "text": [
        " petMar_part.subset.5.pmap\n",
        "merging"
       ]
      },
      {
       "output_type": "stream",
       "stream": "stdout",
       "text": [
        " petMar_part.subset.2.pmap\n",
        "merging"
       ]
      },
      {
       "output_type": "stream",
       "stream": "stdout",
       "text": [
        " petMar_part.subset.0.pmap\n",
        "merging"
       ]
      },
      {
       "output_type": "stream",
       "stream": "stdout",
       "text": [
        " petMar_part.subset.4.pmap\n",
        "merging"
       ]
      },
      {
       "output_type": "stream",
       "stream": "stdout",
       "text": [
        " petMar_part.subset.1.pmap\n",
        "saving merged to"
       ]
      },
      {
       "output_type": "stream",
       "stream": "stdout",
       "text": [
        " petMar_part.pmap.merged\n",
        "removing pmap files"
       ]
      },
      {
       "output_type": "stream",
       "stream": "stdout",
       "text": [
        "\n"
       ]
      }
     ],
     "prompt_number": 2
    },
    {
     "cell_type": "code",
     "collapsed": false,
     "input": [
      "%run ~/tools/khmer/scripts/annotate-partitions.py -k 25 petMar_part data/petMar_mrna.fa"
     ],
     "language": "python",
     "metadata": {},
     "outputs": [
      {
       "output_type": "stream",
       "stream": "stdout",
       "text": [
        "loading partition map from: petMar_part.pmap.merged\n",
        "outputting partitions for"
       ]
      },
      {
       "output_type": "stream",
       "stream": "stdout",
       "text": [
        " data/petMar_mrna.fa\n",
        "..."
       ]
      },
      {
       "output_type": "stream",
       "stream": "stdout",
       "text": [
        " output_partitions 100000 0\n",
        "..."
       ]
      },
      {
       "output_type": "stream",
       "stream": "stdout",
       "text": [
        " output_partitions 200000 0\n",
        "..."
       ]
      },
      {
       "output_type": "stream",
       "stream": "stdout",
       "text": [
        " output_partitions 300000 0\n",
        "..."
       ]
      },
      {
       "output_type": "stream",
       "stream": "stdout",
       "text": [
        " output_partitions 400000 0\n",
        "..."
       ]
      },
      {
       "output_type": "stream",
       "stream": "stdout",
       "text": [
        " output_partitions 500000 0\n",
        "..."
       ]
      },
      {
       "output_type": "stream",
       "stream": "stdout",
       "text": [
        " output_partitions 600000 0\n",
        "output 263536 partitions for data/petMar_mrna.fa"
       ]
      },
      {
       "output_type": "stream",
       "stream": "stdout",
       "text": [
        "\n",
        "partitions are in petMar_mrna.fa.part\n"
       ]
      }
     ],
     "prompt_number": 3
    },
    {
     "cell_type": "code",
     "collapsed": false,
     "input": [
      "!ls -oh\n",
      "!ls -oh data/"
     ],
     "language": "python",
     "metadata": {},
     "outputs": [
      {
       "output_type": "stream",
       "stream": "stdout",
       "text": [
        "total 8.1G\r\n",
        "drwxr-x--- 2 chris  12K Jun 26 13:39 cleaning_1\r\n",
        "drwxr-x--- 2 chris  12K Jun 26 13:39 cleaning_2\r\n",
        "drwxr-x--- 2 chris  12K Jun 26 13:39 cleaning_3\r\n",
        "drwxr-x--- 2 chris  12K Jun 26 13:39 cleaning_4\r\n",
        "drwxr-x--- 2 chris  12K Jun 26 13:39 cleaning_5\r\n",
        "drwxr-x--- 2 chris  12K Jun 26 13:39 cleaning_6\r\n",
        "drwxrwxr-x 2 chris 4.0K Jun 28 08:55 data\r\n",
        "drwxrwxr-x 2 chris 4.0K Jun 27 15:59 db\r\n",
        "-rw-rw-r-- 1 chris 1.5K Jun 26 13:39 err_seqcl_lamp3.fasta.dedupe.fa.log\r\n",
        "-rw-rw-r-- 1 chris  549 Jun 27 14:38 formatdb.log\r\n",
        "-rw-rw-r-- 1 chris  33M Jun 26 13:34 lamp3.fasta.dedupe.fa.cidx\r\n",
        "-rw-rw-r-- 1 chris  47M Jun 26 13:39 lamp3.fasta.dedupe.fa.cln\r\n",
        "-rw-rw-r-- 1 chris  12K May 15 16:27 lamprey.bib\r\n",
        "-rw-rw-r-- 1 chris 152K Jun 28 13:37 Lamprey mRNAseq 2013.ipynb\r\n",
        "-rw-rw-r-- 1 chris 9.5K May 17 12:19 lamprey.tex\r\n",
        "-rw-rw-r-- 1 chris  55K May 15 16:38 lamprey.tex~\r\n",
        "-rw-rw-r-- 1 chris  258 Jun 26 15:19 make_links.sh\r\n",
        "-rw-rw-r-- 1 chris  286 Jun 26 15:19 make_links.sh~\r\n",
        "-rw-rw-r-- 1 chris 283K Jun 28 13:32 mRNA Scaffolder.ipynb\r\n",
        "-rw-rw-r-- 1 chris 145K Jun 26 13:20 ngs-5x-kmer-abundance-distributions-2013.ipynb\r\n",
        "-rw-rw-r-- 1 chris 145K Jun 26 13:14 ngs-5x-kmer-abundance-distributions-2013.ipynb~\r\n",
        "-rw-rw-r-- 1 chris  32K Jun 26 13:39 outparts_cln.sort\r\n",
        "-rw-rw-r-- 1 chris    0 Jun 27 14:38 petMar2.fa.masked.nhr\r\n",
        "-rw-rw-r-- 1 chris    0 Jun 27 14:38 petMar2.fa.masked.nin\r\n",
        "-rw-rw-r-- 1 chris    1 Jun 27 14:38 petMar2.fa.masked.nsq\r\n",
        "-rw-rw-r-- 1 chris    0 Jun 27 14:38 petMar2.fa.masked.ntm\r\n",
        "-rw-rw-r-- 1 chris 413M Jun 28 13:38 petMar_mrna.fa.part\r\n",
        "-rw-rw-r-- 1 chris 2.4M Jun 26 17:08 petMar_mrna_parts.hist\r\n",
        "-rw-rw-r-- 1 chris 7.5G Jun 28 10:01 petMar_part.ht\r\n",
        "-rw-rw-r-- 1 chris   16 Jun 28 10:02 petMar_part.info\r\n",
        "-rw-rw-r-- 1 chris  74M Jun 28 13:35 petMar_part.pmap.merged\r\n",
        "-rw-rw-r-- 1 chris  50M Jun 28 10:01 petMar_part.tagset\r\n",
        "-rw-rw-r-- 1 chris  29K May 15 16:27 plos2009.bst\r\n",
        "drwxrwxr-x 2 chris 4.0K Jun 27 18:44 scaffold\r\n",
        "-rw-rw-r-- 1 chris 3.6K Jun 28 12:31 scaf_graph.dot\r\n",
        "drwxrwxr-x 2 chris 4.0K Jun 27 14:33 scripts\r\n",
        "-rw-rw-r-- 1 chris 1.3K Jun 26 13:39 seqcl_lamp3.fasta.dedupe.fa.log\r\n",
        "-rw-rw-r-- 1 chris  100 Jun 27 14:59 Untitled0.ipynb\r\n"
       ]
      },
      {
       "output_type": "stream",
       "stream": "stdout",
       "text": [
        "total 14G\r\n",
        "-rwxrwxrwx 1 chris  16M May 24 11:07 lamp0.fasta\r\n",
        "-rw-r--r-- 1 chris 2.3M May 24 11:07 lamp0.fasta.nhr\r\n",
        "-rw-r--r-- 1 chris 135K May 24 11:07 lamp0.fasta.nin\r\n",
        "-rw-r--r-- 1 chris 584K May 24 11:07 lamp0.fasta.nsd\r\n",
        "-rw-r--r-- 1 chris  12K May 24 11:07 lamp0.fasta.nsi\r\n",
        "-rw-r--r-- 1 chris 3.5M May 24 11:07 lamp0.fasta.nsq\r\n",
        "-rwxrwxrwx 1 chris 105M Jan 14 19:11 lamp1.fasta\r\n",
        "-rw-r--r-- 1 chris 1.3G Jun 26 10:41 lamp3-C50Z2C20.x.amph.g\r\n",
        "-rw-r--r-- 1 chris 8.2G Jun 26 11:03 lamp3-C50Z2C20.x.amph.p\r\n",
        "-rw-r--r-- 1 chris 781M Jun 26 10:45 lamp3-C50Z2C20.x.zebrafish\r\n",
        "-rw-r--r-- 1 chris 540M May 17 14:48 lamp3.fasta\r\n",
        "-rw-rw-r-- 1 chris 421M May 17 15:52 lamp3.fasta.dedupe.fa\r\n",
        "-rw-rw-r-- 1 chris  36M May 17 15:52 lamp3.fasta.dedupe.fa.clstr\r\n",
        "-rw-rw-r-- 1 chris 420M May 31 15:39 lamp3.fasta.dedupe.fa.part\r\n",
        "-rw-r--r-- 1 chris 240M May 28 16:47 lamp3.x.genome.2.csv\r\n",
        "-rw-rw-r-- 1 chris 416M Jun 26 13:39 petMar_mrna.fa\r\n",
        "-rw-rw-r-- 1 chris 413M Jun 26 16:14 petMar_mrna.fa.part\r\n",
        "-rw-rw-r-- 1 chris    0 Jun 27 13:17 petMar_mrna_parts.hist\r\n",
        "-rw-rw-r-- 1 chris   17 Jun 26 14:30 petMar_part.info\r\n",
        "-rw-rw-r-- 1 chris  26M Jun 26 16:32 x.EST.csv\r\n",
        "-rw-rw-r-- 1 chris    0 Jun 27 14:45 x.genome.csv\r\n",
        "-rw-rw-r-- 1 chris 199M Jun 27 19:27 x.genome_soft.csv\r\n",
        "-rw-rw-r-- 1 chris 8.2M Jun 27 19:14 x.lamp0.csv\r\n",
        "-rw-rw-r-- 1 chris 394M Jun 28 08:55 x.mouse.csv\r\n",
        "-rw-rw-r-- 1 chris  16M Jun 28 09:57 x.zebrafish.csv\r\n"
       ]
      }
     ],
     "prompt_number": 7
    },
    {
     "cell_type": "code",
     "collapsed": false,
     "input": [
      "lump_PS = hb.PartitionSet.fromFastp('petMar_mrna.fa.part')\n",
      "\n"
     ],
     "language": "python",
     "metadata": {},
     "outputs": [],
     "prompt_number": 9
    },
    {
     "cell_type": "code",
     "collapsed": false,
     "input": [
      "dist = lump_PS.histogram()"
     ],
     "language": "python",
     "metadata": {},
     "outputs": [
      {
       "output_type": "stream",
       "stream": "stdout",
       "text": [
        "Generating histogram...\n",
        "...done!"
       ]
      },
      {
       "output_type": "stream",
       "stream": "stdout",
       "text": [
        "\n"
       ]
      }
     ],
     "prompt_number": 10
    },
    {
     "cell_type": "code",
     "collapsed": false,
     "input": [
      "# Find the lump partition (its a single partition!), and dump it to its own file\n",
      "\n",
      "print dist[0]\n",
      "print lump_PS.numSeqs(), len(lump_PS), lump_PS.avgSize()\n",
      "\n",
      "print \"Dumping largest partition...\"\n",
      "with open('petMar_mrna_lump.fp', 'wb') as outfp:\n",
      "    lump_PS.writeFastp(outfp, dist[0][0])\n",
      "with open('petMar_mrna_nonlump.fp', 'wb') as outfp:\n",
      "    for p in dist[1:]:\n",
      "        lump_PS.writeFastp(outfp, p[0])"
     ],
     "language": "python",
     "metadata": {},
     "outputs": [
      {
       "output_type": "stream",
       "stream": "stdout",
       "text": [
        "[2, 357549]\n",
        "672162"
       ]
      },
      {
       "output_type": "stream",
       "stream": "stdout",
       "text": [
        " 263536 "
       ]
      },
      {
       "output_type": "stream",
       "stream": "stdout",
       "text": [
        "2.55055096837\n",
        "Dumping largest partition...\n"
       ]
      }
     ],
     "prompt_number": 12
    },
    {
     "cell_type": "code",
     "collapsed": false,
     "input": [
      "# Now we'll deknot the lump\n",
      "%run ~/tools/khmer/scripts/load-graph.py -x 16e9 -k 25 petMar_lump petMar_mrna_lump.fp"
     ],
     "language": "python",
     "metadata": {},
     "outputs": [
      {
       "output_type": "stream",
       "stream": "stdout",
       "text": [
        "Saving hashtable to petMar_lump\n",
        "Loading kmers from sequences in ['petMar_mrna_lump.fp']\n",
        "We WILL build the tagset (for partitioning/traversal).\n",
        "making hashtable\n",
        "consuming input"
       ]
      },
      {
       "output_type": "stream",
       "stream": "stdout",
       "text": [
        " petMar_mrna_lump.fp\n",
        "..."
       ]
      },
      {
       "output_type": "stream",
       "stream": "stdout",
       "text": [
        " consume_fasta_and_tag 100000 31858966\n",
        "..."
       ]
      },
      {
       "output_type": "stream",
       "stream": "stdout",
       "text": [
        " consume_fasta_and_tag 200000 73955597\n",
        "..."
       ]
      },
      {
       "output_type": "stream",
       "stream": "stdout",
       "text": [
        " consume_fasta_and_tag 300000 118063915\n",
        "saving hashtable in"
       ]
      },
      {
       "output_type": "stream",
       "stream": "stdout",
       "text": [
        " petMar_lump.ht\n",
        "saving tagset in"
       ]
      },
      {
       "output_type": "stream",
       "stream": "stdout",
       "text": [
        " petMar_lump.tagset\n",
        "fp rate estimated to be 0.000"
       ]
      },
      {
       "output_type": "stream",
       "stream": "stdout",
       "text": [
        "\n"
       ]
      },
      {
       "output_type": "stream",
       "stream": "stderr",
       "text": [
        "\n",
        "PARAMETERS:\n",
        " - kmer size =    25 \t\t(-k)\n",
        " - n hashes =     4 \t\t(-N)\n",
        " - min hashsize = 1.6e+10 \t(-x)\n",
        "\n",
        "Estimated memory usage is 8e+09 bytes (n_hashes x min_hashsize / 8)\n",
        "--------\n"
       ]
      }
     ],
     "prompt_number": 13
    },
    {
     "cell_type": "code",
     "collapsed": false,
     "input": [
      "%run ~/tools/khmer/scripts/make-initial-stoptags.py petMar_lump"
     ],
     "language": "python",
     "metadata": {},
     "outputs": [
      {
       "output_type": "stream",
       "stream": "stdout",
       "text": [
        "loading ht petMar_lump.ht\n",
        "loading tagset petMar_lump.tagset..."
       ]
      },
      {
       "output_type": "stream",
       "stream": "stdout",
       "text": [
        "\n",
        "doing pre-partitioning from"
       ]
      },
      {
       "output_type": "stream",
       "stream": "stdout",
       "text": [
        " 59 to 180791542045\n",
        "repartitioning to find HCKs."
       ]
      },
      {
       "output_type": "stream",
       "stream": "stdout",
       "text": [
        "\n",
        "saving stop tags"
       ]
      },
      {
       "output_type": "stream",
       "stream": "stdout",
       "text": [
        "\n"
       ]
      }
     ],
     "prompt_number": 14
    },
    {
     "cell_type": "code",
     "collapsed": false,
     "input": [
      "%run ~/tools/khmer/scripts/partition-graph.py -T 8 --stoptags petMar_lump.stoptags petMar_lump"
     ],
     "language": "python",
     "metadata": {},
     "outputs": [
      {
       "output_type": "stream",
       "stream": "stdout",
       "text": [
        "--\n",
        "SUBSET SIZE 100000\n",
        "N THREADS 8\n",
        "stoptag file: petMar_lump.stoptags\n",
        "--\n",
        "loading ht petMar_lump.ht\n",
        "loading stoptags from"
       ]
      },
      {
       "output_type": "stream",
       "stream": "stdout",
       "text": [
        " petMar_lump.stoptags\n",
        "** Traverse all the things: stop_big_traversals is false.\n",
        "enqueued 38 subset tasks"
       ]
      },
      {
       "output_type": "stream",
       "stream": "stdout",
       "text": [
        "\n",
        "starting 8 threads\n",
        "---\n",
        "starting: petMar_lump 0\n",
        "starting: petMar_lump 1\n",
        "starting: petMar_lump 2\n",
        "starting: petMar_lump 3\n",
        "starting: petMar_lump 4\n",
        "starting: petMar_lump 5\n",
        "starting: petMar_lump 6\n",
        "starting: petMar_lump 7\n",
        "done starting threads\n",
        "saving:"
       ]
      },
      {
       "output_type": "stream",
       "stream": "stdout",
       "text": [
        " petMar_lump 0\n",
        "starting:"
       ]
      },
      {
       "output_type": "stream",
       "stream": "stdout",
       "text": [
        " petMar_lump 8\n",
        "saving:"
       ]
      },
      {
       "output_type": "stream",
       "stream": "stdout",
       "text": [
        " petMar_lump 9\n",
        "saving:"
       ]
      },
      {
       "output_type": "stream",
       "stream": "stdout",
       "text": [
        " petMar_lump 13\n",
        "saving:"
       ]
      },
      {
       "output_type": "stream",
       "stream": "stdout",
       "text": [
        " petMar_lump 8\n",
        "starting:"
       ]
      },
      {
       "output_type": "stream",
       "stream": "stdout",
       "text": [
        " petMar_lump 16\n",
        "saving:"
       ]
      },
      {
       "output_type": "stream",
       "stream": "stdout",
       "text": [
        " petMar_lump 9\n",
        "starting:"
       ]
      },
      {
       "output_type": "stream",
       "stream": "stdout",
       "text": [
        " petMar_lump 17\n",
        "saving:"
       ]
      },
      {
       "output_type": "stream",
       "stream": "stdout",
       "text": [
        " petMar_lump 10\n",
        "starting:"
       ]
      },
      {
       "output_type": "stream",
       "stream": "stdout",
       "text": [
        " petMar_lump 18\n",
        "saving:"
       ]
      },
      {
       "output_type": "stream",
       "stream": "stdout",
       "text": [
        " petMar_lump 12\n",
        "saving:"
       ]
      },
      {
       "output_type": "stream",
       "stream": "stdout",
       "text": [
        " petMar_lump 13\n",
        "starting: petMar_lump 19\n",
        "starting:"
       ]
      },
      {
       "output_type": "stream",
       "stream": "stdout",
       "text": [
        " petMar_lump 20\n",
        "saving:"
       ]
      },
      {
       "output_type": "stream",
       "stream": "stdout",
       "text": [
        " petMar_lump 15\n",
        "starting:"
       ]
      },
      {
       "output_type": "stream",
       "stream": "stdout",
       "text": [
        " petMar_lump 21\n",
        "saving:"
       ]
      },
      {
       "output_type": "stream",
       "stream": "stdout",
       "text": [
        " petMar_lump 14\n",
        "starting:"
       ]
      },
      {
       "output_type": "stream",
       "stream": "stdout",
       "text": [
        " petMar_lump 22\n",
        "saving:"
       ]
      },
      {
       "output_type": "stream",
       "stream": "stdout",
       "text": [
        " petMar_lump 11\n",
        "starting:"
       ]
      },
      {
       "output_type": "stream",
       "stream": "stdout",
       "text": [
        " petMar_lump 23\n",
        "saving:"
       ]
      },
      {
       "output_type": "stream",
       "stream": "stdout",
       "text": [
        " petMar_lump 17\n",
        "starting:"
       ]
      },
      {
       "output_type": "stream",
       "stream": "stdout",
       "text": [
        " petMar_lump 24\n",
        "saving:"
       ]
      },
      {
       "output_type": "stream",
       "stream": "stdout",
       "text": [
        " petMar_lump 16\n",
        "starting:"
       ]
      },
      {
       "output_type": "stream",
       "stream": "stdout",
       "text": [
        " petMar_lump 25\n",
        "saving:"
       ]
      },
      {
       "output_type": "stream",
       "stream": "stdout",
       "text": [
        " petMar_lump 26\n",
        "starting:"
       ]
      },
      {
       "output_type": "stream",
       "stream": "stdout",
       "text": [
        " petMar_lump 26\n",
        "starting:starting:"
       ]
      },
      {
       "output_type": "stream",
       "stream": "stdout",
       "text": [
        " petMar_lump 28\n",
        "saving:"
       ]
      },
      {
       "output_type": "stream",
       "stream": "stdout",
       "text": [
        " petMar_lump 21\n",
        "starting:"
       ]
      },
      {
       "output_type": "stream",
       "stream": "stdout",
       "text": [
        " petMar_lump 29\n",
        "saving:"
       ]
      },
      {
       "output_type": "stream",
       "stream": "stdout",
       "text": [
        " petMar_lump 22\n",
        "starting:"
       ]
      },
      {
       "output_type": "stream",
       "stream": "stdout",
       "text": [
        " petMar_lump 30\n",
        "saving:"
       ]
      },
      {
       "output_type": "stream",
       "stream": "stdout",
       "text": [
        " petMar_lump 23\n",
        "starting:"
       ]
      },
      {
       "output_type": "stream",
       "stream": "stdout",
       "text": [
        " petMar_lump 31\n",
        "saving:"
       ]
      },
      {
       "output_type": "stream",
       "stream": "stdout",
       "text": [
        " petMar_lump 24\n",
        "starting:"
       ]
      },
      {
       "output_type": "stream",
       "stream": "stdout",
       "text": [
        " petMar_lump 32\n",
        "saving:"
       ]
      },
      {
       "output_type": "stream",
       "stream": "stdout",
       "text": [
        " petMar_lump 25\n",
        "starting:"
       ]
      },
      {
       "output_type": "stream",
       "stream": "stdout",
       "text": [
        " petMar_lump 33\n",
        "saving:"
       ]
      },
      {
       "output_type": "stream",
       "stream": "stdout",
       "text": [
        " petMar_lump 28\n",
        "starting:"
       ]
      },
      {
       "output_type": "stream",
       "stream": "stdout",
       "text": [
        " petMar_lump 34\n",
        "saving:"
       ]
      },
      {
       "output_type": "stream",
       "stream": "stdout",
       "text": [
        " petMar_lump 26\n",
        "starting:"
       ]
      },
      {
       "output_type": "stream",
       "stream": "stdout",
       "text": [
        " petMar_lump 35\n",
        "saving:"
       ]
      },
      {
       "output_type": "stream",
       "stream": "stdout",
       "text": [
        " petMar_lump 27\n",
        "starting:"
       ]
      },
      {
       "output_type": "stream",
       "stream": "stdout",
       "text": [
        " petMar_lump 36\n",
        "saving:"
       ]
      },
      {
       "output_type": "stream",
       "stream": "stdout",
       "text": [
        " petMar_lump 30\n",
        "saving:"
       ]
      },
      {
       "output_type": "stream",
       "stream": "stdout",
       "text": [
        " petMar_lump 29\n",
        "starting: petMar_lump 37\n",
        "exiting"
       ]
      },
      {
       "output_type": "stream",
       "stream": "stdout",
       "text": [
        "\n",
        "saving:"
       ]
      },
      {
       "output_type": "stream",
       "stream": "stdout",
       "text": [
        " petMar_lump 31\n",
        "exiting"
       ]
      },
      {
       "output_type": "stream",
       "stream": "stdout",
       "text": [
        "\n",
        "saving:"
       ]
      },
      {
       "output_type": "stream",
       "stream": "stdout",
       "text": [
        " petMar_lump 37\n",
        "exiting"
       ]
      },
      {
       "output_type": "stream",
       "stream": "stdout",
       "text": [
        "\n",
        "saving:"
       ]
      },
      {
       "output_type": "stream",
       "stream": "stdout",
       "text": [
        " petMar_lump 32\n",
        "exiting"
       ]
      },
      {
       "output_type": "stream",
       "stream": "stdout",
       "text": [
        "\n",
        "saving:"
       ]
      },
      {
       "output_type": "stream",
       "stream": "stdout",
       "text": [
        " petMar_lump 33\n",
        "exiting"
       ]
      },
      {
       "output_type": "stream",
       "stream": "stdout",
       "text": [
        "\n",
        "saving:"
       ]
      },
      {
       "output_type": "stream",
       "stream": "stdout",
       "text": [
        " petMar_lump 34\n",
        "exiting"
       ]
      },
      {
       "output_type": "stream",
       "stream": "stdout",
       "text": [
        "\n",
        "saving:"
       ]
      },
      {
       "output_type": "stream",
       "stream": "stdout",
       "text": [
        " petMar_lump 36\n",
        "exiting"
       ]
      },
      {
       "output_type": "stream",
       "stream": "stdout",
       "text": [
        "\n",
        "---\n",
        "done making subsets! see petMar_lump.subset.*.pmap\n"
       ]
      }
     ],
     "prompt_number": 15
    },
    {
     "cell_type": "code",
     "collapsed": false,
     "input": [
      "%run ~/tools/khmer/scripts/find-knots.py -x 2e8 -N 4 petMar_lump"
     ],
     "language": "python",
     "metadata": {},
     "outputs": [
      {
       "output_type": "stream",
       "stream": "stdout",
       "text": [
        "loading ht petMar_lump.ht\n",
        "loading tagset petMar_lump.tagset..."
       ]
      },
      {
       "output_type": "stream",
       "stream": "stdout",
       "text": [
        "\n",
        "loading stoptags petMar_lump.stoptags"
       ]
      },
      {
       "output_type": "stream",
       "stream": "stdout",
       "text": [
        "\n",
        "loading 38 pmap files (first one: petMar_lump.subset.12.pmap)\n",
        "---\n",
        "output stoptags will be in petMar_lump.stoptags\n",
        "(these output stoptags will include the already-loaded set)\n",
        "---\n",
        "<-"
       ]
      },
      {
       "output_type": "stream",
       "stream": "stdout",
       "text": [
        " petMar_lump.subset.12.pmap\n",
        "** repartitioning subset... petMar_lump.subset.12.pmap"
       ]
      },
      {
       "output_type": "stream",
       "stream": "stdout",
       "text": [
        "\n",
        "** merging subset... petMar_lump.subset.12.pmap"
       ]
      },
      {
       "output_type": "stream",
       "stream": "stdout",
       "text": [
        "\n",
        "** repartitioning, round 2... petMar_lump.subset.12.pmap"
       ]
      },
      {
       "output_type": "stream",
       "stream": "stdout",
       "text": [
        "\n",
        "** repartitioned size:"
       ]
      },
      {
       "output_type": "stream",
       "stream": "stdout",
       "text": [
        " 1770\n",
        "saving stoptags binary\n",
        "(0 of 38)\n",
        "\n",
        "<- petMar_lump.subset.4.pmap\n",
        "** repartitioning subset... petMar_lump.subset.4.pmap"
       ]
      },
      {
       "output_type": "stream",
       "stream": "stdout",
       "text": [
        "\n",
        "** merging subset... petMar_lump.subset.4.pmap"
       ]
      },
      {
       "output_type": "stream",
       "stream": "stdout",
       "text": [
        "\n",
        "** repartitioning, round 2... petMar_lump.subset.4.pmap"
       ]
      },
      {
       "output_type": "stream",
       "stream": "stdout",
       "text": [
        "\n",
        "** repartitioned size:"
       ]
      },
      {
       "output_type": "stream",
       "stream": "stdout",
       "text": [
        " 2327\n",
        "saving stoptags binary\n",
        "(1 of 38)\n",
        "\n",
        "<- petMar_lump.subset.21.pmap\n",
        "** repartitioning subset... petMar_lump.subset.21.pmap"
       ]
      },
      {
       "output_type": "stream",
       "stream": "stdout",
       "text": [
        "\n",
        "** merging subset... petMar_lump.subset.21.pmap"
       ]
      },
      {
       "output_type": "stream",
       "stream": "stdout",
       "text": [
        "\n",
        "** repartitioning, round 2... petMar_lump.subset.21.pmap"
       ]
      },
      {
       "output_type": "stream",
       "stream": "stdout",
       "text": [
        "\n",
        "** repartitioned size:"
       ]
      },
      {
       "output_type": "stream",
       "stream": "stdout",
       "text": [
        " 5880\n",
        "saving stoptags binary\n",
        "(2 of 38)\n",
        "\n",
        "<- petMar_lump.subset.29.pmap\n",
        "** repartitioning subset... petMar_lump.subset.29.pmap"
       ]
      },
      {
       "output_type": "stream",
       "stream": "stdout",
       "text": [
        "\n",
        "** merging subset... petMar_lump.subset.29.pmap"
       ]
      },
      {
       "output_type": "stream",
       "stream": "stdout",
       "text": [
        "\n",
        "** repartitioning, round 2... petMar_lump.subset.29.pmap"
       ]
      },
      {
       "output_type": "stream",
       "stream": "stdout",
       "text": [
        "\n",
        "** repartitioned size:"
       ]
      },
      {
       "output_type": "stream",
       "stream": "stdout",
       "text": [
        " 9402\n",
        "saving stoptags binary\n",
        "(3 of 38)\n",
        "\n",
        "<- petMar_lump.subset.28.pmap\n",
        "** repartitioning subset... petMar_lump.subset.28.pmap"
       ]
      },
      {
       "output_type": "stream",
       "stream": "stdout",
       "text": [
        "\n",
        "** merging subset... petMar_lump.subset.28.pmap"
       ]
      },
      {
       "output_type": "stream",
       "stream": "stdout",
       "text": [
        "\n",
        "** repartitioning, round 2... petMar_lump.subset.28.pmap"
       ]
      },
      {
       "output_type": "stream",
       "stream": "stdout",
       "text": [
        "\n",
        "** repartitioned size:"
       ]
      },
      {
       "output_type": "stream",
       "stream": "stdout",
       "text": [
        " 1731\n",
        "saving stoptags binary\n",
        "(4 of 38)\n",
        "\n",
        "<- petMar_lump.subset.19.pmap\n",
        "** repartitioning subset... petMar_lump.subset.19.pmap"
       ]
      },
      {
       "output_type": "stream",
       "stream": "stdout",
       "text": [
        "\n",
        "** merging subset... petMar_lump.subset.19.pmap"
       ]
      },
      {
       "output_type": "stream",
       "stream": "stdout",
       "text": [
        "\n",
        "** repartitioning, round 2... petMar_lump.subset.19.pmap"
       ]
      },
      {
       "output_type": "stream",
       "stream": "stdout",
       "text": [
        "\n",
        "** repartitioned size:"
       ]
      },
      {
       "output_type": "stream",
       "stream": "stdout",
       "text": [
        " 2046\n",
        "saving stoptags binary\n",
        "(5 of 38)\n"
       ]
      },
      {
       "output_type": "stream",
       "stream": "stdout",
       "text": [
        "\n",
        "<- petMar_lump.subset.3.pmap\n",
        "** repartitioning subset... petMar_lump.subset.3.pmap"
       ]
      },
      {
       "output_type": "stream",
       "stream": "stdout",
       "text": [
        "\n",
        "** merging subset... petMar_lump.subset.3.pmap"
       ]
      },
      {
       "output_type": "stream",
       "stream": "stdout",
       "text": [
        "\n",
        "** repartitioning, round 2... petMar_lump.subset.3.pmap"
       ]
      },
      {
       "output_type": "stream",
       "stream": "stdout",
       "text": [
        "\n",
        "** repartitioned size:"
       ]
      },
      {
       "output_type": "stream",
       "stream": "stdout",
       "text": [
        " 5595\n",
        "saving stoptags binary\n",
        "(6 of 38)\n"
       ]
      },
      {
       "output_type": "stream",
       "stream": "stdout",
       "text": [
        "\n",
        "<- petMar_lump.subset.17.pmap\n",
        "** repartitioning subset... petMar_lump.subset.17.pmap"
       ]
      },
      {
       "output_type": "stream",
       "stream": "stdout",
       "text": [
        "\n",
        "** merging subset... petMar_lump.subset.17.pmap"
       ]
      },
      {
       "output_type": "stream",
       "stream": "stdout",
       "text": [
        "\n",
        "** repartitioning, round 2... petMar_lump.subset.17.pmap"
       ]
      },
      {
       "output_type": "stream",
       "stream": "stdout",
       "text": [
        "\n",
        "** repartitioned size:"
       ]
      },
      {
       "output_type": "stream",
       "stream": "stdout",
       "text": [
        " 2919\n",
        "saving stoptags binary\n",
        "(7 of 38)\n"
       ]
      },
      {
       "output_type": "stream",
       "stream": "stdout",
       "text": [
        "\n",
        "<- petMar_lump.subset.16.pmap\n",
        "** repartitioning subset... petMar_lump.subset.16.pmap"
       ]
      },
      {
       "output_type": "stream",
       "stream": "stdout",
       "text": [
        "\n",
        "** merging subset... petMar_lump.subset.16.pmap"
       ]
      },
      {
       "output_type": "stream",
       "stream": "stdout",
       "text": [
        "\n",
        "** repartitioning, round 2... petMar_lump.subset.16.pmap"
       ]
      },
      {
       "output_type": "stream",
       "stream": "stdout",
       "text": [
        "\n",
        "** repartitioned size:"
       ]
      },
      {
       "output_type": "stream",
       "stream": "stdout",
       "text": [
        " 3456\n",
        "saving stoptags binary\n",
        "(8 of 38)\n"
       ]
      },
      {
       "output_type": "stream",
       "stream": "stdout",
       "text": [
        "\n",
        "<- petMar_lump.subset.10.pmap\n",
        "** repartitioning subset... petMar_lump.subset.10.pmap"
       ]
      },
      {
       "output_type": "stream",
       "stream": "stdout",
       "text": [
        "\n",
        "** merging subset... petMar_lump.subset.10.pmap"
       ]
      },
      {
       "output_type": "stream",
       "stream": "stdout",
       "text": [
        "\n",
        "** repartitioning, round 2... petMar_lump.subset.10.pmap"
       ]
      },
      {
       "output_type": "stream",
       "stream": "stdout",
       "text": [
        "\n",
        "** repartitioned size:"
       ]
      },
      {
       "output_type": "stream",
       "stream": "stdout",
       "text": [
        " 1342\n",
        "saving stoptags binary\n",
        "(9 of 38)\n"
       ]
      },
      {
       "output_type": "stream",
       "stream": "stdout",
       "text": [
        "\n",
        "<- petMar_lump.subset.0.pmap\n",
        "** repartitioning subset... petMar_lump.subset.0.pmap"
       ]
      },
      {
       "output_type": "stream",
       "stream": "stdout",
       "text": [
        "\n",
        "** merging subset... petMar_lump.subset.0.pmap"
       ]
      },
      {
       "output_type": "stream",
       "stream": "stdout",
       "text": [
        "\n",
        "** repartitioning, round 2... petMar_lump.subset.0.pmap"
       ]
      },
      {
       "output_type": "stream",
       "stream": "stdout",
       "text": [
        "\n",
        "** repartitioned size:"
       ]
      },
      {
       "output_type": "stream",
       "stream": "stdout",
       "text": [
        " 2524\n",
        "saving stoptags binary\n",
        "(10 of 38)\n"
       ]
      },
      {
       "output_type": "stream",
       "stream": "stdout",
       "text": [
        "\n",
        "<- petMar_lump.subset.25.pmap\n",
        "** repartitioning subset... petMar_lump.subset.25.pmap"
       ]
      },
      {
       "output_type": "stream",
       "stream": "stdout",
       "text": [
        "\n",
        "** merging subset... petMar_lump.subset.25.pmap"
       ]
      },
      {
       "output_type": "stream",
       "stream": "stdout",
       "text": [
        "\n",
        "** repartitioning, round 2... petMar_lump.subset.25.pmap"
       ]
      },
      {
       "output_type": "stream",
       "stream": "stdout",
       "text": [
        "\n",
        "** repartitioned size:"
       ]
      },
      {
       "output_type": "stream",
       "stream": "stdout",
       "text": [
        " 1784\n",
        "saving stoptags binary\n",
        "(11 of 38)\n"
       ]
      },
      {
       "output_type": "stream",
       "stream": "stdout",
       "text": [
        "\n",
        "<- petMar_lump.subset.5.pmap\n",
        "** repartitioning subset... petMar_lump.subset.5.pmap"
       ]
      },
      {
       "output_type": "stream",
       "stream": "stdout",
       "text": [
        "\n",
        "** merging subset... petMar_lump.subset.5.pmap"
       ]
      },
      {
       "output_type": "stream",
       "stream": "stdout",
       "text": [
        "\n",
        "** repartitioning, round 2... petMar_lump.subset.5.pmap"
       ]
      },
      {
       "output_type": "stream",
       "stream": "stdout",
       "text": [
        "\n",
        "** repartitioned size:"
       ]
      },
      {
       "output_type": "stream",
       "stream": "stdout",
       "text": [
        " 1017\n",
        "saving stoptags binary\n",
        "(12 of 38)\n"
       ]
      },
      {
       "output_type": "stream",
       "stream": "stdout",
       "text": [
        "\n",
        "<- petMar_lump.subset.1.pmap\n",
        "** repartitioning subset... petMar_lump.subset.1.pmap"
       ]
      },
      {
       "output_type": "stream",
       "stream": "stdout",
       "text": [
        "\n",
        "** merging subset... petMar_lump.subset.1.pmap"
       ]
      },
      {
       "output_type": "stream",
       "stream": "stdout",
       "text": [
        "\n",
        "** repartitioning, round 2... petMar_lump.subset.1.pmap"
       ]
      },
      {
       "output_type": "stream",
       "stream": "stdout",
       "text": [
        "\n",
        "** repartitioned size:"
       ]
      },
      {
       "output_type": "stream",
       "stream": "stdout",
       "text": [
        " 1198\n",
        "saving stoptags binary\n",
        "(13 of 38)\n"
       ]
      },
      {
       "output_type": "stream",
       "stream": "stdout",
       "text": [
        "\n",
        "<- petMar_lump.subset.14.pmap\n",
        "** repartitioning subset... petMar_lump.subset.14.pmap"
       ]
      },
      {
       "output_type": "stream",
       "stream": "stdout",
       "text": [
        "\n",
        "** merging subset... petMar_lump.subset.14.pmap"
       ]
      },
      {
       "output_type": "stream",
       "stream": "stdout",
       "text": [
        "\n",
        "** repartitioning, round 2... petMar_lump.subset.14.pmap"
       ]
      },
      {
       "output_type": "stream",
       "stream": "stdout",
       "text": [
        "\n",
        "** repartitioned size:"
       ]
      },
      {
       "output_type": "stream",
       "stream": "stdout",
       "text": [
        " 2497\n",
        "saving stoptags binary\n",
        "(14 of 38)\n"
       ]
      },
      {
       "output_type": "stream",
       "stream": "stdout",
       "text": [
        "\n",
        "<- petMar_lump.subset.26.pmap\n",
        "** repartitioning subset... petMar_lump.subset.26.pmap"
       ]
      },
      {
       "output_type": "stream",
       "stream": "stdout",
       "text": [
        "\n",
        "** merging subset... petMar_lump.subset.26.pmap"
       ]
      },
      {
       "output_type": "stream",
       "stream": "stdout",
       "text": [
        "\n",
        "** repartitioning, round 2... petMar_lump.subset.26.pmap"
       ]
      },
      {
       "output_type": "stream",
       "stream": "stdout",
       "text": [
        "\n",
        "** repartitioned size:"
       ]
      },
      {
       "output_type": "stream",
       "stream": "stdout",
       "text": [
        " 2110\n",
        "saving stoptags binary\n",
        "(15 of 38)\n"
       ]
      },
      {
       "output_type": "stream",
       "stream": "stdout",
       "text": [
        "\n",
        "<- petMar_lump.subset.23.pmap\n",
        "** repartitioning subset... petMar_lump.subset.23.pmap"
       ]
      },
      {
       "output_type": "stream",
       "stream": "stdout",
       "text": [
        "\n",
        "** merging subset... petMar_lump.subset.23.pmap"
       ]
      },
      {
       "output_type": "stream",
       "stream": "stdout",
       "text": [
        "\n",
        "** repartitioning, round 2... petMar_lump.subset.23.pmap"
       ]
      },
      {
       "output_type": "stream",
       "stream": "stdout",
       "text": [
        "\n",
        "** repartitioned size:"
       ]
      },
      {
       "output_type": "stream",
       "stream": "stdout",
       "text": [
        " 2698\n",
        "saving stoptags binary\n",
        "(16 of 38)\n"
       ]
      },
      {
       "output_type": "stream",
       "stream": "stdout",
       "text": [
        "\n",
        "<- petMar_lump.subset.27.pmap\n",
        "** repartitioning subset... petMar_lump.subset.27.pmap"
       ]
      },
      {
       "output_type": "stream",
       "stream": "stdout",
       "text": [
        "\n",
        "** merging subset... petMar_lump.subset.27.pmap"
       ]
      },
      {
       "output_type": "stream",
       "stream": "stdout",
       "text": [
        "\n",
        "** repartitioning, round 2... petMar_lump.subset.27.pmap"
       ]
      },
      {
       "output_type": "stream",
       "stream": "stdout",
       "text": [
        "\n",
        "** repartitioned size:"
       ]
      },
      {
       "output_type": "stream",
       "stream": "stdout",
       "text": [
        " 2317\n",
        "saving stoptags binary\n",
        "(17 of 38)\n"
       ]
      },
      {
       "output_type": "stream",
       "stream": "stdout",
       "text": [
        "\n",
        "<- petMar_lump.subset.37.pmap\n",
        "** repartitioning subset... petMar_lump.subset.37.pmap"
       ]
      },
      {
       "output_type": "stream",
       "stream": "stdout",
       "text": [
        "\n",
        "** merging subset... petMar_lump.subset.37.pmap"
       ]
      },
      {
       "output_type": "stream",
       "stream": "stdout",
       "text": [
        "\n",
        "** repartitioning, round 2... petMar_lump.subset.37.pmap"
       ]
      },
      {
       "output_type": "stream",
       "stream": "stdout",
       "text": [
        "\n",
        "** repartitioned size:"
       ]
      },
      {
       "output_type": "stream",
       "stream": "stdout",
       "text": [
        " 1788\n",
        "saving stoptags binary\n",
        "(18 of 38)\n"
       ]
      },
      {
       "output_type": "stream",
       "stream": "stdout",
       "text": [
        "\n",
        "<- petMar_lump.subset.11.pmap\n",
        "** repartitioning subset... petMar_lump.subset.11.pmap"
       ]
      },
      {
       "output_type": "stream",
       "stream": "stdout",
       "text": [
        "\n",
        "** merging subset... petMar_lump.subset.11.pmap"
       ]
      },
      {
       "output_type": "stream",
       "stream": "stdout",
       "text": [
        "\n",
        "** repartitioning, round 2... petMar_lump.subset.11.pmap"
       ]
      },
      {
       "output_type": "stream",
       "stream": "stdout",
       "text": [
        "\n",
        "** repartitioned size:"
       ]
      },
      {
       "output_type": "stream",
       "stream": "stdout",
       "text": [
        " 1273\n",
        "saving stoptags binary\n",
        "(19 of 38)\n"
       ]
      },
      {
       "output_type": "stream",
       "stream": "stdout",
       "text": [
        "\n",
        "<- petMar_lump.subset.2.pmap\n",
        "** repartitioning subset... petMar_lump.subset.2.pmap"
       ]
      },
      {
       "output_type": "stream",
       "stream": "stdout",
       "text": [
        "\n",
        "** merging subset... petMar_lump.subset.2.pmap"
       ]
      },
      {
       "output_type": "stream",
       "stream": "stdout",
       "text": [
        "\n",
        "** repartitioning, round 2... petMar_lump.subset.2.pmap"
       ]
      },
      {
       "output_type": "stream",
       "stream": "stdout",
       "text": [
        "\n",
        "** repartitioned size:"
       ]
      },
      {
       "output_type": "stream",
       "stream": "stdout",
       "text": [
        " 1612\n",
        "saving stoptags binary\n",
        "(20 of 38)\n"
       ]
      },
      {
       "output_type": "stream",
       "stream": "stdout",
       "text": [
        "\n",
        "<- petMar_lump.subset.15.pmap\n",
        "** repartitioning subset... petMar_lump.subset.15.pmap"
       ]
      },
      {
       "output_type": "stream",
       "stream": "stdout",
       "text": [
        "\n",
        "** merging subset... petMar_lump.subset.15.pmap"
       ]
      },
      {
       "output_type": "stream",
       "stream": "stdout",
       "text": [
        "\n",
        "** repartitioning, round 2... petMar_lump.subset.15.pmap"
       ]
      },
      {
       "output_type": "stream",
       "stream": "stdout",
       "text": [
        "\n",
        "** repartitioned size:"
       ]
      },
      {
       "output_type": "stream",
       "stream": "stdout",
       "text": [
        " 1443\n",
        "saving stoptags binary\n",
        "(21 of 38)\n"
       ]
      },
      {
       "output_type": "stream",
       "stream": "stdout",
       "text": [
        "\n",
        "<- petMar_lump.subset.32.pmap\n",
        "** repartitioning subset... petMar_lump.subset.32.pmap"
       ]
      },
      {
       "output_type": "stream",
       "stream": "stdout",
       "text": [
        "\n",
        "** merging subset... petMar_lump.subset.32.pmap"
       ]
      },
      {
       "output_type": "stream",
       "stream": "stdout",
       "text": [
        "\n",
        "** repartitioning, round 2... petMar_lump.subset.32.pmap"
       ]
      },
      {
       "output_type": "stream",
       "stream": "stdout",
       "text": [
        "\n",
        "** repartitioned size:"
       ]
      },
      {
       "output_type": "stream",
       "stream": "stdout",
       "text": [
        " 2177\n",
        "saving stoptags binary\n",
        "(22 of 38)\n"
       ]
      },
      {
       "output_type": "stream",
       "stream": "stdout",
       "text": [
        "\n",
        "<- petMar_lump.subset.7.pmap\n",
        "** repartitioning subset... petMar_lump.subset.7.pmap"
       ]
      },
      {
       "output_type": "stream",
       "stream": "stdout",
       "text": [
        "\n",
        "** merging subset... petMar_lump.subset.7.pmap"
       ]
      },
      {
       "output_type": "stream",
       "stream": "stdout",
       "text": [
        "\n",
        "** repartitioning, round 2... petMar_lump.subset.7.pmap"
       ]
      },
      {
       "output_type": "stream",
       "stream": "stdout",
       "text": [
        "\n",
        "** repartitioned size:"
       ]
      },
      {
       "output_type": "stream",
       "stream": "stdout",
       "text": [
        " 2401\n",
        "saving stoptags binary\n",
        "(23 of 38)\n"
       ]
      },
      {
       "output_type": "stream",
       "stream": "stdout",
       "text": [
        "\n",
        "<- petMar_lump.subset.20.pmap\n",
        "** repartitioning subset... petMar_lump.subset.20.pmap"
       ]
      },
      {
       "output_type": "stream",
       "stream": "stdout",
       "text": [
        "\n",
        "** merging subset... petMar_lump.subset.20.pmap"
       ]
      },
      {
       "output_type": "stream",
       "stream": "stdout",
       "text": [
        "\n",
        "** repartitioning, round 2... petMar_lump.subset.20.pmap"
       ]
      },
      {
       "output_type": "stream",
       "stream": "stdout",
       "text": [
        "\n",
        "** repartitioned size:"
       ]
      },
      {
       "output_type": "stream",
       "stream": "stdout",
       "text": [
        " 2131\n",
        "saving stoptags binary\n",
        "(24 of 38)\n"
       ]
      },
      {
       "output_type": "stream",
       "stream": "stdout",
       "text": [
        "\n",
        "<- petMar_lump.subset.9.pmap\n",
        "** repartitioning subset... petMar_lump.subset.9.pmap"
       ]
      },
      {
       "output_type": "stream",
       "stream": "stdout",
       "text": [
        "\n",
        "** merging subset... petMar_lump.subset.9.pmap"
       ]
      },
      {
       "output_type": "stream",
       "stream": "stdout",
       "text": [
        "\n",
        "** repartitioning, round 2... petMar_lump.subset.9.pmap"
       ]
      },
      {
       "output_type": "stream",
       "stream": "stdout",
       "text": [
        "\n",
        "** repartitioned size:"
       ]
      },
      {
       "output_type": "stream",
       "stream": "stdout",
       "text": [
        " 2593\n",
        "saving stoptags binary\n",
        "(25 of 38)\n"
       ]
      },
      {
       "output_type": "stream",
       "stream": "stdout",
       "text": [
        "\n",
        "<- petMar_lump.subset.33.pmap\n",
        "** repartitioning subset... petMar_lump.subset.33.pmap"
       ]
      },
      {
       "output_type": "stream",
       "stream": "stdout",
       "text": [
        "\n",
        "** merging subset... petMar_lump.subset.33.pmap"
       ]
      }
     ],
     "prompt_number": "*"
    },
    {
     "cell_type": "code",
     "collapsed": false,
     "input": [
      "!mv petMar_mrna.fa.part data/\n",
      "!mv petMar_part.info data/"
     ],
     "language": "python",
     "metadata": {},
     "outputs": [
      {
       "output_type": "stream",
       "stream": "stdout",
       "text": [
        "mv: cannot stat `petMar_mrna.fa.part': No such file or directory"
       ]
      }
     ],
     "prompt_number": 70
    },
    {
     "cell_type": "code",
     "collapsed": true,
     "input": [
      "%run scripts/do-partition.py -T 8 -k 25 -x 16e9 lamp0_part data/lamp0.fasta"
     ],
     "language": "python",
     "metadata": {},
     "outputs": []
    },
    {
     "cell_type": "markdown",
     "metadata": {},
     "source": [
      "And now both!"
     ]
    },
    {
     "cell_type": "code",
     "collapsed": true,
     "input": [
      "%run scripts/do-partition.py -T 8 -k 25 -x 16e9 petMar_lamp0_part data/petMar_mrna.fa data/lamp0.fasta"
     ],
     "language": "python",
     "metadata": {},
     "outputs": []
    },
    {
     "cell_type": "code",
     "collapsed": false,
     "input": [
      "%run scripts/stats.py 200 db/petMar2.fa.masked"
     ],
     "language": "python",
     "metadata": {},
     "outputs": [
      {
       "output_type": "stream",
       "stream": "stdout",
       "text": [
        "filename trim_n sum min med mean max n50_len\n",
        "db/petMar2.fa.masked & 24945 & 885542034 & 201 & 8309 & 35499 & 4695893 & 184619"
       ]
      },
      {
       "output_type": "stream",
       "stream": "stdout",
       "text": [
        "\n"
       ]
      }
     ],
     "prompt_number": 3
    },
    {
     "cell_type": "heading",
     "level": 4,
     "metadata": {},
     "source": [
      "Then we need some blasts...."
     ]
    },
    {
     "cell_type": "code",
     "collapsed": false,
     "input": [
      "cd 2013-lamprey/"
     ],
     "language": "python",
     "metadata": {},
     "outputs": [
      {
       "output_type": "stream",
       "stream": "stdout",
       "text": [
        "/w/2013-lamprey\n"
       ]
      }
     ],
     "prompt_number": 6
    },
    {
     "cell_type": "code",
     "collapsed": false,
     "input": [
      "blast_cols = \"qseqid sseqid length nident qstart qend sstart send bitscore evalue\"\n",
      "blast_fmt = \"10 \" + blast_cols\n",
      "print blast_fmt"
     ],
     "language": "python",
     "metadata": {},
     "outputs": [
      {
       "output_type": "stream",
       "stream": "stdout",
       "text": [
        "10 qseqid sseqid length nident qstart qend sstart send bitscore evalue\n"
       ]
      }
     ],
     "prompt_number": 11
    },
    {
     "cell_type": "code",
     "collapsed": false,
     "input": [
      "!blastn -query data/petMar_mrna.fa.part -db db/est.fa -out data/x.EST.csv -num_threads 8 -evalue 0.00001 -outfmt \"{blast_fmt}\""
     ],
     "language": "python",
     "metadata": {},
     "outputs": [],
     "prompt_number": 73
    },
    {
     "cell_type": "code",
     "collapsed": false,
     "input": [
      "!wc -l data/x.EST.csv"
     ],
     "language": "python",
     "metadata": {},
     "outputs": [
      {
       "output_type": "stream",
       "stream": "stdout",
       "text": [
        "437567 data/x.EST.csv"
       ]
      }
     ],
     "prompt_number": 74
    },
    {
     "cell_type": "code",
     "collapsed": true,
     "input": [
      "!blastn -query data/petMar_mrna.fa.part -db data/lamp0.fasta -out data/x.lamp0.csv -num_threads 8 -evalue 0.0000001 -outfmt \"{blast_fmt}\""
     ],
     "language": "python",
     "metadata": {},
     "outputs": [],
     "prompt_number": 8
    },
    {
     "cell_type": "code",
     "collapsed": true,
     "input": [
      "# BLAST against the hard-masked genome, with a higher evalue filter, for scaffolding\n",
      "!blastn -query data/petMar_mrna.fa.part -db db/petMar2.fa -out data/x.genome_soft.csv -num_threads 8 -evalue 0.0000001 -outfmt \"{blast_fmt}\""
     ],
     "language": "python",
     "metadata": {},
     "outputs": [],
     "prompt_number": 9
    },
    {
     "cell_type": "code",
     "collapsed": false,
     "input": [
      "!blastx -query data/petMar_mrna.fa.part -db db/mouse.protein.fa -out data/x.mouse.csv -num_threads 8 -evalue 0.0000001 -outfmt \"{blast_fmt}\""
     ],
     "language": "python",
     "metadata": {},
     "outputs": [],
     "prompt_number": "*"
    },
    {
     "cell_type": "code",
     "collapsed": false,
     "input": [
      "!blastx -query data/petMar_mrna.fa.part -db db/zebrafish.protein.fa -out data/x.zebrafish.csv -num_threads 8 -evalue 0.0000001 -outfmt \"{blast_fmt}\""
     ],
     "language": "python",
     "metadata": {},
     "outputs": [],
     "prompt_number": "*"
    },
    {
     "cell_type": "code",
     "collapsed": false,
     "input": [
      "!blastx -query data/petMar_mrna.fa.part -db db/myxinidae.protein.fa -out data/x.myx.csv -num_threads 8 -evalue 0.0000001 -outfmt \"{blast_fmt}\""
     ],
     "language": "python",
     "metadata": {},
     "outputs": [],
     "prompt_number": "*"
    },
    {
     "cell_type": "code",
     "collapsed": false,
     "input": [
      "!blastx -query data/petMar_mrna.fa.part -db db/amphioxus.protein.fa -out data/x.amph.csv -num_threads 8 -evalue 0.0000001 -outfmt \"{blast_fmt}\""
     ],
     "language": "python",
     "metadata": {},
     "outputs": [],
     "prompt_number": "*"
    },
    {
     "cell_type": "heading",
     "level": 4,
     "metadata": {},
     "source": [
      "Now, we can finally check for those erroneous transcripts"
     ]
    },
    {
     "cell_type": "code",
     "collapsed": false,
     "input": [
      "petMar_mrna_PS = hb.PartitionSet.associateHits('data/petMar_mrna.fa.part', 'data/x.genome_soft.csv')\n",
      "#petMar_mrna_PS.addHits('data/x.EST.csv')"
     ],
     "language": "python",
     "metadata": {},
     "outputs": [
      {
       "output_type": "stream",
       "stream": "stdout",
       "text": [
        "Parsing hits...\n",
        "Parsed 0 rows...\n",
        "comp15_c0_seq1,GL482660,238,2e-120,1,238\n",
        "Parsed"
       ]
      },
      {
       "output_type": "stream",
       "stream": "stdout",
       "text": [
        " 100000 rows...\n",
        "comp397997_c0_seq2,GL492314,88,2e-30,1,88\n",
        "Parsed"
       ]
      },
      {
       "output_type": "stream",
       "stream": "stdout",
       "text": [
        " 200000 rows...\n",
        "comp515516_c0_seq1,GL483362,83,1e-30,384,466\n",
        "Parsed"
       ]
      },
      {
       "output_type": "stream",
       "stream": "stdout",
       "text": [
        " 300000 rows...\n",
        "comp564501_c0_seq1,GL484072,44,3e-12,1,44\n",
        "Parsed"
       ]
      },
      {
       "output_type": "stream",
       "stream": "stdout",
       "text": [
        " 400000 rows...\n",
        "comp596795_c0_seq1,GL476513,53,1e-13,1,52\n",
        "Parsed"
       ]
      },
      {
       "output_type": "stream",
       "stream": "stdout",
       "text": [
        " 500000 rows...\n",
        "comp613349_c1_seq1,GL481379,123,2e-57,852,974\n",
        "Parsed"
       ]
      },
      {
       "output_type": "stream",
       "stream": "stdout",
       "text": [
        " 600000 rows...\n",
        "comp623628_c0_seq3,GL479152,104,1e-33,1,104\n",
        "Parsed"
       ]
      },
      {
       "output_type": "stream",
       "stream": "stdout",
       "text": [
        " 700000 rows...\n",
        "comp628916_c0_seq1,GL501097,196,7e-75,1,195\n",
        "Parsed"
       ]
      },
      {
       "output_type": "stream",
       "stream": "stdout",
       "text": [
        " 800000 rows...\n",
        "comp631383_c3_seq2,GL478742,76,1e-18,31,106\n",
        "Parsed"
       ]
      },
      {
       "output_type": "stream",
       "stream": "stdout",
       "text": [
        " 900000 rows...\n",
        "comp633292_c0_seq13,GL480460,459,0.0,17,475\n",
        "Parsed"
       ]
      },
      {
       "output_type": "stream",
       "stream": "stdout",
       "text": [
        " 1000000 rows...\n",
        "comp634886_c4_seq2,GL476941,175,1e-25,1087,1257\n",
        "Parsed"
       ]
      },
      {
       "output_type": "stream",
       "stream": "stdout",
       "text": [
        " 1100000 rows...\n",
        "comp636454_c2_seq7,GL476628,148,2e-71,716,863\n",
        "Parsed"
       ]
      },
      {
       "output_type": "stream",
       "stream": "stdout",
       "text": [
        " 1200000 rows...\n",
        "comp637857_c1_seq2,GL478931,158,4e-35,244,397\n",
        "Parsed"
       ]
      },
      {
       "output_type": "stream",
       "stream": "stdout",
       "text": [
        " 1300000 rows...\n",
        "comp639188_c0_seq4,GL476592,149,1e-69,973,1121\n",
        "Parsed"
       ]
      },
      {
       "output_type": "stream",
       "stream": "stdout",
       "text": [
        " 1400000 rows...\n",
        "comp640339_c0_seq8,GL476484,80,1e-19,243,322\n",
        "Parsed"
       ]
      },
      {
       "output_type": "stream",
       "stream": "stdout",
       "text": [
        " 1500000 rows...\n",
        "comp641461_c0_seq2,GL476948,306,1e-148,17,319\n",
        "Parsed"
       ]
      },
      {
       "output_type": "stream",
       "stream": "stdout",
       "text": [
        " 1600000 rows...\n",
        "comp642589_c3_seq1,GL480253,179,9e-21,87,260\n",
        "Parsed"
       ]
      },
      {
       "output_type": "stream",
       "stream": "stdout",
       "text": [
        " 1700000 rows...\n",
        "comp643729_c7_seq4,GL477652,167,1e-56,254,419\n",
        "Parsed"
       ]
      },
      {
       "output_type": "stream",
       "stream": "stdout",
       "text": [
        " 1800000 rows...\n",
        "comp644901_c0_seq5,GL478734,532,0.0,578,1106\n",
        "Parsed"
       ]
      },
      {
       "output_type": "stream",
       "stream": "stdout",
       "text": [
        " 1900000 rows...\n",
        "comp645911_c1_seq7,GL481821,203,1e-12,31,226\n",
        "Parsed"
       ]
      },
      {
       "output_type": "stream",
       "stream": "stdout",
       "text": [
        " 2000000 rows...\n",
        "comp646963_c1_seq1,GL483349,66,4e-15,1154,1219\n",
        "Parsed"
       ]
      },
      {
       "output_type": "stream",
       "stream": "stdout",
       "text": [
        " 2100000 rows...\n",
        "comp647947_c0_seq6,GL490870,135,2e-45,69,202\n",
        "Parsed"
       ]
      },
      {
       "output_type": "stream",
       "stream": "stdout",
       "text": [
        " 2200000 rows...\n",
        "comp648704_c3_seq13,GL485999,62,1e-15,383,444\n",
        "Parsed"
       ]
      },
      {
       "output_type": "stream",
       "stream": "stdout",
       "text": [
        " 2300000 rows...\n",
        "comp649542_c0_seq20,GL478677,108,7e-49,1429,1536\n",
        "Parsed"
       ]
      },
      {
       "output_type": "stream",
       "stream": "stdout",
       "text": [
        " 2400000 rows...\n",
        "comp650443_c0_seq3,GL476896,117,5e-24,121,230\n",
        "Parsed"
       ]
      },
      {
       "output_type": "stream",
       "stream": "stdout",
       "text": [
        " 2500000 rows...\n",
        "comp651210_c1_seq21,GL478149,49,9e-14,121,169\n",
        "Parsed"
       ]
      },
      {
       "output_type": "stream",
       "stream": "stdout",
       "text": [
        " 2600000 rows...\n",
        "comp651884_c1_seq9,GL479219,206,1e-62,23,218\n",
        "Parsed"
       ]
      },
      {
       "output_type": "stream",
       "stream": "stdout",
       "text": [
        " 2700000 rows...\n",
        "comp652607_c4_seq7,GL476624,55,1e-12,2521,2575\n",
        "Parsed"
       ]
      },
      {
       "output_type": "stream",
       "stream": "stdout",
       "text": [
        " 2800000 rows...\n",
        "comp653115_c4_seq13,GL476422,80,3e-23,434,512\n",
        "Parsed"
       ]
      },
      {
       "output_type": "stream",
       "stream": "stdout",
       "text": [
        " 2900000 rows...\n",
        "comp653625_c0_seq10,GL476368,1951,0.0,1,1943\n",
        "Parsed"
       ]
      },
      {
       "output_type": "stream",
       "stream": "stdout",
       "text": [
        " 3000000 rows...\n",
        "comp653924_c0_seq15,GL477860,318,4e-134,31,348\n",
        "Parsed"
       ]
      },
      {
       "output_type": "stream",
       "stream": "stdout",
       "text": [
        " 3100000 rows...\n",
        "comp2674516_c0_seq1,GL479362,208,2e-105,1,208\n",
        "...done parsing 3161352 hits."
       ]
      },
      {
       "output_type": "stream",
       "stream": "stdout",
       "text": [
        "\n",
        "sorting hits by query...\n",
        "sorted 3161352 hits"
       ]
      },
      {
       "output_type": "stream",
       "stream": "stdout",
       "text": [
        "\n",
        "partitioning hits by query...\n",
        "...done!"
       ]
      },
      {
       "output_type": "stream",
       "stream": "stdout",
       "text": [
        "\n",
        "469919 queries over 3161352 hits\n",
        "Reading sequences and associating hits...\n",
        "...done!"
       ]
      },
      {
       "output_type": "stream",
       "stream": "stdout",
       "text": [
        "\n"
       ]
      }
     ],
     "prompt_number": 9
    },
    {
     "cell_type": "code",
     "collapsed": false,
     "input": [
      "v, i, petMar_mrna_PS_val = validateTranscripts(petMar_mrna_PS)"
     ],
     "language": "python",
     "metadata": {},
     "outputs": [
      {
       "output_type": "stream",
       "stream": "stdout",
       "text": [
        "Starting validation process: checking 672162 transcripts\n",
        "0 partitions, 0 sequences checked...\n",
        "0 valid, 0 invalid so far...\n",
        "1 partitions, 50000 sequences checked..."
       ]
      },
      {
       "output_type": "stream",
       "stream": "stdout",
       "text": [
        "\n",
        "49369 valid, 631 invalid so far...\n",
        "1 partitions, 100000 sequences checked..."
       ]
      },
      {
       "output_type": "stream",
       "stream": "stdout",
       "text": [
        "\n",
        "98380 valid, 1620 invalid so far...\n",
        "1 partitions, 150000 sequences checked..."
       ]
      },
      {
       "output_type": "stream",
       "stream": "stdout",
       "text": [
        "\n",
        "146632 valid, 3368 invalid so far...\n",
        "1 partitions, 200000 sequences checked..."
       ]
      },
      {
       "output_type": "stream",
       "stream": "stdout",
       "text": [
        "\n",
        "193873 valid, 6127 invalid so far...\n",
        "1 partitions, 250000 sequences checked..."
       ]
      },
      {
       "output_type": "stream",
       "stream": "stdout",
       "text": [
        "\n",
        "240988 valid, 9012 invalid so far...\n",
        "1 partitions, 300000 sequences checked..."
       ]
      },
      {
       "output_type": "stream",
       "stream": "stdout",
       "text": [
        "\n",
        "287765 valid, 12235 invalid so far...\n",
        "1 partitions, 350000 sequences checked..."
       ]
      },
      {
       "output_type": "stream",
       "stream": "stdout",
       "text": [
        "\n",
        "335070 valid, 14930 invalid so far...\n",
        "34427 partitions, 400000 sequences checked..."
       ]
      },
      {
       "output_type": "stream",
       "stream": "stdout",
       "text": [
        "\n",
        "384751 valid, 15249 invalid so far...\n",
        "75693 partitions, 450000 sequences checked..."
       ]
      },
      {
       "output_type": "stream",
       "stream": "stdout",
       "text": [
        "\n",
        "434428 valid, 15572 invalid so far...\n",
        "117001 partitions, 500000 sequences checked..."
       ]
      },
      {
       "output_type": "stream",
       "stream": "stdout",
       "text": [
        "\n",
        "484136 valid, 15864 invalid so far...\n",
        "158950 partitions, 550000 sequences checked..."
       ]
      },
      {
       "output_type": "stream",
       "stream": "stdout",
       "text": [
        "\n",
        "533850 valid, 16150 invalid so far...\n",
        "201464 partitions, 600000 sequences checked..."
       ]
      },
      {
       "output_type": "stream",
       "stream": "stdout",
       "text": [
        "\n",
        "583543 valid, 16457 invalid so far...\n",
        "244713 partitions, 650000 sequences checked..."
       ]
      },
      {
       "output_type": "stream",
       "stream": "stdout",
       "text": [
        "\n",
        "633203 valid, 16797 invalid so far...\n"
       ]
      }
     ],
     "prompt_number": 10
    },
    {
     "cell_type": "code",
     "collapsed": false,
     "input": [
      "print len(petMar_mrna_PS_val)"
     ],
     "language": "python",
     "metadata": {},
     "outputs": [
      {
       "ename": "NameError",
       "evalue": "name 'v' is not defined",
       "output_type": "pyerr",
       "traceback": [
        "\u001b[1;31m---------------------------------------------------------------------------\u001b[0m\n\u001b[1;31mNameError\u001b[0m                                 Traceback (most recent call last)",
        "\u001b[1;32m<ipython-input-3-d739af88d139>\u001b[0m in \u001b[0;36m<module>\u001b[1;34m()\u001b[0m\n\u001b[1;32m----> 1\u001b[1;33m \u001b[1;32mprint\u001b[0m \u001b[0mv\u001b[0m\u001b[1;33m,\u001b[0m \u001b[0mi\u001b[0m\u001b[1;33m,\u001b[0m \u001b[0mlen\u001b[0m\u001b[1;33m(\u001b[0m\u001b[0mpetMar_mrna_PS_val\u001b[0m\u001b[1;33m)\u001b[0m\u001b[1;33m\u001b[0m\u001b[0m\n\u001b[0m",
        "\u001b[1;31mNameError\u001b[0m: name 'v' is not defined"
       ]
      }
     ],
     "prompt_number": 3
    },
    {
     "cell_type": "heading",
     "level": 3,
     "metadata": {},
     "source": [
      "Let's do some partition analysis"
     ]
    },
    {
     "cell_type": "code",
     "collapsed": false,
     "input": [
      "petMar_mrna_PS = hb.PartitionSet.associateHits('data/petMar_mrna.fa.part', 'data/x.genome_soft.csv')"
     ],
     "language": "python",
     "metadata": {},
     "outputs": [
      {
       "output_type": "stream",
       "stream": "stdout",
       "text": [
        "Parsing hits...\n",
        "Parsed 0 rows...\n",
        "comp15_c0_seq1,GL482660,238,2e-120,1,238\n",
        "Parsed"
       ]
      },
      {
       "output_type": "stream",
       "stream": "stdout",
       "text": [
        " 100000 rows...\n",
        "comp397997_c0_seq2,GL492314,88,2e-30,1,88\n",
        "Parsed"
       ]
      },
      {
       "output_type": "stream",
       "stream": "stdout",
       "text": [
        " 200000 rows...\n",
        "comp515516_c0_seq1,GL483362,83,1e-30,384,466\n",
        "Parsed"
       ]
      },
      {
       "output_type": "stream",
       "stream": "stdout",
       "text": [
        " 300000 rows...\n",
        "comp564501_c0_seq1,GL484072,44,3e-12,1,44\n",
        "Parsed"
       ]
      },
      {
       "output_type": "stream",
       "stream": "stdout",
       "text": [
        " 400000 rows...\n",
        "comp596795_c0_seq1,GL476513,53,1e-13,1,52\n",
        "Parsed"
       ]
      },
      {
       "output_type": "stream",
       "stream": "stdout",
       "text": [
        " 500000 rows...\n",
        "comp613349_c1_seq1,GL481379,123,2e-57,852,974\n",
        "Parsed"
       ]
      },
      {
       "output_type": "stream",
       "stream": "stdout",
       "text": [
        " 600000 rows...\n",
        "comp623628_c0_seq3,GL479152,104,1e-33,1,104\n",
        "Parsed"
       ]
      },
      {
       "output_type": "stream",
       "stream": "stdout",
       "text": [
        " 700000 rows...\n",
        "comp628916_c0_seq1,GL501097,196,7e-75,1,195\n",
        "Parsed"
       ]
      },
      {
       "output_type": "stream",
       "stream": "stdout",
       "text": [
        " 800000 rows...\n",
        "comp631383_c3_seq2,GL478742,76,1e-18,31,106\n",
        "Parsed"
       ]
      },
      {
       "output_type": "stream",
       "stream": "stdout",
       "text": [
        " 900000 rows...\n",
        "comp633292_c0_seq13,GL480460,459,0.0,17,475\n",
        "Parsed"
       ]
      },
      {
       "output_type": "stream",
       "stream": "stdout",
       "text": [
        " 1000000 rows...\n",
        "comp634886_c4_seq2,GL476941,175,1e-25,1087,1257\n",
        "Parsed"
       ]
      },
      {
       "output_type": "stream",
       "stream": "stdout",
       "text": [
        " 1100000 rows...\n",
        "comp636454_c2_seq7,GL476628,148,2e-71,716,863\n",
        "Parsed"
       ]
      },
      {
       "output_type": "stream",
       "stream": "stdout",
       "text": [
        " 1200000 rows...\n",
        "comp637857_c1_seq2,GL478931,158,4e-35,244,397\n",
        "Parsed"
       ]
      },
      {
       "output_type": "stream",
       "stream": "stdout",
       "text": [
        " 1300000 rows...\n",
        "comp639188_c0_seq4,GL476592,149,1e-69,973,1121\n",
        "Parsed"
       ]
      },
      {
       "output_type": "stream",
       "stream": "stdout",
       "text": [
        " 1400000 rows...\n",
        "comp640339_c0_seq8,GL476484,80,1e-19,243,322\n",
        "Parsed"
       ]
      },
      {
       "output_type": "stream",
       "stream": "stdout",
       "text": [
        " 1500000 rows...\n",
        "comp641461_c0_seq2,GL476948,306,1e-148,17,319\n",
        "Parsed"
       ]
      },
      {
       "output_type": "stream",
       "stream": "stdout",
       "text": [
        " 1600000 rows...\n",
        "comp642589_c3_seq1,GL480253,179,9e-21,87,260\n",
        "Parsed"
       ]
      },
      {
       "output_type": "stream",
       "stream": "stdout",
       "text": [
        " 1700000 rows...\n",
        "comp643729_c7_seq4,GL477652,167,1e-56,254,419\n",
        "Parsed"
       ]
      },
      {
       "output_type": "stream",
       "stream": "stdout",
       "text": [
        " 1800000 rows...\n",
        "comp644901_c0_seq5,GL478734,532,0.0,578,1106\n",
        "Parsed"
       ]
      },
      {
       "output_type": "stream",
       "stream": "stdout",
       "text": [
        " 1900000 rows...\n",
        "comp645911_c1_seq7,GL481821,203,1e-12,31,226\n",
        "Parsed"
       ]
      },
      {
       "output_type": "stream",
       "stream": "stdout",
       "text": [
        " 2000000 rows...\n",
        "comp646963_c1_seq1,GL483349,66,4e-15,1154,1219\n",
        "Parsed"
       ]
      },
      {
       "output_type": "stream",
       "stream": "stdout",
       "text": [
        " 2100000 rows...\n",
        "comp647947_c0_seq6,GL490870,135,2e-45,69,202\n",
        "Parsed"
       ]
      },
      {
       "output_type": "stream",
       "stream": "stdout",
       "text": [
        " 2200000 rows...\n",
        "comp648704_c3_seq13,GL485999,62,1e-15,383,444\n",
        "Parsed"
       ]
      },
      {
       "output_type": "stream",
       "stream": "stdout",
       "text": [
        " 2300000 rows...\n",
        "comp649542_c0_seq20,GL478677,108,7e-49,1429,1536\n",
        "Parsed"
       ]
      },
      {
       "output_type": "stream",
       "stream": "stdout",
       "text": [
        " 2400000 rows...\n",
        "comp650443_c0_seq3,GL476896,117,5e-24,121,230\n",
        "Parsed"
       ]
      },
      {
       "output_type": "stream",
       "stream": "stdout",
       "text": [
        " 2500000 rows...\n",
        "comp651210_c1_seq21,GL478149,49,9e-14,121,169\n",
        "Parsed"
       ]
      },
      {
       "output_type": "stream",
       "stream": "stdout",
       "text": [
        " 2600000 rows...\n",
        "comp651884_c1_seq9,GL479219,206,1e-62,23,218\n",
        "Parsed"
       ]
      },
      {
       "output_type": "stream",
       "stream": "stdout",
       "text": [
        " 2700000 rows...\n",
        "comp652607_c4_seq7,GL476624,55,1e-12,2521,2575\n",
        "Parsed"
       ]
      },
      {
       "output_type": "stream",
       "stream": "stdout",
       "text": [
        " 2800000 rows...\n",
        "comp653115_c4_seq13,GL476422,80,3e-23,434,512\n",
        "Parsed"
       ]
      },
      {
       "output_type": "stream",
       "stream": "stdout",
       "text": [
        " 2900000 rows...\n",
        "comp653625_c0_seq10,GL476368,1951,0.0,1,1943\n",
        "Parsed"
       ]
      },
      {
       "output_type": "stream",
       "stream": "stdout",
       "text": [
        " 3000000 rows...\n",
        "comp653924_c0_seq15,GL477860,318,4e-134,31,348\n",
        "Parsed"
       ]
      },
      {
       "output_type": "stream",
       "stream": "stdout",
       "text": [
        " 3100000 rows...\n",
        "comp2674516_c0_seq1,GL479362,208,2e-105,1,208\n",
        "...done parsing 3161352 hits."
       ]
      },
      {
       "output_type": "stream",
       "stream": "stdout",
       "text": [
        "\n",
        "sorting hits by query...\n",
        "sorted 3161352 hits"
       ]
      },
      {
       "output_type": "stream",
       "stream": "stdout",
       "text": [
        "\n",
        "partitioning hits by query...\n",
        "...done!"
       ]
      },
      {
       "output_type": "stream",
       "stream": "stdout",
       "text": [
        "\n",
        "469919 queries over 3161352 hits\n",
        "Reading sequences and associating hits...\n",
        "...done!"
       ]
      },
      {
       "output_type": "stream",
       "stream": "stdout",
       "text": [
        "\n"
       ]
      }
     ],
     "prompt_number": 4
    },
    {
     "cell_type": "code",
     "collapsed": true,
     "input": [
      "petMar_mrna_dist = np.array(petMar_mrna_PS.histogram())\n",
      "#with open('data/petMar_mrna_parts.hist', 'wb') as outfp:\n",
      "#    for row in petMar_mrna_hist:\n",
      "#        outfp.write(row)"
     ],
     "language": "python",
     "metadata": {},
     "outputs": [
      {
       "output_type": "stream",
       "stream": "stdout",
       "text": [
        "Generating histogram...\n",
        "...done!"
       ]
      },
      {
       "output_type": "stream",
       "stream": "stdout",
       "text": [
        "\n"
       ]
      }
     ],
     "prompt_number": 14
    },
    {
     "cell_type": "code",
     "collapsed": false,
     "input": [
      "print petMar_mrna_dist[:,1]\n",
      "hist = np.bincount(petMar_mrna_dist[:,1])\n",
      "print hist\n",
      "plot(np.arange(len(hist)-1), hist[1:])\n",
      "axis(xmax=100,ymax=20)"
     ],
     "language": "python",
     "metadata": {},
     "outputs": [
      {
       "output_type": "stream",
       "stream": "stdout",
       "text": [
        "[     1      1      1 ...,     53     66 357549]\n",
        "[     0 231884  22717 ...,      0      0      1]\n"
       ]
      },
      {
       "output_type": "pyout",
       "prompt_number": 33,
       "text": [
        "(0.0, 100, 0.0, 20)"
       ]
      },
      {
       "output_type": "display_data",
       "png": "[encoded data removed]"
      }
     ],
     "prompt_number": 33
    },
    {
     "cell_type": "code",
     "collapsed": false,
     "input": [
      "petMar_mrna_dist[-1:,1].sum()"
     ],
     "language": "python",
     "metadata": {},
     "outputs": [
      {
       "output_type": "stream",
       "stream": "stdout",
       "text": [
        "The history saving thread hit an unexpected error (OperationalError('database is locked',)).History will not be written to the database.\n"
       ]
      },
      {
       "output_type": "pyout",
       "prompt_number": 38,
       "text": [
        "357549"
       ]
      }
     ],
     "prompt_number": 38
    },
    {
     "cell_type": "code",
     "collapsed": false,
     "input": [],
     "language": "python",
     "metadata": {},
     "outputs": [],
     "prompt_number": 105
    },
    {
     "cell_type": "markdown",
     "metadata": {},
     "source": [
      "*Get full-length cDNAs from GenBank - not ESTs\n",
      "*Use for validating assembly AND scaffolding\n",
      "*Draw exon-contig maps ****\n",
      "*Remove lump and rerun partition analysis (today!)****\n",
      "*Validate with different tissues"
     ]
    }
   ],
   "metadata": {}
  }
 ]
}