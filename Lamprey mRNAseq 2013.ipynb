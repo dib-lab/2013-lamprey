{
 "metadata": {
  "name": "Lamprey mRNAseq 2013"
 },
 "nbformat": 3,
 "nbformat_minor": 0,
 "worksheets": [
  {
   "cells": [
    {
     "cell_type": "code",
     "collapsed": true,
     "input": [
      "%load_ext autoreload\n",
      "%autoreload 2\n",
      "import sys\n",
      "sys.path.append('/w/peasoup/scripts/')\n",
      "import hambone as hb\n",
      "import numpy as np\n",
      "import screed\n",
      "import khmer\n"
     ],
     "language": "python",
     "metadata": {},
     "outputs": [],
     "prompt_number": 5
    },
    {
     "cell_type": "markdown",
     "metadata": {},
     "source": [
      "Get Necessary Data"
     ]
    },
    {
     "cell_type": "raw",
     "metadata": {},
     "source": [
      "Transcript Validation\n",
      "\n",
      "This little bit of code goes through every transcript's hits,\n",
      "by subject, and checks the directionality on both query and subject;\n",
      "if there are conflicting alignments, the transcript is thrown out"
     ]
    },
    {
     "cell_type": "code",
     "collapsed": false,
     "input": [
      "from itertools import groupby\n",
      "\n",
      "def getDir(hit):\n",
      "    qdir = 0\n",
      "    sdir = 0\n",
      "    if hit.qstart > hit.qend:\n",
      "        qdir = 1\n",
      "    if hit.sstart > hit.send:\n",
      "        sdir =1\n",
      "    return (qdir, sdir)\n",
      "\n",
      "def dirVal(aSeq):\n",
      "    skey = lambda hit: hit.subject\n",
      "    hits = sorted(aSeq.hits, key=skey)\n",
      "    if len(aSeq.hits) > 1:\n",
      "        for k, g in groupby(hits, skey):\n",
      "            subHits = [s for s in g]\n",
      "            D = getDir(subHits[0])\n",
      "            for hit in subHits[1:]:\n",
      "               if getDir(hit) != D:\n",
      "                   return False\n",
      "    return True\n",
      "\n",
      "\n",
      "def validateTranscripts(blast_pSet):\n",
      "    valid = 0\n",
      "    invalid = 0\n",
      "    seqCounter = 0\n",
      "    \n",
      "    new_pSet = hb.PartitionSet()\n",
      "    \n",
      "    print \"Starting validation process: checking {} transcripts\".format(blast_pSet.numSeqs())\n",
      "    for n, partition in enumerate(blast_pSet):\n",
      "        for aSeq in partition:\n",
      "            if seqCounter % 50000 == 0:\n",
      "                print \"{} partitions, {} sequences checked...\".format(n, seqCounter)\n",
      "                print \"{} valid, {} invalid so far...\".format(str(valid), str(invalid))\n",
      "            seqCounter += 1\n",
      "            if dirVal(aSeq):\n",
      "                new_pSet.addSeq(aSeq, partition.pid)\n",
      "                valid += 1\n",
      "            else:\n",
      "                invalid += 1\n",
      "    return valid, invalid, new_pSet"
     ],
     "language": "python",
     "metadata": {},
     "outputs": [],
     "prompt_number": 7
    },
    {
     "cell_type": "heading",
     "level": 2,
     "metadata": {},
     "source": []
    },
    {
     "cell_type": "heading",
     "level": 2,
     "metadata": {},
     "source": [
      "Step 1: Cleanup"
     ]
    },
    {
     "cell_type": "markdown",
     "metadata": {},
     "source": [
      "Where are we at baseline?"
     ]
    },
    {
     "cell_type": "code",
     "collapsed": false,
     "input": [
      "%run scripts/stats.py 200 ../data/lamp3.fasta"
     ],
     "language": "python",
     "metadata": {},
     "outputs": [
      {
       "output_type": "stream",
       "stream": "stdout",
       "text": [
        "filename sum n trim_n min med mean max n50 n50_len n90 n90_len\n",
        "../data/lamp3.fasta & 756840 & 471187251 & 201 & 367 & 622 & 14839 & 897"
       ]
      },
      {
       "output_type": "stream",
       "stream": "stdout",
       "text": []
      }
     ],
     "prompt_number": 21
    },
    {
     "cell_type": "heading",
     "level": 3,
     "metadata": {},
     "source": [
      "A: Deduplication with CD-HIT-EST"
     ]
    },
    {
     "cell_type": "raw",
     "metadata": {},
     "source": [
      "*We dedupe at 98% identity, with global clustering for maximum accuracy (though slower runtime)\n",
      "*This has already been done, so we'll skip it for now"
     ]
    },
    {
     "cell_type": "code",
     "collapsed": true,
     "input": [
      "#!cd-hit-est -i data/lamp3.fasta -o data/lamp3.dedupe.fa -c .98 -n 9 -g 1 -T 4"
     ],
     "language": "python",
     "metadata": {},
     "outputs": []
    },
    {
     "cell_type": "heading",
     "level": 3,
     "metadata": {},
     "source": [
      "B: Clean out any contaminants that slipped through with SeqClean"
     ]
    },
    {
     "cell_type": "code",
     "collapsed": false,
     "input": [
      "!seqclean data/lamp3.fasta.dedupe.fa -c 6 -v db/UniVec.fa -o data/petMar_mrna.fa"
     ],
     "language": "python",
     "metadata": {},
     "outputs": [
      {
       "output_type": "stream",
       "stream": "stdout",
       "text": [
        "* Using trimming files:\n",
        " \n",
        "/w/2013-lamprey/db/UniVec.fa\n",
        "seqclean running options: \n",
        "seqclean data/lamp3.fasta.dedupe.fa -c 6 -v db/UniVec.fa -o data/petMar_mrna.fa\n",
        " Standard log file: seqcl_lamp3.fasta.dedupe.fa.log\n",
        " Error log file:    err_seqcl_lamp3.fasta.dedupe.fa.log\n",
        " Using 6 CPUs for cleaning\n",
        "-= Rebuilding lamp3.fasta.dedupe.fa cdb index =-"
       ]
      },
      {
       "output_type": "stream",
       "stream": "stdout",
       "text": [
        " Launching actual cleaning process:\n",
        " psx -p 6  -n 1000  -i data/lamp3.fasta.dedupe.fa -d cleaning -C '/w/2013-lamprey/data/lamp3.fasta.dedupe.fa:ANLMS100:/w/2013-lamprey/db/UniVec.fa::11:0' -c '/home/chris/bin/seqclean.psx'"
       ]
      },
      {
       "output_type": "stream",
       "stream": "stdout",
       "text": [
        "Collecting cleaning reports\n"
       ]
      },
      {
       "output_type": "stream",
       "stream": "stdout",
       "text": [
        "**************************************************\n",
        "Sequences analyzed:    672565\n",
        "-----------------------------------\n",
        "                   valid:    672162  (262294 trimmed)\n",
        "                 trashed:       403\n",
        "**************************************************\n",
        "----= Trashing summary =------\n",
        "              by 'shortq':        3\n",
        "                by 'dust':      328\n",
        "           by 'UniVec.fa':       72\n",
        "------------------------------\n",
        "Output file containing only valid and trimmed sequences: data/petMar_mrna.fa\n",
        "For trimming and trashing details see cleaning report  : lamp3.fasta.dedupe.fa.cln\n",
        "--------------------------------------------------"
       ]
      },
      {
       "output_type": "stream",
       "stream": "stdout",
       "text": [
        "seqclean (data/lamp3.fasta.dedupe.fa) finished on machine \n",
        " in /w/2013-lamprey, without a detectable error."
       ]
      }
     ],
     "prompt_number": 36
    },
    {
     "cell_type": "raw",
     "metadata": {},
     "source": [
      "*Check our stats again"
     ]
    },
    {
     "cell_type": "code",
     "collapsed": false,
     "input": [
      "%run scripts/stats.py 200 data/petMar_mrna.fa"
     ],
     "language": "python",
     "metadata": {},
     "outputs": [
      {
       "output_type": "stream",
       "stream": "stdout",
       "text": [
        "filename sum n trim_n min med mean max n50 n50_len n90 n90_len\n",
        "data/petMar_mrna.fa & 650320 & 357321866 & 200 & 340 & 549 & 14839 & 715"
       ]
      },
      {
       "output_type": "stream",
       "stream": "stdout",
       "text": []
      }
     ],
     "prompt_number": 40
    },
    {
     "cell_type": "heading",
     "level": 3,
     "metadata": {},
     "source": [
      "C: Remove erroneous transcripts"
     ]
    },
    {
     "cell_type": "heading",
     "level": 4,
     "metadata": {},
     "source": [
      "We need to partition first..."
     ]
    },
    {
     "cell_type": "heading",
     "level": 4,
     "metadata": {},
     "source": [
      "Then we need some blasts...."
     ]
    },
    {
     "cell_type": "code",
     "collapsed": false,
     "input": [
      "cd 2013-lamprey/"
     ],
     "language": "python",
     "metadata": {},
     "outputs": [
      {
       "output_type": "stream",
       "stream": "stdout",
       "text": [
        "/w/2013-lamprey\n"
       ]
      }
     ],
     "prompt_number": 6
    },
    {
     "cell_type": "code",
     "collapsed": false,
     "input": [
      "blast_cols = \"qseqid sseqid length nident qstart qend sstart send bitscore evalue\"\n",
      "blast_fmt = \"10 \" + blast_cols\n",
      "print blast_fmt"
     ],
     "language": "python",
     "metadata": {},
     "outputs": [
      {
       "output_type": "stream",
       "stream": "stdout",
       "text": [
        "10 qseqid sseqid length nident qstart qend sstart send bitscore evalue\n"
       ]
      }
     ],
     "prompt_number": 40
    },
    {
     "cell_type": "heading",
     "level": 4,
     "metadata": {},
     "source": [
      "Now, we can finally check for those erroneous transcripts"
     ]
    },
    {
     "cell_type": "code",
     "collapsed": false,
     "input": [
      "petMar_mrna_PS = hb.PartitionSet.associateHits('data/petMar_mrna.fa.part', 'data/x.genome_soft.csv')\n",
      "#petMar_mrna_PS.addHits('data/x.EST.csv')"
     ],
     "language": "python",
     "metadata": {},
     "outputs": [
      {
       "output_type": "stream",
       "stream": "stdout",
       "text": [
        "Parsing hits...\n",
        "Parsed 0 rows...\n",
        "comp15_c0_seq1,GL482660,238,2e-120,1,238\n",
        "Parsed"
       ]
      },
      {
       "output_type": "stream",
       "stream": "stdout",
       "text": [
        " 100000 rows...\n",
        "comp397997_c0_seq2,GL492314,88,2e-30,1,88\n",
        "Parsed"
       ]
      },
      {
       "output_type": "stream",
       "stream": "stdout",
       "text": [
        " 200000 rows...\n",
        "comp515516_c0_seq1,GL483362,83,1e-30,384,466\n",
        "Parsed"
       ]
      },
      {
       "output_type": "stream",
       "stream": "stdout",
       "text": [
        " 300000 rows...\n",
        "comp564501_c0_seq1,GL484072,44,3e-12,1,44\n",
        "Parsed"
       ]
      },
      {
       "output_type": "stream",
       "stream": "stdout",
       "text": [
        " 400000 rows...\n",
        "comp596795_c0_seq1,GL476513,53,1e-13,1,52\n",
        "Parsed"
       ]
      },
      {
       "output_type": "stream",
       "stream": "stdout",
       "text": [
        " 500000 rows...\n",
        "comp613349_c1_seq1,GL481379,123,2e-57,852,974\n",
        "Parsed"
       ]
      },
      {
       "output_type": "stream",
       "stream": "stdout",
       "text": [
        " 600000 rows...\n",
        "comp623628_c0_seq3,GL479152,104,1e-33,1,104\n",
        "Parsed"
       ]
      },
      {
       "output_type": "stream",
       "stream": "stdout",
       "text": [
        " 700000 rows...\n",
        "comp628916_c0_seq1,GL501097,196,7e-75,1,195\n",
        "Parsed"
       ]
      },
      {
       "output_type": "stream",
       "stream": "stdout",
       "text": [
        " 800000 rows...\n",
        "comp631383_c3_seq2,GL478742,76,1e-18,31,106\n",
        "Parsed"
       ]
      },
      {
       "output_type": "stream",
       "stream": "stdout",
       "text": [
        " 900000 rows...\n",
        "comp633292_c0_seq13,GL480460,459,0.0,17,475\n",
        "Parsed"
       ]
      },
      {
       "output_type": "stream",
       "stream": "stdout",
       "text": [
        " 1000000 rows...\n",
        "comp634886_c4_seq2,GL476941,175,1e-25,1087,1257\n",
        "Parsed"
       ]
      },
      {
       "output_type": "stream",
       "stream": "stdout",
       "text": [
        " 1100000 rows...\n",
        "comp636454_c2_seq7,GL476628,148,2e-71,716,863\n",
        "Parsed"
       ]
      },
      {
       "output_type": "stream",
       "stream": "stdout",
       "text": [
        " 1200000 rows...\n",
        "comp637857_c1_seq2,GL478931,158,4e-35,244,397\n",
        "Parsed"
       ]
      },
      {
       "output_type": "stream",
       "stream": "stdout",
       "text": [
        " 1300000 rows...\n",
        "comp639188_c0_seq4,GL476592,149,1e-69,973,1121\n",
        "Parsed"
       ]
      },
      {
       "output_type": "stream",
       "stream": "stdout",
       "text": [
        " 1400000 rows...\n",
        "comp640339_c0_seq8,GL476484,80,1e-19,243,322\n",
        "Parsed"
       ]
      },
      {
       "output_type": "stream",
       "stream": "stdout",
       "text": [
        " 1500000 rows...\n",
        "comp641461_c0_seq2,GL476948,306,1e-148,17,319\n",
        "Parsed"
       ]
      },
      {
       "output_type": "stream",
       "stream": "stdout",
       "text": [
        " 1600000 rows...\n",
        "comp642589_c3_seq1,GL480253,179,9e-21,87,260\n",
        "Parsed"
       ]
      },
      {
       "output_type": "stream",
       "stream": "stdout",
       "text": [
        " 1700000 rows...\n",
        "comp643729_c7_seq4,GL477652,167,1e-56,254,419\n",
        "Parsed"
       ]
      },
      {
       "output_type": "stream",
       "stream": "stdout",
       "text": [
        " 1800000 rows...\n",
        "comp644901_c0_seq5,GL478734,532,0.0,578,1106\n",
        "Parsed"
       ]
      },
      {
       "output_type": "stream",
       "stream": "stdout",
       "text": [
        " 1900000 rows...\n",
        "comp645911_c1_seq7,GL481821,203,1e-12,31,226\n",
        "Parsed"
       ]
      },
      {
       "output_type": "stream",
       "stream": "stdout",
       "text": [
        " 2000000 rows...\n",
        "comp646963_c1_seq1,GL483349,66,4e-15,1154,1219\n",
        "Parsed"
       ]
      },
      {
       "output_type": "stream",
       "stream": "stdout",
       "text": [
        " 2100000 rows...\n",
        "comp647947_c0_seq6,GL490870,135,2e-45,69,202\n",
        "Parsed"
       ]
      },
      {
       "output_type": "stream",
       "stream": "stdout",
       "text": [
        " 2200000 rows...\n",
        "comp648704_c3_seq13,GL485999,62,1e-15,383,444\n",
        "Parsed"
       ]
      },
      {
       "output_type": "stream",
       "stream": "stdout",
       "text": [
        " 2300000 rows...\n",
        "comp649542_c0_seq20,GL478677,108,7e-49,1429,1536\n",
        "Parsed"
       ]
      },
      {
       "output_type": "stream",
       "stream": "stdout",
       "text": [
        " 2400000 rows...\n",
        "comp650443_c0_seq3,GL476896,117,5e-24,121,230\n",
        "Parsed"
       ]
      },
      {
       "output_type": "stream",
       "stream": "stdout",
       "text": [
        " 2500000 rows...\n",
        "comp651210_c1_seq21,GL478149,49,9e-14,121,169\n",
        "Parsed"
       ]
      },
      {
       "output_type": "stream",
       "stream": "stdout",
       "text": [
        " 2600000 rows...\n",
        "comp651884_c1_seq9,GL479219,206,1e-62,23,218\n",
        "Parsed"
       ]
      },
      {
       "output_type": "stream",
       "stream": "stdout",
       "text": [
        " 2700000 rows...\n",
        "comp652607_c4_seq7,GL476624,55,1e-12,2521,2575\n",
        "Parsed"
       ]
      },
      {
       "output_type": "stream",
       "stream": "stdout",
       "text": [
        " 2800000 rows...\n",
        "comp653115_c4_seq13,GL476422,80,3e-23,434,512\n",
        "Parsed"
       ]
      },
      {
       "output_type": "stream",
       "stream": "stdout",
       "text": [
        " 2900000 rows...\n",
        "comp653625_c0_seq10,GL476368,1951,0.0,1,1943\n",
        "Parsed"
       ]
      },
      {
       "output_type": "stream",
       "stream": "stdout",
       "text": [
        " 3000000 rows...\n",
        "comp653924_c0_seq15,GL477860,318,4e-134,31,348\n",
        "Parsed"
       ]
      },
      {
       "output_type": "stream",
       "stream": "stdout",
       "text": [
        " 3100000 rows...\n",
        "comp2674516_c0_seq1,GL479362,208,2e-105,1,208\n",
        "...done parsing 3161352 hits."
       ]
      },
      {
       "output_type": "stream",
       "stream": "stdout",
       "text": [
        "\n",
        "sorting hits by query...\n",
        "sorted 3161352 hits"
       ]
      },
      {
       "output_type": "stream",
       "stream": "stdout",
       "text": [
        "\n",
        "partitioning hits by query...\n",
        "...done!"
       ]
      },
      {
       "output_type": "stream",
       "stream": "stdout",
       "text": [
        "\n",
        "469919 queries over 3161352 hits\n",
        "Reading sequences and associating hits...\n",
        "...done!"
       ]
      },
      {
       "output_type": "stream",
       "stream": "stdout",
       "text": [
        "\n"
       ]
      }
     ],
     "prompt_number": 9
    },
    {
     "cell_type": "code",
     "collapsed": false,
     "input": [
      "v, i, petMar_mrna_PS_val = validateTranscripts(petMar_mrna_PS)"
     ],
     "language": "python",
     "metadata": {},
     "outputs": [
      {
       "output_type": "stream",
       "stream": "stdout",
       "text": [
        "Starting validation process: checking 672162 transcripts\n",
        "0 partitions, 0 sequences checked...\n",
        "0 valid, 0 invalid so far...\n",
        "1 partitions, 50000 sequences checked..."
       ]
      },
      {
       "output_type": "stream",
       "stream": "stdout",
       "text": [
        "\n",
        "49369 valid, 631 invalid so far...\n",
        "1 partitions, 100000 sequences checked..."
       ]
      },
      {
       "output_type": "stream",
       "stream": "stdout",
       "text": [
        "\n",
        "98380 valid, 1620 invalid so far...\n",
        "1 partitions, 150000 sequences checked..."
       ]
      },
      {
       "output_type": "stream",
       "stream": "stdout",
       "text": [
        "\n",
        "146632 valid, 3368 invalid so far...\n",
        "1 partitions, 200000 sequences checked..."
       ]
      },
      {
       "output_type": "stream",
       "stream": "stdout",
       "text": [
        "\n",
        "193873 valid, 6127 invalid so far...\n",
        "1 partitions, 250000 sequences checked..."
       ]
      },
      {
       "output_type": "stream",
       "stream": "stdout",
       "text": [
        "\n",
        "240988 valid, 9012 invalid so far...\n",
        "1 partitions, 300000 sequences checked..."
       ]
      },
      {
       "output_type": "stream",
       "stream": "stdout",
       "text": [
        "\n",
        "287765 valid, 12235 invalid so far...\n",
        "1 partitions, 350000 sequences checked..."
       ]
      },
      {
       "output_type": "stream",
       "stream": "stdout",
       "text": [
        "\n",
        "335070 valid, 14930 invalid so far...\n",
        "34427 partitions, 400000 sequences checked..."
       ]
      },
      {
       "output_type": "stream",
       "stream": "stdout",
       "text": [
        "\n",
        "384751 valid, 15249 invalid so far...\n",
        "75693 partitions, 450000 sequences checked..."
       ]
      },
      {
       "output_type": "stream",
       "stream": "stdout",
       "text": [
        "\n",
        "434428 valid, 15572 invalid so far...\n",
        "117001 partitions, 500000 sequences checked..."
       ]
      },
      {
       "output_type": "stream",
       "stream": "stdout",
       "text": [
        "\n",
        "484136 valid, 15864 invalid so far...\n",
        "158950 partitions, 550000 sequences checked..."
       ]
      },
      {
       "output_type": "stream",
       "stream": "stdout",
       "text": [
        "\n",
        "533850 valid, 16150 invalid so far...\n",
        "201464 partitions, 600000 sequences checked..."
       ]
      },
      {
       "output_type": "stream",
       "stream": "stdout",
       "text": [
        "\n",
        "583543 valid, 16457 invalid so far...\n",
        "244713 partitions, 650000 sequences checked..."
       ]
      },
      {
       "output_type": "stream",
       "stream": "stdout",
       "text": [
        "\n",
        "633203 valid, 16797 invalid so far...\n"
       ]
      }
     ],
     "prompt_number": 10
    },
    {
     "cell_type": "code",
     "collapsed": false,
     "input": [
      "print len(petMar_mrna_PS_val)"
     ],
     "language": "python",
     "metadata": {},
     "outputs": [
      {
       "ename": "NameError",
       "evalue": "name 'v' is not defined",
       "output_type": "pyerr",
       "traceback": [
        "\u001b[1;31m---------------------------------------------------------------------------\u001b[0m\n\u001b[1;31mNameError\u001b[0m                                 Traceback (most recent call last)",
        "\u001b[1;32m<ipython-input-3-d739af88d139>\u001b[0m in \u001b[0;36m<module>\u001b[1;34m()\u001b[0m\n\u001b[1;32m----> 1\u001b[1;33m \u001b[1;32mprint\u001b[0m \u001b[0mv\u001b[0m\u001b[1;33m,\u001b[0m \u001b[0mi\u001b[0m\u001b[1;33m,\u001b[0m \u001b[0mlen\u001b[0m\u001b[1;33m(\u001b[0m\u001b[0mpetMar_mrna_PS_val\u001b[0m\u001b[1;33m)\u001b[0m\u001b[1;33m\u001b[0m\u001b[0m\n\u001b[0m",
        "\u001b[1;31mNameError\u001b[0m: name 'v' is not defined"
       ]
      }
     ],
     "prompt_number": 3
    },
    {
     "cell_type": "heading",
     "level": 3,
     "metadata": {},
     "source": [
      "Let's do some partition analysis"
     ]
    },
    {
     "cell_type": "code",
     "collapsed": false,
     "input": [
      "lump_PS = hb.PartitionSet.associateHits('petMar_mrna_delumped.fp', 'data/x.genome_soft.csv')"
     ],
     "language": "python",
     "metadata": {},
     "outputs": [
      {
       "output_type": "stream",
       "stream": "stdout",
       "text": [
        "Parsing hits..."
       ]
      },
      {
       "output_type": "stream",
       "stream": "stdout",
       "text": [
        "\n",
        "Parsed 0 rows...\n",
        "comp15_c0_seq1,GL482660,238,2e-120,1,238\n",
        "Parsed"
       ]
      },
      {
       "output_type": "stream",
       "stream": "stdout",
       "text": [
        " 100000 rows...\n",
        "comp397997_c0_seq2,GL492314,88,2e-30,1,88\n",
        "Parsed"
       ]
      },
      {
       "output_type": "stream",
       "stream": "stdout",
       "text": [
        " 200000 rows...\n",
        "comp515516_c0_seq1,GL483362,83,1e-30,384,466\n",
        "Parsed"
       ]
      },
      {
       "output_type": "stream",
       "stream": "stdout",
       "text": [
        " 300000 rows...\n",
        "comp564501_c0_seq1,GL484072,44,3e-12,1,44\n",
        "Parsed"
       ]
      },
      {
       "output_type": "stream",
       "stream": "stdout",
       "text": [
        " 400000 rows...\n",
        "comp596795_c0_seq1,GL476513,53,1e-13,1,52\n",
        "Parsed"
       ]
      },
      {
       "output_type": "stream",
       "stream": "stdout",
       "text": [
        " 500000 rows...\n",
        "comp613349_c1_seq1,GL481379,123,2e-57,852,974\n",
        "Parsed"
       ]
      },
      {
       "output_type": "stream",
       "stream": "stdout",
       "text": [
        " 600000 rows...\n",
        "comp623628_c0_seq3,GL479152,104,1e-33,1,104\n",
        "Parsed"
       ]
      },
      {
       "output_type": "stream",
       "stream": "stdout",
       "text": [
        " 700000 rows...\n",
        "comp628916_c0_seq1,GL501097,196,7e-75,1,195\n",
        "Parsed"
       ]
      },
      {
       "output_type": "stream",
       "stream": "stdout",
       "text": [
        " 800000 rows...\n",
        "comp631383_c3_seq2,GL478742,76,1e-18,31,106\n",
        "Parsed"
       ]
      },
      {
       "output_type": "stream",
       "stream": "stdout",
       "text": [
        " 900000 rows...\n",
        "comp633292_c0_seq13,GL480460,459,0.0,17,475\n",
        "Parsed"
       ]
      },
      {
       "output_type": "stream",
       "stream": "stdout",
       "text": [
        " 1000000 rows...\n",
        "comp634886_c4_seq2,GL476941,175,1e-25,1087,1257\n",
        "Parsed"
       ]
      },
      {
       "output_type": "stream",
       "stream": "stdout",
       "text": [
        " 1100000 rows...\n",
        "comp636454_c2_seq7,GL476628,148,2e-71,716,863\n",
        "Parsed"
       ]
      },
      {
       "output_type": "stream",
       "stream": "stdout",
       "text": [
        " 1200000 rows...\n",
        "comp637857_c1_seq2,GL478931,158,4e-35,244,397\n",
        "Parsed"
       ]
      },
      {
       "output_type": "stream",
       "stream": "stdout",
       "text": [
        " 1300000 rows...\n",
        "comp639188_c0_seq4,GL476592,149,1e-69,973,1121\n",
        "Parsed"
       ]
      },
      {
       "output_type": "stream",
       "stream": "stdout",
       "text": [
        " 1400000 rows...\n",
        "comp640339_c0_seq8,GL476484,80,1e-19,243,322\n",
        "Parsed"
       ]
      },
      {
       "output_type": "stream",
       "stream": "stdout",
       "text": [
        " 1500000 rows...\n",
        "comp641461_c0_seq2,GL476948,306,1e-148,17,319\n",
        "Parsed"
       ]
      },
      {
       "output_type": "stream",
       "stream": "stdout",
       "text": [
        " 1600000 rows...\n",
        "comp642589_c3_seq1,GL480253,179,9e-21,87,260\n",
        "Parsed"
       ]
      },
      {
       "output_type": "stream",
       "stream": "stdout",
       "text": [
        " 1700000 rows...\n",
        "comp643729_c7_seq4,GL477652,167,1e-56,254,419\n",
        "Parsed"
       ]
      },
      {
       "output_type": "stream",
       "stream": "stdout",
       "text": [
        " 1800000 rows...\n",
        "comp644901_c0_seq5,GL478734,532,0.0,578,1106\n",
        "Parsed"
       ]
      },
      {
       "output_type": "stream",
       "stream": "stdout",
       "text": [
        " 1900000 rows...\n",
        "comp645911_c1_seq7,GL481821,203,1e-12,31,226\n",
        "Parsed"
       ]
      },
      {
       "output_type": "stream",
       "stream": "stdout",
       "text": [
        " 2000000 rows...\n",
        "comp646963_c1_seq1,GL483349,66,4e-15,1154,1219\n",
        "Parsed"
       ]
      },
      {
       "output_type": "stream",
       "stream": "stdout",
       "text": [
        " 2100000 rows...\n",
        "comp647947_c0_seq6,GL490870,135,2e-45,69,202\n",
        "Parsed"
       ]
      },
      {
       "output_type": "stream",
       "stream": "stdout",
       "text": [
        " 2200000 rows...\n",
        "comp648704_c3_seq13,GL485999,62,1e-15,383,444\n",
        "Parsed"
       ]
      },
      {
       "output_type": "stream",
       "stream": "stdout",
       "text": [
        " 2300000 rows...\n",
        "comp649542_c0_seq20,GL478677,108,7e-49,1429,1536\n",
        "Parsed"
       ]
      },
      {
       "output_type": "stream",
       "stream": "stdout",
       "text": [
        " 2400000 rows...\n",
        "comp650443_c0_seq3,GL476896,117,5e-24,121,230\n",
        "Parsed"
       ]
      },
      {
       "output_type": "stream",
       "stream": "stdout",
       "text": [
        " 2500000 rows...\n",
        "comp651210_c1_seq21,GL478149,49,9e-14,121,169\n",
        "Parsed"
       ]
      },
      {
       "output_type": "stream",
       "stream": "stdout",
       "text": [
        " 2600000 rows...\n",
        "comp651884_c1_seq9,GL479219,206,1e-62,23,218\n",
        "Parsed"
       ]
      },
      {
       "output_type": "stream",
       "stream": "stdout",
       "text": [
        " 2700000 rows...\n",
        "comp652607_c4_seq7,GL476624,55,1e-12,2521,2575\n",
        "Parsed"
       ]
      },
      {
       "output_type": "stream",
       "stream": "stdout",
       "text": [
        " 2800000 rows...\n",
        "comp653115_c4_seq13,GL476422,80,3e-23,434,512\n",
        "Parsed"
       ]
      },
      {
       "output_type": "stream",
       "stream": "stdout",
       "text": [
        " 2900000 rows...\n",
        "comp653625_c0_seq10,GL476368,1951,0.0,1,1943\n",
        "Parsed"
       ]
      },
      {
       "output_type": "stream",
       "stream": "stdout",
       "text": [
        " 3000000 rows...\n",
        "comp653924_c0_seq15,GL477860,318,4e-134,31,348\n",
        "Parsed"
       ]
      },
      {
       "output_type": "stream",
       "stream": "stdout",
       "text": [
        " 3100000 rows...\n",
        "comp2674516_c0_seq1,GL479362,208,2e-105,1,208\n",
        "...done parsing 3161352 hits."
       ]
      },
      {
       "output_type": "stream",
       "stream": "stdout",
       "text": [
        "\n",
        "sorting hits by query...\n",
        "sorted 3161352 hits"
       ]
      },
      {
       "output_type": "stream",
       "stream": "stdout",
       "text": [
        "\n",
        "partitioning hits by query...\n",
        "...done!"
       ]
      },
      {
       "output_type": "stream",
       "stream": "stdout",
       "text": [
        "\n",
        "469919 queries over 3161352 hits\n",
        "Reading sequences and associating hits...\n",
        "...done!"
       ]
      },
      {
       "ename": "AttributeError",
       "evalue": "'module' object has no attribute 'partitionSet'",
       "output_type": "pyerr",
       "traceback": [
        "\u001b[1;31m---------------------------------------------------------------------------\u001b[0m\n\u001b[1;31mAttributeError\u001b[0m                            Traceback (most recent call last)",
        "\u001b[1;32m<ipython-input-6-ec02cbc94ca0>\u001b[0m in \u001b[0;36m<module>\u001b[1;34m()\u001b[0m\n\u001b[0;32m      1\u001b[0m \u001b[0mlump_PS\u001b[0m \u001b[1;33m=\u001b[0m \u001b[0mhb\u001b[0m\u001b[1;33m.\u001b[0m\u001b[0mPartitionSet\u001b[0m\u001b[1;33m.\u001b[0m\u001b[0massociateHits\u001b[0m\u001b[1;33m(\u001b[0m\u001b[1;34m'petMar_mrna_delumped.fp'\u001b[0m\u001b[1;33m,\u001b[0m \u001b[1;34m'data/x.genome_soft.csv'\u001b[0m\u001b[1;33m)\u001b[0m\u001b[1;33m\u001b[0m\u001b[0m\n\u001b[1;32m----> 2\u001b[1;33m \u001b[0mnonlump_PS\u001b[0m \u001b[1;33m=\u001b[0m \u001b[0mhb\u001b[0m\u001b[1;33m.\u001b[0m\u001b[0mpartitionSet\u001b[0m\u001b[1;33m.\u001b[0m\u001b[0massociateHits\u001b[0m\u001b[1;33m(\u001b[0m\u001b[1;34m'petMar_mrna_nonlump.fp'\u001b[0m\u001b[1;33m,\u001b[0m \u001b[1;34m'data/x.genome_soft.csv'\u001b[0m\u001b[1;33m)\u001b[0m\u001b[1;33m\u001b[0m\u001b[0m\n\u001b[0m",
        "\u001b[1;31mAttributeError\u001b[0m: 'module' object has no attribute 'partitionSet'"
       ]
      },
      {
       "output_type": "stream",
       "stream": "stdout",
       "text": [
        "\n"
       ]
      }
     ],
     "prompt_number": 6
    },
    {
     "cell_type": "code",
     "collapsed": false,
     "input": [
      "nonlump_PS = hb.PartitionSet.associateHits('petMar_mrna_nonlump.fp', 'data/x.genome_soft.csv')"
     ],
     "language": "python",
     "metadata": {},
     "outputs": [
      {
       "output_type": "stream",
       "stream": "stdout",
       "text": [
        "Parsing hits...\n",
        "Parsed 0 rows...\n",
        "comp15_c0_seq1,GL482660,238,2e-120,1,238\n",
        "Parsed"
       ]
      },
      {
       "output_type": "stream",
       "stream": "stdout",
       "text": [
        " 100000 rows...\n",
        "comp397997_c0_seq2,GL492314,88,2e-30,1,88\n",
        "Parsed"
       ]
      },
      {
       "output_type": "stream",
       "stream": "stdout",
       "text": [
        " 200000 rows...\n",
        "comp515516_c0_seq1,GL483362,83,1e-30,384,466\n",
        "Parsed"
       ]
      },
      {
       "output_type": "stream",
       "stream": "stdout",
       "text": [
        " 300000 rows...\n",
        "comp564501_c0_seq1,GL484072,44,3e-12,1,44\n",
        "Parsed"
       ]
      },
      {
       "output_type": "stream",
       "stream": "stdout",
       "text": [
        " 400000 rows...\n",
        "comp596795_c0_seq1,GL476513,53,1e-13,1,52\n",
        "Parsed"
       ]
      },
      {
       "output_type": "stream",
       "stream": "stdout",
       "text": [
        " 500000 rows...\n",
        "comp613349_c1_seq1,GL481379,123,2e-57,852,974\n",
        "Parsed"
       ]
      },
      {
       "output_type": "stream",
       "stream": "stdout",
       "text": [
        " 600000 rows...\n",
        "comp623628_c0_seq3,GL479152,104,1e-33,1,104\n",
        "Parsed"
       ]
      },
      {
       "output_type": "stream",
       "stream": "stdout",
       "text": [
        " 700000 rows...\n",
        "comp628916_c0_seq1,GL501097,196,7e-75,1,195\n",
        "Parsed"
       ]
      },
      {
       "output_type": "stream",
       "stream": "stdout",
       "text": [
        " 800000 rows...\n",
        "comp631383_c3_seq2,GL478742,76,1e-18,31,106\n",
        "Parsed"
       ]
      },
      {
       "output_type": "stream",
       "stream": "stdout",
       "text": [
        " 900000 rows...\n",
        "comp633292_c0_seq13,GL480460,459,0.0,17,475\n",
        "Parsed"
       ]
      },
      {
       "output_type": "stream",
       "stream": "stdout",
       "text": [
        " 1000000 rows...\n",
        "comp634886_c4_seq2,GL476941,175,1e-25,1087,1257\n",
        "Parsed"
       ]
      },
      {
       "output_type": "stream",
       "stream": "stdout",
       "text": [
        " 1100000 rows...\n",
        "comp636454_c2_seq7,GL476628,148,2e-71,716,863\n",
        "Parsed"
       ]
      },
      {
       "output_type": "stream",
       "stream": "stdout",
       "text": [
        " 1200000 rows...\n",
        "comp637857_c1_seq2,GL478931,158,4e-35,244,397\n",
        "Parsed"
       ]
      },
      {
       "output_type": "stream",
       "stream": "stdout",
       "text": [
        " 1300000 rows...\n",
        "comp639188_c0_seq4,GL476592,149,1e-69,973,1121\n",
        "Parsed"
       ]
      },
      {
       "output_type": "stream",
       "stream": "stdout",
       "text": [
        " 1400000 rows...\n",
        "comp640339_c0_seq8,GL476484,80,1e-19,243,322\n",
        "Parsed"
       ]
      },
      {
       "output_type": "stream",
       "stream": "stdout",
       "text": [
        " 1500000 rows...\n",
        "comp641461_c0_seq2,GL476948,306,1e-148,17,319\n",
        "Parsed"
       ]
      },
      {
       "output_type": "stream",
       "stream": "stdout",
       "text": [
        " 1600000 rows...\n",
        "comp642589_c3_seq1,GL480253,179,9e-21,87,260\n",
        "Parsed"
       ]
      },
      {
       "output_type": "stream",
       "stream": "stdout",
       "text": [
        " 1700000 rows...\n",
        "comp643729_c7_seq4,GL477652,167,1e-56,254,419\n",
        "Parsed"
       ]
      },
      {
       "output_type": "stream",
       "stream": "stdout",
       "text": [
        " 1800000 rows...\n",
        "comp644901_c0_seq5,GL478734,532,0.0,578,1106\n",
        "Parsed"
       ]
      },
      {
       "output_type": "stream",
       "stream": "stdout",
       "text": [
        " 1900000 rows...\n",
        "comp645911_c1_seq7,GL481821,203,1e-12,31,226\n",
        "Parsed"
       ]
      },
      {
       "output_type": "stream",
       "stream": "stdout",
       "text": [
        " 2000000 rows...\n",
        "comp646963_c1_seq1,GL483349,66,4e-15,1154,1219\n",
        "Parsed"
       ]
      },
      {
       "output_type": "stream",
       "stream": "stdout",
       "text": [
        " 2100000 rows...\n",
        "comp647947_c0_seq6,GL490870,135,2e-45,69,202\n",
        "Parsed"
       ]
      },
      {
       "output_type": "stream",
       "stream": "stdout",
       "text": [
        " 2200000 rows...\n",
        "comp648704_c3_seq13,GL485999,62,1e-15,383,444\n",
        "Parsed"
       ]
      },
      {
       "output_type": "stream",
       "stream": "stdout",
       "text": [
        " 2300000 rows...\n",
        "comp649542_c0_seq20,GL478677,108,7e-49,1429,1536\n",
        "Parsed"
       ]
      },
      {
       "output_type": "stream",
       "stream": "stdout",
       "text": [
        " 2400000 rows...\n",
        "comp650443_c0_seq3,GL476896,117,5e-24,121,230\n",
        "Parsed"
       ]
      },
      {
       "output_type": "stream",
       "stream": "stdout",
       "text": [
        " 2500000 rows...\n",
        "comp651210_c1_seq21,GL478149,49,9e-14,121,169\n",
        "Parsed"
       ]
      },
      {
       "output_type": "stream",
       "stream": "stdout",
       "text": [
        " 2600000 rows...\n",
        "comp651884_c1_seq9,GL479219,206,1e-62,23,218\n",
        "Parsed"
       ]
      },
      {
       "output_type": "stream",
       "stream": "stdout",
       "text": [
        " 2700000 rows...\n",
        "comp652607_c4_seq7,GL476624,55,1e-12,2521,2575\n",
        "Parsed"
       ]
      },
      {
       "output_type": "stream",
       "stream": "stdout",
       "text": [
        " 2800000 rows...\n",
        "comp653115_c4_seq13,GL476422,80,3e-23,434,512\n",
        "Parsed"
       ]
      },
      {
       "output_type": "stream",
       "stream": "stdout",
       "text": [
        " 2900000 rows...\n",
        "comp653625_c0_seq10,GL476368,1951,0.0,1,1943\n",
        "Parsed"
       ]
      },
      {
       "output_type": "stream",
       "stream": "stdout",
       "text": [
        " 3000000 rows...\n",
        "comp653924_c0_seq15,GL477860,318,4e-134,31,348\n",
        "Parsed"
       ]
      },
      {
       "output_type": "stream",
       "stream": "stdout",
       "text": [
        " 3100000 rows...\n",
        "comp2674516_c0_seq1,GL479362,208,2e-105,1,208\n",
        "...done parsing 3161352 hits."
       ]
      },
      {
       "output_type": "stream",
       "stream": "stdout",
       "text": [
        "\n",
        "sorting hits by query...\n",
        "sorted 3161352 hits"
       ]
      },
      {
       "output_type": "stream",
       "stream": "stdout",
       "text": [
        "\n",
        "partitioning hits by query...\n",
        "...done!"
       ]
      },
      {
       "output_type": "stream",
       "stream": "stdout",
       "text": [
        "\n",
        "469919 queries over 3161352 hits\n",
        "Reading sequences and associating hits...\n",
        "...done!"
       ]
      },
      {
       "output_type": "stream",
       "stream": "stdout",
       "text": [
        "\n"
       ]
      }
     ],
     "prompt_number": 7
    },
    {
     "cell_type": "code",
     "collapsed": false,
     "input": [
      "lump_x_nonlump = lump_PS - nonlump_PS\n",
      "lump_U_nonlump = lump_PS + nonlump_PS"
     ],
     "language": "python",
     "metadata": {},
     "outputs": [],
     "prompt_number": 12
    },
    {
     "cell_type": "code",
     "collapsed": false,
     "input": [
      "print lump_x_nonlump\n",
      "print lump_PS\n",
      "print nonlump_PS\n",
      "print lump_U_nonlump"
     ],
     "language": "python",
     "metadata": {},
     "outputs": [
      {
       "output_type": "stream",
       "stream": "stdout",
       "text": [
        "# PartitionSet containing:\n",
        "        # 1 partitions\n",
        "        # comprising 31 seqs\n",
        "        # with 31.0 seqs/partition avg\n",
        "\n",
        "# PartitionSet containing:\n",
        "        # 99892 partitions\n",
        "        # comprising 301993 seqs\n",
        "        # with 3.023 seqs/partition avg\n"
       ]
      },
      {
       "output_type": "stream",
       "stream": "stdout",
       "text": [
        "\n",
        "# PartitionSet containing:\n",
        "        # 263535 partitions\n",
        "        # comprising 314613 seqs\n",
        "        # with 1.194 seqs/partition avg\n"
       ]
      },
      {
       "output_type": "stream",
       "stream": "stdout",
       "text": [
        "\n",
        "# PartitionSet containing:\n",
        "        # 263536 partitions\n",
        "        # comprising 616606 seqs\n",
        "        # with 2.34 seqs/partition avg\n"
       ]
      },
      {
       "output_type": "stream",
       "stream": "stdout",
       "text": [
        "\n"
       ]
      }
     ],
     "prompt_number": 13
    },
    {
     "cell_type": "code",
     "collapsed": false,
     "input": [
      "ps = lump_U_nonlump"
     ],
     "language": "python",
     "metadata": {},
     "outputs": [],
     "prompt_number": 14
    },
    {
     "cell_type": "code",
     "collapsed": true,
     "input": [
      "dist = np.array(ps.histogram())\n",
      "#with open('data/petMar_mrna_parts.hist', 'wb') as outfp:\n",
      "#    for row in petMar_mrna_hist:\n",
      "#        outfp.write(row)"
     ],
     "language": "python",
     "metadata": {},
     "outputs": [
      {
       "output_type": "stream",
       "stream": "stdout",
       "text": [
        "Generating histogram...\n",
        "...done!"
       ]
      },
      {
       "output_type": "stream",
       "stream": "stdout",
       "text": [
        "\n"
       ]
      }
     ],
     "prompt_number": 15
    },
    {
     "cell_type": "code",
     "collapsed": false,
     "input": [
      "print dist[:,1]\n",
      "hist = np.bincount(dist[:,1])\n",
      "print hist\n",
      "plot(np.arange(len(hist)-1), hist[1:])\n",
      "axis(xmax=100)"
     ],
     "language": "python",
     "metadata": {},
     "outputs": [
      {
       "output_type": "stream",
       "stream": "stdout",
       "text": [
        "[919 911 496 ...,   1   1   1]\n",
        "[     0 150337  57956  23126  10723   5918   3643   2306   1758   1222\n",
        "    907    734    619    498    417    323    300    240    201    179\n",
        "    151    154    135    123    111    112     83     68     62     68\n",
        "     56     50     47     43     39     38     37     32     34     32\n",
        "     31     23     28     34     20     29     21     15     14     26\n",
        "     17     19     16     16     15      7      7      9      8     11\n",
        "      7     14      6      7      5      5     12      6     12      8\n",
        "      5      7      3      7      5      2      8      6      3      3\n",
        "      7      5      4      5      5      2      2      1      1      1\n",
        "      2      4      5      4      3      2      1      1      1      1\n",
        "      2      3      4      1      1      2      0      1      2      1\n",
        "      2      0      0      0      0      0      1      2      5      2\n",
        "      1      1      1      0      1      1      2      2      2      1\n",
        "      2      0      1      1      2      1      1      0      0      0\n",
        "      3      2      0      1      1      1      0      2      0      2\n",
        "      0      0      0      0      0      1      1      0      1      1\n",
        "      0      0      1      0      1      0      0      1      0      0\n",
        "      0      0      1      0      0      0      1      1      1      1\n",
        "      1      0      0      2      0      0      1      0      0      0\n",
        "      1      0      0      0      1      0      0      0      1      0\n",
        "      0      1      0      0      0      1      1      0      0      1\n",
        "      0      0      0      0      0      0      0      0      1      0\n",
        "      0      0      0      0      1      0      0      1      0      0\n",
        "      0      1      0      0      0      0      1      0      0      0\n",
        "      0      0      0      0      0      0      1      0      0      0\n",
        "      0      0      0      0      0      0      0      0      0      1\n",
        "      0      0      0      0      0      0      0      0      0      0\n",
        "      0      0      0      0      0      0      1      0      0      0\n",
        "      0      0      0      0      0      1      0      0      0      0\n",
        "      0      1      0      0      0      0      0      0      0      1\n",
        "      0      0      0      0      0      0      0      0      0      0\n",
        "      0      0      0      0      0      0      0      0      0      0\n",
        "      0      0      0      0      0      0      0      0      0      0\n",
        "      0      0      0      0      0      0      0      0      0      0\n",
        "      0      0      0      0      0      0      0      0      0      0\n",
        "      0      0      0      0      0      0      0      0      0      0\n",
        "      0      0      0      0      0      0      0      0      0      0\n",
        "      0      0      0      0      0      1      0      0      0      0\n",
        "      0      0      0      0      0      0      0      0      0      0\n",
        "      0      0      0      0      0      0      0      0      0      0\n",
        "      0      0      0      0      0      1      0      0      0      0\n",
        "      0      0      0      0      0      0      0      0      0      0\n",
        "      0      0      0      0      0      0      0      0      0      0\n",
        "      0      0      0      0      0      0      0      0      0      0\n",
        "      0      0      0      0      0      0      0      0      0      0\n",
        "      0      0      0      0      0      0      0      0      0      0\n",
        "      0      0      0      0      0      0      0      0      0      0\n",
        "      0      0      0      0      0      0      0      0      0      0\n",
        "      0      0      0      0      0      0      0      0      0      0\n",
        "      0      0      0      0      0      0      1      0      0      0\n",
        "      0      0      0      0      0      0      0      0      0      0\n",
        "      0      0      0      0      0      0      0      0      0      0\n",
        "      0      0      0      0      0      0      0      0      0      0\n",
        "      0      0      0      0      0      0      0      0      0      0\n",
        "      0      0      0      0      0      0      0      0      0      0\n",
        "      0      0      0      0      0      0      0      0      0      0\n",
        "      0      0      0      0      0      0      0      0      0      0\n",
        "      0      0      0      0      0      0      0      0      0      0\n",
        "      0      0      0      0      0      0      0      0      0      0\n",
        "      0      0      0      0      0      0      0      0      0      0\n",
        "      0      0      0      0      0      0      0      0      0      0\n",
        "      0      0      0      0      0      0      0      0      0      0\n",
        "      0      0      0      0      0      0      0      0      0      0\n",
        "      0      0      0      0      0      0      0      0      0      0\n",
        "      0      0      0      0      0      0      0      0      0      0\n",
        "      0      0      0      0      0      0      0      0      0      0\n",
        "      0      0      0      0      0      0      0      0      0      0\n",
        "      0      0      0      0      0      0      0      0      0      0\n",
        "      0      0      0      0      0      0      0      0      0      0\n",
        "      0      0      0      0      0      0      0      0      0      0\n",
        "      0      0      0      0      0      0      0      0      0      0\n",
        "      0      0      0      0      0      0      0      0      0      0\n",
        "      0      0      0      0      0      0      0      0      0      0\n",
        "      0      0      0      0      0      0      0      0      0      0\n",
        "      0      0      0      0      0      0      0      0      0      0\n",
        "      0      0      0      0      0      0      0      0      0      0\n",
        "      0      0      0      0      0      0      0      0      0      0\n",
        "      0      0      0      0      0      0      0      0      0      0\n",
        "      0      0      0      0      0      0      0      0      0      0\n",
        "      0      0      0      0      0      0      0      0      0      0\n",
        "      0      0      0      0      0      0      0      0      0      0\n",
        "      0      0      0      0      0      0      0      0      0      0\n",
        "      0      0      0      0      0      0      0      0      0      0\n",
        "      0      0      0      0      0      0      0      0      0      0\n",
        "      0      0      0      0      0      0      0      0      0      0\n",
        "      0      0      0      0      0      0      0      0      0      0\n",
        "      0      0      0      0      0      0      0      0      0      0\n",
        "      0      0      0      0      0      0      0      0      0      0\n",
        "      0      0      0      0      0      0      0      0      0      0\n",
        "      0      0      0      0      0      0      0      0      0      0\n",
        "      0      0      0      0      0      0      0      0      0      0\n",
        "      0      1      0      0      0      0      0      0      0      1]\n"
       ]
      },
      {
       "output_type": "pyout",
       "prompt_number": 20,
       "text": [
        "(0.0, 100, 0.0, 160000.0)"
       ]
      },
      {
       "output_type": "display_data",
       "png": "[encoded data removed]"
      }
     ],
     "prompt_number": 20
    },
    {
     "cell_type": "code",
     "collapsed": false,
     "input": [
      "def hits(p):\n",
      "    h = 0\n",
      "    for seq in p:\n",
      "        if seq.numHits() > 0:\n",
      "            h += 1\n",
      "    return h\n",
      "\n",
      "def numPartsWithHits(partSet):\n",
      "    np = 0\n",
      "    ns = 0\n",
      "    nps = 0\n",
      "    for p in partSet:\n",
      "        h = hits(p)\n",
      "        if h > 0:\n",
      "            np+=1\n",
      "            ns+=h\n",
      "            nps+=p.numSeqs()\n",
      "    return np, nps, ns\n",
      "\n",
      "def splitPartsOnHits(partSet, outn):\n",
      "    none_fp = open(outn + '.nohits', 'wb')\n",
      "    some_fp = open(outn + '.hits', 'wb')\n",
      "    for p in partSet:\n",
      "        if not hits(p) > 0:\n",
      "            for s in p:\n",
      "                none_fp.write('>{}\\t{}\\n{}\\n'.format(s.name, p.pid, s.seq))\n",
      "        else:\n",
      "            for s in p:\n",
      "                some_fp.write('>{}\\t{}\\n{}\\n'.format(s.name, p.pid, s.seq))"
     ],
     "language": "python",
     "metadata": {},
     "outputs": [],
     "prompt_number": 59
    },
    {
     "cell_type": "markdown",
     "metadata": {},
     "source": [
      "*Get full-length cDNAs from GenBank - not ESTs\n",
      "*Use for validating assembly AND scaffolding\n",
      "*Draw exon-contig maps ****\n",
      "*Remove lump and rerun partition analysis (today!)****\n",
      "*Validate with different tissues"
     ]
    },
    {
     "cell_type": "code",
     "collapsed": false,
     "input": [
      "print ps, numPartsWithHits(ps)"
     ],
     "language": "python",
     "metadata": {},
     "outputs": [
      {
       "output_type": "stream",
       "stream": "stdout",
       "text": [
        "# PartitionSet containing:\n",
        "        # 263536 partitions\n",
        "        # comprising 616606 seqs\n",
        "        # with 2.34 seqs/partition avg\n",
        " "
       ]
      },
      {
       "output_type": "stream",
       "stream": "stdout",
       "text": [
        "(188588, 474928, 225181)\n"
       ]
      }
     ],
     "prompt_number": 60
    },
    {
     "cell_type": "code",
     "collapsed": false,
     "input": [
      "mouse_ps = hb.PartitionSet.associateHits('data/petMar_mrna.fp', 'data/x.mouse.csv')"
     ],
     "language": "python",
     "metadata": {},
     "outputs": [
      {
       "output_type": "stream",
       "stream": "stdout",
       "text": [
        "Parsing hits...\n",
        "Parsed 0 rows...\n",
        "comp394_c0_seq1,ENSMUSP00000006424,78,2e-30,5,238\n",
        "Parsed"
       ]
      },
      {
       "output_type": "stream",
       "stream": "stdout",
       "text": [
        " 100000 rows...\n",
        "comp264212_c0_seq1,ENSMUSP00000048829,138,2e-14,1,399\n",
        "Parsed"
       ]
      },
      {
       "output_type": "stream",
       "stream": "stdout",
       "text": [
        " 200000 rows...\n",
        "comp395436_c0_seq1,ENSMUSP00000066980,39,5e-15,112,228\n",
        "Parsed"
       ]
      },
      {
       "output_type": "stream",
       "stream": "stdout",
       "text": [
        " 300000 rows...\n",
        "comp431582_c0_seq1,ENSMUSP00000050538,91,2e-09,338,66\n",
        "Parsed"
       ]
      },
      {
       "output_type": "stream",
       "stream": "stdout",
       "text": [
        " 400000 rows...\n",
        "comp517136_c0_seq1,ENSMUSP00000078158,220,5e-13,348,995\n",
        "Parsed"
       ]
      },
      {
       "output_type": "stream",
       "stream": "stdout",
       "text": [
        " 500000 rows...\n",
        "comp541058_c0_seq1,ENSMUSP00000047763,118,8e-08,137,475\n",
        "Parsed"
       ]
      },
      {
       "output_type": "stream",
       "stream": "stdout",
       "text": [
        " 600000 rows...\n",
        "comp569554_c0_seq1,ENSMUSP00000065379,75,3e-17,225,1\n",
        "Parsed"
       ]
      },
      {
       "output_type": "stream",
       "stream": "stdout",
       "text": [
        " 700000 rows...\n",
        "comp587864_c0_seq1,ENSMUSP00000099575,122,2e-16,128,457\n",
        "Parsed"
       ]
      },
      {
       "output_type": "stream",
       "stream": "stdout",
       "text": [
        " 800000 rows...\n",
        "comp600883_c0_seq1,ENSMUSP00000127701,70,7e-31,1,210\n",
        "Parsed"
       ]
      },
      {
       "output_type": "stream",
       "stream": "stdout",
       "text": [
        " 900000 rows...\n",
        "comp609191_c0_seq5,ENSMUSP00000053879,154,2e-33,463,2\n",
        "Parsed"
       ]
      },
      {
       "output_type": "stream",
       "stream": "stdout",
       "text": [
        " 1000000 rows...\n",
        "comp615148_c0_seq2,ENSMUSP00000084282,329,4e-25,1789,857\n",
        "Parsed"
       ]
      },
      {
       "output_type": "stream",
       "stream": "stdout",
       "text": [
        " 1100000 rows...\n",
        "comp621291_c0_seq1,ENSMUSP00000128510,406,3e-42,25,1209\n",
        "Parsed"
       ]
      },
      {
       "output_type": "stream",
       "stream": "stdout",
       "text": [
        " 1200000 rows...\n",
        "comp625491_c0_seq1,ENSMUSP00000045684,104,2e-10,742,434\n",
        "Parsed"
       ]
      },
      {
       "output_type": "stream",
       "stream": "stdout",
       "text": [
        " 1300000 rows...\n",
        "comp628151_c0_seq2,ENSMUSP00000104587,81,2e-22,2,244\n",
        "Parsed"
       ]
      },
      {
       "output_type": "stream",
       "stream": "stdout",
       "text": [
        " 1400000 rows...\n",
        "comp629577_c0_seq1,ENSMUSP00000012873,220,1e-35,486,1139\n",
        "Parsed"
       ]
      },
      {
       "output_type": "stream",
       "stream": "stdout",
       "text": [
        " 1500000 rows...\n",
        "comp630943_c1_seq2,ENSMUSP00000080751,208,1e-15,14,616\n",
        "Parsed"
       ]
      },
      {
       "output_type": "stream",
       "stream": "stdout",
       "text": [
        " 1600000 rows...\n",
        "comp632020_c4_seq1,ENSMUSP00000079269,62,2e-14,200,15\n",
        "Parsed"
       ]
      },
      {
       "output_type": "stream",
       "stream": "stdout",
       "text": [
        " 1700000 rows...\n",
        "comp633046_c2_seq1,ENSMUSP00000112684,105,1e-15,69,383\n",
        "Parsed"
       ]
      },
      {
       "output_type": "stream",
       "stream": "stdout",
       "text": [
        " 1800000 rows...\n",
        "comp633883_c1_seq13,ENSMUSP00000061698,146,3e-18,801,364\n",
        "Parsed"
       ]
      },
      {
       "output_type": "stream",
       "stream": "stdout",
       "text": [
        " 1900000 rows...\n",
        "comp634902_c0_seq1,ENSMUSP00000128038,185,1e-08,1613,1071\n",
        "Parsed"
       ]
      },
      {
       "output_type": "stream",
       "stream": "stdout",
       "text": [
        " 2000000 rows...\n",
        "comp635811_c0_seq17,ENSMUSP00000090661,120,6e-28,545,901\n",
        "Parsed"
       ]
      },
      {
       "output_type": "stream",
       "stream": "stdout",
       "text": [
        " 2100000 rows...\n",
        "comp636699_c0_seq24,ENSMUSP00000125063,38,1e-08,90,203\n",
        "Parsed"
       ]
      },
      {
       "output_type": "stream",
       "stream": "stdout",
       "text": [
        " 2200000 rows...\n",
        "comp637292_c0_seq15,ENSMUSP00000053760,90,2e-15,262,531\n",
        "Parsed"
       ]
      },
      {
       "output_type": "stream",
       "stream": "stdout",
       "text": [
        " 2300000 rows...\n",
        "comp638041_c2_seq5,ENSMUSP00000089112,83,5e-12,62,310\n",
        "Parsed"
       ]
      },
      {
       "output_type": "stream",
       "stream": "stdout",
       "text": [
        " 2400000 rows...\n",
        "comp638868_c0_seq3,ENSMUSP00000105997,122,2e-17,613,978\n",
        "Parsed"
       ]
      },
      {
       "output_type": "stream",
       "stream": "stdout",
       "text": [
        " 2500000 rows...\n",
        "comp639462_c6_seq6,ENSMUSP00000119120,104,2e-15,739,1044\n",
        "Parsed"
       ]
      },
      {
       "output_type": "stream",
       "stream": "stdout",
       "text": [
        " 2600000 rows...\n",
        "comp639894_c0_seq8,ENSMUSP00000033899,58,4e-08,718,563\n",
        "Parsed"
       ]
      },
      {
       "output_type": "stream",
       "stream": "stdout",
       "text": [
        " 2700000 rows...\n",
        "comp640632_c1_seq6,ENSMUSP00000104682,59,9e-08,171,1\n",
        "Parsed"
       ]
      },
      {
       "output_type": "stream",
       "stream": "stdout",
       "text": [
        " 2800000 rows...\n",
        "comp641403_c0_seq9,ENSMUSP00000113197,114,5e-51,423,764\n",
        "Parsed"
       ]
      },
      {
       "output_type": "stream",
       "stream": "stdout",
       "text": [
        " 2900000 rows...\n",
        "comp642225_c2_seq15,ENSMUSP00000081690,570,5e-95,2454,757\n",
        "Parsed"
       ]
      },
      {
       "output_type": "stream",
       "stream": "stdout",
       "text": [
        " 3000000 rows...\n",
        "comp642709_c2_seq2,ENSMUSP00000072496,79,2e-15,6,242\n",
        "Parsed"
       ]
      },
      {
       "output_type": "stream",
       "stream": "stdout",
       "text": [
        " 3100000 rows...\n",
        "comp643274_c2_seq3,ENSMUSP00000113585,150,4e-11,392,3\n",
        "Parsed"
       ]
      },
      {
       "output_type": "stream",
       "stream": "stdout",
       "text": [
        " 3200000 rows...\n",
        "comp643813_c5_seq3,ENSMUSP00000032823,148,2e-12,438,1\n",
        "Parsed"
       ]
      },
      {
       "output_type": "stream",
       "stream": "stdout",
       "text": [
        " 3300000 rows...\n",
        "comp644282_c7_seq4,ENSMUSP00000055517,136,3e-28,675,1082\n",
        "Parsed"
       ]
      },
      {
       "output_type": "stream",
       "stream": "stdout",
       "text": [
        " 3400000 rows...\n",
        "comp644831_c3_seq8,ENSMUSP00000072478,575,3e-09,1640,36\n",
        "Parsed"
       ]
      },
      {
       "output_type": "stream",
       "stream": "stdout",
       "text": [
        " 3500000 rows...\n",
        "comp645613_c0_seq2,ENSMUSP00000107477,98,2e-08,305,12\n",
        "Parsed"
       ]
      },
      {
       "output_type": "stream",
       "stream": "stdout",
       "text": [
        " 3600000 rows...\n",
        "comp646112_c0_seq12,ENSMUSP00000105918,137,6e-09,390,791\n",
        "Parsed"
       ]
      },
      {
       "output_type": "stream",
       "stream": "stdout",
       "text": [
        " 3700000 rows...\n",
        "comp646523_c6_seq13,ENSMUSP00000129951,235,1e-14,700,2\n",
        "Parsed"
       ]
      },
      {
       "output_type": "stream",
       "stream": "stdout",
       "text": [
        " 3800000 rows...\n",
        "comp646862_c1_seq1,ENSMUSP00000029075,73,4e-12,352,567\n",
        "Parsed"
       ]
      },
      {
       "output_type": "stream",
       "stream": "stdout",
       "text": [
        " 3900000 rows...\n",
        "comp647483_c1_seq18,ENSMUSP00000104618,135,2e-24,1589,1185\n",
        "Parsed"
       ]
      },
      {
       "output_type": "stream",
       "stream": "stdout",
       "text": [
        " 4000000 rows...\n",
        "comp647940_c0_seq18,ENSMUSP00000001801,417,1e-86,1235,3\n",
        "Parsed"
       ]
      },
      {
       "output_type": "stream",
       "stream": "stdout",
       "text": [
        " 4100000 rows...\n",
        "comp648139_c2_seq22,ENSMUSP00000137333,272,9e-23,1477,692\n",
        "Parsed"
       ]
      },
      {
       "output_type": "stream",
       "stream": "stdout",
       "text": [
        " 4200000 rows...\n",
        "comp648732_c1_seq5,ENSMUSP00000125081,232,3e-13,3306,2647\n",
        "Parsed"
       ]
      },
      {
       "output_type": "stream",
       "stream": "stdout",
       "text": [
        " 4300000 rows...\n",
        "comp649131_c2_seq1,ENSMUSP00000105548,63,2e-12,822,1010\n",
        "Parsed"
       ]
      },
      {
       "output_type": "stream",
       "stream": "stdout",
       "text": [
        " 4400000 rows...\n",
        "comp649447_c1_seq22,ENSMUSP00000032422,192,5e-11,1884,2381\n",
        "Parsed"
       ]
      },
      {
       "output_type": "stream",
       "stream": "stdout",
       "text": [
        " 4500000 rows...\n",
        "comp649649_c2_seq28,ENSMUSP00000019913,67,4e-14,400,600\n",
        "Parsed"
       ]
      },
      {
       "output_type": "stream",
       "stream": "stdout",
       "text": [
        " 4600000 rows...\n",
        "comp650210_c0_seq4,ENSMUSP00000032661,133,1e-14,92,430\n",
        "Parsed"
       ]
      },
      {
       "output_type": "stream",
       "stream": "stdout",
       "text": [
        " 4700000 rows...\n",
        "comp650602_c2_seq12,ENSMUSP00000129635,247,1e-12,1571,852\n",
        "Parsed"
       ]
      },
      {
       "output_type": "stream",
       "stream": "stdout",
       "text": [
        " 4800000 rows...\n",
        "comp651019_c3_seq1,ENSMUSP00000042215,291,4e-127,92,964\n",
        "Parsed"
       ]
      },
      {
       "output_type": "stream",
       "stream": "stdout",
       "text": [
        " 4900000 rows...\n",
        "comp651340_c6_seq19,ENSMUSP00000132285,75,8e-10,233,9\n",
        "Parsed"
       ]
      },
      {
       "output_type": "stream",
       "stream": "stdout",
       "text": [
        " 5000000 rows...\n",
        "comp651880_c0_seq2,ENSMUSP00000113952,111,4e-11,332,3\n",
        "Parsed"
       ]
      },
      {
       "output_type": "stream",
       "stream": "stdout",
       "text": [
        " 5100000 rows...\n",
        "comp652123_c0_seq26,ENSMUSP00000124456,296,4e-14,939,103\n",
        "Parsed"
       ]
      },
      {
       "output_type": "stream",
       "stream": "stdout",
       "text": [
        " 5200000 rows...\n",
        "comp652446_c0_seq7,ENSMUSP00000006903,115,2e-23,1575,1231\n",
        "Parsed"
       ]
      },
      {
       "output_type": "stream",
       "stream": "stdout",
       "text": [
        " 5300000 rows...\n",
        "comp652937_c0_seq12,ENSMUSP00000109678,157,2e-21,373,840\n",
        "Parsed"
       ]
      },
      {
       "output_type": "stream",
       "stream": "stdout",
       "text": [
        " 5400000 rows...\n",
        "comp653315_c0_seq23,ENSMUSP00000102064,189,3e-14,540,1097\n",
        "Parsed"
       ]
      },
      {
       "output_type": "stream",
       "stream": "stdout",
       "text": [
        " 5500000 rows...\n",
        "comp653840_c1_seq1,ENSMUSP00000132149,843,6e-19,7066,4766\n",
        "Parsed"
       ]
      },
      {
       "output_type": "stream",
       "stream": "stdout",
       "text": [
        " 5600000 rows...\n",
        "comp859907_c0_seq1,ENSMUSP00000117117,68,3e-23,204,4\n",
        "Parsed"
       ]
      },
      {
       "output_type": "stream",
       "stream": "stdout",
       "text": [
        " 5700000 rows...\n",
        "comp1922709_c0_seq1,ENSMUSP00000131474,55,2e-17,98,262\n",
        "...done parsing 5764325 hits."
       ]
      },
      {
       "output_type": "stream",
       "stream": "stdout",
       "text": [
        "\n",
        "sorting hits by query...\n",
        "sorted 5764325 hits"
       ]
      },
      {
       "output_type": "stream",
       "stream": "stdout",
       "text": [
        "\n",
        "partitioning hits by query...\n",
        "...done!"
       ]
      },
      {
       "output_type": "stream",
       "stream": "stdout",
       "text": [
        "\n",
        "115528 queries over 5764325 hits\n",
        "Reading sequences and associating hits...\n",
        "...done!"
       ]
      },
      {
       "output_type": "stream",
       "stream": "stdout",
       "text": [
        "\n"
       ]
      }
     ],
     "prompt_number": 23
    },
    {
     "cell_type": "code",
     "collapsed": false,
     "input": [
      "print mouse_ps, numPartsWithHits(mouse_ps)"
     ],
     "language": "python",
     "metadata": {},
     "outputs": [
      {
       "output_type": "stream",
       "stream": "stdout",
       "text": [
        "# PartitionSet containing:\n",
        "        # 263536 partitions\n",
        "        # comprising 616606 seqs\n",
        "        # with 2.34 seqs/partition avg\n",
        " "
       ]
      },
      {
       "output_type": "stream",
       "stream": "stdout",
       "text": [
        "(37427, 80727, 45742)\n"
       ]
      }
     ],
     "prompt_number": 61
    },
    {
     "cell_type": "code",
     "collapsed": false,
     "input": [
      "splitPartsOnHits(ps, 'petMar.x.genome.fp')\n",
      "splitPartsOnHits(mouse_ps, 'petMar.x.mouse.fp')"
     ],
     "language": "python",
     "metadata": {},
     "outputs": [],
     "prompt_number": 27
    },
    {
     "cell_type": "code",
     "collapsed": false,
     "input": [
      "mouse_nongenome_ps = hb.PartitionSet.associateHits('petMar.x.genome.fp.nohits', 'data/x.mouse.csv')"
     ],
     "language": "python",
     "metadata": {},
     "outputs": [
      {
       "output_type": "stream",
       "stream": "stdout",
       "text": [
        "Parsing hits...\n",
        "Parsed 0 rows...\n",
        "comp394_c0_seq1,ENSMUSP00000006424,78,2e-30,5,238\n",
        "Parsed"
       ]
      },
      {
       "output_type": "stream",
       "stream": "stdout",
       "text": [
        " 100000 rows...\n",
        "comp264212_c0_seq1,ENSMUSP00000048829,138,2e-14,1,399\n",
        "Parsed"
       ]
      },
      {
       "output_type": "stream",
       "stream": "stdout",
       "text": [
        " 200000 rows...\n",
        "comp395436_c0_seq1,ENSMUSP00000066980,39,5e-15,112,228\n",
        "Parsed"
       ]
      },
      {
       "output_type": "stream",
       "stream": "stdout",
       "text": [
        " 300000 rows...\n",
        "comp431582_c0_seq1,ENSMUSP00000050538,91,2e-09,338,66\n",
        "Parsed"
       ]
      },
      {
       "output_type": "stream",
       "stream": "stdout",
       "text": [
        " 400000 rows...\n",
        "comp517136_c0_seq1,ENSMUSP00000078158,220,5e-13,348,995\n",
        "Parsed"
       ]
      },
      {
       "output_type": "stream",
       "stream": "stdout",
       "text": [
        " 500000 rows...\n",
        "comp541058_c0_seq1,ENSMUSP00000047763,118,8e-08,137,475\n",
        "Parsed"
       ]
      },
      {
       "output_type": "stream",
       "stream": "stdout",
       "text": [
        " 600000 rows...\n",
        "comp569554_c0_seq1,ENSMUSP00000065379,75,3e-17,225,1\n",
        "Parsed"
       ]
      },
      {
       "output_type": "stream",
       "stream": "stdout",
       "text": [
        " 700000 rows...\n",
        "comp587864_c0_seq1,ENSMUSP00000099575,122,2e-16,128,457\n",
        "Parsed"
       ]
      },
      {
       "output_type": "stream",
       "stream": "stdout",
       "text": [
        " 800000 rows...\n",
        "comp600883_c0_seq1,ENSMUSP00000127701,70,7e-31,1,210\n",
        "Parsed"
       ]
      },
      {
       "output_type": "stream",
       "stream": "stdout",
       "text": [
        " 900000 rows...\n",
        "comp609191_c0_seq5,ENSMUSP00000053879,154,2e-33,463,2\n",
        "Parsed"
       ]
      },
      {
       "output_type": "stream",
       "stream": "stdout",
       "text": [
        " 1000000 rows...\n",
        "comp615148_c0_seq2,ENSMUSP00000084282,329,4e-25,1789,857\n",
        "Parsed"
       ]
      },
      {
       "output_type": "stream",
       "stream": "stdout",
       "text": [
        " 1100000 rows...\n",
        "comp621291_c0_seq1,ENSMUSP00000128510,406,3e-42,25,1209\n",
        "Parsed"
       ]
      },
      {
       "output_type": "stream",
       "stream": "stdout",
       "text": [
        " 1200000 rows...\n",
        "comp625491_c0_seq1,ENSMUSP00000045684,104,2e-10,742,434\n",
        "Parsed"
       ]
      },
      {
       "output_type": "stream",
       "stream": "stdout",
       "text": [
        " 1300000 rows...\n",
        "comp628151_c0_seq2,ENSMUSP00000104587,81,2e-22,2,244\n",
        "Parsed"
       ]
      },
      {
       "output_type": "stream",
       "stream": "stdout",
       "text": [
        " 1400000 rows...\n",
        "comp629577_c0_seq1,ENSMUSP00000012873,220,1e-35,486,1139\n",
        "Parsed"
       ]
      },
      {
       "output_type": "stream",
       "stream": "stdout",
       "text": [
        " 1500000 rows...\n",
        "comp630943_c1_seq2,ENSMUSP00000080751,208,1e-15,14,616\n",
        "Parsed"
       ]
      },
      {
       "output_type": "stream",
       "stream": "stdout",
       "text": [
        " 1600000 rows...\n",
        "comp632020_c4_seq1,ENSMUSP00000079269,62,2e-14,200,15\n",
        "Parsed"
       ]
      },
      {
       "output_type": "stream",
       "stream": "stdout",
       "text": [
        " 1700000 rows...\n",
        "comp633046_c2_seq1,ENSMUSP00000112684,105,1e-15,69,383\n",
        "Parsed"
       ]
      },
      {
       "output_type": "stream",
       "stream": "stdout",
       "text": [
        " 1800000 rows...\n",
        "comp633883_c1_seq13,ENSMUSP00000061698,146,3e-18,801,364\n",
        "Parsed"
       ]
      },
      {
       "output_type": "stream",
       "stream": "stdout",
       "text": [
        " 1900000 rows...\n",
        "comp634902_c0_seq1,ENSMUSP00000128038,185,1e-08,1613,1071\n",
        "Parsed"
       ]
      },
      {
       "output_type": "stream",
       "stream": "stdout",
       "text": [
        " 2000000 rows...\n",
        "comp635811_c0_seq17,ENSMUSP00000090661,120,6e-28,545,901\n",
        "Parsed"
       ]
      },
      {
       "output_type": "stream",
       "stream": "stdout",
       "text": [
        " 2100000 rows...\n",
        "comp636699_c0_seq24,ENSMUSP00000125063,38,1e-08,90,203\n",
        "Parsed"
       ]
      },
      {
       "output_type": "stream",
       "stream": "stdout",
       "text": [
        " 2200000 rows...\n",
        "comp637292_c0_seq15,ENSMUSP00000053760,90,2e-15,262,531\n",
        "Parsed"
       ]
      },
      {
       "output_type": "stream",
       "stream": "stdout",
       "text": [
        " 2300000 rows...\n",
        "comp638041_c2_seq5,ENSMUSP00000089112,83,5e-12,62,310\n",
        "Parsed"
       ]
      },
      {
       "output_type": "stream",
       "stream": "stdout",
       "text": [
        " 2400000 rows...\n",
        "comp638868_c0_seq3,ENSMUSP00000105997,122,2e-17,613,978\n",
        "Parsed"
       ]
      },
      {
       "output_type": "stream",
       "stream": "stdout",
       "text": [
        " 2500000 rows...\n",
        "comp639462_c6_seq6,ENSMUSP00000119120,104,2e-15,739,1044\n",
        "Parsed"
       ]
      },
      {
       "output_type": "stream",
       "stream": "stdout",
       "text": [
        " 2600000 rows...\n",
        "comp639894_c0_seq8,ENSMUSP00000033899,58,4e-08,718,563\n",
        "Parsed"
       ]
      },
      {
       "output_type": "stream",
       "stream": "stdout",
       "text": [
        " 2700000 rows...\n",
        "comp640632_c1_seq6,ENSMUSP00000104682,59,9e-08,171,1\n",
        "Parsed"
       ]
      },
      {
       "output_type": "stream",
       "stream": "stdout",
       "text": [
        " 2800000 rows...\n",
        "comp641403_c0_seq9,ENSMUSP00000113197,114,5e-51,423,764\n",
        "Parsed"
       ]
      },
      {
       "output_type": "stream",
       "stream": "stdout",
       "text": [
        " 2900000 rows...\n",
        "comp642225_c2_seq15,ENSMUSP00000081690,570,5e-95,2454,757\n",
        "Parsed"
       ]
      },
      {
       "output_type": "stream",
       "stream": "stdout",
       "text": [
        " 3000000 rows...\n",
        "comp642709_c2_seq2,ENSMUSP00000072496,79,2e-15,6,242\n",
        "Parsed"
       ]
      },
      {
       "output_type": "stream",
       "stream": "stdout",
       "text": [
        " 3100000 rows...\n",
        "comp643274_c2_seq3,ENSMUSP00000113585,150,4e-11,392,3\n",
        "Parsed"
       ]
      },
      {
       "output_type": "stream",
       "stream": "stdout",
       "text": [
        " 3200000 rows...\n",
        "comp643813_c5_seq3,ENSMUSP00000032823,148,2e-12,438,1\n",
        "Parsed"
       ]
      },
      {
       "output_type": "stream",
       "stream": "stdout",
       "text": [
        " 3300000 rows...\n",
        "comp644282_c7_seq4,ENSMUSP00000055517,136,3e-28,675,1082\n",
        "Parsed"
       ]
      },
      {
       "output_type": "stream",
       "stream": "stdout",
       "text": [
        " 3400000 rows...\n",
        "comp644831_c3_seq8,ENSMUSP00000072478,575,3e-09,1640,36\n",
        "Parsed"
       ]
      },
      {
       "output_type": "stream",
       "stream": "stdout",
       "text": [
        " 3500000 rows...\n",
        "comp645613_c0_seq2,ENSMUSP00000107477,98,2e-08,305,12\n",
        "Parsed"
       ]
      },
      {
       "output_type": "stream",
       "stream": "stdout",
       "text": [
        " 3600000 rows...\n",
        "comp646112_c0_seq12,ENSMUSP00000105918,137,6e-09,390,791\n",
        "Parsed"
       ]
      },
      {
       "output_type": "stream",
       "stream": "stdout",
       "text": [
        " 3700000 rows...\n",
        "comp646523_c6_seq13,ENSMUSP00000129951,235,1e-14,700,2\n",
        "Parsed"
       ]
      },
      {
       "output_type": "stream",
       "stream": "stdout",
       "text": [
        " 3800000 rows...\n",
        "comp646862_c1_seq1,ENSMUSP00000029075,73,4e-12,352,567\n",
        "Parsed"
       ]
      },
      {
       "output_type": "stream",
       "stream": "stdout",
       "text": [
        " 3900000 rows...\n",
        "comp647483_c1_seq18,ENSMUSP00000104618,135,2e-24,1589,1185\n",
        "Parsed"
       ]
      },
      {
       "output_type": "stream",
       "stream": "stdout",
       "text": [
        " 4000000 rows...\n",
        "comp647940_c0_seq18,ENSMUSP00000001801,417,1e-86,1235,3\n",
        "Parsed"
       ]
      },
      {
       "output_type": "stream",
       "stream": "stdout",
       "text": [
        " 4100000 rows...\n",
        "comp648139_c2_seq22,ENSMUSP00000137333,272,9e-23,1477,692\n",
        "Parsed"
       ]
      },
      {
       "output_type": "stream",
       "stream": "stdout",
       "text": [
        " 4200000 rows...\n",
        "comp648732_c1_seq5,ENSMUSP00000125081,232,3e-13,3306,2647\n",
        "Parsed"
       ]
      },
      {
       "output_type": "stream",
       "stream": "stdout",
       "text": [
        " 4300000 rows...\n",
        "comp649131_c2_seq1,ENSMUSP00000105548,63,2e-12,822,1010\n",
        "Parsed"
       ]
      },
      {
       "output_type": "stream",
       "stream": "stdout",
       "text": [
        " 4400000 rows...\n",
        "comp649447_c1_seq22,ENSMUSP00000032422,192,5e-11,1884,2381\n",
        "Parsed"
       ]
      },
      {
       "output_type": "stream",
       "stream": "stdout",
       "text": [
        " 4500000 rows...\n",
        "comp649649_c2_seq28,ENSMUSP00000019913,67,4e-14,400,600\n",
        "Parsed"
       ]
      },
      {
       "output_type": "stream",
       "stream": "stdout",
       "text": [
        " 4600000 rows...\n",
        "comp650210_c0_seq4,ENSMUSP00000032661,133,1e-14,92,430\n",
        "Parsed"
       ]
      },
      {
       "output_type": "stream",
       "stream": "stdout",
       "text": [
        " 4700000 rows...\n",
        "comp650602_c2_seq12,ENSMUSP00000129635,247,1e-12,1571,852\n",
        "Parsed"
       ]
      },
      {
       "output_type": "stream",
       "stream": "stdout",
       "text": [
        " 4800000 rows...\n",
        "comp651019_c3_seq1,ENSMUSP00000042215,291,4e-127,92,964\n",
        "Parsed"
       ]
      },
      {
       "output_type": "stream",
       "stream": "stdout",
       "text": [
        " 4900000 rows...\n",
        "comp651340_c6_seq19,ENSMUSP00000132285,75,8e-10,233,9\n",
        "Parsed"
       ]
      },
      {
       "output_type": "stream",
       "stream": "stdout",
       "text": [
        " 5000000 rows...\n",
        "comp651880_c0_seq2,ENSMUSP00000113952,111,4e-11,332,3\n",
        "Parsed"
       ]
      },
      {
       "output_type": "stream",
       "stream": "stdout",
       "text": [
        " 5100000 rows...\n",
        "comp652123_c0_seq26,ENSMUSP00000124456,296,4e-14,939,103\n",
        "Parsed"
       ]
      },
      {
       "output_type": "stream",
       "stream": "stdout",
       "text": [
        " 5200000 rows...\n",
        "comp652446_c0_seq7,ENSMUSP00000006903,115,2e-23,1575,1231\n",
        "Parsed"
       ]
      },
      {
       "output_type": "stream",
       "stream": "stdout",
       "text": [
        " 5300000 rows...\n",
        "comp652937_c0_seq12,ENSMUSP00000109678,157,2e-21,373,840\n",
        "Parsed"
       ]
      },
      {
       "output_type": "stream",
       "stream": "stdout",
       "text": [
        " 5400000 rows...\n",
        "comp653315_c0_seq23,ENSMUSP00000102064,189,3e-14,540,1097\n",
        "Parsed"
       ]
      },
      {
       "output_type": "stream",
       "stream": "stdout",
       "text": [
        " 5500000 rows...\n",
        "comp653840_c1_seq1,ENSMUSP00000132149,843,6e-19,7066,4766\n",
        "Parsed"
       ]
      },
      {
       "output_type": "stream",
       "stream": "stdout",
       "text": [
        " 5600000 rows...\n",
        "comp859907_c0_seq1,ENSMUSP00000117117,68,3e-23,204,4\n",
        "Parsed"
       ]
      },
      {
       "output_type": "stream",
       "stream": "stdout",
       "text": [
        " 5700000 rows...\n",
        "comp1922709_c0_seq1,ENSMUSP00000131474,55,2e-17,98,262\n",
        "...done parsing 5764325 hits."
       ]
      },
      {
       "output_type": "stream",
       "stream": "stdout",
       "text": [
        "\n",
        "sorting hits by query...\n",
        "sorted 5764325 hits"
       ]
      },
      {
       "output_type": "stream",
       "stream": "stdout",
       "text": [
        "\n",
        "partitioning hits by query...\n",
        "...done!"
       ]
      },
      {
       "output_type": "stream",
       "stream": "stdout",
       "text": [
        "\n",
        "115528 queries over 5764325 hits\n",
        "Reading sequences and associating hits...\n",
        "...done!"
       ]
      },
      {
       "output_type": "stream",
       "stream": "stdout",
       "text": [
        "\n"
       ]
      }
     ],
     "prompt_number": 28
    },
    {
     "cell_type": "code",
     "collapsed": false,
     "input": [
      "print mouse_nongenome_ps, numPartsWithHits(mouse_nongenome_ps)"
     ],
     "language": "python",
     "metadata": {},
     "outputs": [
      {
       "output_type": "stream",
       "stream": "stdout",
       "text": [
        "# PartitionSet containing:\n",
        "        # 110867 partitions\n",
        "        # comprising 210126 seqs\n",
        "        # with 1.895 seqs/partition avg\n",
        " "
       ]
      },
      {
       "output_type": "stream",
       "stream": "stdout",
       "text": [
        "(33315, 61925, 38089)\n"
       ]
      }
     ],
     "prompt_number": 62
    },
    {
     "cell_type": "code",
     "collapsed": false,
     "input": [
      "splitPartsOnHits(mouse_nongenome_ps, 'nongenome.x.mouse.fp')"
     ],
     "language": "python",
     "metadata": {},
     "outputs": [],
     "prompt_number": 31
    },
    {
     "cell_type": "code",
     "collapsed": false,
     "input": [
      "%run scripts/stats.py 200 nongenome.x.mouse.fp.nohits\n",
      "%run /w/peasoup/scripts/partition-stats.py -i nongenome.x.mouse.fp.nohits"
     ],
     "language": "python",
     "metadata": {},
     "outputs": [
      {
       "output_type": "stream",
       "stream": "stdout",
       "text": [
        "filename trim_n sum min med mean max n50_len\n",
        "nongenome.x.mouse.fp.nohits & 132621 & 59246512 & 200 & 296 & 446 & 7796 & 489"
       ]
      },
      {
       "output_type": "stream",
       "stream": "stdout",
       "text": [
        "\n",
        "77552"
       ]
      },
      {
       "output_type": "stream",
       "stream": "stdout",
       "text": [
        " partitions\n",
        "148201 sequences\n",
        "1.91098875593 seqs/part avg\n"
       ]
      }
     ],
     "prompt_number": 37
    },
    {
     "cell_type": "code",
     "collapsed": false,
     "input": [
      "%run scripts/stats.py 200 nongenome.x.mouse.fp.hits\n",
      "%run /w/peasoup/scripts/partition-stats.py -i nongenome.x.mouse.fp.hits"
     ],
     "language": "python",
     "metadata": {},
     "outputs": [
      {
       "output_type": "stream",
       "stream": "stdout",
       "text": [
        "filename trim_n sum min med mean max n50_len\n",
        "nongenome.x.mouse.fp.hits & 56706 & 23968557 & 200 & 284 & 422 & 8934 & 435"
       ]
      },
      {
       "output_type": "stream",
       "stream": "stdout",
       "text": [
        "\n",
        "33315"
       ]
      },
      {
       "output_type": "stream",
       "stream": "stdout",
       "text": [
        " partitions\n",
        "61925 sequences\n",
        "1.85877232478 seqs/part avg\n"
       ]
      }
     ],
     "prompt_number": 38
    },
    {
     "cell_type": "code",
     "collapsed": false,
     "input": [
      "%run scripts/stats.py 200 petMar.x.genome.fp.hits\n",
      "%run /w/peasoup/scripts/partition-stats.py -i petMar.x.genome.fp.hits"
     ],
     "language": "python",
     "metadata": {},
     "outputs": [
      {
       "output_type": "stream",
       "stream": "stdout",
       "text": [
        "filename trim_n sum min med mean max n50_len\n",
        "petMar.x.genome.fp.hits & 367084 & 201493358 & 200 & 348 & 548 & 14839 & 697"
       ]
      },
      {
       "output_type": "stream",
       "stream": "stdout",
       "text": [
        "\n",
        "152669"
       ]
      },
      {
       "output_type": "stream",
       "stream": "stdout",
       "text": [
        " partitions\n",
        "406480 sequences\n",
        "2.66249205798 seqs/part avg\n"
       ]
      }
     ],
     "prompt_number": 39
    },
    {
     "cell_type": "code",
     "collapsed": false,
     "input": [
      "!blastx -query petMar.x.genome.fp.nohits -db db/zebrafish.protein.fa -out data/x.zebrafish.csv -num_threads 8 -evalue 0.0000001 -outfmt \"{blast_fmt}\""
     ],
     "language": "python",
     "metadata": {},
     "outputs": [],
     "prompt_number": 41
    },
    {
     "cell_type": "code",
     "collapsed": false,
     "input": [
      "zebrafish_nonmousegenome_ps = hb.PartitionSet.associateHits('nongenome.x.mouse.fp.nohits', 'data/x.zebrafish.csv')"
     ],
     "language": "python",
     "metadata": {},
     "outputs": [
      {
       "output_type": "stream",
       "stream": "stdout",
       "text": [
        "Parsing hits..."
       ]
      },
      {
       "output_type": "stream",
       "stream": "stdout",
       "text": [
        "\n",
        "Parsed 0 rows...\n",
        "comp644764_c3_seq3,ENSDARP00000012808,74,3e-24,346,125\n",
        "Parsed"
       ]
      },
      {
       "output_type": "stream",
       "stream": "stdout",
       "text": [
        " 100000 rows...\n",
        "comp644069_c0_seq2,ENSDARP00000036647,102,2e-11,374,105\n",
        "Parsed"
       ]
      },
      {
       "output_type": "stream",
       "stream": "stdout",
       "text": [
        " 200000 rows...\n",
        "comp643036_c2_seq22,ENSDARP00000088066,349,3e-23,1725,2537\n",
        "Parsed"
       ]
      },
      {
       "output_type": "stream",
       "stream": "stdout",
       "text": [
        " 300000 rows...\n",
        "comp639196_c0_seq6,ENSDARP00000119485,159,3e-15,1869,2294\n",
        "Parsed"
       ]
      },
      {
       "output_type": "stream",
       "stream": "stdout",
       "text": [
        " 400000 rows...\n",
        "comp637292_c0_seq22,ENSDARP00000113271,91,4e-17,259,531\n",
        "Parsed"
       ]
      },
      {
       "output_type": "stream",
       "stream": "stdout",
       "text": [
        " 500000 rows...\n",
        "comp638927_c0_seq4,ENSDARP00000115680,190,3e-08,769,257\n",
        "Parsed"
       ]
      },
      {
       "output_type": "stream",
       "stream": "stdout",
       "text": [
        " 600000 rows...\n",
        "comp651533_c2_seq22,ENSDARP00000113290,253,5e-11,806,48\n",
        "Parsed"
       ]
      },
      {
       "output_type": "stream",
       "stream": "stdout",
       "text": [
        " 700000 rows...\n",
        "comp633325_c0_seq2,ENSDARP00000110874,99,5e-11,334,38\n",
        "Parsed"
       ]
      },
      {
       "output_type": "stream",
       "stream": "stdout",
       "text": [
        " 800000 rows...\n",
        "comp627277_c0_seq3,ENSDARP00000121170,267,2e-32,1434,637\n",
        "Parsed"
       ]
      },
      {
       "output_type": "stream",
       "stream": "stdout",
       "text": [
        " 900000 rows...\n",
        "comp523630_c0_seq1,ENSDARP00000109434,63,1e-13,261,76\n",
        "Parsed"
       ]
      },
      {
       "output_type": "stream",
       "stream": "stdout",
       "text": [
        " 1000000 rows...\n",
        "comp332733_c0_seq1,ENSDARP00000097308,61,3e-11,2,184\n",
        "Parsed"
       ]
      },
      {
       "output_type": "stream",
       "stream": "stdout",
       "text": [
        " 1100000 rows...\n",
        "comp591561_c0_seq1,ENSDARP00000122095,375,5e-20,20,1120\n",
        "Parsed"
       ]
      },
      {
       "output_type": "stream",
       "stream": "stdout",
       "text": [
        " 1200000 rows...\n",
        "comp446635_c0_seq3,ENSDARP00000110612,83,1e-27,250,2\n",
        "Parsed"
       ]
      },
      {
       "output_type": "stream",
       "stream": "stdout",
       "text": [
        " 1300000 rows...\n",
        "comp789759_c0_seq1,ENSDARP00000107517,84,4e-11,1,252\n",
        "Parsed"
       ]
      },
      {
       "output_type": "stream",
       "stream": "stdout",
       "text": [
        " 1400000 rows...\n",
        "comp164395_c0_seq1,ENSDARP00000114012,58,7e-12,64,237\n",
        "Parsed"
       ]
      },
      {
       "output_type": "stream",
       "stream": "stdout",
       "text": [
        " 1500000 rows...\n",
        "comp553586_c1_seq1,ENSDARP00000110551,61,7e-14,1,183\n",
        "...done parsing 1584792 hits."
       ]
      },
      {
       "output_type": "stream",
       "stream": "stdout",
       "text": [
        "\n",
        "sorting hits by query...\n",
        "sorted 1584792 hits"
       ]
      },
      {
       "output_type": "stream",
       "stream": "stdout",
       "text": [
        "\n",
        "partitioning hits by query...\n",
        "...done!"
       ]
      },
      {
       "output_type": "stream",
       "stream": "stdout",
       "text": [
        "\n",
        "44460 queries over 1584792 hits\n",
        "Reading sequences and associating hits...\n",
        "...done!"
       ]
      },
      {
       "output_type": "stream",
       "stream": "stdout",
       "text": [
        "\n"
       ]
      }
     ],
     "prompt_number": 42
    },
    {
     "cell_type": "code",
     "collapsed": false,
     "input": [
      "print numPartsWithHits(zebrafish_nonmousegenome_ps), zebrafish_nonmousegenome_ps"
     ],
     "language": "python",
     "metadata": {},
     "outputs": [
      {
       "output_type": "stream",
       "stream": "stdout",
       "text": [
        "(910, 1802, 972) # PartitionSet containing:\n",
        "        # 77552 partitions\n",
        "        # comprising 148201 seqs\n",
        "        # with 1.911 seqs/partition avg\n"
       ]
      },
      {
       "output_type": "stream",
       "stream": "stdout",
       "text": [
        "\n"
       ]
      }
     ],
     "prompt_number": 63
    },
    {
     "cell_type": "code",
     "collapsed": false,
     "input": [
      "all_ps = ps + hb.PartitionSet()"
     ],
     "language": "python",
     "metadata": {},
     "outputs": [],
     "prompt_number": 52
    },
    {
     "cell_type": "code",
     "collapsed": false,
     "input": [
      "print numPartsWithHits(all_ps)"
     ],
     "language": "python",
     "metadata": {},
     "outputs": [
      {
       "output_type": "stream",
       "stream": "stdout",
       "text": [
        "(152669, 182842)\n"
       ]
      }
     ],
     "prompt_number": 54
    },
    {
     "cell_type": "code",
     "collapsed": false,
     "input": [
      "all_ps.addHits('data/x.mouse.csv')\n",
      "all_ps.addHits('data/x.zebrafish.csv')\n",
      "all_ps.addHits('data/x.EST.csv')\n",
      "all_ps.addHits('data/x.lamp0.csv')"
     ],
     "language": "python",
     "metadata": {},
     "outputs": [
      {
       "output_type": "stream",
       "stream": "stdout",
       "text": [
        "Parsing hits...\n",
        "Parsed 0 rows...\n",
        "comp394_c0_seq1,ENSMUSP00000006424,78,2e-30,5,238\n",
        "Parsed"
       ]
      },
      {
       "output_type": "stream",
       "stream": "stdout",
       "text": [
        " 100000 rows...\n",
        "comp264212_c0_seq1,ENSMUSP00000048829,138,2e-14,1,399\n",
        "Parsed"
       ]
      },
      {
       "output_type": "stream",
       "stream": "stdout",
       "text": [
        " 200000 rows...\n",
        "comp395436_c0_seq1,ENSMUSP00000066980,39,5e-15,112,228\n",
        "Parsed"
       ]
      },
      {
       "output_type": "stream",
       "stream": "stdout",
       "text": [
        " 300000 rows...\n",
        "comp431582_c0_seq1,ENSMUSP00000050538,91,2e-09,338,66\n",
        "Parsed"
       ]
      },
      {
       "output_type": "stream",
       "stream": "stdout",
       "text": [
        " 400000 rows...\n",
        "comp517136_c0_seq1,ENSMUSP00000078158,220,5e-13,348,995\n",
        "Parsed"
       ]
      },
      {
       "output_type": "stream",
       "stream": "stdout",
       "text": [
        " 500000 rows...\n",
        "comp541058_c0_seq1,ENSMUSP00000047763,118,8e-08,137,475\n",
        "Parsed"
       ]
      },
      {
       "output_type": "stream",
       "stream": "stdout",
       "text": [
        " 600000 rows...\n",
        "comp569554_c0_seq1,ENSMUSP00000065379,75,3e-17,225,1\n",
        "Parsed"
       ]
      },
      {
       "output_type": "stream",
       "stream": "stdout",
       "text": [
        " 700000 rows...\n",
        "comp587864_c0_seq1,ENSMUSP00000099575,122,2e-16,128,457\n",
        "Parsed"
       ]
      },
      {
       "output_type": "stream",
       "stream": "stdout",
       "text": [
        " 800000 rows...\n",
        "comp600883_c0_seq1,ENSMUSP00000127701,70,7e-31,1,210\n",
        "Parsed"
       ]
      },
      {
       "output_type": "stream",
       "stream": "stdout",
       "text": [
        " 900000 rows...\n",
        "comp609191_c0_seq5,ENSMUSP00000053879,154,2e-33,463,2\n",
        "Parsed"
       ]
      },
      {
       "output_type": "stream",
       "stream": "stdout",
       "text": [
        " 1000000 rows...\n",
        "comp615148_c0_seq2,ENSMUSP00000084282,329,4e-25,1789,857\n",
        "Parsed"
       ]
      },
      {
       "output_type": "stream",
       "stream": "stdout",
       "text": [
        " 1100000 rows...\n",
        "comp621291_c0_seq1,ENSMUSP00000128510,406,3e-42,25,1209\n",
        "Parsed"
       ]
      },
      {
       "output_type": "stream",
       "stream": "stdout",
       "text": [
        " 1200000 rows...\n",
        "comp625491_c0_seq1,ENSMUSP00000045684,104,2e-10,742,434\n",
        "Parsed"
       ]
      },
      {
       "output_type": "stream",
       "stream": "stdout",
       "text": [
        " 1300000 rows...\n",
        "comp628151_c0_seq2,ENSMUSP00000104587,81,2e-22,2,244\n",
        "Parsed"
       ]
      },
      {
       "output_type": "stream",
       "stream": "stdout",
       "text": [
        " 1400000 rows...\n",
        "comp629577_c0_seq1,ENSMUSP00000012873,220,1e-35,486,1139\n",
        "Parsed"
       ]
      },
      {
       "output_type": "stream",
       "stream": "stdout",
       "text": [
        " 1500000 rows...\n",
        "comp630943_c1_seq2,ENSMUSP00000080751,208,1e-15,14,616\n",
        "Parsed"
       ]
      },
      {
       "output_type": "stream",
       "stream": "stdout",
       "text": [
        " 1600000 rows...\n",
        "comp632020_c4_seq1,ENSMUSP00000079269,62,2e-14,200,15\n",
        "Parsed"
       ]
      },
      {
       "output_type": "stream",
       "stream": "stdout",
       "text": [
        " 1700000 rows...\n",
        "comp633046_c2_seq1,ENSMUSP00000112684,105,1e-15,69,383\n",
        "Parsed"
       ]
      },
      {
       "output_type": "stream",
       "stream": "stdout",
       "text": [
        " 1800000 rows...\n",
        "comp633883_c1_seq13,ENSMUSP00000061698,146,3e-18,801,364\n",
        "Parsed"
       ]
      },
      {
       "output_type": "stream",
       "stream": "stdout",
       "text": [
        " 1900000 rows...\n",
        "comp634902_c0_seq1,ENSMUSP00000128038,185,1e-08,1613,1071\n",
        "Parsed"
       ]
      },
      {
       "output_type": "stream",
       "stream": "stdout",
       "text": [
        " 2000000 rows...\n",
        "comp635811_c0_seq17,ENSMUSP00000090661,120,6e-28,545,901\n",
        "Parsed"
       ]
      },
      {
       "output_type": "stream",
       "stream": "stdout",
       "text": [
        " 2100000 rows...\n",
        "comp636699_c0_seq24,ENSMUSP00000125063,38,1e-08,90,203\n",
        "Parsed"
       ]
      },
      {
       "output_type": "stream",
       "stream": "stdout",
       "text": [
        " 2200000 rows...\n",
        "comp637292_c0_seq15,ENSMUSP00000053760,90,2e-15,262,531\n",
        "Parsed"
       ]
      },
      {
       "output_type": "stream",
       "stream": "stdout",
       "text": [
        " 2300000 rows...\n",
        "comp638041_c2_seq5,ENSMUSP00000089112,83,5e-12,62,310\n",
        "Parsed"
       ]
      },
      {
       "output_type": "stream",
       "stream": "stdout",
       "text": [
        " 2400000 rows...\n",
        "comp638868_c0_seq3,ENSMUSP00000105997,122,2e-17,613,978\n",
        "Parsed"
       ]
      },
      {
       "output_type": "stream",
       "stream": "stdout",
       "text": [
        " 2500000 rows...\n",
        "comp639462_c6_seq6,ENSMUSP00000119120,104,2e-15,739,1044\n",
        "Parsed"
       ]
      },
      {
       "output_type": "stream",
       "stream": "stdout",
       "text": [
        " 2600000 rows...\n",
        "comp639894_c0_seq8,ENSMUSP00000033899,58,4e-08,718,563\n",
        "Parsed"
       ]
      },
      {
       "output_type": "stream",
       "stream": "stdout",
       "text": [
        " 2700000 rows...\n",
        "comp640632_c1_seq6,ENSMUSP00000104682,59,9e-08,171,1\n",
        "Parsed"
       ]
      },
      {
       "output_type": "stream",
       "stream": "stdout",
       "text": [
        " 2800000 rows...\n",
        "comp641403_c0_seq9,ENSMUSP00000113197,114,5e-51,423,764\n",
        "Parsed"
       ]
      },
      {
       "output_type": "stream",
       "stream": "stdout",
       "text": [
        " 2900000 rows...\n",
        "comp642225_c2_seq15,ENSMUSP00000081690,570,5e-95,2454,757\n",
        "Parsed"
       ]
      },
      {
       "output_type": "stream",
       "stream": "stdout",
       "text": [
        " 3000000 rows...\n",
        "comp642709_c2_seq2,ENSMUSP00000072496,79,2e-15,6,242\n",
        "Parsed"
       ]
      },
      {
       "output_type": "stream",
       "stream": "stdout",
       "text": [
        " 3100000 rows...\n",
        "comp643274_c2_seq3,ENSMUSP00000113585,150,4e-11,392,3\n",
        "Parsed"
       ]
      },
      {
       "output_type": "stream",
       "stream": "stdout",
       "text": [
        " 3200000 rows...\n",
        "comp643813_c5_seq3,ENSMUSP00000032823,148,2e-12,438,1\n",
        "Parsed"
       ]
      },
      {
       "output_type": "stream",
       "stream": "stdout",
       "text": [
        " 3300000 rows...\n",
        "comp644282_c7_seq4,ENSMUSP00000055517,136,3e-28,675,1082\n",
        "Parsed"
       ]
      },
      {
       "output_type": "stream",
       "stream": "stdout",
       "text": [
        " 3400000 rows...\n",
        "comp644831_c3_seq8,ENSMUSP00000072478,575,3e-09,1640,36\n",
        "Parsed"
       ]
      },
      {
       "output_type": "stream",
       "stream": "stdout",
       "text": [
        " 3500000 rows...\n",
        "comp645613_c0_seq2,ENSMUSP00000107477,98,2e-08,305,12\n",
        "Parsed"
       ]
      },
      {
       "output_type": "stream",
       "stream": "stdout",
       "text": [
        " 3600000 rows...\n",
        "comp646112_c0_seq12,ENSMUSP00000105918,137,6e-09,390,791\n",
        "Parsed"
       ]
      },
      {
       "output_type": "stream",
       "stream": "stdout",
       "text": [
        " 3700000 rows...\n",
        "comp646523_c6_seq13,ENSMUSP00000129951,235,1e-14,700,2\n",
        "Parsed"
       ]
      },
      {
       "output_type": "stream",
       "stream": "stdout",
       "text": [
        " 3800000 rows...\n",
        "comp646862_c1_seq1,ENSMUSP00000029075,73,4e-12,352,567\n",
        "Parsed"
       ]
      },
      {
       "output_type": "stream",
       "stream": "stdout",
       "text": [
        " 3900000 rows...\n",
        "comp647483_c1_seq18,ENSMUSP00000104618,135,2e-24,1589,1185\n",
        "Parsed"
       ]
      },
      {
       "output_type": "stream",
       "stream": "stdout",
       "text": [
        " 4000000 rows...\n",
        "comp647940_c0_seq18,ENSMUSP00000001801,417,1e-86,1235,3\n",
        "Parsed"
       ]
      },
      {
       "output_type": "stream",
       "stream": "stdout",
       "text": [
        " 4100000 rows...\n",
        "comp648139_c2_seq22,ENSMUSP00000137333,272,9e-23,1477,692\n",
        "Parsed"
       ]
      },
      {
       "output_type": "stream",
       "stream": "stdout",
       "text": [
        " 4200000 rows...\n",
        "comp648732_c1_seq5,ENSMUSP00000125081,232,3e-13,3306,2647\n",
        "Parsed"
       ]
      },
      {
       "output_type": "stream",
       "stream": "stdout",
       "text": [
        " 4300000 rows...\n",
        "comp649131_c2_seq1,ENSMUSP00000105548,63,2e-12,822,1010\n",
        "Parsed"
       ]
      },
      {
       "output_type": "stream",
       "stream": "stdout",
       "text": [
        " 4400000 rows...\n",
        "comp649447_c1_seq22,ENSMUSP00000032422,192,5e-11,1884,2381\n",
        "Parsed"
       ]
      },
      {
       "output_type": "stream",
       "stream": "stdout",
       "text": [
        " 4500000 rows...\n",
        "comp649649_c2_seq28,ENSMUSP00000019913,67,4e-14,400,600\n",
        "Parsed"
       ]
      },
      {
       "output_type": "stream",
       "stream": "stdout",
       "text": [
        " 4600000 rows...\n",
        "comp650210_c0_seq4,ENSMUSP00000032661,133,1e-14,92,430\n",
        "Parsed"
       ]
      },
      {
       "output_type": "stream",
       "stream": "stdout",
       "text": [
        " 4700000 rows...\n",
        "comp650602_c2_seq12,ENSMUSP00000129635,247,1e-12,1571,852\n",
        "Parsed"
       ]
      },
      {
       "output_type": "stream",
       "stream": "stdout",
       "text": [
        " 4800000 rows...\n",
        "comp651019_c3_seq1,ENSMUSP00000042215,291,4e-127,92,964\n",
        "Parsed"
       ]
      },
      {
       "output_type": "stream",
       "stream": "stdout",
       "text": [
        " 4900000 rows...\n",
        "comp651340_c6_seq19,ENSMUSP00000132285,75,8e-10,233,9\n",
        "Parsed"
       ]
      },
      {
       "output_type": "stream",
       "stream": "stdout",
       "text": [
        " 5000000 rows...\n",
        "comp651880_c0_seq2,ENSMUSP00000113952,111,4e-11,332,3\n",
        "Parsed"
       ]
      },
      {
       "output_type": "stream",
       "stream": "stdout",
       "text": [
        " 5100000 rows...\n",
        "comp652123_c0_seq26,ENSMUSP00000124456,296,4e-14,939,103\n",
        "Parsed"
       ]
      },
      {
       "output_type": "stream",
       "stream": "stdout",
       "text": [
        " 5200000 rows...\n",
        "comp652446_c0_seq7,ENSMUSP00000006903,115,2e-23,1575,1231\n",
        "Parsed"
       ]
      },
      {
       "output_type": "stream",
       "stream": "stdout",
       "text": [
        " 5300000 rows...\n",
        "comp652937_c0_seq12,ENSMUSP00000109678,157,2e-21,373,840\n",
        "Parsed"
       ]
      },
      {
       "output_type": "stream",
       "stream": "stdout",
       "text": [
        " 5400000 rows...\n",
        "comp653315_c0_seq23,ENSMUSP00000102064,189,3e-14,540,1097\n",
        "Parsed"
       ]
      },
      {
       "output_type": "stream",
       "stream": "stdout",
       "text": [
        " 5500000 rows...\n",
        "comp653840_c1_seq1,ENSMUSP00000132149,843,6e-19,7066,4766\n",
        "Parsed"
       ]
      },
      {
       "output_type": "stream",
       "stream": "stdout",
       "text": [
        " 5600000 rows...\n",
        "comp859907_c0_seq1,ENSMUSP00000117117,68,3e-23,204,4\n",
        "Parsed"
       ]
      },
      {
       "output_type": "stream",
       "stream": "stdout",
       "text": [
        " 5700000 rows...\n",
        "comp1922709_c0_seq1,ENSMUSP00000131474,55,2e-17,98,262\n",
        "...done parsing 5764325 hits."
       ]
      },
      {
       "output_type": "stream",
       "stream": "stdout",
       "text": [
        "\n",
        "sorting hits by query...\n",
        "sorted 5764325 hits"
       ]
      },
      {
       "output_type": "stream",
       "stream": "stdout",
       "text": [
        "\n",
        "partitioning hits by query...\n",
        "...done!"
       ]
      },
      {
       "output_type": "stream",
       "stream": "stdout",
       "text": [
        "\n",
        "115528 queries over 5764325 hits\n",
        "Checking existing sequences...\n",
        "...Done! Added 45742 hits"
       ]
      },
      {
       "output_type": "stream",
       "stream": "stdout",
       "text": [
        "\n",
        "Parsing hits..."
       ]
      },
      {
       "output_type": "stream",
       "stream": "stdout",
       "text": [
        "\n",
        "Parsed 0 rows...\n",
        "comp644764_c3_seq3,ENSDARP00000012808,74,3e-24,346,125\n",
        "Parsed"
       ]
      },
      {
       "output_type": "stream",
       "stream": "stdout",
       "text": [
        " 100000 rows...\n",
        "comp644069_c0_seq2,ENSDARP00000036647,102,2e-11,374,105\n",
        "Parsed"
       ]
      },
      {
       "output_type": "stream",
       "stream": "stdout",
       "text": [
        " 200000 rows...\n",
        "comp643036_c2_seq22,ENSDARP00000088066,349,3e-23,1725,2537\n",
        "Parsed"
       ]
      },
      {
       "output_type": "stream",
       "stream": "stdout",
       "text": [
        " 300000 rows...\n",
        "comp639196_c0_seq6,ENSDARP00000119485,159,3e-15,1869,2294\n",
        "Parsed"
       ]
      },
      {
       "output_type": "stream",
       "stream": "stdout",
       "text": [
        " 400000 rows...\n",
        "comp637292_c0_seq22,ENSDARP00000113271,91,4e-17,259,531\n",
        "Parsed"
       ]
      },
      {
       "output_type": "stream",
       "stream": "stdout",
       "text": [
        " 500000 rows...\n",
        "comp638927_c0_seq4,ENSDARP00000115680,190,3e-08,769,257\n",
        "Parsed"
       ]
      },
      {
       "output_type": "stream",
       "stream": "stdout",
       "text": [
        " 600000 rows...\n",
        "comp651533_c2_seq22,ENSDARP00000113290,253,5e-11,806,48\n",
        "Parsed"
       ]
      },
      {
       "output_type": "stream",
       "stream": "stdout",
       "text": [
        " 700000 rows...\n",
        "comp633325_c0_seq2,ENSDARP00000110874,99,5e-11,334,38\n",
        "Parsed"
       ]
      },
      {
       "output_type": "stream",
       "stream": "stdout",
       "text": [
        " 800000 rows...\n",
        "comp627277_c0_seq3,ENSDARP00000121170,267,2e-32,1434,637\n",
        "Parsed"
       ]
      },
      {
       "output_type": "stream",
       "stream": "stdout",
       "text": [
        " 900000 rows...\n",
        "comp523630_c0_seq1,ENSDARP00000109434,63,1e-13,261,76\n",
        "Parsed"
       ]
      },
      {
       "output_type": "stream",
       "stream": "stdout",
       "text": [
        " 1000000 rows...\n",
        "comp332733_c0_seq1,ENSDARP00000097308,61,3e-11,2,184\n",
        "Parsed"
       ]
      },
      {
       "output_type": "stream",
       "stream": "stdout",
       "text": [
        " 1100000 rows...\n",
        "comp591561_c0_seq1,ENSDARP00000122095,375,5e-20,20,1120\n",
        "Parsed"
       ]
      },
      {
       "output_type": "stream",
       "stream": "stdout",
       "text": [
        " 1200000 rows...\n",
        "comp446635_c0_seq3,ENSDARP00000110612,83,1e-27,250,2\n",
        "Parsed"
       ]
      },
      {
       "output_type": "stream",
       "stream": "stdout",
       "text": [
        " 1300000 rows...\n",
        "comp789759_c0_seq1,ENSDARP00000107517,84,4e-11,1,252\n",
        "Parsed"
       ]
      },
      {
       "output_type": "stream",
       "stream": "stdout",
       "text": [
        " 1400000 rows...\n",
        "comp164395_c0_seq1,ENSDARP00000114012,58,7e-12,64,237\n",
        "Parsed"
       ]
      },
      {
       "output_type": "stream",
       "stream": "stdout",
       "text": [
        " 1500000 rows...\n",
        "comp553586_c1_seq1,ENSDARP00000110551,61,7e-14,1,183\n",
        "...done parsing 1584792 hits."
       ]
      },
      {
       "output_type": "stream",
       "stream": "stdout",
       "text": [
        "\n",
        "sorting hits by query...\n",
        "sorted 1584792 hits"
       ]
      },
      {
       "output_type": "stream",
       "stream": "stdout",
       "text": [
        "\n",
        "partitioning hits by query...\n",
        "...done!"
       ]
      },
      {
       "output_type": "stream",
       "stream": "stdout",
       "text": [
        "\n",
        "44460 queries over 1584792 hits\n",
        "Checking existing sequences...\n",
        "...Done! Added 30397 hits"
       ]
      },
      {
       "output_type": "stream",
       "stream": "stdout",
       "text": [
        "\n",
        "Parsing hits..."
       ]
      },
      {
       "output_type": "stream",
       "stream": "stdout",
       "text": [
        "\n",
        "Parsed 0 rows...\n",
        "comp694_c0_seq1,EE278148,392,0.0,65,456\n",
        "Parsed"
       ]
      },
      {
       "output_type": "stream",
       "stream": "stdout",
       "text": [
        " 100000 rows...\n",
        "comp635376_c0_seq1,DW019583,401,0.0,1,401\n",
        "Parsed"
       ]
      },
      {
       "output_type": "stream",
       "stream": "stdout",
       "text": [
        " 200000 rows...\n",
        "comp645377_c2_seq4,EG332060,316,9e-165,17,332\n",
        "Parsed"
       ]
      },
      {
       "output_type": "stream",
       "stream": "stdout",
       "text": [
        " 300000 rows...\n",
        "comp650968_c0_seq4,FD728077,745,0.0,1185,1928\n",
        "Parsed"
       ]
      },
      {
       "output_type": "stream",
       "stream": "stdout",
       "text": [
        " 400000 rows...\n",
        "comp653585_c1_seq3,DY800459,468,0.0,872,1339\n",
        "...done parsing 437567 hits."
       ]
      },
      {
       "output_type": "stream",
       "stream": "stdout",
       "text": [
        "\n",
        "sorting hits by query...\n",
        "sorted 437567 hits"
       ]
      },
      {
       "output_type": "stream",
       "stream": "stdout",
       "text": [
        "\n",
        "partitioning hits by query...\n",
        "...done!"
       ]
      },
      {
       "output_type": "stream",
       "stream": "stdout",
       "text": [
        "\n",
        "89685 queries over 437567 hits\n",
        "Checking existing sequences...\n",
        "...Done! Added 11927 hits"
       ]
      },
      {
       "output_type": "stream",
       "stream": "stdout",
       "text": [
        "\n",
        "Parsing hits..."
       ]
      },
      {
       "output_type": "stream",
       "stream": "stdout",
       "text": [
        "\n",
        "Parsed 0 rows...\n",
        "comp1777_c0_seq1,ENSPMAT00000010407,43,2e-15,1,43\n",
        "Parsed"
       ]
      },
      {
       "output_type": "stream",
       "stream": "stdout",
       "text": [
        " 100000 rows...\n",
        "comp652123_c0_seq9,ENSPMAT00000001629,2188,2e-133,6,2104\n",
        "...done parsing 117668 hits."
       ]
      },
      {
       "output_type": "stream",
       "stream": "stdout",
       "text": [
        "\n",
        "sorting hits by query...\n",
        "sorted 117668 hits"
       ]
      },
      {
       "output_type": "stream",
       "stream": "stdout",
       "text": [
        "\n",
        "partitioning hits by query...\n",
        "...done!"
       ]
      },
      {
       "output_type": "stream",
       "stream": "stdout",
       "text": [
        "\n",
        "65577 queries over 117668 hits\n",
        "Checking existing sequences...\n",
        "...Done! Added 7472 hits"
       ]
      },
      {
       "output_type": "stream",
       "stream": "stdout",
       "text": [
        "\n"
       ]
      }
     ],
     "prompt_number": 56
    },
    {
     "cell_type": "code",
     "collapsed": false,
     "input": [
      "print all_ps, numPartsWithHits(all_ps)"
     ],
     "language": "python",
     "metadata": {},
     "outputs": [
      {
       "output_type": "stream",
       "stream": "stdout",
       "text": [
        "# PartitionSet containing:\n",
        "        # 263536 partitions\n",
        "        # comprising 616606 seqs\n",
        "        # with 2.34 seqs/partition avg\n",
        " "
       ]
      },
      {
       "output_type": "stream",
       "stream": "stdout",
       "text": [
        "(188588, 474928, 225181)\n"
       ]
      }
     ],
     "prompt_number": 64
    },
    {
     "cell_type": "code",
     "collapsed": false,
     "input": [],
     "language": "python",
     "metadata": {},
     "outputs": []
    }
   ],
   "metadata": {}
  }
 ]
}