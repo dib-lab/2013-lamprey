{
 "metadata": {
  "name": "Lamprey mRNAseq 2013"
 },
 "nbformat": 3,
 "nbformat_minor": 0,
 "worksheets": [
  {
   "cells": [
    {
     "cell_type": "code",
     "collapsed": true,
     "input": [
      "%load_ext autoreload\n",
      "%autoreload 2\n",
      "import sys\n",
      "sys.path.append('/w/peasoup/scripts/')\n",
      "import hambone as hb\n",
      "import numpy as np\n",
      "import screed\n",
      "import khmer\n"
     ],
     "language": "python",
     "metadata": {},
     "outputs": [],
     "prompt_number": 1
    },
    {
     "cell_type": "markdown",
     "metadata": {},
     "source": [
      "Get Necessary Data"
     ]
    },
    {
     "cell_type": "code",
     "collapsed": false,
     "input": [
      "%cd db"
     ],
     "language": "python",
     "metadata": {},
     "outputs": [
      {
       "output_type": "stream",
       "stream": "stdout",
       "text": [
        "/w/2013-lamprey/db"
       ]
      },
      {
       "output_type": "stream",
       "stream": "stdout",
       "text": [
        "\n"
       ]
      }
     ],
     "prompt_number": 53
    },
    {
     "cell_type": "code",
     "collapsed": true,
     "input": [
      "!wget -nc http://hgdownload.soe.ucsc.edu/goldenPath/petMar2/bigZips/petMar2.fa.gz;"
     ],
     "language": "python",
     "metadata": {},
     "outputs": [],
     "prompt_number": 32
    },
    {
     "cell_type": "code",
     "collapsed": false,
     "input": [
      "!wget -nc -q http://hgdownload.soe.ucsc.edu/goldenPath/petMar2/bigZips/petMar2.fa.out.gz"
     ],
     "language": "python",
     "metadata": {},
     "outputs": [],
     "prompt_number": 54
    },
    {
     "cell_type": "code",
     "collapsed": false,
     "input": [
      "!ls && gunzip petMar2.fa.gz"
     ],
     "language": "python",
     "metadata": {},
     "outputs": [
      {
       "output_type": "stream",
       "stream": "stdout",
       "text": [
        "Amphioxus.uniprot.fa  Danio_rerio.Zv9.71.pep.all.fa.gz\tMus_musculus.GRCm38.71.pep.all.fa.gz  Myxinidae.uniprot.fa  petMar2.fa.gz"
       ]
      }
     ],
     "prompt_number": 33
    },
    {
     "cell_type": "code",
     "collapsed": false,
     "input": [
      "!wget -nc http://hgdownload.soe.ucsc.edu/goldenPath/petMar2/bigZips/petMar2.fa.masked.gz;\n",
      "!gunzip petMar2.fa.masked.gz"
     ],
     "language": "python",
     "metadata": {},
     "outputs": [
      {
       "output_type": "stream",
       "stream": "stdout",
       "text": [
        "--2013-06-27 12:14:18--  http://hgdownload.soe.ucsc.edu/goldenPath/petMar2/bigZips/petMar2.fa.masked.gz\n",
        "Resolving hgdownload.soe.ucsc.edu (hgdownload.soe.ucsc.edu)... 128.114.119.163\n",
        "Connecting to hgdownload.soe.ucsc.edu (hgdownload.soe.ucsc.edu)|128.114.119.163|:80... "
       ]
      },
      {
       "output_type": "stream",
       "stream": "stdout",
       "text": [
        "connected.\n",
        "HTTP request sent, awaiting response... "
       ]
      },
      {
       "output_type": "stream",
       "stream": "stdout",
       "text": [
        "200 OK\n",
        "Length: 140390098 (134M) [application/x-gzip]\n",
        "Saving to: `petMar2.fa.masked.gz'\n",
        "\n",
        "\n",
        " 0% [                                       ] 0           --.-K/s              "
       ]
      },
      {
       "output_type": "stream",
       "stream": "stdout",
       "text": [
        "\n",
        " 0% [                                       ] 77,808       349K/s              "
       ]
      },
      {
       "output_type": "stream",
       "stream": "stdout",
       "text": [
        "\n",
        " 0% [                                       ] 202,336      447K/s              "
       ]
      },
      {
       "output_type": "stream",
       "stream": "stdout",
       "text": [
        "\n",
        " 0% [                                       ] 548,408      790K/s              "
       ]
      },
      {
       "output_type": "stream",
       "stream": "stdout",
       "text": [
        "\n",
        " 0% [                                       ] 1,127,608   1.21M/s              "
       ]
      },
      {
       "output_type": "stream",
       "stream": "stdout",
       "text": [
        "\n",
        " 1% [                                       ] 2,384,472   2.09M/s              "
       ]
      },
      {
       "output_type": "stream",
       "stream": "stdout",
       "text": [
        "\n",
        " 2% [                                       ] 3,343,048   2.44M/s              "
       ]
      },
      {
       "output_type": "stream",
       "stream": "stdout",
       "text": [
        "\n",
        " 3% [>                                      ] 5,161,736   3.27M/s              "
       ]
      },
      {
       "output_type": "stream",
       "stream": "stdout",
       "text": [
        "\n",
        " 4% [>                                      ] 6,228,912   3.47M/s              "
       ]
      },
      {
       "output_type": "stream",
       "stream": "stdout",
       "text": [
        "\n",
        " 5% [=>                                     ] 7,401,792   3.69M/s              "
       ]
      },
      {
       "output_type": "stream",
       "stream": "stdout",
       "text": [
        "\n",
        " 6% [=>                                     ] 8,561,640   3.87M/s              "
       ]
      },
      {
       "output_type": "stream",
       "stream": "stdout",
       "text": [
        "\n",
        " 6% [=>                                     ] 9,728,728   4.01M/s              "
       ]
      },
      {
       "output_type": "stream",
       "stream": "stdout",
       "text": [
        "\n",
        " 7% [==>                                    ] 10,956,632  4.16M/s              "
       ]
      },
      {
       "output_type": "stream",
       "stream": "stdout",
       "text": [
        "\n",
        " 8% [==>                                    ] 11,753,984  4.12M/s              "
       ]
      },
      {
       "output_type": "stream",
       "stream": "stdout",
       "text": [
        "\n",
        " 9% [==>                                    ] 13,254,608  4.32M/s              "
       ]
      },
      {
       "output_type": "stream",
       "stream": "stdout",
       "text": [
        "\n",
        "10% [==>                                    ] 14,127,752  4.31M/s  eta 28s     "
       ]
      },
      {
       "output_type": "stream",
       "stream": "stdout",
       "text": [
        "\n",
        "10% [===>                                   ] 15,006,688  4.30M/s  eta 28s     "
       ]
      },
      {
       "output_type": "stream",
       "stream": "stdout",
       "text": [
        "\n",
        "11% [===>                                   ] 15,884,176  4.74M/s  eta 28s     "
       ]
      },
      {
       "output_type": "stream",
       "stream": "stdout",
       "text": [
        "\n",
        "11% [===>                                   ] 16,783,384  4.91M/s  eta 28s     "
       ]
      },
      {
       "output_type": "stream",
       "stream": "stdout",
       "text": [
        "\n",
        "12% [===>                                   ] 17,757,888  5.05M/s  eta 28s     "
       ]
      },
      {
       "output_type": "stream",
       "stream": "stdout",
       "text": [
        "\n",
        "13% [====>                                  ] 18,785,968  5.15M/s  eta 27s     "
       ]
      },
      {
       "output_type": "stream",
       "stream": "stdout",
       "text": [
        "\n",
        "14% [====>                                  ] 19,828,528  5.09M/s  eta 27s     "
       ]
      },
      {
       "output_type": "stream",
       "stream": "stdout",
       "text": [
        "\n",
        "14% [====>                                  ] 20,827,648  5.00M/s  eta 27s     "
       ]
      },
      {
       "output_type": "stream",
       "stream": "stdout",
       "text": [
        "\n",
        "15% [=====>                                 ] 21,845,592  4.93M/s  eta 27s     "
       ]
      },
      {
       "output_type": "stream",
       "stream": "stdout",
       "text": [
        "\n",
        "16% [=====>                                 ] 22,843,264  4.90M/s  eta 27s     "
       ]
      },
      {
       "output_type": "stream",
       "stream": "stdout",
       "text": [
        "\n",
        "17% [=====>                                 ] 23,868,448  4.87M/s  eta 25s     "
       ]
      },
      {
       "output_type": "stream",
       "stream": "stdout",
       "text": [
        "\n",
        "17% [=====>                                 ] 24,973,272  4.83M/s  eta 25s     "
       ]
      },
      {
       "output_type": "stream",
       "stream": "stdout",
       "text": [
        "\n",
        "18% [======>                                ] 25,923,160  4.73M/s  eta 25s     "
       ]
      },
      {
       "output_type": "stream",
       "stream": "stdout",
       "text": [
        "\n",
        "19% [======>                                ] 26,996,128  4.72M/s  eta 25s     "
       ]
      },
      {
       "output_type": "stream",
       "stream": "stdout",
       "text": [
        "\n",
        "19% [======>                                ] 28,021,312  4.67M/s  eta 25s     "
       ]
      },
      {
       "output_type": "stream",
       "stream": "stdout",
       "text": [
        "\n",
        "20% [======>                                ] 28,765,584  4.60M/s  eta 24s     "
       ]
      },
      {
       "output_type": "stream",
       "stream": "stdout",
       "text": [
        "\n",
        "21% [=======>                               ] 29,590,944  4.57M/s  eta 24s     "
       ]
      },
      {
       "output_type": "stream",
       "stream": "stdout",
       "text": [
        "\n",
        "21% [=======>                               ] 30,367,072  4.52M/s  eta 24s     "
       ]
      },
      {
       "output_type": "stream",
       "stream": "stdout",
       "text": [
        "\n",
        "22% [=======>                               ] 31,102,656  4.50M/s  eta 24s     "
       ]
      },
      {
       "output_type": "stream",
       "stream": "stdout",
       "text": [
        "\n",
        "22% [=======>                               ] 31,893,264  4.45M/s  eta 24s     "
       ]
      },
      {
       "output_type": "stream",
       "stream": "stdout",
       "text": [
        "\n",
        "23% [========>                              ] 32,694,008  4.38M/s  eta 24s     "
       ]
      },
      {
       "output_type": "stream",
       "stream": "stdout",
       "text": [
        "\n",
        "23% [========>                              ] 33,515,024  4.31M/s  eta 24s     "
       ]
      },
      {
       "output_type": "stream",
       "stream": "stdout",
       "text": [
        "\n",
        "24% [========>                              ] 34,359,208  4.27M/s  eta 24s     "
       ]
      },
      {
       "output_type": "stream",
       "stream": "stdout",
       "text": [
        "\n",
        "25% [========>                              ] 35,180,224  4.19M/s  eta 24s     "
       ]
      },
      {
       "output_type": "stream",
       "stream": "stdout",
       "text": [
        "\n",
        "25% [=========>                             ] 36,070,744  4.17M/s  eta 24s     "
       ]
      },
      {
       "output_type": "stream",
       "stream": "stdout",
       "text": [
        "\n",
        "26% [=========>                             ] 36,710,760  4.08M/s  eta 23s     "
       ]
      },
      {
       "output_type": "stream",
       "stream": "stdout",
       "text": [
        "\n",
        "26% [=========>                             ] 37,356,568  3.94M/s  eta 23s     "
       ]
      },
      {
       "output_type": "stream",
       "stream": "stdout",
       "text": [
        "\n",
        "27% [=========>                             ] 38,013,960  3.82M/s  eta 23s     "
       ]
      },
      {
       "output_type": "stream",
       "stream": "stdout",
       "text": [
        "\n",
        "27% [=========>                             ] 38,646,736  3.69M/s  eta 23s     "
       ]
      },
      {
       "output_type": "stream",
       "stream": "stdout",
       "text": [
        "\n",
        "28% [=========>                             ] 39,311,368  3.62M/s  eta 23s     "
       ]
      },
      {
       "output_type": "stream",
       "stream": "stdout",
       "text": [
        "\n",
        "28% [==========>                            ] 39,971,656  3.52M/s  eta 23s     "
       ]
      },
      {
       "output_type": "stream",
       "stream": "stdout",
       "text": [
        "\n",
        "28% [==========>                            ] 40,644,976  3.49M/s  eta 23s     "
       ]
      },
      {
       "output_type": "stream",
       "stream": "stdout",
       "text": [
        "\n",
        "29% [==========>                            ] 41,331,328  3.47M/s  eta 23s     "
       ]
      },
      {
       "output_type": "stream",
       "stream": "stdout",
       "text": [
        "\n",
        "29% [==========>                            ] 42,055,328  3.46M/s  eta 23s     "
       ]
      },
      {
       "output_type": "stream",
       "stream": "stdout",
       "text": [
        "\n",
        "30% [==========>                            ] 42,827,112  3.44M/s  eta 23s     "
       ]
      },
      {
       "output_type": "stream",
       "stream": "stdout",
       "text": [
        "\n",
        "30% [===========>                           ] 43,497,536  3.42M/s  eta 23s     "
       ]
      },
      {
       "output_type": "stream",
       "stream": "stdout",
       "text": [
        "\n",
        "31% [===========>                           ] 44,250,496  3.43M/s  eta 23s     "
       ]
      },
      {
       "output_type": "stream",
       "stream": "stdout",
       "text": [
        "\n",
        "32% [===========>                           ] 44,983,184  3.37M/s  eta 23s     "
       ]
      },
      {
       "output_type": "stream",
       "stream": "stdout",
       "text": [
        "\n",
        "32% [===========>                           ] 45,714,424  3.35M/s  eta 23s     "
       ]
      },
      {
       "output_type": "stream",
       "stream": "stdout",
       "text": [
        "\n",
        "33% [===========>                           ] 46,432,632  3.32M/s  eta 23s     "
       ]
      },
      {
       "output_type": "stream",
       "stream": "stdout",
       "text": [
        "\n",
        "33% [============>                          ] 47,118,984  3.28M/s  eta 22s     "
       ]
      },
      {
       "output_type": "stream",
       "stream": "stdout",
       "text": [
        "\n",
        "33% [============>                          ] 47,595,376  3.21M/s  eta 22s     "
       ]
      },
      {
       "output_type": "stream",
       "stream": "stdout",
       "text": [
        "\n",
        "34% [============>                          ] 48,107,968  3.18M/s  eta 22s     "
       ]
      },
      {
       "output_type": "stream",
       "stream": "stdout",
       "text": [
        "\n",
        "34% [============>                          ] 48,694,408  3.16M/s  eta 22s     "
       ]
      },
      {
       "output_type": "stream",
       "stream": "stdout",
       "text": [
        "\n",
        "35% [============>                          ] 49,150,528  3.08M/s  eta 22s     "
       ]
      },
      {
       "output_type": "stream",
       "stream": "stdout",
       "text": [
        "\n",
        "35% [============>                          ] 49,734,072  3.06M/s  eta 22s     "
       ]
      },
      {
       "output_type": "stream",
       "stream": "stdout",
       "text": [
        "\n",
        "35% [============>                          ] 50,258,248  3.01M/s  eta 22s     "
       ]
      },
      {
       "output_type": "stream",
       "stream": "stdout",
       "text": [
        "\n",
        "36% [=============>                         ] 50,786,768  2.94M/s  eta 22s     "
       ]
      },
      {
       "output_type": "stream",
       "stream": "stdout",
       "text": [
        "\n",
        "36% [=============>                         ] 51,383,344  2.92M/s  eta 22s     "
       ]
      },
      {
       "output_type": "stream",
       "stream": "stdout",
       "text": [
        "\n",
        "37% [=============>                         ] 52,017,568  2.90M/s  eta 22s     "
       ]
      },
      {
       "output_type": "stream",
       "stream": "stdout",
       "text": [
        "\n",
        "37% [=============>                         ] 52,614,144  2.85M/s  eta 22s     "
       ]
      },
      {
       "output_type": "stream",
       "stream": "stdout",
       "text": [
        "\n",
        "37% [=============>                         ] 53,220,856  2.79M/s  eta 22s     "
       ]
      },
      {
       "output_type": "stream",
       "stream": "stdout",
       "text": [
        "\n",
        "38% [=============>                         ] 53,842,048  2.77M/s  eta 22s     "
       ]
      },
      {
       "output_type": "stream",
       "stream": "stdout",
       "text": [
        "\n",
        "38% [==============>                        ] 54,428,488  2.72M/s  eta 22s     "
       ]
      },
      {
       "output_type": "stream",
       "stream": "stdout",
       "text": [
        "\n",
        "39% [==============>                        ] 55,030,856  2.68M/s  eta 22s     "
       ]
      },
      {
       "output_type": "stream",
       "stream": "stdout",
       "text": [
        "\n",
        "39% [==============>                        ] 55,620,192  2.64M/s  eta 22s     "
       ]
      },
      {
       "output_type": "stream",
       "stream": "stdout",
       "text": [
        "\n",
        "40% [==============>                        ] 56,203,736  2.61M/s  eta 22s     "
       ]
      },
      {
       "output_type": "stream",
       "stream": "stdout",
       "text": [
        "\n",
        "40% [==============>                        ] 56,794,520  2.65M/s  eta 22s     "
       ]
      },
      {
       "output_type": "stream",
       "stream": "stdout",
       "text": [
        "\n",
        "40% [==============>                        ] 57,379,512  2.66M/s  eta 22s     "
       ]
      },
      {
       "output_type": "stream",
       "stream": "stdout",
       "text": [
        "\n",
        "41% [===============>                       ] 57,986,224  2.71M/s  eta 22s     "
       ]
      },
      {
       "output_type": "stream",
       "stream": "stdout",
       "text": [
        "\n",
        "41% [===============>                       ] 58,553,840  2.71M/s  eta 21s     "
       ]
      },
      {
       "output_type": "stream",
       "stream": "stdout",
       "text": [
        "\n",
        "42% [===============>                       ] 59,138,832  2.76M/s  eta 21s     "
       ]
      },
      {
       "output_type": "stream",
       "stream": "stdout",
       "text": [
        "\n",
        "42% [===============>                       ] 59,726,720  2.77M/s  eta 21s     "
       ]
      },
      {
       "output_type": "stream",
       "stream": "stdout",
       "text": [
        "\n",
        "42% [===============>                       ] 60,336,328  2.78M/s  eta 21s     "
       ]
      },
      {
       "output_type": "stream",
       "stream": "stdout",
       "text": [
        "\n",
        "43% [===============>                       ] 60,738,872  2.71M/s  eta 21s     "
       ]
      },
      {
       "output_type": "stream",
       "stream": "stdout",
       "text": [
        "\n",
        "43% [===============>                       ] 61,139,968  2.63M/s  eta 21s     "
       ]
      },
      {
       "output_type": "stream",
       "stream": "stdout",
       "text": [
        "\n",
        "43% [================>                      ] 61,538,168  2.59M/s  eta 21s     "
       ]
      },
      {
       "output_type": "stream",
       "stream": "stdout",
       "text": [
        "\n",
        "44% [================>                      ] 62,052,208  2.56M/s  eta 21s     "
       ]
      },
      {
       "output_type": "stream",
       "stream": "stdout",
       "text": [
        "\n",
        "44% [================>                      ] 62,479,368  2.50M/s  eta 21s     "
       ]
      },
      {
       "output_type": "stream",
       "stream": "stdout",
       "text": [
        "\n",
        "44% [================>                      ] 62,925,352  2.46M/s  eta 21s     "
       ]
      },
      {
       "output_type": "stream",
       "stream": "stdout",
       "text": [
        "\n",
        "45% [================>                      ] 63,384,368  2.41M/s  eta 21s     "
       ]
      },
      {
       "output_type": "stream",
       "stream": "stdout",
       "text": [
        "\n",
        "45% [================>                      ] 63,833,248  2.37M/s  eta 21s     "
       ]
      },
      {
       "output_type": "stream",
       "stream": "stdout",
       "text": [
        "\n",
        "45% [================>                      ] 64,267,648  2.34M/s  eta 21s     "
       ]
      },
      {
       "output_type": "stream",
       "stream": "stdout",
       "text": [
        "\n",
        "46% [================>                      ] 64,723,768  2.28M/s  eta 21s     "
       ]
      },
      {
       "output_type": "stream",
       "stream": "stdout",
       "text": [
        "\n",
        "46% [=================>                     ] 65,205,952  2.25M/s  eta 21s     "
       ]
      },
      {
       "output_type": "stream",
       "stream": "stdout",
       "text": [
        "\n",
        "46% [=================>                     ] 65,662,072  2.18M/s  eta 21s     "
       ]
      },
      {
       "output_type": "stream",
       "stream": "stdout",
       "text": [
        "\n",
        "47% [=================>                     ] 66,121,088  2.15M/s  eta 21s     "
       ]
      },
      {
       "output_type": "stream",
       "stream": "stdout",
       "text": [
        "\n",
        "47% [=================>                     ] 66,584,448  2.13M/s  eta 21s     "
       ]
      },
      {
       "output_type": "stream",
       "stream": "stdout",
       "text": [
        "\n",
        "47% [=================>                     ] 67,033,328  2.06M/s  eta 21s     "
       ]
      },
      {
       "output_type": "stream",
       "stream": "stdout",
       "text": [
        "\n",
        "48% [=================>                     ] 67,532,888  2.08M/s  eta 21s     "
       ]
      },
      {
       "output_type": "stream",
       "stream": "stdout",
       "text": [
        "\n",
        "48% [=================>                     ] 67,942,672  2.08M/s  eta 21s     "
       ]
      },
      {
       "output_type": "stream",
       "stream": "stdout",
       "text": [
        "\n",
        "48% [=================>                     ] 68,351,008  2.09M/s  eta 21s     "
       ]
      },
      {
       "output_type": "stream",
       "stream": "stdout",
       "text": [
        "\n",
        "48% [==================>                    ] 68,679,208  2.01M/s  eta 21s     "
       ]
      },
      {
       "output_type": "stream",
       "stream": "stdout",
       "text": [
        "\n",
        "49% [==================>                    ] 69,060,528  1.99M/s  eta 21s     "
       ]
      },
      {
       "output_type": "stream",
       "stream": "stdout",
       "text": [
        "\n",
        "49% [==================>                    ] 69,284,968  1.91M/s  eta 21s     "
       ]
      },
      {
       "output_type": "stream",
       "stream": "stdout",
       "text": [
        "\n",
        "49% [==================>                    ] 69,545,608  1.87M/s  eta 21s     "
       ]
      },
      {
       "output_type": "stream",
       "stream": "stdout",
       "text": [
        "\n",
        "49% [==================>                    ] 69,806,248  1.80M/s  eta 21s     "
       ]
      },
      {
       "output_type": "stream",
       "stream": "stdout",
       "text": [
        "\n",
        "49% [==================>                    ] 70,065,440  1.76M/s  eta 21s     "
       ]
      },
      {
       "output_type": "stream",
       "stream": "stdout",
       "text": [
        "\n",
        "50% [==================>                    ] 70,323,184  1.70M/s  eta 21s     "
       ]
      },
      {
       "output_type": "stream",
       "stream": "stdout",
       "text": [
        "\n",
        "50% [==================>                    ] 70,589,616  1.65M/s  eta 21s     "
       ]
      },
      {
       "output_type": "stream",
       "stream": "stdout",
       "text": [
        "\n",
        "50% [==================>                    ] 70,913,968  1.59M/s  eta 21s     "
       ]
      },
      {
       "output_type": "stream",
       "stream": "stdout",
       "text": [
        "\n",
        "50% [==================>                    ] 71,239,768  1.55M/s  eta 21s     "
       ]
      },
      {
       "output_type": "stream",
       "stream": "stdout",
       "text": [
        "\n",
        "50% [==================>                    ] 71,565,568  1.50M/s  eta 21s     "
       ]
      },
      {
       "output_type": "stream",
       "stream": "stdout",
       "text": [
        "\n",
        "51% [==================>                    ] 71,869,648  1.47M/s  eta 21s     "
       ]
      },
      {
       "output_type": "stream",
       "stream": "stdout",
       "text": [
        "\n",
        "51% [===================>                   ] 72,191,104  1.44M/s  eta 21s     "
       ]
      },
      {
       "output_type": "stream",
       "stream": "stdout",
       "text": [
        "\n",
        "51% [===================>                   ] 72,477,808  1.38M/s  eta 21s     "
       ]
      },
      {
       "output_type": "stream",
       "stream": "stdout",
       "text": [
        "\n",
        "51% [===================>                   ] 72,768,856  1.38M/s  eta 21s     "
       ]
      },
      {
       "output_type": "stream",
       "stream": "stdout",
       "text": [
        "\n",
        "52% [===================>                   ] 73,083,072  1.33M/s  eta 21s     "
       ]
      },
      {
       "output_type": "stream",
       "stream": "stdout",
       "text": [
        "\n",
        "52% [===================>                   ] 73,390,048  1.32M/s  eta 21s     "
       ]
      },
      {
       "output_type": "stream",
       "stream": "stdout",
       "text": [
        "\n",
        "52% [===================>                   ] 73,665,168  1.31M/s  eta 21s     "
       ]
      },
      {
       "output_type": "stream",
       "stream": "stdout",
       "text": [
        "\n",
        "52% [===================>                   ] 73,989,520  1.32M/s  eta 21s     "
       ]
      },
      {
       "output_type": "stream",
       "stream": "stdout",
       "text": [
        "\n",
        "52% [===================>                   ] 74,303,736  1.33M/s  eta 21s     "
       ]
      },
      {
       "output_type": "stream",
       "stream": "stdout",
       "text": [
        "\n",
        "53% [===================>                   ] 74,588,992  1.34M/s  eta 21s     "
       ]
      },
      {
       "output_type": "stream",
       "stream": "stdout",
       "text": [
        "\n",
        "53% [===================>                   ] 74,901,760  1.35M/s  eta 21s     "
       ]
      },
      {
       "output_type": "stream",
       "stream": "stdout",
       "text": [
        "\n",
        "53% [===================>                   ] 75,215,976  1.37M/s  eta 21s     "
       ]
      },
      {
       "output_type": "stream",
       "stream": "stdout",
       "text": [
        "\n",
        "53% [===================>                   ] 75,524,400  1.38M/s  eta 21s     "
       ]
      },
      {
       "output_type": "stream",
       "stream": "stdout",
       "text": [
        "\n",
        "54% [====================>                  ] 75,825,584  1.40M/s  eta 21s     "
       ]
      },
      {
       "output_type": "stream",
       "stream": "stdout",
       "text": [
        "\n",
        "54% [====================>                  ] 76,126,768  1.39M/s  eta 21s     "
       ]
      },
      {
       "output_type": "stream",
       "stream": "stdout",
       "text": [
        "\n",
        "54% [====================>                  ] 76,452,568  1.40M/s  eta 21s     "
       ]
      },
      {
       "output_type": "stream",
       "stream": "stdout",
       "text": [
        "\n",
        "54% [====================>                  ] 76,678,456  1.35M/s  eta 21s     "
       ]
      },
      {
       "output_type": "stream",
       "stream": "stdout",
       "text": [
        "\n",
        "54% [====================>                  ] 76,921,720  1.34M/s  eta 21s     "
       ]
      },
      {
       "output_type": "stream",
       "stream": "stdout",
       "text": [
        "\n",
        "54% [====================>                  ] 77,091,136  1.29M/s  eta 21s     "
       ]
      },
      {
       "output_type": "stream",
       "stream": "stdout",
       "text": [
        "\n",
        "55% [====================>                  ] 77,283,720  1.26M/s  eta 21s     "
       ]
      },
      {
       "output_type": "stream",
       "stream": "stdout",
       "text": [
        "\n",
        "55% [====================>                  ] 77,448,792  1.21M/s  eta 21s     "
       ]
      },
      {
       "output_type": "stream",
       "stream": "stdout",
       "text": [
        "\n",
        "55% [====================>                  ] 77,631,240  1.17M/s  eta 21s     "
       ]
      },
      {
       "output_type": "stream",
       "stream": "stdout",
       "text": [
        "\n",
        "55% [====================>                  ] 77,799,208  1.13M/s  eta 22s     "
       ]
      },
      {
       "output_type": "stream",
       "stream": "stdout",
       "text": [
        "\n",
        "55% [====================>                  ] 77,980,208  1.10M/s  eta 22s     "
       ]
      },
      {
       "output_type": "stream",
       "stream": "stdout",
       "text": [
        "\n",
        "55% [====================>                  ] 78,148,176  1.04M/s  eta 22s     "
       ]
      },
      {
       "output_type": "stream",
       "stream": "stdout",
       "text": [
        "\n",
        "55% [====================>                  ] 78,342,208  1.01M/s  eta 22s     "
       ]
      },
      {
       "output_type": "stream",
       "stream": "stdout",
       "text": [
        "\n",
        "55% [====================>                  ] 78,505,832   993K/s  eta 22s     "
       ]
      },
      {
       "output_type": "stream",
       "stream": "stdout",
       "text": [
        "\n",
        "56% [====================>                  ] 78,689,728   941K/s  eta 22s     "
       ]
      },
      {
       "output_type": "stream",
       "stream": "stdout",
       "text": [
        "\n",
        "56% [====================>                  ] 78,930,096   911K/s  eta 22s     "
       ]
      },
      {
       "output_type": "stream",
       "stream": "stdout",
       "text": [
        "\n",
        "56% [====================>                  ] 79,145,848   886K/s  eta 22s     "
       ]
      },
      {
       "output_type": "stream",
       "stream": "stdout",
       "text": [
        "\n",
        "56% [=====================>                 ] 79,299,336   818K/s  eta 22s     "
       ]
      },
      {
       "output_type": "stream",
       "stream": "stdout",
       "text": [
        "\n",
        "56% [=====================>                 ] 79,506,400   792K/s  eta 22s     "
       ]
      },
      {
       "output_type": "stream",
       "stream": "stdout",
       "text": [
        "\n",
        "56% [=====================>                 ] 79,674,368   787K/s  eta 22s     "
       ]
      },
      {
       "output_type": "stream",
       "stream": "stdout",
       "text": [
        "\n",
        "56% [=====================>                 ] 79,906,048   800K/s  eta 22s     "
       ]
      },
      {
       "output_type": "stream",
       "stream": "stdout",
       "text": [
        "\n",
        "57% [=====================>                 ] 80,076,912   793K/s  eta 22s     "
       ]
      },
      {
       "output_type": "stream",
       "stream": "stdout",
       "text": [
        "\n",
        "57% [=====================>                 ] 80,256,464   795K/s  eta 22s     "
       ]
      },
      {
       "output_type": "stream",
       "stream": "stdout",
       "text": [
        "\n",
        "57% [=====================>                 ] 80,428,776   798K/s  eta 22s     "
       ]
      },
      {
       "output_type": "stream",
       "stream": "stdout",
       "text": [
        "\n",
        "57% [=====================>                 ] 80,585,160   794K/s  eta 23s     "
       ]
      },
      {
       "output_type": "stream",
       "stream": "stdout",
       "text": [
        "\n",
        "57% [=====================>                 ] 80,805,256   812K/s  eta 23s     "
       ]
      },
      {
       "output_type": "stream",
       "stream": "stdout",
       "text": [
        "\n",
        "57% [=====================>                 ] 80,973,224   807K/s  eta 23s     "
       ]
      },
      {
       "output_type": "stream",
       "stream": "stdout",
       "text": [
        "\n",
        "57% [=====================>                 ] 81,209,248   815K/s  eta 23s     "
       ]
      },
      {
       "output_type": "stream",
       "stream": "stdout",
       "text": [
        "\n",
        "57% [=====================>                 ] 81,400,384   824K/s  eta 23s     "
       ]
      },
      {
       "output_type": "stream",
       "stream": "stdout",
       "text": [
        "\n",
        "58% [=====================>                 ] 81,608,896   833K/s  eta 23s     "
       ]
      },
      {
       "output_type": "stream",
       "stream": "stdout",
       "text": [
        "\n",
        "58% [=====================>                 ] 81,839,128   852K/s  eta 23s     "
       ]
      },
      {
       "output_type": "stream",
       "stream": "stdout",
       "text": [
        "\n",
        "58% [=====================>                 ] 82,092,528   871K/s  eta 23s     "
       ]
      },
      {
       "output_type": "stream",
       "stream": "stdout",
       "text": [
        "\n",
        "58% [=====================>                 ] 82,316,968   875K/s  eta 23s     "
       ]
      },
      {
       "output_type": "stream",
       "stream": "stdout",
       "text": [
        "\n",
        "58% [=====================>                 ] 82,577,608   897K/s  eta 23s     "
       ]
      },
      {
       "output_type": "stream",
       "stream": "stdout",
       "text": [
        "\n",
        "58% [======================>                ] 82,800,600   913K/s  eta 23s     "
       ]
      },
      {
       "output_type": "stream",
       "stream": "stdout",
       "text": [
        "\n",
        "59% [======================>                ] 83,100,336   936K/s  eta 23s     "
       ]
      },
      {
       "output_type": "stream",
       "stream": "stdout",
       "text": [
        "\n",
        "59% [======================>                ] 83,368,216   958K/s  eta 23s     "
       ]
      },
      {
       "output_type": "stream",
       "stream": "stdout",
       "text": [
        "\n",
        "59% [======================>                ] 83,728,768  1008K/s  eta 23s     "
       ]
      },
      {
       "output_type": "stream",
       "stream": "stdout",
       "text": [
        "\n",
        "59% [======================>                ] 84,011,128  1.01M/s  eta 23s     "
       ]
      },
      {
       "output_type": "stream",
       "stream": "stdout",
       "text": [
        "\n",
        "60% [======================>                ] 84,303,624  1.06M/s  eta 22s     "
       ]
      },
      {
       "output_type": "stream",
       "stream": "stdout",
       "text": [
        "\n",
        "60% [======================>                ] 84,475,440  1.02M/s  eta 22s     "
       ]
      },
      {
       "output_type": "stream",
       "stream": "stdout",
       "text": [
        "\n",
        "60% [======================>                ] 85,155,048  1.13M/s  eta 22s     "
       ]
      },
      {
       "output_type": "stream",
       "stream": "stdout",
       "text": [
        "\n",
        "60% [======================>                ] 85,574,968  1.20M/s  eta 22s     "
       ]
      },
      {
       "output_type": "stream",
       "stream": "stdout",
       "text": [
        "\n",
        "61% [======================>                ] 86,054,256  1.27M/s  eta 22s     "
       ]
      },
      {
       "output_type": "stream",
       "stream": "stdout",
       "text": [
        "\n",
        "61% [=======================>               ] 86,511,824  1.35M/s  eta 22s     "
       ]
      },
      {
       "output_type": "stream",
       "stream": "stdout",
       "text": [
        "\n",
        "61% [=======================>               ] 86,843,416  1.38M/s  eta 22s     "
       ]
      },
      {
       "output_type": "stream",
       "stream": "stdout",
       "text": [
        "\n",
        "62% [=======================>               ] 87,212,656  1.43M/s  eta 22s     "
       ]
      },
      {
       "output_type": "stream",
       "stream": "stdout",
       "text": [
        "\n",
        "62% [=======================>               ] 87,594,928  1.46M/s  eta 22s     "
       ]
      },
      {
       "output_type": "stream",
       "stream": "stdout",
       "text": [
        "\n",
        "62% [=======================>               ] 87,973,808  1.46M/s  eta 22s     "
       ]
      },
      {
       "output_type": "stream",
       "stream": "stdout",
       "text": [
        "\n",
        "62% [=======================>               ] 88,347,888  1.52M/s  eta 21s     "
       ]
      },
      {
       "output_type": "stream",
       "stream": "stdout",
       "text": [
        "\n",
        "63% [=======================>               ] 88,579,568  1.52M/s  eta 21s     "
       ]
      },
      {
       "output_type": "stream",
       "stream": "stdout",
       "text": [
        "\n",
        "63% [=======================>               ] 88,834,416  1.52M/s  eta 21s     "
       ]
      },
      {
       "output_type": "stream",
       "stream": "stdout",
       "text": [
        "\n",
        "63% [=======================>               ] 89,054,512  1.51M/s  eta 21s     "
       ]
      },
      {
       "output_type": "stream",
       "stream": "stdout",
       "text": [
        "\n",
        "63% [=======================>               ] 89,302,120  1.49M/s  eta 21s     "
       ]
      },
      {
       "output_type": "stream",
       "stream": "stdout",
       "text": [
        "\n",
        "63% [=======================>               ] 89,554,072  1.47M/s  eta 21s     "
       ]
      },
      {
       "output_type": "stream",
       "stream": "stdout",
       "text": [
        "\n",
        "63% [=======================>               ] 89,788,152  1.52M/s  eta 21s     "
       ]
      },
      {
       "output_type": "stream",
       "stream": "stdout",
       "text": [
        "\n",
        "64% [========================>              ] 90,101,416  1.42M/s  eta 21s     "
       ]
      },
      {
       "output_type": "stream",
       "stream": "stdout",
       "text": [
        "\n",
        "64% [========================>              ] 90,321,512  1.38M/s  eta 21s     "
       ]
      },
      {
       "output_type": "stream",
       "stream": "stdout",
       "text": [
        "\n",
        "64% [========================>              ] 90,527,128  1.26M/s  eta 21s     "
       ]
      },
      {
       "output_type": "stream",
       "stream": "stdout",
       "text": [
        "\n",
        "64% [========================>              ] 90,757,360  1.25M/s  eta 21s     "
       ]
      },
      {
       "output_type": "stream",
       "stream": "stdout",
       "text": [
        "\n",
        "64% [========================>              ] 90,952,840  1.17M/s  eta 21s     "
       ]
      },
      {
       "output_type": "stream",
       "stream": "stdout",
       "text": [
        "\n",
        "64% [========================>              ] 91,209,136  1.16M/s  eta 21s     "
       ]
      },
      {
       "output_type": "stream",
       "stream": "stdout",
       "text": [
        "\n",
        "65% [========================>              ] 91,439,368  1.10M/s  eta 21s     "
       ]
      },
      {
       "output_type": "stream",
       "stream": "stdout",
       "text": [
        "\n",
        "65% [========================>              ] 91,647,880  1.06M/s  eta 21s     "
       ]
      },
      {
       "output_type": "stream",
       "stream": "stdout",
       "text": [
        "\n",
        "65% [========================>              ] 91,888,248  1.04M/s  eta 21s     "
       ]
      },
      {
       "output_type": "stream",
       "stream": "stdout",
       "text": [
        "\n",
        "65% [========================>              ] 92,096,760  1.03M/s  eta 21s     "
       ]
      },
      {
       "output_type": "stream",
       "stream": "stdout",
       "text": [
        "\n",
        "65% [========================>              ] 92,306,720  1.02M/s  eta 21s     "
       ]
      },
      {
       "output_type": "stream",
       "stream": "stdout",
       "text": [
        "\n",
        "65% [========================>              ] 92,557,224  1.03M/s  eta 21s     "
       ]
      },
      {
       "output_type": "stream",
       "stream": "stdout",
       "text": [
        "\n",
        "66% [========================>              ] 92,783,112  1.03M/s  eta 21s     "
       ]
      },
      {
       "output_type": "stream",
       "stream": "stdout",
       "text": [
        "\n",
        "66% [========================>              ] 92,959,768  1.01M/s  eta 21s     "
       ]
      },
      {
       "output_type": "stream",
       "stream": "stdout",
       "text": [
        "\n",
        "66% [========================>              ] 93,176,968  1.00M/s  eta 21s     "
       ]
      },
      {
       "output_type": "stream",
       "stream": "stdout",
       "text": [
        "\n",
        "66% [========================>              ] 93,415,888  1.00M/s  eta 21s     "
       ]
      },
      {
       "output_type": "stream",
       "stream": "stdout",
       "text": [
        "\n",
        "66% [=========================>             ] 93,609,920  1017K/s  eta 21s     "
       ]
      },
      {
       "output_type": "stream",
       "stream": "stdout",
       "text": [
        "\n",
        "66% [=========================>             ] 93,850,288  1.01M/s  eta 21s     "
       ]
      },
      {
       "output_type": "stream",
       "stream": "stdout",
       "text": [
        "\n",
        "66% [=========================>             ] 94,045,768  1.01M/s  eta 20s     "
       ]
      },
      {
       "output_type": "stream",
       "stream": "stdout",
       "text": [
        "\n",
        "67% [=========================>             ] 94,264,416  1024K/s  eta 20s     "
       ]
      },
      {
       "output_type": "stream",
       "stream": "stdout",
       "text": [
        "\n",
        "67% [=========================>             ] 94,501,888  1.01M/s  eta 20s     "
       ]
      },
      {
       "output_type": "stream",
       "stream": "stdout",
       "text": [
        "\n",
        "67% [=========================>             ] 94,697,368  1023K/s  eta 20s     "
       ]
      },
      {
       "output_type": "stream",
       "stream": "stdout",
       "text": [
        "\n",
        "67% [=========================>             ] 94,958,008  1020K/s  eta 20s     "
       ]
      },
      {
       "output_type": "stream",
       "stream": "stdout",
       "text": [
        "\n",
        "67% [=========================>             ] 95,163,624  1001K/s  eta 20s     "
       ]
      },
      {
       "output_type": "stream",
       "stream": "stdout",
       "text": [
        "\n",
        "67% [=========================>             ] 95,414,128  1018K/s  eta 20s     "
       ]
      },
      {
       "output_type": "stream",
       "stream": "stdout",
       "text": [
        "\n",
        "68% [=========================>             ] 95,657,392  1019K/s  eta 20s     "
       ]
      },
      {
       "output_type": "stream",
       "stream": "stdout",
       "text": [
        "\n",
        "68% [=========================>             ] 95,890,520  1.00M/s  eta 20s     "
       ]
      },
      {
       "output_type": "stream",
       "stream": "stdout",
       "text": [
        "\n",
        "68% [=========================>             ] 96,171,432  1.01M/s  eta 20s     "
       ]
      },
      {
       "output_type": "stream",
       "stream": "stdout",
       "text": [
        "\n",
        "68% [=========================>             ] 96,419,040  1.01M/s  eta 20s     "
       ]
      },
      {
       "output_type": "stream",
       "stream": "stdout",
       "text": [
        "\n",
        "68% [=========================>             ] 96,679,680  1.02M/s  eta 20s     "
       ]
      },
      {
       "output_type": "stream",
       "stream": "stdout",
       "text": [
        "\n",
        "69% [=========================>             ] 96,957,696  1.03M/s  eta 20s     "
       ]
      },
      {
       "output_type": "stream",
       "stream": "stdout",
       "text": [
        "\n",
        "69% [==========================>            ] 97,303,768  1.06M/s  eta 20s     "
       ]
      },
      {
       "output_type": "stream",
       "stream": "stdout",
       "text": [
        "\n",
        "69% [==========================>            ] 97,586,128  1.07M/s  eta 20s     "
       ]
      },
      {
       "output_type": "stream",
       "stream": "stdout",
       "text": [
        "\n",
        "69% [==========================>            ] 97,924,960  1.11M/s  eta 19s     "
       ]
      },
      {
       "output_type": "stream",
       "stream": "stdout",
       "text": [
        "\n",
        "69% [==========================>            ] 98,240,624  1.13M/s  eta 19s     "
       ]
      },
      {
       "output_type": "stream",
       "stream": "stdout",
       "text": [
        "\n",
        "70% [==========================>            ] 98,541,808  1.16M/s  eta 19s     "
       ]
      },
      {
       "output_type": "stream",
       "stream": "stdout",
       "text": [
        "\n",
        "70% [==========================>            ] 98,941,456  1.21M/s  eta 19s     "
       ]
      },
      {
       "output_type": "stream",
       "stream": "stdout",
       "text": [
        "\n",
        "70% [==========================>            ] 99,258,568  1.24M/s  eta 19s     "
       ]
      },
      {
       "output_type": "stream",
       "stream": "stdout",
       "text": [
        "\n",
        "70% [==========================>            ] 99,649,528  1.28M/s  eta 19s     "
       ]
      },
      {
       "output_type": "stream",
       "stream": "stdout",
       "text": [
        "\n",
        "71% [==========================>            ] 100,062,208 1.32M/s  eta 19s     "
       ]
      },
      {
       "output_type": "stream",
       "stream": "stdout",
       "text": [
        "\n",
        "71% [==========================>            ] 100,496,608 1.39M/s  eta 19s     "
       ]
      },
      {
       "output_type": "stream",
       "stream": "stdout",
       "text": [
        "\n",
        "71% [===========================>           ] 100,958,520 1.45M/s  eta 19s     "
       ]
      },
      {
       "output_type": "stream",
       "stream": "stdout",
       "text": [
        "\n",
        "72% [===========================>           ] 101,417,536 1.51M/s  eta 19s     "
       ]
      },
      {
       "output_type": "stream",
       "stream": "stdout",
       "text": [
        "\n",
        "72% [===========================>           ] 101,930,128 1.58M/s  eta 18s     "
       ]
      },
      {
       "output_type": "stream",
       "stream": "stdout",
       "text": [
        "\n",
        "73% [===========================>           ] 102,516,568 1.66M/s  eta 18s     "
       ]
      },
      {
       "output_type": "stream",
       "stream": "stdout",
       "text": [
        "\n",
        "73% [===========================>           ] 103,103,008 1.79M/s  eta 18s     "
       ]
      },
      {
       "output_type": "stream",
       "stream": "stdout",
       "text": [
        "\n",
        "73% [===========================>           ] 103,709,720 1.87M/s  eta 18s     "
       ]
      },
      {
       "output_type": "stream",
       "stream": "stdout",
       "text": [
        "\n",
        "74% [===========================>           ] 104,341,048 1.96M/s  eta 18s     "
       ]
      },
      {
       "output_type": "stream",
       "stream": "stdout",
       "text": [
        "\n",
        "74% [============================>          ] 104,992,648 2.09M/s  eta 16s     "
       ]
      },
      {
       "output_type": "stream",
       "stream": "stdout",
       "text": [
        "\n",
        "75% [============================>          ] 105,749,952 2.21M/s  eta 16s     "
       ]
      },
      {
       "output_type": "stream",
       "stream": "stdout",
       "text": [
        "\n",
        "75% [============================>          ] 106,556,488 2.34M/s  eta 16s     "
       ]
      },
      {
       "output_type": "stream",
       "stream": "stdout",
       "text": [
        "\n",
        "76% [============================>          ] 107,403,568 2.52M/s  eta 16s     "
       ]
      },
      {
       "output_type": "stream",
       "stream": "stdout",
       "text": [
        "\n",
        "77% [=============================>         ] 108,218,792 2.66M/s  eta 16s     "
       ]
      },
      {
       "output_type": "stream",
       "stream": "stdout",
       "text": [
        "\n",
        "77% [=============================>         ] 109,091,936 2.80M/s  eta 14s     "
       ]
      },
      {
       "output_type": "stream",
       "stream": "stdout",
       "text": [
        "\n",
        "78% [=============================>         ] 110,075,128 2.96M/s  eta 14s     "
       ]
      },
      {
       "output_type": "stream",
       "stream": "stdout",
       "text": [
        "\n",
        "79% [=============================>         ] 111,056,872 3.22M/s  eta 14s     "
       ]
      },
      {
       "output_type": "stream",
       "stream": "stdout",
       "text": [
        "\n",
        "79% [==============================>        ] 112,111,016 3.38M/s  eta 14s     "
       ]
      },
      {
       "output_type": "stream",
       "stream": "stdout",
       "text": [
        "\n",
        "80% [==============================>        ] 113,317,200 3.59M/s  eta 14s     "
       ]
      },
      {
       "output_type": "stream",
       "stream": "stdout",
       "text": [
        "\n",
        "81% [==============================>        ] 114,536,416 3.89M/s  eta 11s     "
       ]
      },
      {
       "output_type": "stream",
       "stream": "stdout",
       "text": [
        "\n",
        "82% [===============================>       ] 115,797,624 4.12M/s  eta 11s     "
       ]
      },
      {
       "output_type": "stream",
       "stream": "stdout",
       "text": [
        "\n",
        "83% [===============================>       ] 117,152,952 4.32M/s  eta 11s     "
       ]
      },
      {
       "output_type": "stream",
       "stream": "stdout",
       "text": [
        "\n",
        "84% [===============================>       ] 118,528,552 4.62M/s  eta 11s     "
       ]
      },
      {
       "output_type": "stream",
       "stream": "stdout",
       "text": [
        "\n",
        "85% [================================>      ] 119,956,280 4.85M/s  eta 11s     "
       ]
      },
      {
       "output_type": "stream",
       "stream": "stdout",
       "text": [
        "\n",
        "86% [================================>      ] 121,507,088 5.08M/s  eta 8s      "
       ]
      },
      {
       "output_type": "stream",
       "stream": "stdout",
       "text": [
        "\n",
        "87% [=================================>     ] 123,118,712 5.43M/s  eta 8s      "
       ]
      },
      {
       "output_type": "stream",
       "stream": "stdout",
       "text": [
        "\n",
        "88% [=================================>     ] 124,866,448 5.70M/s  eta 8s      "
       ]
      },
      {
       "output_type": "stream",
       "stream": "stdout",
       "text": [
        "\n",
        "90% [==================================>    ] 126,648,936 5.98M/s  eta 8s      "
       ]
      },
      {
       "output_type": "stream",
       "stream": "stdout",
       "text": [
        "\n",
        "91% [==================================>    ] 128,534,232 6.39M/s  eta 8s      "
       ]
      },
      {
       "output_type": "stream",
       "stream": "stdout",
       "text": [
        "\n",
        "92% [===================================>   ] 130,493,376 6.69M/s  eta 4s      "
       ]
      },
      {
       "output_type": "stream",
       "stream": "stdout",
       "text": [
        "\n",
        "94% [===================================>   ] 132,063,960 6.85M/s  eta 4s      "
       ]
      },
      {
       "output_type": "stream",
       "stream": "stdout",
       "text": [
        "\n",
        "95% [====================================>  ] 134,397,184 7.21M/s  eta 4s      "
       ]
      },
      {
       "output_type": "stream",
       "stream": "stdout",
       "text": [
        "\n",
        "96% [====================================>  ] 135,878,488 7.28M/s  eta 4s      "
       ]
      },
      {
       "output_type": "stream",
       "stream": "stdout",
       "text": [
        "\n",
        "97% [=====================================> ] 137,403,232 7.47M/s  eta 4s      "
       ]
      },
      {
       "output_type": "stream",
       "stream": "stdout",
       "text": [
        "\n",
        "98% [=====================================> ] 138,949,696 7.57M/s  eta 1s      "
       ]
      },
      {
       "output_type": "stream",
       "stream": "stdout",
       "text": [
        "\n",
        "100%[======================================>] 140,390,098 7.65M/s   in 53s     \n",
        "\n",
        "2013-06-27 12:15:11 (2.52 MB/s) - `petMar2.fa.masked.gz' saved [140390098/140390098]\n"
       ]
      }
     ],
     "prompt_number": 113
    },
    {
     "cell_type": "code",
     "collapsed": false,
     "input": [
      "!formatdb -i petMar2.fa -o T -p F"
     ],
     "language": "python",
     "metadata": {},
     "outputs": [],
     "prompt_number": 48
    },
    {
     "cell_type": "code",
     "collapsed": false,
     "input": [
      "#%cd db/\n",
      "!formatdb -i petMar2.fa.masked -o T -p F"
     ],
     "language": "python",
     "metadata": {},
     "outputs": [],
     "prompt_number": 49
    },
    {
     "cell_type": "code",
     "collapsed": false,
     "input": [
      "!echo \"Retrieving mouse, zebrafish, hagfish, and amphioxus proteins\"\n",
      "!wget -nc -q ftp://ftp.ensembl.org/pub/release-71/fasta/mus_musculus/pep/Mus_musculus.GRCm38.71.pep.all.fa.gz;\n",
      "!wget -nc -q ftp://ftp.ensembl.org/pub/release-71/fasta/danio_rerio/pep/Danio_rerio.Zv9.71.pep.all.fa.gz;"
     ],
     "language": "python",
     "metadata": {},
     "outputs": [
      {
       "output_type": "stream",
       "stream": "stdout",
       "text": [
        "Retrieving mouse, zebrafish, hagfish, and amphioxus proteins"
       ]
      },
      {
       "output_type": "stream",
       "stream": "stdout",
       "text": [
        "wget: illegal option -- `-nq'\n",
        "Usage: wget [OPTION]... [URL]...\n",
        "\n",
        "Try `wget --help' for more options."
       ]
      },
      {
       "output_type": "stream",
       "stream": "stdout",
       "text": [
        "wget: illegal option -- `-nq'\n",
        "Usage: wget [OPTION]... [URL]...\n",
        "\n",
        "Try `wget --help' for more options."
       ]
      }
     ],
     "prompt_number": 24
    },
    {
     "cell_type": "code",
     "collapsed": false,
     "input": [
      "!gunzip -c Mus_musculus.GRCm38.71.pep.all.fa.gz > mouse.protein.fa\n",
      "!gunzip -c Danio_rerio.Zv9.71.pep.all.fa.gz > zebrafish.protein.fa\n",
      "\n",
      "!formatdb -i mouse.protein.fa -o T -p T\n",
      "!formatdb -i zebrafish.protein.fa -o T -p T"
     ],
     "language": "python",
     "metadata": {},
     "outputs": [],
     "prompt_number": 50
    },
    {
     "cell_type": "code",
     "collapsed": false,
     "input": [
      "!perl ../scripts/get_uniprot_fam.pl Myxinidae\n",
      "!mv Myxinidae.fasta myxinidae.protein.fa"
     ],
     "language": "python",
     "metadata": {},
     "outputs": [
      {
       "output_type": "stream",
       "stream": "stdout",
       "text": [
        "Downloaded 882 entries of UniProt release 2013_07 (2013-06-26) to file Myxinidae.fasta"
       ]
      }
     ],
     "prompt_number": 51
    },
    {
     "cell_type": "code",
     "collapsed": false,
     "input": [
      "!perl ../scripts/get_uniprot_org.pl 7739\n",
      "!mv 7739.fasta amphioxus.protein.fa"
     ],
     "language": "python",
     "metadata": {},
     "outputs": [
      {
       "output_type": "stream",
       "stream": "stdout",
       "text": [
        "Downloaded 29237 entries of UniProt release 2013_07 (2013-06-26) to file 7739.fasta"
       ]
      }
     ],
     "prompt_number": 52
    },
    {
     "cell_type": "code",
     "collapsed": true,
     "input": [
      "!formatdb -i amphioxus.protein.fa -o T -p T\n",
      "!formatdb -i myxinidae.protein.fa -o T -p T"
     ],
     "language": "python",
     "metadata": {},
     "outputs": [],
     "prompt_number": 53
    },
    {
     "cell_type": "code",
     "collapsed": false,
     "input": [
      "!wget -nc http://hgdownload.soe.ucsc.edu/goldenPath/petMar2/bigZips/est.fa.gz && gunzip est.fa.gz;\n",
      "!wget -nc http://hgdownload.soe.ucsc.edu/goldenPath/petMar2/bigZips/mrna.fa.gz && gunzip mrna.fa.gz;"
     ],
     "language": "python",
     "metadata": {},
     "outputs": [
      {
       "output_type": "stream",
       "stream": "stdout",
       "text": [
        "--2013-06-26 12:41:34--  http://hgdownload.soe.ucsc.edu/goldenPath/petMar2/bigZips/est.fa.gz\n",
        "Resolving hgdownload.soe.ucsc.edu (hgdownload.soe.ucsc.edu)... "
       ]
      },
      {
       "output_type": "stream",
       "stream": "stdout",
       "text": [
        "128.114.119.163\n",
        "Connecting to hgdownload.soe.ucsc.edu (hgdownload.soe.ucsc.edu)|128.114.119.163|:80... "
       ]
      },
      {
       "output_type": "stream",
       "stream": "stdout",
       "text": [
        "connected.\n",
        "HTTP request sent, awaiting response... "
       ]
      },
      {
       "output_type": "stream",
       "stream": "stdout",
       "text": [
        "200 OK\n",
        "Length: 24110582 (23M) [application/x-gzip]\n",
        "Saving to: `est.fa.gz'\n",
        "\n",
        "\n",
        " 0% [                                       ] 0           --.-K/s              "
       ]
      },
      {
       "output_type": "stream",
       "stream": "stdout",
       "text": [
        "\n",
        " 0% [                                       ] 70,569       316K/s              "
       ]
      },
      {
       "output_type": "stream",
       "stream": "stdout",
       "text": [
        "\n",
        " 0% [                                       ] 187,857      421K/s              "
       ]
      },
      {
       "output_type": "stream",
       "stream": "stdout",
       "text": [
        "\n",
        " 1% [                                       ] 465,873      716K/s              "
       ]
      },
      {
       "output_type": "stream",
       "stream": "stdout",
       "text": [
        "\n",
        " 4% [>                                      ] 1,075,481   1.23M/s              "
       ]
      },
      {
       "output_type": "stream",
       "stream": "stdout",
       "text": [
        "\n",
        " 8% [==>                                    ] 2,093,425   1.93M/s              "
       ]
      },
      {
       "output_type": "stream",
       "stream": "stdout",
       "text": [
        "\n",
        "15% [=====>                                 ] 3,780,345   2.92M/s              "
       ]
      },
      {
       "output_type": "stream",
       "stream": "stdout",
       "text": [
        "\n",
        "25% [========>                              ] 6,045,017   4.02M/s              "
       ]
      },
      {
       "output_type": "stream",
       "stream": "stdout",
       "text": [
        "\n",
        "34% [============>                          ] 8,319,825   4.85M/s              "
       ]
      },
      {
       "output_type": "stream",
       "stream": "stdout",
       "text": [
        "\n",
        "44% [================>                      ] 10,629,385  5.52M/s              "
       ]
      },
      {
       "output_type": "stream",
       "stream": "stdout",
       "text": [
        "\n",
        "53% [===================>                   ] 12,847,721  5.39M/s              "
       ]
      },
      {
       "output_type": "stream",
       "stream": "stdout",
       "text": [
        "\n",
        "69% [==========================>            ] 16,876,057  6.51M/s              "
       ]
      },
      {
       "output_type": "stream",
       "stream": "stdout",
       "text": [
        "\n",
        "78% [=============================>         ] 18,948,145  6.76M/s              "
       ]
      },
      {
       "output_type": "stream",
       "stream": "stdout",
       "text": [
        "\n",
        "87% [=================================>     ] 21,192,545  7.04M/s              "
       ]
      },
      {
       "output_type": "stream",
       "stream": "stdout",
       "text": [
        "\n",
        "97% [=====================================> ] 23,499,209  7.29M/s  eta 0s      "
       ]
      },
      {
       "output_type": "stream",
       "stream": "stdout",
       "text": [
        "\n",
        "100%[======================================>] 24,110,582  7.36M/s   in 3.1s    \n",
        "\n",
        "2013-06-26 12:41:38 (7.36 MB/s) - `est.fa.gz' saved [24110582/24110582]\n"
       ]
      },
      {
       "output_type": "stream",
       "stream": "stdout",
       "text": [
        "--2013-06-26 12:41:38--  http://hgdownload.soe.ucsc.edu/goldenPath/petMar2/bigZips/mrna.fa.gz\n",
        "Resolving hgdownload.soe.ucsc.edu (hgdownload.soe.ucsc.edu)... "
       ]
      },
      {
       "output_type": "stream",
       "stream": "stdout",
       "text": [
        "128.114.119.163\n",
        "Connecting to hgdownload.soe.ucsc.edu (hgdownload.soe.ucsc.edu)|128.114.119.163|:80... "
       ]
      },
      {
       "output_type": "stream",
       "stream": "stdout",
       "text": [
        "connected.\n",
        "HTTP request sent, awaiting response... "
       ]
      },
      {
       "output_type": "stream",
       "stream": "stdout",
       "text": [
        "200 OK\n",
        "Length: 282754 (276K) [application/x-gzip]\n",
        "Saving to: `mrna.fa.gz'\n",
        "\n",
        "\n",
        " 0% [                                       ] 0           --.-K/s              "
       ]
      },
      {
       "output_type": "stream",
       "stream": "stdout",
       "text": [
        "\n",
        "23% [========>                              ] 66,229       243K/s              "
       ]
      },
      {
       "output_type": "stream",
       "stream": "stdout",
       "text": [
        "\n",
        "89% [==================================>    ] 254,469      495K/s              "
       ]
      },
      {
       "output_type": "stream",
       "stream": "stdout",
       "text": [
        "\n",
        "100%[======================================>] 282,754      517K/s   in 0.5s    \n",
        "\n",
        "2013-06-26 12:41:39 (517 KB/s) - `mrna.fa.gz' saved [282754/282754]\n"
       ]
      }
     ],
     "prompt_number": 1
    },
    {
     "cell_type": "code",
     "collapsed": true,
     "input": [
      "!formatdb -i est.fa -o T -p F\n",
      "!formatdb -i mrna.fa -o T -p F"
     ],
     "language": "python",
     "metadata": {},
     "outputs": [],
     "prompt_number": 54
    },
    {
     "cell_type": "markdown",
     "metadata": {},
     "source": [
      "We've got data, so let's start the analysis!"
     ]
    },
    {
     "cell_type": "code",
     "collapsed": false,
     "input": [
      "%cd /w/2013-lamprey"
     ],
     "language": "python",
     "metadata": {},
     "outputs": [
      {
       "output_type": "stream",
       "stream": "stdout",
       "text": [
        "/w/2013-lamprey"
       ]
      },
      {
       "output_type": "stream",
       "stream": "stdout",
       "text": []
      }
     ],
     "prompt_number": 61
    },
    {
     "cell_type": "markdown",
     "metadata": {},
     "source": [
      "Where are we at baseline?"
     ]
    },
    {
     "cell_type": "code",
     "collapsed": false,
     "input": [
      "%run scripts/stats.py 200 ../data/lamp3.fasta"
     ],
     "language": "python",
     "metadata": {},
     "outputs": [
      {
       "output_type": "stream",
       "stream": "stdout",
       "text": [
        "filename sum n trim_n min med mean max n50 n50_len n90 n90_len\n",
        "../data/lamp3.fasta & 756840 & 471187251 & 201 & 367 & 622 & 14839 & 897"
       ]
      },
      {
       "output_type": "stream",
       "stream": "stdout",
       "text": []
      }
     ],
     "prompt_number": 21
    },
    {
     "cell_type": "markdown",
     "metadata": {},
     "source": [
      "Step 1: Deduplication with CD-HIT-EST\n",
      "*We dedupe at 98% identity, with global clustering for maximum accuracy (though slower runtime)\n",
      "*This has already been done, so we'll skip it for now"
     ]
    },
    {
     "cell_type": "code",
     "collapsed": true,
     "input": [
      "#!cd-hit-est -i data/lamp3.fasta -o data/lamp3.dedupe.fa -c .98 -n 9 -g 1 -T 4"
     ],
     "language": "python",
     "metadata": {},
     "outputs": []
    },
    {
     "cell_type": "markdown",
     "metadata": {},
     "source": [
      "Step 2: Clean out any contaminants that slipped through, give the post-processed file a new name"
     ]
    },
    {
     "cell_type": "code",
     "collapsed": false,
     "input": [
      "!seqclean data/lamp3.fasta.dedupe.fa -c 6 -v db/UniVec.fa -o data/petMar_mrna.fa"
     ],
     "language": "python",
     "metadata": {},
     "outputs": [
      {
       "output_type": "stream",
       "stream": "stdout",
       "text": [
        "* Using trimming files:\n",
        " \n",
        "/w/2013-lamprey/db/UniVec.fa\n",
        "seqclean running options: \n",
        "seqclean data/lamp3.fasta.dedupe.fa -c 6 -v db/UniVec.fa -o data/petMar_mrna.fa\n",
        " Standard log file: seqcl_lamp3.fasta.dedupe.fa.log\n",
        " Error log file:    err_seqcl_lamp3.fasta.dedupe.fa.log\n",
        " Using 6 CPUs for cleaning\n",
        "-= Rebuilding lamp3.fasta.dedupe.fa cdb index =-"
       ]
      },
      {
       "output_type": "stream",
       "stream": "stdout",
       "text": [
        " Launching actual cleaning process:\n",
        " psx -p 6  -n 1000  -i data/lamp3.fasta.dedupe.fa -d cleaning -C '/w/2013-lamprey/data/lamp3.fasta.dedupe.fa:ANLMS100:/w/2013-lamprey/db/UniVec.fa::11:0' -c '/home/chris/bin/seqclean.psx'"
       ]
      },
      {
       "output_type": "stream",
       "stream": "stdout",
       "text": [
        "Collecting cleaning reports\n"
       ]
      },
      {
       "output_type": "stream",
       "stream": "stdout",
       "text": [
        "**************************************************\n",
        "Sequences analyzed:    672565\n",
        "-----------------------------------\n",
        "                   valid:    672162  (262294 trimmed)\n",
        "                 trashed:       403\n",
        "**************************************************\n",
        "----= Trashing summary =------\n",
        "              by 'shortq':        3\n",
        "                by 'dust':      328\n",
        "           by 'UniVec.fa':       72\n",
        "------------------------------\n",
        "Output file containing only valid and trimmed sequences: data/petMar_mrna.fa\n",
        "For trimming and trashing details see cleaning report  : lamp3.fasta.dedupe.fa.cln\n",
        "--------------------------------------------------"
       ]
      },
      {
       "output_type": "stream",
       "stream": "stdout",
       "text": [
        "seqclean (data/lamp3.fasta.dedupe.fa) finished on machine \n",
        " in /w/2013-lamprey, without a detectable error."
       ]
      }
     ],
     "prompt_number": 36
    },
    {
     "cell_type": "code",
     "collapsed": false,
     "input": [
      "%run scripts/stats.py 200 data/petMar_mrna.fa"
     ],
     "language": "python",
     "metadata": {},
     "outputs": [
      {
       "output_type": "stream",
       "stream": "stdout",
       "text": [
        "filename sum n trim_n min med mean max n50 n50_len n90 n90_len\n",
        "data/petMar_mrna.fa & 650320 & 357321866 & 200 & 340 & 549 & 14839 & 715"
       ]
      },
      {
       "output_type": "stream",
       "stream": "stdout",
       "text": []
      }
     ],
     "prompt_number": 40
    },
    {
     "cell_type": "markdown",
     "metadata": {},
     "source": [
      "Alright, let's partition"
     ]
    },
    {
     "cell_type": "code",
     "collapsed": false,
     "input": [
      "%run scripts/do-partition.py -T 4 -k 25 -x 16e9 petMar_part data/petMar_mrna.fa"
     ],
     "language": "python",
     "metadata": {},
     "outputs": [
      {
       "output_type": "stream",
       "stream": "stdout",
       "text": [
        "Saving hashtable to petMar_part"
       ]
      },
      {
       "output_type": "stream",
       "stream": "stdout",
       "text": [
        "\n",
        "Loading kmers from sequences in ['data/petMar_mrna.fa']\n",
        "--\n",
        "SUBSET SIZE 100000\n",
        "N THREADS 4\n",
        "--\n",
        "making hashtable\n",
        "consuming input"
       ]
      },
      {
       "output_type": "stream",
       "stream": "stdout",
       "text": [
        " data/petMar_mrna.fa\n",
        "..."
       ]
      },
      {
       "output_type": "stream",
       "stream": "stdout",
       "text": [
        " consume_fasta_and_tag 100000 27753663\n",
        "..."
       ]
      },
      {
       "output_type": "stream",
       "stream": "stdout",
       "text": [
        " consume_fasta_and_tag 200000 59551660\n",
        "..."
       ]
      },
      {
       "output_type": "stream",
       "stream": "stdout",
       "text": [
        " consume_fasta_and_tag 300000 100383881\n",
        "..."
       ]
      },
      {
       "output_type": "stream",
       "stream": "stdout",
       "text": [
        " consume_fasta_and_tag 400000 143671378\n",
        "..."
       ]
      },
      {
       "output_type": "stream",
       "stream": "stdout",
       "text": [
        " consume_fasta_and_tag 500000 188468539\n",
        "..."
       ]
      },
      {
       "output_type": "stream",
       "stream": "stdout",
       "text": [
        " consume_fasta_and_tag 600000 221168905\n",
        "fp rate estimated to be 0.000"
       ]
      },
      {
       "output_type": "stream",
       "stream": "stdout",
       "text": [
        "\n",
        "** Traverse all the things: stop_big_traversals is false.\n",
        "enqueued 65 subset tasks"
       ]
      },
      {
       "output_type": "stream",
       "stream": "stdout",
       "text": [
        "\n",
        "starting 4 threads\n",
        "---\n",
        "starting: petMar_part 0\n",
        "starting: petMar_part 1\n",
        "starting: petMar_part 2\n",
        "starting: petMar_part 3\n",
        "done starting threads\n",
        "saving:"
       ]
      },
      {
       "output_type": "stream",
       "stream": "stdout",
       "text": [
        " petMar_part 0\n",
        "starting:"
       ]
      },
      {
       "output_type": "stream",
       "stream": "stdout",
       "text": [
        " petMar_part 4\n",
        "saving:"
       ]
      },
      {
       "output_type": "stream",
       "stream": "stdout",
       "text": [
        " petMar_part 1\n",
        "starting:"
       ]
      },
      {
       "output_type": "stream",
       "stream": "stdout",
       "text": [
        " petMar_part 5\n",
        "saving:"
       ]
      },
      {
       "output_type": "stream",
       "stream": "stdout",
       "text": [
        " petMar_part 3\n",
        "starting:"
       ]
      },
      {
       "output_type": "stream",
       "stream": "stdout",
       "text": [
        " petMar_part 6\n",
        "saving:"
       ]
      },
      {
       "output_type": "stream",
       "stream": "stdout",
       "text": [
        " petMar_part 2\n",
        "starting:"
       ]
      },
      {
       "output_type": "stream",
       "stream": "stdout",
       "text": [
        " petMar_part 7\n",
        "saving:"
       ]
      },
      {
       "output_type": "stream",
       "stream": "stdout",
       "text": [
        " petMar_part 4\n",
        "starting:"
       ]
      },
      {
       "output_type": "stream",
       "stream": "stdout",
       "text": [
        " petMar_part 8\n",
        "saving:"
       ]
      },
      {
       "output_type": "stream",
       "stream": "stdout",
       "text": [
        " petMar_part 5\n",
        "starting:"
       ]
      },
      {
       "output_type": "stream",
       "stream": "stdout",
       "text": [
        " petMar_part 9\n",
        "saving:"
       ]
      },
      {
       "output_type": "stream",
       "stream": "stdout",
       "text": [
        " petMar_part 7\n",
        "starting:"
       ]
      },
      {
       "output_type": "stream",
       "stream": "stdout",
       "text": [
        " petMar_part 10\n",
        "saving:"
       ]
      },
      {
       "output_type": "stream",
       "stream": "stdout",
       "text": [
        " petMar_part 6\n",
        "starting:"
       ]
      },
      {
       "output_type": "stream",
       "stream": "stdout",
       "text": [
        " petMar_part 11\n",
        "saving:"
       ]
      },
      {
       "output_type": "stream",
       "stream": "stdout",
       "text": [
        " petMar_part 8\n",
        "starting:"
       ]
      },
      {
       "output_type": "stream",
       "stream": "stdout",
       "text": [
        " petMar_part 12\n",
        "saving:"
       ]
      },
      {
       "output_type": "stream",
       "stream": "stdout",
       "text": [
        " petMar_part 9\n",
        "starting:"
       ]
      },
      {
       "output_type": "stream",
       "stream": "stdout",
       "text": [
        " petMar_part 13\n",
        "saving:"
       ]
      },
      {
       "output_type": "stream",
       "stream": "stdout",
       "text": [
        " petMar_part 11\n",
        "starting:"
       ]
      },
      {
       "output_type": "stream",
       "stream": "stdout",
       "text": [
        " petMar_part 14\n",
        "saving:"
       ]
      },
      {
       "output_type": "stream",
       "stream": "stdout",
       "text": [
        " petMar_part 10\n",
        "starting:"
       ]
      },
      {
       "output_type": "stream",
       "stream": "stdout",
       "text": [
        " petMar_part 15\n",
        "saving:"
       ]
      },
      {
       "output_type": "stream",
       "stream": "stdout",
       "text": [
        " petMar_part 12\n",
        "starting:"
       ]
      },
      {
       "output_type": "stream",
       "stream": "stdout",
       "text": [
        " petMar_part 16\n",
        "saving:"
       ]
      },
      {
       "output_type": "stream",
       "stream": "stdout",
       "text": [
        " petMar_part 13\n",
        "starting:"
       ]
      },
      {
       "output_type": "stream",
       "stream": "stdout",
       "text": [
        " petMar_part 17\n",
        "saving:"
       ]
      },
      {
       "output_type": "stream",
       "stream": "stdout",
       "text": [
        " petMar_part 14\n",
        "starting:"
       ]
      },
      {
       "output_type": "stream",
       "stream": "stdout",
       "text": [
        " petMar_part 18\n",
        "saving:"
       ]
      },
      {
       "output_type": "stream",
       "stream": "stdout",
       "text": [
        " petMar_part 15\n",
        "starting:"
       ]
      },
      {
       "output_type": "stream",
       "stream": "stdout",
       "text": [
        " petMar_part 19\n",
        "saving:"
       ]
      },
      {
       "output_type": "stream",
       "stream": "stdout",
       "text": [
        " petMar_part 16\n",
        "starting:"
       ]
      },
      {
       "output_type": "stream",
       "stream": "stdout",
       "text": [
        " petMar_part 20\n",
        "saving:"
       ]
      },
      {
       "output_type": "stream",
       "stream": "stdout",
       "text": [
        " petMar_part 17\n",
        "starting:"
       ]
      },
      {
       "output_type": "stream",
       "stream": "stdout",
       "text": [
        " petMar_part 21\n",
        "saving:"
       ]
      },
      {
       "output_type": "stream",
       "stream": "stdout",
       "text": [
        " petMar_part 19\n",
        "starting:"
       ]
      },
      {
       "output_type": "stream",
       "stream": "stdout",
       "text": [
        " petMar_part 22\n",
        "saving:"
       ]
      },
      {
       "output_type": "stream",
       "stream": "stdout",
       "text": [
        " petMar_part 18\n",
        "starting:"
       ]
      },
      {
       "output_type": "stream",
       "stream": "stdout",
       "text": [
        " petMar_part 23\n",
        "saving:"
       ]
      },
      {
       "output_type": "stream",
       "stream": "stdout",
       "text": [
        " petMar_part 20\n",
        "starting:"
       ]
      },
      {
       "output_type": "stream",
       "stream": "stdout",
       "text": [
        " petMar_part 24\n",
        "saving:"
       ]
      },
      {
       "output_type": "stream",
       "stream": "stdout",
       "text": [
        " petMar_part 23\n",
        "starting:"
       ]
      },
      {
       "output_type": "stream",
       "stream": "stdout",
       "text": [
        " petMar_part 25\n",
        "saving:"
       ]
      },
      {
       "output_type": "stream",
       "stream": "stdout",
       "text": [
        " petMar_part 22\n",
        "starting:"
       ]
      },
      {
       "output_type": "stream",
       "stream": "stdout",
       "text": [
        " petMar_part 26\n",
        "saving:"
       ]
      },
      {
       "output_type": "stream",
       "stream": "stdout",
       "text": [
        " petMar_part 21\n",
        "starting:"
       ]
      },
      {
       "output_type": "stream",
       "stream": "stdout",
       "text": [
        " petMar_part 27\n",
        "saving:"
       ]
      },
      {
       "output_type": "stream",
       "stream": "stdout",
       "text": [
        " petMar_part 24\n",
        "starting:"
       ]
      },
      {
       "output_type": "stream",
       "stream": "stdout",
       "text": [
        " petMar_part 28\n",
        "saving:"
       ]
      },
      {
       "output_type": "stream",
       "stream": "stdout",
       "text": [
        " petMar_part 25\n",
        "starting:"
       ]
      },
      {
       "output_type": "stream",
       "stream": "stdout",
       "text": [
        " petMar_part 29\n",
        "saving:"
       ]
      },
      {
       "output_type": "stream",
       "stream": "stdout",
       "text": [
        " petMar_part 27\n",
        "starting:"
       ]
      },
      {
       "output_type": "stream",
       "stream": "stdout",
       "text": [
        " petMar_part 30\n",
        "saving:"
       ]
      },
      {
       "output_type": "stream",
       "stream": "stdout",
       "text": [
        " petMar_part 26\n",
        "starting:"
       ]
      },
      {
       "output_type": "stream",
       "stream": "stdout",
       "text": [
        " petMar_part 31\n",
        "saving:"
       ]
      },
      {
       "output_type": "stream",
       "stream": "stdout",
       "text": [
        " petMar_part 28\n",
        "starting:"
       ]
      },
      {
       "output_type": "stream",
       "stream": "stdout",
       "text": [
        " petMar_part 32\n",
        "saving:"
       ]
      },
      {
       "output_type": "stream",
       "stream": "stdout",
       "text": [
        " petMar_part 29\n",
        "starting:"
       ]
      },
      {
       "output_type": "stream",
       "stream": "stdout",
       "text": [
        " petMar_part 33\n",
        "saving:"
       ]
      },
      {
       "output_type": "stream",
       "stream": "stdout",
       "text": [
        " petMar_part 30\n",
        "starting:"
       ]
      },
      {
       "output_type": "stream",
       "stream": "stdout",
       "text": [
        " petMar_part 34\n",
        "saving:"
       ]
      },
      {
       "output_type": "stream",
       "stream": "stdout",
       "text": [
        " petMar_part 33\n",
        "starting:"
       ]
      },
      {
       "output_type": "stream",
       "stream": "stdout",
       "text": [
        " petMar_part 35\n",
        "saving:"
       ]
      },
      {
       "output_type": "stream",
       "stream": "stdout",
       "text": [
        " petMar_part 31\n",
        "starting:"
       ]
      },
      {
       "output_type": "stream",
       "stream": "stdout",
       "text": [
        " petMar_part 36\n",
        "saving:"
       ]
      },
      {
       "output_type": "stream",
       "stream": "stdout",
       "text": [
        " petMar_part 32\n",
        "starting:"
       ]
      },
      {
       "output_type": "stream",
       "stream": "stdout",
       "text": [
        " petMar_part 37\n",
        "saving:"
       ]
      },
      {
       "output_type": "stream",
       "stream": "stdout",
       "text": [
        " petMar_part 34\n",
        "starting:"
       ]
      },
      {
       "output_type": "stream",
       "stream": "stdout",
       "text": [
        " petMar_part 38\n",
        "saving:"
       ]
      },
      {
       "output_type": "stream",
       "stream": "stdout",
       "text": [
        " petMar_part 35\n",
        "starting:"
       ]
      },
      {
       "output_type": "stream",
       "stream": "stdout",
       "text": [
        " petMar_part 39\n",
        "saving:"
       ]
      },
      {
       "output_type": "stream",
       "stream": "stdout",
       "text": [
        " petMar_part 36\n",
        "starting:"
       ]
      },
      {
       "output_type": "stream",
       "stream": "stdout",
       "text": [
        " petMar_part 40\n",
        "saving:"
       ]
      },
      {
       "output_type": "stream",
       "stream": "stdout",
       "text": [
        " petMar_part 37\n",
        "starting:"
       ]
      },
      {
       "output_type": "stream",
       "stream": "stdout",
       "text": [
        " petMar_part 41\n",
        "saving:"
       ]
      },
      {
       "output_type": "stream",
       "stream": "stdout",
       "text": [
        " petMar_part 38\n",
        "starting:"
       ]
      },
      {
       "output_type": "stream",
       "stream": "stdout",
       "text": [
        " petMar_part 42\n",
        "saving:"
       ]
      },
      {
       "output_type": "stream",
       "stream": "stdout",
       "text": [
        " petMar_part 40\n",
        "starting:"
       ]
      },
      {
       "output_type": "stream",
       "stream": "stdout",
       "text": [
        " petMar_part 43\n",
        "saving:"
       ]
      },
      {
       "output_type": "stream",
       "stream": "stdout",
       "text": [
        " petMar_part 39\n",
        "starting:"
       ]
      },
      {
       "output_type": "stream",
       "stream": "stdout",
       "text": [
        " petMar_part 44\n",
        "saving:"
       ]
      },
      {
       "output_type": "stream",
       "stream": "stdout",
       "text": [
        " petMar_part 41\n",
        "starting:"
       ]
      },
      {
       "output_type": "stream",
       "stream": "stdout",
       "text": [
        " petMar_part 45\n",
        "saving:"
       ]
      },
      {
       "output_type": "stream",
       "stream": "stdout",
       "text": [
        " petMar_part 42\n",
        "starting:"
       ]
      },
      {
       "output_type": "stream",
       "stream": "stdout",
       "text": [
        " petMar_part 46\n",
        "saving:"
       ]
      },
      {
       "output_type": "stream",
       "stream": "stdout",
       "text": [
        " petMar_part 43\n",
        "starting:"
       ]
      },
      {
       "output_type": "stream",
       "stream": "stdout",
       "text": [
        " petMar_part 47\n",
        "saving:"
       ]
      },
      {
       "output_type": "stream",
       "stream": "stdout",
       "text": [
        " petMar_part 44\n",
        "starting:"
       ]
      },
      {
       "output_type": "stream",
       "stream": "stdout",
       "text": [
        " petMar_part 48\n",
        "saving:"
       ]
      },
      {
       "output_type": "stream",
       "stream": "stdout",
       "text": [
        " petMar_part 45\n",
        "starting:"
       ]
      },
      {
       "output_type": "stream",
       "stream": "stdout",
       "text": [
        " petMar_part 49\n",
        "saving:"
       ]
      },
      {
       "output_type": "stream",
       "stream": "stdout",
       "text": [
        " petMar_part 46\n",
        "starting:"
       ]
      },
      {
       "output_type": "stream",
       "stream": "stdout",
       "text": [
        " petMar_part 50\n",
        "saving:"
       ]
      },
      {
       "output_type": "stream",
       "stream": "stdout",
       "text": [
        " petMar_part 48\n",
        "starting:"
       ]
      },
      {
       "output_type": "stream",
       "stream": "stdout",
       "text": [
        " petMar_part 51\n",
        "saving:"
       ]
      },
      {
       "output_type": "stream",
       "stream": "stdout",
       "text": [
        " petMar_part 47\n",
        "starting:"
       ]
      },
      {
       "output_type": "stream",
       "stream": "stdout",
       "text": [
        " petMar_part 52\n",
        "saving:"
       ]
      },
      {
       "output_type": "stream",
       "stream": "stdout",
       "text": [
        " petMar_part 49\n",
        "starting:"
       ]
      },
      {
       "output_type": "stream",
       "stream": "stdout",
       "text": [
        " petMar_part 53\n",
        "saving:"
       ]
      },
      {
       "output_type": "stream",
       "stream": "stdout",
       "text": [
        " petMar_part 50\n",
        "starting:"
       ]
      },
      {
       "output_type": "stream",
       "stream": "stdout",
       "text": [
        " petMar_part 54\n",
        "saving:"
       ]
      },
      {
       "output_type": "stream",
       "stream": "stdout",
       "text": [
        " petMar_part 52\n",
        "starting:"
       ]
      },
      {
       "output_type": "stream",
       "stream": "stdout",
       "text": [
        " petMar_part 55\n",
        "saving:"
       ]
      },
      {
       "output_type": "stream",
       "stream": "stdout",
       "text": [
        " petMar_part 51\n",
        "starting:"
       ]
      },
      {
       "output_type": "stream",
       "stream": "stdout",
       "text": [
        " petMar_part 56\n",
        "saving:"
       ]
      },
      {
       "output_type": "stream",
       "stream": "stdout",
       "text": [
        " petMar_part 54\n",
        "starting:"
       ]
      },
      {
       "output_type": "stream",
       "stream": "stdout",
       "text": [
        " petMar_part 57\n",
        "saving:"
       ]
      },
      {
       "output_type": "stream",
       "stream": "stdout",
       "text": [
        " petMar_part 53\n",
        "starting:"
       ]
      },
      {
       "output_type": "stream",
       "stream": "stdout",
       "text": [
        " petMar_part 58\n",
        "saving:"
       ]
      },
      {
       "output_type": "stream",
       "stream": "stdout",
       "text": [
        " petMar_part 55\n",
        "starting:"
       ]
      },
      {
       "output_type": "stream",
       "stream": "stdout",
       "text": [
        " petMar_part 59\n",
        "saving:"
       ]
      },
      {
       "output_type": "stream",
       "stream": "stdout",
       "text": [
        " petMar_part 57\n",
        "starting:"
       ]
      },
      {
       "output_type": "stream",
       "stream": "stdout",
       "text": [
        " petMar_part 60\n",
        "saving:"
       ]
      },
      {
       "output_type": "stream",
       "stream": "stdout",
       "text": [
        " petMar_part 56\n",
        "starting:"
       ]
      },
      {
       "output_type": "stream",
       "stream": "stdout",
       "text": [
        " petMar_part 61\n",
        "saving:"
       ]
      },
      {
       "output_type": "stream",
       "stream": "stdout",
       "text": [
        " petMar_part 58\n",
        "starting:"
       ]
      },
      {
       "output_type": "stream",
       "stream": "stdout",
       "text": [
        " petMar_part 62\n",
        "saving:"
       ]
      },
      {
       "output_type": "stream",
       "stream": "stdout",
       "text": [
        " petMar_part 60\n",
        "starting:"
       ]
      },
      {
       "output_type": "stream",
       "stream": "stdout",
       "text": [
        " petMar_part 63\n",
        "saving:"
       ]
      },
      {
       "output_type": "stream",
       "stream": "stdout",
       "text": [
        " petMar_part 59\n",
        "starting:"
       ]
      },
      {
       "output_type": "stream",
       "stream": "stdout",
       "text": [
        " petMar_part 64\n",
        "saving:"
       ]
      },
      {
       "output_type": "stream",
       "stream": "stdout",
       "text": [
        " petMar_part 61\n",
        "exiting"
       ]
      },
      {
       "output_type": "stream",
       "stream": "stdout",
       "text": [
        "\n",
        "saving:"
       ]
      },
      {
       "output_type": "stream",
       "stream": "stdout",
       "text": [
        " petMar_part 62\n",
        "exiting"
       ]
      },
      {
       "output_type": "stream",
       "stream": "stdout",
       "text": [
        "\n",
        "saving:"
       ]
      },
      {
       "output_type": "stream",
       "stream": "stdout",
       "text": [
        " petMar_part 64\n",
        "exiting"
       ]
      },
      {
       "output_type": "stream",
       "stream": "stdout",
       "text": [
        "\n",
        "saving:"
       ]
      },
      {
       "output_type": "stream",
       "stream": "stdout",
       "text": [
        " petMar_part 63\n",
        "exiting"
       ]
      },
      {
       "output_type": "stream",
       "stream": "stdout",
       "text": [
        "\n",
        "---\n",
        "done making subsets! see petMar_part.subset.*.pmap\n",
        "loading 65 pmap files (first one: petMar_part.subset.41.pmap)\n",
        "merging"
       ]
      },
      {
       "output_type": "stream",
       "stream": "stdout",
       "text": [
        " petMar_part.subset.41.pmap\n",
        "merging"
       ]
      },
      {
       "output_type": "stream",
       "stream": "stdout",
       "text": [
        " petMar_part.subset.36.pmap\n",
        "merging"
       ]
      },
      {
       "output_type": "stream",
       "stream": "stdout",
       "text": [
        " petMar_part.subset.23.pmap\n",
        "merging"
       ]
      },
      {
       "output_type": "stream",
       "stream": "stdout",
       "text": [
        " petMar_part.subset.6.pmap\n",
        "merging"
       ]
      },
      {
       "output_type": "stream",
       "stream": "stdout",
       "text": [
        " petMar_part.subset.11.pmap\n",
        "merging"
       ]
      },
      {
       "output_type": "stream",
       "stream": "stdout",
       "text": [
        " petMar_part.subset.8.pmap\n",
        "merging"
       ]
      },
      {
       "output_type": "stream",
       "stream": "stdout",
       "text": [
        " petMar_part.subset.45.pmap\n",
        "merging"
       ]
      },
      {
       "output_type": "stream",
       "stream": "stdout",
       "text": [
        " petMar_part.subset.15.pmap\n",
        "merging"
       ]
      },
      {
       "output_type": "stream",
       "stream": "stdout",
       "text": [
        " petMar_part.subset.27.pmap\n",
        "merging"
       ]
      },
      {
       "output_type": "stream",
       "stream": "stdout",
       "text": [
        " petMar_part.subset.20.pmap\n",
        "merging"
       ]
      },
      {
       "output_type": "stream",
       "stream": "stdout",
       "text": [
        " petMar_part.subset.43.pmap\n",
        "merging"
       ]
      },
      {
       "output_type": "stream",
       "stream": "stdout",
       "text": [
        " petMar_part.subset.22.pmap\n",
        "merging"
       ]
      },
      {
       "output_type": "stream",
       "stream": "stdout",
       "text": [
        " petMar_part.subset.3.pmap\n",
        "merging"
       ]
      },
      {
       "output_type": "stream",
       "stream": "stdout",
       "text": [
        " petMar_part.subset.28.pmap\n",
        "merging"
       ]
      },
      {
       "output_type": "stream",
       "stream": "stdout",
       "text": [
        " petMar_part.subset.44.pmap\n",
        "merging"
       ]
      },
      {
       "output_type": "stream",
       "stream": "stdout",
       "text": [
        " petMar_part.subset.42.pmap\n",
        "merging"
       ]
      },
      {
       "output_type": "stream",
       "stream": "stdout",
       "text": [
        " petMar_part.subset.54.pmap\n",
        "merging"
       ]
      },
      {
       "output_type": "stream",
       "stream": "stdout",
       "text": [
        " petMar_part.subset.59.pmap\n",
        "merging"
       ]
      },
      {
       "output_type": "stream",
       "stream": "stdout",
       "text": [
        " petMar_part.subset.62.pmap\n",
        "merging"
       ]
      },
      {
       "output_type": "stream",
       "stream": "stdout",
       "text": [
        " petMar_part.subset.53.pmap\n",
        "merging"
       ]
      },
      {
       "output_type": "stream",
       "stream": "stdout",
       "text": [
        " petMar_part.subset.58.pmap\n",
        "merging"
       ]
      },
      {
       "output_type": "stream",
       "stream": "stdout",
       "text": [
        " petMar_part.subset.61.pmap\n",
        "merging"
       ]
      },
      {
       "output_type": "stream",
       "stream": "stdout",
       "text": [
        " petMar_part.subset.46.pmap\n",
        "merging"
       ]
      },
      {
       "output_type": "stream",
       "stream": "stdout",
       "text": [
        " petMar_part.subset.37.pmap\n",
        "merging"
       ]
      },
      {
       "output_type": "stream",
       "stream": "stdout",
       "text": [
        " petMar_part.subset.24.pmap\n",
        "merging"
       ]
      },
      {
       "output_type": "stream",
       "stream": "stdout",
       "text": [
        " petMar_part.subset.63.pmap\n",
        "merging"
       ]
      },
      {
       "output_type": "stream",
       "stream": "stdout",
       "text": [
        " petMar_part.subset.5.pmap\n",
        "merging"
       ]
      },
      {
       "output_type": "stream",
       "stream": "stdout",
       "text": [
        " petMar_part.subset.19.pmap\n",
        "merging"
       ]
      },
      {
       "output_type": "stream",
       "stream": "stdout",
       "text": [
        " petMar_part.subset.34.pmap\n",
        "merging"
       ]
      },
      {
       "output_type": "stream",
       "stream": "stdout",
       "text": [
        " petMar_part.subset.12.pmap\n",
        "merging"
       ]
      },
      {
       "output_type": "stream",
       "stream": "stdout",
       "text": [
        " petMar_part.subset.13.pmap\n",
        "merging"
       ]
      },
      {
       "output_type": "stream",
       "stream": "stdout",
       "text": [
        " petMar_part.subset.16.pmap\n",
        "merging"
       ]
      },
      {
       "output_type": "stream",
       "stream": "stdout",
       "text": [
        " petMar_part.subset.2.pmap\n",
        "merging"
       ]
      },
      {
       "output_type": "stream",
       "stream": "stdout",
       "text": [
        " petMar_part.subset.33.pmap\n",
        "merging"
       ]
      },
      {
       "output_type": "stream",
       "stream": "stdout",
       "text": [
        " petMar_part.subset.26.pmap\n",
        "merging"
       ]
      },
      {
       "output_type": "stream",
       "stream": "stdout",
       "text": [
        " petMar_part.subset.49.pmap\n",
        "merging"
       ]
      },
      {
       "output_type": "stream",
       "stream": "stdout",
       "text": [
        " petMar_part.subset.32.pmap\n",
        "merging"
       ]
      },
      {
       "output_type": "stream",
       "stream": "stdout",
       "text": [
        " petMar_part.subset.60.pmap\n",
        "merging"
       ]
      },
      {
       "output_type": "stream",
       "stream": "stdout",
       "text": [
        " petMar_part.subset.48.pmap\n",
        "merging"
       ]
      },
      {
       "output_type": "stream",
       "stream": "stdout",
       "text": [
        " petMar_part.subset.14.pmap\n",
        "merging"
       ]
      },
      {
       "output_type": "stream",
       "stream": "stdout",
       "text": [
        " petMar_part.subset.0.pmap\n",
        "merging"
       ]
      },
      {
       "output_type": "stream",
       "stream": "stdout",
       "text": [
        " petMar_part.subset.57.pmap\n",
        "merging"
       ]
      },
      {
       "output_type": "stream",
       "stream": "stdout",
       "text": [
        " petMar_part.subset.39.pmap\n",
        "merging"
       ]
      },
      {
       "output_type": "stream",
       "stream": "stdout",
       "text": [
        " petMar_part.subset.25.pmap\n",
        "merging"
       ]
      },
      {
       "output_type": "stream",
       "stream": "stdout",
       "text": [
        " petMar_part.subset.4.pmap\n",
        "merging"
       ]
      },
      {
       "output_type": "stream",
       "stream": "stdout",
       "text": [
        " petMar_part.subset.50.pmap\n",
        "merging"
       ]
      },
      {
       "output_type": "stream",
       "stream": "stdout",
       "text": [
        " petMar_part.subset.52.pmap\n",
        "merging"
       ]
      },
      {
       "output_type": "stream",
       "stream": "stdout",
       "text": [
        " petMar_part.subset.1.pmap\n",
        "merging"
       ]
      },
      {
       "output_type": "stream",
       "stream": "stdout",
       "text": [
        " petMar_part.subset.31.pmap\n",
        "merging"
       ]
      },
      {
       "output_type": "stream",
       "stream": "stdout",
       "text": [
        " petMar_part.subset.10.pmap\n",
        "merging"
       ]
      },
      {
       "output_type": "stream",
       "stream": "stdout",
       "text": [
        " petMar_part.subset.18.pmap\n",
        "merging"
       ]
      },
      {
       "output_type": "stream",
       "stream": "stdout",
       "text": [
        " petMar_part.subset.29.pmap\n",
        "merging"
       ]
      },
      {
       "output_type": "stream",
       "stream": "stdout",
       "text": [
        " petMar_part.subset.35.pmap\n",
        "merging"
       ]
      },
      {
       "output_type": "stream",
       "stream": "stdout",
       "text": [
        " petMar_part.subset.30.pmap\n",
        "merging"
       ]
      },
      {
       "output_type": "stream",
       "stream": "stdout",
       "text": [
        " petMar_part.subset.64.pmap\n",
        "merging"
       ]
      },
      {
       "output_type": "stream",
       "stream": "stdout",
       "text": [
        " petMar_part.subset.55.pmap\n",
        "merging"
       ]
      },
      {
       "output_type": "stream",
       "stream": "stdout",
       "text": [
        " petMar_part.subset.7.pmap\n",
        "merging"
       ]
      },
      {
       "output_type": "stream",
       "stream": "stdout",
       "text": [
        " petMar_part.subset.56.pmap\n",
        "merging"
       ]
      },
      {
       "output_type": "stream",
       "stream": "stdout",
       "text": [
        " petMar_part.subset.40.pmap\n",
        "merging"
       ]
      },
      {
       "output_type": "stream",
       "stream": "stdout",
       "text": [
        " petMar_part.subset.21.pmap\n",
        "merging"
       ]
      },
      {
       "output_type": "stream",
       "stream": "stdout",
       "text": [
        " petMar_part.subset.47.pmap\n",
        "merging"
       ]
      },
      {
       "output_type": "stream",
       "stream": "stdout",
       "text": [
        " petMar_part.subset.17.pmap\n",
        "merging"
       ]
      },
      {
       "output_type": "stream",
       "stream": "stdout",
       "text": [
        " petMar_part.subset.51.pmap\n",
        "merging"
       ]
      },
      {
       "output_type": "stream",
       "stream": "stdout",
       "text": [
        " petMar_part.subset.38.pmap\n",
        "merging"
       ]
      },
      {
       "output_type": "stream",
       "stream": "stdout",
       "text": [
        " petMar_part.subset.9.pmap\n",
        "removing pmap files"
       ]
      },
      {
       "output_type": "stream",
       "stream": "stdout",
       "text": [
        "\n",
        "outputting partitions for data/petMar_mrna.fa\n",
        "..."
       ]
      },
      {
       "output_type": "stream",
       "stream": "stdout",
       "text": [
        " output_partitions 100000 0\n",
        "..."
       ]
      },
      {
       "output_type": "stream",
       "stream": "stdout",
       "text": [
        " output_partitions 200000 0\n",
        "..."
       ]
      },
      {
       "output_type": "stream",
       "stream": "stdout",
       "text": [
        " output_partitions 300000 0\n",
        "..."
       ]
      },
      {
       "output_type": "stream",
       "stream": "stdout",
       "text": [
        " output_partitions 400000 0\n",
        "..."
       ]
      },
      {
       "output_type": "stream",
       "stream": "stdout",
       "text": [
        " output_partitions 500000 0\n",
        "..."
       ]
      },
      {
       "output_type": "stream",
       "stream": "stdout",
       "text": [
        " output_partitions 600000 0\n",
        "output 263536 partitions for data/petMar_mrna.fa"
       ]
      },
      {
       "output_type": "stream",
       "stream": "stdout",
       "text": [
        "\n",
        "partitions are in petMar_mrna.fa.part"
       ]
      },
      {
       "output_type": "stream",
       "stream": "stderr",
       "text": [
        "\n",
        "PARAMETERS:\n",
        " - kmer size =    25 \t\t(-k)\n",
        " - n hashes =     4 \t\t(-N)\n",
        " - min hashsize = 1.6e+10 \t(-x)\n",
        "\n",
        "Estimated memory usage is 8e+09 bytes (n_hashes x min_hashsize / 8)\n",
        "--------"
       ]
      }
     ],
     "prompt_number": 64
    },
    {
     "cell_type": "markdown",
     "metadata": {},
     "source": [
      "And now lamp0..."
     ]
    },
    {
     "cell_type": "code",
     "collapsed": false,
     "input": [
      "!mv petMar_mrna.fa.part data/\n",
      "!mv petMar_part.info data/"
     ],
     "language": "python",
     "metadata": {},
     "outputs": [
      {
       "output_type": "stream",
       "stream": "stdout",
       "text": [
        "mv: cannot stat `petMar_mrna.fa.part': No such file or directory"
       ]
      }
     ],
     "prompt_number": 70
    },
    {
     "cell_type": "code",
     "collapsed": true,
     "input": [
      "%run scripts/do-partition.py -T 8 -k 25 -x 16e9 lamp0_part data/lamp0.fasta"
     ],
     "language": "python",
     "metadata": {},
     "outputs": []
    },
    {
     "cell_type": "markdown",
     "metadata": {},
     "source": [
      "And now both!"
     ]
    },
    {
     "cell_type": "code",
     "collapsed": true,
     "input": [
      "%run scripts/do-partition.py -T 8 -k 25 -x 16e9 petMar_lamp0_part data/petMar_mrna.fa data/lamp0.fasta"
     ],
     "language": "python",
     "metadata": {},
     "outputs": []
    },
    {
     "cell_type": "code",
     "collapsed": false,
     "input": [
      "%run scripts/stats.py 200 db/petMar2.fa.masked"
     ],
     "language": "python",
     "metadata": {},
     "outputs": [
      {
       "output_type": "stream",
       "stream": "stdout",
       "text": [
        "filename trim_n sum min med mean max n50_len\n",
        "db/petMar2.fa.masked & 24945 & 885542034 & 201 & 8309 & 35499 & 4695893 & 184619"
       ]
      },
      {
       "output_type": "stream",
       "stream": "stdout",
       "text": [
        "\n"
       ]
      }
     ],
     "prompt_number": 3
    },
    {
     "cell_type": "heading",
     "level": 3,
     "metadata": {},
     "source": [
      "Let the BLASTing begin!"
     ]
    },
    {
     "cell_type": "code",
     "collapsed": false,
     "input": [
      "cd 2013-lamprey/"
     ],
     "language": "python",
     "metadata": {},
     "outputs": [
      {
       "output_type": "stream",
       "stream": "stdout",
       "text": [
        "/w/2013-lamprey\n"
       ]
      }
     ],
     "prompt_number": 6
    },
    {
     "cell_type": "code",
     "collapsed": false,
     "input": [
      "blast_cols = \"qseqid sseqid length nident qstart qend sstart send bitscore evalue\"\n",
      "blast_fmt = \"10 \" + blast_cols\n",
      "print blast_fmt"
     ],
     "language": "python",
     "metadata": {},
     "outputs": [
      {
       "output_type": "stream",
       "stream": "stdout",
       "text": [
        "10 qseqid sseqid length nident qstart qend sstart send bitscore evalue"
       ]
      },
      {
       "output_type": "stream",
       "stream": "stdout",
       "text": [
        "\n"
       ]
      }
     ],
     "prompt_number": 3
    },
    {
     "cell_type": "code",
     "collapsed": false,
     "input": [
      "!blastn -query data/petMar_mrna.fa.part -db db/est.fa -out data/x.EST.csv -num_threads 8 -evalue 0.00001 -outfmt \"{blast_fmt}\""
     ],
     "language": "python",
     "metadata": {},
     "outputs": [],
     "prompt_number": 73
    },
    {
     "cell_type": "code",
     "collapsed": false,
     "input": [
      "!wc -l data/x.EST.csv"
     ],
     "language": "python",
     "metadata": {},
     "outputs": [
      {
       "output_type": "stream",
       "stream": "stdout",
       "text": [
        "437567 data/x.EST.csv"
       ]
      }
     ],
     "prompt_number": 74
    },
    {
     "cell_type": "code",
     "collapsed": true,
     "input": [
      "!blastn -query data/petMar_mrna.fa.part -db data/lamp0.fasta -out data/x.lamp0.csv -num_threads 8 -evalue 0.0000001 -outfmt \"{blast_fmt}\""
     ],
     "language": "python",
     "metadata": {},
     "outputs": [],
     "prompt_number": "*"
    },
    {
     "cell_type": "code",
     "collapsed": true,
     "input": [
      "# BLAST against the hard-masked genome, with a higher evalue filter, for scaffolding\n",
      "!blastn -query data/petMar_mrna.fa.part -db db/petMar2.fa -out data/x.genome_soft.csv -num_threads 8 -evalue 0.0000001 -outfmt \"{blast_fmt}\""
     ],
     "language": "python",
     "metadata": {},
     "outputs": [],
     "prompt_number": "*"
    },
    {
     "cell_type": "code",
     "collapsed": false,
     "input": [
      "!blastx -query data/petMar_mrna.fa.part -db db/mouse.protein.fa -out data/x.mouse.csv -num_threads 8 -evalue 0.0000001 -outfmt \"{blast_fmt}\""
     ],
     "language": "python",
     "metadata": {},
     "outputs": [],
     "prompt_number": "*"
    },
    {
     "cell_type": "code",
     "collapsed": false,
     "input": [
      "!blastx -query data/petMar_mrna.fa.part -db db/zebrafish.protein.fa -out data/x.zebrafish.csv -num_threads 8 -evalue 0.0000001 -outfmt \"{blast_fmt}\""
     ],
     "language": "python",
     "metadata": {},
     "outputs": [],
     "prompt_number": "*"
    },
    {
     "cell_type": "code",
     "collapsed": false,
     "input": [
      "!blastx -query data/petMar_mrna.fa.part -db db/myxinidae.protein.fa -out data/x.myx.csv -num_threads 8 -evalue 0.0000001 -outfmt \"{blast_fmt}\""
     ],
     "language": "python",
     "metadata": {},
     "outputs": [],
     "prompt_number": "*"
    },
    {
     "cell_type": "code",
     "collapsed": false,
     "input": [
      "!blastx -query data/petMar_mrna.fa.part -db db/amphioxus.protein.fa -out data/x.amph.csv -num_threads 8 -evalue 0.0000001 -outfmt \"{blast_fmt}\""
     ],
     "language": "python",
     "metadata": {},
     "outputs": [],
     "prompt_number": "*"
    },
    {
     "cell_type": "heading",
     "level": 3,
     "metadata": {},
     "source": [
      "Let's do some partition analysis"
     ]
    },
    {
     "cell_type": "code",
     "collapsed": false,
     "input": [
      "petMar_mrna_PS = hb.PartitionSet.associateHits('data/petMar_mrna.fa.part', 'data/x.EST.csv')"
     ],
     "language": "python",
     "metadata": {},
     "outputs": [
      {
       "output_type": "stream",
       "stream": "stdout",
       "text": [
        "Parsing hits...\n",
        "Parsed 0 rows...\n",
        "comp694_c0_seq1,EE278148,392,0.0,65,456\n",
        "Parsed"
       ]
      },
      {
       "output_type": "stream",
       "stream": "stdout",
       "text": [
        " 10000 rows...\n",
        "comp405387_c0_seq1,DY254282,202,3e-103,1,202\n",
        "Parsed"
       ]
      },
      {
       "output_type": "stream",
       "stream": "stdout",
       "text": [
        " 20000 rows...\n",
        "comp558701_c1_seq1,EE278125,52,2e-12,18,69\n",
        "Parsed"
       ]
      },
      {
       "output_type": "stream",
       "stream": "stdout",
       "text": [
        " 30000 rows...\n",
        "comp594053_c0_seq2,FD721492,52,1e-14,246,297\n",
        "Parsed"
       ]
      },
      {
       "output_type": "stream",
       "stream": "stdout",
       "text": [
        " 40000 rows...\n",
        "comp609682_c0_seq1,EG334700,107,3e-41,1,106\n",
        "Parsed"
       ]
      },
      {
       "output_type": "stream",
       "stream": "stdout",
       "text": [
        " 50000 rows...\n",
        "comp620874_c0_seq2,CO546164,100,4e-46,1,100\n",
        "Parsed"
       ]
      },
      {
       "output_type": "stream",
       "stream": "stdout",
       "text": [
        " 60000 rows...\n",
        "comp626339_c2_seq3,EG339030,62,5e-13,233,293\n",
        "Parsed"
       ]
      },
      {
       "output_type": "stream",
       "stream": "stdout",
       "text": [
        " 70000 rows...\n",
        "comp629939_c0_seq2,FD718508,650,0.0,90,739\n",
        "Parsed"
       ]
      },
      {
       "output_type": "stream",
       "stream": "stdout",
       "text": [
        " 80000 rows...\n",
        "comp632132_c5_seq12,FD702652,726,0.0,1233,1957\n",
        "Parsed"
       ]
      },
      {
       "output_type": "stream",
       "stream": "stdout",
       "text": [
        " 90000 rows...\n",
        "comp634162_c3_seq4,DY254713,458,0.0,104,560\n",
        "Parsed"
       ]
      },
      {
       "output_type": "stream",
       "stream": "stdout",
       "text": [
        " 100000 rows...\n",
        "comp635376_c0_seq1,DW019583,401,0.0,1,401\n",
        "Parsed"
       ]
      },
      {
       "output_type": "stream",
       "stream": "stdout",
       "text": [
        " 110000 rows...\n",
        "comp636788_c7_seq19,EB398541,199,4e-101,339,537\n",
        "Parsed"
       ]
      },
      {
       "output_type": "stream",
       "stream": "stdout",
       "text": [
        " 120000 rows...\n",
        "comp637932_c0_seq23,FD711371,344,2e-179,2248,2591\n",
        "Parsed"
       ]
      },
      {
       "output_type": "stream",
       "stream": "stdout",
       "text": [
        " 130000 rows...\n",
        "comp639176_c0_seq6,FD721284,113,4e-33,1,112\n",
        "Parsed"
       ]
      },
      {
       "output_type": "stream",
       "stream": "stdout",
       "text": [
        " 140000 rows...\n",
        "comp640208_c3_seq7,EB395911,33,1e-08,768,800\n",
        "Parsed"
       ]
      },
      {
       "output_type": "stream",
       "stream": "stdout",
       "text": [
        " 150000 rows...\n",
        "comp640984_c2_seq4,FD723867,697,0.0,1,697\n",
        "Parsed"
       ]
      },
      {
       "output_type": "stream",
       "stream": "stdout",
       "text": [
        " 160000 rows...\n",
        "comp642108_c2_seq2,CO545282,237,1e-118,54,290\n",
        "Parsed"
       ]
      },
      {
       "output_type": "stream",
       "stream": "stdout",
       "text": [
        " 170000 rows...\n",
        "comp642931_c5_seq9,FD727945,70,7e-26,82,151\n",
        "Parsed"
       ]
      },
      {
       "output_type": "stream",
       "stream": "stdout",
       "text": [
        " 180000 rows...\n",
        "comp643803_c0_seq13,FD714948,713,3e-69,262,950\n",
        "Parsed"
       ]
      },
      {
       "output_type": "stream",
       "stream": "stdout",
       "text": [
        " 190000 rows...\n",
        "comp644709_c0_seq5,EE272638,667,0.0,3,662\n",
        "Parsed"
       ]
      },
      {
       "output_type": "stream",
       "stream": "stdout",
       "text": [
        " 200000 rows...\n",
        "comp645377_c2_seq4,EG332060,316,9e-165,17,332\n",
        "Parsed"
       ]
      },
      {
       "output_type": "stream",
       "stream": "stdout",
       "text": [
        " 210000 rows...\n",
        "comp646081_c1_seq3,EE272255,235,3e-90,1,233\n",
        "Parsed"
       ]
      },
      {
       "output_type": "stream",
       "stream": "stdout",
       "text": [
        " 220000 rows...\n",
        "comp646922_c4_seq2,FD724552,79,1e-30,1,79\n",
        "Parsed"
       ]
      },
      {
       "output_type": "stream",
       "stream": "stdout",
       "text": [
        " 230000 rows...\n",
        "comp647520_c3_seq3,EG330975,530,0.0,548,1072\n",
        "Parsed"
       ]
      },
      {
       "output_type": "stream",
       "stream": "stdout",
       "text": [
        " 240000 rows...\n",
        "comp648158_c1_seq17,CO546181,136,4e-66,263,398\n",
        "Parsed"
       ]
      },
      {
       "output_type": "stream",
       "stream": "stdout",
       "text": [
        " 250000 rows...\n",
        "comp648838_c0_seq1,EG338459,512,0.0,768,1268\n",
        "Parsed"
       ]
      },
      {
       "output_type": "stream",
       "stream": "stdout",
       "text": [
        " 260000 rows...\n",
        "comp649289_c0_seq20,DW024262,567,0.0,2282,2848\n",
        "Parsed"
       ]
      },
      {
       "output_type": "stream",
       "stream": "stdout",
       "text": [
        " 270000 rows...\n",
        "comp649687_c1_seq8,FD721935,84,1e-33,690,773\n",
        "Parsed"
       ]
      },
      {
       "output_type": "stream",
       "stream": "stdout",
       "text": [
        " 280000 rows...\n",
        "comp650054_c1_seq64,FD701872,32,8e-08,430,461\n",
        "Parsed"
       ]
      },
      {
       "output_type": "stream",
       "stream": "stdout",
       "text": [
        " 290000 rows...\n",
        "comp650524_c1_seq13,EB084140,201,8e-102,1212,1412\n",
        "Parsed"
       ]
      },
      {
       "output_type": "stream",
       "stream": "stdout",
       "text": [
        " 300000 rows...\n",
        "comp650968_c0_seq4,FD728077,745,0.0,1185,1928\n",
        "Parsed"
       ]
      },
      {
       "output_type": "stream",
       "stream": "stdout",
       "text": [
        " 310000 rows...\n",
        "comp651277_c1_seq18,EC382988,45,3e-15,1,45\n",
        "Parsed"
       ]
      },
      {
       "output_type": "stream",
       "stream": "stdout",
       "text": [
        " 320000 rows...\n",
        "comp651671_c1_seq4,FD701265,713,0.0,8,720\n",
        "Parsed"
       ]
      },
      {
       "output_type": "stream",
       "stream": "stdout",
       "text": [
        " 330000 rows...\n",
        "comp651970_c0_seq4,EB394329,308,2e-149,134,440\n",
        "Parsed"
       ]
      },
      {
       "output_type": "stream",
       "stream": "stdout",
       "text": [
        " 340000 rows...\n",
        "comp652334_c0_seq5,FD726827,55,6e-21,152,206\n",
        "Parsed"
       ]
      },
      {
       "output_type": "stream",
       "stream": "stdout",
       "text": [
        " 350000 rows...\n",
        "comp652602_c0_seq10,CO543951,225,1e-113,429,653\n",
        "Parsed"
       ]
      },
      {
       "output_type": "stream",
       "stream": "stdout",
       "text": [
        " 360000 rows...\n",
        "comp652845_c2_seq2,EE274215,393,0.0,739,1131\n",
        "Parsed"
       ]
      },
      {
       "output_type": "stream",
       "stream": "stdout",
       "text": [
        " 370000 rows...\n",
        "comp653080_c5_seq2,FD712441,48,6e-15,575,621\n",
        "Parsed"
       ]
      },
      {
       "output_type": "stream",
       "stream": "stdout",
       "text": [
        " 380000 rows...\n",
        "comp653235_c0_seq14,FD724006,744,0.0,2641,3383\n",
        "Parsed"
       ]
      },
      {
       "output_type": "stream",
       "stream": "stdout",
       "text": [
        " 390000 rows...\n",
        "comp653408_c0_seq94,FD723657,681,0.0,1570,2250\n",
        "Parsed"
       ]
      },
      {
       "output_type": "stream",
       "stream": "stdout",
       "text": [
        " 400000 rows...\n",
        "comp653585_c1_seq3,DY800459,468,0.0,872,1339\n",
        "Parsed"
       ]
      },
      {
       "output_type": "stream",
       "stream": "stdout",
       "text": [
        " 410000 rows...\n",
        "comp653762_c0_seq5,EE272559,380,0.0,1,380\n",
        "Parsed"
       ]
      },
      {
       "output_type": "stream",
       "stream": "stdout",
       "text": [
        " 420000 rows...\n",
        "comp653901_c0_seq1,FD722513,474,0.0,308,781\n",
        "Parsed"
       ]
      },
      {
       "output_type": "stream",
       "stream": "stdout",
       "text": [
        " 430000 rows...\n",
        "comp655184_c0_seq1,CO545461,231,2e-119,1,231\n",
        "...done parsing 437567 hits."
       ]
      },
      {
       "output_type": "stream",
       "stream": "stdout",
       "text": [
        "\n",
        "sorting hits by query...\n",
        "sorted 437567 hits"
       ]
      },
      {
       "output_type": "stream",
       "stream": "stdout",
       "text": [
        "\n",
        "partitioning hits by query...\n",
        "...done!"
       ]
      },
      {
       "output_type": "stream",
       "stream": "stdout",
       "text": [
        "\n",
        "89685 queries over 437567 hits\n",
        "Reading sequences and associating hits...\n",
        "...done!"
       ]
      },
      {
       "output_type": "stream",
       "stream": "stdout",
       "text": [
        "\n"
       ]
      }
     ],
     "prompt_number": 2
    },
    {
     "cell_type": "code",
     "collapsed": true,
     "input": [
      "petMar_mrna_dist = np.array(petMar_mrna_PS.histogram())\n",
      "#with open('data/petMar_mrna_parts.hist', 'wb') as outfp:\n",
      "#    for row in petMar_mrna_hist:\n",
      "#        outfp.write(row)"
     ],
     "language": "python",
     "metadata": {},
     "outputs": [
      {
       "output_type": "stream",
       "stream": "stdout",
       "text": [
        "Generating histogram...\n",
        "...done!"
       ]
      },
      {
       "output_type": "stream",
       "stream": "stdout",
       "text": [
        "\n"
       ]
      }
     ],
     "prompt_number": 14
    },
    {
     "cell_type": "code",
     "collapsed": false,
     "input": [
      "print petMar_mrna_dist[:,1]\n",
      "hist = np.bincount(petMar_mrna_dist[:,1])\n",
      "print hist\n",
      "plot(np.arange(len(hist)-1), hist[1:])\n",
      "axis(xmax=100,ymax=20)"
     ],
     "language": "python",
     "metadata": {},
     "outputs": [
      {
       "output_type": "stream",
       "stream": "stdout",
       "text": [
        "[     1      1      1 ...,     53     66 357549]\n",
        "[     0 231884  22717 ...,      0      0      1]\n"
       ]
      },
      {
       "output_type": "pyout",
       "prompt_number": 33,
       "text": [
        "(0.0, 100, 0.0, 20)"
       ]
      },
      {
       "output_type": "display_data",
       "png": "[encoded data removed]"
      }
     ],
     "prompt_number": 33
    },
    {
     "cell_type": "code",
     "collapsed": false,
     "input": [
      "petMar_mrna_dist[-1:,1].sum()"
     ],
     "language": "python",
     "metadata": {},
     "outputs": [
      {
       "output_type": "stream",
       "stream": "stdout",
       "text": [
        "The history saving thread hit an unexpected error (OperationalError('database is locked',)).History will not be written to the database.\n"
       ]
      },
      {
       "output_type": "pyout",
       "prompt_number": 38,
       "text": [
        "357549"
       ]
      }
     ],
     "prompt_number": 38
    },
    {
     "cell_type": "code",
     "collapsed": false,
     "input": [
      "dist = np.histogram(np.loadtxt('data/petMar_mrna_parts.hist',dtype=int,delimiter=\",\")[:,0], bins=1000)"
     ],
     "language": "python",
     "metadata": {},
     "outputs": [],
     "prompt_number": 105
    },
    {
     "cell_type": "code",
     "collapsed": true,
     "input": [],
     "language": "python",
     "metadata": {},
     "outputs": []
    }
   ],
   "metadata": {}
  }
 ]
}