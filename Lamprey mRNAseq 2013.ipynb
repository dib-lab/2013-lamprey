{
 "metadata": {
  "name": "Lamprey mRNAseq 2013"
 }, 
 "nbformat": 2, 
 "worksheets": [
  {
   "cells": [
    {
     "cell_type": "code", 
     "collapsed": true, 
     "input": [
      "import sys", 
      "sys.path.append('scripts/')", 
      "import hambone as hb", 
      "import numpy as np", 
      "import screed", 
      "import khmer"
     ], 
     "language": "python", 
     "outputs": [], 
     "prompt_number": 86
    }, 
    {
     "cell_type": "markdown", 
     "source": [
      "Get Necessary Data"
     ]
    }, 
    {
     "cell_type": "code", 
     "collapsed": false, 
     "input": [
      "%cd db"
     ], 
     "language": "python", 
     "outputs": [
      {
       "output_type": "stream", 
       "stream": "stdout", 
       "text": [
        "/w/2013-lamprey/db"
       ]
      }
     ], 
     "prompt_number": 45
    }, 
    {
     "cell_type": "code", 
     "collapsed": true, 
     "input": [
      "!wget -nc http://hgdownload.soe.ucsc.edu/goldenPath/petMar2/bigZips/petMar2.fa.gz;"
     ], 
     "language": "python", 
     "outputs": [], 
     "prompt_number": 32
    }, 
    {
     "cell_type": "code", 
     "collapsed": false, 
     "input": [
      "!ls && gunzip petMar2.fa.gz"
     ], 
     "language": "python", 
     "outputs": [
      {
       "output_type": "stream", 
       "stream": "stdout", 
       "text": [
        "Amphioxus.uniprot.fa  Danio_rerio.Zv9.71.pep.all.fa.gz\tMus_musculus.GRCm38.71.pep.all.fa.gz  Myxinidae.uniprot.fa  petMar2.fa.gz"
       ]
      }
     ], 
     "prompt_number": 33
    }, 
    {
     "cell_type": "code", 
     "collapsed": false, 
     "input": [
      "!formatdb -i petMar2.fa -o T -p F"
     ], 
     "language": "python", 
     "outputs": [], 
     "prompt_number": 48
    }, 
    {
     "cell_type": "code", 
     "collapsed": false, 
     "input": [
      "!echo \"Retrieving mouse, zebrafish, hagfish, and amphioxus proteins\"", 
      "!wget -nc -q ftp://ftp.ensembl.org/pub/release-71/fasta/mus_musculus/pep/Mus_musculus.GRCm38.71.pep.all.fa.gz;", 
      "!wget -nc -q ftp://ftp.ensembl.org/pub/release-71/fasta/danio_rerio/pep/Danio_rerio.Zv9.71.pep.all.fa.gz;"
     ], 
     "language": "python", 
     "outputs": [
      {
       "output_type": "stream", 
       "stream": "stdout", 
       "text": [
        "Retrieving mouse, zebrafish, hagfish, and amphioxus proteins"
       ]
      }, 
      {
       "output_type": "stream", 
       "stream": "stdout", 
       "text": [
        "wget: illegal option -- `-nq'", 
        "Usage: wget [OPTION]... [URL]...", 
        "", 
        "Try `wget --help' for more options."
       ]
      }, 
      {
       "output_type": "stream", 
       "stream": "stdout", 
       "text": [
        "wget: illegal option -- `-nq'", 
        "Usage: wget [OPTION]... [URL]...", 
        "", 
        "Try `wget --help' for more options."
       ]
      }
     ], 
     "prompt_number": 24
    }, 
    {
     "cell_type": "code", 
     "collapsed": false, 
     "input": [
      "!gunzip -c Mus_musculus.GRCm38.71.pep.all.fa.gz > mouse.protein.fa", 
      "!gunzip -c Danio_rerio.Zv9.71.pep.all.fa.gz > zebrafish.protein.fa", 
      "", 
      "!formatdb -i mouse.protein.fa -o T -p T", 
      "!formatdb -i zebrafish.protein.fa -o T -p T"
     ], 
     "language": "python", 
     "outputs": [], 
     "prompt_number": 50
    }, 
    {
     "cell_type": "code", 
     "collapsed": false, 
     "input": [
      "!perl ../scripts/get_uniprot_fam.pl Myxinidae", 
      "!mv Myxinidae.fasta myxinidae.protein.fa"
     ], 
     "language": "python", 
     "outputs": [
      {
       "output_type": "stream", 
       "stream": "stdout", 
       "text": [
        "Downloaded 882 entries of UniProt release 2013_07 (2013-06-26) to file Myxinidae.fasta"
       ]
      }
     ], 
     "prompt_number": 51
    }, 
    {
     "cell_type": "code", 
     "collapsed": false, 
     "input": [
      "!perl ../scripts/get_uniprot_org.pl 7739", 
      "!mv 7739.fasta amphioxus.protein.fa"
     ], 
     "language": "python", 
     "outputs": [
      {
       "output_type": "stream", 
       "stream": "stdout", 
       "text": [
        "Downloaded 29237 entries of UniProt release 2013_07 (2013-06-26) to file 7739.fasta"
       ]
      }
     ], 
     "prompt_number": 52
    }, 
    {
     "cell_type": "code", 
     "collapsed": true, 
     "input": [
      "!formatdb -i amphioxus.protein.fa -o T -p T", 
      "!formatdb -i myxinidae.protein.fa -o T -p T"
     ], 
     "language": "python", 
     "outputs": [], 
     "prompt_number": 53
    }, 
    {
     "cell_type": "code", 
     "collapsed": false, 
     "input": [
      "!wget -nc http://hgdownload.soe.ucsc.edu/goldenPath/petMar2/bigZips/est.fa.gz && gunzip est.fa.gz;", 
      "!wget -nc http://hgdownload.soe.ucsc.edu/goldenPath/petMar2/bigZips/mrna.fa.gz && gunzip mrna.fa.gz;"
     ], 
     "language": "python", 
     "outputs": [
      {
       "output_type": "stream", 
       "stream": "stdout", 
       "text": [
        "--2013-06-26 12:41:34--  http://hgdownload.soe.ucsc.edu/goldenPath/petMar2/bigZips/est.fa.gz", 
        "Resolving hgdownload.soe.ucsc.edu (hgdownload.soe.ucsc.edu)... "
       ]
      }, 
      {
       "output_type": "stream", 
       "stream": "stdout", 
       "text": [
        "128.114.119.163", 
        "Connecting to hgdownload.soe.ucsc.edu (hgdownload.soe.ucsc.edu)|128.114.119.163|:80... "
       ]
      }, 
      {
       "output_type": "stream", 
       "stream": "stdout", 
       "text": [
        "connected.", 
        "HTTP request sent, awaiting response... "
       ]
      }, 
      {
       "output_type": "stream", 
       "stream": "stdout", 
       "text": [
        "200 OK", 
        "Length: 24110582 (23M) [application/x-gzip]", 
        "Saving to: `est.fa.gz'", 
        "", 
        "", 
        " 0% [                                       ] 0           --.-K/s              "
       ]
      }, 
      {
       "output_type": "stream", 
       "stream": "stdout", 
       "text": [
        "", 
        " 0% [                                       ] 70,569       316K/s              "
       ]
      }, 
      {
       "output_type": "stream", 
       "stream": "stdout", 
       "text": [
        "", 
        " 0% [                                       ] 187,857      421K/s              "
       ]
      }, 
      {
       "output_type": "stream", 
       "stream": "stdout", 
       "text": [
        "", 
        " 1% [                                       ] 465,873      716K/s              "
       ]
      }, 
      {
       "output_type": "stream", 
       "stream": "stdout", 
       "text": [
        "", 
        " 4% [>                                      ] 1,075,481   1.23M/s              "
       ]
      }, 
      {
       "output_type": "stream", 
       "stream": "stdout", 
       "text": [
        "", 
        " 8% [==>                                    ] 2,093,425   1.93M/s              "
       ]
      }, 
      {
       "output_type": "stream", 
       "stream": "stdout", 
       "text": [
        "", 
        "15% [=====>                                 ] 3,780,345   2.92M/s              "
       ]
      }, 
      {
       "output_type": "stream", 
       "stream": "stdout", 
       "text": [
        "", 
        "25% [========>                              ] 6,045,017   4.02M/s              "
       ]
      }, 
      {
       "output_type": "stream", 
       "stream": "stdout", 
       "text": [
        "", 
        "34% [============>                          ] 8,319,825   4.85M/s              "
       ]
      }, 
      {
       "output_type": "stream", 
       "stream": "stdout", 
       "text": [
        "", 
        "44% [================>                      ] 10,629,385  5.52M/s              "
       ]
      }, 
      {
       "output_type": "stream", 
       "stream": "stdout", 
       "text": [
        "", 
        "53% [===================>                   ] 12,847,721  5.39M/s              "
       ]
      }, 
      {
       "output_type": "stream", 
       "stream": "stdout", 
       "text": [
        "", 
        "69% [==========================>            ] 16,876,057  6.51M/s              "
       ]
      }, 
      {
       "output_type": "stream", 
       "stream": "stdout", 
       "text": [
        "", 
        "78% [=============================>         ] 18,948,145  6.76M/s              "
       ]
      }, 
      {
       "output_type": "stream", 
       "stream": "stdout", 
       "text": [
        "", 
        "87% [=================================>     ] 21,192,545  7.04M/s              "
       ]
      }, 
      {
       "output_type": "stream", 
       "stream": "stdout", 
       "text": [
        "", 
        "97% [=====================================> ] 23,499,209  7.29M/s  eta 0s      "
       ]
      }, 
      {
       "output_type": "stream", 
       "stream": "stdout", 
       "text": [
        "", 
        "100%[======================================>] 24,110,582  7.36M/s   in 3.1s    ", 
        "", 
        "2013-06-26 12:41:38 (7.36 MB/s) - `est.fa.gz' saved [24110582/24110582]", 
        ""
       ]
      }, 
      {
       "output_type": "stream", 
       "stream": "stdout", 
       "text": [
        "--2013-06-26 12:41:38--  http://hgdownload.soe.ucsc.edu/goldenPath/petMar2/bigZips/mrna.fa.gz", 
        "Resolving hgdownload.soe.ucsc.edu (hgdownload.soe.ucsc.edu)... "
       ]
      }, 
      {
       "output_type": "stream", 
       "stream": "stdout", 
       "text": [
        "128.114.119.163", 
        "Connecting to hgdownload.soe.ucsc.edu (hgdownload.soe.ucsc.edu)|128.114.119.163|:80... "
       ]
      }, 
      {
       "output_type": "stream", 
       "stream": "stdout", 
       "text": [
        "connected.", 
        "HTTP request sent, awaiting response... "
       ]
      }, 
      {
       "output_type": "stream", 
       "stream": "stdout", 
       "text": [
        "200 OK", 
        "Length: 282754 (276K) [application/x-gzip]", 
        "Saving to: `mrna.fa.gz'", 
        "", 
        "", 
        " 0% [                                       ] 0           --.-K/s              "
       ]
      }, 
      {
       "output_type": "stream", 
       "stream": "stdout", 
       "text": [
        "", 
        "23% [========>                              ] 66,229       243K/s              "
       ]
      }, 
      {
       "output_type": "stream", 
       "stream": "stdout", 
       "text": [
        "", 
        "89% [==================================>    ] 254,469      495K/s              "
       ]
      }, 
      {
       "output_type": "stream", 
       "stream": "stdout", 
       "text": [
        "", 
        "100%[======================================>] 282,754      517K/s   in 0.5s    ", 
        "", 
        "2013-06-26 12:41:39 (517 KB/s) - `mrna.fa.gz' saved [282754/282754]", 
        ""
       ]
      }
     ], 
     "prompt_number": 1
    }, 
    {
     "cell_type": "code", 
     "collapsed": true, 
     "input": [
      "!formatdb -i est.fa -o T -p F", 
      "!formatdb -i mrna.fa -o T -p F"
     ], 
     "language": "python", 
     "outputs": [], 
     "prompt_number": 54
    }, 
    {
     "cell_type": "markdown", 
     "source": [
      "We've got data, so let's start the analysis!"
     ]
    }, 
    {
     "cell_type": "code", 
     "collapsed": false, 
     "input": [
      "%cd /w/2013-lamprey"
     ], 
     "language": "python", 
     "outputs": [
      {
       "output_type": "stream", 
       "stream": "stdout", 
       "text": [
        "/w/2013-lamprey"
       ]
      }, 
      {
       "output_type": "stream", 
       "stream": "stdout", 
       "text": [
        ""
       ]
      }
     ], 
     "prompt_number": 61
    }, 
    {
     "cell_type": "markdown", 
     "source": [
      "Where are we at baseline?"
     ]
    }, 
    {
     "cell_type": "code", 
     "collapsed": false, 
     "input": [
      "%run scripts/stats.py 200 ../data/lamp3.fasta"
     ], 
     "language": "python", 
     "outputs": [
      {
       "output_type": "stream", 
       "stream": "stdout", 
       "text": [
        "filename sum n trim_n min med mean max n50 n50_len n90 n90_len", 
        "../data/lamp3.fasta & 756840 & 471187251 & 201 & 367 & 622 & 14839 & 897"
       ]
      }, 
      {
       "output_type": "stream", 
       "stream": "stdout", 
       "text": [
        ""
       ]
      }
     ], 
     "prompt_number": 21
    }, 
    {
     "cell_type": "markdown", 
     "source": [
      "Step 1: Deduplication with CD-HIT-EST", 
      "*We dedupe at 98% identity, with global clustering for maximum accuracy (though slower runtime)", 
      "*This has already been done, so we'll skip it for now"
     ]
    }, 
    {
     "cell_type": "code", 
     "collapsed": true, 
     "input": [
      "#!cd-hit-est -i data/lamp3.fasta -o data/lamp3.dedupe.fa -c .98 -n 9 -g 1 -T 4"
     ], 
     "language": "python", 
     "outputs": []
    }, 
    {
     "cell_type": "markdown", 
     "source": [
      "Step 2: Clean out any contaminants that slipped through, give the post-processed file a new name"
     ]
    }, 
    {
     "cell_type": "code", 
     "collapsed": false, 
     "input": [
      "!seqclean data/lamp3.fasta.dedupe.fa -c 6 -v db/UniVec.fa -o data/petMar_mrna.fa"
     ], 
     "language": "python", 
     "outputs": [
      {
       "output_type": "stream", 
       "stream": "stdout", 
       "text": [
        "* Using trimming files:", 
        " ", 
        "/w/2013-lamprey/db/UniVec.fa", 
        "seqclean running options: ", 
        "seqclean data/lamp3.fasta.dedupe.fa -c 6 -v db/UniVec.fa -o data/petMar_mrna.fa", 
        " Standard log file: seqcl_lamp3.fasta.dedupe.fa.log", 
        " Error log file:    err_seqcl_lamp3.fasta.dedupe.fa.log", 
        " Using 6 CPUs for cleaning", 
        "-= Rebuilding lamp3.fasta.dedupe.fa cdb index =-"
       ]
      }, 
      {
       "output_type": "stream", 
       "stream": "stdout", 
       "text": [
        " Launching actual cleaning process:", 
        " psx -p 6  -n 1000  -i data/lamp3.fasta.dedupe.fa -d cleaning -C '/w/2013-lamprey/data/lamp3.fasta.dedupe.fa:ANLMS100:/w/2013-lamprey/db/UniVec.fa::11:0' -c '/home/chris/bin/seqclean.psx'"
       ]
      }, 
      {
       "output_type": "stream", 
       "stream": "stdout", 
       "text": [
        "Collecting cleaning reports", 
        ""
       ]
      }, 
      {
       "output_type": "stream", 
       "stream": "stdout", 
       "text": [
        "**************************************************", 
        "Sequences analyzed:    672565", 
        "-----------------------------------", 
        "                   valid:    672162  (262294 trimmed)", 
        "                 trashed:       403", 
        "**************************************************", 
        "----= Trashing summary =------", 
        "              by 'shortq':        3", 
        "                by 'dust':      328", 
        "           by 'UniVec.fa':       72", 
        "------------------------------", 
        "Output file containing only valid and trimmed sequences: data/petMar_mrna.fa", 
        "For trimming and trashing details see cleaning report  : lamp3.fasta.dedupe.fa.cln", 
        "--------------------------------------------------"
       ]
      }, 
      {
       "output_type": "stream", 
       "stream": "stdout", 
       "text": [
        "seqclean (data/lamp3.fasta.dedupe.fa) finished on machine ", 
        " in /w/2013-lamprey, without a detectable error."
       ]
      }
     ], 
     "prompt_number": 36
    }, 
    {
     "cell_type": "code", 
     "collapsed": false, 
     "input": [
      "%run scripts/stats.py 200 data/petMar_mrna.fa"
     ], 
     "language": "python", 
     "outputs": [
      {
       "output_type": "stream", 
       "stream": "stdout", 
       "text": [
        "filename sum n trim_n min med mean max n50 n50_len n90 n90_len", 
        "data/petMar_mrna.fa & 650320 & 357321866 & 200 & 340 & 549 & 14839 & 715"
       ]
      }, 
      {
       "output_type": "stream", 
       "stream": "stdout", 
       "text": [
        ""
       ]
      }
     ], 
     "prompt_number": 40
    }, 
    {
     "cell_type": "markdown", 
     "source": [
      "Alright, let's partition"
     ]
    }, 
    {
     "cell_type": "code", 
     "collapsed": false, 
     "input": [
      "%run scripts/do-partition.py -T 4 -k 25 -x 16e9 petMar_part data/petMar_mrna.fa"
     ], 
     "language": "python", 
     "outputs": [
      {
       "output_type": "stream", 
       "stream": "stdout", 
       "text": [
        "Saving hashtable to petMar_part"
       ]
      }, 
      {
       "output_type": "stream", 
       "stream": "stdout", 
       "text": [
        "", 
        "Loading kmers from sequences in ['data/petMar_mrna.fa']", 
        "--", 
        "SUBSET SIZE 100000", 
        "N THREADS 4", 
        "--", 
        "making hashtable", 
        "consuming input"
       ]
      }, 
      {
       "output_type": "stream", 
       "stream": "stdout", 
       "text": [
        " data/petMar_mrna.fa", 
        "..."
       ]
      }, 
      {
       "output_type": "stream", 
       "stream": "stdout", 
       "text": [
        " consume_fasta_and_tag 100000 27753663", 
        "..."
       ]
      }, 
      {
       "output_type": "stream", 
       "stream": "stdout", 
       "text": [
        " consume_fasta_and_tag 200000 59551660", 
        "..."
       ]
      }, 
      {
       "output_type": "stream", 
       "stream": "stdout", 
       "text": [
        " consume_fasta_and_tag 300000 100383881", 
        "..."
       ]
      }, 
      {
       "output_type": "stream", 
       "stream": "stdout", 
       "text": [
        " consume_fasta_and_tag 400000 143671378", 
        "..."
       ]
      }, 
      {
       "output_type": "stream", 
       "stream": "stdout", 
       "text": [
        " consume_fasta_and_tag 500000 188468539", 
        "..."
       ]
      }, 
      {
       "output_type": "stream", 
       "stream": "stdout", 
       "text": [
        " consume_fasta_and_tag 600000 221168905", 
        "fp rate estimated to be 0.000"
       ]
      }, 
      {
       "output_type": "stream", 
       "stream": "stdout", 
       "text": [
        "", 
        "** Traverse all the things: stop_big_traversals is false.", 
        "enqueued 65 subset tasks"
       ]
      }, 
      {
       "output_type": "stream", 
       "stream": "stdout", 
       "text": [
        "", 
        "starting 4 threads", 
        "---", 
        "starting: petMar_part 0", 
        "starting: petMar_part 1", 
        "starting: petMar_part 2", 
        "starting: petMar_part 3", 
        "done starting threads", 
        "saving:"
       ]
      }, 
      {
       "output_type": "stream", 
       "stream": "stdout", 
       "text": [
        " petMar_part 0", 
        "starting:"
       ]
      }, 
      {
       "output_type": "stream", 
       "stream": "stdout", 
       "text": [
        " petMar_part 4", 
        "saving:"
       ]
      }, 
      {
       "output_type": "stream", 
       "stream": "stdout", 
       "text": [
        " petMar_part 1", 
        "starting:"
       ]
      }, 
      {
       "output_type": "stream", 
       "stream": "stdout", 
       "text": [
        " petMar_part 5", 
        "saving:"
       ]
      }, 
      {
       "output_type": "stream", 
       "stream": "stdout", 
       "text": [
        " petMar_part 3", 
        "starting:"
       ]
      }, 
      {
       "output_type": "stream", 
       "stream": "stdout", 
       "text": [
        " petMar_part 6", 
        "saving:"
       ]
      }, 
      {
       "output_type": "stream", 
       "stream": "stdout", 
       "text": [
        " petMar_part 2", 
        "starting:"
       ]
      }, 
      {
       "output_type": "stream", 
       "stream": "stdout", 
       "text": [
        " petMar_part 7", 
        "saving:"
       ]
      }, 
      {
       "output_type": "stream", 
       "stream": "stdout", 
       "text": [
        " petMar_part 4", 
        "starting:"
       ]
      }, 
      {
       "output_type": "stream", 
       "stream": "stdout", 
       "text": [
        " petMar_part 8", 
        "saving:"
       ]
      }, 
      {
       "output_type": "stream", 
       "stream": "stdout", 
       "text": [
        " petMar_part 5", 
        "starting:"
       ]
      }, 
      {
       "output_type": "stream", 
       "stream": "stdout", 
       "text": [
        " petMar_part 9", 
        "saving:"
       ]
      }, 
      {
       "output_type": "stream", 
       "stream": "stdout", 
       "text": [
        " petMar_part 7", 
        "starting:"
       ]
      }, 
      {
       "output_type": "stream", 
       "stream": "stdout", 
       "text": [
        " petMar_part 10", 
        "saving:"
       ]
      }, 
      {
       "output_type": "stream", 
       "stream": "stdout", 
       "text": [
        " petMar_part 6", 
        "starting:"
       ]
      }, 
      {
       "output_type": "stream", 
       "stream": "stdout", 
       "text": [
        " petMar_part 11", 
        "saving:"
       ]
      }, 
      {
       "output_type": "stream", 
       "stream": "stdout", 
       "text": [
        " petMar_part 8", 
        "starting:"
       ]
      }, 
      {
       "output_type": "stream", 
       "stream": "stdout", 
       "text": [
        " petMar_part 12", 
        "saving:"
       ]
      }, 
      {
       "output_type": "stream", 
       "stream": "stdout", 
       "text": [
        " petMar_part 9", 
        "starting:"
       ]
      }, 
      {
       "output_type": "stream", 
       "stream": "stdout", 
       "text": [
        " petMar_part 13", 
        "saving:"
       ]
      }, 
      {
       "output_type": "stream", 
       "stream": "stdout", 
       "text": [
        " petMar_part 11", 
        "starting:"
       ]
      }, 
      {
       "output_type": "stream", 
       "stream": "stdout", 
       "text": [
        " petMar_part 14", 
        "saving:"
       ]
      }, 
      {
       "output_type": "stream", 
       "stream": "stdout", 
       "text": [
        " petMar_part 10", 
        "starting:"
       ]
      }, 
      {
       "output_type": "stream", 
       "stream": "stdout", 
       "text": [
        " petMar_part 15", 
        "saving:"
       ]
      }, 
      {
       "output_type": "stream", 
       "stream": "stdout", 
       "text": [
        " petMar_part 12", 
        "starting:"
       ]
      }, 
      {
       "output_type": "stream", 
       "stream": "stdout", 
       "text": [
        " petMar_part 16", 
        "saving:"
       ]
      }, 
      {
       "output_type": "stream", 
       "stream": "stdout", 
       "text": [
        " petMar_part 13", 
        "starting:"
       ]
      }, 
      {
       "output_type": "stream", 
       "stream": "stdout", 
       "text": [
        " petMar_part 17", 
        "saving:"
       ]
      }, 
      {
       "output_type": "stream", 
       "stream": "stdout", 
       "text": [
        " petMar_part 14", 
        "starting:"
       ]
      }, 
      {
       "output_type": "stream", 
       "stream": "stdout", 
       "text": [
        " petMar_part 18", 
        "saving:"
       ]
      }, 
      {
       "output_type": "stream", 
       "stream": "stdout", 
       "text": [
        " petMar_part 15", 
        "starting:"
       ]
      }, 
      {
       "output_type": "stream", 
       "stream": "stdout", 
       "text": [
        " petMar_part 19", 
        "saving:"
       ]
      }, 
      {
       "output_type": "stream", 
       "stream": "stdout", 
       "text": [
        " petMar_part 16", 
        "starting:"
       ]
      }, 
      {
       "output_type": "stream", 
       "stream": "stdout", 
       "text": [
        " petMar_part 20", 
        "saving:"
       ]
      }, 
      {
       "output_type": "stream", 
       "stream": "stdout", 
       "text": [
        " petMar_part 17", 
        "starting:"
       ]
      }, 
      {
       "output_type": "stream", 
       "stream": "stdout", 
       "text": [
        " petMar_part 21", 
        "saving:"
       ]
      }, 
      {
       "output_type": "stream", 
       "stream": "stdout", 
       "text": [
        " petMar_part 19", 
        "starting:"
       ]
      }, 
      {
       "output_type": "stream", 
       "stream": "stdout", 
       "text": [
        " petMar_part 22", 
        "saving:"
       ]
      }, 
      {
       "output_type": "stream", 
       "stream": "stdout", 
       "text": [
        " petMar_part 18", 
        "starting:"
       ]
      }, 
      {
       "output_type": "stream", 
       "stream": "stdout", 
       "text": [
        " petMar_part 23", 
        "saving:"
       ]
      }, 
      {
       "output_type": "stream", 
       "stream": "stdout", 
       "text": [
        " petMar_part 20", 
        "starting:"
       ]
      }, 
      {
       "output_type": "stream", 
       "stream": "stdout", 
       "text": [
        " petMar_part 24", 
        "saving:"
       ]
      }, 
      {
       "output_type": "stream", 
       "stream": "stdout", 
       "text": [
        " petMar_part 23", 
        "starting:"
       ]
      }, 
      {
       "output_type": "stream", 
       "stream": "stdout", 
       "text": [
        " petMar_part 25", 
        "saving:"
       ]
      }, 
      {
       "output_type": "stream", 
       "stream": "stdout", 
       "text": [
        " petMar_part 22", 
        "starting:"
       ]
      }, 
      {
       "output_type": "stream", 
       "stream": "stdout", 
       "text": [
        " petMar_part 26", 
        "saving:"
       ]
      }, 
      {
       "output_type": "stream", 
       "stream": "stdout", 
       "text": [
        " petMar_part 21", 
        "starting:"
       ]
      }, 
      {
       "output_type": "stream", 
       "stream": "stdout", 
       "text": [
        " petMar_part 27", 
        "saving:"
       ]
      }, 
      {
       "output_type": "stream", 
       "stream": "stdout", 
       "text": [
        " petMar_part 24", 
        "starting:"
       ]
      }, 
      {
       "output_type": "stream", 
       "stream": "stdout", 
       "text": [
        " petMar_part 28", 
        "saving:"
       ]
      }, 
      {
       "output_type": "stream", 
       "stream": "stdout", 
       "text": [
        " petMar_part 25", 
        "starting:"
       ]
      }, 
      {
       "output_type": "stream", 
       "stream": "stdout", 
       "text": [
        " petMar_part 29", 
        "saving:"
       ]
      }, 
      {
       "output_type": "stream", 
       "stream": "stdout", 
       "text": [
        " petMar_part 27", 
        "starting:"
       ]
      }, 
      {
       "output_type": "stream", 
       "stream": "stdout", 
       "text": [
        " petMar_part 30", 
        "saving:"
       ]
      }, 
      {
       "output_type": "stream", 
       "stream": "stdout", 
       "text": [
        " petMar_part 26", 
        "starting:"
       ]
      }, 
      {
       "output_type": "stream", 
       "stream": "stdout", 
       "text": [
        " petMar_part 31", 
        "saving:"
       ]
      }, 
      {
       "output_type": "stream", 
       "stream": "stdout", 
       "text": [
        " petMar_part 28", 
        "starting:"
       ]
      }, 
      {
       "output_type": "stream", 
       "stream": "stdout", 
       "text": [
        " petMar_part 32", 
        "saving:"
       ]
      }, 
      {
       "output_type": "stream", 
       "stream": "stdout", 
       "text": [
        " petMar_part 29", 
        "starting:"
       ]
      }, 
      {
       "output_type": "stream", 
       "stream": "stdout", 
       "text": [
        " petMar_part 33", 
        "saving:"
       ]
      }, 
      {
       "output_type": "stream", 
       "stream": "stdout", 
       "text": [
        " petMar_part 30", 
        "starting:"
       ]
      }, 
      {
       "output_type": "stream", 
       "stream": "stdout", 
       "text": [
        " petMar_part 34", 
        "saving:"
       ]
      }, 
      {
       "output_type": "stream", 
       "stream": "stdout", 
       "text": [
        " petMar_part 33", 
        "starting:"
       ]
      }, 
      {
       "output_type": "stream", 
       "stream": "stdout", 
       "text": [
        " petMar_part 35", 
        "saving:"
       ]
      }, 
      {
       "output_type": "stream", 
       "stream": "stdout", 
       "text": [
        " petMar_part 31", 
        "starting:"
       ]
      }, 
      {
       "output_type": "stream", 
       "stream": "stdout", 
       "text": [
        " petMar_part 36", 
        "saving:"
       ]
      }, 
      {
       "output_type": "stream", 
       "stream": "stdout", 
       "text": [
        " petMar_part 32", 
        "starting:"
       ]
      }, 
      {
       "output_type": "stream", 
       "stream": "stdout", 
       "text": [
        " petMar_part 37", 
        "saving:"
       ]
      }, 
      {
       "output_type": "stream", 
       "stream": "stdout", 
       "text": [
        " petMar_part 34", 
        "starting:"
       ]
      }, 
      {
       "output_type": "stream", 
       "stream": "stdout", 
       "text": [
        " petMar_part 38", 
        "saving:"
       ]
      }, 
      {
       "output_type": "stream", 
       "stream": "stdout", 
       "text": [
        " petMar_part 35", 
        "starting:"
       ]
      }, 
      {
       "output_type": "stream", 
       "stream": "stdout", 
       "text": [
        " petMar_part 39", 
        "saving:"
       ]
      }, 
      {
       "output_type": "stream", 
       "stream": "stdout", 
       "text": [
        " petMar_part 36", 
        "starting:"
       ]
      }, 
      {
       "output_type": "stream", 
       "stream": "stdout", 
       "text": [
        " petMar_part 40", 
        "saving:"
       ]
      }, 
      {
       "output_type": "stream", 
       "stream": "stdout", 
       "text": [
        " petMar_part 37", 
        "starting:"
       ]
      }, 
      {
       "output_type": "stream", 
       "stream": "stdout", 
       "text": [
        " petMar_part 41", 
        "saving:"
       ]
      }, 
      {
       "output_type": "stream", 
       "stream": "stdout", 
       "text": [
        " petMar_part 38", 
        "starting:"
       ]
      }, 
      {
       "output_type": "stream", 
       "stream": "stdout", 
       "text": [
        " petMar_part 42", 
        "saving:"
       ]
      }, 
      {
       "output_type": "stream", 
       "stream": "stdout", 
       "text": [
        " petMar_part 40", 
        "starting:"
       ]
      }, 
      {
       "output_type": "stream", 
       "stream": "stdout", 
       "text": [
        " petMar_part 43", 
        "saving:"
       ]
      }, 
      {
       "output_type": "stream", 
       "stream": "stdout", 
       "text": [
        " petMar_part 39", 
        "starting:"
       ]
      }, 
      {
       "output_type": "stream", 
       "stream": "stdout", 
       "text": [
        " petMar_part 44", 
        "saving:"
       ]
      }, 
      {
       "output_type": "stream", 
       "stream": "stdout", 
       "text": [
        " petMar_part 41", 
        "starting:"
       ]
      }, 
      {
       "output_type": "stream", 
       "stream": "stdout", 
       "text": [
        " petMar_part 45", 
        "saving:"
       ]
      }, 
      {
       "output_type": "stream", 
       "stream": "stdout", 
       "text": [
        " petMar_part 42", 
        "starting:"
       ]
      }, 
      {
       "output_type": "stream", 
       "stream": "stdout", 
       "text": [
        " petMar_part 46", 
        "saving:"
       ]
      }, 
      {
       "output_type": "stream", 
       "stream": "stdout", 
       "text": [
        " petMar_part 43", 
        "starting:"
       ]
      }, 
      {
       "output_type": "stream", 
       "stream": "stdout", 
       "text": [
        " petMar_part 47", 
        "saving:"
       ]
      }, 
      {
       "output_type": "stream", 
       "stream": "stdout", 
       "text": [
        " petMar_part 44", 
        "starting:"
       ]
      }, 
      {
       "output_type": "stream", 
       "stream": "stdout", 
       "text": [
        " petMar_part 48", 
        "saving:"
       ]
      }, 
      {
       "output_type": "stream", 
       "stream": "stdout", 
       "text": [
        " petMar_part 45", 
        "starting:"
       ]
      }, 
      {
       "output_type": "stream", 
       "stream": "stdout", 
       "text": [
        " petMar_part 49", 
        "saving:"
       ]
      }, 
      {
       "output_type": "stream", 
       "stream": "stdout", 
       "text": [
        " petMar_part 46", 
        "starting:"
       ]
      }, 
      {
       "output_type": "stream", 
       "stream": "stdout", 
       "text": [
        " petMar_part 50", 
        "saving:"
       ]
      }, 
      {
       "output_type": "stream", 
       "stream": "stdout", 
       "text": [
        " petMar_part 48", 
        "starting:"
       ]
      }, 
      {
       "output_type": "stream", 
       "stream": "stdout", 
       "text": [
        " petMar_part 51", 
        "saving:"
       ]
      }, 
      {
       "output_type": "stream", 
       "stream": "stdout", 
       "text": [
        " petMar_part 47", 
        "starting:"
       ]
      }, 
      {
       "output_type": "stream", 
       "stream": "stdout", 
       "text": [
        " petMar_part 52", 
        "saving:"
       ]
      }, 
      {
       "output_type": "stream", 
       "stream": "stdout", 
       "text": [
        " petMar_part 49", 
        "starting:"
       ]
      }, 
      {
       "output_type": "stream", 
       "stream": "stdout", 
       "text": [
        " petMar_part 53", 
        "saving:"
       ]
      }, 
      {
       "output_type": "stream", 
       "stream": "stdout", 
       "text": [
        " petMar_part 50", 
        "starting:"
       ]
      }, 
      {
       "output_type": "stream", 
       "stream": "stdout", 
       "text": [
        " petMar_part 54", 
        "saving:"
       ]
      }, 
      {
       "output_type": "stream", 
       "stream": "stdout", 
       "text": [
        " petMar_part 52", 
        "starting:"
       ]
      }, 
      {
       "output_type": "stream", 
       "stream": "stdout", 
       "text": [
        " petMar_part 55", 
        "saving:"
       ]
      }, 
      {
       "output_type": "stream", 
       "stream": "stdout", 
       "text": [
        " petMar_part 51", 
        "starting:"
       ]
      }, 
      {
       "output_type": "stream", 
       "stream": "stdout", 
       "text": [
        " petMar_part 56", 
        "saving:"
       ]
      }, 
      {
       "output_type": "stream", 
       "stream": "stdout", 
       "text": [
        " petMar_part 54", 
        "starting:"
       ]
      }, 
      {
       "output_type": "stream", 
       "stream": "stdout", 
       "text": [
        " petMar_part 57", 
        "saving:"
       ]
      }, 
      {
       "output_type": "stream", 
       "stream": "stdout", 
       "text": [
        " petMar_part 53", 
        "starting:"
       ]
      }, 
      {
       "output_type": "stream", 
       "stream": "stdout", 
       "text": [
        " petMar_part 58", 
        "saving:"
       ]
      }, 
      {
       "output_type": "stream", 
       "stream": "stdout", 
       "text": [
        " petMar_part 55", 
        "starting:"
       ]
      }, 
      {
       "output_type": "stream", 
       "stream": "stdout", 
       "text": [
        " petMar_part 59", 
        "saving:"
       ]
      }, 
      {
       "output_type": "stream", 
       "stream": "stdout", 
       "text": [
        " petMar_part 57", 
        "starting:"
       ]
      }, 
      {
       "output_type": "stream", 
       "stream": "stdout", 
       "text": [
        " petMar_part 60", 
        "saving:"
       ]
      }, 
      {
       "output_type": "stream", 
       "stream": "stdout", 
       "text": [
        " petMar_part 56", 
        "starting:"
       ]
      }, 
      {
       "output_type": "stream", 
       "stream": "stdout", 
       "text": [
        " petMar_part 61", 
        "saving:"
       ]
      }, 
      {
       "output_type": "stream", 
       "stream": "stdout", 
       "text": [
        " petMar_part 58", 
        "starting:"
       ]
      }, 
      {
       "output_type": "stream", 
       "stream": "stdout", 
       "text": [
        " petMar_part 62", 
        "saving:"
       ]
      }, 
      {
       "output_type": "stream", 
       "stream": "stdout", 
       "text": [
        " petMar_part 60", 
        "starting:"
       ]
      }, 
      {
       "output_type": "stream", 
       "stream": "stdout", 
       "text": [
        " petMar_part 63", 
        "saving:"
       ]
      }, 
      {
       "output_type": "stream", 
       "stream": "stdout", 
       "text": [
        " petMar_part 59", 
        "starting:"
       ]
      }, 
      {
       "output_type": "stream", 
       "stream": "stdout", 
       "text": [
        " petMar_part 64", 
        "saving:"
       ]
      }, 
      {
       "output_type": "stream", 
       "stream": "stdout", 
       "text": [
        " petMar_part 61", 
        "exiting"
       ]
      }, 
      {
       "output_type": "stream", 
       "stream": "stdout", 
       "text": [
        "", 
        "saving:"
       ]
      }, 
      {
       "output_type": "stream", 
       "stream": "stdout", 
       "text": [
        " petMar_part 62", 
        "exiting"
       ]
      }, 
      {
       "output_type": "stream", 
       "stream": "stdout", 
       "text": [
        "", 
        "saving:"
       ]
      }, 
      {
       "output_type": "stream", 
       "stream": "stdout", 
       "text": [
        " petMar_part 64", 
        "exiting"
       ]
      }, 
      {
       "output_type": "stream", 
       "stream": "stdout", 
       "text": [
        "", 
        "saving:"
       ]
      }, 
      {
       "output_type": "stream", 
       "stream": "stdout", 
       "text": [
        " petMar_part 63", 
        "exiting"
       ]
      }, 
      {
       "output_type": "stream", 
       "stream": "stdout", 
       "text": [
        "", 
        "---", 
        "done making subsets! see petMar_part.subset.*.pmap", 
        "loading 65 pmap files (first one: petMar_part.subset.41.pmap)", 
        "merging"
       ]
      }, 
      {
       "output_type": "stream", 
       "stream": "stdout", 
       "text": [
        " petMar_part.subset.41.pmap", 
        "merging"
       ]
      }, 
      {
       "output_type": "stream", 
       "stream": "stdout", 
       "text": [
        " petMar_part.subset.36.pmap", 
        "merging"
       ]
      }, 
      {
       "output_type": "stream", 
       "stream": "stdout", 
       "text": [
        " petMar_part.subset.23.pmap", 
        "merging"
       ]
      }, 
      {
       "output_type": "stream", 
       "stream": "stdout", 
       "text": [
        " petMar_part.subset.6.pmap", 
        "merging"
       ]
      }, 
      {
       "output_type": "stream", 
       "stream": "stdout", 
       "text": [
        " petMar_part.subset.11.pmap", 
        "merging"
       ]
      }, 
      {
       "output_type": "stream", 
       "stream": "stdout", 
       "text": [
        " petMar_part.subset.8.pmap", 
        "merging"
       ]
      }, 
      {
       "output_type": "stream", 
       "stream": "stdout", 
       "text": [
        " petMar_part.subset.45.pmap", 
        "merging"
       ]
      }, 
      {
       "output_type": "stream", 
       "stream": "stdout", 
       "text": [
        " petMar_part.subset.15.pmap", 
        "merging"
       ]
      }, 
      {
       "output_type": "stream", 
       "stream": "stdout", 
       "text": [
        " petMar_part.subset.27.pmap", 
        "merging"
       ]
      }, 
      {
       "output_type": "stream", 
       "stream": "stdout", 
       "text": [
        " petMar_part.subset.20.pmap", 
        "merging"
       ]
      }, 
      {
       "output_type": "stream", 
       "stream": "stdout", 
       "text": [
        " petMar_part.subset.43.pmap", 
        "merging"
       ]
      }, 
      {
       "output_type": "stream", 
       "stream": "stdout", 
       "text": [
        " petMar_part.subset.22.pmap", 
        "merging"
       ]
      }, 
      {
       "output_type": "stream", 
       "stream": "stdout", 
       "text": [
        " petMar_part.subset.3.pmap", 
        "merging"
       ]
      }, 
      {
       "output_type": "stream", 
       "stream": "stdout", 
       "text": [
        " petMar_part.subset.28.pmap", 
        "merging"
       ]
      }, 
      {
       "output_type": "stream", 
       "stream": "stdout", 
       "text": [
        " petMar_part.subset.44.pmap", 
        "merging"
       ]
      }, 
      {
       "output_type": "stream", 
       "stream": "stdout", 
       "text": [
        " petMar_part.subset.42.pmap", 
        "merging"
       ]
      }, 
      {
       "output_type": "stream", 
       "stream": "stdout", 
       "text": [
        " petMar_part.subset.54.pmap", 
        "merging"
       ]
      }, 
      {
       "output_type": "stream", 
       "stream": "stdout", 
       "text": [
        " petMar_part.subset.59.pmap", 
        "merging"
       ]
      }, 
      {
       "output_type": "stream", 
       "stream": "stdout", 
       "text": [
        " petMar_part.subset.62.pmap", 
        "merging"
       ]
      }, 
      {
       "output_type": "stream", 
       "stream": "stdout", 
       "text": [
        " petMar_part.subset.53.pmap", 
        "merging"
       ]
      }, 
      {
       "output_type": "stream", 
       "stream": "stdout", 
       "text": [
        " petMar_part.subset.58.pmap", 
        "merging"
       ]
      }, 
      {
       "output_type": "stream", 
       "stream": "stdout", 
       "text": [
        " petMar_part.subset.61.pmap", 
        "merging"
       ]
      }, 
      {
       "output_type": "stream", 
       "stream": "stdout", 
       "text": [
        " petMar_part.subset.46.pmap", 
        "merging"
       ]
      }, 
      {
       "output_type": "stream", 
       "stream": "stdout", 
       "text": [
        " petMar_part.subset.37.pmap", 
        "merging"
       ]
      }, 
      {
       "output_type": "stream", 
       "stream": "stdout", 
       "text": [
        " petMar_part.subset.24.pmap", 
        "merging"
       ]
      }, 
      {
       "output_type": "stream", 
       "stream": "stdout", 
       "text": [
        " petMar_part.subset.63.pmap", 
        "merging"
       ]
      }, 
      {
       "output_type": "stream", 
       "stream": "stdout", 
       "text": [
        " petMar_part.subset.5.pmap", 
        "merging"
       ]
      }, 
      {
       "output_type": "stream", 
       "stream": "stdout", 
       "text": [
        " petMar_part.subset.19.pmap", 
        "merging"
       ]
      }, 
      {
       "output_type": "stream", 
       "stream": "stdout", 
       "text": [
        " petMar_part.subset.34.pmap", 
        "merging"
       ]
      }, 
      {
       "output_type": "stream", 
       "stream": "stdout", 
       "text": [
        " petMar_part.subset.12.pmap", 
        "merging"
       ]
      }, 
      {
       "output_type": "stream", 
       "stream": "stdout", 
       "text": [
        " petMar_part.subset.13.pmap", 
        "merging"
       ]
      }, 
      {
       "output_type": "stream", 
       "stream": "stdout", 
       "text": [
        " petMar_part.subset.16.pmap", 
        "merging"
       ]
      }, 
      {
       "output_type": "stream", 
       "stream": "stdout", 
       "text": [
        " petMar_part.subset.2.pmap", 
        "merging"
       ]
      }, 
      {
       "output_type": "stream", 
       "stream": "stdout", 
       "text": [
        " petMar_part.subset.33.pmap", 
        "merging"
       ]
      }, 
      {
       "output_type": "stream", 
       "stream": "stdout", 
       "text": [
        " petMar_part.subset.26.pmap", 
        "merging"
       ]
      }, 
      {
       "output_type": "stream", 
       "stream": "stdout", 
       "text": [
        " petMar_part.subset.49.pmap", 
        "merging"
       ]
      }, 
      {
       "output_type": "stream", 
       "stream": "stdout", 
       "text": [
        " petMar_part.subset.32.pmap", 
        "merging"
       ]
      }, 
      {
       "output_type": "stream", 
       "stream": "stdout", 
       "text": [
        " petMar_part.subset.60.pmap", 
        "merging"
       ]
      }, 
      {
       "output_type": "stream", 
       "stream": "stdout", 
       "text": [
        " petMar_part.subset.48.pmap", 
        "merging"
       ]
      }, 
      {
       "output_type": "stream", 
       "stream": "stdout", 
       "text": [
        " petMar_part.subset.14.pmap", 
        "merging"
       ]
      }, 
      {
       "output_type": "stream", 
       "stream": "stdout", 
       "text": [
        " petMar_part.subset.0.pmap", 
        "merging"
       ]
      }, 
      {
       "output_type": "stream", 
       "stream": "stdout", 
       "text": [
        " petMar_part.subset.57.pmap", 
        "merging"
       ]
      }, 
      {
       "output_type": "stream", 
       "stream": "stdout", 
       "text": [
        " petMar_part.subset.39.pmap", 
        "merging"
       ]
      }, 
      {
       "output_type": "stream", 
       "stream": "stdout", 
       "text": [
        " petMar_part.subset.25.pmap", 
        "merging"
       ]
      }, 
      {
       "output_type": "stream", 
       "stream": "stdout", 
       "text": [
        " petMar_part.subset.4.pmap", 
        "merging"
       ]
      }, 
      {
       "output_type": "stream", 
       "stream": "stdout", 
       "text": [
        " petMar_part.subset.50.pmap", 
        "merging"
       ]
      }, 
      {
       "output_type": "stream", 
       "stream": "stdout", 
       "text": [
        " petMar_part.subset.52.pmap", 
        "merging"
       ]
      }, 
      {
       "output_type": "stream", 
       "stream": "stdout", 
       "text": [
        " petMar_part.subset.1.pmap", 
        "merging"
       ]
      }, 
      {
       "output_type": "stream", 
       "stream": "stdout", 
       "text": [
        " petMar_part.subset.31.pmap", 
        "merging"
       ]
      }, 
      {
       "output_type": "stream", 
       "stream": "stdout", 
       "text": [
        " petMar_part.subset.10.pmap", 
        "merging"
       ]
      }, 
      {
       "output_type": "stream", 
       "stream": "stdout", 
       "text": [
        " petMar_part.subset.18.pmap", 
        "merging"
       ]
      }, 
      {
       "output_type": "stream", 
       "stream": "stdout", 
       "text": [
        " petMar_part.subset.29.pmap", 
        "merging"
       ]
      }, 
      {
       "output_type": "stream", 
       "stream": "stdout", 
       "text": [
        " petMar_part.subset.35.pmap", 
        "merging"
       ]
      }, 
      {
       "output_type": "stream", 
       "stream": "stdout", 
       "text": [
        " petMar_part.subset.30.pmap", 
        "merging"
       ]
      }, 
      {
       "output_type": "stream", 
       "stream": "stdout", 
       "text": [
        " petMar_part.subset.64.pmap", 
        "merging"
       ]
      }, 
      {
       "output_type": "stream", 
       "stream": "stdout", 
       "text": [
        " petMar_part.subset.55.pmap", 
        "merging"
       ]
      }, 
      {
       "output_type": "stream", 
       "stream": "stdout", 
       "text": [
        " petMar_part.subset.7.pmap", 
        "merging"
       ]
      }, 
      {
       "output_type": "stream", 
       "stream": "stdout", 
       "text": [
        " petMar_part.subset.56.pmap", 
        "merging"
       ]
      }, 
      {
       "output_type": "stream", 
       "stream": "stdout", 
       "text": [
        " petMar_part.subset.40.pmap", 
        "merging"
       ]
      }, 
      {
       "output_type": "stream", 
       "stream": "stdout", 
       "text": [
        " petMar_part.subset.21.pmap", 
        "merging"
       ]
      }, 
      {
       "output_type": "stream", 
       "stream": "stdout", 
       "text": [
        " petMar_part.subset.47.pmap", 
        "merging"
       ]
      }, 
      {
       "output_type": "stream", 
       "stream": "stdout", 
       "text": [
        " petMar_part.subset.17.pmap", 
        "merging"
       ]
      }, 
      {
       "output_type": "stream", 
       "stream": "stdout", 
       "text": [
        " petMar_part.subset.51.pmap", 
        "merging"
       ]
      }, 
      {
       "output_type": "stream", 
       "stream": "stdout", 
       "text": [
        " petMar_part.subset.38.pmap", 
        "merging"
       ]
      }, 
      {
       "output_type": "stream", 
       "stream": "stdout", 
       "text": [
        " petMar_part.subset.9.pmap", 
        "removing pmap files"
       ]
      }, 
      {
       "output_type": "stream", 
       "stream": "stdout", 
       "text": [
        "", 
        "outputting partitions for data/petMar_mrna.fa", 
        "..."
       ]
      }, 
      {
       "output_type": "stream", 
       "stream": "stdout", 
       "text": [
        " output_partitions 100000 0", 
        "..."
       ]
      }, 
      {
       "output_type": "stream", 
       "stream": "stdout", 
       "text": [
        " output_partitions 200000 0", 
        "..."
       ]
      }, 
      {
       "output_type": "stream", 
       "stream": "stdout", 
       "text": [
        " output_partitions 300000 0", 
        "..."
       ]
      }, 
      {
       "output_type": "stream", 
       "stream": "stdout", 
       "text": [
        " output_partitions 400000 0", 
        "..."
       ]
      }, 
      {
       "output_type": "stream", 
       "stream": "stdout", 
       "text": [
        " output_partitions 500000 0", 
        "..."
       ]
      }, 
      {
       "output_type": "stream", 
       "stream": "stdout", 
       "text": [
        " output_partitions 600000 0", 
        "output 263536 partitions for data/petMar_mrna.fa"
       ]
      }, 
      {
       "output_type": "stream", 
       "stream": "stdout", 
       "text": [
        "", 
        "partitions are in petMar_mrna.fa.part"
       ]
      }, 
      {
       "output_type": "stream", 
       "stream": "stderr", 
       "text": [
        "", 
        "PARAMETERS:", 
        " - kmer size =    25 \t\t(-k)", 
        " - n hashes =     4 \t\t(-N)", 
        " - min hashsize = 1.6e+10 \t(-x)", 
        "", 
        "Estimated memory usage is 8e+09 bytes (n_hashes x min_hashsize / 8)", 
        "--------"
       ]
      }
     ], 
     "prompt_number": 64
    }, 
    {
     "cell_type": "markdown", 
     "source": [
      "And now lamp0..."
     ]
    }, 
    {
     "cell_type": "code", 
     "collapsed": false, 
     "input": [
      "!mv petMar_mrna.fa.part data/", 
      "!mv petMar_part.info data/"
     ], 
     "language": "python", 
     "outputs": [
      {
       "output_type": "stream", 
       "stream": "stdout", 
       "text": [
        "mv: cannot stat `petMar_mrna.fa.part': No such file or directory"
       ]
      }
     ], 
     "prompt_number": 70
    }, 
    {
     "cell_type": "code", 
     "collapsed": true, 
     "input": [
      "%run scripts/do-partition.py -T 8 -k 25 -x 16e9 lamp0_part data/lamp0.fasta"
     ], 
     "language": "python", 
     "outputs": []
    }, 
    {
     "cell_type": "markdown", 
     "source": [
      "And now both!"
     ]
    }, 
    {
     "cell_type": "code", 
     "collapsed": true, 
     "input": [
      "%run scripts/do-partition.py -T 8 -k 25 -x 16e9 petMar_lamp0_part data/petMar_mrna.fa data/lamp0.fasta"
     ], 
     "language": "python", 
     "outputs": []
    }, 
    {
     "cell_type": "markdown", 
     "source": [
      "Let the BLASTing begin!"
     ]
    }, 
    {
     "cell_type": "code", 
     "collapsed": false, 
     "input": [
      "blast_cols = \"qseqid sseqid length nident qstart qend sstart send bitscore evalue\"", 
      "blast_fmt = \"10 \" + blast_cols"
     ], 
     "language": "python", 
     "outputs": [], 
     "prompt_number": 55
    }, 
    {
     "cell_type": "code", 
     "collapsed": false, 
     "input": [
      "!blastn -query data/petMar_mrna.fa.part -db db/est.fa -out data/x.EST.csv -num_threads 8 -evalue 0.00001 -outfmt \"{blast_fmt}\""
     ], 
     "language": "python", 
     "outputs": [], 
     "prompt_number": 73
    }, 
    {
     "cell_type": "code", 
     "collapsed": false, 
     "input": [
      "!wc -l data/x.EST.csv"
     ], 
     "language": "python", 
     "outputs": [
      {
       "output_type": "stream", 
       "stream": "stdout", 
       "text": [
        "437567 data/x.EST.csv"
       ]
      }
     ], 
     "prompt_number": 74
    }, 
    {
     "cell_type": "code", 
     "collapsed": true, 
     "input": [
      "!blastn -query data/petMar_mrna.fa.part -db db/lamp0.fasta data/x.lamp0.csv -num_threads 8 -evalue 0.00001 -outfmt \"{blast_fmt}\""
     ], 
     "language": "python", 
     "outputs": []
    }, 
    {
     "cell_type": "code", 
     "collapsed": true, 
     "input": [
      "!blastn -query data/petMar_mrna.fa.part -db db/petMar2.fa data/x.genome.csv -num_threads 8 -evalue 0.00001 -outfmt \"{blast_fmt}\""
     ], 
     "language": "python", 
     "outputs": []
    }, 
    {
     "cell_type": "markdown", 
     "source": [
      "Let's do some partition analysis"
     ]
    }, 
    {
     "cell_type": "code", 
     "collapsed": false, 
     "input": [
      "petMar_mrna_PS = hb.PartitionSet.associateHits('data/petMar_mrna.fa.part', 'data/x.EST.csv')"
     ], 
     "language": "python", 
     "outputs": [
      {
       "output_type": "stream", 
       "stream": "stdout", 
       "text": [
        "Parsing hits...", 
        "Parsed 0 rows...", 
        "comp694_c0_seq1,EE278148,392,0.0,65,456", 
        "Parsed"
       ]
      }, 
      {
       "output_type": "stream", 
       "stream": "stdout", 
       "text": [
        " 10000 rows...", 
        "comp405387_c0_seq1,DY254282,202,3e-103,1,202", 
        "Parsed"
       ]
      }, 
      {
       "output_type": "stream", 
       "stream": "stdout", 
       "text": [
        " 20000 rows...", 
        "comp558701_c1_seq1,EE278125,52,2e-12,18,69", 
        "Parsed"
       ]
      }, 
      {
       "output_type": "stream", 
       "stream": "stdout", 
       "text": [
        " 30000 rows...", 
        "comp594053_c0_seq2,FD721492,52,1e-14,246,297", 
        "Parsed"
       ]
      }, 
      {
       "output_type": "stream", 
       "stream": "stdout", 
       "text": [
        " 40000 rows...", 
        "comp609682_c0_seq1,EG334700,107,3e-41,1,106", 
        "Parsed"
       ]
      }, 
      {
       "output_type": "stream", 
       "stream": "stdout", 
       "text": [
        " 50000 rows...", 
        "comp620874_c0_seq2,CO546164,100,4e-46,1,100", 
        "Parsed"
       ]
      }, 
      {
       "output_type": "stream", 
       "stream": "stdout", 
       "text": [
        " 60000 rows...", 
        "comp626339_c2_seq3,EG339030,62,5e-13,233,293", 
        "Parsed"
       ]
      }, 
      {
       "output_type": "stream", 
       "stream": "stdout", 
       "text": [
        " 70000 rows...", 
        "comp629939_c0_seq2,FD718508,650,0.0,90,739", 
        "Parsed"
       ]
      }, 
      {
       "output_type": "stream", 
       "stream": "stdout", 
       "text": [
        " 80000 rows...", 
        "comp632132_c5_seq12,FD702652,726,0.0,1233,1957", 
        "Parsed"
       ]
      }, 
      {
       "output_type": "stream", 
       "stream": "stdout", 
       "text": [
        " 90000 rows...", 
        "comp634162_c3_seq4,DY254713,458,0.0,104,560", 
        "Parsed"
       ]
      }, 
      {
       "output_type": "stream", 
       "stream": "stdout", 
       "text": [
        " 100000 rows...", 
        "comp635376_c0_seq1,DW019583,401,0.0,1,401", 
        "Parsed"
       ]
      }, 
      {
       "output_type": "stream", 
       "stream": "stdout", 
       "text": [
        " 110000 rows...", 
        "comp636788_c7_seq19,EB398541,199,4e-101,339,537", 
        "Parsed"
       ]
      }, 
      {
       "output_type": "stream", 
       "stream": "stdout", 
       "text": [
        " 120000 rows...", 
        "comp637932_c0_seq23,FD711371,344,2e-179,2248,2591", 
        "Parsed"
       ]
      }, 
      {
       "output_type": "stream", 
       "stream": "stdout", 
       "text": [
        " 130000 rows...", 
        "comp639176_c0_seq6,FD721284,113,4e-33,1,112", 
        "Parsed"
       ]
      }, 
      {
       "output_type": "stream", 
       "stream": "stdout", 
       "text": [
        " 140000 rows...", 
        "comp640208_c3_seq7,EB395911,33,1e-08,768,800", 
        "Parsed"
       ]
      }, 
      {
       "output_type": "stream", 
       "stream": "stdout", 
       "text": [
        " 150000 rows...", 
        "comp640984_c2_seq4,FD723867,697,0.0,1,697", 
        "Parsed"
       ]
      }, 
      {
       "output_type": "stream", 
       "stream": "stdout", 
       "text": [
        " 160000 rows...", 
        "comp642108_c2_seq2,CO545282,237,1e-118,54,290", 
        "Parsed"
       ]
      }, 
      {
       "output_type": "stream", 
       "stream": "stdout", 
       "text": [
        " 170000 rows...", 
        "comp642931_c5_seq9,FD727945,70,7e-26,82,151", 
        "Parsed"
       ]
      }, 
      {
       "output_type": "stream", 
       "stream": "stdout", 
       "text": [
        " 180000 rows...", 
        "comp643803_c0_seq13,FD714948,713,3e-69,262,950", 
        "Parsed"
       ]
      }, 
      {
       "output_type": "stream", 
       "stream": "stdout", 
       "text": [
        " 190000 rows...", 
        "comp644709_c0_seq5,EE272638,667,0.0,3,662", 
        "Parsed"
       ]
      }, 
      {
       "output_type": "stream", 
       "stream": "stdout", 
       "text": [
        " 200000 rows...", 
        "comp645377_c2_seq4,EG332060,316,9e-165,17,332", 
        "Parsed"
       ]
      }, 
      {
       "output_type": "stream", 
       "stream": "stdout", 
       "text": [
        " 210000 rows...", 
        "comp646081_c1_seq3,EE272255,235,3e-90,1,233", 
        "Parsed"
       ]
      }, 
      {
       "output_type": "stream", 
       "stream": "stdout", 
       "text": [
        " 220000 rows...", 
        "comp646922_c4_seq2,FD724552,79,1e-30,1,79", 
        "Parsed"
       ]
      }, 
      {
       "output_type": "stream", 
       "stream": "stdout", 
       "text": [
        " 230000 rows...", 
        "comp647520_c3_seq3,EG330975,530,0.0,548,1072", 
        "Parsed"
       ]
      }, 
      {
       "output_type": "stream", 
       "stream": "stdout", 
       "text": [
        " 240000 rows...", 
        "comp648158_c1_seq17,CO546181,136,4e-66,263,398", 
        "Parsed"
       ]
      }, 
      {
       "output_type": "stream", 
       "stream": "stdout", 
       "text": [
        " 250000 rows...", 
        "comp648838_c0_seq1,EG338459,512,0.0,768,1268", 
        "Parsed"
       ]
      }, 
      {
       "output_type": "stream", 
       "stream": "stdout", 
       "text": [
        " 260000 rows...", 
        "comp649289_c0_seq20,DW024262,567,0.0,2282,2848", 
        "Parsed"
       ]
      }, 
      {
       "output_type": "stream", 
       "stream": "stdout", 
       "text": [
        " 270000 rows...", 
        "comp649687_c1_seq8,FD721935,84,1e-33,690,773", 
        "Parsed"
       ]
      }, 
      {
       "output_type": "stream", 
       "stream": "stdout", 
       "text": [
        " 280000 rows...", 
        "comp650054_c1_seq64,FD701872,32,8e-08,430,461", 
        "Parsed"
       ]
      }, 
      {
       "output_type": "stream", 
       "stream": "stdout", 
       "text": [
        " 290000 rows...", 
        "comp650524_c1_seq13,EB084140,201,8e-102,1212,1412", 
        "Parsed"
       ]
      }, 
      {
       "output_type": "stream", 
       "stream": "stdout", 
       "text": [
        " 300000 rows...", 
        "comp650968_c0_seq4,FD728077,745,0.0,1185,1928", 
        "Parsed"
       ]
      }, 
      {
       "output_type": "stream", 
       "stream": "stdout", 
       "text": [
        " 310000 rows...", 
        "comp651277_c1_seq18,EC382988,45,3e-15,1,45", 
        "Parsed"
       ]
      }, 
      {
       "output_type": "stream", 
       "stream": "stdout", 
       "text": [
        " 320000 rows...", 
        "comp651671_c1_seq4,FD701265,713,0.0,8,720", 
        "Parsed"
       ]
      }, 
      {
       "output_type": "stream", 
       "stream": "stdout", 
       "text": [
        " 330000 rows...", 
        "comp651970_c0_seq4,EB394329,308,2e-149,134,440", 
        "Parsed"
       ]
      }, 
      {
       "output_type": "stream", 
       "stream": "stdout", 
       "text": [
        " 340000 rows...", 
        "comp652334_c0_seq5,FD726827,55,6e-21,152,206", 
        "Parsed"
       ]
      }, 
      {
       "output_type": "stream", 
       "stream": "stdout", 
       "text": [
        " 350000 rows...", 
        "comp652602_c0_seq10,CO543951,225,1e-113,429,653", 
        "Parsed"
       ]
      }, 
      {
       "output_type": "stream", 
       "stream": "stdout", 
       "text": [
        " 360000 rows...", 
        "comp652845_c2_seq2,EE274215,393,0.0,739,1131", 
        "Parsed"
       ]
      }, 
      {
       "output_type": "stream", 
       "stream": "stdout", 
       "text": [
        " 370000 rows...", 
        "comp653080_c5_seq2,FD712441,48,6e-15,575,621", 
        "Parsed"
       ]
      }, 
      {
       "output_type": "stream", 
       "stream": "stdout", 
       "text": [
        " 380000 rows...", 
        "comp653235_c0_seq14,FD724006,744,0.0,2641,3383", 
        "Parsed"
       ]
      }, 
      {
       "output_type": "stream", 
       "stream": "stdout", 
       "text": [
        " 390000 rows...", 
        "comp653408_c0_seq94,FD723657,681,0.0,1570,2250", 
        "Parsed"
       ]
      }, 
      {
       "output_type": "stream", 
       "stream": "stdout", 
       "text": [
        " 400000 rows...", 
        "comp653585_c1_seq3,DY800459,468,0.0,872,1339", 
        "Parsed"
       ]
      }, 
      {
       "output_type": "stream", 
       "stream": "stdout", 
       "text": [
        " 410000 rows...", 
        "comp653762_c0_seq5,EE272559,380,0.0,1,380", 
        "Parsed"
       ]
      }, 
      {
       "output_type": "stream", 
       "stream": "stdout", 
       "text": [
        " 420000 rows...", 
        "comp653901_c0_seq1,FD722513,474,0.0,308,781", 
        "Parsed"
       ]
      }, 
      {
       "output_type": "stream", 
       "stream": "stdout", 
       "text": [
        " 430000 rows...", 
        "comp655184_c0_seq1,CO545461,231,2e-119,1,231", 
        "...done parsing 437567 hits."
       ]
      }, 
      {
       "output_type": "stream", 
       "stream": "stdout", 
       "text": [
        "", 
        "sorting hits by query...", 
        "sorted 437567 hits"
       ]
      }, 
      {
       "output_type": "stream", 
       "stream": "stdout", 
       "text": [
        "", 
        "partitioning hits by query...", 
        "...done!"
       ]
      }, 
      {
       "output_type": "stream", 
       "stream": "stdout", 
       "text": [
        "", 
        "89685 queries over 437567 hits", 
        "Reading sequences and associating hits...", 
        "...done!"
       ]
      }, 
      {
       "output_type": "stream", 
       "stream": "stdout", 
       "text": [
        ""
       ]
      }
     ], 
     "prompt_number": 78
    }, 
    {
     "cell_type": "code", 
     "collapsed": true, 
     "input": [
      "#petMar_mrna_hist = petMar_mrna_PS.histogram()", 
      "with open('data/petMar_mrna_parts.hist', 'wb') as outfp:", 
      "    for row in petMar_mrna_hist:", 
      "        outfp.write(row)"
     ], 
     "language": "python", 
     "outputs": [], 
     "prompt_number": 84
    }, 
    {
     "cell_type": "code", 
     "collapsed": false, 
     "input": [
      "dist = np.histogram(np.loadtxt('data/petMar_mrna_parts.hist',dtype=int,delimiter=\",\")[:,0], bins=1000)"
     ], 
     "language": "python", 
     "outputs": [], 
     "prompt_number": 105
    }, 
    {
     "cell_type": "code", 
     "collapsed": false, 
     "input": [
      "print dist[0]"
     ], 
     "language": "python", 
     "outputs": [
      {
       "output_type": "stream", 
       "stream": "stdout", 
       "text": [
        "[270 314 293 388 422 366 402 453 414 401 485 388 384 499 441 417 425 492", 
        " 476 459 424 450 513 452 409 570 524 473 469 533 629 527 530 579 598 673", 
        " 543 612 592 632 635 587 679 593 623 473 302 306 297 317 388 360 360 371", 
        " 437 373 402 451 421 383 450 469 453 413 441 503 418 418 458 478 477 448", 
        " 605 516 515 471 557 524 525 548 534 569 584 589 570 650 603 602 548 547", 
        " 265 286 318 320 364 332 309 337 440 353 431 408 348 400 468 409 411 373", 
        " 494 400 360 427 414 482 385 520 556 552 547 494 511 468 517 556 504 510", 
        " 510 488 496 507 483 451 264 224 249 234 271 311 261 259 302 378 369 387", 
        " 399 404 382 420 391 384 384 378 367 418 410 384 383 429 367 389 407 405", 
        " 413 374 410 371 371 395 375 379 365 349 373 273 187 221 239 241 274 320", 
        " 301 309 309 293 323 383 281 312 385 403 431 406 399 397 414 410 404 365", 
        " 419 417 392 408 411 425 419 399 386 420 416 429 423 390 432 309 211 237", 
        " 231 272 308 270 282 279 334 319 360 373 342 370 375 352 337 389 376 369", 
        " 386 370 396 359 353 344 347 393 384 375 386 375 353 400 379 364 363 368", 
        " 240 232 264 301 317 282 302 264 299 309 320 352 338 382 357 350 349 397", 
        " 379 341 414 419 490 433 438 430 458 459 493 535 585 538 518 535 510 506", 
        " 212 199 206 215 268 259 267 264 263 267 308 310 306 305 376 355 407 381", 
        " 345 397 383 373 394 369 358 353 404 362 341 360 360 333 411 399 378 269", 
        " 228 224 266 260 225 218 252 286 341 279 319 305 291 302 371 281 348 368", 
        " 334 374 378 399 375 386 391 432 436 403 396 396 414 421 418 200 182 235", 
        " 248 236 237 213 255 283 316 267 255 280 297 355 373 368 409 356 368 355", 
        " 330 382 343 360 366 361 340 375 389 368 358 197 183 214 244 256 254 239", 
        " 229 245 295 329 263 320 303 311 313 332 383 342 394 367 421 409 406 430", 
        " 406 366 443 470 453 490 161 183 214 255 202 207 214 226 254 216 223 238", 
        " 263 232 252 298 325 315 311 316 290 307 288 315 294 327 315 271 271 312", 
        " 333 120 146 144 159 219 216 239 240 223 266 231 223 240 209 261 230 215", 
        " 259 242 259 255 248 259 210 257 238 231 240 246 270 174 144 178 184 190", 
        " 202 181 213 237 261 244 252 280 239 325 298 339 311 340 299 305 361 353", 
        " 344 371 311 335 325 254 179 184 189 199 194 196 178 227 249 256 260 264", 
        " 281 272 316 320 337 376 392 404 435 376 399 401 416 416 156 162 164 177", 
        " 188 205 247 217 252 199 229 193 263 256 287 313 345 346 345 331 328 336", 
        " 324 321 312 175 166 172 181 190 214 247 196 214 211 228 287 259 270 312", 
        " 322 328 385 382 325 385 395 393 322 161 149 178 166 177 184 202 186 189", 
        " 202 207 242 226 282 310 272 286 320 300 282 372 405 318 133 168 150 183", 
        " 163 194 204 204 215 242 227 207 233 280 291 306 289 337 364 309 372 427", 
        " 133 160 188 168 165 180 196 221 238 226 231 214 275 266 298 348 315 316", 
        " 363 303 339 290 130 123 147 120 168 153 188 145 160 191 174 226 248 235", 
        " 250 293 244 240 336 182 127 129 154 140 158 177 184 181 201 195 221 213", 
        " 202 255 254 252 287 229 273 198  95 144 137 128 143 158 170 178 158 180", 
        " 211 201 224 212 231 203 280 262 157 107 110 119 123 133 123 167 187 175", 
        " 172 174 194 217 193 210 232 208 218 261 100  90 102 126 134 128 148 179", 
        " 164 145 186 194 221 230 193 239 212 193 149 102 101 105 106 146 138 130", 
        " 134 144 180 187 195 194 220 178 226  88  67 105 113 136 162 129 122 146", 
        " 137 120 147 126 126 147 132 157 103  89  97 104 129 135 138 140 140 179", 
        " 195 175 160 190 175 177  95  81  74  97 104  89 121 139 120 139 146 143", 
        " 154 196 200 213 162  67  75  68  96  83 139 147 125 131 120 121 119 132", 
        " 139  99  69  89  80  82 133 144 137 133 137 111 124 113 130  73  53  87", 
        "  83  85 106 119 111 101 116 125 132 120  71  47  73  91  94  69  85  93", 
        "  79  88 111  86  95  65  61  55  80  83 109 110 156 154 147 161 113  49", 
        "  65  76  72  93 129 137 105 126  80  59  61  93  67  94 115 182 199 171", 
        "  67  54  61  72  95 106 110 115 135 102  45  53  67  77 111 137 149  49", 
        "  46  61  71  98 108 122 119  58  41  47  52  73  84  76  89  51  53  31", 
        "  51  38  48  47  50  55  49  63 101 122 154  37  52  52  74 107  90  24", 
        "  35  61  67  81  54  35  46  45  34  38  32  39  61 100  68  44  59 108", 
        "  32  28  32  41  24  21  54  73  30  23  41  37  44  36  25  35  42  24", 
        "  39  30  36  38  29  17  10  29  12  14]"
       ]
      }
     ], 
     "prompt_number": 111
    }, 
    {
     "cell_type": "code", 
     "collapsed": false, 
     "input": [], 
     "language": "python", 
     "outputs": [
      {
       "output_type": "stream", 
       "stream": "stdout", 
       "text": [
        "[     1      1      1 ...,     53     66 357549]"
       ]
      }
     ], 
     "prompt_number": 102
    }, 
    {
     "cell_type": "code", 
     "collapsed": true, 
     "input": [], 
     "language": "python", 
     "outputs": []
    }
   ]
  }
 ]
}